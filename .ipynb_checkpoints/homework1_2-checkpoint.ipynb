{
 "cells": [
  {
   "cell_type": "markdown",
   "metadata": {},
   "source": [
    "We will begin by importing the packages required for this assignment. "
   ]
  },
  {
   "cell_type": "code",
   "execution_count": 1,
   "metadata": {},
   "outputs": [],
   "source": [
    "\n",
    "#Import package pandas for data analysis\n",
    "import pandas as pd\n",
    "\n",
    "# Import package numpy for numeric computing\n",
    "import numpy as np\n",
    "\n",
    "# Import package matplotlib for visualisation/plotting\n",
    "import matplotlib.pyplot as plt\n",
    "\n",
    "#For showing plots directly in the notebook run the command below\n",
    "%matplotlib inline\n",
    "\n",
    "# For saving multiple plots into a single pdf file\n",
    "from matplotlib.backends.backend_pdf import PdfPages\n",
    "\n",
    "import seaborn as sns\n",
    "import matplotlib.patches as mpatches\n",
    "\n",
    "# hide ipykernel warnings \n",
    "import warnings\n",
    "warnings.filterwarnings('ignore')\n",
    "%matplotlib inline"
   ]
  },
  {
   "cell_type": "markdown",
   "metadata": {},
   "source": [
    "We will now read the data from a csv file. "
   ]
  },
  {
   "cell_type": "code",
   "execution_count": 2,
   "metadata": {},
   "outputs": [],
   "source": [
    "# Reading from a csv file, into a data frame\n",
    "df = pd.read_csv('AnimalWelfareRisk-19205514.csv')"
   ]
  },
  {
   "cell_type": "markdown",
   "metadata": {},
   "source": [
    "# (1) Prepare a data quality report for the csv file."
   ]
  },
  {
   "cell_type": "markdown",
   "metadata": {},
   "source": [
    "### Check shape of csv file"
   ]
  },
  {
   "cell_type": "code",
   "execution_count": 3,
   "metadata": {},
   "outputs": [
    {
     "data": {
      "text/plain": [
       "(1000, 22)"
      ]
     },
     "execution_count": 3,
     "metadata": {},
     "output_type": "execute_result"
    }
   ],
   "source": [
    "# This checks how many rows and columns this dataframe has\n",
    "df.shape"
   ]
  },
  {
   "cell_type": "markdown",
   "metadata": {},
   "source": [
    "This tells us the dataset has 1000 rows and 22 columns. "
   ]
  },
  {
   "cell_type": "markdown",
   "metadata": {},
   "source": [
    "### Print the first and last 5 rows of CSV file."
   ]
  },
  {
   "cell_type": "markdown",
   "metadata": {},
   "source": [
    "We will now print the first and last 5 rows of the dataset. "
   ]
  },
  {
   "cell_type": "code",
   "execution_count": 4,
   "metadata": {},
   "outputs": [
    {
     "data": {
      "text/html": [
       "<div>\n",
       "<style scoped>\n",
       "    .dataframe tbody tr th:only-of-type {\n",
       "        vertical-align: middle;\n",
       "    }\n",
       "\n",
       "    .dataframe tbody tr th {\n",
       "        vertical-align: top;\n",
       "    }\n",
       "\n",
       "    .dataframe thead th {\n",
       "        text-align: right;\n",
       "    }\n",
       "</style>\n",
       "<table border=\"1\" class=\"dataframe\">\n",
       "  <thead>\n",
       "    <tr style=\"text-align: right;\">\n",
       "      <th></th>\n",
       "      <th>Animal ID</th>\n",
       "      <th>Name_Intake</th>\n",
       "      <th>DateTime_Intake</th>\n",
       "      <th>MonthYear_Intake</th>\n",
       "      <th>Found Location</th>\n",
       "      <th>Intake Type</th>\n",
       "      <th>Intake Condition</th>\n",
       "      <th>Animal Type_Intake</th>\n",
       "      <th>Sex upon Intake</th>\n",
       "      <th>Age upon Intake</th>\n",
       "      <th>...</th>\n",
       "      <th>Name_Outcome</th>\n",
       "      <th>DateTime_Outcome</th>\n",
       "      <th>MonthYear_Outcome</th>\n",
       "      <th>Date of Birth</th>\n",
       "      <th>Animal Type_Outcome</th>\n",
       "      <th>Sex upon Outcome</th>\n",
       "      <th>Age upon Outcome</th>\n",
       "      <th>Breed_Outcome</th>\n",
       "      <th>Color_Outcome</th>\n",
       "      <th>binary_outcome</th>\n",
       "    </tr>\n",
       "  </thead>\n",
       "  <tbody>\n",
       "    <tr>\n",
       "      <td>0</td>\n",
       "      <td>A687076</td>\n",
       "      <td>Katy</td>\n",
       "      <td>08/30/2014 05:55:00 PM</td>\n",
       "      <td>08/30/2014 05:55:00 PM</td>\n",
       "      <td>Acorn Oaks And Cooper in Austin (TX)</td>\n",
       "      <td>Stray</td>\n",
       "      <td>Normal</td>\n",
       "      <td>Cat</td>\n",
       "      <td>Intact Female</td>\n",
       "      <td>2 months</td>\n",
       "      <td>...</td>\n",
       "      <td>Katy</td>\n",
       "      <td>09/05/2014 14:33</td>\n",
       "      <td>09/05/2014 14:33</td>\n",
       "      <td>06/15/2014</td>\n",
       "      <td>Cat</td>\n",
       "      <td>Spayed Female</td>\n",
       "      <td>2 months</td>\n",
       "      <td>Domestic Shorthair Mix</td>\n",
       "      <td>Torbie</td>\n",
       "      <td>0</td>\n",
       "    </tr>\n",
       "    <tr>\n",
       "      <td>1</td>\n",
       "      <td>A685139</td>\n",
       "      <td>NaN</td>\n",
       "      <td>08/03/2014 11:23</td>\n",
       "      <td>08/03/2014 11:23</td>\n",
       "      <td>Pleasant Valley/Oltorf in Austin (TX)</td>\n",
       "      <td>Stray</td>\n",
       "      <td>Other</td>\n",
       "      <td>Dog</td>\n",
       "      <td>Intact Female</td>\n",
       "      <td>3 months</td>\n",
       "      <td>...</td>\n",
       "      <td>NaN</td>\n",
       "      <td>08/07/2014 18:09</td>\n",
       "      <td>08/07/2014 18:09</td>\n",
       "      <td>05/03/2014</td>\n",
       "      <td>Dog</td>\n",
       "      <td>Spayed Female</td>\n",
       "      <td>3 months</td>\n",
       "      <td>Cavalier Span Mix</td>\n",
       "      <td>White/Black</td>\n",
       "      <td>0</td>\n",
       "    </tr>\n",
       "    <tr>\n",
       "      <td>2</td>\n",
       "      <td>A741039</td>\n",
       "      <td>Dexter</td>\n",
       "      <td>12/27/2016 11:18:00 AM</td>\n",
       "      <td>12/27/2016 11:18:00 AM</td>\n",
       "      <td>12Th St And Airport Blvd in Austin (TX)</td>\n",
       "      <td>Stray</td>\n",
       "      <td>Normal</td>\n",
       "      <td>Dog</td>\n",
       "      <td>Intact Male</td>\n",
       "      <td>1 year</td>\n",
       "      <td>...</td>\n",
       "      <td>Dexter</td>\n",
       "      <td>01/01/2017 15:27</td>\n",
       "      <td>01/01/2017 15:27</td>\n",
       "      <td>12/27/2015</td>\n",
       "      <td>Dog</td>\n",
       "      <td>Intact Male</td>\n",
       "      <td>1 year</td>\n",
       "      <td>Jack Russell Terrier</td>\n",
       "      <td>Black/White</td>\n",
       "      <td>0</td>\n",
       "    </tr>\n",
       "    <tr>\n",
       "      <td>3</td>\n",
       "      <td>A759166</td>\n",
       "      <td>Archie</td>\n",
       "      <td>09/28/2017 11:03:00 AM</td>\n",
       "      <td>09/28/2017 11:03:00 AM</td>\n",
       "      <td>Brockman And Pompton in Austin (TX)</td>\n",
       "      <td>Stray</td>\n",
       "      <td>Normal</td>\n",
       "      <td>Cat</td>\n",
       "      <td>Intact Male</td>\n",
       "      <td>2 months</td>\n",
       "      <td>...</td>\n",
       "      <td>Archie</td>\n",
       "      <td>11/04/2017 18:11</td>\n",
       "      <td>11/04/2017 18:11</td>\n",
       "      <td>07/28/2017</td>\n",
       "      <td>Cat</td>\n",
       "      <td>Neutered Male</td>\n",
       "      <td>3 months</td>\n",
       "      <td>Domestic Shorthair</td>\n",
       "      <td>Black</td>\n",
       "      <td>0</td>\n",
       "    </tr>\n",
       "    <tr>\n",
       "      <td>4</td>\n",
       "      <td>A696479</td>\n",
       "      <td>Chocolate</td>\n",
       "      <td>02/05/2015 11:51</td>\n",
       "      <td>02/05/2015 11:51</td>\n",
       "      <td>3012 Guerrero Dr in Travis (TX)</td>\n",
       "      <td>Stray</td>\n",
       "      <td>Normal</td>\n",
       "      <td>Cat</td>\n",
       "      <td>Intact Male</td>\n",
       "      <td>1 year</td>\n",
       "      <td>...</td>\n",
       "      <td>Chocolate</td>\n",
       "      <td>02/15/2015 11:39:00 AM</td>\n",
       "      <td>02/15/2015 11:39:00 AM</td>\n",
       "      <td>02/05/2014</td>\n",
       "      <td>Cat</td>\n",
       "      <td>Neutered Male</td>\n",
       "      <td>1 year</td>\n",
       "      <td>Domestic Medium Hair Mix</td>\n",
       "      <td>Black</td>\n",
       "      <td>0</td>\n",
       "    </tr>\n",
       "  </tbody>\n",
       "</table>\n",
       "<p>5 rows × 22 columns</p>\n",
       "</div>"
      ],
      "text/plain": [
       "  Animal ID Name_Intake         DateTime_Intake        MonthYear_Intake  \\\n",
       "0   A687076        Katy  08/30/2014 05:55:00 PM  08/30/2014 05:55:00 PM   \n",
       "1   A685139         NaN        08/03/2014 11:23        08/03/2014 11:23   \n",
       "2   A741039      Dexter  12/27/2016 11:18:00 AM  12/27/2016 11:18:00 AM   \n",
       "3   A759166      Archie  09/28/2017 11:03:00 AM  09/28/2017 11:03:00 AM   \n",
       "4   A696479   Chocolate        02/05/2015 11:51        02/05/2015 11:51   \n",
       "\n",
       "                            Found Location Intake Type Intake Condition  \\\n",
       "0     Acorn Oaks And Cooper in Austin (TX)       Stray           Normal   \n",
       "1    Pleasant Valley/Oltorf in Austin (TX)       Stray            Other   \n",
       "2  12Th St And Airport Blvd in Austin (TX)       Stray           Normal   \n",
       "3      Brockman And Pompton in Austin (TX)       Stray           Normal   \n",
       "4          3012 Guerrero Dr in Travis (TX)       Stray           Normal   \n",
       "\n",
       "  Animal Type_Intake Sex upon Intake Age upon Intake  ... Name_Outcome  \\\n",
       "0                Cat   Intact Female        2 months  ...         Katy   \n",
       "1                Dog   Intact Female        3 months  ...          NaN   \n",
       "2                Dog     Intact Male          1 year  ...       Dexter   \n",
       "3                Cat     Intact Male        2 months  ...       Archie   \n",
       "4                Cat     Intact Male          1 year  ...    Chocolate   \n",
       "\n",
       "         DateTime_Outcome       MonthYear_Outcome Date of Birth  \\\n",
       "0        09/05/2014 14:33        09/05/2014 14:33    06/15/2014   \n",
       "1        08/07/2014 18:09        08/07/2014 18:09    05/03/2014   \n",
       "2        01/01/2017 15:27        01/01/2017 15:27    12/27/2015   \n",
       "3        11/04/2017 18:11        11/04/2017 18:11    07/28/2017   \n",
       "4  02/15/2015 11:39:00 AM  02/15/2015 11:39:00 AM    02/05/2014   \n",
       "\n",
       "  Animal Type_Outcome Sex upon Outcome Age upon Outcome  \\\n",
       "0                 Cat    Spayed Female         2 months   \n",
       "1                 Dog    Spayed Female         3 months   \n",
       "2                 Dog      Intact Male           1 year   \n",
       "3                 Cat    Neutered Male         3 months   \n",
       "4                 Cat    Neutered Male           1 year   \n",
       "\n",
       "              Breed_Outcome Color_Outcome binary_outcome  \n",
       "0    Domestic Shorthair Mix        Torbie              0  \n",
       "1         Cavalier Span Mix   White/Black              0  \n",
       "2      Jack Russell Terrier   Black/White              0  \n",
       "3        Domestic Shorthair         Black              0  \n",
       "4  Domestic Medium Hair Mix         Black              0  \n",
       "\n",
       "[5 rows x 22 columns]"
      ]
     },
     "execution_count": 4,
     "metadata": {},
     "output_type": "execute_result"
    }
   ],
   "source": [
    "# print first 5 rows\n",
    "df.head(5)"
   ]
  },
  {
   "cell_type": "code",
   "execution_count": 5,
   "metadata": {},
   "outputs": [
    {
     "data": {
      "text/html": [
       "<div>\n",
       "<style scoped>\n",
       "    .dataframe tbody tr th:only-of-type {\n",
       "        vertical-align: middle;\n",
       "    }\n",
       "\n",
       "    .dataframe tbody tr th {\n",
       "        vertical-align: top;\n",
       "    }\n",
       "\n",
       "    .dataframe thead th {\n",
       "        text-align: right;\n",
       "    }\n",
       "</style>\n",
       "<table border=\"1\" class=\"dataframe\">\n",
       "  <thead>\n",
       "    <tr style=\"text-align: right;\">\n",
       "      <th></th>\n",
       "      <th>Animal ID</th>\n",
       "      <th>Name_Intake</th>\n",
       "      <th>DateTime_Intake</th>\n",
       "      <th>MonthYear_Intake</th>\n",
       "      <th>Found Location</th>\n",
       "      <th>Intake Type</th>\n",
       "      <th>Intake Condition</th>\n",
       "      <th>Animal Type_Intake</th>\n",
       "      <th>Sex upon Intake</th>\n",
       "      <th>Age upon Intake</th>\n",
       "      <th>...</th>\n",
       "      <th>Name_Outcome</th>\n",
       "      <th>DateTime_Outcome</th>\n",
       "      <th>MonthYear_Outcome</th>\n",
       "      <th>Date of Birth</th>\n",
       "      <th>Animal Type_Outcome</th>\n",
       "      <th>Sex upon Outcome</th>\n",
       "      <th>Age upon Outcome</th>\n",
       "      <th>Breed_Outcome</th>\n",
       "      <th>Color_Outcome</th>\n",
       "      <th>binary_outcome</th>\n",
       "    </tr>\n",
       "  </thead>\n",
       "  <tbody>\n",
       "    <tr>\n",
       "      <td>995</td>\n",
       "      <td>A801041</td>\n",
       "      <td>*Polly</td>\n",
       "      <td>07/30/2019 01:22:00 PM</td>\n",
       "      <td>07/30/2019 01:22:00 PM</td>\n",
       "      <td>508 Howard Lane in Austin (TX)</td>\n",
       "      <td>Stray</td>\n",
       "      <td>Normal</td>\n",
       "      <td>Cat</td>\n",
       "      <td>Intact Female</td>\n",
       "      <td>4 weeks</td>\n",
       "      <td>...</td>\n",
       "      <td>*Polly</td>\n",
       "      <td>08/04/2019 13:03</td>\n",
       "      <td>08/04/2019 13:03</td>\n",
       "      <td>07/01/2019</td>\n",
       "      <td>Cat</td>\n",
       "      <td>Intact Female</td>\n",
       "      <td>4 weeks</td>\n",
       "      <td>Domestic Shorthair</td>\n",
       "      <td>Black</td>\n",
       "      <td>0</td>\n",
       "    </tr>\n",
       "    <tr>\n",
       "      <td>996</td>\n",
       "      <td>A795559</td>\n",
       "      <td>Precious</td>\n",
       "      <td>07/26/2019 11:04:00 AM</td>\n",
       "      <td>07/26/2019 11:04:00 AM</td>\n",
       "      <td>2450 Wickersham Ln in Austin (TX)</td>\n",
       "      <td>Stray</td>\n",
       "      <td>Normal</td>\n",
       "      <td>Dog</td>\n",
       "      <td>Intact Female</td>\n",
       "      <td>1 year</td>\n",
       "      <td>...</td>\n",
       "      <td>Precious</td>\n",
       "      <td>08/07/2019 06:54</td>\n",
       "      <td>08/07/2019 06:54</td>\n",
       "      <td>05/22/2018</td>\n",
       "      <td>Dog</td>\n",
       "      <td>Intact Female</td>\n",
       "      <td>1 year</td>\n",
       "      <td>Pit Bull</td>\n",
       "      <td>Black/White</td>\n",
       "      <td>0</td>\n",
       "    </tr>\n",
       "    <tr>\n",
       "      <td>997</td>\n",
       "      <td>A681271</td>\n",
       "      <td>NaN</td>\n",
       "      <td>06/14/2014 12:17:00 PM</td>\n",
       "      <td>06/14/2014 12:17:00 PM</td>\n",
       "      <td>7101 Appaloosa Ct in Travis (TX)</td>\n",
       "      <td>Stray</td>\n",
       "      <td>Normal</td>\n",
       "      <td>Cat</td>\n",
       "      <td>Intact Female</td>\n",
       "      <td>3 weeks</td>\n",
       "      <td>...</td>\n",
       "      <td>NaN</td>\n",
       "      <td>06/14/2014 04:16:00 PM</td>\n",
       "      <td>06/14/2014 04:16:00 PM</td>\n",
       "      <td>05/23/2014</td>\n",
       "      <td>Cat</td>\n",
       "      <td>Intact Female</td>\n",
       "      <td>3 weeks</td>\n",
       "      <td>Domestic Shorthair Mix</td>\n",
       "      <td>Cream Tabby</td>\n",
       "      <td>0</td>\n",
       "    </tr>\n",
       "    <tr>\n",
       "      <td>998</td>\n",
       "      <td>A718548</td>\n",
       "      <td>Bennett Ned</td>\n",
       "      <td>01/01/2016 23:40</td>\n",
       "      <td>01/01/2016 23:40</td>\n",
       "      <td>1425  Wells Branch in Austin (TX)</td>\n",
       "      <td>Stray</td>\n",
       "      <td>Normal</td>\n",
       "      <td>Dog</td>\n",
       "      <td>Neutered Male</td>\n",
       "      <td>3 years</td>\n",
       "      <td>...</td>\n",
       "      <td>Bennett Ned</td>\n",
       "      <td>03/19/2016 12:44:00 PM</td>\n",
       "      <td>03/19/2016 12:44:00 PM</td>\n",
       "      <td>01/01/2013</td>\n",
       "      <td>Dog</td>\n",
       "      <td>Neutered Male</td>\n",
       "      <td>3 years</td>\n",
       "      <td>Labrador Retriever Mix</td>\n",
       "      <td>Brown/White</td>\n",
       "      <td>0</td>\n",
       "    </tr>\n",
       "    <tr>\n",
       "      <td>999</td>\n",
       "      <td>A715118</td>\n",
       "      <td>*Archie</td>\n",
       "      <td>10/31/2015 03:16:00 PM</td>\n",
       "      <td>10/31/2015 03:16:00 PM</td>\n",
       "      <td>Manchaca And Slaughter in Austin (TX)</td>\n",
       "      <td>Stray</td>\n",
       "      <td>Normal</td>\n",
       "      <td>Cat</td>\n",
       "      <td>Intact Male</td>\n",
       "      <td>4 weeks</td>\n",
       "      <td>...</td>\n",
       "      <td>*Archie</td>\n",
       "      <td>11/02/2015 14:02</td>\n",
       "      <td>11/02/2015 14:02</td>\n",
       "      <td>09/28/2015</td>\n",
       "      <td>Cat</td>\n",
       "      <td>Intact Male</td>\n",
       "      <td>5 weeks</td>\n",
       "      <td>Domestic Shorthair Mix</td>\n",
       "      <td>Orange Tabby</td>\n",
       "      <td>0</td>\n",
       "    </tr>\n",
       "  </tbody>\n",
       "</table>\n",
       "<p>5 rows × 22 columns</p>\n",
       "</div>"
      ],
      "text/plain": [
       "    Animal ID  Name_Intake         DateTime_Intake        MonthYear_Intake  \\\n",
       "995   A801041       *Polly  07/30/2019 01:22:00 PM  07/30/2019 01:22:00 PM   \n",
       "996   A795559     Precious  07/26/2019 11:04:00 AM  07/26/2019 11:04:00 AM   \n",
       "997   A681271          NaN  06/14/2014 12:17:00 PM  06/14/2014 12:17:00 PM   \n",
       "998   A718548  Bennett Ned        01/01/2016 23:40        01/01/2016 23:40   \n",
       "999   A715118      *Archie  10/31/2015 03:16:00 PM  10/31/2015 03:16:00 PM   \n",
       "\n",
       "                            Found Location Intake Type Intake Condition  \\\n",
       "995         508 Howard Lane in Austin (TX)       Stray           Normal   \n",
       "996      2450 Wickersham Ln in Austin (TX)       Stray           Normal   \n",
       "997       7101 Appaloosa Ct in Travis (TX)       Stray           Normal   \n",
       "998      1425  Wells Branch in Austin (TX)       Stray           Normal   \n",
       "999  Manchaca And Slaughter in Austin (TX)       Stray           Normal   \n",
       "\n",
       "    Animal Type_Intake Sex upon Intake Age upon Intake  ... Name_Outcome  \\\n",
       "995                Cat   Intact Female         4 weeks  ...       *Polly   \n",
       "996                Dog   Intact Female          1 year  ...     Precious   \n",
       "997                Cat   Intact Female         3 weeks  ...          NaN   \n",
       "998                Dog   Neutered Male         3 years  ...  Bennett Ned   \n",
       "999                Cat     Intact Male         4 weeks  ...      *Archie   \n",
       "\n",
       "           DateTime_Outcome       MonthYear_Outcome Date of Birth  \\\n",
       "995        08/04/2019 13:03        08/04/2019 13:03    07/01/2019   \n",
       "996        08/07/2019 06:54        08/07/2019 06:54    05/22/2018   \n",
       "997  06/14/2014 04:16:00 PM  06/14/2014 04:16:00 PM    05/23/2014   \n",
       "998  03/19/2016 12:44:00 PM  03/19/2016 12:44:00 PM    01/01/2013   \n",
       "999        11/02/2015 14:02        11/02/2015 14:02    09/28/2015   \n",
       "\n",
       "    Animal Type_Outcome Sex upon Outcome Age upon Outcome  \\\n",
       "995                 Cat    Intact Female          4 weeks   \n",
       "996                 Dog    Intact Female           1 year   \n",
       "997                 Cat    Intact Female          3 weeks   \n",
       "998                 Dog    Neutered Male          3 years   \n",
       "999                 Cat      Intact Male          5 weeks   \n",
       "\n",
       "              Breed_Outcome Color_Outcome binary_outcome  \n",
       "995      Domestic Shorthair         Black              0  \n",
       "996                Pit Bull   Black/White              0  \n",
       "997  Domestic Shorthair Mix   Cream Tabby              0  \n",
       "998  Labrador Retriever Mix   Brown/White              0  \n",
       "999  Domestic Shorthair Mix  Orange Tabby              0  \n",
       "\n",
       "[5 rows x 22 columns]"
      ]
     },
     "execution_count": 5,
     "metadata": {},
     "output_type": "execute_result"
    }
   ],
   "source": [
    "#print last 5 rows\n",
    "df.tail(5)"
   ]
  },
  {
   "cell_type": "markdown",
   "metadata": {},
   "source": [
    "### Convert the features to their appropriate data type. "
   ]
  },
  {
   "cell_type": "markdown",
   "metadata": {},
   "source": [
    "The features will now be converted to their appropriate datatype. "
   ]
  },
  {
   "cell_type": "code",
   "execution_count": 6,
   "metadata": {},
   "outputs": [
    {
     "data": {
      "text/plain": [
       "Animal ID              object\n",
       "Name_Intake            object\n",
       "DateTime_Intake        object\n",
       "MonthYear_Intake       object\n",
       "Found Location         object\n",
       "Intake Type            object\n",
       "Intake Condition       object\n",
       "Animal Type_Intake     object\n",
       "Sex upon Intake        object\n",
       "Age upon Intake        object\n",
       "Breed_Intake           object\n",
       "Color_Intake           object\n",
       "Name_Outcome           object\n",
       "DateTime_Outcome       object\n",
       "MonthYear_Outcome      object\n",
       "Date of Birth          object\n",
       "Animal Type_Outcome    object\n",
       "Sex upon Outcome       object\n",
       "Age upon Outcome       object\n",
       "Breed_Outcome          object\n",
       "Color_Outcome          object\n",
       "binary_outcome          int64\n",
       "dtype: object"
      ]
     },
     "execution_count": 6,
     "metadata": {},
     "output_type": "execute_result"
    }
   ],
   "source": [
    "#show the datatype of each feature\n",
    "df.dtypes"
   ]
  },
  {
   "cell_type": "markdown",
   "metadata": {},
   "source": [
    "Before converting any datatypes we shall first remove any whitespaces after or in the feature names. "
   ]
  },
  {
   "cell_type": "code",
   "execution_count": 7,
   "metadata": {},
   "outputs": [
    {
     "data": {
      "text/plain": [
       "Index(['AnimalID', 'Name_Intake', 'DateTime_Intake', 'MonthYear_Intake',\n",
       "       'FoundLocation', 'IntakeType', 'IntakeCondition', 'AnimalType_Intake',\n",
       "       'SexuponIntake', 'AgeuponIntake', 'Breed_Intake', 'Color_Intake',\n",
       "       'Name_Outcome', 'DateTime_Outcome', 'MonthYear_Outcome', 'DateofBirth',\n",
       "       'AnimalType_Outcome', 'SexuponOutcome', 'AgeuponOutcome',\n",
       "       'Breed_Outcome', 'Color_Outcome', 'binary_outcome'],\n",
       "      dtype='object')"
      ]
     },
     "execution_count": 7,
     "metadata": {},
     "output_type": "execute_result"
    }
   ],
   "source": [
    "#remove whitespace in or around feature names\n",
    "df.columns = df.columns.str.replace(' ', '')\n",
    "\n",
    "#check to ensure whitespaces have been removed\n",
    "df.columns"
   ]
  },
  {
   "cell_type": "markdown",
   "metadata": {},
   "source": [
    "Based on an initial examination of the dataset in Excel, we can see that there are no continuous features. Five of the features are datetime objects. \n",
    " -  *'binary_outcome'* shall be converted to categorical as it only has two possible values, 0 or 1 and it does not make sense to compute summary statistics on it. \n",
    " - *'DateTime_Intake', 'MonthYear_Intake', 'DateTime_Outcome', 'MonthYear_Outcome', 'DateofBirth'* shall be converted to datetime type.\n",
    " - *'AnimalID'* appears to be unique for all animals. If this is the case it shall be converted to an object type. \n",
    " - All other features shall be converted to category type. "
   ]
  },
  {
   "cell_type": "code",
   "execution_count": 8,
   "metadata": {},
   "outputs": [
    {
     "data": {
      "text/plain": [
       "array([0, 1])"
      ]
     },
     "execution_count": 8,
     "metadata": {},
     "output_type": "execute_result"
    }
   ],
   "source": [
    "#confirm that there are only two unqiue values for 'binary_outcome'\n",
    "df['binary_outcome'].unique()"
   ]
  },
  {
   "cell_type": "code",
   "execution_count": 9,
   "metadata": {},
   "outputs": [],
   "source": [
    "#convert binary outcome to category\n",
    "df['binary_outcome'] = df['binary_outcome'].astype('category')"
   ]
  },
  {
   "cell_type": "code",
   "execution_count": 10,
   "metadata": {},
   "outputs": [
    {
     "data": {
      "text/plain": [
       "AnimalID                      object\n",
       "Name_Intake                   object\n",
       "DateTime_Intake       datetime64[ns]\n",
       "MonthYear_Intake      datetime64[ns]\n",
       "FoundLocation                 object\n",
       "IntakeType                    object\n",
       "IntakeCondition               object\n",
       "AnimalType_Intake             object\n",
       "SexuponIntake                 object\n",
       "AgeuponIntake                 object\n",
       "Breed_Intake                  object\n",
       "Color_Intake                  object\n",
       "Name_Outcome                  object\n",
       "DateTime_Outcome      datetime64[ns]\n",
       "MonthYear_Outcome     datetime64[ns]\n",
       "DateofBirth           datetime64[ns]\n",
       "AnimalType_Outcome            object\n",
       "SexuponOutcome                object\n",
       "AgeuponOutcome                object\n",
       "Breed_Outcome                 object\n",
       "Color_Outcome                 object\n",
       "binary_outcome              category\n",
       "dtype: object"
      ]
     },
     "execution_count": 10,
     "metadata": {},
     "output_type": "execute_result"
    }
   ],
   "source": [
    "#convert all date features to datetime types\n",
    "date_columns = ['DateTime_Intake','MonthYear_Intake', 'DateTime_Outcome' ,'MonthYear_Outcome'\n",
    "               , 'DateofBirth']\n",
    "for column in date_columns: \n",
    "    df[column] = df[column].astype('datetime64')\n",
    "df.dtypes "
   ]
  },
  {
   "cell_type": "code",
   "execution_count": 11,
   "metadata": {},
   "outputs": [
    {
     "data": {
      "text/plain": [
       "AnimalID                    category\n",
       "Name_Intake                 category\n",
       "DateTime_Intake       datetime64[ns]\n",
       "MonthYear_Intake      datetime64[ns]\n",
       "FoundLocation               category\n",
       "IntakeType                  category\n",
       "IntakeCondition             category\n",
       "AnimalType_Intake           category\n",
       "SexuponIntake               category\n",
       "AgeuponIntake               category\n",
       "Breed_Intake                category\n",
       "Color_Intake                category\n",
       "Name_Outcome                category\n",
       "DateTime_Outcome      datetime64[ns]\n",
       "MonthYear_Outcome     datetime64[ns]\n",
       "DateofBirth           datetime64[ns]\n",
       "AnimalType_Outcome          category\n",
       "SexuponOutcome              category\n",
       "AgeuponOutcome              category\n",
       "Breed_Outcome               category\n",
       "Color_Outcome               category\n",
       "binary_outcome              category\n",
       "dtype: object"
      ]
     },
     "execution_count": 11,
     "metadata": {},
     "output_type": "execute_result"
    }
   ],
   "source": [
    "#convert all remaining features which are currently object\n",
    "# to category type\n",
    "object_columns = df.select_dtypes(['object']).columns\n",
    "\n",
    "#Convert selected columns to type 'category'\n",
    "for column in object_columns:\n",
    "    df[column] = df[column].astype('category')\n",
    "df.dtypes "
   ]
  },
  {
   "cell_type": "code",
   "execution_count": 12,
   "metadata": {},
   "outputs": [
    {
     "data": {
      "text/plain": [
       "1000"
      ]
     },
     "execution_count": 12,
     "metadata": {},
     "output_type": "execute_result"
    }
   ],
   "source": [
    "#confirm whether the animalID has 1000 unique features\n",
    "len(df['AnimalID'].unique())"
   ]
  },
  {
   "cell_type": "markdown",
   "metadata": {},
   "source": [
    "We can see that the feature *'AnimalID'* does indeed have 1000 unique values. As a result, it will not be helpful to perform any descriptive statistics or analysis with this feature. It shall be converted to an object tpye."
   ]
  },
  {
   "cell_type": "code",
   "execution_count": 13,
   "metadata": {},
   "outputs": [],
   "source": [
    "#change 'Animal ID' to an object type so that it is not used in descriptive statistics.\n",
    "df['AnimalID'] = df['AnimalID'].astype('object')"
   ]
  },
  {
   "cell_type": "markdown",
   "metadata": {},
   "source": [
    "In the cell below we look at the datatypes to ensure that they have been converted correctly. \n"
   ]
  },
  {
   "cell_type": "code",
   "execution_count": 14,
   "metadata": {},
   "outputs": [
    {
     "data": {
      "text/plain": [
       "AnimalID                      object\n",
       "Name_Intake                 category\n",
       "DateTime_Intake       datetime64[ns]\n",
       "MonthYear_Intake      datetime64[ns]\n",
       "FoundLocation               category\n",
       "IntakeType                  category\n",
       "IntakeCondition             category\n",
       "AnimalType_Intake           category\n",
       "SexuponIntake               category\n",
       "AgeuponIntake               category\n",
       "Breed_Intake                category\n",
       "Color_Intake                category\n",
       "Name_Outcome                category\n",
       "DateTime_Outcome      datetime64[ns]\n",
       "MonthYear_Outcome     datetime64[ns]\n",
       "DateofBirth           datetime64[ns]\n",
       "AnimalType_Outcome          category\n",
       "SexuponOutcome              category\n",
       "AgeuponOutcome              category\n",
       "Breed_Outcome               category\n",
       "Color_Outcome               category\n",
       "binary_outcome              category\n",
       "dtype: object"
      ]
     },
     "execution_count": 14,
     "metadata": {},
     "output_type": "execute_result"
    }
   ],
   "source": [
    "df.dtypes"
   ]
  },
  {
   "cell_type": "markdown",
   "metadata": {},
   "source": [
    "### Check for Duplicate rows/columns\n",
    "\n",
    "**Rows**"
   ]
  },
  {
   "cell_type": "code",
   "execution_count": 15,
   "metadata": {},
   "outputs": [
    {
     "name": "stdout",
     "output_type": "stream",
     "text": [
      "Number of duplicate (excluding first) rows in the table is:  0\n",
      "Number of duplicate rows (including first) in the table is: 0\n"
     ]
    }
   ],
   "source": [
    "#check for duplicate rows\n",
    "\n",
    "#Print the number of duplicates, without the original rows that were duplicated\n",
    "print('Number of duplicate (excluding first) rows in the table is: ', df.duplicated().sum())\n",
    "\n",
    "# Use \"keep=False\" to mark all duplicates as true, including the original rows that were duplicated.\n",
    "print('Number of duplicate rows (including first) in the table is:', df[df.duplicated(keep=False)].shape[0])"
   ]
  },
  {
   "cell_type": "markdown",
   "metadata": {},
   "source": [
    "**Columns**"
   ]
  },
  {
   "cell_type": "code",
   "execution_count": 16,
   "metadata": {},
   "outputs": [
    {
     "name": "stdout",
     "output_type": "stream",
     "text": [
      "Number of duplicate (excluding first) columns in the table is:  6\n",
      "Number of duplicate (including first) columns in the table is:  12\n",
      "Duplpicated columns will be True:  AnimalID              False\n",
      "Name_Intake           False\n",
      "DateTime_Intake       False\n",
      "MonthYear_Intake       True\n",
      "FoundLocation         False\n",
      "IntakeType            False\n",
      "IntakeCondition       False\n",
      "AnimalType_Intake     False\n",
      "SexuponIntake         False\n",
      "AgeuponIntake         False\n",
      "Breed_Intake          False\n",
      "Color_Intake          False\n",
      "Name_Outcome           True\n",
      "DateTime_Outcome      False\n",
      "MonthYear_Outcome      True\n",
      "DateofBirth           False\n",
      "AnimalType_Outcome     True\n",
      "SexuponOutcome        False\n",
      "AgeuponOutcome        False\n",
      "Breed_Outcome          True\n",
      "Color_Outcome          True\n",
      "binary_outcome        False\n",
      "dtype: bool\n"
     ]
    }
   ],
   "source": [
    "#check if there are any duplicate columns\n",
    "# First transpose the df so columns become rows\n",
    "dfT = df.T\n",
    "print(\"Number of duplicate (excluding first) columns in the table is: \", dfT.duplicated().sum())\n",
    "print(\"Number of duplicate (including first) columns in the table is: \",  dfT[dfT.duplicated(keep=False)].shape[0])\n",
    "\n",
    "#.duplicate returns a Boolean Value so True will be returned if the column is a duplicate\n",
    "print(\"Duplpicated columns will be True: \", dfT.duplicated())"
   ]
  },
  {
   "cell_type": "markdown",
   "metadata": {},
   "source": [
    "#### Duplicate check findings\n",
    "- We can see that there are no duplicate rows in the dataset. Each row refers to a unique animal.\n",
    " - We can see that there are six duplicate columns in the dataset. This makes sense given that eight of the features (excluding *'binary_outcome'*) refer to the outcome of the animal. It makes sense that many of these features would be exact duplicates of in the intake informmation. For example, *'Breed_Outcome'* is going to be the exact same as *'Breed_Intake'*.\n",
    " - Furthermore, it is likely the information regarding outcome will not be helpful for a machine learning algorithm, as the shelter will only have *'Intake'* information for future animals.\n",
    " - These columns can be safely dropped. However, I will check that the duplicate check is working correctly before dropping any features. "
   ]
  },
  {
   "cell_type": "code",
   "execution_count": 17,
   "metadata": {},
   "outputs": [
    {
     "data": {
      "text/html": [
       "<div>\n",
       "<style scoped>\n",
       "    .dataframe tbody tr th:only-of-type {\n",
       "        vertical-align: middle;\n",
       "    }\n",
       "\n",
       "    .dataframe tbody tr th {\n",
       "        vertical-align: top;\n",
       "    }\n",
       "\n",
       "    .dataframe thead th {\n",
       "        text-align: right;\n",
       "    }\n",
       "</style>\n",
       "<table border=\"1\" class=\"dataframe\">\n",
       "  <thead>\n",
       "    <tr style=\"text-align: right;\">\n",
       "      <th></th>\n",
       "      <th>0</th>\n",
       "      <th>1</th>\n",
       "      <th>2</th>\n",
       "      <th>3</th>\n",
       "      <th>4</th>\n",
       "      <th>5</th>\n",
       "      <th>6</th>\n",
       "      <th>7</th>\n",
       "      <th>8</th>\n",
       "      <th>9</th>\n",
       "      <th>...</th>\n",
       "      <th>990</th>\n",
       "      <th>991</th>\n",
       "      <th>992</th>\n",
       "      <th>993</th>\n",
       "      <th>994</th>\n",
       "      <th>995</th>\n",
       "      <th>996</th>\n",
       "      <th>997</th>\n",
       "      <th>998</th>\n",
       "      <th>999</th>\n",
       "    </tr>\n",
       "  </thead>\n",
       "  <tbody>\n",
       "    <tr>\n",
       "      <td>Name_Intake</td>\n",
       "      <td>Katy</td>\n",
       "      <td>NaN</td>\n",
       "      <td>Dexter</td>\n",
       "      <td>Archie</td>\n",
       "      <td>Chocolate</td>\n",
       "      <td>*Bettie</td>\n",
       "      <td>Kali</td>\n",
       "      <td>Mitch</td>\n",
       "      <td>*Ajax</td>\n",
       "      <td>Zoe</td>\n",
       "      <td>...</td>\n",
       "      <td>NaN</td>\n",
       "      <td>Parker</td>\n",
       "      <td>NaN</td>\n",
       "      <td>*Elodie</td>\n",
       "      <td>NaN</td>\n",
       "      <td>*Polly</td>\n",
       "      <td>Precious</td>\n",
       "      <td>NaN</td>\n",
       "      <td>Bennett Ned</td>\n",
       "      <td>*Archie</td>\n",
       "    </tr>\n",
       "    <tr>\n",
       "      <td>DateTime_Intake</td>\n",
       "      <td>2014-08-30 17:55:00</td>\n",
       "      <td>2014-08-03 11:23:00</td>\n",
       "      <td>2016-12-27 11:18:00</td>\n",
       "      <td>2017-09-28 11:03:00</td>\n",
       "      <td>2015-02-05 11:51:00</td>\n",
       "      <td>2015-09-23 12:41:00</td>\n",
       "      <td>2019-11-15 13:25:00</td>\n",
       "      <td>2014-07-19 16:45:00</td>\n",
       "      <td>2017-05-11 11:26:00</td>\n",
       "      <td>2016-05-19 18:17:00</td>\n",
       "      <td>...</td>\n",
       "      <td>2019-10-21 10:58:00</td>\n",
       "      <td>2014-12-23 13:46:00</td>\n",
       "      <td>2017-06-08 12:30:00</td>\n",
       "      <td>2017-03-29 13:26:00</td>\n",
       "      <td>2019-04-23 16:31:00</td>\n",
       "      <td>2019-07-30 13:22:00</td>\n",
       "      <td>2019-07-26 11:04:00</td>\n",
       "      <td>2014-06-14 12:17:00</td>\n",
       "      <td>2016-01-01 23:40:00</td>\n",
       "      <td>2015-10-31 15:16:00</td>\n",
       "    </tr>\n",
       "    <tr>\n",
       "      <td>MonthYear_Intake</td>\n",
       "      <td>2014-08-30 17:55:00</td>\n",
       "      <td>2014-08-03 11:23:00</td>\n",
       "      <td>2016-12-27 11:18:00</td>\n",
       "      <td>2017-09-28 11:03:00</td>\n",
       "      <td>2015-02-05 11:51:00</td>\n",
       "      <td>2015-09-23 12:41:00</td>\n",
       "      <td>2019-11-15 13:25:00</td>\n",
       "      <td>2014-07-19 16:45:00</td>\n",
       "      <td>2017-05-11 11:26:00</td>\n",
       "      <td>2016-05-19 18:17:00</td>\n",
       "      <td>...</td>\n",
       "      <td>2019-10-21 10:58:00</td>\n",
       "      <td>2014-12-23 13:46:00</td>\n",
       "      <td>2017-06-08 12:30:00</td>\n",
       "      <td>2017-03-29 13:26:00</td>\n",
       "      <td>2019-04-23 16:31:00</td>\n",
       "      <td>2019-07-30 13:22:00</td>\n",
       "      <td>2019-07-26 11:04:00</td>\n",
       "      <td>2014-06-14 12:17:00</td>\n",
       "      <td>2016-01-01 23:40:00</td>\n",
       "      <td>2015-10-31 15:16:00</td>\n",
       "    </tr>\n",
       "    <tr>\n",
       "      <td>AnimalType_Intake</td>\n",
       "      <td>Cat</td>\n",
       "      <td>Dog</td>\n",
       "      <td>Dog</td>\n",
       "      <td>Cat</td>\n",
       "      <td>Cat</td>\n",
       "      <td>Dog</td>\n",
       "      <td>Dog</td>\n",
       "      <td>Dog</td>\n",
       "      <td>Dog</td>\n",
       "      <td>Dog</td>\n",
       "      <td>...</td>\n",
       "      <td>Dog</td>\n",
       "      <td>Dog</td>\n",
       "      <td>Cat</td>\n",
       "      <td>Cat</td>\n",
       "      <td>Bird</td>\n",
       "      <td>Cat</td>\n",
       "      <td>Dog</td>\n",
       "      <td>Cat</td>\n",
       "      <td>Dog</td>\n",
       "      <td>Cat</td>\n",
       "    </tr>\n",
       "    <tr>\n",
       "      <td>Breed_Intake</td>\n",
       "      <td>Domestic Shorthair Mix</td>\n",
       "      <td>Cavalier Span Mix</td>\n",
       "      <td>Jack Russell Terrier</td>\n",
       "      <td>Domestic Shorthair</td>\n",
       "      <td>Domestic Medium Hair Mix</td>\n",
       "      <td>Chihuahua Shorthair Mix</td>\n",
       "      <td>Rottweiler/Labrador Retriever</td>\n",
       "      <td>Standard Schnauzer Mix</td>\n",
       "      <td>Boxer Mix</td>\n",
       "      <td>Australian Shepherd Mix</td>\n",
       "      <td>...</td>\n",
       "      <td>Chihuahua Shorthair</td>\n",
       "      <td>Chihuahua Shorthair/Dachshund</td>\n",
       "      <td>Domestic Shorthair Mix</td>\n",
       "      <td>Domestic Medium Hair Mix</td>\n",
       "      <td>Waxwing Mix</td>\n",
       "      <td>Domestic Shorthair</td>\n",
       "      <td>Pit Bull</td>\n",
       "      <td>Domestic Shorthair Mix</td>\n",
       "      <td>Labrador Retriever Mix</td>\n",
       "      <td>Domestic Shorthair Mix</td>\n",
       "    </tr>\n",
       "    <tr>\n",
       "      <td>Color_Intake</td>\n",
       "      <td>Torbie</td>\n",
       "      <td>White/Black</td>\n",
       "      <td>Black/White</td>\n",
       "      <td>Black</td>\n",
       "      <td>Black</td>\n",
       "      <td>Tan/White</td>\n",
       "      <td>Black/Tan</td>\n",
       "      <td>Gray</td>\n",
       "      <td>Brown Brindle/White</td>\n",
       "      <td>Tricolor</td>\n",
       "      <td>...</td>\n",
       "      <td>Brown/Black</td>\n",
       "      <td>Black/White</td>\n",
       "      <td>Blue Tabby</td>\n",
       "      <td>Black/White</td>\n",
       "      <td>Gray/Yellow</td>\n",
       "      <td>Black</td>\n",
       "      <td>Black/White</td>\n",
       "      <td>Cream Tabby</td>\n",
       "      <td>Brown/White</td>\n",
       "      <td>Orange Tabby</td>\n",
       "    </tr>\n",
       "    <tr>\n",
       "      <td>Name_Outcome</td>\n",
       "      <td>Katy</td>\n",
       "      <td>NaN</td>\n",
       "      <td>Dexter</td>\n",
       "      <td>Archie</td>\n",
       "      <td>Chocolate</td>\n",
       "      <td>*Bettie</td>\n",
       "      <td>Kali</td>\n",
       "      <td>Mitch</td>\n",
       "      <td>*Ajax</td>\n",
       "      <td>Zoe</td>\n",
       "      <td>...</td>\n",
       "      <td>NaN</td>\n",
       "      <td>Parker</td>\n",
       "      <td>NaN</td>\n",
       "      <td>*Elodie</td>\n",
       "      <td>NaN</td>\n",
       "      <td>*Polly</td>\n",
       "      <td>Precious</td>\n",
       "      <td>NaN</td>\n",
       "      <td>Bennett Ned</td>\n",
       "      <td>*Archie</td>\n",
       "    </tr>\n",
       "    <tr>\n",
       "      <td>DateTime_Outcome</td>\n",
       "      <td>2014-09-05 14:33:00</td>\n",
       "      <td>2014-08-07 18:09:00</td>\n",
       "      <td>2017-01-01 15:27:00</td>\n",
       "      <td>2017-11-04 18:11:00</td>\n",
       "      <td>2015-02-15 11:39:00</td>\n",
       "      <td>2015-09-27 19:30:00</td>\n",
       "      <td>2019-11-27 11:52:00</td>\n",
       "      <td>2014-07-20 13:38:00</td>\n",
       "      <td>2017-05-19 16:00:00</td>\n",
       "      <td>2016-05-25 16:11:00</td>\n",
       "      <td>...</td>\n",
       "      <td>2019-12-13 16:30:00</td>\n",
       "      <td>2014-12-29 18:27:00</td>\n",
       "      <td>2017-06-12 00:00:00</td>\n",
       "      <td>2017-03-30 15:24:00</td>\n",
       "      <td>2019-04-23 17:58:00</td>\n",
       "      <td>2019-08-04 13:03:00</td>\n",
       "      <td>2019-08-07 06:54:00</td>\n",
       "      <td>2014-06-14 16:16:00</td>\n",
       "      <td>2016-03-19 12:44:00</td>\n",
       "      <td>2015-11-02 14:02:00</td>\n",
       "    </tr>\n",
       "    <tr>\n",
       "      <td>MonthYear_Outcome</td>\n",
       "      <td>2014-09-05 14:33:00</td>\n",
       "      <td>2014-08-07 18:09:00</td>\n",
       "      <td>2017-01-01 15:27:00</td>\n",
       "      <td>2017-11-04 18:11:00</td>\n",
       "      <td>2015-02-15 11:39:00</td>\n",
       "      <td>2015-09-27 19:30:00</td>\n",
       "      <td>2019-11-27 11:52:00</td>\n",
       "      <td>2014-07-20 13:38:00</td>\n",
       "      <td>2017-05-19 16:00:00</td>\n",
       "      <td>2016-05-25 16:11:00</td>\n",
       "      <td>...</td>\n",
       "      <td>2019-12-13 16:30:00</td>\n",
       "      <td>2014-12-29 18:27:00</td>\n",
       "      <td>2017-06-12 00:00:00</td>\n",
       "      <td>2017-03-30 15:24:00</td>\n",
       "      <td>2019-04-23 17:58:00</td>\n",
       "      <td>2019-08-04 13:03:00</td>\n",
       "      <td>2019-08-07 06:54:00</td>\n",
       "      <td>2014-06-14 16:16:00</td>\n",
       "      <td>2016-03-19 12:44:00</td>\n",
       "      <td>2015-11-02 14:02:00</td>\n",
       "    </tr>\n",
       "    <tr>\n",
       "      <td>AnimalType_Outcome</td>\n",
       "      <td>Cat</td>\n",
       "      <td>Dog</td>\n",
       "      <td>Dog</td>\n",
       "      <td>Cat</td>\n",
       "      <td>Cat</td>\n",
       "      <td>Dog</td>\n",
       "      <td>Dog</td>\n",
       "      <td>Dog</td>\n",
       "      <td>Dog</td>\n",
       "      <td>Dog</td>\n",
       "      <td>...</td>\n",
       "      <td>Dog</td>\n",
       "      <td>Dog</td>\n",
       "      <td>Cat</td>\n",
       "      <td>Cat</td>\n",
       "      <td>Bird</td>\n",
       "      <td>Cat</td>\n",
       "      <td>Dog</td>\n",
       "      <td>Cat</td>\n",
       "      <td>Dog</td>\n",
       "      <td>Cat</td>\n",
       "    </tr>\n",
       "    <tr>\n",
       "      <td>Breed_Outcome</td>\n",
       "      <td>Domestic Shorthair Mix</td>\n",
       "      <td>Cavalier Span Mix</td>\n",
       "      <td>Jack Russell Terrier</td>\n",
       "      <td>Domestic Shorthair</td>\n",
       "      <td>Domestic Medium Hair Mix</td>\n",
       "      <td>Chihuahua Shorthair Mix</td>\n",
       "      <td>Rottweiler/Labrador Retriever</td>\n",
       "      <td>Standard Schnauzer Mix</td>\n",
       "      <td>Boxer Mix</td>\n",
       "      <td>Australian Shepherd Mix</td>\n",
       "      <td>...</td>\n",
       "      <td>Chihuahua Shorthair</td>\n",
       "      <td>Chihuahua Shorthair/Dachshund</td>\n",
       "      <td>Domestic Shorthair Mix</td>\n",
       "      <td>Domestic Medium Hair Mix</td>\n",
       "      <td>Waxwing Mix</td>\n",
       "      <td>Domestic Shorthair</td>\n",
       "      <td>Pit Bull</td>\n",
       "      <td>Domestic Shorthair Mix</td>\n",
       "      <td>Labrador Retriever Mix</td>\n",
       "      <td>Domestic Shorthair Mix</td>\n",
       "    </tr>\n",
       "    <tr>\n",
       "      <td>Color_Outcome</td>\n",
       "      <td>Torbie</td>\n",
       "      <td>White/Black</td>\n",
       "      <td>Black/White</td>\n",
       "      <td>Black</td>\n",
       "      <td>Black</td>\n",
       "      <td>Tan/White</td>\n",
       "      <td>Black/Tan</td>\n",
       "      <td>Gray</td>\n",
       "      <td>Brown Brindle/White</td>\n",
       "      <td>Tricolor</td>\n",
       "      <td>...</td>\n",
       "      <td>Brown/Black</td>\n",
       "      <td>Black/White</td>\n",
       "      <td>Blue Tabby</td>\n",
       "      <td>Black/White</td>\n",
       "      <td>Gray/Yellow</td>\n",
       "      <td>Black</td>\n",
       "      <td>Black/White</td>\n",
       "      <td>Cream Tabby</td>\n",
       "      <td>Brown/White</td>\n",
       "      <td>Orange Tabby</td>\n",
       "    </tr>\n",
       "  </tbody>\n",
       "</table>\n",
       "<p>12 rows × 1000 columns</p>\n",
       "</div>"
      ],
      "text/plain": [
       "                                       0                    1    \\\n",
       "Name_Intake                           Katy                  NaN   \n",
       "DateTime_Intake        2014-08-30 17:55:00  2014-08-03 11:23:00   \n",
       "MonthYear_Intake       2014-08-30 17:55:00  2014-08-03 11:23:00   \n",
       "AnimalType_Intake                      Cat                  Dog   \n",
       "Breed_Intake        Domestic Shorthair Mix    Cavalier Span Mix   \n",
       "Color_Intake                        Torbie          White/Black   \n",
       "Name_Outcome                          Katy                  NaN   \n",
       "DateTime_Outcome       2014-09-05 14:33:00  2014-08-07 18:09:00   \n",
       "MonthYear_Outcome      2014-09-05 14:33:00  2014-08-07 18:09:00   \n",
       "AnimalType_Outcome                     Cat                  Dog   \n",
       "Breed_Outcome       Domestic Shorthair Mix    Cavalier Span Mix   \n",
       "Color_Outcome                       Torbie          White/Black   \n",
       "\n",
       "                                     2                    3    \\\n",
       "Name_Intake                       Dexter               Archie   \n",
       "DateTime_Intake      2016-12-27 11:18:00  2017-09-28 11:03:00   \n",
       "MonthYear_Intake     2016-12-27 11:18:00  2017-09-28 11:03:00   \n",
       "AnimalType_Intake                    Dog                  Cat   \n",
       "Breed_Intake        Jack Russell Terrier   Domestic Shorthair   \n",
       "Color_Intake                 Black/White                Black   \n",
       "Name_Outcome                      Dexter               Archie   \n",
       "DateTime_Outcome     2017-01-01 15:27:00  2017-11-04 18:11:00   \n",
       "MonthYear_Outcome    2017-01-01 15:27:00  2017-11-04 18:11:00   \n",
       "AnimalType_Outcome                   Dog                  Cat   \n",
       "Breed_Outcome       Jack Russell Terrier   Domestic Shorthair   \n",
       "Color_Outcome                Black/White                Black   \n",
       "\n",
       "                                         4                        5    \\\n",
       "Name_Intake                        Chocolate                  *Bettie   \n",
       "DateTime_Intake          2015-02-05 11:51:00      2015-09-23 12:41:00   \n",
       "MonthYear_Intake         2015-02-05 11:51:00      2015-09-23 12:41:00   \n",
       "AnimalType_Intake                        Cat                      Dog   \n",
       "Breed_Intake        Domestic Medium Hair Mix  Chihuahua Shorthair Mix   \n",
       "Color_Intake                           Black                Tan/White   \n",
       "Name_Outcome                       Chocolate                  *Bettie   \n",
       "DateTime_Outcome         2015-02-15 11:39:00      2015-09-27 19:30:00   \n",
       "MonthYear_Outcome        2015-02-15 11:39:00      2015-09-27 19:30:00   \n",
       "AnimalType_Outcome                       Cat                      Dog   \n",
       "Breed_Outcome       Domestic Medium Hair Mix  Chihuahua Shorthair Mix   \n",
       "Color_Outcome                          Black                Tan/White   \n",
       "\n",
       "                                              6                       7    \\\n",
       "Name_Intake                                  Kali                   Mitch   \n",
       "DateTime_Intake               2019-11-15 13:25:00     2014-07-19 16:45:00   \n",
       "MonthYear_Intake              2019-11-15 13:25:00     2014-07-19 16:45:00   \n",
       "AnimalType_Intake                             Dog                     Dog   \n",
       "Breed_Intake        Rottweiler/Labrador Retriever  Standard Schnauzer Mix   \n",
       "Color_Intake                            Black/Tan                    Gray   \n",
       "Name_Outcome                                 Kali                   Mitch   \n",
       "DateTime_Outcome              2019-11-27 11:52:00     2014-07-20 13:38:00   \n",
       "MonthYear_Outcome             2019-11-27 11:52:00     2014-07-20 13:38:00   \n",
       "AnimalType_Outcome                            Dog                     Dog   \n",
       "Breed_Outcome       Rottweiler/Labrador Retriever  Standard Schnauzer Mix   \n",
       "Color_Outcome                           Black/Tan                    Gray   \n",
       "\n",
       "                                    8                        9    ...  \\\n",
       "Name_Intake                       *Ajax                      Zoe  ...   \n",
       "DateTime_Intake     2017-05-11 11:26:00      2016-05-19 18:17:00  ...   \n",
       "MonthYear_Intake    2017-05-11 11:26:00      2016-05-19 18:17:00  ...   \n",
       "AnimalType_Intake                   Dog                      Dog  ...   \n",
       "Breed_Intake                  Boxer Mix  Australian Shepherd Mix  ...   \n",
       "Color_Intake        Brown Brindle/White                 Tricolor  ...   \n",
       "Name_Outcome                      *Ajax                      Zoe  ...   \n",
       "DateTime_Outcome    2017-05-19 16:00:00      2016-05-25 16:11:00  ...   \n",
       "MonthYear_Outcome   2017-05-19 16:00:00      2016-05-25 16:11:00  ...   \n",
       "AnimalType_Outcome                  Dog                      Dog  ...   \n",
       "Breed_Outcome                 Boxer Mix  Australian Shepherd Mix  ...   \n",
       "Color_Outcome       Brown Brindle/White                 Tricolor  ...   \n",
       "\n",
       "                                    990                            991  \\\n",
       "Name_Intake                         NaN                         Parker   \n",
       "DateTime_Intake     2019-10-21 10:58:00            2014-12-23 13:46:00   \n",
       "MonthYear_Intake    2019-10-21 10:58:00            2014-12-23 13:46:00   \n",
       "AnimalType_Intake                   Dog                            Dog   \n",
       "Breed_Intake        Chihuahua Shorthair  Chihuahua Shorthair/Dachshund   \n",
       "Color_Intake                Brown/Black                    Black/White   \n",
       "Name_Outcome                        NaN                         Parker   \n",
       "DateTime_Outcome    2019-12-13 16:30:00            2014-12-29 18:27:00   \n",
       "MonthYear_Outcome   2019-12-13 16:30:00            2014-12-29 18:27:00   \n",
       "AnimalType_Outcome                  Dog                            Dog   \n",
       "Breed_Outcome       Chihuahua Shorthair  Chihuahua Shorthair/Dachshund   \n",
       "Color_Outcome               Brown/Black                    Black/White   \n",
       "\n",
       "                                       992                       993  \\\n",
       "Name_Intake                            NaN                   *Elodie   \n",
       "DateTime_Intake        2017-06-08 12:30:00       2017-03-29 13:26:00   \n",
       "MonthYear_Intake       2017-06-08 12:30:00       2017-03-29 13:26:00   \n",
       "AnimalType_Intake                      Cat                       Cat   \n",
       "Breed_Intake        Domestic Shorthair Mix  Domestic Medium Hair Mix   \n",
       "Color_Intake                    Blue Tabby               Black/White   \n",
       "Name_Outcome                           NaN                   *Elodie   \n",
       "DateTime_Outcome       2017-06-12 00:00:00       2017-03-30 15:24:00   \n",
       "MonthYear_Outcome      2017-06-12 00:00:00       2017-03-30 15:24:00   \n",
       "AnimalType_Outcome                     Cat                       Cat   \n",
       "Breed_Outcome       Domestic Shorthair Mix  Domestic Medium Hair Mix   \n",
       "Color_Outcome                   Blue Tabby               Black/White   \n",
       "\n",
       "                                    994                  995  \\\n",
       "Name_Intake                         NaN               *Polly   \n",
       "DateTime_Intake     2019-04-23 16:31:00  2019-07-30 13:22:00   \n",
       "MonthYear_Intake    2019-04-23 16:31:00  2019-07-30 13:22:00   \n",
       "AnimalType_Intake                  Bird                  Cat   \n",
       "Breed_Intake                Waxwing Mix   Domestic Shorthair   \n",
       "Color_Intake                Gray/Yellow                Black   \n",
       "Name_Outcome                        NaN               *Polly   \n",
       "DateTime_Outcome    2019-04-23 17:58:00  2019-08-04 13:03:00   \n",
       "MonthYear_Outcome   2019-04-23 17:58:00  2019-08-04 13:03:00   \n",
       "AnimalType_Outcome                 Bird                  Cat   \n",
       "Breed_Outcome               Waxwing Mix   Domestic Shorthair   \n",
       "Color_Outcome               Gray/Yellow                Black   \n",
       "\n",
       "                                    996                     997  \\\n",
       "Name_Intake                    Precious                     NaN   \n",
       "DateTime_Intake     2019-07-26 11:04:00     2014-06-14 12:17:00   \n",
       "MonthYear_Intake    2019-07-26 11:04:00     2014-06-14 12:17:00   \n",
       "AnimalType_Intake                   Dog                     Cat   \n",
       "Breed_Intake                   Pit Bull  Domestic Shorthair Mix   \n",
       "Color_Intake                Black/White             Cream Tabby   \n",
       "Name_Outcome                   Precious                     NaN   \n",
       "DateTime_Outcome    2019-08-07 06:54:00     2014-06-14 16:16:00   \n",
       "MonthYear_Outcome   2019-08-07 06:54:00     2014-06-14 16:16:00   \n",
       "AnimalType_Outcome                  Dog                     Cat   \n",
       "Breed_Outcome                  Pit Bull  Domestic Shorthair Mix   \n",
       "Color_Outcome               Black/White             Cream Tabby   \n",
       "\n",
       "                                       998                     999  \n",
       "Name_Intake                    Bennett Ned                 *Archie  \n",
       "DateTime_Intake        2016-01-01 23:40:00     2015-10-31 15:16:00  \n",
       "MonthYear_Intake       2016-01-01 23:40:00     2015-10-31 15:16:00  \n",
       "AnimalType_Intake                      Dog                     Cat  \n",
       "Breed_Intake        Labrador Retriever Mix  Domestic Shorthair Mix  \n",
       "Color_Intake                   Brown/White            Orange Tabby  \n",
       "Name_Outcome                   Bennett Ned                 *Archie  \n",
       "DateTime_Outcome       2016-03-19 12:44:00     2015-11-02 14:02:00  \n",
       "MonthYear_Outcome      2016-03-19 12:44:00     2015-11-02 14:02:00  \n",
       "AnimalType_Outcome                     Dog                     Cat  \n",
       "Breed_Outcome       Labrador Retriever Mix  Domestic Shorthair Mix  \n",
       "Color_Outcome                  Brown/White            Orange Tabby  \n",
       "\n",
       "[12 rows x 1000 columns]"
      ]
     },
     "execution_count": 17,
     "metadata": {},
     "output_type": "execute_result"
    }
   ],
   "source": [
    "#duplicate columns are transposed as rows and can be seen below\n",
    "dfT[dfT.duplicated(keep=False)]"
   ]
  },
  {
   "cell_type": "markdown",
   "metadata": {},
   "source": [
    " - We can see above that *'MonthYear_Intake'* duplicates *'DateTime_Intake'* and that *'MonthYear_Outcome'* duplicates *'DateTime_Outcome'*. In all other cases the *'Outcome'* feature is duplicating the *'Intake'* version of the same feature. \n",
    " \n",
    " - To ensure that the duplicate check is working correctly, I will create a new dataframe containing these duplicates and when check to ensure that the duplicates are found. "
   ]
  },
  {
   "cell_type": "code",
   "execution_count": 18,
   "metadata": {},
   "outputs": [
    {
     "data": {
      "text/html": [
       "<div>\n",
       "<style scoped>\n",
       "    .dataframe tbody tr th:only-of-type {\n",
       "        vertical-align: middle;\n",
       "    }\n",
       "\n",
       "    .dataframe tbody tr th {\n",
       "        vertical-align: top;\n",
       "    }\n",
       "\n",
       "    .dataframe thead th {\n",
       "        text-align: right;\n",
       "    }\n",
       "</style>\n",
       "<table border=\"1\" class=\"dataframe\">\n",
       "  <thead>\n",
       "    <tr style=\"text-align: right;\">\n",
       "      <th></th>\n",
       "      <th>0</th>\n",
       "      <th>1</th>\n",
       "      <th>2</th>\n",
       "      <th>3</th>\n",
       "      <th>4</th>\n",
       "      <th>5</th>\n",
       "      <th>6</th>\n",
       "      <th>7</th>\n",
       "      <th>8</th>\n",
       "      <th>9</th>\n",
       "    </tr>\n",
       "  </thead>\n",
       "  <tbody>\n",
       "    <tr>\n",
       "      <td>Name_Intake</td>\n",
       "      <td>Katy</td>\n",
       "      <td>NaN</td>\n",
       "      <td>Dexter</td>\n",
       "      <td>Archie</td>\n",
       "      <td>Chocolate</td>\n",
       "      <td>*Bettie</td>\n",
       "      <td>Kali</td>\n",
       "      <td>Mitch</td>\n",
       "      <td>*Ajax</td>\n",
       "      <td>Zoe</td>\n",
       "    </tr>\n",
       "    <tr>\n",
       "      <td>DateTime_Intake</td>\n",
       "      <td>2014-08-30 17:55:00</td>\n",
       "      <td>2014-08-03 11:23:00</td>\n",
       "      <td>2016-12-27 11:18:00</td>\n",
       "      <td>2017-09-28 11:03:00</td>\n",
       "      <td>2015-02-05 11:51:00</td>\n",
       "      <td>2015-09-23 12:41:00</td>\n",
       "      <td>2019-11-15 13:25:00</td>\n",
       "      <td>2014-07-19 16:45:00</td>\n",
       "      <td>2017-05-11 11:26:00</td>\n",
       "      <td>2016-05-19 18:17:00</td>\n",
       "    </tr>\n",
       "    <tr>\n",
       "      <td>MonthYear_Intake</td>\n",
       "      <td>2014-08-30 17:55:00</td>\n",
       "      <td>2014-08-03 11:23:00</td>\n",
       "      <td>2016-12-27 11:18:00</td>\n",
       "      <td>2017-09-28 11:03:00</td>\n",
       "      <td>2015-02-05 11:51:00</td>\n",
       "      <td>2015-09-23 12:41:00</td>\n",
       "      <td>2019-11-15 13:25:00</td>\n",
       "      <td>2014-07-19 16:45:00</td>\n",
       "      <td>2017-05-11 11:26:00</td>\n",
       "      <td>2016-05-19 18:17:00</td>\n",
       "    </tr>\n",
       "    <tr>\n",
       "      <td>AnimalType_Intake</td>\n",
       "      <td>Cat</td>\n",
       "      <td>Dog</td>\n",
       "      <td>Dog</td>\n",
       "      <td>Cat</td>\n",
       "      <td>Cat</td>\n",
       "      <td>Dog</td>\n",
       "      <td>Dog</td>\n",
       "      <td>Dog</td>\n",
       "      <td>Dog</td>\n",
       "      <td>Dog</td>\n",
       "    </tr>\n",
       "    <tr>\n",
       "      <td>Breed_Intake</td>\n",
       "      <td>Domestic Shorthair Mix</td>\n",
       "      <td>Cavalier Span Mix</td>\n",
       "      <td>Jack Russell Terrier</td>\n",
       "      <td>Domestic Shorthair</td>\n",
       "      <td>Domestic Medium Hair Mix</td>\n",
       "      <td>Chihuahua Shorthair Mix</td>\n",
       "      <td>Rottweiler/Labrador Retriever</td>\n",
       "      <td>Standard Schnauzer Mix</td>\n",
       "      <td>Boxer Mix</td>\n",
       "      <td>Australian Shepherd Mix</td>\n",
       "    </tr>\n",
       "    <tr>\n",
       "      <td>Color_Intake</td>\n",
       "      <td>Torbie</td>\n",
       "      <td>White/Black</td>\n",
       "      <td>Black/White</td>\n",
       "      <td>Black</td>\n",
       "      <td>Black</td>\n",
       "      <td>Tan/White</td>\n",
       "      <td>Black/Tan</td>\n",
       "      <td>Gray</td>\n",
       "      <td>Brown Brindle/White</td>\n",
       "      <td>Tricolor</td>\n",
       "    </tr>\n",
       "    <tr>\n",
       "      <td>Name_Outcome</td>\n",
       "      <td>Katy</td>\n",
       "      <td>NaN</td>\n",
       "      <td>Dexter</td>\n",
       "      <td>Archie</td>\n",
       "      <td>Chocolate</td>\n",
       "      <td>*Bettie</td>\n",
       "      <td>Kali</td>\n",
       "      <td>Mitch</td>\n",
       "      <td>*Ajax</td>\n",
       "      <td>Zoe</td>\n",
       "    </tr>\n",
       "    <tr>\n",
       "      <td>DateTime_Outcome</td>\n",
       "      <td>2014-09-05 14:33:00</td>\n",
       "      <td>2014-08-07 18:09:00</td>\n",
       "      <td>2017-01-01 15:27:00</td>\n",
       "      <td>2017-11-04 18:11:00</td>\n",
       "      <td>2015-02-15 11:39:00</td>\n",
       "      <td>2015-09-27 19:30:00</td>\n",
       "      <td>2019-11-27 11:52:00</td>\n",
       "      <td>2014-07-20 13:38:00</td>\n",
       "      <td>2017-05-19 16:00:00</td>\n",
       "      <td>2016-05-25 16:11:00</td>\n",
       "    </tr>\n",
       "    <tr>\n",
       "      <td>MonthYear_Outcome</td>\n",
       "      <td>2014-09-05 14:33:00</td>\n",
       "      <td>2014-08-07 18:09:00</td>\n",
       "      <td>2017-01-01 15:27:00</td>\n",
       "      <td>2017-11-04 18:11:00</td>\n",
       "      <td>2015-02-15 11:39:00</td>\n",
       "      <td>2015-09-27 19:30:00</td>\n",
       "      <td>2019-11-27 11:52:00</td>\n",
       "      <td>2014-07-20 13:38:00</td>\n",
       "      <td>2017-05-19 16:00:00</td>\n",
       "      <td>2016-05-25 16:11:00</td>\n",
       "    </tr>\n",
       "    <tr>\n",
       "      <td>AnimalType_Outcome</td>\n",
       "      <td>Cat</td>\n",
       "      <td>Dog</td>\n",
       "      <td>Dog</td>\n",
       "      <td>Cat</td>\n",
       "      <td>Cat</td>\n",
       "      <td>Dog</td>\n",
       "      <td>Dog</td>\n",
       "      <td>Dog</td>\n",
       "      <td>Dog</td>\n",
       "      <td>Dog</td>\n",
       "    </tr>\n",
       "    <tr>\n",
       "      <td>Breed_Outcome</td>\n",
       "      <td>Domestic Shorthair Mix</td>\n",
       "      <td>Cavalier Span Mix</td>\n",
       "      <td>Jack Russell Terrier</td>\n",
       "      <td>Domestic Shorthair</td>\n",
       "      <td>Domestic Medium Hair Mix</td>\n",
       "      <td>Chihuahua Shorthair Mix</td>\n",
       "      <td>Rottweiler/Labrador Retriever</td>\n",
       "      <td>Standard Schnauzer Mix</td>\n",
       "      <td>Boxer Mix</td>\n",
       "      <td>Australian Shepherd Mix</td>\n",
       "    </tr>\n",
       "    <tr>\n",
       "      <td>Color_Outcome</td>\n",
       "      <td>Torbie</td>\n",
       "      <td>White/Black</td>\n",
       "      <td>Black/White</td>\n",
       "      <td>Black</td>\n",
       "      <td>Black</td>\n",
       "      <td>Tan/White</td>\n",
       "      <td>Black/Tan</td>\n",
       "      <td>Gray</td>\n",
       "      <td>Brown Brindle/White</td>\n",
       "      <td>Tricolor</td>\n",
       "    </tr>\n",
       "  </tbody>\n",
       "</table>\n",
       "</div>"
      ],
      "text/plain": [
       "                                         0                    1  \\\n",
       "Name_Intake                           Katy                  NaN   \n",
       "DateTime_Intake        2014-08-30 17:55:00  2014-08-03 11:23:00   \n",
       "MonthYear_Intake       2014-08-30 17:55:00  2014-08-03 11:23:00   \n",
       "AnimalType_Intake                      Cat                  Dog   \n",
       "Breed_Intake        Domestic Shorthair Mix    Cavalier Span Mix   \n",
       "Color_Intake                        Torbie          White/Black   \n",
       "Name_Outcome                          Katy                  NaN   \n",
       "DateTime_Outcome       2014-09-05 14:33:00  2014-08-07 18:09:00   \n",
       "MonthYear_Outcome      2014-09-05 14:33:00  2014-08-07 18:09:00   \n",
       "AnimalType_Outcome                     Cat                  Dog   \n",
       "Breed_Outcome       Domestic Shorthair Mix    Cavalier Span Mix   \n",
       "Color_Outcome                       Torbie          White/Black   \n",
       "\n",
       "                                       2                    3  \\\n",
       "Name_Intake                       Dexter               Archie   \n",
       "DateTime_Intake      2016-12-27 11:18:00  2017-09-28 11:03:00   \n",
       "MonthYear_Intake     2016-12-27 11:18:00  2017-09-28 11:03:00   \n",
       "AnimalType_Intake                    Dog                  Cat   \n",
       "Breed_Intake        Jack Russell Terrier   Domestic Shorthair   \n",
       "Color_Intake                 Black/White                Black   \n",
       "Name_Outcome                      Dexter               Archie   \n",
       "DateTime_Outcome     2017-01-01 15:27:00  2017-11-04 18:11:00   \n",
       "MonthYear_Outcome    2017-01-01 15:27:00  2017-11-04 18:11:00   \n",
       "AnimalType_Outcome                   Dog                  Cat   \n",
       "Breed_Outcome       Jack Russell Terrier   Domestic Shorthair   \n",
       "Color_Outcome                Black/White                Black   \n",
       "\n",
       "                                           4                        5  \\\n",
       "Name_Intake                        Chocolate                  *Bettie   \n",
       "DateTime_Intake          2015-02-05 11:51:00      2015-09-23 12:41:00   \n",
       "MonthYear_Intake         2015-02-05 11:51:00      2015-09-23 12:41:00   \n",
       "AnimalType_Intake                        Cat                      Dog   \n",
       "Breed_Intake        Domestic Medium Hair Mix  Chihuahua Shorthair Mix   \n",
       "Color_Intake                           Black                Tan/White   \n",
       "Name_Outcome                       Chocolate                  *Bettie   \n",
       "DateTime_Outcome         2015-02-15 11:39:00      2015-09-27 19:30:00   \n",
       "MonthYear_Outcome        2015-02-15 11:39:00      2015-09-27 19:30:00   \n",
       "AnimalType_Outcome                       Cat                      Dog   \n",
       "Breed_Outcome       Domestic Medium Hair Mix  Chihuahua Shorthair Mix   \n",
       "Color_Outcome                          Black                Tan/White   \n",
       "\n",
       "                                                6                       7  \\\n",
       "Name_Intake                                  Kali                   Mitch   \n",
       "DateTime_Intake               2019-11-15 13:25:00     2014-07-19 16:45:00   \n",
       "MonthYear_Intake              2019-11-15 13:25:00     2014-07-19 16:45:00   \n",
       "AnimalType_Intake                             Dog                     Dog   \n",
       "Breed_Intake        Rottweiler/Labrador Retriever  Standard Schnauzer Mix   \n",
       "Color_Intake                            Black/Tan                    Gray   \n",
       "Name_Outcome                                 Kali                   Mitch   \n",
       "DateTime_Outcome              2019-11-27 11:52:00     2014-07-20 13:38:00   \n",
       "MonthYear_Outcome             2019-11-27 11:52:00     2014-07-20 13:38:00   \n",
       "AnimalType_Outcome                            Dog                     Dog   \n",
       "Breed_Outcome       Rottweiler/Labrador Retriever  Standard Schnauzer Mix   \n",
       "Color_Outcome                           Black/Tan                    Gray   \n",
       "\n",
       "                                      8                        9  \n",
       "Name_Intake                       *Ajax                      Zoe  \n",
       "DateTime_Intake     2017-05-11 11:26:00      2016-05-19 18:17:00  \n",
       "MonthYear_Intake    2017-05-11 11:26:00      2016-05-19 18:17:00  \n",
       "AnimalType_Intake                   Dog                      Dog  \n",
       "Breed_Intake                  Boxer Mix  Australian Shepherd Mix  \n",
       "Color_Intake        Brown Brindle/White                 Tricolor  \n",
       "Name_Outcome                      *Ajax                      Zoe  \n",
       "DateTime_Outcome    2017-05-19 16:00:00      2016-05-25 16:11:00  \n",
       "MonthYear_Outcome   2017-05-19 16:00:00      2016-05-25 16:11:00  \n",
       "AnimalType_Outcome                  Dog                      Dog  \n",
       "Breed_Outcome                 Boxer Mix  Australian Shepherd Mix  \n",
       "Color_Outcome       Brown Brindle/White                 Tricolor  "
      ]
     },
     "execution_count": 18,
     "metadata": {},
     "output_type": "execute_result"
    }
   ],
   "source": [
    "# Check for duplicate rows and columns in this toy df that atually has duplicated rows and columns, \n",
    "#to check the duplicate checks work correctly\n",
    "toy_duplicates_df = dfT[dfT.duplicated(keep=False)].iloc[:,:10].head(12)\n",
    "toy_duplicates_df"
   ]
  },
  {
   "cell_type": "markdown",
   "metadata": {},
   "source": [
    "As the columns have been transposed into rows, we expect there to be 6 duplicate rows excluding the first and 12 duplicate rows including the first. "
   ]
  },
  {
   "cell_type": "code",
   "execution_count": 19,
   "metadata": {},
   "outputs": [
    {
     "name": "stdout",
     "output_type": "stream",
     "text": [
      "Number of duplicate (excluding first) rows in the toy table is:  6\n",
      "Number of duplicate rows (including first) in the toy table is: 12\n",
      "\n",
      "Number of duplicate (excluding first) columns in the toy table is:  0\n",
      "Number of duplicate (including first) columns in the toy table is:  0\n"
     ]
    }
   ],
   "source": [
    "print('Number of duplicate (excluding first) rows in the toy table is: ', toy_duplicates_df.duplicated().sum())\n",
    "print('Number of duplicate rows (including first) in the toy table is:', toy_duplicates_df[toy_duplicates_df.duplicated(keep=False)].shape[0])\n",
    "\n",
    "#transpose the toy df\n",
    "toy_duplicates_dfT = toy_duplicates_df.T\n",
    "print(\"\\nNumber of duplicate (excluding first) columns in the toy table is: \", toy_duplicates_dfT.duplicated().sum())\n",
    "print(\"Number of duplicate (including first) columns in the toy table is: \",  toy_duplicates_dfT[toy_duplicates_dfT.duplicated(keep=False)].shape[0])"
   ]
  },
  {
   "cell_type": "markdown",
   "metadata": {},
   "source": [
    "#### The duplicate check seems to be working as expected. \n",
    "\n",
    "The expected duplicates are being found in the toy duplicate dataset. The duplicate columns will be dropped below."
   ]
  },
  {
   "cell_type": "code",
   "execution_count": 20,
   "metadata": {},
   "outputs": [],
   "source": [
    "#this cell removes the duplicate columns \n",
    "\n",
    "df = df.drop(['MonthYear_Intake', 'Name_Outcome', 'MonthYear_Outcome', 'AnimalType_Outcome',\n",
    "       'Breed_Outcome', 'Color_Outcome'], axis=1)"
   ]
  },
  {
   "cell_type": "code",
   "execution_count": 21,
   "metadata": {},
   "outputs": [
    {
     "data": {
      "text/plain": [
       "(1000, 16)"
      ]
     },
     "execution_count": 21,
     "metadata": {},
     "output_type": "execute_result"
    }
   ],
   "source": [
    "df.shape"
   ]
  },
  {
   "cell_type": "code",
   "execution_count": 22,
   "metadata": {},
   "outputs": [
    {
     "name": "stdout",
     "output_type": "stream",
     "text": [
      "Number of duplicate (excluding first) columns in the table is:  0\n"
     ]
    }
   ],
   "source": [
    "#tranpose columns to rows again to check if there are any duplicates left.\n",
    "\n",
    "dfT = df.T\n",
    "print(\"Number of duplicate (excluding first) columns in the table is: \", dfT.duplicated().sum())"
   ]
  },
  {
   "cell_type": "markdown",
   "metadata": {},
   "source": [
    " - As we can see there are no longer any duplicate columns in the dataset.\n",
    " - In the cell below I ensure that the number of columns has decreased. There were originally 22 columns and 6 were removed after the duplicate test. "
   ]
  },
  {
   "cell_type": "code",
   "execution_count": 23,
   "metadata": {},
   "outputs": [
    {
     "data": {
      "text/plain": [
       "(1000, 16)"
      ]
     },
     "execution_count": 23,
     "metadata": {},
     "output_type": "execute_result"
    }
   ],
   "source": [
    "df.shape"
   ]
  },
  {
   "cell_type": "markdown",
   "metadata": {},
   "source": [
    "As we can see the number of columns has reduced to 16. The duplicates have been successfully removed. "
   ]
  },
  {
   "cell_type": "markdown",
   "metadata": {},
   "source": [
    "### Check for constant columns"
   ]
  },
  {
   "cell_type": "markdown",
   "metadata": {},
   "source": [
    "#### Categorical Data \n",
    "\n",
    "In the cell below we will check how many unique values each feature has. If a feature has a unique value of 1 this will tell us that this feature has a constant value. "
   ]
  },
  {
   "cell_type": "code",
   "execution_count": 24,
   "metadata": {},
   "outputs": [
    {
     "name": "stdout",
     "output_type": "stream",
     "text": [
      "Feature                              Unique Values\n",
      "-------                              --------------- \n",
      "\n",
      "Name_Intake                          604\n",
      "FoundLocation                        766\n",
      "IntakeType                           5\n",
      "IntakeCondition                      5\n",
      "AnimalType_Intake                    4\n",
      "SexuponIntake                        5\n",
      "AgeuponIntake                        43\n",
      "Breed_Intake                         211\n",
      "Color_Intake                         115\n",
      "SexuponOutcome                       5\n",
      "AgeuponOutcome                       42\n",
      "binary_outcome                       2\n"
     ]
    }
   ],
   "source": [
    "category_columns = df.select_dtypes(['category']).columns\n",
    "features_card = list(df[category_columns].columns.values)\n",
    "\n",
    "print('{0:35}  {1}'.format(\"Feature\", \"Unique Values\"))\n",
    "print('{0:35}  {1}'.format(\"-------\", \"--------------- \\n\"))\n",
    "\n",
    "for c in category_columns:\n",
    "    print('{0:35}  {1}'.format(c, str(len(df[c].unique()))))"
   ]
  },
  {
   "cell_type": "markdown",
   "metadata": {},
   "source": [
    "We can see that all values are $>1$. There are no constant columns in the categorical data. "
   ]
  },
  {
   "cell_type": "markdown",
   "metadata": {},
   "source": [
    "#### Continuous Data\n",
    "\n",
    "There is currently no continuous data to check for constant values. "
   ]
  },
  {
   "cell_type": "markdown",
   "metadata": {},
   "source": [
    "### Check for null values"
   ]
  },
  {
   "cell_type": "code",
   "execution_count": 25,
   "metadata": {},
   "outputs": [
    {
     "data": {
      "text/plain": [
       "AnimalID               0\n",
       "Name_Intake          306\n",
       "DateTime_Intake        0\n",
       "FoundLocation          0\n",
       "IntakeType             0\n",
       "IntakeCondition        0\n",
       "AnimalType_Intake      0\n",
       "SexuponIntake          0\n",
       "AgeuponIntake          0\n",
       "Breed_Intake           0\n",
       "Color_Intake           0\n",
       "DateTime_Outcome       0\n",
       "DateofBirth            0\n",
       "SexuponOutcome         0\n",
       "AgeuponOutcome         0\n",
       "binary_outcome         0\n",
       "dtype: int64"
      ]
     },
     "execution_count": 25,
     "metadata": {},
     "output_type": "execute_result"
    }
   ],
   "source": [
    "df.isnull().sum()"
   ]
  },
  {
   "cell_type": "markdown",
   "metadata": {},
   "source": [
    "We can see that there are 306 instances missing values for the feature *'Name_Intake'*. This will be investiated later on. "
   ]
  },
  {
   "cell_type": "markdown",
   "metadata": {},
   "source": [
    "### Check for irregular cardinalities and permitted values\n",
    "\n",
    "We can see above in the check for constant features that the features *'Name_Intake', 'FoundLocation', 'Breed_Intake' and 'Color_Intake' have very high cardinalities. This will need to be addressed later on. For now, it is not useful to look at a list of permitted values for these particular features. The permitted values for the other categorical features will be  explored in the cell below. "
   ]
  },
  {
   "cell_type": "markdown",
   "metadata": {},
   "source": [
    "**Categorical features with low cardinality**"
   ]
  },
  {
   "cell_type": "code",
   "execution_count": 26,
   "metadata": {},
   "outputs": [
    {
     "name": "stdout",
     "output_type": "stream",
     "text": [
      "Unique values for:\n",
      "Intake Type: ['Stray' 'Owner Surrender' 'Public Assist' 'Wildlife' 'Euthanasia Request']\n",
      "Intake Condition: ['Normal' 'Other' 'Injured' 'Nursing' 'Sick']\n",
      "Animal Type Intake: ['Cat' 'Dog' 'Other' 'Bird']\n",
      "Sex upon Intake: ['Intact Female' 'Intact Male' 'Spayed Female' 'Neutered Male' 'Unknown']\n",
      "Age upon Intake: ['2 months' '3 months' '1 year' '3 years' '7 years' '12 years' '2 years'\n",
      " '4 years' '5 months' '11 months' '9 months' '5 years' '7 months'\n",
      " '1 month' '4 months' '6 months' '4 weeks' '2 weeks' '9 years' '1 day'\n",
      " '1 weeks' '10 years' '3 weeks' '15 years' '10 months' '17 years'\n",
      " '19 years' '8 years' '6 years' '0 years' '1 week' '5 weeks' '6 days'\n",
      " '20 years' '5 days' '11 years' '13 years' '2 days' '8 months' '4 days'\n",
      " '3 days' '14 years' '18 years']\n",
      "Sex upon Outcome: ['Spayed Female' 'Intact Male' 'Neutered Male' 'Unknown' 'Intact Female']\n",
      "Age upon Outcome: ['2 months' '3 months' '1 year' '3 years' '7 years' '12 years' '2 years'\n",
      " '4 years' '6 months' '10 months' '5 months' '11 months' '5 years'\n",
      " '7 months' '9 months' '1 month' '4 months' '2 weeks' '9 years' '10 years'\n",
      " '15 years' '17 years' '19 years' '8 years' '6 years' '3 weeks' '1 day'\n",
      " '4 weeks' '8 months' '6 days' '20 years' '2 days' '1 week' '5 days'\n",
      " '11 years' '13 years' '4 days' '1 weeks' '14 years' '0 years' '5 weeks'\n",
      " '18 years']\n",
      "Animal Type Intake: ['Cat' 'Dog' 'Other' 'Bird']\n"
     ]
    }
   ],
   "source": [
    "# Check for irregular cardinality & permitted values in categorical features. \n",
    "print(\"Unique values for:\\nIntake Type:\", pd.unique(df[\"IntakeType\"].ravel()))\n",
    "print(\"Intake Condition:\", pd.unique(df[\"IntakeCondition\"].ravel()))\n",
    "print(\"Animal Type Intake:\", pd.unique(df[\"AnimalType_Intake\"].ravel()))\n",
    "print(\"Sex upon Intake:\", pd.unique(df[\"SexuponIntake\"].ravel()))\n",
    "print(\"Age upon Intake:\", pd.unique(df[\"AgeuponIntake\"].ravel()))\n",
    "print(\"Sex upon Outcome:\", pd.unique(df[\"SexuponOutcome\"].ravel()))\n",
    "print(\"Age upon Outcome:\", pd.unique(df[\"AgeuponOutcome\"].ravel()))\n",
    "print(\"Animal Type Intake:\", pd.unique(df[\"AnimalType_Intake\"].ravel()))"
   ]
  },
  {
   "cell_type": "markdown",
   "metadata": {},
   "source": [
    "The above check has highlighted the following potential issue:\n",
    " - We can see that in *'SexuponOutcome'* there are two different pieces of information given as the one value - the gender and whether or not the animal was neutered/splayed. It is possible that this information should be represented as two separate features. This will be discussed in the Data Quality Report and addressed in the Data Quality Plan.\n",
    " - The format of the age is currently a string joining a number and a word, for example '1 month'. This is not the most helpful representation of the age. This will be discussed in the Data Quality Report. "
   ]
  },
  {
   "cell_type": "markdown",
   "metadata": {},
   "source": [
    "**Categorical features with high cardinality**\n",
    "\n",
    " - The issue of high cardinality will be dicussed further in the Data Quality Report and addressed in the Data Quality Plan. However, in this section of the assignment we will visualise and understand the data as it currently is. \n",
    " - Rather than showing the range of values for the features with very high cardinalities, we will now display the top 20 most frequent values for these features. At this stage of this assignment this is the best way to give an idea of the values of these features."
   ]
  },
  {
   "cell_type": "code",
   "execution_count": 27,
   "metadata": {},
   "outputs": [
    {
     "data": {
      "text/plain": [
       "Max         8\n",
       "Bella       4\n",
       "Zoey        4\n",
       "Mia         3\n",
       "Sadie       3\n",
       "Teddy       3\n",
       "Peanut      3\n",
       "Chiquita    3\n",
       "Gizmo       3\n",
       "Daisy       3\n",
       "King        3\n",
       "Charlie     3\n",
       "Tiger       3\n",
       "Luna        3\n",
       "Ace         3\n",
       "Zeus        3\n",
       "Yoshi       3\n",
       "Cash        3\n",
       "Hazel       2\n",
       "Jake        2\n",
       "Name: Name_Intake, dtype: int64"
      ]
     },
     "execution_count": 27,
     "metadata": {},
     "output_type": "execute_result"
    }
   ],
   "source": [
    "# visualise 20 most frequent values for 'Name_Intake' which has a cardinality of 604\n",
    "name = df['Name_Intake'].value_counts()[:20].sort_values(ascending=False)\n",
    "name"
   ]
  },
  {
   "cell_type": "code",
   "execution_count": 28,
   "metadata": {},
   "outputs": [
    {
     "data": {
      "text/plain": [
       "Austin (TX)                           188\n",
       "Outside Jurisdiction                   10\n",
       "Travis (TX)                            10\n",
       "Pflugerville (TX)                       8\n",
       "Manor (TX)                              8\n",
       "7201 Levander Loop in Austin (TX)       6\n",
       "Del Valle (TX)                          4\n",
       "Old Lockhart Hwy in Austin (TX)         2\n",
       "6605 Tara Drive in Austin (TX)          2\n",
       "15311 Brenda Street in Austin (TX)      2\n",
       "4434 Frontier in Austin (TX)            2\n",
       "6600 Elm Creek Dr in Austin (TX)        2\n",
       "Hwy 71 in Travis (TX)                   2\n",
       "906 W Milton St in Austin (TX)          2\n",
       "2308 Perry Ave #106 in Austin (TX)      1\n",
       "2510 Euclid Avenue in Austin (TX)       1\n",
       "2222 And 620 in Austin (TX)             1\n",
       "2315 Town Lake in Austin (TX)           1\n",
       "2315 Dovehill Dr in Austin (TX)         1\n",
       "2305 Burleson Rd in Austin (TX)         1\n",
       "Name: FoundLocation, dtype: int64"
      ]
     },
     "execution_count": 28,
     "metadata": {},
     "output_type": "execute_result"
    }
   ],
   "source": [
    "#  visualise 20 most frequent values for 'FoundLocation' of 766\n",
    "location = df['FoundLocation'].value_counts()[:20].sort_values(ascending=False)\n",
    "location"
   ]
  },
  {
   "cell_type": "code",
   "execution_count": 29,
   "metadata": {},
   "outputs": [
    {
     "data": {
      "text/plain": [
       "Domestic Shorthair Mix       259\n",
       "Chihuahua Shorthair Mix       77\n",
       "Labrador Retriever Mix        56\n",
       "Pit Bull Mix                  52\n",
       "Domestic Shorthair            43\n",
       "Domestic Medium Hair Mix      26\n",
       "German Shepherd Mix           20\n",
       "Siamese Mix                   16\n",
       "Boxer Mix                     15\n",
       "Bat Mix                       15\n",
       "Pit Bull                      13\n",
       "Miniature Poodle Mix          11\n",
       "Bat                           11\n",
       "Domestic Longhair Mix         11\n",
       "Border Collie Mix             11\n",
       "Chihuahua Shorthair            9\n",
       "Australian Cattle Dog Mix      8\n",
       "German Shepherd                8\n",
       "Australian Shepherd Mix        8\n",
       "Rottweiler Mix                 7\n",
       "Name: Breed_Intake, dtype: int64"
      ]
     },
     "execution_count": 29,
     "metadata": {},
     "output_type": "execute_result"
    }
   ],
   "source": [
    "#  visualise 20 most frequent values for 'FoundLocation' of 211\n",
    "breed = df['Breed_Intake'].value_counts()[:20].sort_values(ascending=False)\n",
    "breed"
   ]
  },
  {
   "cell_type": "code",
   "execution_count": 30,
   "metadata": {},
   "outputs": [
    {
     "data": {
      "text/plain": [
       "Black/White            106\n",
       "Black                   87\n",
       "Brown Tabby             58\n",
       "Brown                   51\n",
       "Brown/White             32\n",
       "Brown Tabby/White       30\n",
       "Blue/White              30\n",
       "White                   30\n",
       "White/Black             29\n",
       "Tan/White               29\n",
       "Tricolor                26\n",
       "Orange Tabby            24\n",
       "Black/Tan               22\n",
       "Blue                    20\n",
       "Torbie                  20\n",
       "Brown/Black             19\n",
       "White/Brown             19\n",
       "Tan                     17\n",
       "Brown Brindle/White     16\n",
       "Tortie                  16\n",
       "Name: Color_Intake, dtype: int64"
      ]
     },
     "execution_count": 30,
     "metadata": {},
     "output_type": "execute_result"
    }
   ],
   "source": [
    "#  visualise 20 most frequent values for 'FoundLocation' of 115\n",
    "color = df['Color_Intake'].value_counts()[:20].sort_values(ascending=False)\n",
    "color"
   ]
  },
  {
   "cell_type": "markdown",
   "metadata": {},
   "source": [
    "**Running Assessment:**\n",
    "\n",
    "The above visualisation of the most frequent values for the high cardinality features has highlighted the following potential issues: \n",
    " - In *'FoundLocation'* the most frequent value is *'Austin (TX)'*. However, many of the other values in the top 20 are addresses within Austin, such as *'7201 Levander Loop in Austin (TX)'*, for instance. This inconsistency will make comparisons difficult. This issue will be noted in the Data Quality Report and addressed in the Data Quality Plan.\n",
    " - Many of the most frequent values for *'Breed_Intake'* are potentially overlapping. For example, both *'Domestic Shorthair Mix'* and *'Domestic Shorthair'* are in the top 5 most frequent. Ideally I would need to speak to the domain expert to understand more about whether these refer to slightly different breeds. For now this issue will be noted in the Data Quality Report and addressed in the Data Quality Plan.\n",
    " - Many of the most frequent values for *'Color_Intake'* are potentially overlapping. For example, both *'Black/White '* and *'White/Black'* are in the top 5 most frequent. Also, this feature is describing both the color and the coat pattern eg. Tabby. Both of these factors may be contributing to the high cardinality. For now this issue will be noted in the Data Quality Report and addressed in the Data Quality Plan."
   ]
  },
  {
   "cell_type": "markdown",
   "metadata": {},
   "source": [
    "### Check logical integrity of Data"
   ]
  },
  {
   "cell_type": "markdown",
   "metadata": {},
   "source": [
    "We will now perform some additional checks to make sure the data makes sense. Depending on the outcome of these checks, we may have to decide to drop them. Ideally, consulation with the domain expert would give us more information about how to replace any affected values. "
   ]
  },
  {
   "cell_type": "markdown",
   "metadata": {},
   "source": [
    " - **Test 1:** Check if the *'DateTime_Outcome'* is an earlier date than the *'DateTime_Intake'* for any of the animals. This would imply that the animal stayed a negative length of time in the shelter which is impossible."
   ]
  },
  {
   "cell_type": "code",
   "execution_count": 31,
   "metadata": {},
   "outputs": [
    {
     "name": "stdout",
     "output_type": "stream",
     "text": [
      "Number of rows failing the test:  7\n"
     ]
    },
    {
     "data": {
      "text/html": [
       "<div>\n",
       "<style scoped>\n",
       "    .dataframe tbody tr th:only-of-type {\n",
       "        vertical-align: middle;\n",
       "    }\n",
       "\n",
       "    .dataframe tbody tr th {\n",
       "        vertical-align: top;\n",
       "    }\n",
       "\n",
       "    .dataframe thead th {\n",
       "        text-align: right;\n",
       "    }\n",
       "</style>\n",
       "<table border=\"1\" class=\"dataframe\">\n",
       "  <thead>\n",
       "    <tr style=\"text-align: right;\">\n",
       "      <th></th>\n",
       "      <th>DateTime_Outcome</th>\n",
       "      <th>DateTime_Intake</th>\n",
       "    </tr>\n",
       "  </thead>\n",
       "  <tbody>\n",
       "    <tr>\n",
       "      <td>150</td>\n",
       "      <td>2019-06-30 18:17:00</td>\n",
       "      <td>2019-07-01 16:20:00</td>\n",
       "    </tr>\n",
       "    <tr>\n",
       "      <td>193</td>\n",
       "      <td>2016-09-21 12:28:00</td>\n",
       "      <td>2016-10-09 14:42:00</td>\n",
       "    </tr>\n",
       "    <tr>\n",
       "      <td>286</td>\n",
       "      <td>2018-11-13 18:47:00</td>\n",
       "      <td>2018-12-09 11:36:00</td>\n",
       "    </tr>\n",
       "    <tr>\n",
       "      <td>354</td>\n",
       "      <td>2018-09-09 17:08:00</td>\n",
       "      <td>2019-11-29 14:47:00</td>\n",
       "    </tr>\n",
       "    <tr>\n",
       "      <td>443</td>\n",
       "      <td>2018-07-15 17:13:00</td>\n",
       "      <td>2018-10-13 12:30:00</td>\n",
       "    </tr>\n",
       "    <tr>\n",
       "      <td>627</td>\n",
       "      <td>2019-07-03 18:36:00</td>\n",
       "      <td>2019-09-05 13:38:00</td>\n",
       "    </tr>\n",
       "    <tr>\n",
       "      <td>929</td>\n",
       "      <td>2013-11-30 17:07:00</td>\n",
       "      <td>2015-02-04 17:54:00</td>\n",
       "    </tr>\n",
       "  </tbody>\n",
       "</table>\n",
       "</div>"
      ],
      "text/plain": [
       "       DateTime_Outcome     DateTime_Intake\n",
       "150 2019-06-30 18:17:00 2019-07-01 16:20:00\n",
       "193 2016-09-21 12:28:00 2016-10-09 14:42:00\n",
       "286 2018-11-13 18:47:00 2018-12-09 11:36:00\n",
       "354 2018-09-09 17:08:00 2019-11-29 14:47:00\n",
       "443 2018-07-15 17:13:00 2018-10-13 12:30:00\n",
       "627 2019-07-03 18:36:00 2019-09-05 13:38:00\n",
       "929 2013-11-30 17:07:00 2015-02-04 17:54:00"
      ]
     },
     "execution_count": 31,
     "metadata": {},
     "output_type": "execute_result"
    }
   ],
   "source": [
    "#create a dataframe containing the instances where date of outcome is less than date of intake\n",
    "test_1 = df[['DateTime_Outcome','DateTime_Intake']][df['DateTime_Outcome'] < df['DateTime_Intake']]\n",
    "print(\"Number of rows failing the test: \", test_1.shape[0])\n",
    "test_1.head(7)"
   ]
  },
  {
   "cell_type": "markdown",
   "metadata": {},
   "source": [
    " - **Test 2:** Check if the *'DateTime_Intake'* for any animal is less before their *'DateofBirth'*. This would imply that the animal entered the shelter before they were born which does not seem plausible. "
   ]
  },
  {
   "cell_type": "code",
   "execution_count": 32,
   "metadata": {},
   "outputs": [
    {
     "name": "stdout",
     "output_type": "stream",
     "text": [
      "Number of rows failing the test:  0\n"
     ]
    },
    {
     "data": {
      "text/html": [
       "<div>\n",
       "<style scoped>\n",
       "    .dataframe tbody tr th:only-of-type {\n",
       "        vertical-align: middle;\n",
       "    }\n",
       "\n",
       "    .dataframe tbody tr th {\n",
       "        vertical-align: top;\n",
       "    }\n",
       "\n",
       "    .dataframe thead th {\n",
       "        text-align: right;\n",
       "    }\n",
       "</style>\n",
       "<table border=\"1\" class=\"dataframe\">\n",
       "  <thead>\n",
       "    <tr style=\"text-align: right;\">\n",
       "      <th></th>\n",
       "      <th>DateTime_Intake</th>\n",
       "      <th>DateofBirth</th>\n",
       "    </tr>\n",
       "  </thead>\n",
       "  <tbody>\n",
       "  </tbody>\n",
       "</table>\n",
       "</div>"
      ],
      "text/plain": [
       "Empty DataFrame\n",
       "Columns: [DateTime_Intake, DateofBirth]\n",
       "Index: []"
      ]
     },
     "execution_count": 32,
     "metadata": {},
     "output_type": "execute_result"
    }
   ],
   "source": [
    "#create a dataframe containing the instances where date of intake is less than date of birth\n",
    "test_2 = df[['DateTime_Intake','DateofBirth']][df['DateTime_Intake'] < df['DateofBirth']]\n",
    "# test_1 = (df['DateTime_Outcome'] - df['DateTime_Intake']).dt.days\n",
    "print(\"Number of rows failing the test: \", test_2.shape[0])\n",
    "test_2.head(7)"
   ]
  },
  {
   "cell_type": "markdown",
   "metadata": {},
   "source": [
    " - **Test 3:** Check if age of intake of any animal is zero. This is indeed plausible if an animal is born in the shelter. However, this will be tested to ensure there are not an unexpected number of animals aged zero as this may imply some invalid data. "
   ]
  },
  {
   "cell_type": "code",
   "execution_count": 33,
   "metadata": {},
   "outputs": [
    {
     "name": "stdout",
     "output_type": "stream",
     "text": [
      "Number of rows failing the test:  5\n"
     ]
    },
    {
     "data": {
      "text/html": [
       "<div>\n",
       "<style scoped>\n",
       "    .dataframe tbody tr th:only-of-type {\n",
       "        vertical-align: middle;\n",
       "    }\n",
       "\n",
       "    .dataframe tbody tr th {\n",
       "        vertical-align: top;\n",
       "    }\n",
       "\n",
       "    .dataframe thead th {\n",
       "        text-align: right;\n",
       "    }\n",
       "</style>\n",
       "<table border=\"1\" class=\"dataframe\">\n",
       "  <thead>\n",
       "    <tr style=\"text-align: right;\">\n",
       "      <th></th>\n",
       "      <th>AnimalID</th>\n",
       "      <th>Name_Intake</th>\n",
       "      <th>DateTime_Intake</th>\n",
       "      <th>FoundLocation</th>\n",
       "      <th>IntakeType</th>\n",
       "      <th>IntakeCondition</th>\n",
       "      <th>AnimalType_Intake</th>\n",
       "      <th>SexuponIntake</th>\n",
       "      <th>AgeuponIntake</th>\n",
       "      <th>Breed_Intake</th>\n",
       "      <th>Color_Intake</th>\n",
       "      <th>DateTime_Outcome</th>\n",
       "      <th>DateofBirth</th>\n",
       "      <th>SexuponOutcome</th>\n",
       "      <th>AgeuponOutcome</th>\n",
       "      <th>binary_outcome</th>\n",
       "    </tr>\n",
       "  </thead>\n",
       "  <tbody>\n",
       "    <tr>\n",
       "      <td>180</td>\n",
       "      <td>A789433</td>\n",
       "      <td>NaN</td>\n",
       "      <td>2019-02-21 14:46:00</td>\n",
       "      <td>Marigold in Austin (TX)</td>\n",
       "      <td>Stray</td>\n",
       "      <td>Nursing</td>\n",
       "      <td>Cat</td>\n",
       "      <td>Unknown</td>\n",
       "      <td>0 years</td>\n",
       "      <td>Domestic Shorthair Mix</td>\n",
       "      <td>Black/White</td>\n",
       "      <td>2019-02-22 08:12:00</td>\n",
       "      <td>2019-02-21</td>\n",
       "      <td>Unknown</td>\n",
       "      <td>1 day</td>\n",
       "      <td>0</td>\n",
       "    </tr>\n",
       "    <tr>\n",
       "      <td>497</td>\n",
       "      <td>A740100</td>\n",
       "      <td>*Reagan</td>\n",
       "      <td>2016-12-11 11:37:00</td>\n",
       "      <td>Travis (TX)</td>\n",
       "      <td>Stray</td>\n",
       "      <td>Nursing</td>\n",
       "      <td>Dog</td>\n",
       "      <td>Intact Female</td>\n",
       "      <td>0 years</td>\n",
       "      <td>Chihuahua Shorthair Mix</td>\n",
       "      <td>Sable</td>\n",
       "      <td>2016-12-12 00:00:00</td>\n",
       "      <td>2016-12-11</td>\n",
       "      <td>Intact Female</td>\n",
       "      <td>1 day</td>\n",
       "      <td>0</td>\n",
       "    </tr>\n",
       "    <tr>\n",
       "      <td>668</td>\n",
       "      <td>A755172</td>\n",
       "      <td>NaN</td>\n",
       "      <td>2017-07-30 11:50:00</td>\n",
       "      <td>Austin (TX)</td>\n",
       "      <td>Owner Surrender</td>\n",
       "      <td>Normal</td>\n",
       "      <td>Dog</td>\n",
       "      <td>Intact Male</td>\n",
       "      <td>0 years</td>\n",
       "      <td>Chihuahua Shorthair Mix</td>\n",
       "      <td>White/Black</td>\n",
       "      <td>2017-07-30 16:51:00</td>\n",
       "      <td>2017-07-30</td>\n",
       "      <td>Intact Male</td>\n",
       "      <td>0 years</td>\n",
       "      <td>0</td>\n",
       "    </tr>\n",
       "    <tr>\n",
       "      <td>811</td>\n",
       "      <td>A752185</td>\n",
       "      <td>NaN</td>\n",
       "      <td>2017-06-19 14:04:00</td>\n",
       "      <td>13811 Lampting Dr in Travis (TX)</td>\n",
       "      <td>Stray</td>\n",
       "      <td>Normal</td>\n",
       "      <td>Cat</td>\n",
       "      <td>Intact Female</td>\n",
       "      <td>0 years</td>\n",
       "      <td>Domestic Shorthair Mix</td>\n",
       "      <td>Tortie</td>\n",
       "      <td>2017-08-12 15:00:00</td>\n",
       "      <td>2017-06-19</td>\n",
       "      <td>Spayed Female</td>\n",
       "      <td>1 month</td>\n",
       "      <td>0</td>\n",
       "    </tr>\n",
       "    <tr>\n",
       "      <td>842</td>\n",
       "      <td>A726492</td>\n",
       "      <td>Arlo</td>\n",
       "      <td>2016-05-11 12:50:00</td>\n",
       "      <td>7101 Ed Bluestein Blvd in Austin (TX)</td>\n",
       "      <td>Stray</td>\n",
       "      <td>Normal</td>\n",
       "      <td>Dog</td>\n",
       "      <td>Intact Male</td>\n",
       "      <td>0 years</td>\n",
       "      <td>Catahoula Mix</td>\n",
       "      <td>Brown Brindle</td>\n",
       "      <td>2016-07-06 18:26:00</td>\n",
       "      <td>2016-05-11</td>\n",
       "      <td>Neutered Male</td>\n",
       "      <td>1 month</td>\n",
       "      <td>0</td>\n",
       "    </tr>\n",
       "  </tbody>\n",
       "</table>\n",
       "</div>"
      ],
      "text/plain": [
       "    AnimalID Name_Intake     DateTime_Intake  \\\n",
       "180  A789433         NaN 2019-02-21 14:46:00   \n",
       "497  A740100     *Reagan 2016-12-11 11:37:00   \n",
       "668  A755172         NaN 2017-07-30 11:50:00   \n",
       "811  A752185         NaN 2017-06-19 14:04:00   \n",
       "842  A726492        Arlo 2016-05-11 12:50:00   \n",
       "\n",
       "                             FoundLocation       IntakeType IntakeCondition  \\\n",
       "180                Marigold in Austin (TX)            Stray         Nursing   \n",
       "497                            Travis (TX)            Stray         Nursing   \n",
       "668                            Austin (TX)  Owner Surrender          Normal   \n",
       "811       13811 Lampting Dr in Travis (TX)            Stray          Normal   \n",
       "842  7101 Ed Bluestein Blvd in Austin (TX)            Stray          Normal   \n",
       "\n",
       "    AnimalType_Intake  SexuponIntake AgeuponIntake             Breed_Intake  \\\n",
       "180               Cat        Unknown       0 years   Domestic Shorthair Mix   \n",
       "497               Dog  Intact Female       0 years  Chihuahua Shorthair Mix   \n",
       "668               Dog    Intact Male       0 years  Chihuahua Shorthair Mix   \n",
       "811               Cat  Intact Female       0 years   Domestic Shorthair Mix   \n",
       "842               Dog    Intact Male       0 years            Catahoula Mix   \n",
       "\n",
       "      Color_Intake    DateTime_Outcome DateofBirth SexuponOutcome  \\\n",
       "180    Black/White 2019-02-22 08:12:00  2019-02-21        Unknown   \n",
       "497          Sable 2016-12-12 00:00:00  2016-12-11  Intact Female   \n",
       "668    White/Black 2017-07-30 16:51:00  2017-07-30    Intact Male   \n",
       "811         Tortie 2017-08-12 15:00:00  2017-06-19  Spayed Female   \n",
       "842  Brown Brindle 2016-07-06 18:26:00  2016-05-11  Neutered Male   \n",
       "\n",
       "    AgeuponOutcome binary_outcome  \n",
       "180          1 day              0  \n",
       "497          1 day              0  \n",
       "668        0 years              0  \n",
       "811        1 month              0  \n",
       "842        1 month              0  "
      ]
     },
     "execution_count": 33,
     "metadata": {},
     "output_type": "execute_result"
    }
   ],
   "source": [
    "#create a dataframe containing the instances where age of intake is zero\n",
    "#I subtract date of birth from date of intake and convert this value to days\n",
    "age_intake = (df['DateTime_Intake'] - df['DateofBirth']).dt.days\n",
    "test_3 = df[age_intake == 0]\n",
    "print(\"Number of rows failing the test: \", test_3.shape[0])\n",
    "test_3.head()"
   ]
  },
  {
   "cell_type": "markdown",
   "metadata": {},
   "source": [
    " - **Test 4:** Check if age of outcome of any animal is zero. This would imply that an animal left  the shelter on the day of their birth. This would need further investigation."
   ]
  },
  {
   "cell_type": "code",
   "execution_count": 34,
   "metadata": {},
   "outputs": [
    {
     "name": "stdout",
     "output_type": "stream",
     "text": [
      "Number of rows failing the test:  1\n"
     ]
    },
    {
     "data": {
      "text/html": [
       "<div>\n",
       "<style scoped>\n",
       "    .dataframe tbody tr th:only-of-type {\n",
       "        vertical-align: middle;\n",
       "    }\n",
       "\n",
       "    .dataframe tbody tr th {\n",
       "        vertical-align: top;\n",
       "    }\n",
       "\n",
       "    .dataframe thead th {\n",
       "        text-align: right;\n",
       "    }\n",
       "</style>\n",
       "<table border=\"1\" class=\"dataframe\">\n",
       "  <thead>\n",
       "    <tr style=\"text-align: right;\">\n",
       "      <th></th>\n",
       "      <th>AnimalID</th>\n",
       "      <th>Name_Intake</th>\n",
       "      <th>DateTime_Intake</th>\n",
       "      <th>FoundLocation</th>\n",
       "      <th>IntakeType</th>\n",
       "      <th>IntakeCondition</th>\n",
       "      <th>AnimalType_Intake</th>\n",
       "      <th>SexuponIntake</th>\n",
       "      <th>AgeuponIntake</th>\n",
       "      <th>Breed_Intake</th>\n",
       "      <th>Color_Intake</th>\n",
       "      <th>DateTime_Outcome</th>\n",
       "      <th>DateofBirth</th>\n",
       "      <th>SexuponOutcome</th>\n",
       "      <th>AgeuponOutcome</th>\n",
       "      <th>binary_outcome</th>\n",
       "    </tr>\n",
       "  </thead>\n",
       "  <tbody>\n",
       "    <tr>\n",
       "      <td>668</td>\n",
       "      <td>A755172</td>\n",
       "      <td>NaN</td>\n",
       "      <td>2017-07-30 11:50:00</td>\n",
       "      <td>Austin (TX)</td>\n",
       "      <td>Owner Surrender</td>\n",
       "      <td>Normal</td>\n",
       "      <td>Dog</td>\n",
       "      <td>Intact Male</td>\n",
       "      <td>0 years</td>\n",
       "      <td>Chihuahua Shorthair Mix</td>\n",
       "      <td>White/Black</td>\n",
       "      <td>2017-07-30 16:51:00</td>\n",
       "      <td>2017-07-30</td>\n",
       "      <td>Intact Male</td>\n",
       "      <td>0 years</td>\n",
       "      <td>0</td>\n",
       "    </tr>\n",
       "  </tbody>\n",
       "</table>\n",
       "</div>"
      ],
      "text/plain": [
       "    AnimalID Name_Intake     DateTime_Intake FoundLocation       IntakeType  \\\n",
       "668  A755172         NaN 2017-07-30 11:50:00   Austin (TX)  Owner Surrender   \n",
       "\n",
       "    IntakeCondition AnimalType_Intake SexuponIntake AgeuponIntake  \\\n",
       "668          Normal               Dog   Intact Male       0 years   \n",
       "\n",
       "                Breed_Intake Color_Intake    DateTime_Outcome DateofBirth  \\\n",
       "668  Chihuahua Shorthair Mix  White/Black 2017-07-30 16:51:00  2017-07-30   \n",
       "\n",
       "    SexuponOutcome AgeuponOutcome binary_outcome  \n",
       "668    Intact Male        0 years              0  "
      ]
     },
     "execution_count": 34,
     "metadata": {},
     "output_type": "execute_result"
    }
   ],
   "source": [
    "#create a dataframe containing the instances where age of outcome is zero\n",
    "#I subtract date of birth from date of intake and convert this value to days\n",
    "age_outcome = (df['DateTime_Outcome'] - df['DateofBirth']).dt.days\n",
    "test_4 = df[age_outcome == 0]\n",
    "print(\"Number of rows failing the test: \", test_4.shape[0])\n",
    "test_4.head()"
   ]
  },
  {
   "cell_type": "markdown",
   "metadata": {},
   "source": [
    "**Running Assessment:**\n",
    "\n",
    "We can see that there are some failed instances in the tests above. These will be discussed in more detail in the Data Quality Report and investigated in the Data Quality Plan."
   ]
  },
  {
   "cell_type": "markdown",
   "metadata": {},
   "source": [
    "### Save cleaned/updated data frame to a new csv file"
   ]
  },
  {
   "cell_type": "markdown",
   "metadata": {},
   "source": [
    "We now save the cleaned data to a new csv file. "
   ]
  },
  {
   "cell_type": "code",
   "execution_count": 35,
   "metadata": {},
   "outputs": [],
   "source": [
    "df.to_csv('animalWelfare_19205514_Updated.csv')"
   ]
  },
  {
   "cell_type": "markdown",
   "metadata": {},
   "source": [
    "### Tables of descriptive statistics"
   ]
  },
  {
   "cell_type": "markdown",
   "metadata": {},
   "source": [
    "In this section of the assignment we generate tables of descriptive statistics for each of the features. "
   ]
  },
  {
   "cell_type": "markdown",
   "metadata": {},
   "source": [
    "#### Read from the updated/cleaned csv file"
   ]
  },
  {
   "cell_type": "markdown",
   "metadata": {},
   "source": [
    "First we read from the cleaned csv file."
   ]
  },
  {
   "cell_type": "code",
   "execution_count": 36,
   "metadata": {},
   "outputs": [],
   "source": [
    "# Reading from a csv file, into a data frame\n",
    "df = pd.read_csv('animalWelfare_19205514_Updated.csv')"
   ]
  },
  {
   "cell_type": "code",
   "execution_count": 37,
   "metadata": {},
   "outputs": [
    {
     "data": {
      "text/plain": [
       "Unnamed: 0            int64\n",
       "AnimalID             object\n",
       "Name_Intake          object\n",
       "DateTime_Intake      object\n",
       "FoundLocation        object\n",
       "IntakeType           object\n",
       "IntakeCondition      object\n",
       "AnimalType_Intake    object\n",
       "SexuponIntake        object\n",
       "AgeuponIntake        object\n",
       "Breed_Intake         object\n",
       "Color_Intake         object\n",
       "DateTime_Outcome     object\n",
       "DateofBirth          object\n",
       "SexuponOutcome       object\n",
       "AgeuponOutcome       object\n",
       "binary_outcome        int64\n",
       "dtype: object"
      ]
     },
     "execution_count": 37,
     "metadata": {},
     "output_type": "execute_result"
    }
   ],
   "source": [
    "df.dtypes"
   ]
  },
  {
   "cell_type": "markdown",
   "metadata": {},
   "source": [
    "The datatypes have reverted back to their originals so in the cells below I re-run the code to convert them to the appropriate types. "
   ]
  },
  {
   "cell_type": "code",
   "execution_count": 38,
   "metadata": {},
   "outputs": [],
   "source": [
    "# create a list of datetime features\n",
    "datetime_columns = ['DateTime_Intake', 'DateTime_Outcome', 'DateofBirth']\n",
    "\n",
    "#convert all features in list to datatime64\n",
    "for column in datetime_columns: \n",
    "    df[column] = df[column].astype('datetime64')"
   ]
  },
  {
   "cell_type": "code",
   "execution_count": 39,
   "metadata": {},
   "outputs": [
    {
     "data": {
      "text/plain": [
       "Unnamed: 0                    int64\n",
       "AnimalID                     object\n",
       "Name_Intake                category\n",
       "DateTime_Intake      datetime64[ns]\n",
       "FoundLocation              category\n",
       "IntakeType                 category\n",
       "IntakeCondition            category\n",
       "AnimalType_Intake          category\n",
       "SexuponIntake              category\n",
       "AgeuponIntake              category\n",
       "Breed_Intake               category\n",
       "Color_Intake               category\n",
       "DateTime_Outcome     datetime64[ns]\n",
       "DateofBirth          datetime64[ns]\n",
       "SexuponOutcome             category\n",
       "AgeuponOutcome             category\n",
       "binary_outcome             category\n",
       "dtype: object"
      ]
     },
     "execution_count": 39,
     "metadata": {},
     "output_type": "execute_result"
    }
   ],
   "source": [
    "#Convert object columns to type 'category'\n",
    "\n",
    "object_columns = df.select_dtypes(['object']).columns\n",
    "for column in object_columns:\n",
    "    df[column] = df[column].astype('category')\n",
    "\n",
    "#convert binary outcome to category type\n",
    "df['binary_outcome'] = df['binary_outcome'].astype('category')\n",
    "\n",
    "#convert animal ID to an object type\n",
    "df['AnimalID'] = df['AnimalID'].astype('object')\n",
    "\n",
    "#check types have indeed changed\n",
    "df.dtypes"
   ]
  },
  {
   "cell_type": "code",
   "execution_count": 40,
   "metadata": {},
   "outputs": [],
   "source": [
    "#delete the column 'Unnamed: 0' which has appeared in new csv file.\n",
    "#This is not part of the dataset and is not necessary.\n",
    "df = df.drop(['Unnamed: 0'], axis=1)"
   ]
  },
  {
   "cell_type": "markdown",
   "metadata": {},
   "source": [
    "### Descriptive statistics for continuous features\n",
    "\n",
    "At this stage in the assignment we are still visualising the data as it currently exists. As a result, there are no continuous feature to statistically analyse. If continuous features are implemented later on in the Data Quality Plan, a table of descriptive statistics will be generated then."
   ]
  },
  {
   "cell_type": "markdown",
   "metadata": {},
   "source": [
    "### Table of descriptive statistics for the categorical features"
   ]
  },
  {
   "cell_type": "markdown",
   "metadata": {},
   "source": [
    "We will now create a summary table for all categorical features."
   ]
  },
  {
   "cell_type": "code",
   "execution_count": 41,
   "metadata": {},
   "outputs": [
    {
     "data": {
      "text/html": [
       "<div>\n",
       "<style scoped>\n",
       "    .dataframe tbody tr th:only-of-type {\n",
       "        vertical-align: middle;\n",
       "    }\n",
       "\n",
       "    .dataframe tbody tr th {\n",
       "        vertical-align: top;\n",
       "    }\n",
       "\n",
       "    .dataframe thead th {\n",
       "        text-align: right;\n",
       "    }\n",
       "</style>\n",
       "<table border=\"1\" class=\"dataframe\">\n",
       "  <thead>\n",
       "    <tr style=\"text-align: right;\">\n",
       "      <th></th>\n",
       "      <th>count</th>\n",
       "      <th>unique</th>\n",
       "      <th>top</th>\n",
       "      <th>freq</th>\n",
       "    </tr>\n",
       "  </thead>\n",
       "  <tbody>\n",
       "    <tr>\n",
       "      <td>Name_Intake</td>\n",
       "      <td>694</td>\n",
       "      <td>603</td>\n",
       "      <td>Max</td>\n",
       "      <td>8</td>\n",
       "    </tr>\n",
       "    <tr>\n",
       "      <td>FoundLocation</td>\n",
       "      <td>1000</td>\n",
       "      <td>766</td>\n",
       "      <td>Austin (TX)</td>\n",
       "      <td>188</td>\n",
       "    </tr>\n",
       "    <tr>\n",
       "      <td>IntakeType</td>\n",
       "      <td>1000</td>\n",
       "      <td>5</td>\n",
       "      <td>Stray</td>\n",
       "      <td>708</td>\n",
       "    </tr>\n",
       "    <tr>\n",
       "      <td>IntakeCondition</td>\n",
       "      <td>1000</td>\n",
       "      <td>5</td>\n",
       "      <td>Normal</td>\n",
       "      <td>891</td>\n",
       "    </tr>\n",
       "    <tr>\n",
       "      <td>AnimalType_Intake</td>\n",
       "      <td>1000</td>\n",
       "      <td>4</td>\n",
       "      <td>Dog</td>\n",
       "      <td>563</td>\n",
       "    </tr>\n",
       "    <tr>\n",
       "      <td>SexuponIntake</td>\n",
       "      <td>1000</td>\n",
       "      <td>5</td>\n",
       "      <td>Intact Male</td>\n",
       "      <td>332</td>\n",
       "    </tr>\n",
       "    <tr>\n",
       "      <td>AgeuponIntake</td>\n",
       "      <td>1000</td>\n",
       "      <td>43</td>\n",
       "      <td>1 year</td>\n",
       "      <td>172</td>\n",
       "    </tr>\n",
       "    <tr>\n",
       "      <td>Breed_Intake</td>\n",
       "      <td>1000</td>\n",
       "      <td>211</td>\n",
       "      <td>Domestic Shorthair Mix</td>\n",
       "      <td>259</td>\n",
       "    </tr>\n",
       "    <tr>\n",
       "      <td>Color_Intake</td>\n",
       "      <td>1000</td>\n",
       "      <td>115</td>\n",
       "      <td>Black/White</td>\n",
       "      <td>106</td>\n",
       "    </tr>\n",
       "    <tr>\n",
       "      <td>SexuponOutcome</td>\n",
       "      <td>1000</td>\n",
       "      <td>5</td>\n",
       "      <td>Neutered Male</td>\n",
       "      <td>346</td>\n",
       "    </tr>\n",
       "    <tr>\n",
       "      <td>AgeuponOutcome</td>\n",
       "      <td>1000</td>\n",
       "      <td>42</td>\n",
       "      <td>1 year</td>\n",
       "      <td>170</td>\n",
       "    </tr>\n",
       "    <tr>\n",
       "      <td>binary_outcome</td>\n",
       "      <td>1000</td>\n",
       "      <td>2</td>\n",
       "      <td>0</td>\n",
       "      <td>920</td>\n",
       "    </tr>\n",
       "  </tbody>\n",
       "</table>\n",
       "</div>"
      ],
      "text/plain": [
       "                  count unique                     top freq\n",
       "Name_Intake         694    603                     Max    8\n",
       "FoundLocation      1000    766             Austin (TX)  188\n",
       "IntakeType         1000      5                   Stray  708\n",
       "IntakeCondition    1000      5                  Normal  891\n",
       "AnimalType_Intake  1000      4                     Dog  563\n",
       "SexuponIntake      1000      5             Intact Male  332\n",
       "AgeuponIntake      1000     43                  1 year  172\n",
       "Breed_Intake       1000    211  Domestic Shorthair Mix  259\n",
       "Color_Intake       1000    115             Black/White  106\n",
       "SexuponOutcome     1000      5           Neutered Male  346\n",
       "AgeuponOutcome     1000     42                  1 year  170\n",
       "binary_outcome     1000      2                       0  920"
      ]
     },
     "execution_count": 41,
     "metadata": {},
     "output_type": "execute_result"
    }
   ],
   "source": [
    "#create table for descriptive stats for categorical features\n",
    "\n",
    "category_cols = df.select_dtypes(['category']).columns\n",
    "df[category_cols].describe().T"
   ]
  },
  {
   "cell_type": "markdown",
   "metadata": {},
   "source": [
    "- It is useful to also visualise the percentage of missing values and the cardinality of all features. In the cell below I create a column for % missing value. I do not need to add a cardinality column as this information is already portrayed in the *'unique'* column.\n",
    "- a new dataframe is created which contains the percentage of missing values for each feature. "
   ]
  },
  {
   "cell_type": "code",
   "execution_count": 42,
   "metadata": {},
   "outputs": [],
   "source": [
    "#create missing column \n",
    "category_columns_perc_missing  = 100 * (df[category_cols].isnull().sum()/df.shape[0])\n",
    "\n",
    "# Store the values in a new dataframe\n",
    "df_category_perc_missing = pd.DataFrame(category_columns_perc_missing, columns=['%missing'])"
   ]
  },
  {
   "cell_type": "markdown",
   "metadata": {},
   "source": [
    "We now create a table which contains the descriptive information for the categorical features implemented above. This table is concatenated with the table of missing values to give a final summary table for the categorical features. "
   ]
  },
  {
   "cell_type": "code",
   "execution_count": 43,
   "metadata": {},
   "outputs": [
    {
     "data": {
      "text/html": [
       "<div>\n",
       "<style scoped>\n",
       "    .dataframe tbody tr th:only-of-type {\n",
       "        vertical-align: middle;\n",
       "    }\n",
       "\n",
       "    .dataframe tbody tr th {\n",
       "        vertical-align: top;\n",
       "    }\n",
       "\n",
       "    .dataframe thead th {\n",
       "        text-align: right;\n",
       "    }\n",
       "</style>\n",
       "<table border=\"1\" class=\"dataframe\">\n",
       "  <thead>\n",
       "    <tr style=\"text-align: right;\">\n",
       "      <th></th>\n",
       "      <th>count</th>\n",
       "      <th>unique</th>\n",
       "      <th>top</th>\n",
       "      <th>freq</th>\n",
       "      <th>%missing</th>\n",
       "    </tr>\n",
       "  </thead>\n",
       "  <tbody>\n",
       "    <tr>\n",
       "      <td>Name_Intake</td>\n",
       "      <td>694</td>\n",
       "      <td>603</td>\n",
       "      <td>Max</td>\n",
       "      <td>8</td>\n",
       "      <td>30.6</td>\n",
       "    </tr>\n",
       "    <tr>\n",
       "      <td>FoundLocation</td>\n",
       "      <td>1000</td>\n",
       "      <td>766</td>\n",
       "      <td>Austin (TX)</td>\n",
       "      <td>188</td>\n",
       "      <td>0.0</td>\n",
       "    </tr>\n",
       "    <tr>\n",
       "      <td>IntakeType</td>\n",
       "      <td>1000</td>\n",
       "      <td>5</td>\n",
       "      <td>Stray</td>\n",
       "      <td>708</td>\n",
       "      <td>0.0</td>\n",
       "    </tr>\n",
       "    <tr>\n",
       "      <td>IntakeCondition</td>\n",
       "      <td>1000</td>\n",
       "      <td>5</td>\n",
       "      <td>Normal</td>\n",
       "      <td>891</td>\n",
       "      <td>0.0</td>\n",
       "    </tr>\n",
       "    <tr>\n",
       "      <td>AnimalType_Intake</td>\n",
       "      <td>1000</td>\n",
       "      <td>4</td>\n",
       "      <td>Dog</td>\n",
       "      <td>563</td>\n",
       "      <td>0.0</td>\n",
       "    </tr>\n",
       "    <tr>\n",
       "      <td>SexuponIntake</td>\n",
       "      <td>1000</td>\n",
       "      <td>5</td>\n",
       "      <td>Intact Male</td>\n",
       "      <td>332</td>\n",
       "      <td>0.0</td>\n",
       "    </tr>\n",
       "    <tr>\n",
       "      <td>AgeuponIntake</td>\n",
       "      <td>1000</td>\n",
       "      <td>43</td>\n",
       "      <td>1 year</td>\n",
       "      <td>172</td>\n",
       "      <td>0.0</td>\n",
       "    </tr>\n",
       "    <tr>\n",
       "      <td>Breed_Intake</td>\n",
       "      <td>1000</td>\n",
       "      <td>211</td>\n",
       "      <td>Domestic Shorthair Mix</td>\n",
       "      <td>259</td>\n",
       "      <td>0.0</td>\n",
       "    </tr>\n",
       "    <tr>\n",
       "      <td>Color_Intake</td>\n",
       "      <td>1000</td>\n",
       "      <td>115</td>\n",
       "      <td>Black/White</td>\n",
       "      <td>106</td>\n",
       "      <td>0.0</td>\n",
       "    </tr>\n",
       "    <tr>\n",
       "      <td>SexuponOutcome</td>\n",
       "      <td>1000</td>\n",
       "      <td>5</td>\n",
       "      <td>Neutered Male</td>\n",
       "      <td>346</td>\n",
       "      <td>0.0</td>\n",
       "    </tr>\n",
       "    <tr>\n",
       "      <td>AgeuponOutcome</td>\n",
       "      <td>1000</td>\n",
       "      <td>42</td>\n",
       "      <td>1 year</td>\n",
       "      <td>170</td>\n",
       "      <td>0.0</td>\n",
       "    </tr>\n",
       "    <tr>\n",
       "      <td>binary_outcome</td>\n",
       "      <td>1000</td>\n",
       "      <td>2</td>\n",
       "      <td>0</td>\n",
       "      <td>920</td>\n",
       "      <td>0.0</td>\n",
       "    </tr>\n",
       "  </tbody>\n",
       "</table>\n",
       "</div>"
      ],
      "text/plain": [
       "                  count unique                     top freq  %missing\n",
       "Name_Intake         694    603                     Max    8      30.6\n",
       "FoundLocation      1000    766             Austin (TX)  188       0.0\n",
       "IntakeType         1000      5                   Stray  708       0.0\n",
       "IntakeCondition    1000      5                  Normal  891       0.0\n",
       "AnimalType_Intake  1000      4                     Dog  563       0.0\n",
       "SexuponIntake      1000      5             Intact Male  332       0.0\n",
       "AgeuponIntake      1000     43                  1 year  172       0.0\n",
       "Breed_Intake       1000    211  Domestic Shorthair Mix  259       0.0\n",
       "Color_Intake       1000    115             Black/White  106       0.0\n",
       "SexuponOutcome     1000      5           Neutered Male  346       0.0\n",
       "AgeuponOutcome     1000     42                  1 year  170       0.0\n",
       "binary_outcome     1000      2                       0  920       0.0"
      ]
     },
     "execution_count": 43,
     "metadata": {},
     "output_type": "execute_result"
    }
   ],
   "source": [
    "# create cateogpry dataframe\n",
    "df_table_categ = df[category_cols].describe().T\n",
    "\n",
    "# Put the columns together to prepare the final table for numeric_columns\n",
    "df_category_data_quality_report_table = pd.concat([df_table_categ, df_category_perc_missing], axis=1)\n",
    "\n",
    "df_category_data_quality_report_table"
   ]
  },
  {
   "cell_type": "markdown",
   "metadata": {},
   "source": [
    "#### Save the descriptive statistics for categorical features to csv for the Data Quality Report"
   ]
  },
  {
   "cell_type": "markdown",
   "metadata": {},
   "source": [
    "In the cell below we save this table to a csv file so that it can be included in the Data Quality Report. "
   ]
  },
  {
   "cell_type": "code",
   "execution_count": 44,
   "metadata": {},
   "outputs": [],
   "source": [
    "df_category_data_quality_report_table.to_csv(\"categoricalFeatureStatistics.csv\")"
   ]
  },
  {
   "cell_type": "markdown",
   "metadata": {},
   "source": [
    "### Table of descriptive statistics for the datetime features\n",
    "\n",
    "In the cell below I create a table of descriptive statistics for the datetime objects. It is clear that there will not be much useful information in this table. However, this in itself is an issue which will need to be addressed in the Data Quality Plan and so I will include the table here in order to clearly visualise the issue."
   ]
  },
  {
   "cell_type": "code",
   "execution_count": 45,
   "metadata": {
    "scrolled": true
   },
   "outputs": [
    {
     "data": {
      "text/html": [
       "<div>\n",
       "<style scoped>\n",
       "    .dataframe tbody tr th:only-of-type {\n",
       "        vertical-align: middle;\n",
       "    }\n",
       "\n",
       "    .dataframe tbody tr th {\n",
       "        vertical-align: top;\n",
       "    }\n",
       "\n",
       "    .dataframe thead th {\n",
       "        text-align: right;\n",
       "    }\n",
       "</style>\n",
       "<table border=\"1\" class=\"dataframe\">\n",
       "  <thead>\n",
       "    <tr style=\"text-align: right;\">\n",
       "      <th></th>\n",
       "      <th>count</th>\n",
       "      <th>unique</th>\n",
       "      <th>top</th>\n",
       "      <th>freq</th>\n",
       "      <th>first</th>\n",
       "      <th>last</th>\n",
       "    </tr>\n",
       "  </thead>\n",
       "  <tbody>\n",
       "    <tr>\n",
       "      <td>DateTime_Intake</td>\n",
       "      <td>1000</td>\n",
       "      <td>996</td>\n",
       "      <td>2018-05-20 15:04:00</td>\n",
       "      <td>2</td>\n",
       "      <td>2013-10-01 16:10:00</td>\n",
       "      <td>2020-01-26 12:05:00</td>\n",
       "    </tr>\n",
       "    <tr>\n",
       "      <td>DateTime_Outcome</td>\n",
       "      <td>1000</td>\n",
       "      <td>998</td>\n",
       "      <td>2018-05-20 18:32:00</td>\n",
       "      <td>2</td>\n",
       "      <td>2013-10-05 12:34:00</td>\n",
       "      <td>2020-02-03 17:45:00</td>\n",
       "    </tr>\n",
       "    <tr>\n",
       "      <td>DateofBirth</td>\n",
       "      <td>1000</td>\n",
       "      <td>872</td>\n",
       "      <td>2017-05-21 00:00:00</td>\n",
       "      <td>4</td>\n",
       "      <td>1997-06-11 00:00:00</td>\n",
       "      <td>2019-12-16 00:00:00</td>\n",
       "    </tr>\n",
       "  </tbody>\n",
       "</table>\n",
       "</div>"
      ],
      "text/plain": [
       "                 count unique                 top freq               first  \\\n",
       "DateTime_Intake   1000    996 2018-05-20 15:04:00    2 2013-10-01 16:10:00   \n",
       "DateTime_Outcome  1000    998 2018-05-20 18:32:00    2 2013-10-05 12:34:00   \n",
       "DateofBirth       1000    872 2017-05-21 00:00:00    4 1997-06-11 00:00:00   \n",
       "\n",
       "                                last  \n",
       "DateTime_Intake  2020-01-26 12:05:00  \n",
       "DateTime_Outcome 2020-02-03 17:45:00  \n",
       "DateofBirth      2019-12-16 00:00:00  "
      ]
     },
     "execution_count": 45,
     "metadata": {},
     "output_type": "execute_result"
    }
   ],
   "source": [
    "# create table of stats for datetime columns \n",
    "df[datetime_columns].describe().T"
   ]
  },
  {
   "cell_type": "markdown",
   "metadata": {},
   "source": [
    "**Running Assessment:**\n",
    "\n",
    "We can see that the table above is not as informative as the summary table for the categorical features. Although it gives us an idea of the range of dates entered, and that there are no highly anomalous dates entered, it is clear that the format of these features is not very helpful for our analysis."
   ]
  },
  {
   "cell_type": "markdown",
   "metadata": {},
   "source": [
    "#### Save the descriptive statistics for datetime features to csv for the Data Quality Report"
   ]
  },
  {
   "cell_type": "markdown",
   "metadata": {},
   "source": [
    "The summary table for the datetime features is now saved to a csv file so that it can be included in the Data Quality Report. "
   ]
  },
  {
   "cell_type": "code",
   "execution_count": 46,
   "metadata": {},
   "outputs": [],
   "source": [
    "date_time_data_quality_report_table = df[datetime_columns].describe().T\n",
    "date_time_data_quality_report_table.to_csv(\"datetimeFeatureStatistics.csv\")"
   ]
  },
  {
   "cell_type": "markdown",
   "metadata": {},
   "source": [
    "## Bar plots for categorical features"
   ]
  },
  {
   "cell_type": "markdown",
   "metadata": {},
   "source": [
    "- As dicussed above, at this stage in the assignment we do not have any continuous features to plot. As a result, we will now move on to plotting the categorical features.\n",
    "\n",
    "- We have already discussed how the categorical features *'Name_Intake', 'FoundLocation', 'Breed_Intake' and 'Color_Intake' have extremely high cardinalities. Box plots of these features will not be useful due to the high cardinalities. This issue will be addressed below. \n",
    "\n",
    "- First, we will create bar plots for all categorical features which have acceptable cardinalities. "
   ]
  },
  {
   "cell_type": "code",
   "execution_count": 47,
   "metadata": {},
   "outputs": [
    {
     "name": "stdout",
     "output_type": "stream",
     "text": [
      "Feature                              Unique Values\n",
      "-------                              --------------- \n",
      "\n",
      "Name_Intake                          604\n",
      "FoundLocation                        766\n",
      "IntakeType                           5\n",
      "IntakeCondition                      5\n",
      "AnimalType_Intake                    4\n",
      "SexuponIntake                        5\n",
      "AgeuponIntake                        43\n",
      "Breed_Intake                         211\n",
      "Color_Intake                         115\n",
      "SexuponOutcome                       5\n",
      "AgeuponOutcome                       42\n",
      "binary_outcome                       2\n"
     ]
    }
   ],
   "source": [
    "# visualise the cardinalities again so that I know which to plot initially\n",
    "category_columns = df.select_dtypes(['category']).columns\n",
    "features_card = list(df[category_columns].columns.values)\n",
    "\n",
    "print('{0:35}  {1}'.format(\"Feature\", \"Unique Values\"))\n",
    "print('{0:35}  {1}'.format(\"-------\", \"--------------- \\n\"))\n",
    "\n",
    "for c in category_columns:\n",
    "    print('{0:35}  {1}'.format(c, str(len(df[c].unique()))))"
   ]
  },
  {
   "cell_type": "code",
   "execution_count": 48,
   "metadata": {},
   "outputs": [
    {
     "data": {
      "image/png": "[encoded data removed]",
      "text/plain": [
       "<Figure size 864x720 with 1 Axes>"
      ]
     },
     "metadata": {
      "needs_background": "light"
     },
     "output_type": "display_data"
    },
    {
     "data": {
      "image/png": "[encoded data removed]",
      "text/plain": [
       "<Figure size 864x720 with 1 Axes>"
      ]
     },
     "metadata": {
      "needs_background": "light"
     },
     "output_type": "display_data"
    },
    {
     "data": {
      "image/png": "[encoded data removed]",
      "text/plain": [
       "<Figure size 864x720 with 1 Axes>"
      ]
     },
     "metadata": {
      "needs_background": "light"
     },
     "output_type": "display_data"
    },
    {
     "data": {
      "image/png": "[encoded data removed]",
      "text/plain": [
       "<Figure size 864x720 with 1 Axes>"
      ]
     },
     "metadata": {
      "needs_background": "light"
     },
     "output_type": "display_data"
    },
    {
     "data": {
      "image/png": "[encoded data removed]",
      "text/plain": [
       "<Figure size 864x720 with 1 Axes>"
      ]
     },
     "metadata": {
      "needs_background": "light"
     },
     "output_type": "display_data"
    },
    {
     "data": {
      "image/png": "[encoded data removed]",
      "text/plain": [
       "<Figure size 864x720 with 1 Axes>"
      ]
     },
     "metadata": {
      "needs_background": "light"
     },
     "output_type": "display_data"
    },
    {
     "data": {
      "image/png": "[encoded data removed]",
      "text/plain": [
       "<Figure size 864x720 with 1 Axes>"
      ]
     },
     "metadata": {
      "needs_background": "light"
     },
     "output_type": "display_data"
    },
    {
     "data": {
      "image/png": "[encoded data removed]",
      "text/plain": [
       "<Figure size 864x720 with 1 Axes>"
      ]
     },
     "metadata": {
      "needs_background": "light"
     },
     "output_type": "display_data"
    }
   ],
   "source": [
    "category_low_cardinality = ['IntakeType', 'IntakeCondition', 'AnimalType_Intake',\n",
    "                            'SexuponIntake', 'AgeuponIntake', 'SexuponOutcome', \n",
    "                            'AgeuponOutcome', 'binary_outcome']\n",
    "# Plot bar charts for all categorical features and save them in a single PDF file\n",
    "pp = PdfPages('AnimalWelfare_19205514_categorical_barcharts.pdf')\n",
    "\n",
    "# We can set the parameters for .value_counts() to not drop the na. This allows us to see missing data in our \n",
    "# categorical features.\n",
    "\n",
    "#dropna = false makes sure not leaving out missing values\n",
    "for column in category_low_cardinality:\n",
    "    f = df[column].value_counts(dropna=False).plot(kind='bar', title=column, figsize=(12,10))\n",
    "    plt.ylabel('number of animals')\n",
    "    pp.savefig(f.get_figure())\n",
    "    plt.show()\n",
    "\n",
    "pp.close()"
   ]
  },
  {
   "cell_type": "markdown",
   "metadata": {},
   "source": [
    "### Categorical features with high cardinality\n",
    "\n",
    "We will now plot each of the high cardinality features separately. Based on the frequencies returned above when testing for irregular cardinalities and permitted values, we have decided a suitable number of values to include in the plots. "
   ]
  },
  {
   "cell_type": "markdown",
   "metadata": {},
   "source": [
    "#### Name_Intake: \n",
    "The top 18 most frequent names will be plotted. "
   ]
  },
  {
   "cell_type": "code",
   "execution_count": 49,
   "metadata": {},
   "outputs": [
    {
     "data": {
      "image/png": "[encoded data removed]",
      "text/plain": [
       "<Figure size 864x720 with 1 Axes>"
      ]
     },
     "metadata": {
      "needs_background": "light"
     },
     "output_type": "display_data"
    }
   ],
   "source": [
    "#plot top 18 most frequent as this makes sense based on the data above\n",
    "name = df['Name_Intake'].value_counts()[:18].sort_values(ascending=False)\n",
    "name.plot(kind='bar', title = \"Name_Intake\", figsize=(12,10))\n",
    "plt.ylabel('number of animals')\n",
    "plt.savefig('categorical_NameIntake.pdf')"
   ]
  },
  {
   "cell_type": "markdown",
   "metadata": {},
   "source": [
    "#### Found Location: \n",
    " \n",
    "In *'FoundLocation'* the most frequent value is *'Austin (TX)'*. However, many of the other values in the top 20 are addresses within Austin. It is clear that this will be an issue and that the bar plot created will not be very useful. However, in order to be consistent at this stage of the assignment, I will plot the most frequent location. This original representation of the data will be retained for documentation and comparison later on. The high cardinality and inconsistency of address format will be detailed in the Data Quality Report and addressed in the Data Quality Plan.\n",
    "\n",
    "The top 14 most freuqent locations will be plotted. "
   ]
  },
  {
   "cell_type": "code",
   "execution_count": 50,
   "metadata": {},
   "outputs": [
    {
     "data": {
      "image/png": "[encoded data removed]",
      "text/plain": [
       "<Figure size 1080x360 with 1 Axes>"
      ]
     },
     "metadata": {
      "needs_background": "light"
     },
     "output_type": "display_data"
    }
   ],
   "source": [
    "location = df['FoundLocation'].value_counts()[:14].sort_values(ascending=False)\n",
    "location.plot(kind='bar', title=\"FoundLocation\", figsize=(15,5))\n",
    "plt.ylabel('number of animals')\n",
    "plt.savefig('categorical_FoundLocation.pdf')"
   ]
  },
  {
   "cell_type": "markdown",
   "metadata": {},
   "source": [
    "#### Breed Intake: \n",
    "The top 15 most frequent values will be plotted. "
   ]
  },
  {
   "cell_type": "code",
   "execution_count": 51,
   "metadata": {},
   "outputs": [
    {
     "data": {
      "image/png": "[encoded data removed]",
      "text/plain": [
       "<Figure size 1080x360 with 1 Axes>"
      ]
     },
     "metadata": {
      "needs_background": "light"
     },
     "output_type": "display_data"
    }
   ],
   "source": [
    "#plot top 18 most frequent as this makes sense based on the data above\n",
    "breed = df['Breed_Intake'].value_counts()[:15].sort_values(ascending=False)\n",
    "breed.plot(kind='bar', title=\"breed_Intake\", figsize=(15,5))\n",
    "plt.ylabel('number of animals')\n",
    "plt.savefig('categorical_Breed_Intake.pdf')"
   ]
  },
  {
   "cell_type": "markdown",
   "metadata": {},
   "source": [
    "#### Color Intake: \n",
    "The top 13 most frequent values will be plotted. "
   ]
  },
  {
   "cell_type": "code",
   "execution_count": 52,
   "metadata": {},
   "outputs": [
    {
     "data": {
      "image/png": "[encoded data removed]",
      "text/plain": [
       "<Figure size 1080x360 with 1 Axes>"
      ]
     },
     "metadata": {
      "needs_background": "light"
     },
     "output_type": "display_data"
    }
   ],
   "source": [
    "#plot top 18 most frequent as this makes sense based on the data above\n",
    "color = df['Color_Intake'].value_counts()[:13].sort_values(ascending=False)\n",
    "color.plot(kind='bar', title=\"color_Intake\", figsize=(15,5))\n",
    "plt.ylabel('number of animals')\n",
    "plt.savefig('categorical_Color_Intake.pdf')"
   ]
  },
  {
   "cell_type": "markdown",
   "metadata": {},
   "source": [
    "#### Running Assesment: \n",
    " - **Cardinalities:** As already noted, the high cardinalities of some features are an issue and may present problems for machine learning algorithms. In addition, it is difficult to extract meaningful information from some, most notably the *'FoundLocation'*.\n",
    " - **Missing Values:** There are 306 missing values in the *'Name_Intake'* feature.\n",
    " - **Ambiguous values:** It is possible that the values for some features are overlapping which may lead to ambiguity. \n",
    " \n",
    "### Initial Findings: \n",
    "\n",
    "Inital findings and detailed discussion for each feature can be found in the accompanying Data_Quality_Report.pdf file"
   ]
  },
  {
   "cell_type": "markdown",
   "metadata": {},
   "source": [
    "# (2) - Prepare a Data Quality Plan for the cleaned csv file. "
   ]
  },
  {
   "cell_type": "markdown",
   "metadata": {},
   "source": [
    "The initial list of issues as identified in the **Data_Quality_Report.pdf**:\n",
    "\n",
    "- Datetime features *'DateTime_Intake'*, *'DateTime_outcome'* and *'DateofBirth'* are not in a useful format.\n",
    "- *Name_Intake* is missing 30.6% of values. \n",
    "- *Found_location* has an unusually high cardinality and inconsistent value format.\n",
    "- *'AgeuponIntake'* and *'AgeuponOutcome'* are not in a useful format.\n",
    "- *'Breed_Intake'* has a high cardinality and contains potentially overlapping values.\n",
    "- *'SexuponIntake'* and *'SexuponOutcome'* are representing two separate pieces of information within one feature.\n",
    "- *'Color_Intake'* has a very high cardinality and is potentially representing two pieces of information within one.\n",
    "- 13 instances have failed logical integrity tests. "
   ]
  },
  {
   "cell_type": "markdown",
   "metadata": {},
   "source": [
    "### Solutions to deal with the issues identified"
   ]
  },
  {
   "cell_type": "markdown",
   "metadata": {},
   "source": [
    "1. **Datetime features**\n",
    "*'DateTime_Intake'*, 'DateofBirth' and *'DateTime_outcome'* are not in a useful format. These features will need to be used in order to explore the relationship between the outcome and different times of the year and week. These two features should be used to generate three new features for each - year, month and day. The *'DateTime_outcome'* is included along with the *'DateTime_Intake'* as it will be interesting to investgiate whether more animals have a positive outcome at certain times of the year. \n",
    "2. **Missing name values**\n",
    "30.6% of names are missing. Imputing the values to the mode would change the central tendency too much. The percentage missing values is not high enough to immediately drop. Investigate whether there is any relationship between name, intake type, intake condition and outcome. If there is no relationship this feature should be dropped. \n",
    "3. **Found location**\n",
    "The found location has high cardinality of 766 and has inconsistent values. This feature should be split into two new features representing street and city. It is recommended that only the city is used for further analysis. \n",
    "4. **Format of age features**\n",
    "*'AgeuponIntake'* and *'AgeuponOutcome'* are not in a useful format. It is recommended that these features are transformed into a different format. Age should be measured in days rather than years to maintain accurracy. \n",
    "5. **Breed**\n",
    "*'Breed_Intake'* has a high cardinality of 211 and contains overlapping values. For example, many of the values are repeated again but with 'mix' added at the end. It is recommended that the word 'mix' is removed from all values. It is also recommended to remove whitespace from within the value 'Domestic Medium Hair mix' in order to maintain consistency. \n",
    "6. **Color Intake**\n",
    "*'Color_Intake'* has a very high cardinality and is representing both the colour and the coat pattern within one feature\n",
    "**??????**\n",
    "7. **Failed logical integrity tests.**\n",
    "Instances failing test 1 which shows that the animals stayed a negative amount of time in the shelter should be dropped. All other logical integrity test results should be investigated further to see if the data makes sense. If the data does not make senses, these features shall be dropped. "
   ]
  },
  {
   "cell_type": "markdown",
   "metadata": {},
   "source": [
    "### Apply solutions to obtain a new csv file."
   ]
  },
  {
   "cell_type": "markdown",
   "metadata": {},
   "source": [
    "1. **Datetime features not in useful format**\n",
    "The features *'DateTime_Intake'*, 'DateofBirth' and *'DateTime_outcome'* are not in a useful format. Each of these features shall be converted into new features displayed year, month and weekday. This will allow for more meaningful analysis and comparisons.\n",
    "\n",
    " - It is not entirely clear yet which of these derived features will be useful in prediucting the binary outcome. At this stage in the assignment it is best to derive and keep all. "
   ]
  },
  {
   "cell_type": "code",
   "execution_count": 53,
   "metadata": {},
   "outputs": [],
   "source": [
    "#divide DateTime_Intake into year, month, weekday\n",
    "df['Intake_Month']=df['DateTime_Intake'].dt.month\n",
    "df['Intake_Year']=df['DateTime_Intake'].dt.year\n",
    "df['Intake_Weekday']=df['DateTime_Intake'].dt.weekday_name"
   ]
  },
  {
   "cell_type": "code",
   "execution_count": 54,
   "metadata": {},
   "outputs": [],
   "source": [
    "#divide DateTime_Outcome into year, month, weekday\n",
    "df['Outcome_Month']=df['DateTime_Outcome'].dt.month\n",
    "df['Outcome_Year']=df['DateTime_Outcome'].dt.year\n",
    "df['Outcome_Weekday']=df['DateTime_Outcome'].dt.weekday_name"
   ]
  },
  {
   "cell_type": "code",
   "execution_count": 55,
   "metadata": {},
   "outputs": [],
   "source": [
    "#divide DateofBirth into year, month, weekday\n",
    "df['Birth_Month']=df['DateofBirth'].dt.month\n",
    "df['Birth_Year']=df['DateofBirth'].dt.year\n",
    "df['Birth_Weekday']=df['DateofBirth'].dt.weekday_name"
   ]
  },
  {
   "cell_type": "markdown",
   "metadata": {},
   "source": [
    "**2. Missing Name values**\n",
    "30.6% of the values for the *'Name_Intake'* feature are missing. This figure is too low to immediately drop the feature. However, this value is too high to impute the values to the mode which is 'Max'. I shall now investigate if there is any relationship between the name, intake type, intake condition and binary outcome. "
   ]
  },
  {
   "cell_type": "code",
   "execution_count": 56,
   "metadata": {},
   "outputs": [
    {
     "data": {
      "text/html": [
       "<div>\n",
       "<style scoped>\n",
       "    .dataframe tbody tr th:only-of-type {\n",
       "        vertical-align: middle;\n",
       "    }\n",
       "\n",
       "    .dataframe tbody tr th {\n",
       "        vertical-align: top;\n",
       "    }\n",
       "\n",
       "    .dataframe thead th {\n",
       "        text-align: right;\n",
       "    }\n",
       "</style>\n",
       "<table border=\"1\" class=\"dataframe\">\n",
       "  <thead>\n",
       "    <tr style=\"text-align: right;\">\n",
       "      <th></th>\n",
       "      <th>Name_Intake</th>\n",
       "      <th>IntakeType</th>\n",
       "      <th>IntakeCondition</th>\n",
       "      <th>binary_outcome</th>\n",
       "    </tr>\n",
       "  </thead>\n",
       "  <tbody>\n",
       "    <tr>\n",
       "      <td>1</td>\n",
       "      <td>NaN</td>\n",
       "      <td>Stray</td>\n",
       "      <td>Other</td>\n",
       "      <td>0</td>\n",
       "    </tr>\n",
       "    <tr>\n",
       "      <td>11</td>\n",
       "      <td>NaN</td>\n",
       "      <td>Stray</td>\n",
       "      <td>Normal</td>\n",
       "      <td>0</td>\n",
       "    </tr>\n",
       "    <tr>\n",
       "      <td>15</td>\n",
       "      <td>NaN</td>\n",
       "      <td>Stray</td>\n",
       "      <td>Normal</td>\n",
       "      <td>0</td>\n",
       "    </tr>\n",
       "    <tr>\n",
       "      <td>16</td>\n",
       "      <td>NaN</td>\n",
       "      <td>Stray</td>\n",
       "      <td>Normal</td>\n",
       "      <td>0</td>\n",
       "    </tr>\n",
       "    <tr>\n",
       "      <td>17</td>\n",
       "      <td>NaN</td>\n",
       "      <td>Wildlife</td>\n",
       "      <td>Normal</td>\n",
       "      <td>1</td>\n",
       "    </tr>\n",
       "    <tr>\n",
       "      <td>26</td>\n",
       "      <td>NaN</td>\n",
       "      <td>Stray</td>\n",
       "      <td>Normal</td>\n",
       "      <td>0</td>\n",
       "    </tr>\n",
       "    <tr>\n",
       "      <td>29</td>\n",
       "      <td>NaN</td>\n",
       "      <td>Stray</td>\n",
       "      <td>Normal</td>\n",
       "      <td>1</td>\n",
       "    </tr>\n",
       "    <tr>\n",
       "      <td>30</td>\n",
       "      <td>NaN</td>\n",
       "      <td>Stray</td>\n",
       "      <td>Normal</td>\n",
       "      <td>0</td>\n",
       "    </tr>\n",
       "    <tr>\n",
       "      <td>34</td>\n",
       "      <td>NaN</td>\n",
       "      <td>Wildlife</td>\n",
       "      <td>Normal</td>\n",
       "      <td>1</td>\n",
       "    </tr>\n",
       "    <tr>\n",
       "      <td>38</td>\n",
       "      <td>NaN</td>\n",
       "      <td>Stray</td>\n",
       "      <td>Nursing</td>\n",
       "      <td>0</td>\n",
       "    </tr>\n",
       "    <tr>\n",
       "      <td>44</td>\n",
       "      <td>NaN</td>\n",
       "      <td>Stray</td>\n",
       "      <td>Normal</td>\n",
       "      <td>0</td>\n",
       "    </tr>\n",
       "    <tr>\n",
       "      <td>46</td>\n",
       "      <td>NaN</td>\n",
       "      <td>Stray</td>\n",
       "      <td>Normal</td>\n",
       "      <td>0</td>\n",
       "    </tr>\n",
       "    <tr>\n",
       "      <td>49</td>\n",
       "      <td>NaN</td>\n",
       "      <td>Stray</td>\n",
       "      <td>Normal</td>\n",
       "      <td>0</td>\n",
       "    </tr>\n",
       "    <tr>\n",
       "      <td>50</td>\n",
       "      <td>NaN</td>\n",
       "      <td>Stray</td>\n",
       "      <td>Normal</td>\n",
       "      <td>0</td>\n",
       "    </tr>\n",
       "    <tr>\n",
       "      <td>52</td>\n",
       "      <td>NaN</td>\n",
       "      <td>Wildlife</td>\n",
       "      <td>Sick</td>\n",
       "      <td>1</td>\n",
       "    </tr>\n",
       "    <tr>\n",
       "      <td>59</td>\n",
       "      <td>NaN</td>\n",
       "      <td>Stray</td>\n",
       "      <td>Normal</td>\n",
       "      <td>0</td>\n",
       "    </tr>\n",
       "    <tr>\n",
       "      <td>62</td>\n",
       "      <td>NaN</td>\n",
       "      <td>Stray</td>\n",
       "      <td>Sick</td>\n",
       "      <td>1</td>\n",
       "    </tr>\n",
       "    <tr>\n",
       "      <td>67</td>\n",
       "      <td>NaN</td>\n",
       "      <td>Stray</td>\n",
       "      <td>Normal</td>\n",
       "      <td>0</td>\n",
       "    </tr>\n",
       "    <tr>\n",
       "      <td>71</td>\n",
       "      <td>NaN</td>\n",
       "      <td>Public Assist</td>\n",
       "      <td>Normal</td>\n",
       "      <td>1</td>\n",
       "    </tr>\n",
       "    <tr>\n",
       "      <td>77</td>\n",
       "      <td>NaN</td>\n",
       "      <td>Stray</td>\n",
       "      <td>Normal</td>\n",
       "      <td>0</td>\n",
       "    </tr>\n",
       "  </tbody>\n",
       "</table>\n",
       "</div>"
      ],
      "text/plain": [
       "   Name_Intake     IntakeType IntakeCondition binary_outcome\n",
       "1          NaN          Stray           Other              0\n",
       "11         NaN          Stray          Normal              0\n",
       "15         NaN          Stray          Normal              0\n",
       "16         NaN          Stray          Normal              0\n",
       "17         NaN       Wildlife          Normal              1\n",
       "26         NaN          Stray          Normal              0\n",
       "29         NaN          Stray          Normal              1\n",
       "30         NaN          Stray          Normal              0\n",
       "34         NaN       Wildlife          Normal              1\n",
       "38         NaN          Stray         Nursing              0\n",
       "44         NaN          Stray          Normal              0\n",
       "46         NaN          Stray          Normal              0\n",
       "49         NaN          Stray          Normal              0\n",
       "50         NaN          Stray          Normal              0\n",
       "52         NaN       Wildlife            Sick              1\n",
       "59         NaN          Stray          Normal              0\n",
       "62         NaN          Stray            Sick              1\n",
       "67         NaN          Stray          Normal              0\n",
       "71         NaN  Public Assist          Normal              1\n",
       "77         NaN          Stray          Normal              0"
      ]
     },
     "execution_count": 56,
     "metadata": {},
     "output_type": "execute_result"
    }
   ],
   "source": [
    "temp_name_df = df.loc[df['Name_Intake'].isnull()]\n",
    "temp_name_df[['Name_Intake', 'IntakeType', 'IntakeCondition', 'binary_outcome']].head(20)"
   ]
  },
  {
   "cell_type": "markdown",
   "metadata": {},
   "source": [
    " - We can see that in the cases where the animal has no name, the animal is either a stray of wildlife. This makes sense. We can see that there is no clear link between the condition and the lack of name, nor is there any pattern of outcome with the lack of name. It is assumed therefore, that the missing name values make sense and are not due to invalid data. \n",
    "\n",
    " - The figure 30.6% is too low to impute. If the values were imputed to the mode 'Max', the central tendancy would be skewed and this would affect a machine learning algorithm.\n",
    " \n",
    " - It is possible that the name of an animal has an impact on its outcome. That is, animals with names might be more likely to be adopted than animals with no names. For this reason, this feature shall not be dropped yet. However, as the cardinality is currently too high, we will replace all names with 'True' and all missing values with 'False'. This will allow us to investigate whether having a name or not affects the binary outcome. \n",
    "\n",
    "- It is likely that the name has no impact on the binary outcome. Considering the number of missing values, if it is found in a later section of this assignment that the name has no impact on the outcome, then this feature will be dropped."
   ]
  },
  {
   "cell_type": "code",
   "execution_count": 107,
   "metadata": {},
   "outputs": [],
   "source": [
    "df['Name_Intake'] = df['Name_Intake'].notna()"
   ]
  },
  {
   "cell_type": "code",
   "execution_count": 108,
   "metadata": {},
   "outputs": [
    {
     "data": {
      "text/plain": [
       "2"
      ]
     },
     "execution_count": 108,
     "metadata": {},
     "output_type": "execute_result"
    }
   ],
   "source": [
    "df['Name_Intake'].nunique()"
   ]
  },
  {
   "cell_type": "markdown",
   "metadata": {},
   "source": [
    " - We can see that in the cases where the animal has no name, the animal is either a stray of wildlife. This makes sense. We can see that there is no clear link between the condition and the lack of name, nor is there any pattern of outcome with the lack of name. It is assumed therefore, that the missing name values make sense and are not due to invalid data. \n",
    "\n",
    " - The figure 30.6% is too low to impute. If the values were imputed to the mode 'Max', the central tendancy would be skewed and this would affect a machine learning algorithm.\n",
    " \n",
    " - It is possible that the name of an animal has an impact on its outcome. That is, animals with certain names might be more likely to be adopted. For this reason, this feature shall not be dropped yet. However, if it is found in a later section of this assignment that the name has no impact on the outcome, then this feature will be dropped. "
   ]
  },
  {
   "cell_type": "markdown",
   "metadata": {},
   "source": [
    "**3. Found_location has an unusually high cardinality of 766.**\n",
    "\n",
    "The found location has high cardinality of 766 and has inconsistent values. For example, the most frequent value is *'Austin (TX)'* and the majority of other values within the top 20 most frequent are streets in Austin such as *'7201 Levander Loop in Austin (TX)'*, for example. These values are inconsistent and are not an accurate representation of the data. \n",
    "\n",
    "This feature shall be split into two new features - found street and found city. Found city shall be used for analysis from now on. In the cases where a street address is given, it is always in the format above with 'in' before the city name. As a result, the values shall be split with 'in' as the delimeter. "
   ]
  },
  {
   "cell_type": "code",
   "execution_count": 58,
   "metadata": {},
   "outputs": [],
   "source": [
    "#create two new features for street and city\n",
    "df[['FoundStreet','FoundCity']] = df['FoundLocation'].str.split(\" in \",expand=True)"
   ]
  },
  {
   "cell_type": "code",
   "execution_count": 59,
   "metadata": {},
   "outputs": [
    {
     "data": {
      "text/plain": [
       "array(['Austin (TX)', 'Travis (TX)', None, 'Pflugerville (TX)',\n",
       "       'Webberville (TX)', 'Manor (TX)', 'Del Valle (TX)',\n",
       "       'Creedmoor (TX)', 'Leander (TX)', 'Cedar Park (TX)',\n",
       "       'Lakeway (TX)', 'Williamson (TX)', 'Lago Vista (TX)'], dtype=object)"
      ]
     },
     "execution_count": 59,
     "metadata": {},
     "output_type": "execute_result"
    }
   ],
   "source": [
    "#look at the unqiue values for new feature 'FoundCity'\n",
    "df['FoundCity'].unique()"
   ]
  },
  {
   "cell_type": "markdown",
   "metadata": {},
   "source": [
    "As we can see, a value within the new feature *'FoundCity'* is *'None'*. This is due to cases where no street name was given, so there was no 'in' to delimit the value at. To fix this in the cell below I fill in any empty values with the value from 'FoundStreet'."
   ]
  },
  {
   "cell_type": "code",
   "execution_count": 60,
   "metadata": {},
   "outputs": [],
   "source": [
    "# replace empty values with the value in 'FoundStreet' feature\n",
    "df['FoundCity'].fillna(df['FoundStreet'], inplace=True)"
   ]
  },
  {
   "cell_type": "code",
   "execution_count": 62,
   "metadata": {},
   "outputs": [
    {
     "data": {
      "text/plain": [
       "14"
      ]
     },
     "execution_count": 62,
     "metadata": {},
     "output_type": "execute_result"
    }
   ],
   "source": [
    "#check the cardinality of the new feature\n",
    "df['FoundCity'].nunique()"
   ]
  },
  {
   "cell_type": "markdown",
   "metadata": {},
   "source": [
    "The values above are the values that will be used in place of the 'FoundLocation' from now on. Below I will plot a barchart of these results, in order to compare to the barplot created in part 1 of this assignment, prior to fixing this issue. "
   ]
  },
  {
   "cell_type": "code",
   "execution_count": 94,
   "metadata": {},
   "outputs": [
    {
     "data": {
      "image/png": "[encoded data removed]",
      "text/plain": [
       "<Figure size 864x504 with 1 Axes>"
      ]
     },
     "metadata": {
      "needs_background": "light"
     },
     "output_type": "display_data"
    }
   ],
   "source": [
    "location = df['FoundCity'].value_counts().sort_values(ascending=False)\n",
    "location.plot(kind='bar', title=\"FoundCity\", figsize=(12,7))\n",
    "plt.ylabel('number of animals')\n",
    "plt.savefig('categorical_FoundCity.pdf')"
   ]
  },
  {
   "cell_type": "markdown",
   "metadata": {},
   "source": [
    "Discuss findings of above graph: "
   ]
  },
  {
   "cell_type": "markdown",
   "metadata": {},
   "source": [
    "**4. Format of age features**\n",
    "- *'AgeuponIntake'* and *'AgeuponOutcome'* are not in a useful format. they are currently represented as a number and a word, such as *'1 year'*, for example. These features will be transformed into a value representing the age in days.\n",
    "- In order to do this both the number and the unit need to be considered. "
   ]
  },
  {
   "cell_type": "markdown",
   "metadata": {},
   "source": [
    "Transformation: \n",
    "- In the cell below, two new features are created. *'number'* represents the number that was given in the age and *'unit'* represents the unit of time such as *'days', 'years'*. These features are created by splitting the existing *'AgeuponIntake'* feature at the whitespace. \n",
    "- Regex is then used to change the units to the appropriate number. Months will be changed to a value of 30 days. Although this is not entirely accurate, the ages provided in the shelter were not accurate to begin with in the format *'months', 'years'*. An age approximation is the best we can achieve considering the animal shelter environement. \n",
    "- Both the number and units are converted to type *'float64'*.\n",
    "- A new feature called *'AgeIntake'* is then created by multiplying the number by the unit. "
   ]
  },
  {
   "cell_type": "markdown",
   "metadata": {},
   "source": [
    "**Transform age of intake**"
   ]
  },
  {
   "cell_type": "code",
   "execution_count": 64,
   "metadata": {},
   "outputs": [],
   "source": [
    "# Make an empty dataframe \n",
    "newDF = pd.DataFrame(\n",
    "    columns=[\"number\",\"units\"])\n",
    "\n",
    "#Split the column into 2 by the space\n",
    "newDF[[\"number\", \"units\"]] = df['AgeuponIntake'].str.split(\" \", expand=True)\n",
    "\n",
    "# Ues regex to replace the unit with corresponding number\n",
    "newDF['units'] = newDF[\"units\"].replace(regex={r'years?' : 365, r'days?' : 1, r'months?' : 30, r'weeks?' : 7})\n",
    "\n",
    "# Change to float types\n",
    "newDF['number'] = newDF['number'].astype('float64')\n",
    "newDF['units'] = newDF['units'].astype('float64')\n",
    "\n",
    "# Multiply the number by the units\n",
    "newDF['AgeIntake'] = newDF['number'] * newDF['units']\n",
    "df['AgeIntake'] = newDF['AgeIntake']"
   ]
  },
  {
   "cell_type": "markdown",
   "metadata": {},
   "source": [
    "**Transform age of outcome**"
   ]
  },
  {
   "cell_type": "code",
   "execution_count": 92,
   "metadata": {},
   "outputs": [],
   "source": [
    "#a new dataframe is created\n",
    "newDF = pd.DataFrame(columns=[\"number\",\"units\"])\n",
    "\n",
    "#Split the column into 2 by the space\n",
    "newDF[[\"number\", \"units\"]] = df['AgeuponOutcome'].str.split(\" \", expand=True)\n",
    "\n",
    "# Ues regex to replace the unit with corresponding number\n",
    "newDF['units'] = newDF[\"units\"].replace(regex={r'years?' : 365, r'days?' : 1, r'months?' : 30, r'weeks?' : 7})\n",
    "\n",
    "# Change to float types\n",
    "newDF['number'] = newDF['number'].astype('float64')\n",
    "newDF['units'] = newDF['units'].astype('float64')\n",
    "\n",
    "# Multiply the number by the units\n",
    "newDF['AgeOutcome'] = newDF['number'] * newDF['units']\n",
    "df['AgeOutcome'] = newDF['AgeOutcome']"
   ]
  },
  {
   "cell_type": "markdown",
   "metadata": {},
   "source": [
    "**Descriptive statistics for age features**\n",
    "\n",
    "As we did not have these continous age features earlier in the assignment, we will now compute summary statsitics for these new features.\n"
   ]
  },
  {
   "cell_type": "code",
   "execution_count": 70,
   "metadata": {},
   "outputs": [
    {
     "data": {
      "text/html": [
       "<div>\n",
       "<style scoped>\n",
       "    .dataframe tbody tr th:only-of-type {\n",
       "        vertical-align: middle;\n",
       "    }\n",
       "\n",
       "    .dataframe tbody tr th {\n",
       "        vertical-align: top;\n",
       "    }\n",
       "\n",
       "    .dataframe thead th {\n",
       "        text-align: right;\n",
       "    }\n",
       "</style>\n",
       "<table border=\"1\" class=\"dataframe\">\n",
       "  <thead>\n",
       "    <tr style=\"text-align: right;\">\n",
       "      <th></th>\n",
       "      <th>count</th>\n",
       "      <th>mean</th>\n",
       "      <th>std</th>\n",
       "      <th>min</th>\n",
       "      <th>25%</th>\n",
       "      <th>50%</th>\n",
       "      <th>75%</th>\n",
       "      <th>max</th>\n",
       "    </tr>\n",
       "  </thead>\n",
       "  <tbody>\n",
       "    <tr>\n",
       "      <td>AgeIntake</td>\n",
       "      <td>1000.0</td>\n",
       "      <td>729.737</td>\n",
       "      <td>1099.193323</td>\n",
       "      <td>0.0</td>\n",
       "      <td>60.0</td>\n",
       "      <td>365.0</td>\n",
       "      <td>730.0</td>\n",
       "      <td>7300.0</td>\n",
       "    </tr>\n",
       "    <tr>\n",
       "      <td>AgeOutcome</td>\n",
       "      <td>1000.0</td>\n",
       "      <td>747.957</td>\n",
       "      <td>1106.906038</td>\n",
       "      <td>0.0</td>\n",
       "      <td>60.0</td>\n",
       "      <td>365.0</td>\n",
       "      <td>730.0</td>\n",
       "      <td>7300.0</td>\n",
       "    </tr>\n",
       "  </tbody>\n",
       "</table>\n",
       "</div>"
      ],
      "text/plain": [
       "             count     mean          std  min   25%    50%    75%     max\n",
       "AgeIntake   1000.0  729.737  1099.193323  0.0  60.0  365.0  730.0  7300.0\n",
       "AgeOutcome  1000.0  747.957  1106.906038  0.0  60.0  365.0  730.0  7300.0"
      ]
     },
     "execution_count": 70,
     "metadata": {},
     "output_type": "execute_result"
    }
   ],
   "source": [
    "#create table of summary statsitics for the new age features.\n",
    "new_age_features = ['AgeIntake','AgeOutcome']\n",
    "df[new_age_features].describe().T"
   ]
  },
  {
   "cell_type": "markdown",
   "metadata": {},
   "source": [
    "In the cell below we further anaylse these new features to by investigating the range of values and the most frequent values. "
   ]
  },
  {
   "cell_type": "code",
   "execution_count": null,
   "metadata": {},
   "outputs": [],
   "source": [
    "for feature in new_age_features:\n",
    "    print(feature)\n",
    "    print(\"----------\\n\")\n",
    "    print(\"Range {} is: \".format(feature), (df[feature].max() - df[feature].min()))\n",
    "    print(\"----------\")\n",
    "    print('{0:.5}  {1}'.format(\"Value\", \"Number of Instances\"))\n",
    "    print(df[feature].value_counts().nlargest(15), \"\\n\\n\\n\")"
   ]
  },
  {
   "cell_type": "markdown",
   "metadata": {},
   "source": [
    "We can that our observations of the *'AgeuponIntake'* and *'AgeuponOutcome'* are confirmed now that we have converted these features into continuous type. We can see that the min is 0. This is explained by the animals which are age 0 on the date they enter the shelter, as will be investigated below. We can see that the median is 365 days. This makes sense considering most of the ages of animals will be approximated by the staff in the shelter. It makes sense that most are approximated to '1 year'. The max is 7300 days which is roughly 20 years. There is a large gap between this value and the third quartile and this value could be seen as an outlier. We will now visualise this further in some graphs."
   ]
  },
  {
   "cell_type": "markdown",
   "metadata": {},
   "source": [
    "**Histograms**\n",
    "\n",
    "We will now create histograms for *'AgeIntake'* and *'AgeOutcome'*."
   ]
  },
  {
   "cell_type": "code",
   "execution_count": 71,
   "metadata": {},
   "outputs": [
    {
     "data": {
      "image/png": "[encoded data removed]",
      "text/plain": [
       "<Figure size 720x360 with 1 Axes>"
      ]
     },
     "metadata": {
      "needs_background": "light"
     },
     "output_type": "display_data"
    },
    {
     "data": {
      "image/png": "[encoded data removed]",
      "text/plain": [
       "<Figure size 720x360 with 1 Axes>"
      ]
     },
     "metadata": {
      "needs_background": "light"
     },
     "output_type": "display_data"
    }
   ],
   "source": [
    "new_age_features = ['AgeIntake','AgeOutcome']\n",
    "pp = PdfPages('AnimalWelfare_19205514_age_histograms.pdf')\n",
    "for col in new_age_features:\n",
    "        f = df[col].plot(kind='hist', figsize=(10,5))\n",
    "        plt.title(col)\n",
    "        plt.ylabel('number of animals')\n",
    "        pp.savefig(f.get_figure())\n",
    "        plt.show()    "
   ]
  },
  {
   "cell_type": "markdown",
   "metadata": {},
   "source": [
    "We can see in the histograms that both *'AgeIntake'* and *'AgeOutcome'* are exponential. This shows us that most of the animals are under 1000 days old while very few are at older ages of 7000 days. "
   ]
  },
  {
   "cell_type": "code",
   "execution_count": null,
   "metadata": {},
   "outputs": [],
   "source": []
  },
  {
   "cell_type": "markdown",
   "metadata": {},
   "source": [
    "**Box Plots**\n",
    "\n",
    "We will now create box plots for the two new age features. This will help us to further visualise any potential outliers."
   ]
  },
  {
   "cell_type": "code",
   "execution_count": 72,
   "metadata": {},
   "outputs": [
    {
     "data": {
      "image/png": "[encoded data removed]",
      "text/plain": [
       "<Figure size 2160x2880 with 24 Axes>"
      ]
     },
     "metadata": {
      "needs_background": "light"
     },
     "output_type": "display_data"
    }
   ],
   "source": [
    "df[new_age_features].plot(kind='box', subplots=True, figsize=(30,40), layout=(6,4), sharex=False, sharey=False)\n",
    "plt.savefig('age_boxplots__19205514.pdf')"
   ]
  },
  {
   "cell_type": "markdown",
   "metadata": {},
   "source": [
    "We can see that there are many instances above the max value of the box plot. However, considering the environment of the animal shelter these outliers make sense. It makes sense that the majority of animals are younger and that much a smaller number will be of an older age.\n",
    "\n",
    "Based on the box plots above, we will now look at a sample of ten of the animals who have an age above 1500 days. "
   ]
  },
  {
   "cell_type": "code",
   "execution_count": 98,
   "metadata": {},
   "outputs": [
    {
     "data": {
      "text/html": [
       "<div>\n",
       "<style scoped>\n",
       "    .dataframe tbody tr th:only-of-type {\n",
       "        vertical-align: middle;\n",
       "    }\n",
       "\n",
       "    .dataframe tbody tr th {\n",
       "        vertical-align: top;\n",
       "    }\n",
       "\n",
       "    .dataframe thead th {\n",
       "        text-align: right;\n",
       "    }\n",
       "</style>\n",
       "<table border=\"1\" class=\"dataframe\">\n",
       "  <thead>\n",
       "    <tr style=\"text-align: right;\">\n",
       "      <th></th>\n",
       "      <th>AnimalID</th>\n",
       "      <th>Name_Intake</th>\n",
       "      <th>DateTime_Intake</th>\n",
       "      <th>FoundLocation</th>\n",
       "      <th>IntakeType</th>\n",
       "      <th>IntakeCondition</th>\n",
       "      <th>AnimalType_Intake</th>\n",
       "      <th>SexuponIntake</th>\n",
       "      <th>AgeuponIntake</th>\n",
       "      <th>Breed_Intake</th>\n",
       "      <th>...</th>\n",
       "      <th>Outcome_Month</th>\n",
       "      <th>Outcome_Year</th>\n",
       "      <th>Outcome_Weekday</th>\n",
       "      <th>Birth_Month</th>\n",
       "      <th>Birth_Year</th>\n",
       "      <th>Birth_Weekday</th>\n",
       "      <th>FoundStreet</th>\n",
       "      <th>FoundCity</th>\n",
       "      <th>AgeIntake</th>\n",
       "      <th>AgeOutcome</th>\n",
       "    </tr>\n",
       "  </thead>\n",
       "  <tbody>\n",
       "    <tr>\n",
       "      <td>6</td>\n",
       "      <td>A623526</td>\n",
       "      <td>Kali</td>\n",
       "      <td>2019-11-15 13:25:00</td>\n",
       "      <td>Travis (TX)</td>\n",
       "      <td>Owner Surrender</td>\n",
       "      <td>Normal</td>\n",
       "      <td>Dog</td>\n",
       "      <td>Spayed Female</td>\n",
       "      <td>7 years</td>\n",
       "      <td>Pure Breed</td>\n",
       "      <td>...</td>\n",
       "      <td>11.0</td>\n",
       "      <td>2019.0</td>\n",
       "      <td>Wednesday</td>\n",
       "      <td>1.0</td>\n",
       "      <td>2012.0</td>\n",
       "      <td>Monday</td>\n",
       "      <td>Travis (TX)</td>\n",
       "      <td>Travis (TX)</td>\n",
       "      <td>2555.0</td>\n",
       "      <td>2555.0</td>\n",
       "    </tr>\n",
       "    <tr>\n",
       "      <td>7</td>\n",
       "      <td>A684122</td>\n",
       "      <td>Mitch</td>\n",
       "      <td>2014-07-19 16:45:00</td>\n",
       "      <td>7107 Brodie Ln in Austin (TX)</td>\n",
       "      <td>Stray</td>\n",
       "      <td>Normal</td>\n",
       "      <td>Dog</td>\n",
       "      <td>Neutered Male</td>\n",
       "      <td>12 years</td>\n",
       "      <td>Mixed Breed</td>\n",
       "      <td>...</td>\n",
       "      <td>7.0</td>\n",
       "      <td>2014.0</td>\n",
       "      <td>Sunday</td>\n",
       "      <td>7.0</td>\n",
       "      <td>2002.0</td>\n",
       "      <td>Friday</td>\n",
       "      <td>7107 Brodie Ln</td>\n",
       "      <td>Austin (TX)</td>\n",
       "      <td>4380.0</td>\n",
       "      <td>4380.0</td>\n",
       "    </tr>\n",
       "    <tr>\n",
       "      <td>21</td>\n",
       "      <td>A710320</td>\n",
       "      <td>Yoshi</td>\n",
       "      <td>2015-08-21 14:33:00</td>\n",
       "      <td>Austin (TX)</td>\n",
       "      <td>Public Assist</td>\n",
       "      <td>Normal</td>\n",
       "      <td>Dog</td>\n",
       "      <td>Spayed Female</td>\n",
       "      <td>5 years</td>\n",
       "      <td>Mixed Breed</td>\n",
       "      <td>...</td>\n",
       "      <td>9.0</td>\n",
       "      <td>2015.0</td>\n",
       "      <td>Tuesday</td>\n",
       "      <td>1.0</td>\n",
       "      <td>2010.0</td>\n",
       "      <td>Thursday</td>\n",
       "      <td>Austin (TX)</td>\n",
       "      <td>Austin (TX)</td>\n",
       "      <td>1825.0</td>\n",
       "      <td>1825.0</td>\n",
       "    </tr>\n",
       "    <tr>\n",
       "      <td>35</td>\n",
       "      <td>A688065</td>\n",
       "      <td>Harry</td>\n",
       "      <td>2014-09-14 11:15:00</td>\n",
       "      <td>Austin (TX)</td>\n",
       "      <td>Owner Surrender</td>\n",
       "      <td>Normal</td>\n",
       "      <td>Cat</td>\n",
       "      <td>Neutered Male</td>\n",
       "      <td>5 years</td>\n",
       "      <td>Mixed Breed</td>\n",
       "      <td>...</td>\n",
       "      <td>11.0</td>\n",
       "      <td>2014.0</td>\n",
       "      <td>Friday</td>\n",
       "      <td>9.0</td>\n",
       "      <td>2009.0</td>\n",
       "      <td>Monday</td>\n",
       "      <td>Austin (TX)</td>\n",
       "      <td>Austin (TX)</td>\n",
       "      <td>1825.0</td>\n",
       "      <td>1825.0</td>\n",
       "    </tr>\n",
       "    <tr>\n",
       "      <td>40</td>\n",
       "      <td>A518937</td>\n",
       "      <td>Gwen</td>\n",
       "      <td>2015-11-12 11:21:00</td>\n",
       "      <td>1511 Cripple Creek Dr in Austin (TX)</td>\n",
       "      <td>Stray</td>\n",
       "      <td>Normal</td>\n",
       "      <td>Dog</td>\n",
       "      <td>Spayed Female</td>\n",
       "      <td>9 years</td>\n",
       "      <td>Mixed Breed</td>\n",
       "      <td>...</td>\n",
       "      <td>11.0</td>\n",
       "      <td>2015.0</td>\n",
       "      <td>Tuesday</td>\n",
       "      <td>8.0</td>\n",
       "      <td>2006.0</td>\n",
       "      <td>Friday</td>\n",
       "      <td>1511 Cripple Creek Dr</td>\n",
       "      <td>Austin (TX)</td>\n",
       "      <td>3285.0</td>\n",
       "      <td>3285.0</td>\n",
       "    </tr>\n",
       "    <tr>\n",
       "      <td>56</td>\n",
       "      <td>A662171</td>\n",
       "      <td>Bella</td>\n",
       "      <td>2017-12-23 10:21:00</td>\n",
       "      <td>2900 Kenner Drive in Pflugerville (TX)</td>\n",
       "      <td>Stray</td>\n",
       "      <td>Normal</td>\n",
       "      <td>Dog</td>\n",
       "      <td>Spayed Female</td>\n",
       "      <td>5 years</td>\n",
       "      <td>Mixed Breed</td>\n",
       "      <td>...</td>\n",
       "      <td>12.0</td>\n",
       "      <td>2017.0</td>\n",
       "      <td>Sunday</td>\n",
       "      <td>2.0</td>\n",
       "      <td>2012.0</td>\n",
       "      <td>Thursday</td>\n",
       "      <td>2900 Kenner Drive</td>\n",
       "      <td>Pflugerville (TX)</td>\n",
       "      <td>1825.0</td>\n",
       "      <td>1825.0</td>\n",
       "    </tr>\n",
       "    <tr>\n",
       "      <td>57</td>\n",
       "      <td>A595670</td>\n",
       "      <td>Garfield</td>\n",
       "      <td>2018-10-12 17:29:00</td>\n",
       "      <td>2206 Blue Meadow Trl in Austin (TX)</td>\n",
       "      <td>Stray</td>\n",
       "      <td>Normal</td>\n",
       "      <td>Dog</td>\n",
       "      <td>Neutered Male</td>\n",
       "      <td>10 years</td>\n",
       "      <td>Pure Breed</td>\n",
       "      <td>...</td>\n",
       "      <td>10.0</td>\n",
       "      <td>2018.0</td>\n",
       "      <td>Friday</td>\n",
       "      <td>3.0</td>\n",
       "      <td>2008.0</td>\n",
       "      <td>Saturday</td>\n",
       "      <td>2206 Blue Meadow Trl</td>\n",
       "      <td>Austin (TX)</td>\n",
       "      <td>3650.0</td>\n",
       "      <td>3650.0</td>\n",
       "    </tr>\n",
       "    <tr>\n",
       "      <td>72</td>\n",
       "      <td>A619664</td>\n",
       "      <td>Precious</td>\n",
       "      <td>2015-08-05 11:34:00</td>\n",
       "      <td>6804 Bitteroot Trl in Austin (TX)</td>\n",
       "      <td>Stray</td>\n",
       "      <td>Normal</td>\n",
       "      <td>Dog</td>\n",
       "      <td>Spayed Female</td>\n",
       "      <td>15 years</td>\n",
       "      <td>Mixed Breed</td>\n",
       "      <td>...</td>\n",
       "      <td>8.0</td>\n",
       "      <td>2015.0</td>\n",
       "      <td>Tuesday</td>\n",
       "      <td>8.0</td>\n",
       "      <td>2000.0</td>\n",
       "      <td>Sunday</td>\n",
       "      <td>6804 Bitteroot Trl</td>\n",
       "      <td>Austin (TX)</td>\n",
       "      <td>5475.0</td>\n",
       "      <td>5475.0</td>\n",
       "    </tr>\n",
       "    <tr>\n",
       "      <td>73</td>\n",
       "      <td>A738623</td>\n",
       "      <td>*Mattie</td>\n",
       "      <td>2016-11-18 14:38:00</td>\n",
       "      <td>19024 Great Hills Dr in Travis (TX)</td>\n",
       "      <td>Stray</td>\n",
       "      <td>Normal</td>\n",
       "      <td>Dog</td>\n",
       "      <td>Spayed Female</td>\n",
       "      <td>10 years</td>\n",
       "      <td>Mixed Breed</td>\n",
       "      <td>...</td>\n",
       "      <td>3.0</td>\n",
       "      <td>2017.0</td>\n",
       "      <td>Thursday</td>\n",
       "      <td>11.0</td>\n",
       "      <td>2006.0</td>\n",
       "      <td>Saturday</td>\n",
       "      <td>19024 Great Hills Dr</td>\n",
       "      <td>Travis (TX)</td>\n",
       "      <td>3650.0</td>\n",
       "      <td>3650.0</td>\n",
       "    </tr>\n",
       "    <tr>\n",
       "      <td>89</td>\n",
       "      <td>A541607</td>\n",
       "      <td>Charmine</td>\n",
       "      <td>2016-12-19 09:19:00</td>\n",
       "      <td>Justin Ln in Austin (TX)</td>\n",
       "      <td>Stray</td>\n",
       "      <td>Normal</td>\n",
       "      <td>Dog</td>\n",
       "      <td>Spayed Female</td>\n",
       "      <td>7 years</td>\n",
       "      <td>Mixed Breed</td>\n",
       "      <td>...</td>\n",
       "      <td>12.0</td>\n",
       "      <td>2016.0</td>\n",
       "      <td>Tuesday</td>\n",
       "      <td>1.0</td>\n",
       "      <td>2009.0</td>\n",
       "      <td>Friday</td>\n",
       "      <td>Justin Ln</td>\n",
       "      <td>Austin (TX)</td>\n",
       "      <td>2555.0</td>\n",
       "      <td>2555.0</td>\n",
       "    </tr>\n",
       "  </tbody>\n",
       "</table>\n",
       "<p>10 rows × 29 columns</p>\n",
       "</div>"
      ],
      "text/plain": [
       "   AnimalID Name_Intake     DateTime_Intake  \\\n",
       "6   A623526        Kali 2019-11-15 13:25:00   \n",
       "7   A684122       Mitch 2014-07-19 16:45:00   \n",
       "21  A710320       Yoshi 2015-08-21 14:33:00   \n",
       "35  A688065       Harry 2014-09-14 11:15:00   \n",
       "40  A518937        Gwen 2015-11-12 11:21:00   \n",
       "56  A662171       Bella 2017-12-23 10:21:00   \n",
       "57  A595670    Garfield 2018-10-12 17:29:00   \n",
       "72  A619664    Precious 2015-08-05 11:34:00   \n",
       "73  A738623     *Mattie 2016-11-18 14:38:00   \n",
       "89  A541607    Charmine 2016-12-19 09:19:00   \n",
       "\n",
       "                             FoundLocation       IntakeType IntakeCondition  \\\n",
       "6                              Travis (TX)  Owner Surrender          Normal   \n",
       "7            7107 Brodie Ln in Austin (TX)            Stray          Normal   \n",
       "21                             Austin (TX)    Public Assist          Normal   \n",
       "35                             Austin (TX)  Owner Surrender          Normal   \n",
       "40    1511 Cripple Creek Dr in Austin (TX)            Stray          Normal   \n",
       "56  2900 Kenner Drive in Pflugerville (TX)            Stray          Normal   \n",
       "57     2206 Blue Meadow Trl in Austin (TX)            Stray          Normal   \n",
       "72       6804 Bitteroot Trl in Austin (TX)            Stray          Normal   \n",
       "73     19024 Great Hills Dr in Travis (TX)            Stray          Normal   \n",
       "89                Justin Ln in Austin (TX)            Stray          Normal   \n",
       "\n",
       "   AnimalType_Intake  SexuponIntake AgeuponIntake Breed_Intake  ...  \\\n",
       "6                Dog  Spayed Female       7 years   Pure Breed  ...   \n",
       "7                Dog  Neutered Male      12 years  Mixed Breed  ...   \n",
       "21               Dog  Spayed Female       5 years  Mixed Breed  ...   \n",
       "35               Cat  Neutered Male       5 years  Mixed Breed  ...   \n",
       "40               Dog  Spayed Female       9 years  Mixed Breed  ...   \n",
       "56               Dog  Spayed Female       5 years  Mixed Breed  ...   \n",
       "57               Dog  Neutered Male      10 years   Pure Breed  ...   \n",
       "72               Dog  Spayed Female      15 years  Mixed Breed  ...   \n",
       "73               Dog  Spayed Female      10 years  Mixed Breed  ...   \n",
       "89               Dog  Spayed Female       7 years  Mixed Breed  ...   \n",
       "\n",
       "   Outcome_Month Outcome_Year Outcome_Weekday Birth_Month Birth_Year  \\\n",
       "6           11.0       2019.0       Wednesday         1.0     2012.0   \n",
       "7            7.0       2014.0          Sunday         7.0     2002.0   \n",
       "21           9.0       2015.0         Tuesday         1.0     2010.0   \n",
       "35          11.0       2014.0          Friday         9.0     2009.0   \n",
       "40          11.0       2015.0         Tuesday         8.0     2006.0   \n",
       "56          12.0       2017.0          Sunday         2.0     2012.0   \n",
       "57          10.0       2018.0          Friday         3.0     2008.0   \n",
       "72           8.0       2015.0         Tuesday         8.0     2000.0   \n",
       "73           3.0       2017.0        Thursday        11.0     2006.0   \n",
       "89          12.0       2016.0         Tuesday         1.0     2009.0   \n",
       "\n",
       "   Birth_Weekday            FoundStreet          FoundCity AgeIntake  \\\n",
       "6         Monday            Travis (TX)        Travis (TX)    2555.0   \n",
       "7         Friday         7107 Brodie Ln        Austin (TX)    4380.0   \n",
       "21      Thursday            Austin (TX)        Austin (TX)    1825.0   \n",
       "35        Monday            Austin (TX)        Austin (TX)    1825.0   \n",
       "40        Friday  1511 Cripple Creek Dr        Austin (TX)    3285.0   \n",
       "56      Thursday      2900 Kenner Drive  Pflugerville (TX)    1825.0   \n",
       "57      Saturday   2206 Blue Meadow Trl        Austin (TX)    3650.0   \n",
       "72        Sunday     6804 Bitteroot Trl        Austin (TX)    5475.0   \n",
       "73      Saturday   19024 Great Hills Dr        Travis (TX)    3650.0   \n",
       "89        Friday              Justin Ln        Austin (TX)    2555.0   \n",
       "\n",
       "    AgeOutcome  \n",
       "6       2555.0  \n",
       "7       4380.0  \n",
       "21      1825.0  \n",
       "35      1825.0  \n",
       "40      3285.0  \n",
       "56      1825.0  \n",
       "57      3650.0  \n",
       "72      5475.0  \n",
       "73      3650.0  \n",
       "89      2555.0  \n",
       "\n",
       "[10 rows x 29 columns]"
      ]
     },
     "execution_count": 98,
     "metadata": {},
     "output_type": "execute_result"
    }
   ],
   "source": [
    "df[df['AgeIntake'] > 1500].head(10)"
   ]
  },
  {
   "cell_type": "markdown",
   "metadata": {},
   "source": [
    "We can see that the data makes sense. In this sample the animals are all dogs or cats and are all neutered/spayed. It is expected that dogs and cats of this age would be in the animal shelter. These outliers will be left as they are. "
   ]
  },
  {
   "cell_type": "markdown",
   "metadata": {},
   "source": [
    "5. **Breed_Intake has a high cardinality and contains overlapping values.**\n",
    "\n",
    "This feature has a cardinality of 211. We will begin by grouping these values into 'Mixed Breeds' and 'True Breeds'. This grouping is performed because it is assumed that mixed breeds will be adopted at a different rate than true breeds. \n",
    "\n",
    "At this stage in the assignment, this is the only grouping that shall be performed in order to address the data quality issue of the high cardinality. However, in section 3 of the assignment when we explore the relationship between different features, depending on our findings we may explore more suitable groupings. "
   ]
  },
  {
   "cell_type": "code",
   "execution_count": 74,
   "metadata": {},
   "outputs": [],
   "source": [
    "#use regex to replace any value containing the string 'Mix' with 'Mixed Breed'\n",
    "df['Breed_Intake'] = df.Breed_Intake.str.replace(r'(^.*Mix.*$)', 'Mixed Breed')\n",
    " \n",
    "#replace any string not containing the string 'Mix' with 'Pure Breed'\n",
    "df['Breed_Intake'][df.Breed_Intake.str.contains('Mix')==0] = 'Pure Breed'"
   ]
  },
  {
   "cell_type": "code",
   "execution_count": 75,
   "metadata": {},
   "outputs": [
    {
     "data": {
      "text/plain": [
       "2"
      ]
     },
     "execution_count": 75,
     "metadata": {},
     "output_type": "execute_result"
    }
   ],
   "source": [
    "#check that the number of unique values has reduced to 2\n",
    "df['Breed_Intake'].nunique()"
   ]
  },
  {
   "cell_type": "code",
   "execution_count": 76,
   "metadata": {},
   "outputs": [
    {
     "data": {
      "text/plain": [
       "array(['Mixed Breed', 'Pure Breed'], dtype=object)"
      ]
     },
     "execution_count": 76,
     "metadata": {},
     "output_type": "execute_result"
    }
   ],
   "source": [
    "#view the unique values\n",
    "df['Breed_Intake'].unique()"
   ]
  },
  {
   "cell_type": "markdown",
   "metadata": {},
   "source": [
    "In the cell below we will now plot the grouped breed types. "
   ]
  },
  {
   "cell_type": "code",
   "execution_count": 77,
   "metadata": {},
   "outputs": [
    {
     "data": {
      "image/png": "[encoded data removed]",
      "text/plain": [
       "<Figure size 864x720 with 1 Axes>"
      ]
     },
     "metadata": {
      "needs_background": "light"
     },
     "output_type": "display_data"
    }
   ],
   "source": [
    "breeds = df['Breed_Intake'].value_counts().sort_values(ascending=False)\n",
    "breeds.plot(kind='bar', title=\"Breed Types\", figsize=(12,10))\n",
    "plt.ylabel('number of animals')\n",
    "plt.savefig('categorical_Breed_Intake.pdf')"
   ]
  },
  {
   "cell_type": "markdown",
   "metadata": {},
   "source": [
    "We can see that we have now transformed the *'Breed_Intake'* feature into one with only two values. We can see that there are far more mixed breed animals than pure breed."
   ]
  },
  {
   "cell_type": "markdown",
   "metadata": {},
   "source": [
    "6. **Colour_Intake has a high cardinality and contains overlapping values.**\n",
    "\n",
    "We will now adrdress the issue of high cardinality in the *'Color_Intake'* feature. As with the breed intake, we will make an initial grouping based on our assumptions. An alternative grouping may be performed in section 3 of the assignment in order to further explore the relationship between *'Color_Intake'* and the binary outcome. \n",
    "\n",
    "We will begin by grouping the values into two new values based on whether the animal is dark or light coloured. It is assumed that there is a difference in the animal outcome depending on whether the coat of the animal contains brown/black. That is, it is assumed people are more likely to adopt animals of certain colours. We are grouping into two broad values due to the quantity of different colours, coat patterns and breeds. An accurate grouping of all specific breed coat patterns is not possible without consultation with a domain expert. \n",
    "\n",
    "Based on the unique values present within the *'Color_Intake'* feature, we are grouping *'Black', 'Brown', 'Tabby', 'Torbie', 'Tortie'* and *'Chocolate'* into the 'Dark' value. All other colors and coat patterns are grouped into 'Light'. Although these colours might not necessarily be classified as light colours, they do not contain the colours listed above. Thus, these colours will be grouped together and a distinction will be made between them and the dark colours. \n",
    "\n",
    "As described above for the 'Breed_Intake', in section 3 of the assignment we will explore the relationship between this feature and the binary outcome. If we find that this is not a meaningful grouping we will investigate other possibilities. For now however, it is assumed that this is the more appropriate way to group the data. "
   ]
  },
  {
   "cell_type": "code",
   "execution_count": 78,
   "metadata": {},
   "outputs": [],
   "source": [
    "#if the string contains any of the colors listed, replace with 'Dark'\n",
    "#otherwise replace with 'Light'\n",
    "df['Color_Intake'] = np.where(df['Color_Intake'].str.contains('Black|Brown|Tabby|Torbie|Tortie|Chocolate', regex=True), \"Dark\", \"Light\")"
   ]
  },
  {
   "cell_type": "code",
   "execution_count": 79,
   "metadata": {},
   "outputs": [
    {
     "data": {
      "text/plain": [
       "2"
      ]
     },
     "execution_count": 79,
     "metadata": {},
     "output_type": "execute_result"
    }
   ],
   "source": [
    "#check that the number of values has reduced to 2\n",
    "df['Color_Intake'].nunique()"
   ]
  },
  {
   "cell_type": "code",
   "execution_count": 80,
   "metadata": {},
   "outputs": [
    {
     "data": {
      "text/plain": [
       "array(['Dark', 'Light'], dtype=object)"
      ]
     },
     "execution_count": 80,
     "metadata": {},
     "output_type": "execute_result"
    }
   ],
   "source": [
    "#view the unique values after grouping\n",
    "df['Color_Intake'].unique()"
   ]
  },
  {
   "cell_type": "markdown",
   "metadata": {},
   "source": [
    "In the cell below we will now plot the grouped colors."
   ]
  },
  {
   "cell_type": "code",
   "execution_count": 81,
   "metadata": {},
   "outputs": [
    {
     "data": {
      "image/png": "[encoded data removed]",
      "text/plain": [
       "<Figure size 864x720 with 1 Axes>"
      ]
     },
     "metadata": {
      "needs_background": "light"
     },
     "output_type": "display_data"
    }
   ],
   "source": [
    "color = df['Color_Intake'].value_counts().sort_values(ascending=False)\n",
    "color.plot(kind='bar', title=\"Color of Animal\", figsize=(12,10))\n",
    "plt.ylabel('number of animals')\n",
    "plt.savefig('categorical_Color_Intake.pdf')"
   ]
  },
  {
   "cell_type": "markdown",
   "metadata": {},
   "source": [
    "We can see that the majority of animals fall within the 'Dark' coloured group. It makes sense that there are more animals of this colouring in the shelter as it is widely assumed that darker animals are slower to be adopted than light coloured animals, as discussed at https://okcfox.com/news/local/black-dog-syndrome-keeps-darker-animals-from-being-adopted-according-to-shelters. \n",
    "\n",
    "In section 3 we wil further explore if this feature has an impact on the outcome of the animal. "
   ]
  },
  {
   "cell_type": "markdown",
   "metadata": {},
   "source": [
    "6. **Failed logical integrity tests**\n",
    "\n",
    "We will now investigate the failed logical integrity tests. Only tests which had failed results will be discussed. Test 2 had no failing instances. Before dropping any features we will first investigate all failures to see if the data makes sense. \n",
    "\n",
    "\n",
    "The AgeIntake has a minimum value of zero. This value does not go as far as the 25% which has a value of 68. I assume that the zero age is due to animals being born in the shelter. I will investigate these values further now. "
   ]
  },
  {
   "cell_type": "markdown",
   "metadata": {},
   "source": [
    " - **Test 1:** Check if the *'DateTime_Outcome'* is an earlier date than the *'DateTime_Intake'* for any of the animals. This would imply that the animal stayed a negative length of time in the shelter which is impossible.\n",
    "- We saw that in part 1 that 7 instances failed this test. \n",
    "- We will now investigate this result further by analysing the dates alongside the date of birth and age of outcome to see if the data makes sense. In this case we will use the *'AgeOutcome'* feature generated above which displays the age in days. We will also use the original value provided for the 'AgeuponOutcome' as this format will provide us with a clear visualisation of the ages. "
   ]
  },
  {
   "cell_type": "code",
   "execution_count": 82,
   "metadata": {},
   "outputs": [],
   "source": [
    "#create a dataframe containing intstances which have date of outcome before date of intake\n",
    "test1_df = df[df['DateTime_Outcome'] < df['DateTime_Intake']]"
   ]
  },
  {
   "cell_type": "code",
   "execution_count": 83,
   "metadata": {},
   "outputs": [
    {
     "data": {
      "text/html": [
       "<div>\n",
       "<style scoped>\n",
       "    .dataframe tbody tr th:only-of-type {\n",
       "        vertical-align: middle;\n",
       "    }\n",
       "\n",
       "    .dataframe tbody tr th {\n",
       "        vertical-align: top;\n",
       "    }\n",
       "\n",
       "    .dataframe thead th {\n",
       "        text-align: right;\n",
       "    }\n",
       "</style>\n",
       "<table border=\"1\" class=\"dataframe\">\n",
       "  <thead>\n",
       "    <tr style=\"text-align: right;\">\n",
       "      <th></th>\n",
       "      <th>DateTime_Outcome</th>\n",
       "      <th>DateTime_Intake</th>\n",
       "      <th>DateofBirth</th>\n",
       "      <th>AgeuponOutcome</th>\n",
       "      <th>AgeOutcome</th>\n",
       "    </tr>\n",
       "  </thead>\n",
       "  <tbody>\n",
       "    <tr>\n",
       "      <td>150</td>\n",
       "      <td>2019-06-30 18:17:00</td>\n",
       "      <td>2019-07-01 16:20:00</td>\n",
       "      <td>2013-06-09</td>\n",
       "      <td>6 years</td>\n",
       "      <td>2190.0</td>\n",
       "    </tr>\n",
       "    <tr>\n",
       "      <td>193</td>\n",
       "      <td>2016-09-21 12:28:00</td>\n",
       "      <td>2016-10-09 14:42:00</td>\n",
       "      <td>2015-09-03</td>\n",
       "      <td>1 year</td>\n",
       "      <td>365.0</td>\n",
       "    </tr>\n",
       "    <tr>\n",
       "      <td>286</td>\n",
       "      <td>2018-11-13 18:47:00</td>\n",
       "      <td>2018-12-09 11:36:00</td>\n",
       "      <td>2015-09-30</td>\n",
       "      <td>3 years</td>\n",
       "      <td>1095.0</td>\n",
       "    </tr>\n",
       "    <tr>\n",
       "      <td>354</td>\n",
       "      <td>2018-09-09 17:08:00</td>\n",
       "      <td>2019-11-29 14:47:00</td>\n",
       "      <td>2016-06-07</td>\n",
       "      <td>2 years</td>\n",
       "      <td>730.0</td>\n",
       "    </tr>\n",
       "    <tr>\n",
       "      <td>443</td>\n",
       "      <td>2018-07-15 17:13:00</td>\n",
       "      <td>2018-10-13 12:30:00</td>\n",
       "      <td>2017-11-15</td>\n",
       "      <td>7 months</td>\n",
       "      <td>210.0</td>\n",
       "    </tr>\n",
       "    <tr>\n",
       "      <td>627</td>\n",
       "      <td>2019-07-03 18:36:00</td>\n",
       "      <td>2019-09-05 13:38:00</td>\n",
       "      <td>2016-04-18</td>\n",
       "      <td>3 years</td>\n",
       "      <td>1095.0</td>\n",
       "    </tr>\n",
       "    <tr>\n",
       "      <td>929</td>\n",
       "      <td>2013-11-30 17:07:00</td>\n",
       "      <td>2015-02-04 17:54:00</td>\n",
       "      <td>2013-06-20</td>\n",
       "      <td>5 months</td>\n",
       "      <td>150.0</td>\n",
       "    </tr>\n",
       "  </tbody>\n",
       "</table>\n",
       "</div>"
      ],
      "text/plain": [
       "       DateTime_Outcome     DateTime_Intake DateofBirth AgeuponOutcome  \\\n",
       "150 2019-06-30 18:17:00 2019-07-01 16:20:00  2013-06-09        6 years   \n",
       "193 2016-09-21 12:28:00 2016-10-09 14:42:00  2015-09-03         1 year   \n",
       "286 2018-11-13 18:47:00 2018-12-09 11:36:00  2015-09-30        3 years   \n",
       "354 2018-09-09 17:08:00 2019-11-29 14:47:00  2016-06-07        2 years   \n",
       "443 2018-07-15 17:13:00 2018-10-13 12:30:00  2017-11-15       7 months   \n",
       "627 2019-07-03 18:36:00 2019-09-05 13:38:00  2016-04-18        3 years   \n",
       "929 2013-11-30 17:07:00 2015-02-04 17:54:00  2013-06-20       5 months   \n",
       "\n",
       "     AgeOutcome  \n",
       "150      2190.0  \n",
       "193       365.0  \n",
       "286      1095.0  \n",
       "354       730.0  \n",
       "443       210.0  \n",
       "627      1095.0  \n",
       "929       150.0  "
      ]
     },
     "execution_count": 83,
     "metadata": {},
     "output_type": "execute_result"
    }
   ],
   "source": [
    "#show the relevant columns in this new dataframe\n",
    "test1_df[['DateTime_Outcome','DateTime_Intake','DateofBirth', 'AgeuponOutcome','AgeOutcome']]"
   ]
  },
  {
   "cell_type": "markdown",
   "metadata": {},
   "source": [
    "We can see from the information above that the age of outcome for all 7 instances appears to be equal to the difference between the 'DateofBirth' and 'DateTime_Outcome'. This implies that the animal was born in the shelter. We will now substract the date of birth from the date of outcome in order to investigate further. "
   ]
  },
  {
   "cell_type": "code",
   "execution_count": 85,
   "metadata": {},
   "outputs": [
    {
     "data": {
      "text/plain": [
       "150   2212 days 18:17:00\n",
       "193    384 days 12:28:00\n",
       "286   1140 days 18:47:00\n",
       "354    824 days 17:08:00\n",
       "443    242 days 17:13:00\n",
       "627   1171 days 18:36:00\n",
       "929    163 days 17:07:00\n",
       "dtype: timedelta64[ns]"
      ]
     },
     "execution_count": 85,
     "metadata": {},
     "output_type": "execute_result"
    }
   ],
   "source": [
    "#subtract date of birth from date of outcome\n",
    "test1_df['DateTime_Outcome']-test1_df['DateofBirth']"
   ]
  },
  {
   "cell_type": "markdown",
   "metadata": {},
   "source": [
    "We can see above that the difference in days between the date of outcome and the date of birth is approximately equal to the day in age. It is expected that the values would not be exactly equal as the format of the age originally given in the dataset was an approximate age. This is the age we then used to compute the age in days so it makes sense that this is not exactly equal to the difference in dates. \n",
    "\n",
    "We can assume therefore that the date of intake should be the same as the date of birth. These values will now be replaced below. "
   ]
  },
  {
   "cell_type": "code",
   "execution_count": 86,
   "metadata": {},
   "outputs": [],
   "source": [
    "#in the new dataframe replace the datetime intake with date of birth\n",
    "test1_df['DateTime_Intake']=test1_df['DateofBirth']"
   ]
  },
  {
   "cell_type": "code",
   "execution_count": 87,
   "metadata": {},
   "outputs": [
    {
     "data": {
      "text/html": [
       "<div>\n",
       "<style scoped>\n",
       "    .dataframe tbody tr th:only-of-type {\n",
       "        vertical-align: middle;\n",
       "    }\n",
       "\n",
       "    .dataframe tbody tr th {\n",
       "        vertical-align: top;\n",
       "    }\n",
       "\n",
       "    .dataframe thead th {\n",
       "        text-align: right;\n",
       "    }\n",
       "</style>\n",
       "<table border=\"1\" class=\"dataframe\">\n",
       "  <thead>\n",
       "    <tr style=\"text-align: right;\">\n",
       "      <th></th>\n",
       "      <th>DateTime_Outcome</th>\n",
       "      <th>DateTime_Intake</th>\n",
       "      <th>DateofBirth</th>\n",
       "      <th>AgeuponOutcome</th>\n",
       "      <th>AgeOutcome</th>\n",
       "    </tr>\n",
       "  </thead>\n",
       "  <tbody>\n",
       "    <tr>\n",
       "      <td>150</td>\n",
       "      <td>2019-06-30 18:17:00</td>\n",
       "      <td>2013-06-09</td>\n",
       "      <td>2013-06-09</td>\n",
       "      <td>6 years</td>\n",
       "      <td>2190.0</td>\n",
       "    </tr>\n",
       "    <tr>\n",
       "      <td>193</td>\n",
       "      <td>2016-09-21 12:28:00</td>\n",
       "      <td>2015-09-03</td>\n",
       "      <td>2015-09-03</td>\n",
       "      <td>1 year</td>\n",
       "      <td>365.0</td>\n",
       "    </tr>\n",
       "    <tr>\n",
       "      <td>286</td>\n",
       "      <td>2018-11-13 18:47:00</td>\n",
       "      <td>2015-09-30</td>\n",
       "      <td>2015-09-30</td>\n",
       "      <td>3 years</td>\n",
       "      <td>1095.0</td>\n",
       "    </tr>\n",
       "    <tr>\n",
       "      <td>354</td>\n",
       "      <td>2018-09-09 17:08:00</td>\n",
       "      <td>2016-06-07</td>\n",
       "      <td>2016-06-07</td>\n",
       "      <td>2 years</td>\n",
       "      <td>730.0</td>\n",
       "    </tr>\n",
       "    <tr>\n",
       "      <td>443</td>\n",
       "      <td>2018-07-15 17:13:00</td>\n",
       "      <td>2017-11-15</td>\n",
       "      <td>2017-11-15</td>\n",
       "      <td>7 months</td>\n",
       "      <td>210.0</td>\n",
       "    </tr>\n",
       "    <tr>\n",
       "      <td>627</td>\n",
       "      <td>2019-07-03 18:36:00</td>\n",
       "      <td>2016-04-18</td>\n",
       "      <td>2016-04-18</td>\n",
       "      <td>3 years</td>\n",
       "      <td>1095.0</td>\n",
       "    </tr>\n",
       "    <tr>\n",
       "      <td>929</td>\n",
       "      <td>2013-11-30 17:07:00</td>\n",
       "      <td>2013-06-20</td>\n",
       "      <td>2013-06-20</td>\n",
       "      <td>5 months</td>\n",
       "      <td>150.0</td>\n",
       "    </tr>\n",
       "  </tbody>\n",
       "</table>\n",
       "</div>"
      ],
      "text/plain": [
       "       DateTime_Outcome DateTime_Intake DateofBirth AgeuponOutcome  AgeOutcome\n",
       "150 2019-06-30 18:17:00      2013-06-09  2013-06-09        6 years      2190.0\n",
       "193 2016-09-21 12:28:00      2015-09-03  2015-09-03         1 year       365.0\n",
       "286 2018-11-13 18:47:00      2015-09-30  2015-09-30        3 years      1095.0\n",
       "354 2018-09-09 17:08:00      2016-06-07  2016-06-07        2 years       730.0\n",
       "443 2018-07-15 17:13:00      2017-11-15  2017-11-15       7 months       210.0\n",
       "627 2019-07-03 18:36:00      2016-04-18  2016-04-18        3 years      1095.0\n",
       "929 2013-11-30 17:07:00      2013-06-20  2013-06-20       5 months       150.0"
      ]
     },
     "execution_count": 87,
     "metadata": {},
     "output_type": "execute_result"
    }
   ],
   "source": [
    "#view the relevant columns to check that the values have been replaced\n",
    "test1_df[['DateTime_Outcome','DateTime_Intake','DateofBirth', 'AgeuponOutcome','AgeOutcome']]"
   ]
  },
  {
   "cell_type": "markdown",
   "metadata": {},
   "source": [
    "In the cell below we update the dataframe based with the new values from the test1_df"
   ]
  },
  {
   "cell_type": "code",
   "execution_count": 88,
   "metadata": {},
   "outputs": [],
   "source": [
    "#update our dataframe w\n",
    "df.update(test1_df)"
   ]
  },
  {
   "cell_type": "markdown",
   "metadata": {},
   "source": [
    "In the cell below we will now run the test again to ensure that the invalid instances have been corrected. We expect that 0 rows will fail the test. "
   ]
  },
  {
   "cell_type": "code",
   "execution_count": 90,
   "metadata": {},
   "outputs": [
    {
     "name": "stdout",
     "output_type": "stream",
     "text": [
      "Number of rows failing the test:  0\n"
     ]
    },
    {
     "data": {
      "text/html": [
       "<div>\n",
       "<style scoped>\n",
       "    .dataframe tbody tr th:only-of-type {\n",
       "        vertical-align: middle;\n",
       "    }\n",
       "\n",
       "    .dataframe tbody tr th {\n",
       "        vertical-align: top;\n",
       "    }\n",
       "\n",
       "    .dataframe thead th {\n",
       "        text-align: right;\n",
       "    }\n",
       "</style>\n",
       "<table border=\"1\" class=\"dataframe\">\n",
       "  <thead>\n",
       "    <tr style=\"text-align: right;\">\n",
       "      <th></th>\n",
       "      <th>DateTime_Outcome</th>\n",
       "      <th>DateTime_Intake</th>\n",
       "    </tr>\n",
       "  </thead>\n",
       "  <tbody>\n",
       "  </tbody>\n",
       "</table>\n",
       "</div>"
      ],
      "text/plain": [
       "Empty DataFrame\n",
       "Columns: [DateTime_Outcome, DateTime_Intake]\n",
       "Index: []"
      ]
     },
     "execution_count": 90,
     "metadata": {},
     "output_type": "execute_result"
    }
   ],
   "source": [
    "test_1 = df[['DateTime_Outcome','DateTime_Intake']][df['DateTime_Outcome'] < df['DateTime_Intake']]\n",
    "print(\"Number of rows failing the test: \", test_1.shape[0])\n",
    "test_1.head(7)"
   ]
  },
  {
   "cell_type": "code",
   "execution_count": null,
   "metadata": {},
   "outputs": [],
   "source": [
    "#divide DateTime_Intake into year, month, weekday\n",
    "df['Intake_Month']=df['DateTime_Intake'].dt.month\n",
    "df['Intake_Year']=df['DateTime_Intake'].dt.year\n",
    "df['Intake_Weekday']=df['DateTime_Intake'].dt.weekday_name"
   ]
  },
  {
   "cell_type": "markdown",
   "metadata": {},
   "source": [
    " - **Test 3:** Check if age of intake of any animal is zero. This is indeed plausible if an animal is born in the shelter. However, this will be tested to ensure there are not an unexpected number of animals aged zero as this may imply some invalid data. "
   ]
  },
  {
   "cell_type": "markdown",
   "metadata": {},
   "source": [
    "We saw that 5 instances failed this integrity test and had an age of entry of 0. In order to investigate further, the *'DateofBirth'* and *'SexuponIntake'* will be analysed for the failing instances. This will tell us if the data makes sense. "
   ]
  },
  {
   "cell_type": "code",
   "execution_count": null,
   "metadata": {},
   "outputs": [],
   "source": [
    "age_intake = (df['DateTime_Intake'] - df['DateofBirth']).dt.days\n",
    "test_3 = df[age_intake == 0]\n",
    "test_3[['SexuponIntake', 'DateTime_Intake','DateofBirth']]"
   ]
  },
  {
   "cell_type": "markdown",
   "metadata": {},
   "source": [
    "We can see in the table above that for all animals which have an age of intake of zero, the date of intake is the same as the date of birth. From this I take that these animals were born in the shelter. Furthermore, all of these instances are either an unknown sex or intact. As a newborn could not yet be spayed or neutered, this strengthens the case that they were born on this day. These instances will be left as is. "
   ]
  },
  {
   "cell_type": "markdown",
   "metadata": {},
   "source": [
    " - **Test 4:** Check if age of outcome of any animal is zero. This would imply that an animal left  the shelter on the day of their birth."
   ]
  },
  {
   "cell_type": "markdown",
   "metadata": {},
   "source": [
    "We saw above that one instance failed this logical integrity test. We will now investigate this result further by analysing the date of intake, date of outcome and binary outcome of this instance. "
   ]
  },
  {
   "cell_type": "code",
   "execution_count": null,
   "metadata": {},
   "outputs": [],
   "source": [
    "#create a dataframe containing the instances where age of outcome is zero\n",
    "#I subtract date of birth from date of intake and convert this value to days\n",
    "age_outcome = (df['DateTime_Outcome'] - df['DateofBirth']).dt.days\n",
    "test_4 = df[age_outcome == 0]\n",
    "test_4[['DateTime_Intake','DateTime_Outcome','DateofBirth', 'binary_outcome']]"
   ]
  },
  {
   "cell_type": "markdown",
   "metadata": {},
   "source": [
    "We can see that the animal seems to have left the shelter a few hours after entering. Furthermore the *'binary_outcome'* value of 0 tells us that the animal had a positive outcome and was either adopted or returned to their owner. It is assumed that an animal would not be adopted a few hours after being born. It must be assumed that the animal was returned to its owner after being born. This would be plausible if both the animal and its mother were in the shelter and both were returned to their owner together. Ideally we would need to speak to the domain expert to gain more information about whether this is invalid data. This instance will be left as it is. "
   ]
  },
  {
   "cell_type": "code",
   "execution_count": null,
   "metadata": {},
   "outputs": [],
   "source": [
    "df['DateTime_Intake'].unique()"
   ]
  },
  {
   "cell_type": "markdown",
   "metadata": {},
   "source": [
    "__4.Age_intake feature has many potential outliers.__\n",
    "\n",
    "As seen in the box plots, this feature has many potential outliers which are greater than the max cut off point. I have decided to leave these values as they are as I think they are an accurate representation of the age range in the animal shelter."
   ]
  },
  {
   "cell_type": "code",
   "execution_count": null,
   "metadata": {},
   "outputs": [],
   "source": [
    "#sort information by Age of Intake to see if there is any additional information\n",
    "# df.sort_values(by='AgeIntake', axis=0, ascending=False, inplace=False, kind='quicksort', na_position='last')[['AgeIntake','AnimalType_Intake','IntakeCondition', 'SexuponIntake', 'binary_outcome']].head(5)"
   ]
  },
  {
   "cell_type": "markdown",
   "metadata": {},
   "source": [
    "We can see from the above table that there is no clear pattern in the other features when sorted by the age of intake. I cannot be sure whether the large values for age are valid or not. However, I am making the assumption that they are valid and to be sure I will leave them as is. "
   ]
  },
  {
   "cell_type": "markdown",
   "metadata": {},
   "source": [
    "__6. Age_OutCome feature has many potential outliers.__\n",
    "\n",
    "As seen in the box plots, this feature has many potential outliers which are greater than the max cut off point. I have decided to leave these values as they are as I think they are an accurate representation of the age range in the animal shelter."
   ]
  },
  {
   "cell_type": "code",
   "execution_count": null,
   "metadata": {},
   "outputs": [],
   "source": [
    "#sort information by Age of Intake to see if there is any additional information\n",
    "df.sort_values(by='AgeOutcome', axis=0, ascending=False, inplace=False, kind='quicksort', na_position='last')[['AgeOutcome','AnimalType_Intake','IntakeCondition', 'SexuponIntake', 'binary_outcome']].head(5)"
   ]
  },
  {
   "cell_type": "markdown",
   "metadata": {},
   "source": [
    "We can see from the above table that there is no clear pattern in the other features when sorted by the age of intake. I cannot be sure whether the large values for age are valid or not. However, I am making the assumption that they are valid and to be sure I will leave them as is. "
   ]
  },
  {
   "cell_type": "markdown",
   "metadata": {},
   "source": [
    "Summary of data Quality plan\n",
    "# Update!"
   ]
  },
  {
   "cell_type": "markdown",
   "metadata": {},
   "source": [
    "    \n",
    "| Feature                 | Data Quality Issue         | Handling Strategy         |\n",
    "|-------------------------|----------------------      |------------------------   |\n",
    "|AnimalID (object)                          |   Unique identifier not to be used as feature in data preparation|Keep to be able to link example to actual animal, but do not use for data preparation|\n",
    "Name_Intake (category)             |   Missing Values (30.6%)            | A feature is usually dropped if 60% of values are missing. This feature is missing 30.6% but I have decided that it is not an important feature for the binary outcome. This feature will be dropped.|       \n",
    "DateTime_Intake (datetime64[ns])       | Negative value for min length of stay (-446.0) | Investigate cause and decide what to do with this feature; If the number of instances is low these instances may be dropped. Otherwise, it will be deicded the most appropriate level to impute the instances to.|\n",
    "FoundLocation (category)             | High cardinality (766)   | This is a very high cardinality for a categorical feature. Will investigate whether the one level is represented in many different formats, producing a higher cardinality. I will investigate but wil leave as is and investigate further later on whether this is affecting the binary outcome.| \n",
    "IntakeType (category)                 | None | Keep as is|   \n",
    "IntakeCondition (category)                | None | Keep as is|\n",
    "AnimalType_Intake (category)    | None | Keep as is|\n",
    "SexuponIntake (category)                  | None | Keep as is|\n",
    "Breed_Intake (category)                 | None |  Keep as is  |   \n",
    "DateTime_Outcome (datetime64[ns])             |  Negative value for min length of stay (-446.0) | Investigate cause and decide what to do with this feature; If the number of instances is low these instances may be dropped. Otherwise, it will be deicded the most appropriate level to impute the instances to.|\n",
    "DateofBirth (datetime64[ns])             | None | Keep as is |\n",
    "SexuponOutcome (category)         | None | Keep as is|\n",
    "binary_outcome (category)         | None | Keep as is|\n",
    "AgeIntakeInDays (int64) | Minumum zero, Potential outliers |Leave as is; the minimum age of zero is most likely due to animals being born in the shelter. Although many instances are seen as potential outliers in the descriptive stats table and boxplots, these are accurate representations of the age feature.|\n",
    "AgeOutcomeInDays (int64) |Minimum zero, Potential outliers |Leave as is; the minimum age of zero is most likely due to animals being born in the shelter. Although many instances are seen as potential outliers in the descriptive stats table and boxplots, these are accurate representations of the age feature.|"
   ]
  },
  {
   "cell_type": "code",
   "execution_count": 100,
   "metadata": {},
   "outputs": [],
   "source": [
    "#write cleaned dataframe to a csv file\n",
    "df.to_csv('19205514_cleaned.csv', index=False)"
   ]
  },
  {
   "cell_type": "markdown",
   "metadata": {},
   "source": [
    "# (2) - Exploring relationships between feature pairs "
   ]
  },
  {
   "cell_type": "markdown",
   "metadata": {},
   "source": [
    "# Note to self: this should just be subset: "
   ]
  },
  {
   "cell_type": "markdown",
   "metadata": {},
   "source": [
    "In this section of the assignment I will plot pairwise feature interactions between a subset of features which I think may be indicative of the target outcome. \n",
    "\n",
    "The features that I will look at for pairwise feature interaction are the following continuous features:\n",
    "- Age upon intake\n",
    "- Age upon outcome\n",
    "\n",
    "I will look at the following categorical features: \n",
    "- Name\n",
    "- Location\n",
    "- Animal type\n",
    "- intake type\n",
    "- Intake condition\n",
    "- Breed upon intake\n",
    "- Color upin intake\n",
    "- Sex upon intake\n",
    "- Binary outcome"
   ]
  },
  {
   "cell_type": "markdown",
   "metadata": {},
   "source": [
    "### Continuous vs continuous scatter plot"
   ]
  },
  {
   "cell_type": "code",
   "execution_count": 101,
   "metadata": {},
   "outputs": [
    {
     "data": {
      "text/plain": [
       "<matplotlib.axes._subplots.AxesSubplot at 0x1a265d3390>"
      ]
     },
     "execution_count": 101,
     "metadata": {},
     "output_type": "execute_result"
    },
    {
     "data": {
      "image/png": "[encoded data removed]",
      "text/plain": [
       "<Figure size 432x288 with 1 Axes>"
      ]
     },
     "metadata": {
      "needs_background": "light"
     },
     "output_type": "display_data"
    }
   ],
   "source": [
    "df.plot(kind='scatter', x='AgeIntake', y='AgeOutcome')"
   ]
  },
  {
   "cell_type": "markdown",
   "metadata": {},
   "source": [
    "### Categorical vs categorical scatter plots"
   ]
  },
  {
   "cell_type": "markdown",
   "metadata": {},
   "source": []
  },
  {
   "cell_type": "code",
   "execution_count": 104,
   "metadata": {},
   "outputs": [
    {
     "name": "stdout",
     "output_type": "stream",
     "text": [
      "Breed_Intake\n",
      "Index \t Count\n",
      "Mixed Breed \t 760\n",
      "Pure Breed \t 240\n"
     ]
    },
    {
     "data": {
      "text/plain": [
       "(0, 100)"
      ]
     },
     "execution_count": 104,
     "metadata": {},
     "output_type": "execute_result"
    },
    {
     "data": {
      "image/png": "[encoded data removed]",
      "text/plain": [
       "<Figure size 1080x504 with 1 Axes>"
      ]
     },
     "metadata": {
      "needs_background": "light"
     },
     "output_type": "display_data"
    }
   ],
   "source": [
    "#Using code from the module lab\n",
    "Breed_Intake = pd.unique(df[\"Breed_Intake\"].ravel())\n",
    "\n",
    "# add new column and set values to zero\n",
    "df['percent'] = 0\n",
    "\n",
    "#print header\n",
    "print(\"Breed_Intake\")\n",
    "print(\"Index \\t Count\")\n",
    "\n",
    "# for each delinquency category\n",
    "for i in Breed_Intake:\n",
    "    \n",
    "    count = df[df[\"Breed_Intake\"] == i].count()['binary_outcome']\n",
    "    count_percentage = (1 / count) * 100\n",
    "        \n",
    "    # print out index vs count\n",
    "    print(i, \"\\t\", count)\n",
    "    \n",
    "    index_list = df[df['Breed_Intake'] == i].index.tolist()\n",
    "    for ind in index_list:\n",
    "        df.loc[ind, 'percent'] = count_percentage\n",
    "        \n",
    "group = df[['percent','Breed_Intake','binary_outcome']].groupby(['Breed_Intake','binary_outcome']).sum()\n",
    "\n",
    "my_plot = group.unstack().plot(kind='bar', stacked=True, title=\"Outcome vs Breed\", figsize=(15,7), grid=True)\n",
    "\n",
    "# add legend\n",
    "red_patch = mpatches.Patch(color='orange', label='Negative outcome')\n",
    "blue_patch = mpatches.Patch(color='blue', label='Positive outcome')\n",
    "my_plot.legend(handles=[red_patch, blue_patch], frameon = True)\n",
    "\n",
    "# add gridlines\n",
    "plt.grid(b=True, which='major', color='#666666', linestyle='-')\n",
    "plt.minorticks_on()\n",
    "plt.grid(b=True, which='minor', color='#999999', linestyle='-', alpha=0.2)\n",
    "\n",
    "my_plot.set_xlabel(\"Breed\")\n",
    "my_plot.set_ylabel(\"Outcome\")\n",
    "my_plot.set_ylim([0,100])"
   ]
  },
  {
   "cell_type": "code",
   "execution_count": 110,
   "metadata": {},
   "outputs": [
    {
     "name": "stdout",
     "output_type": "stream",
     "text": [
      "Name_Intake\n",
      "Index \t Count\n",
      "True \t 694\n",
      "False \t 306\n"
     ]
    },
    {
     "data": {
      "text/plain": [
       "(0, 100)"
      ]
     },
     "execution_count": 110,
     "metadata": {},
     "output_type": "execute_result"
    },
    {
     "data": {
      "image/png": "[encoded data removed]",
      "text/plain": [
       "<Figure size 1080x504 with 1 Axes>"
      ]
     },
     "metadata": {
      "needs_background": "light"
     },
     "output_type": "display_data"
    }
   ],
   "source": [
    "#Using code from the module lab\n",
    "Name_Intake = pd.unique(df[\"Name_Intake\"].ravel())\n",
    "\n",
    "# add new column and set values to zero\n",
    "df['percent'] = 0\n",
    "\n",
    "#print header\n",
    "print(\"Name_Intake\")\n",
    "print(\"Index \\t Count\")\n",
    "\n",
    "# for each delinquency category\n",
    "for i in Name_Intake:\n",
    "    \n",
    "    count = df[df[\"Name_Intake\"] == i].count()['binary_outcome']\n",
    "    count_percentage = (1 / count) * 100\n",
    "        \n",
    "    # print out index vs count\n",
    "    print(i, \"\\t\", count)\n",
    "    \n",
    "    index_list = df[df['Name_Intake'] == i].index.tolist()\n",
    "    for ind in index_list:\n",
    "        df.loc[ind, 'percent'] = count_percentage\n",
    "        \n",
    "group = df[['percent','Name_Intake','binary_outcome']].groupby(['Name_Intake','binary_outcome']).sum()\n",
    "\n",
    "my_plot = group.unstack().plot(kind='bar', stacked=True, title=\"Outcome vs Name\", figsize=(15,7), grid=True)\n",
    "\n",
    "# add legend\n",
    "red_patch = mpatches.Patch(color='orange', label='Negative outcome')\n",
    "blue_patch = mpatches.Patch(color='blue', label='Positive outcome')\n",
    "my_plot.legend(handles=[red_patch, blue_patch], frameon = True)\n",
    "\n",
    "# add gridlines\n",
    "plt.grid(b=True, which='major', color='#666666', linestyle='-')\n",
    "plt.minorticks_on()\n",
    "plt.grid(b=True, which='minor', color='#999999', linestyle='-', alpha=0.2)\n",
    "\n",
    "my_plot.set_xlabel(\"Name\")\n",
    "my_plot.set_ylabel(\"Outcome\")\n",
    "my_plot.set_ylim([0,100])"
   ]
  },
  {
   "cell_type": "code",
   "execution_count": 112,
   "metadata": {},
   "outputs": [
    {
     "name": "stdout",
     "output_type": "stream",
     "text": [
      "Color_Intake\n",
      "Index \t Count\n",
      "Dark \t 689\n",
      "Light \t 311\n"
     ]
    },
    {
     "data": {
      "text/plain": [
       "(0, 100)"
      ]
     },
     "execution_count": 112,
     "metadata": {},
     "output_type": "execute_result"
    },
    {
     "data": {
      "image/png": "[encoded data removed]",
      "text/plain": [
       "<Figure size 1080x504 with 1 Axes>"
      ]
     },
     "metadata": {
      "needs_background": "light"
     },
     "output_type": "display_data"
    }
   ],
   "source": [
    "#Using code from the module lab\n",
    "Color_Intake = pd.unique(df[\"Color_Intake\"].ravel())\n",
    "\n",
    "# add new column and set values to zero\n",
    "df['percent'] = 0\n",
    "\n",
    "#print header\n",
    "print(\"Color_Intake\")\n",
    "print(\"Index \\t Count\")\n",
    "\n",
    "# for each delinquency category\n",
    "for i in Color_Intake:\n",
    "    \n",
    "    count = df[df[\"Color_Intake\"] == i].count()['binary_outcome']\n",
    "    count_percentage = (1 / count) * 100\n",
    "        \n",
    "    # print out index vs count\n",
    "    print(i, \"\\t\", count)\n",
    "    \n",
    "    index_list = df[df['Color_Intake'] == i].index.tolist()\n",
    "    for ind in index_list:\n",
    "        df.loc[ind, 'percent'] = count_percentage\n",
    "        \n",
    "group = df[['percent','Color_Intake','binary_outcome']].groupby(['Color_Intake','binary_outcome']).sum()\n",
    "\n",
    "my_plot = group.unstack().plot(kind='bar', stacked=True, title=\"Outcome vs Color\", figsize=(15,7), grid=True)\n",
    "\n",
    "# add legend\n",
    "red_patch = mpatches.Patch(color='orange', label='Negative outcome')\n",
    "blue_patch = mpatches.Patch(color='blue', label='Positive outcome')\n",
    "my_plot.legend(handles=[red_patch, blue_patch], frameon = True)\n",
    "\n",
    "# add gridlines\n",
    "plt.grid(b=True, which='major', color='#666666', linestyle='-')\n",
    "plt.minorticks_on()\n",
    "plt.grid(b=True, which='minor', color='#999999', linestyle='-', alpha=0.2)\n",
    "\n",
    "my_plot.set_xlabel(\"Color\")\n",
    "my_plot.set_ylabel(\"Outcome\")\n",
    "my_plot.set_ylim([0,100])"
   ]
  },
  {
   "cell_type": "code",
   "execution_count": 114,
   "metadata": {},
   "outputs": [
    {
     "name": "stdout",
     "output_type": "stream",
     "text": [
      "IntakeType\n",
      "Index \t Count\n",
      "Stray \t 708\n",
      "Owner Surrender \t 196\n",
      "Public Assist \t 61\n",
      "Wildlife \t 34\n",
      "Euthanasia Request \t 1\n"
     ]
    },
    {
     "data": {
      "text/plain": [
       "(0, 100)"
      ]
     },
     "execution_count": 114,
     "metadata": {},
     "output_type": "execute_result"
    },
    {
     "data": {
      "image/png": "[encoded data removed]",
      "text/plain": [
       "<Figure size 1080x504 with 1 Axes>"
      ]
     },
     "metadata": {
      "needs_background": "light"
     },
     "output_type": "display_data"
    }
   ],
   "source": [
    "#Using code from the module lab\n",
    "IntakeType = pd.unique(df[\"IntakeType\"].ravel())\n",
    "\n",
    "# add new column and set values to zero\n",
    "df['percent'] = 0\n",
    "\n",
    "#print header\n",
    "print(\"IntakeType\")\n",
    "print(\"Index \\t Count\")\n",
    "\n",
    "# for each delinquency category\n",
    "for i in IntakeType:\n",
    "    \n",
    "    count = df[df[\"IntakeType\"] == i].count()['binary_outcome']\n",
    "    count_percentage = (1 / count) * 100\n",
    "        \n",
    "    # print out index vs count\n",
    "    print(i, \"\\t\", count)\n",
    "    \n",
    "    index_list = df[df['IntakeType'] == i].index.tolist()\n",
    "    for ind in index_list:\n",
    "        df.loc[ind, 'percent'] = count_percentage\n",
    "        \n",
    "group = df[['percent','IntakeType','binary_outcome']].groupby(['IntakeType','binary_outcome']).sum()\n",
    "\n",
    "my_plot = group.unstack().plot(kind='bar', stacked=True, title=\"Outcome vs Intake Type\", figsize=(15,7), grid=True)\n",
    "\n",
    "# add legend\n",
    "red_patch = mpatches.Patch(color='orange', label='Negative outcome')\n",
    "blue_patch = mpatches.Patch(color='blue', label='Positive outcome')\n",
    "my_plot.legend(handles=[red_patch, blue_patch], frameon = True)\n",
    "\n",
    "# add gridlines\n",
    "plt.grid(b=True, which='major', color='#666666', linestyle='-')\n",
    "plt.minorticks_on()\n",
    "plt.grid(b=True, which='minor', color='#999999', linestyle='-', alpha=0.2)\n",
    "\n",
    "my_plot.set_xlabel(\"Intake Type\")\n",
    "my_plot.set_ylabel(\"Outcome\")\n",
    "my_plot.set_ylim([0,100])"
   ]
  },
  {
   "cell_type": "code",
   "execution_count": 117,
   "metadata": {},
   "outputs": [
    {
     "name": "stdout",
     "output_type": "stream",
     "text": [
      "IntakeCondition\n",
      "Index \t Count\n",
      "Normal \t 891\n",
      "Other \t 1\n",
      "Injured \t 47\n",
      "Nursing \t 19\n",
      "Sick \t 42\n"
     ]
    },
    {
     "data": {
      "text/plain": [
       "(0, 100)"
      ]
     },
     "execution_count": 117,
     "metadata": {},
     "output_type": "execute_result"
    },
    {
     "data": {
      "image/png": "[encoded data removed]",
      "text/plain": [
       "<Figure size 1080x504 with 1 Axes>"
      ]
     },
     "metadata": {
      "needs_background": "light"
     },
     "output_type": "display_data"
    }
   ],
   "source": [
    "#Using code from the module lab\n",
    "IntakeCondition = pd.unique(df[\"IntakeCondition\"].ravel())\n",
    "\n",
    "# add new column and set values to zero\n",
    "df['percent'] = 0\n",
    "\n",
    "#print header\n",
    "print(\"IntakeCondition\")\n",
    "print(\"Index \\t Count\")\n",
    "\n",
    "# for each delinquency category\n",
    "for i in IntakeCondition:\n",
    "    \n",
    "    count = df[df[\"IntakeCondition\"] == i].count()['binary_outcome']\n",
    "    count_percentage = (1 / count) * 100\n",
    "        \n",
    "    # print out index vs count\n",
    "    print(i, \"\\t\", count)\n",
    "    \n",
    "    index_list = df[df['IntakeCondition'] == i].index.tolist()\n",
    "    for ind in index_list:\n",
    "        df.loc[ind, 'percent'] = count_percentage\n",
    "        \n",
    "group = df[['percent','IntakeCondition','binary_outcome']].groupby(['IntakeCondition','binary_outcome']).sum()\n",
    "\n",
    "my_plot = group.unstack().plot(kind='bar', stacked=True, title=\"Outcome vs Intake Condition\", figsize=(15,7), grid=True)\n",
    "\n",
    "# add legend\n",
    "red_patch = mpatches.Patch(color='orange', label='Negative outcome')\n",
    "blue_patch = mpatches.Patch(color='blue', label='Positive outcome')\n",
    "my_plot.legend(handles=[red_patch, blue_patch], frameon = True)\n",
    "\n",
    "# add gridlines\n",
    "plt.grid(b=True, which='major', color='#666666', linestyle='-')\n",
    "plt.minorticks_on()\n",
    "plt.grid(b=True, which='minor', color='#999999', linestyle='-', alpha=0.2)\n",
    "\n",
    "my_plot.set_xlabel(\"Intake Condition\")\n",
    "my_plot.set_ylabel(\"Outcome\")\n",
    "my_plot.set_ylim([0,100])"
   ]
  },
  {
   "cell_type": "code",
   "execution_count": 118,
   "metadata": {},
   "outputs": [
    {
     "name": "stdout",
     "output_type": "stream",
     "text": [
      "AnimalType_Intake\n",
      "Index \t Count\n",
      "Cat \t 381\n",
      "Dog \t 563\n",
      "Other \t 51\n",
      "Bird \t 5\n"
     ]
    },
    {
     "data": {
      "text/plain": [
       "(0, 100)"
      ]
     },
     "execution_count": 118,
     "metadata": {},
     "output_type": "execute_result"
    },
    {
     "data": {
      "image/png": "[encoded data removed]",
      "text/plain": [
       "<Figure size 1080x504 with 1 Axes>"
      ]
     },
     "metadata": {
      "needs_background": "light"
     },
     "output_type": "display_data"
    }
   ],
   "source": [
    "#Using code from the module lab\n",
    "AnimalType_Intake = pd.unique(df[\"AnimalType_Intake\"].ravel())\n",
    "\n",
    "# add new column and set values to zero\n",
    "df['percent'] = 0\n",
    "\n",
    "#print header\n",
    "print(\"AnimalType_Intake\")\n",
    "print(\"Index \\t Count\")\n",
    "\n",
    "# for each delinquency category\n",
    "for i in AnimalType_Intake:\n",
    "    \n",
    "    count = df[df[\"AnimalType_Intake\"] == i].count()['binary_outcome']\n",
    "    count_percentage = (1 / count) * 100\n",
    "        \n",
    "    # print out index vs count\n",
    "    print(i, \"\\t\", count)\n",
    "    \n",
    "    index_list = df[df['AnimalType_Intake'] == i].index.tolist()\n",
    "    for ind in index_list:\n",
    "        df.loc[ind, 'percent'] = count_percentage\n",
    "        \n",
    "group = df[['percent','AnimalType_Intake','binary_outcome']].groupby(['AnimalType_Intake','binary_outcome']).sum()\n",
    "\n",
    "my_plot = group.unstack().plot(kind='bar', stacked=True, title=\"Outcome vs Animal Type\", figsize=(15,7), grid=True)\n",
    "\n",
    "# add legend\n",
    "red_patch = mpatches.Patch(color='orange', label='Negative outcome')\n",
    "blue_patch = mpatches.Patch(color='blue', label='Positive outcome')\n",
    "my_plot.legend(handles=[red_patch, blue_patch], frameon = True)\n",
    "\n",
    "# add gridlines\n",
    "plt.grid(b=True, which='major', color='#666666', linestyle='-')\n",
    "plt.minorticks_on()\n",
    "plt.grid(b=True, which='minor', color='#999999', linestyle='-', alpha=0.2)\n",
    "\n",
    "my_plot.set_xlabel(\"Animal Type\")\n",
    "my_plot.set_ylabel(\"Outcome\")\n",
    "my_plot.set_ylim([0,100])"
   ]
  },
  {
   "cell_type": "code",
   "execution_count": 119,
   "metadata": {},
   "outputs": [
    {
     "name": "stdout",
     "output_type": "stream",
     "text": [
      "SexuponIntake\n",
      "Index \t Count\n",
      "Intact Female \t 312\n",
      "Intact Male \t 332\n",
      "Spayed Female \t 129\n",
      "Neutered Male \t 143\n",
      "Unknown \t 84\n"
     ]
    },
    {
     "data": {
      "text/plain": [
       "(0, 100)"
      ]
     },
     "execution_count": 119,
     "metadata": {},
     "output_type": "execute_result"
    },
    {
     "data": {
      "image/png": "[encoded data removed]",
      "text/plain": [
       "<Figure size 1080x504 with 1 Axes>"
      ]
     },
     "metadata": {
      "needs_background": "light"
     },
     "output_type": "display_data"
    }
   ],
   "source": [
    "#Using code from the module lab\n",
    "SexuponIntake = pd.unique(df[\"SexuponIntake\"].ravel())\n",
    "\n",
    "# add new column and set values to zero\n",
    "df['percent'] = 0\n",
    "\n",
    "#print header\n",
    "print(\"SexuponIntake\")\n",
    "print(\"Index \\t Count\")\n",
    "\n",
    "# for each delinquency category\n",
    "for i in SexuponIntake:\n",
    "    \n",
    "    count = df[df[\"SexuponIntake\"] == i].count()['binary_outcome']\n",
    "    count_percentage = (1 / count) * 100\n",
    "        \n",
    "    # print out index vs count\n",
    "    print(i, \"\\t\", count)\n",
    "    \n",
    "    index_list = df[df['SexuponIntake'] == i].index.tolist()\n",
    "    for ind in index_list:\n",
    "        df.loc[ind, 'percent'] = count_percentage\n",
    "        \n",
    "group = df[['percent','SexuponIntake','binary_outcome']].groupby(['SexuponIntake','binary_outcome']).sum()\n",
    "\n",
    "my_plot = group.unstack().plot(kind='bar', stacked=True, title=\"Outcome vs Sex upon intake\", figsize=(15,7), grid=True)\n",
    "\n",
    "# add legend\n",
    "red_patch = mpatches.Patch(color='orange', label='Negative outcome')\n",
    "blue_patch = mpatches.Patch(color='blue', label='Positive outcome')\n",
    "my_plot.legend(handles=[red_patch, blue_patch], frameon = True)\n",
    "\n",
    "# add gridlines\n",
    "plt.grid(b=True, which='major', color='#666666', linestyle='-')\n",
    "plt.minorticks_on()\n",
    "plt.grid(b=True, which='minor', color='#999999', linestyle='-', alpha=0.2)\n",
    "\n",
    "my_plot.set_xlabel(\"Sex upon intake\")\n",
    "my_plot.set_ylabel(\"Outcome\")\n",
    "my_plot.set_ylim([0,100])"
   ]
  },
  {
   "cell_type": "markdown",
   "metadata": {},
   "source": [
    "### Continuous vs continuous scatter plot\n",
    "\n",
    "We will now plot age of intake against the binary outcome."
   ]
  },
  {
   "cell_type": "code",
   "execution_count": 120,
   "metadata": {},
   "outputs": [
    {
     "data": {
      "text/plain": [
       "<matplotlib.axes._subplots.AxesSubplot at 0x1114f9890>"
      ]
     },
     "execution_count": 120,
     "metadata": {},
     "output_type": "execute_result"
    },
    {
     "data": {
      "text/plain": [
       "<Figure size 432x288 with 0 Axes>"
      ]
     },
     "metadata": {},
     "output_type": "display_data"
    },
    {
     "data": {
      "image/png": "[encoded data removed]",
      "text/plain": [
       "<Figure size 720x504 with 1 Axes>"
      ]
     },
     "metadata": {
      "needs_background": "light"
     },
     "output_type": "display_data"
    }
   ],
   "source": [
    "plt.figure()\n",
    "flierprops = dict(marker='o', markerfacecolor='green', markersize=6,\n",
    "                  linestyle='none')\n",
    "df.boxplot(column=['AgeIntake'], by=['binary_outcome'], flierprops=flierprops, figsize=(10,7))"
   ]
  },
  {
   "cell_type": "markdown",
   "metadata": {},
   "source": [
    "### note to self - code for PART 4: \n",
    "\n",
    "**Sex features representing too much information**\n",
    "*'SexuponIntake'* and *'SexuponOutcome'* are representing two separate pieces of information within one feature. Both the gender and whether or not the animal was neutered/splayed are represented together. In order to be able to analyse both pieces of information separately, it is recommended that this feature be split into two separate features - gender and splayed/neutered. \n",
    "\n",
    "(code below to use for new feature which split sex and spay/neutered)"
   ]
  },
  {
   "cell_type": "code",
   "execution_count": null,
   "metadata": {},
   "outputs": [],
   "source": [
    "# df['SexuponIntake'].unique()\n",
    "# df[['Spay/neutered_Intake','Sex_Intake']] = df['SexuponIntake'].str.split(\" \",expand=True)\n",
    "# df['Sex_Intake'].unique()"
   ]
  }
 ],
 "metadata": {
  "kernelspec": {
   "display_name": "Python 3",
   "language": "python",
   "name": "python3"
  },
  "language_info": {
   "codemirror_mode": {
    "name": "ipython",
    "version": 3
   },
   "file_extension": ".py",
   "mimetype": "text/x-python",
   "name": "python",
   "nbconvert_exporter": "python",
   "pygments_lexer": "ipython3",
   "version": "3.7.4"
  }
 },
 "nbformat": 4,
 "nbformat_minor": 2
}
