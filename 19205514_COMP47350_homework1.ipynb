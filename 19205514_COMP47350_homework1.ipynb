{
 "cells": [
  {
   "cell_type": "markdown",
   "metadata": {},
   "source": [
    "### Introduction\n",
    "\n",
    "This assignment focuses on data understanding and preparation for data from an animal shelter. This animal shelter is concerned with reducing the risk of animal death and is working towards building an anayltics solution for death risk prediction in order to improve the welfare of animals entering the shelter. \n",
    "\n",
    "Throughout this assignment I will be using various data analytics soliutions in order to prepare the data so that it can be used to predict the outcome of the animal. The outcome is represented by the feature 'binary_outcome' with '1' representing a negative outcome and '0' representing a positive outcome.\n",
    "\n",
    "I will begin the assignment with some data exploration. I will perform various data analytics steps in order to get to know the data and understand it better. I will then discuss any issues which I have found in the data and will then apply data analytics solutions in order to clean the data. \n",
    "\n",
    "This will be followed by an exploration of any relationships between the cleaned features. Finally, the assignment will finish with the creation of some new features which I feel will be useful in predicting the binary outcome of these animals. "
   ]
  },
  {
   "cell_type": "markdown",
   "metadata": {},
   "source": [
    "We will begin by importing the packages required for this assignment. "
   ]
  },
  {
   "cell_type": "code",
   "execution_count": 1,
   "metadata": {},
   "outputs": [],
   "source": [
    "#import the following packages\n",
    "import pandas as pd\n",
    "import numpy as np\n",
    "import matplotlib.pyplot as plt\n",
    "from matplotlib.backends.backend_pdf import PdfPages\n",
    "import seaborn as sn\n",
    "import matplotlib.patches as mpatches\n",
    "import warnings\n",
    "warnings.filterwarnings('ignore')\n",
    "%matplotlib inline"
   ]
  },
  {
   "cell_type": "markdown",
   "metadata": {},
   "source": [
    "We will now read the data from a csv file. "
   ]
  },
  {
   "cell_type": "code",
   "execution_count": 2,
   "metadata": {},
   "outputs": [],
   "source": [
    "# Reading from a csv file, into a data frame\n",
    "df = pd.read_csv('AnimalWelfareRisk-19205514.csv')"
   ]
  },
  {
   "cell_type": "markdown",
   "metadata": {},
   "source": [
    "# (1) Prepare a data quality report for the csv file."
   ]
  },
  {
   "cell_type": "markdown",
   "metadata": {},
   "source": [
    "### Check shape of csv file"
   ]
  },
  {
   "cell_type": "code",
   "execution_count": 3,
   "metadata": {},
   "outputs": [
    {
     "data": {
      "text/plain": [
       "(1000, 22)"
      ]
     },
     "execution_count": 3,
     "metadata": {},
     "output_type": "execute_result"
    }
   ],
   "source": [
    "# This checks how many rows and columns this dataframe has\n",
    "df.shape"
   ]
  },
  {
   "cell_type": "markdown",
   "metadata": {},
   "source": [
    "This tells us the dataset has 1000 rows and 22 columns. "
   ]
  },
  {
   "cell_type": "markdown",
   "metadata": {},
   "source": [
    "### Print the first and last 5 rows of CSV file."
   ]
  },
  {
   "cell_type": "markdown",
   "metadata": {},
   "source": [
    "We will now print the first and last 5 rows of the dataset. "
   ]
  },
  {
   "cell_type": "code",
   "execution_count": 4,
   "metadata": {},
   "outputs": [
    {
     "data": {
      "text/html": [
       "<div>\n",
       "<style scoped>\n",
       "    .dataframe tbody tr th:only-of-type {\n",
       "        vertical-align: middle;\n",
       "    }\n",
       "\n",
       "    .dataframe tbody tr th {\n",
       "        vertical-align: top;\n",
       "    }\n",
       "\n",
       "    .dataframe thead th {\n",
       "        text-align: right;\n",
       "    }\n",
       "</style>\n",
       "<table border=\"1\" class=\"dataframe\">\n",
       "  <thead>\n",
       "    <tr style=\"text-align: right;\">\n",
       "      <th></th>\n",
       "      <th>Animal ID</th>\n",
       "      <th>Name_Intake</th>\n",
       "      <th>DateTime_Intake</th>\n",
       "      <th>MonthYear_Intake</th>\n",
       "      <th>Found Location</th>\n",
       "      <th>Intake Type</th>\n",
       "      <th>Intake Condition</th>\n",
       "      <th>Animal Type_Intake</th>\n",
       "      <th>Sex upon Intake</th>\n",
       "      <th>Age upon Intake</th>\n",
       "      <th>...</th>\n",
       "      <th>Name_Outcome</th>\n",
       "      <th>DateTime_Outcome</th>\n",
       "      <th>MonthYear_Outcome</th>\n",
       "      <th>Date of Birth</th>\n",
       "      <th>Animal Type_Outcome</th>\n",
       "      <th>Sex upon Outcome</th>\n",
       "      <th>Age upon Outcome</th>\n",
       "      <th>Breed_Outcome</th>\n",
       "      <th>Color_Outcome</th>\n",
       "      <th>binary_outcome</th>\n",
       "    </tr>\n",
       "  </thead>\n",
       "  <tbody>\n",
       "    <tr>\n",
       "      <td>0</td>\n",
       "      <td>A687076</td>\n",
       "      <td>Katy</td>\n",
       "      <td>08/30/2014 05:55:00 PM</td>\n",
       "      <td>08/30/2014 05:55:00 PM</td>\n",
       "      <td>Acorn Oaks And Cooper in Austin (TX)</td>\n",
       "      <td>Stray</td>\n",
       "      <td>Normal</td>\n",
       "      <td>Cat</td>\n",
       "      <td>Intact Female</td>\n",
       "      <td>2 months</td>\n",
       "      <td>...</td>\n",
       "      <td>Katy</td>\n",
       "      <td>09/05/2014 14:33</td>\n",
       "      <td>09/05/2014 14:33</td>\n",
       "      <td>06/15/2014</td>\n",
       "      <td>Cat</td>\n",
       "      <td>Spayed Female</td>\n",
       "      <td>2 months</td>\n",
       "      <td>Domestic Shorthair Mix</td>\n",
       "      <td>Torbie</td>\n",
       "      <td>0</td>\n",
       "    </tr>\n",
       "    <tr>\n",
       "      <td>1</td>\n",
       "      <td>A685139</td>\n",
       "      <td>NaN</td>\n",
       "      <td>08/03/2014 11:23</td>\n",
       "      <td>08/03/2014 11:23</td>\n",
       "      <td>Pleasant Valley/Oltorf in Austin (TX)</td>\n",
       "      <td>Stray</td>\n",
       "      <td>Other</td>\n",
       "      <td>Dog</td>\n",
       "      <td>Intact Female</td>\n",
       "      <td>3 months</td>\n",
       "      <td>...</td>\n",
       "      <td>NaN</td>\n",
       "      <td>08/07/2014 18:09</td>\n",
       "      <td>08/07/2014 18:09</td>\n",
       "      <td>05/03/2014</td>\n",
       "      <td>Dog</td>\n",
       "      <td>Spayed Female</td>\n",
       "      <td>3 months</td>\n",
       "      <td>Cavalier Span Mix</td>\n",
       "      <td>White/Black</td>\n",
       "      <td>0</td>\n",
       "    </tr>\n",
       "    <tr>\n",
       "      <td>2</td>\n",
       "      <td>A741039</td>\n",
       "      <td>Dexter</td>\n",
       "      <td>12/27/2016 11:18:00 AM</td>\n",
       "      <td>12/27/2016 11:18:00 AM</td>\n",
       "      <td>12Th St And Airport Blvd in Austin (TX)</td>\n",
       "      <td>Stray</td>\n",
       "      <td>Normal</td>\n",
       "      <td>Dog</td>\n",
       "      <td>Intact Male</td>\n",
       "      <td>1 year</td>\n",
       "      <td>...</td>\n",
       "      <td>Dexter</td>\n",
       "      <td>01/01/2017 15:27</td>\n",
       "      <td>01/01/2017 15:27</td>\n",
       "      <td>12/27/2015</td>\n",
       "      <td>Dog</td>\n",
       "      <td>Intact Male</td>\n",
       "      <td>1 year</td>\n",
       "      <td>Jack Russell Terrier</td>\n",
       "      <td>Black/White</td>\n",
       "      <td>0</td>\n",
       "    </tr>\n",
       "    <tr>\n",
       "      <td>3</td>\n",
       "      <td>A759166</td>\n",
       "      <td>Archie</td>\n",
       "      <td>09/28/2017 11:03:00 AM</td>\n",
       "      <td>09/28/2017 11:03:00 AM</td>\n",
       "      <td>Brockman And Pompton in Austin (TX)</td>\n",
       "      <td>Stray</td>\n",
       "      <td>Normal</td>\n",
       "      <td>Cat</td>\n",
       "      <td>Intact Male</td>\n",
       "      <td>2 months</td>\n",
       "      <td>...</td>\n",
       "      <td>Archie</td>\n",
       "      <td>11/04/2017 18:11</td>\n",
       "      <td>11/04/2017 18:11</td>\n",
       "      <td>07/28/2017</td>\n",
       "      <td>Cat</td>\n",
       "      <td>Neutered Male</td>\n",
       "      <td>3 months</td>\n",
       "      <td>Domestic Shorthair</td>\n",
       "      <td>Black</td>\n",
       "      <td>0</td>\n",
       "    </tr>\n",
       "    <tr>\n",
       "      <td>4</td>\n",
       "      <td>A696479</td>\n",
       "      <td>Chocolate</td>\n",
       "      <td>02/05/2015 11:51</td>\n",
       "      <td>02/05/2015 11:51</td>\n",
       "      <td>3012 Guerrero Dr in Travis (TX)</td>\n",
       "      <td>Stray</td>\n",
       "      <td>Normal</td>\n",
       "      <td>Cat</td>\n",
       "      <td>Intact Male</td>\n",
       "      <td>1 year</td>\n",
       "      <td>...</td>\n",
       "      <td>Chocolate</td>\n",
       "      <td>02/15/2015 11:39:00 AM</td>\n",
       "      <td>02/15/2015 11:39:00 AM</td>\n",
       "      <td>02/05/2014</td>\n",
       "      <td>Cat</td>\n",
       "      <td>Neutered Male</td>\n",
       "      <td>1 year</td>\n",
       "      <td>Domestic Medium Hair Mix</td>\n",
       "      <td>Black</td>\n",
       "      <td>0</td>\n",
       "    </tr>\n",
       "  </tbody>\n",
       "</table>\n",
       "<p>5 rows × 22 columns</p>\n",
       "</div>"
      ],
      "text/plain": [
       "  Animal ID Name_Intake         DateTime_Intake        MonthYear_Intake  \\\n",
       "0   A687076        Katy  08/30/2014 05:55:00 PM  08/30/2014 05:55:00 PM   \n",
       "1   A685139         NaN        08/03/2014 11:23        08/03/2014 11:23   \n",
       "2   A741039      Dexter  12/27/2016 11:18:00 AM  12/27/2016 11:18:00 AM   \n",
       "3   A759166      Archie  09/28/2017 11:03:00 AM  09/28/2017 11:03:00 AM   \n",
       "4   A696479   Chocolate        02/05/2015 11:51        02/05/2015 11:51   \n",
       "\n",
       "                            Found Location Intake Type Intake Condition  \\\n",
       "0     Acorn Oaks And Cooper in Austin (TX)       Stray           Normal   \n",
       "1    Pleasant Valley/Oltorf in Austin (TX)       Stray            Other   \n",
       "2  12Th St And Airport Blvd in Austin (TX)       Stray           Normal   \n",
       "3      Brockman And Pompton in Austin (TX)       Stray           Normal   \n",
       "4          3012 Guerrero Dr in Travis (TX)       Stray           Normal   \n",
       "\n",
       "  Animal Type_Intake Sex upon Intake Age upon Intake  ... Name_Outcome  \\\n",
       "0                Cat   Intact Female        2 months  ...         Katy   \n",
       "1                Dog   Intact Female        3 months  ...          NaN   \n",
       "2                Dog     Intact Male          1 year  ...       Dexter   \n",
       "3                Cat     Intact Male        2 months  ...       Archie   \n",
       "4                Cat     Intact Male          1 year  ...    Chocolate   \n",
       "\n",
       "         DateTime_Outcome       MonthYear_Outcome Date of Birth  \\\n",
       "0        09/05/2014 14:33        09/05/2014 14:33    06/15/2014   \n",
       "1        08/07/2014 18:09        08/07/2014 18:09    05/03/2014   \n",
       "2        01/01/2017 15:27        01/01/2017 15:27    12/27/2015   \n",
       "3        11/04/2017 18:11        11/04/2017 18:11    07/28/2017   \n",
       "4  02/15/2015 11:39:00 AM  02/15/2015 11:39:00 AM    02/05/2014   \n",
       "\n",
       "  Animal Type_Outcome Sex upon Outcome Age upon Outcome  \\\n",
       "0                 Cat    Spayed Female         2 months   \n",
       "1                 Dog    Spayed Female         3 months   \n",
       "2                 Dog      Intact Male           1 year   \n",
       "3                 Cat    Neutered Male         3 months   \n",
       "4                 Cat    Neutered Male           1 year   \n",
       "\n",
       "              Breed_Outcome Color_Outcome binary_outcome  \n",
       "0    Domestic Shorthair Mix        Torbie              0  \n",
       "1         Cavalier Span Mix   White/Black              0  \n",
       "2      Jack Russell Terrier   Black/White              0  \n",
       "3        Domestic Shorthair         Black              0  \n",
       "4  Domestic Medium Hair Mix         Black              0  \n",
       "\n",
       "[5 rows x 22 columns]"
      ]
     },
     "execution_count": 4,
     "metadata": {},
     "output_type": "execute_result"
    }
   ],
   "source": [
    "# print first 5 rows\n",
    "df.head(5)"
   ]
  },
  {
   "cell_type": "code",
   "execution_count": 5,
   "metadata": {},
   "outputs": [
    {
     "data": {
      "text/html": [
       "<div>\n",
       "<style scoped>\n",
       "    .dataframe tbody tr th:only-of-type {\n",
       "        vertical-align: middle;\n",
       "    }\n",
       "\n",
       "    .dataframe tbody tr th {\n",
       "        vertical-align: top;\n",
       "    }\n",
       "\n",
       "    .dataframe thead th {\n",
       "        text-align: right;\n",
       "    }\n",
       "</style>\n",
       "<table border=\"1\" class=\"dataframe\">\n",
       "  <thead>\n",
       "    <tr style=\"text-align: right;\">\n",
       "      <th></th>\n",
       "      <th>Animal ID</th>\n",
       "      <th>Name_Intake</th>\n",
       "      <th>DateTime_Intake</th>\n",
       "      <th>MonthYear_Intake</th>\n",
       "      <th>Found Location</th>\n",
       "      <th>Intake Type</th>\n",
       "      <th>Intake Condition</th>\n",
       "      <th>Animal Type_Intake</th>\n",
       "      <th>Sex upon Intake</th>\n",
       "      <th>Age upon Intake</th>\n",
       "      <th>...</th>\n",
       "      <th>Name_Outcome</th>\n",
       "      <th>DateTime_Outcome</th>\n",
       "      <th>MonthYear_Outcome</th>\n",
       "      <th>Date of Birth</th>\n",
       "      <th>Animal Type_Outcome</th>\n",
       "      <th>Sex upon Outcome</th>\n",
       "      <th>Age upon Outcome</th>\n",
       "      <th>Breed_Outcome</th>\n",
       "      <th>Color_Outcome</th>\n",
       "      <th>binary_outcome</th>\n",
       "    </tr>\n",
       "  </thead>\n",
       "  <tbody>\n",
       "    <tr>\n",
       "      <td>995</td>\n",
       "      <td>A801041</td>\n",
       "      <td>*Polly</td>\n",
       "      <td>07/30/2019 01:22:00 PM</td>\n",
       "      <td>07/30/2019 01:22:00 PM</td>\n",
       "      <td>508 Howard Lane in Austin (TX)</td>\n",
       "      <td>Stray</td>\n",
       "      <td>Normal</td>\n",
       "      <td>Cat</td>\n",
       "      <td>Intact Female</td>\n",
       "      <td>4 weeks</td>\n",
       "      <td>...</td>\n",
       "      <td>*Polly</td>\n",
       "      <td>08/04/2019 13:03</td>\n",
       "      <td>08/04/2019 13:03</td>\n",
       "      <td>07/01/2019</td>\n",
       "      <td>Cat</td>\n",
       "      <td>Intact Female</td>\n",
       "      <td>4 weeks</td>\n",
       "      <td>Domestic Shorthair</td>\n",
       "      <td>Black</td>\n",
       "      <td>0</td>\n",
       "    </tr>\n",
       "    <tr>\n",
       "      <td>996</td>\n",
       "      <td>A795559</td>\n",
       "      <td>Precious</td>\n",
       "      <td>07/26/2019 11:04:00 AM</td>\n",
       "      <td>07/26/2019 11:04:00 AM</td>\n",
       "      <td>2450 Wickersham Ln in Austin (TX)</td>\n",
       "      <td>Stray</td>\n",
       "      <td>Normal</td>\n",
       "      <td>Dog</td>\n",
       "      <td>Intact Female</td>\n",
       "      <td>1 year</td>\n",
       "      <td>...</td>\n",
       "      <td>Precious</td>\n",
       "      <td>08/07/2019 06:54</td>\n",
       "      <td>08/07/2019 06:54</td>\n",
       "      <td>05/22/2018</td>\n",
       "      <td>Dog</td>\n",
       "      <td>Intact Female</td>\n",
       "      <td>1 year</td>\n",
       "      <td>Pit Bull</td>\n",
       "      <td>Black/White</td>\n",
       "      <td>0</td>\n",
       "    </tr>\n",
       "    <tr>\n",
       "      <td>997</td>\n",
       "      <td>A681271</td>\n",
       "      <td>NaN</td>\n",
       "      <td>06/14/2014 12:17:00 PM</td>\n",
       "      <td>06/14/2014 12:17:00 PM</td>\n",
       "      <td>7101 Appaloosa Ct in Travis (TX)</td>\n",
       "      <td>Stray</td>\n",
       "      <td>Normal</td>\n",
       "      <td>Cat</td>\n",
       "      <td>Intact Female</td>\n",
       "      <td>3 weeks</td>\n",
       "      <td>...</td>\n",
       "      <td>NaN</td>\n",
       "      <td>06/14/2014 04:16:00 PM</td>\n",
       "      <td>06/14/2014 04:16:00 PM</td>\n",
       "      <td>05/23/2014</td>\n",
       "      <td>Cat</td>\n",
       "      <td>Intact Female</td>\n",
       "      <td>3 weeks</td>\n",
       "      <td>Domestic Shorthair Mix</td>\n",
       "      <td>Cream Tabby</td>\n",
       "      <td>0</td>\n",
       "    </tr>\n",
       "    <tr>\n",
       "      <td>998</td>\n",
       "      <td>A718548</td>\n",
       "      <td>Bennett Ned</td>\n",
       "      <td>01/01/2016 23:40</td>\n",
       "      <td>01/01/2016 23:40</td>\n",
       "      <td>1425  Wells Branch in Austin (TX)</td>\n",
       "      <td>Stray</td>\n",
       "      <td>Normal</td>\n",
       "      <td>Dog</td>\n",
       "      <td>Neutered Male</td>\n",
       "      <td>3 years</td>\n",
       "      <td>...</td>\n",
       "      <td>Bennett Ned</td>\n",
       "      <td>03/19/2016 12:44:00 PM</td>\n",
       "      <td>03/19/2016 12:44:00 PM</td>\n",
       "      <td>01/01/2013</td>\n",
       "      <td>Dog</td>\n",
       "      <td>Neutered Male</td>\n",
       "      <td>3 years</td>\n",
       "      <td>Labrador Retriever Mix</td>\n",
       "      <td>Brown/White</td>\n",
       "      <td>0</td>\n",
       "    </tr>\n",
       "    <tr>\n",
       "      <td>999</td>\n",
       "      <td>A715118</td>\n",
       "      <td>*Archie</td>\n",
       "      <td>10/31/2015 03:16:00 PM</td>\n",
       "      <td>10/31/2015 03:16:00 PM</td>\n",
       "      <td>Manchaca And Slaughter in Austin (TX)</td>\n",
       "      <td>Stray</td>\n",
       "      <td>Normal</td>\n",
       "      <td>Cat</td>\n",
       "      <td>Intact Male</td>\n",
       "      <td>4 weeks</td>\n",
       "      <td>...</td>\n",
       "      <td>*Archie</td>\n",
       "      <td>11/02/2015 14:02</td>\n",
       "      <td>11/02/2015 14:02</td>\n",
       "      <td>09/28/2015</td>\n",
       "      <td>Cat</td>\n",
       "      <td>Intact Male</td>\n",
       "      <td>5 weeks</td>\n",
       "      <td>Domestic Shorthair Mix</td>\n",
       "      <td>Orange Tabby</td>\n",
       "      <td>0</td>\n",
       "    </tr>\n",
       "  </tbody>\n",
       "</table>\n",
       "<p>5 rows × 22 columns</p>\n",
       "</div>"
      ],
      "text/plain": [
       "    Animal ID  Name_Intake         DateTime_Intake        MonthYear_Intake  \\\n",
       "995   A801041       *Polly  07/30/2019 01:22:00 PM  07/30/2019 01:22:00 PM   \n",
       "996   A795559     Precious  07/26/2019 11:04:00 AM  07/26/2019 11:04:00 AM   \n",
       "997   A681271          NaN  06/14/2014 12:17:00 PM  06/14/2014 12:17:00 PM   \n",
       "998   A718548  Bennett Ned        01/01/2016 23:40        01/01/2016 23:40   \n",
       "999   A715118      *Archie  10/31/2015 03:16:00 PM  10/31/2015 03:16:00 PM   \n",
       "\n",
       "                            Found Location Intake Type Intake Condition  \\\n",
       "995         508 Howard Lane in Austin (TX)       Stray           Normal   \n",
       "996      2450 Wickersham Ln in Austin (TX)       Stray           Normal   \n",
       "997       7101 Appaloosa Ct in Travis (TX)       Stray           Normal   \n",
       "998      1425  Wells Branch in Austin (TX)       Stray           Normal   \n",
       "999  Manchaca And Slaughter in Austin (TX)       Stray           Normal   \n",
       "\n",
       "    Animal Type_Intake Sex upon Intake Age upon Intake  ... Name_Outcome  \\\n",
       "995                Cat   Intact Female         4 weeks  ...       *Polly   \n",
       "996                Dog   Intact Female          1 year  ...     Precious   \n",
       "997                Cat   Intact Female         3 weeks  ...          NaN   \n",
       "998                Dog   Neutered Male         3 years  ...  Bennett Ned   \n",
       "999                Cat     Intact Male         4 weeks  ...      *Archie   \n",
       "\n",
       "           DateTime_Outcome       MonthYear_Outcome Date of Birth  \\\n",
       "995        08/04/2019 13:03        08/04/2019 13:03    07/01/2019   \n",
       "996        08/07/2019 06:54        08/07/2019 06:54    05/22/2018   \n",
       "997  06/14/2014 04:16:00 PM  06/14/2014 04:16:00 PM    05/23/2014   \n",
       "998  03/19/2016 12:44:00 PM  03/19/2016 12:44:00 PM    01/01/2013   \n",
       "999        11/02/2015 14:02        11/02/2015 14:02    09/28/2015   \n",
       "\n",
       "    Animal Type_Outcome Sex upon Outcome Age upon Outcome  \\\n",
       "995                 Cat    Intact Female          4 weeks   \n",
       "996                 Dog    Intact Female           1 year   \n",
       "997                 Cat    Intact Female          3 weeks   \n",
       "998                 Dog    Neutered Male          3 years   \n",
       "999                 Cat      Intact Male          5 weeks   \n",
       "\n",
       "              Breed_Outcome Color_Outcome binary_outcome  \n",
       "995      Domestic Shorthair         Black              0  \n",
       "996                Pit Bull   Black/White              0  \n",
       "997  Domestic Shorthair Mix   Cream Tabby              0  \n",
       "998  Labrador Retriever Mix   Brown/White              0  \n",
       "999  Domestic Shorthair Mix  Orange Tabby              0  \n",
       "\n",
       "[5 rows x 22 columns]"
      ]
     },
     "execution_count": 5,
     "metadata": {},
     "output_type": "execute_result"
    }
   ],
   "source": [
    "#print last 5 rows\n",
    "df.tail(5)"
   ]
  },
  {
   "cell_type": "markdown",
   "metadata": {},
   "source": [
    "### Convert the features to their appropriate data type. "
   ]
  },
  {
   "cell_type": "markdown",
   "metadata": {},
   "source": [
    "The features will now be converted to their appropriate datatype. "
   ]
  },
  {
   "cell_type": "code",
   "execution_count": 6,
   "metadata": {},
   "outputs": [
    {
     "data": {
      "text/plain": [
       "Animal ID              object\n",
       "Name_Intake            object\n",
       "DateTime_Intake        object\n",
       "MonthYear_Intake       object\n",
       "Found Location         object\n",
       "Intake Type            object\n",
       "Intake Condition       object\n",
       "Animal Type_Intake     object\n",
       "Sex upon Intake        object\n",
       "Age upon Intake        object\n",
       "Breed_Intake           object\n",
       "Color_Intake           object\n",
       "Name_Outcome           object\n",
       "DateTime_Outcome       object\n",
       "MonthYear_Outcome      object\n",
       "Date of Birth          object\n",
       "Animal Type_Outcome    object\n",
       "Sex upon Outcome       object\n",
       "Age upon Outcome       object\n",
       "Breed_Outcome          object\n",
       "Color_Outcome          object\n",
       "binary_outcome          int64\n",
       "dtype: object"
      ]
     },
     "execution_count": 6,
     "metadata": {},
     "output_type": "execute_result"
    }
   ],
   "source": [
    "#show the datatype of each feature\n",
    "df.dtypes"
   ]
  },
  {
   "cell_type": "markdown",
   "metadata": {},
   "source": [
    "Before converting any datatypes we shall first remove any whitespaces after or in the feature names. "
   ]
  },
  {
   "cell_type": "code",
   "execution_count": 7,
   "metadata": {},
   "outputs": [
    {
     "data": {
      "text/plain": [
       "Index(['AnimalID', 'Name_Intake', 'DateTime_Intake', 'MonthYear_Intake',\n",
       "       'FoundLocation', 'IntakeType', 'IntakeCondition', 'AnimalType_Intake',\n",
       "       'SexuponIntake', 'AgeuponIntake', 'Breed_Intake', 'Color_Intake',\n",
       "       'Name_Outcome', 'DateTime_Outcome', 'MonthYear_Outcome', 'DateofBirth',\n",
       "       'AnimalType_Outcome', 'SexuponOutcome', 'AgeuponOutcome',\n",
       "       'Breed_Outcome', 'Color_Outcome', 'binary_outcome'],\n",
       "      dtype='object')"
      ]
     },
     "execution_count": 7,
     "metadata": {},
     "output_type": "execute_result"
    }
   ],
   "source": [
    "#remove whitespace in or around feature names\n",
    "df.columns = df.columns.str.replace(' ', '')\n",
    "\n",
    "#check to ensure whitespaces have been removed\n",
    "df.columns"
   ]
  },
  {
   "cell_type": "markdown",
   "metadata": {},
   "source": [
    "Based on an initial examination of the dataset in Excel, we can see that there are no continuous features. Five of the features are datetime objects. \n",
    " -  *'binary_outcome'* shall be converted to categorical as it only has two possible values, 0 or 1 and it does not make sense to compute summary statistics on it. \n",
    " - *'DateTime_Intake', 'MonthYear_Intake', 'DateTime_Outcome', 'MonthYear_Outcome', 'DateofBirth'* shall be converted to datetime type.\n",
    " - *'AnimalID'* appears to be unique for all animals. If this is the case it shall be converted to an object type. \n",
    " - All other features shall be converted to category type. "
   ]
  },
  {
   "cell_type": "code",
   "execution_count": 8,
   "metadata": {},
   "outputs": [
    {
     "data": {
      "text/plain": [
       "array([0, 1])"
      ]
     },
     "execution_count": 8,
     "metadata": {},
     "output_type": "execute_result"
    }
   ],
   "source": [
    "#confirm that there are only two unqiue values for 'binary_outcome'\n",
    "df['binary_outcome'].unique()"
   ]
  },
  {
   "cell_type": "code",
   "execution_count": 9,
   "metadata": {},
   "outputs": [],
   "source": [
    "#convert binary outcome to category\n",
    "df['binary_outcome'] = df['binary_outcome'].astype('category')"
   ]
  },
  {
   "cell_type": "code",
   "execution_count": 10,
   "metadata": {},
   "outputs": [],
   "source": [
    "#convert all date features to datetime types\n",
    "date_columns = ['DateTime_Intake','MonthYear_Intake', 'DateTime_Outcome' ,'MonthYear_Outcome'\n",
    "               , 'DateofBirth']\n",
    "for column in date_columns: \n",
    "    df[column] = df[column].astype('datetime64')"
   ]
  },
  {
   "cell_type": "code",
   "execution_count": 11,
   "metadata": {},
   "outputs": [
    {
     "data": {
      "text/plain": [
       "AnimalID                    category\n",
       "Name_Intake                 category\n",
       "DateTime_Intake       datetime64[ns]\n",
       "MonthYear_Intake      datetime64[ns]\n",
       "FoundLocation               category\n",
       "IntakeType                  category\n",
       "IntakeCondition             category\n",
       "AnimalType_Intake           category\n",
       "SexuponIntake               category\n",
       "AgeuponIntake               category\n",
       "Breed_Intake                category\n",
       "Color_Intake                category\n",
       "Name_Outcome                category\n",
       "DateTime_Outcome      datetime64[ns]\n",
       "MonthYear_Outcome     datetime64[ns]\n",
       "DateofBirth           datetime64[ns]\n",
       "AnimalType_Outcome          category\n",
       "SexuponOutcome              category\n",
       "AgeuponOutcome              category\n",
       "Breed_Outcome               category\n",
       "Color_Outcome               category\n",
       "binary_outcome              category\n",
       "dtype: object"
      ]
     },
     "execution_count": 11,
     "metadata": {},
     "output_type": "execute_result"
    }
   ],
   "source": [
    "#convert all remaining features which are currently object\n",
    "# to category type\n",
    "object_columns = df.select_dtypes(['object']).columns\n",
    "\n",
    "#Convert selected columns to type 'category'\n",
    "for column in object_columns:\n",
    "    df[column] = df[column].astype('category')\n",
    "df.dtypes "
   ]
  },
  {
   "cell_type": "code",
   "execution_count": 12,
   "metadata": {},
   "outputs": [
    {
     "data": {
      "text/plain": [
       "1000"
      ]
     },
     "execution_count": 12,
     "metadata": {},
     "output_type": "execute_result"
    }
   ],
   "source": [
    "#confirm whether the animalID has 1000 unique features\n",
    "len(df['AnimalID'].unique())"
   ]
  },
  {
   "cell_type": "markdown",
   "metadata": {},
   "source": [
    "We can see that the feature *'AnimalID'* does indeed have 1000 unique values. As a result, it will not be helpful to perform any descriptive statistics or analysis with this feature. It shall be converted to an object tpye."
   ]
  },
  {
   "cell_type": "code",
   "execution_count": 13,
   "metadata": {},
   "outputs": [],
   "source": [
    "#change 'Animal ID' to an object type so that it is not used in descriptive statistics.\n",
    "df['AnimalID'] = df['AnimalID'].astype('object')"
   ]
  },
  {
   "cell_type": "markdown",
   "metadata": {},
   "source": [
    "In the cell below we look at the datatypes to ensure that they have been converted correctly. \n"
   ]
  },
  {
   "cell_type": "code",
   "execution_count": 14,
   "metadata": {},
   "outputs": [
    {
     "data": {
      "text/plain": [
       "AnimalID                      object\n",
       "Name_Intake                 category\n",
       "DateTime_Intake       datetime64[ns]\n",
       "MonthYear_Intake      datetime64[ns]\n",
       "FoundLocation               category\n",
       "IntakeType                  category\n",
       "IntakeCondition             category\n",
       "AnimalType_Intake           category\n",
       "SexuponIntake               category\n",
       "AgeuponIntake               category\n",
       "Breed_Intake                category\n",
       "Color_Intake                category\n",
       "Name_Outcome                category\n",
       "DateTime_Outcome      datetime64[ns]\n",
       "MonthYear_Outcome     datetime64[ns]\n",
       "DateofBirth           datetime64[ns]\n",
       "AnimalType_Outcome          category\n",
       "SexuponOutcome              category\n",
       "AgeuponOutcome              category\n",
       "Breed_Outcome               category\n",
       "Color_Outcome               category\n",
       "binary_outcome              category\n",
       "dtype: object"
      ]
     },
     "execution_count": 14,
     "metadata": {},
     "output_type": "execute_result"
    }
   ],
   "source": [
    "df.dtypes"
   ]
  },
  {
   "cell_type": "markdown",
   "metadata": {},
   "source": [
    "### Drop duplicate rows and columns.\n",
    "\n",
    "We will now check for duplicate rows and columns.\n",
    "\n",
    "**Rows**"
   ]
  },
  {
   "cell_type": "code",
   "execution_count": 15,
   "metadata": {},
   "outputs": [
    {
     "name": "stdout",
     "output_type": "stream",
     "text": [
      "Number of duplicate (excluding first) rows in the table is:  0\n",
      "Number of duplicate rows (including first) in the table is: 0\n"
     ]
    }
   ],
   "source": [
    "#check for duplicate rows\n",
    "\n",
    "#Print the number of duplicates, without the original rows that were duplicated\n",
    "print('Number of duplicate (excluding first) rows in the table is: ', df.duplicated().sum())\n",
    "\n",
    "# Use \"keep=False\" to mark all duplicates as true, including the original rows that were duplicated.\n",
    "print('Number of duplicate rows (including first) in the table is:', df[df.duplicated(keep=False)].shape[0])"
   ]
  },
  {
   "cell_type": "markdown",
   "metadata": {},
   "source": [
    "**Columns**"
   ]
  },
  {
   "cell_type": "code",
   "execution_count": 16,
   "metadata": {},
   "outputs": [
    {
     "name": "stdout",
     "output_type": "stream",
     "text": [
      "Number of duplicate (excluding first) columns in the table is:  6\n",
      "Number of duplicate (including first) columns in the table is:  12\n",
      "Duplpicated columns will be True:  AnimalID              False\n",
      "Name_Intake           False\n",
      "DateTime_Intake       False\n",
      "MonthYear_Intake       True\n",
      "FoundLocation         False\n",
      "IntakeType            False\n",
      "IntakeCondition       False\n",
      "AnimalType_Intake     False\n",
      "SexuponIntake         False\n",
      "AgeuponIntake         False\n",
      "Breed_Intake          False\n",
      "Color_Intake          False\n",
      "Name_Outcome           True\n",
      "DateTime_Outcome      False\n",
      "MonthYear_Outcome      True\n",
      "DateofBirth           False\n",
      "AnimalType_Outcome     True\n",
      "SexuponOutcome        False\n",
      "AgeuponOutcome        False\n",
      "Breed_Outcome          True\n",
      "Color_Outcome          True\n",
      "binary_outcome        False\n",
      "dtype: bool\n"
     ]
    }
   ],
   "source": [
    "#check if there are any duplicate columns\n",
    "# First transpose the df so columns become rows\n",
    "dfT = df.T\n",
    "print(\"Number of duplicate (excluding first) columns in the table is: \", dfT.duplicated().sum())\n",
    "print(\"Number of duplicate (including first) columns in the table is: \",  dfT[dfT.duplicated(keep=False)].shape[0])\n",
    "\n",
    "#.duplicate returns a Boolean Value so True will be returned if the column is a duplicate\n",
    "print(\"Duplpicated columns will be True: \", dfT.duplicated())"
   ]
  },
  {
   "cell_type": "markdown",
   "metadata": {},
   "source": [
    "#### Duplicate check findings\n",
    "- We can see that there are no duplicate rows in the dataset. Each row refers to a unique animal.\n",
    " - We can see that there are six duplicate columns in the dataset. This makes sense given that eight of the features (excluding *'binary_outcome'*) refer to the outcome of the animal. It makes sense that many of these features would be exact duplicates of in the intake informmation. For example, *'Breed_Outcome'* is going to be the exact same as *'Breed_Intake'*.\n",
    " - Furthermore, it is likely the information regarding outcome will not be helpful for a machine learning algorithm, as the shelter will only have *'Intake'* information for future animals.\n",
    " - These columns can be safely dropped. "
   ]
  },
  {
   "cell_type": "code",
   "execution_count": 17,
   "metadata": {},
   "outputs": [
    {
     "data": {
      "text/html": [
       "<div>\n",
       "<style scoped>\n",
       "    .dataframe tbody tr th:only-of-type {\n",
       "        vertical-align: middle;\n",
       "    }\n",
       "\n",
       "    .dataframe tbody tr th {\n",
       "        vertical-align: top;\n",
       "    }\n",
       "\n",
       "    .dataframe thead th {\n",
       "        text-align: right;\n",
       "    }\n",
       "</style>\n",
       "<table border=\"1\" class=\"dataframe\">\n",
       "  <thead>\n",
       "    <tr style=\"text-align: right;\">\n",
       "      <th></th>\n",
       "      <th>0</th>\n",
       "      <th>1</th>\n",
       "      <th>2</th>\n",
       "      <th>3</th>\n",
       "      <th>4</th>\n",
       "      <th>5</th>\n",
       "      <th>6</th>\n",
       "      <th>7</th>\n",
       "      <th>8</th>\n",
       "      <th>9</th>\n",
       "      <th>...</th>\n",
       "      <th>990</th>\n",
       "      <th>991</th>\n",
       "      <th>992</th>\n",
       "      <th>993</th>\n",
       "      <th>994</th>\n",
       "      <th>995</th>\n",
       "      <th>996</th>\n",
       "      <th>997</th>\n",
       "      <th>998</th>\n",
       "      <th>999</th>\n",
       "    </tr>\n",
       "  </thead>\n",
       "  <tbody>\n",
       "    <tr>\n",
       "      <td>Name_Intake</td>\n",
       "      <td>Katy</td>\n",
       "      <td>NaN</td>\n",
       "      <td>Dexter</td>\n",
       "      <td>Archie</td>\n",
       "      <td>Chocolate</td>\n",
       "      <td>*Bettie</td>\n",
       "      <td>Kali</td>\n",
       "      <td>Mitch</td>\n",
       "      <td>*Ajax</td>\n",
       "      <td>Zoe</td>\n",
       "      <td>...</td>\n",
       "      <td>NaN</td>\n",
       "      <td>Parker</td>\n",
       "      <td>NaN</td>\n",
       "      <td>*Elodie</td>\n",
       "      <td>NaN</td>\n",
       "      <td>*Polly</td>\n",
       "      <td>Precious</td>\n",
       "      <td>NaN</td>\n",
       "      <td>Bennett Ned</td>\n",
       "      <td>*Archie</td>\n",
       "    </tr>\n",
       "    <tr>\n",
       "      <td>DateTime_Intake</td>\n",
       "      <td>2014-08-30 17:55:00</td>\n",
       "      <td>2014-08-03 11:23:00</td>\n",
       "      <td>2016-12-27 11:18:00</td>\n",
       "      <td>2017-09-28 11:03:00</td>\n",
       "      <td>2015-02-05 11:51:00</td>\n",
       "      <td>2015-09-23 12:41:00</td>\n",
       "      <td>2019-11-15 13:25:00</td>\n",
       "      <td>2014-07-19 16:45:00</td>\n",
       "      <td>2017-05-11 11:26:00</td>\n",
       "      <td>2016-05-19 18:17:00</td>\n",
       "      <td>...</td>\n",
       "      <td>2019-10-21 10:58:00</td>\n",
       "      <td>2014-12-23 13:46:00</td>\n",
       "      <td>2017-06-08 12:30:00</td>\n",
       "      <td>2017-03-29 13:26:00</td>\n",
       "      <td>2019-04-23 16:31:00</td>\n",
       "      <td>2019-07-30 13:22:00</td>\n",
       "      <td>2019-07-26 11:04:00</td>\n",
       "      <td>2014-06-14 12:17:00</td>\n",
       "      <td>2016-01-01 23:40:00</td>\n",
       "      <td>2015-10-31 15:16:00</td>\n",
       "    </tr>\n",
       "    <tr>\n",
       "      <td>MonthYear_Intake</td>\n",
       "      <td>2014-08-30 17:55:00</td>\n",
       "      <td>2014-08-03 11:23:00</td>\n",
       "      <td>2016-12-27 11:18:00</td>\n",
       "      <td>2017-09-28 11:03:00</td>\n",
       "      <td>2015-02-05 11:51:00</td>\n",
       "      <td>2015-09-23 12:41:00</td>\n",
       "      <td>2019-11-15 13:25:00</td>\n",
       "      <td>2014-07-19 16:45:00</td>\n",
       "      <td>2017-05-11 11:26:00</td>\n",
       "      <td>2016-05-19 18:17:00</td>\n",
       "      <td>...</td>\n",
       "      <td>2019-10-21 10:58:00</td>\n",
       "      <td>2014-12-23 13:46:00</td>\n",
       "      <td>2017-06-08 12:30:00</td>\n",
       "      <td>2017-03-29 13:26:00</td>\n",
       "      <td>2019-04-23 16:31:00</td>\n",
       "      <td>2019-07-30 13:22:00</td>\n",
       "      <td>2019-07-26 11:04:00</td>\n",
       "      <td>2014-06-14 12:17:00</td>\n",
       "      <td>2016-01-01 23:40:00</td>\n",
       "      <td>2015-10-31 15:16:00</td>\n",
       "    </tr>\n",
       "    <tr>\n",
       "      <td>AnimalType_Intake</td>\n",
       "      <td>Cat</td>\n",
       "      <td>Dog</td>\n",
       "      <td>Dog</td>\n",
       "      <td>Cat</td>\n",
       "      <td>Cat</td>\n",
       "      <td>Dog</td>\n",
       "      <td>Dog</td>\n",
       "      <td>Dog</td>\n",
       "      <td>Dog</td>\n",
       "      <td>Dog</td>\n",
       "      <td>...</td>\n",
       "      <td>Dog</td>\n",
       "      <td>Dog</td>\n",
       "      <td>Cat</td>\n",
       "      <td>Cat</td>\n",
       "      <td>Bird</td>\n",
       "      <td>Cat</td>\n",
       "      <td>Dog</td>\n",
       "      <td>Cat</td>\n",
       "      <td>Dog</td>\n",
       "      <td>Cat</td>\n",
       "    </tr>\n",
       "    <tr>\n",
       "      <td>Breed_Intake</td>\n",
       "      <td>Domestic Shorthair Mix</td>\n",
       "      <td>Cavalier Span Mix</td>\n",
       "      <td>Jack Russell Terrier</td>\n",
       "      <td>Domestic Shorthair</td>\n",
       "      <td>Domestic Medium Hair Mix</td>\n",
       "      <td>Chihuahua Shorthair Mix</td>\n",
       "      <td>Rottweiler/Labrador Retriever</td>\n",
       "      <td>Standard Schnauzer Mix</td>\n",
       "      <td>Boxer Mix</td>\n",
       "      <td>Australian Shepherd Mix</td>\n",
       "      <td>...</td>\n",
       "      <td>Chihuahua Shorthair</td>\n",
       "      <td>Chihuahua Shorthair/Dachshund</td>\n",
       "      <td>Domestic Shorthair Mix</td>\n",
       "      <td>Domestic Medium Hair Mix</td>\n",
       "      <td>Waxwing Mix</td>\n",
       "      <td>Domestic Shorthair</td>\n",
       "      <td>Pit Bull</td>\n",
       "      <td>Domestic Shorthair Mix</td>\n",
       "      <td>Labrador Retriever Mix</td>\n",
       "      <td>Domestic Shorthair Mix</td>\n",
       "    </tr>\n",
       "    <tr>\n",
       "      <td>Color_Intake</td>\n",
       "      <td>Torbie</td>\n",
       "      <td>White/Black</td>\n",
       "      <td>Black/White</td>\n",
       "      <td>Black</td>\n",
       "      <td>Black</td>\n",
       "      <td>Tan/White</td>\n",
       "      <td>Black/Tan</td>\n",
       "      <td>Gray</td>\n",
       "      <td>Brown Brindle/White</td>\n",
       "      <td>Tricolor</td>\n",
       "      <td>...</td>\n",
       "      <td>Brown/Black</td>\n",
       "      <td>Black/White</td>\n",
       "      <td>Blue Tabby</td>\n",
       "      <td>Black/White</td>\n",
       "      <td>Gray/Yellow</td>\n",
       "      <td>Black</td>\n",
       "      <td>Black/White</td>\n",
       "      <td>Cream Tabby</td>\n",
       "      <td>Brown/White</td>\n",
       "      <td>Orange Tabby</td>\n",
       "    </tr>\n",
       "    <tr>\n",
       "      <td>Name_Outcome</td>\n",
       "      <td>Katy</td>\n",
       "      <td>NaN</td>\n",
       "      <td>Dexter</td>\n",
       "      <td>Archie</td>\n",
       "      <td>Chocolate</td>\n",
       "      <td>*Bettie</td>\n",
       "      <td>Kali</td>\n",
       "      <td>Mitch</td>\n",
       "      <td>*Ajax</td>\n",
       "      <td>Zoe</td>\n",
       "      <td>...</td>\n",
       "      <td>NaN</td>\n",
       "      <td>Parker</td>\n",
       "      <td>NaN</td>\n",
       "      <td>*Elodie</td>\n",
       "      <td>NaN</td>\n",
       "      <td>*Polly</td>\n",
       "      <td>Precious</td>\n",
       "      <td>NaN</td>\n",
       "      <td>Bennett Ned</td>\n",
       "      <td>*Archie</td>\n",
       "    </tr>\n",
       "    <tr>\n",
       "      <td>DateTime_Outcome</td>\n",
       "      <td>2014-09-05 14:33:00</td>\n",
       "      <td>2014-08-07 18:09:00</td>\n",
       "      <td>2017-01-01 15:27:00</td>\n",
       "      <td>2017-11-04 18:11:00</td>\n",
       "      <td>2015-02-15 11:39:00</td>\n",
       "      <td>2015-09-27 19:30:00</td>\n",
       "      <td>2019-11-27 11:52:00</td>\n",
       "      <td>2014-07-20 13:38:00</td>\n",
       "      <td>2017-05-19 16:00:00</td>\n",
       "      <td>2016-05-25 16:11:00</td>\n",
       "      <td>...</td>\n",
       "      <td>2019-12-13 16:30:00</td>\n",
       "      <td>2014-12-29 18:27:00</td>\n",
       "      <td>2017-06-12 00:00:00</td>\n",
       "      <td>2017-03-30 15:24:00</td>\n",
       "      <td>2019-04-23 17:58:00</td>\n",
       "      <td>2019-08-04 13:03:00</td>\n",
       "      <td>2019-08-07 06:54:00</td>\n",
       "      <td>2014-06-14 16:16:00</td>\n",
       "      <td>2016-03-19 12:44:00</td>\n",
       "      <td>2015-11-02 14:02:00</td>\n",
       "    </tr>\n",
       "    <tr>\n",
       "      <td>MonthYear_Outcome</td>\n",
       "      <td>2014-09-05 14:33:00</td>\n",
       "      <td>2014-08-07 18:09:00</td>\n",
       "      <td>2017-01-01 15:27:00</td>\n",
       "      <td>2017-11-04 18:11:00</td>\n",
       "      <td>2015-02-15 11:39:00</td>\n",
       "      <td>2015-09-27 19:30:00</td>\n",
       "      <td>2019-11-27 11:52:00</td>\n",
       "      <td>2014-07-20 13:38:00</td>\n",
       "      <td>2017-05-19 16:00:00</td>\n",
       "      <td>2016-05-25 16:11:00</td>\n",
       "      <td>...</td>\n",
       "      <td>2019-12-13 16:30:00</td>\n",
       "      <td>2014-12-29 18:27:00</td>\n",
       "      <td>2017-06-12 00:00:00</td>\n",
       "      <td>2017-03-30 15:24:00</td>\n",
       "      <td>2019-04-23 17:58:00</td>\n",
       "      <td>2019-08-04 13:03:00</td>\n",
       "      <td>2019-08-07 06:54:00</td>\n",
       "      <td>2014-06-14 16:16:00</td>\n",
       "      <td>2016-03-19 12:44:00</td>\n",
       "      <td>2015-11-02 14:02:00</td>\n",
       "    </tr>\n",
       "    <tr>\n",
       "      <td>AnimalType_Outcome</td>\n",
       "      <td>Cat</td>\n",
       "      <td>Dog</td>\n",
       "      <td>Dog</td>\n",
       "      <td>Cat</td>\n",
       "      <td>Cat</td>\n",
       "      <td>Dog</td>\n",
       "      <td>Dog</td>\n",
       "      <td>Dog</td>\n",
       "      <td>Dog</td>\n",
       "      <td>Dog</td>\n",
       "      <td>...</td>\n",
       "      <td>Dog</td>\n",
       "      <td>Dog</td>\n",
       "      <td>Cat</td>\n",
       "      <td>Cat</td>\n",
       "      <td>Bird</td>\n",
       "      <td>Cat</td>\n",
       "      <td>Dog</td>\n",
       "      <td>Cat</td>\n",
       "      <td>Dog</td>\n",
       "      <td>Cat</td>\n",
       "    </tr>\n",
       "    <tr>\n",
       "      <td>Breed_Outcome</td>\n",
       "      <td>Domestic Shorthair Mix</td>\n",
       "      <td>Cavalier Span Mix</td>\n",
       "      <td>Jack Russell Terrier</td>\n",
       "      <td>Domestic Shorthair</td>\n",
       "      <td>Domestic Medium Hair Mix</td>\n",
       "      <td>Chihuahua Shorthair Mix</td>\n",
       "      <td>Rottweiler/Labrador Retriever</td>\n",
       "      <td>Standard Schnauzer Mix</td>\n",
       "      <td>Boxer Mix</td>\n",
       "      <td>Australian Shepherd Mix</td>\n",
       "      <td>...</td>\n",
       "      <td>Chihuahua Shorthair</td>\n",
       "      <td>Chihuahua Shorthair/Dachshund</td>\n",
       "      <td>Domestic Shorthair Mix</td>\n",
       "      <td>Domestic Medium Hair Mix</td>\n",
       "      <td>Waxwing Mix</td>\n",
       "      <td>Domestic Shorthair</td>\n",
       "      <td>Pit Bull</td>\n",
       "      <td>Domestic Shorthair Mix</td>\n",
       "      <td>Labrador Retriever Mix</td>\n",
       "      <td>Domestic Shorthair Mix</td>\n",
       "    </tr>\n",
       "    <tr>\n",
       "      <td>Color_Outcome</td>\n",
       "      <td>Torbie</td>\n",
       "      <td>White/Black</td>\n",
       "      <td>Black/White</td>\n",
       "      <td>Black</td>\n",
       "      <td>Black</td>\n",
       "      <td>Tan/White</td>\n",
       "      <td>Black/Tan</td>\n",
       "      <td>Gray</td>\n",
       "      <td>Brown Brindle/White</td>\n",
       "      <td>Tricolor</td>\n",
       "      <td>...</td>\n",
       "      <td>Brown/Black</td>\n",
       "      <td>Black/White</td>\n",
       "      <td>Blue Tabby</td>\n",
       "      <td>Black/White</td>\n",
       "      <td>Gray/Yellow</td>\n",
       "      <td>Black</td>\n",
       "      <td>Black/White</td>\n",
       "      <td>Cream Tabby</td>\n",
       "      <td>Brown/White</td>\n",
       "      <td>Orange Tabby</td>\n",
       "    </tr>\n",
       "  </tbody>\n",
       "</table>\n",
       "<p>12 rows × 1000 columns</p>\n",
       "</div>"
      ],
      "text/plain": [
       "                                       0                    1    \\\n",
       "Name_Intake                           Katy                  NaN   \n",
       "DateTime_Intake        2014-08-30 17:55:00  2014-08-03 11:23:00   \n",
       "MonthYear_Intake       2014-08-30 17:55:00  2014-08-03 11:23:00   \n",
       "AnimalType_Intake                      Cat                  Dog   \n",
       "Breed_Intake        Domestic Shorthair Mix    Cavalier Span Mix   \n",
       "Color_Intake                        Torbie          White/Black   \n",
       "Name_Outcome                          Katy                  NaN   \n",
       "DateTime_Outcome       2014-09-05 14:33:00  2014-08-07 18:09:00   \n",
       "MonthYear_Outcome      2014-09-05 14:33:00  2014-08-07 18:09:00   \n",
       "AnimalType_Outcome                     Cat                  Dog   \n",
       "Breed_Outcome       Domestic Shorthair Mix    Cavalier Span Mix   \n",
       "Color_Outcome                       Torbie          White/Black   \n",
       "\n",
       "                                     2                    3    \\\n",
       "Name_Intake                       Dexter               Archie   \n",
       "DateTime_Intake      2016-12-27 11:18:00  2017-09-28 11:03:00   \n",
       "MonthYear_Intake     2016-12-27 11:18:00  2017-09-28 11:03:00   \n",
       "AnimalType_Intake                    Dog                  Cat   \n",
       "Breed_Intake        Jack Russell Terrier   Domestic Shorthair   \n",
       "Color_Intake                 Black/White                Black   \n",
       "Name_Outcome                      Dexter               Archie   \n",
       "DateTime_Outcome     2017-01-01 15:27:00  2017-11-04 18:11:00   \n",
       "MonthYear_Outcome    2017-01-01 15:27:00  2017-11-04 18:11:00   \n",
       "AnimalType_Outcome                   Dog                  Cat   \n",
       "Breed_Outcome       Jack Russell Terrier   Domestic Shorthair   \n",
       "Color_Outcome                Black/White                Black   \n",
       "\n",
       "                                         4                        5    \\\n",
       "Name_Intake                        Chocolate                  *Bettie   \n",
       "DateTime_Intake          2015-02-05 11:51:00      2015-09-23 12:41:00   \n",
       "MonthYear_Intake         2015-02-05 11:51:00      2015-09-23 12:41:00   \n",
       "AnimalType_Intake                        Cat                      Dog   \n",
       "Breed_Intake        Domestic Medium Hair Mix  Chihuahua Shorthair Mix   \n",
       "Color_Intake                           Black                Tan/White   \n",
       "Name_Outcome                       Chocolate                  *Bettie   \n",
       "DateTime_Outcome         2015-02-15 11:39:00      2015-09-27 19:30:00   \n",
       "MonthYear_Outcome        2015-02-15 11:39:00      2015-09-27 19:30:00   \n",
       "AnimalType_Outcome                       Cat                      Dog   \n",
       "Breed_Outcome       Domestic Medium Hair Mix  Chihuahua Shorthair Mix   \n",
       "Color_Outcome                          Black                Tan/White   \n",
       "\n",
       "                                              6                       7    \\\n",
       "Name_Intake                                  Kali                   Mitch   \n",
       "DateTime_Intake               2019-11-15 13:25:00     2014-07-19 16:45:00   \n",
       "MonthYear_Intake              2019-11-15 13:25:00     2014-07-19 16:45:00   \n",
       "AnimalType_Intake                             Dog                     Dog   \n",
       "Breed_Intake        Rottweiler/Labrador Retriever  Standard Schnauzer Mix   \n",
       "Color_Intake                            Black/Tan                    Gray   \n",
       "Name_Outcome                                 Kali                   Mitch   \n",
       "DateTime_Outcome              2019-11-27 11:52:00     2014-07-20 13:38:00   \n",
       "MonthYear_Outcome             2019-11-27 11:52:00     2014-07-20 13:38:00   \n",
       "AnimalType_Outcome                            Dog                     Dog   \n",
       "Breed_Outcome       Rottweiler/Labrador Retriever  Standard Schnauzer Mix   \n",
       "Color_Outcome                           Black/Tan                    Gray   \n",
       "\n",
       "                                    8                        9    ...  \\\n",
       "Name_Intake                       *Ajax                      Zoe  ...   \n",
       "DateTime_Intake     2017-05-11 11:26:00      2016-05-19 18:17:00  ...   \n",
       "MonthYear_Intake    2017-05-11 11:26:00      2016-05-19 18:17:00  ...   \n",
       "AnimalType_Intake                   Dog                      Dog  ...   \n",
       "Breed_Intake                  Boxer Mix  Australian Shepherd Mix  ...   \n",
       "Color_Intake        Brown Brindle/White                 Tricolor  ...   \n",
       "Name_Outcome                      *Ajax                      Zoe  ...   \n",
       "DateTime_Outcome    2017-05-19 16:00:00      2016-05-25 16:11:00  ...   \n",
       "MonthYear_Outcome   2017-05-19 16:00:00      2016-05-25 16:11:00  ...   \n",
       "AnimalType_Outcome                  Dog                      Dog  ...   \n",
       "Breed_Outcome                 Boxer Mix  Australian Shepherd Mix  ...   \n",
       "Color_Outcome       Brown Brindle/White                 Tricolor  ...   \n",
       "\n",
       "                                    990                            991  \\\n",
       "Name_Intake                         NaN                         Parker   \n",
       "DateTime_Intake     2019-10-21 10:58:00            2014-12-23 13:46:00   \n",
       "MonthYear_Intake    2019-10-21 10:58:00            2014-12-23 13:46:00   \n",
       "AnimalType_Intake                   Dog                            Dog   \n",
       "Breed_Intake        Chihuahua Shorthair  Chihuahua Shorthair/Dachshund   \n",
       "Color_Intake                Brown/Black                    Black/White   \n",
       "Name_Outcome                        NaN                         Parker   \n",
       "DateTime_Outcome    2019-12-13 16:30:00            2014-12-29 18:27:00   \n",
       "MonthYear_Outcome   2019-12-13 16:30:00            2014-12-29 18:27:00   \n",
       "AnimalType_Outcome                  Dog                            Dog   \n",
       "Breed_Outcome       Chihuahua Shorthair  Chihuahua Shorthair/Dachshund   \n",
       "Color_Outcome               Brown/Black                    Black/White   \n",
       "\n",
       "                                       992                       993  \\\n",
       "Name_Intake                            NaN                   *Elodie   \n",
       "DateTime_Intake        2017-06-08 12:30:00       2017-03-29 13:26:00   \n",
       "MonthYear_Intake       2017-06-08 12:30:00       2017-03-29 13:26:00   \n",
       "AnimalType_Intake                      Cat                       Cat   \n",
       "Breed_Intake        Domestic Shorthair Mix  Domestic Medium Hair Mix   \n",
       "Color_Intake                    Blue Tabby               Black/White   \n",
       "Name_Outcome                           NaN                   *Elodie   \n",
       "DateTime_Outcome       2017-06-12 00:00:00       2017-03-30 15:24:00   \n",
       "MonthYear_Outcome      2017-06-12 00:00:00       2017-03-30 15:24:00   \n",
       "AnimalType_Outcome                     Cat                       Cat   \n",
       "Breed_Outcome       Domestic Shorthair Mix  Domestic Medium Hair Mix   \n",
       "Color_Outcome                   Blue Tabby               Black/White   \n",
       "\n",
       "                                    994                  995  \\\n",
       "Name_Intake                         NaN               *Polly   \n",
       "DateTime_Intake     2019-04-23 16:31:00  2019-07-30 13:22:00   \n",
       "MonthYear_Intake    2019-04-23 16:31:00  2019-07-30 13:22:00   \n",
       "AnimalType_Intake                  Bird                  Cat   \n",
       "Breed_Intake                Waxwing Mix   Domestic Shorthair   \n",
       "Color_Intake                Gray/Yellow                Black   \n",
       "Name_Outcome                        NaN               *Polly   \n",
       "DateTime_Outcome    2019-04-23 17:58:00  2019-08-04 13:03:00   \n",
       "MonthYear_Outcome   2019-04-23 17:58:00  2019-08-04 13:03:00   \n",
       "AnimalType_Outcome                 Bird                  Cat   \n",
       "Breed_Outcome               Waxwing Mix   Domestic Shorthair   \n",
       "Color_Outcome               Gray/Yellow                Black   \n",
       "\n",
       "                                    996                     997  \\\n",
       "Name_Intake                    Precious                     NaN   \n",
       "DateTime_Intake     2019-07-26 11:04:00     2014-06-14 12:17:00   \n",
       "MonthYear_Intake    2019-07-26 11:04:00     2014-06-14 12:17:00   \n",
       "AnimalType_Intake                   Dog                     Cat   \n",
       "Breed_Intake                   Pit Bull  Domestic Shorthair Mix   \n",
       "Color_Intake                Black/White             Cream Tabby   \n",
       "Name_Outcome                   Precious                     NaN   \n",
       "DateTime_Outcome    2019-08-07 06:54:00     2014-06-14 16:16:00   \n",
       "MonthYear_Outcome   2019-08-07 06:54:00     2014-06-14 16:16:00   \n",
       "AnimalType_Outcome                  Dog                     Cat   \n",
       "Breed_Outcome                  Pit Bull  Domestic Shorthair Mix   \n",
       "Color_Outcome               Black/White             Cream Tabby   \n",
       "\n",
       "                                       998                     999  \n",
       "Name_Intake                    Bennett Ned                 *Archie  \n",
       "DateTime_Intake        2016-01-01 23:40:00     2015-10-31 15:16:00  \n",
       "MonthYear_Intake       2016-01-01 23:40:00     2015-10-31 15:16:00  \n",
       "AnimalType_Intake                      Dog                     Cat  \n",
       "Breed_Intake        Labrador Retriever Mix  Domestic Shorthair Mix  \n",
       "Color_Intake                   Brown/White            Orange Tabby  \n",
       "Name_Outcome                   Bennett Ned                 *Archie  \n",
       "DateTime_Outcome       2016-03-19 12:44:00     2015-11-02 14:02:00  \n",
       "MonthYear_Outcome      2016-03-19 12:44:00     2015-11-02 14:02:00  \n",
       "AnimalType_Outcome                     Dog                     Cat  \n",
       "Breed_Outcome       Labrador Retriever Mix  Domestic Shorthair Mix  \n",
       "Color_Outcome                  Brown/White            Orange Tabby  \n",
       "\n",
       "[12 rows x 1000 columns]"
      ]
     },
     "execution_count": 17,
     "metadata": {},
     "output_type": "execute_result"
    }
   ],
   "source": [
    "#duplicate columns are transposed as rows and can be seen below\n",
    "dfT[dfT.duplicated(keep=False)]"
   ]
  },
  {
   "cell_type": "markdown",
   "metadata": {},
   "source": [
    " - We can see above that *'MonthYear_Intake'* duplicates *'DateTime_Intake'* and that *'MonthYear_Outcome'* duplicates *'DateTime_Outcome'*. In all other cases the *'Outcome'* feature is duplicating the *'Intake'* version of the same feature. \n",
    "- The duplicate columns will be dropped below."
   ]
  },
  {
   "cell_type": "code",
   "execution_count": 18,
   "metadata": {},
   "outputs": [],
   "source": [
    "#remove the duplicate columns \n",
    "df = df.T.drop_duplicates().T"
   ]
  },
  {
   "cell_type": "code",
   "execution_count": 19,
   "metadata": {
    "scrolled": true
   },
   "outputs": [
    {
     "name": "stdout",
     "output_type": "stream",
     "text": [
      "Number of duplicate (excluding first) columns in the table is:  0\n"
     ]
    }
   ],
   "source": [
    "#tranpose columns to rows again to check if there are any duplicates left.\n",
    "dfT = df.T\n",
    "print(\"Number of duplicate (excluding first) columns in the table is: \", dfT.duplicated().sum())"
   ]
  },
  {
   "cell_type": "markdown",
   "metadata": {},
   "source": [
    " - As we can see there are no longer any duplicate columns in the dataset.\n",
    " - In the cell below I ensure that the number of columns has decreased. There were originally 22 columns and 6 were removed after the duplicate test. "
   ]
  },
  {
   "cell_type": "code",
   "execution_count": 20,
   "metadata": {},
   "outputs": [
    {
     "data": {
      "text/plain": [
       "(1000, 16)"
      ]
     },
     "execution_count": 20,
     "metadata": {},
     "output_type": "execute_result"
    }
   ],
   "source": [
    "df.shape"
   ]
  },
  {
   "cell_type": "markdown",
   "metadata": {},
   "source": [
    "As we can see the number of columns has reduced to 16. The duplicates have been successfully removed. "
   ]
  },
  {
   "cell_type": "markdown",
   "metadata": {},
   "source": [
    "Removing the duplicates reverted the categorical features back to objects so we will change them to category type below. "
   ]
  },
  {
   "cell_type": "code",
   "execution_count": 21,
   "metadata": {},
   "outputs": [],
   "source": [
    "#convert all remaining features which are currently object\n",
    "# to category type\n",
    "object_columns = df.select_dtypes(['object']).columns\n",
    "\n",
    "#Convert selected columns to type 'category'\n",
    "for column in object_columns:\n",
    "    df[column] = df[column].astype('category')\n",
    "df.dtypes \n",
    "\n",
    "#change 'Animal ID' to an object type so that it is not used in descriptive statistics.\n",
    "df['AnimalID'] = df['AnimalID'].astype('object')"
   ]
  },
  {
   "cell_type": "markdown",
   "metadata": {},
   "source": [
    "### Drop constant columns"
   ]
  },
  {
   "cell_type": "markdown",
   "metadata": {},
   "source": [
    "#### Categorical Data \n",
    "\n",
    "In the cell below we will check how many unique values each feature has. If a feature has a unique value of 1 this will tell us that this feature has a constant value. "
   ]
  },
  {
   "cell_type": "code",
   "execution_count": 22,
   "metadata": {},
   "outputs": [
    {
     "data": {
      "text/plain": [
       "AnimalID                     object\n",
       "Name_Intake                category\n",
       "DateTime_Intake      datetime64[ns]\n",
       "FoundLocation              category\n",
       "IntakeType                 category\n",
       "IntakeCondition            category\n",
       "AnimalType_Intake          category\n",
       "SexuponIntake              category\n",
       "AgeuponIntake              category\n",
       "Breed_Intake               category\n",
       "Color_Intake               category\n",
       "DateTime_Outcome     datetime64[ns]\n",
       "DateofBirth          datetime64[ns]\n",
       "SexuponOutcome             category\n",
       "AgeuponOutcome             category\n",
       "binary_outcome             category\n",
       "dtype: object"
      ]
     },
     "execution_count": 22,
     "metadata": {},
     "output_type": "execute_result"
    }
   ],
   "source": [
    "df.dtypes"
   ]
  },
  {
   "cell_type": "code",
   "execution_count": 23,
   "metadata": {},
   "outputs": [
    {
     "name": "stdout",
     "output_type": "stream",
     "text": [
      "Feature                              Unique Values\n",
      "-------                              --------------- \n",
      "\n",
      "Name_Intake                          604\n",
      "FoundLocation                        766\n",
      "IntakeType                           5\n",
      "IntakeCondition                      5\n",
      "AnimalType_Intake                    4\n",
      "SexuponIntake                        5\n",
      "AgeuponIntake                        43\n",
      "Breed_Intake                         211\n",
      "Color_Intake                         115\n",
      "SexuponOutcome                       5\n",
      "AgeuponOutcome                       42\n",
      "binary_outcome                       2\n"
     ]
    }
   ],
   "source": [
    "category_columns = df.select_dtypes(['category']).columns\n",
    "features_card = list(df[category_columns].columns.values)\n",
    "\n",
    "print('{0:35}  {1}'.format(\"Feature\", \"Unique Values\"))\n",
    "print('{0:35}  {1}'.format(\"-------\", \"--------------- \\n\"))\n",
    "\n",
    "for c in category_columns:\n",
    "    print('{0:35}  {1}'.format(c, str(len(df[c].unique()))))"
   ]
  },
  {
   "cell_type": "markdown",
   "metadata": {},
   "source": [
    "We can see that all values are $>1$. There are no constant columns in the categorical data. "
   ]
  },
  {
   "cell_type": "markdown",
   "metadata": {},
   "source": [
    "#### Continuous Data\n",
    "\n",
    "There is currently no continuous data to check for constant values. "
   ]
  },
  {
   "cell_type": "markdown",
   "metadata": {},
   "source": [
    "### Check for null values"
   ]
  },
  {
   "cell_type": "code",
   "execution_count": 24,
   "metadata": {},
   "outputs": [
    {
     "data": {
      "text/plain": [
       "AnimalID               0\n",
       "Name_Intake          306\n",
       "DateTime_Intake        0\n",
       "FoundLocation          0\n",
       "IntakeType             0\n",
       "IntakeCondition        0\n",
       "AnimalType_Intake      0\n",
       "SexuponIntake          0\n",
       "AgeuponIntake          0\n",
       "Breed_Intake           0\n",
       "Color_Intake           0\n",
       "DateTime_Outcome       0\n",
       "DateofBirth            0\n",
       "SexuponOutcome         0\n",
       "AgeuponOutcome         0\n",
       "binary_outcome         0\n",
       "dtype: int64"
      ]
     },
     "execution_count": 24,
     "metadata": {},
     "output_type": "execute_result"
    }
   ],
   "source": [
    "df.isnull().sum()"
   ]
  },
  {
   "cell_type": "markdown",
   "metadata": {},
   "source": [
    "We can see that there are 306 instances missing values for the feature *'Name_Intake'*. This will be investiated later on. "
   ]
  },
  {
   "cell_type": "markdown",
   "metadata": {},
   "source": [
    "### Check for irregular cardinalities and permitted values\n",
    "\n",
    "We can see above in the check for constant features that the features *Name_Intake, FoundLocation, Breed_Intake* and *Color_Intake* have very high cardinalities. This will need to be addressed later on. For now, it is not useful to look at a list of permitted values for these particular features. The permitted values for the other categorical features will be  explored in the cell below. "
   ]
  },
  {
   "cell_type": "markdown",
   "metadata": {},
   "source": [
    "**Categorical features with low cardinality**"
   ]
  },
  {
   "cell_type": "code",
   "execution_count": 25,
   "metadata": {},
   "outputs": [
    {
     "name": "stdout",
     "output_type": "stream",
     "text": [
      "Unique values for:\n",
      "Intake Type: ['Stray' 'Owner Surrender' 'Public Assist' 'Wildlife' 'Euthanasia Request']\n",
      "Intake Condition: ['Normal' 'Other' 'Injured' 'Nursing' 'Sick']\n",
      "Animal Type Intake: ['Cat' 'Dog' 'Other' 'Bird']\n",
      "Sex upon Intake: ['Intact Female' 'Intact Male' 'Spayed Female' 'Neutered Male' 'Unknown']\n",
      "Age upon Intake: ['2 months' '3 months' '1 year' '3 years' '7 years' '12 years' '2 years'\n",
      " '4 years' '5 months' '11 months' '9 months' '5 years' '7 months'\n",
      " '1 month' '4 months' '6 months' '4 weeks' '2 weeks' '9 years' '1 day'\n",
      " '1 weeks' '10 years' '3 weeks' '15 years' '10 months' '17 years'\n",
      " '19 years' '8 years' '6 years' '0 years' '1 week' '5 weeks' '6 days'\n",
      " '20 years' '5 days' '11 years' '13 years' '2 days' '8 months' '4 days'\n",
      " '3 days' '14 years' '18 years']\n",
      "Sex upon Outcome: ['Spayed Female' 'Intact Male' 'Neutered Male' 'Unknown' 'Intact Female']\n",
      "Age upon Outcome: ['2 months' '3 months' '1 year' '3 years' '7 years' '12 years' '2 years'\n",
      " '4 years' '6 months' '10 months' '5 months' '11 months' '5 years'\n",
      " '7 months' '9 months' '1 month' '4 months' '2 weeks' '9 years' '10 years'\n",
      " '15 years' '17 years' '19 years' '8 years' '6 years' '3 weeks' '1 day'\n",
      " '4 weeks' '8 months' '6 days' '20 years' '2 days' '1 week' '5 days'\n",
      " '11 years' '13 years' '4 days' '1 weeks' '14 years' '0 years' '5 weeks'\n",
      " '18 years']\n",
      "Animal Type Intake: ['Cat' 'Dog' 'Other' 'Bird']\n"
     ]
    }
   ],
   "source": [
    "# Check for irregular cardinality & permitted values\n",
    "print(\"Unique values for:\\nIntake Type:\", pd.unique(df[\"IntakeType\"].ravel()))\n",
    "print(\"Intake Condition:\", pd.unique(df[\"IntakeCondition\"].ravel()))\n",
    "print(\"Animal Type Intake:\", pd.unique(df[\"AnimalType_Intake\"].ravel()))\n",
    "print(\"Sex upon Intake:\", pd.unique(df[\"SexuponIntake\"].ravel()))\n",
    "print(\"Age upon Intake:\", pd.unique(df[\"AgeuponIntake\"].ravel()))\n",
    "print(\"Sex upon Outcome:\", pd.unique(df[\"SexuponOutcome\"].ravel()))\n",
    "print(\"Age upon Outcome:\", pd.unique(df[\"AgeuponOutcome\"].ravel()))\n",
    "print(\"Animal Type Intake:\", pd.unique(df[\"AnimalType_Intake\"].ravel()))"
   ]
  },
  {
   "cell_type": "markdown",
   "metadata": {},
   "source": [
    "The above check has highlighted the following potential issue:\n",
    " - *AnimalType_Intake* has a value called *Other*. This value is ambiguous and does not provide useful information. This will be discussed in the Data Quality Report and addressed in the Data Quality Plan.\n",
    " - *IntakeCondition* has a value *Other*. This value is ambiguous and does not provide useful information. This will be discussed in the Data Quality Report and addressed in the Data Quality Plan.\n",
    " - The format of the age is currently a string joining a number and a word, for example '1 month'. This is not the most helpful representation of the age. This will be discussed in the Data Quality Report. "
   ]
  },
  {
   "cell_type": "markdown",
   "metadata": {},
   "source": [
    "**Categorical features with high cardinality**\n",
    "\n",
    " - The issue of high cardinality will be dicussed further in the Data Quality Report and addressed in the Data Quality Plan. However, in this section of the assignment we will visualise and understand the data as it currently is. \n",
    " - Rather than showing the range of values for the features with very high cardinalities, we will now display the top 20 most frequent values for these features. At this stage of this assignment this is the best way to give an idea of the values of these features."
   ]
  },
  {
   "cell_type": "code",
   "execution_count": 26,
   "metadata": {},
   "outputs": [
    {
     "data": {
      "text/plain": [
       "Max         8\n",
       "Bella       4\n",
       "Zoey        4\n",
       "Mia         3\n",
       "Sadie       3\n",
       "Teddy       3\n",
       "Peanut      3\n",
       "Chiquita    3\n",
       "Gizmo       3\n",
       "Daisy       3\n",
       "King        3\n",
       "Charlie     3\n",
       "Tiger       3\n",
       "Luna        3\n",
       "Ace         3\n",
       "Zeus        3\n",
       "Yoshi       3\n",
       "Cash        3\n",
       "Hazel       2\n",
       "Jake        2\n",
       "Name: Name_Intake, dtype: int64"
      ]
     },
     "execution_count": 26,
     "metadata": {},
     "output_type": "execute_result"
    }
   ],
   "source": [
    "# visualise 20 most frequent values for 'Name_Intake' which has a cardinality of 604\n",
    "most_frequent_name_values = df['Name_Intake'].value_counts()[:20].sort_values(ascending=False)\n",
    "most_frequent_name_values"
   ]
  },
  {
   "cell_type": "code",
   "execution_count": 27,
   "metadata": {},
   "outputs": [
    {
     "data": {
      "text/plain": [
       "Austin (TX)                           188\n",
       "Outside Jurisdiction                   10\n",
       "Travis (TX)                            10\n",
       "Pflugerville (TX)                       8\n",
       "Manor (TX)                              8\n",
       "7201 Levander Loop in Austin (TX)       6\n",
       "Del Valle (TX)                          4\n",
       "Old Lockhart Hwy in Austin (TX)         2\n",
       "6605 Tara Drive in Austin (TX)          2\n",
       "15311 Brenda Street in Austin (TX)      2\n",
       "4434 Frontier in Austin (TX)            2\n",
       "6600 Elm Creek Dr in Austin (TX)        2\n",
       "Hwy 71 in Travis (TX)                   2\n",
       "906 W Milton St in Austin (TX)          2\n",
       "2308 Perry Ave #106 in Austin (TX)      1\n",
       "2510 Euclid Avenue in Austin (TX)       1\n",
       "2222 And 620 in Austin (TX)             1\n",
       "2315 Town Lake in Austin (TX)           1\n",
       "2315 Dovehill Dr in Austin (TX)         1\n",
       "2305 Burleson Rd in Austin (TX)         1\n",
       "Name: FoundLocation, dtype: int64"
      ]
     },
     "execution_count": 27,
     "metadata": {},
     "output_type": "execute_result"
    }
   ],
   "source": [
    "#  visualise 20 most frequent values for 'FoundLocation' which has a cardinality of 766\n",
    "most_frequent_location_values = df['FoundLocation'].value_counts()[:20].sort_values(ascending=False)\n",
    "most_frequent_location_values"
   ]
  },
  {
   "cell_type": "code",
   "execution_count": 28,
   "metadata": {},
   "outputs": [
    {
     "data": {
      "text/plain": [
       "Domestic Shorthair Mix       259\n",
       "Chihuahua Shorthair Mix       77\n",
       "Labrador Retriever Mix        56\n",
       "Pit Bull Mix                  52\n",
       "Domestic Shorthair            43\n",
       "Domestic Medium Hair Mix      26\n",
       "German Shepherd Mix           20\n",
       "Siamese Mix                   16\n",
       "Boxer Mix                     15\n",
       "Bat Mix                       15\n",
       "Pit Bull                      13\n",
       "Miniature Poodle Mix          11\n",
       "Bat                           11\n",
       "Domestic Longhair Mix         11\n",
       "Border Collie Mix             11\n",
       "Chihuahua Shorthair            9\n",
       "Australian Cattle Dog Mix      8\n",
       "German Shepherd                8\n",
       "Australian Shepherd Mix        8\n",
       "Rottweiler Mix                 7\n",
       "Name: Breed_Intake, dtype: int64"
      ]
     },
     "execution_count": 28,
     "metadata": {},
     "output_type": "execute_result"
    }
   ],
   "source": [
    "#  visualise 20 most frequent values for 'Breed_Intake' which has a cardinality of 211\n",
    "most_frequent_breed_values = df['Breed_Intake'].value_counts()[:20].sort_values(ascending=False)\n",
    "most_frequent_breed_values"
   ]
  },
  {
   "cell_type": "code",
   "execution_count": 29,
   "metadata": {},
   "outputs": [
    {
     "data": {
      "text/plain": [
       "Black/White            106\n",
       "Black                   87\n",
       "Brown Tabby             58\n",
       "Brown                   51\n",
       "Brown/White             32\n",
       "Brown Tabby/White       30\n",
       "Blue/White              30\n",
       "White                   30\n",
       "White/Black             29\n",
       "Tan/White               29\n",
       "Tricolor                26\n",
       "Orange Tabby            24\n",
       "Black/Tan               22\n",
       "Blue                    20\n",
       "Torbie                  20\n",
       "Brown/Black             19\n",
       "White/Brown             19\n",
       "Tan                     17\n",
       "Brown Brindle/White     16\n",
       "Tortie                  16\n",
       "Name: Color_Intake, dtype: int64"
      ]
     },
     "execution_count": 29,
     "metadata": {},
     "output_type": "execute_result"
    }
   ],
   "source": [
    "# visualise 20 most frequent values for 'Color_Intake' which has a cardinality of 115\n",
    "most_frequent_color_values = df['Color_Intake'].value_counts()[:20].sort_values(ascending=False)\n",
    "most_frequent_color_values"
   ]
  },
  {
   "cell_type": "markdown",
   "metadata": {},
   "source": [
    "**Running Assessment:**\n",
    "\n",
    "The above visualisation of the most frequent values for the high cardinality features has highlighted the following potential issues: \n",
    " - In *'FoundLocation'* the most frequent value is *'Austin (TX)'*. However, many of the other values in the top 20 are addresses within Austin, such as *'7201 Levander Loop in Austin (TX)'*, for instance. This inconsistency will make comparisons difficult. This issue will be noted in the Data Quality Report and addressed in the Data Quality Plan.\n",
    " - Many of the most frequent values for *'Breed_Intake'* are potentially overlapping. For example, both *'Domestic Shorthair Mix'* and *'Domestic Shorthair'* are in the top 5 most frequent. Ideally I would need to speak to the domain expert to understand more about whether these refer to slightly different breeds. For now this issue will be noted in the Data Quality Report and addressed in the Data Quality Plan.\n",
    " - Many of the most frequent values for *'Color_Intake'* are potentially overlapping. For example, both *'Black/White '* and *'White/Black'* are in the top 5 most frequent. Also, this feature is describing both the color and the coat pattern eg. Tabby. Both of these factors may be contributing to the high cardinality. For now this issue will be noted in the Data Quality Report and addressed in the Data Quality Plan."
   ]
  },
  {
   "cell_type": "markdown",
   "metadata": {},
   "source": [
    "### Check logical integrity of Data"
   ]
  },
  {
   "cell_type": "markdown",
   "metadata": {},
   "source": [
    "We will now perform some additional checks to make sure the data makes sense. Depending on the outcome of these checks, we may have to decide to drop them. Ideally, consulation with the domain expert would give us more information about how to replace any affected values. "
   ]
  },
  {
   "cell_type": "markdown",
   "metadata": {},
   "source": [
    " - **Test 1:** Check if the *'DateTime_Outcome'* is an earlier date than the *'DateTime_Intake'* for any of the animals. This would imply that the animal stayed a negative length of time in the shelter which is impossible."
   ]
  },
  {
   "cell_type": "code",
   "execution_count": 30,
   "metadata": {},
   "outputs": [
    {
     "name": "stdout",
     "output_type": "stream",
     "text": [
      "Number of rows failing the test:  7\n"
     ]
    },
    {
     "data": {
      "text/html": [
       "<div>\n",
       "<style scoped>\n",
       "    .dataframe tbody tr th:only-of-type {\n",
       "        vertical-align: middle;\n",
       "    }\n",
       "\n",
       "    .dataframe tbody tr th {\n",
       "        vertical-align: top;\n",
       "    }\n",
       "\n",
       "    .dataframe thead th {\n",
       "        text-align: right;\n",
       "    }\n",
       "</style>\n",
       "<table border=\"1\" class=\"dataframe\">\n",
       "  <thead>\n",
       "    <tr style=\"text-align: right;\">\n",
       "      <th></th>\n",
       "      <th>DateTime_Outcome</th>\n",
       "      <th>DateTime_Intake</th>\n",
       "    </tr>\n",
       "  </thead>\n",
       "  <tbody>\n",
       "    <tr>\n",
       "      <td>150</td>\n",
       "      <td>2019-06-30 18:17:00</td>\n",
       "      <td>2019-07-01 16:20:00</td>\n",
       "    </tr>\n",
       "    <tr>\n",
       "      <td>193</td>\n",
       "      <td>2016-09-21 12:28:00</td>\n",
       "      <td>2016-10-09 14:42:00</td>\n",
       "    </tr>\n",
       "    <tr>\n",
       "      <td>286</td>\n",
       "      <td>2018-11-13 18:47:00</td>\n",
       "      <td>2018-12-09 11:36:00</td>\n",
       "    </tr>\n",
       "    <tr>\n",
       "      <td>354</td>\n",
       "      <td>2018-09-09 17:08:00</td>\n",
       "      <td>2019-11-29 14:47:00</td>\n",
       "    </tr>\n",
       "    <tr>\n",
       "      <td>443</td>\n",
       "      <td>2018-07-15 17:13:00</td>\n",
       "      <td>2018-10-13 12:30:00</td>\n",
       "    </tr>\n",
       "    <tr>\n",
       "      <td>627</td>\n",
       "      <td>2019-07-03 18:36:00</td>\n",
       "      <td>2019-09-05 13:38:00</td>\n",
       "    </tr>\n",
       "    <tr>\n",
       "      <td>929</td>\n",
       "      <td>2013-11-30 17:07:00</td>\n",
       "      <td>2015-02-04 17:54:00</td>\n",
       "    </tr>\n",
       "  </tbody>\n",
       "</table>\n",
       "</div>"
      ],
      "text/plain": [
       "       DateTime_Outcome     DateTime_Intake\n",
       "150 2019-06-30 18:17:00 2019-07-01 16:20:00\n",
       "193 2016-09-21 12:28:00 2016-10-09 14:42:00\n",
       "286 2018-11-13 18:47:00 2018-12-09 11:36:00\n",
       "354 2018-09-09 17:08:00 2019-11-29 14:47:00\n",
       "443 2018-07-15 17:13:00 2018-10-13 12:30:00\n",
       "627 2019-07-03 18:36:00 2019-09-05 13:38:00\n",
       "929 2013-11-30 17:07:00 2015-02-04 17:54:00"
      ]
     },
     "execution_count": 30,
     "metadata": {},
     "output_type": "execute_result"
    }
   ],
   "source": [
    "#create a dataframe containing the instances where date of outcome is less than date of intake\n",
    "test_1 = df[['DateTime_Outcome','DateTime_Intake']][df['DateTime_Outcome'] < df['DateTime_Intake']]\n",
    "#print out the number of instances failing the test\n",
    "print(\"Number of rows failing the test: \", test_1.shape[0])\n",
    "#view the instances\n",
    "test_1.head(7)"
   ]
  },
  {
   "cell_type": "markdown",
   "metadata": {},
   "source": [
    " - **Test 2:** Check if the *'DateTime_Intake'* for any animal is less before their *'DateofBirth'*. This would imply that the animal entered the shelter before they were born which is impossible "
   ]
  },
  {
   "cell_type": "code",
   "execution_count": 31,
   "metadata": {},
   "outputs": [
    {
     "name": "stdout",
     "output_type": "stream",
     "text": [
      "Number of rows failing the test:  0\n"
     ]
    },
    {
     "data": {
      "text/html": [
       "<div>\n",
       "<style scoped>\n",
       "    .dataframe tbody tr th:only-of-type {\n",
       "        vertical-align: middle;\n",
       "    }\n",
       "\n",
       "    .dataframe tbody tr th {\n",
       "        vertical-align: top;\n",
       "    }\n",
       "\n",
       "    .dataframe thead th {\n",
       "        text-align: right;\n",
       "    }\n",
       "</style>\n",
       "<table border=\"1\" class=\"dataframe\">\n",
       "  <thead>\n",
       "    <tr style=\"text-align: right;\">\n",
       "      <th></th>\n",
       "      <th>DateTime_Intake</th>\n",
       "      <th>DateofBirth</th>\n",
       "    </tr>\n",
       "  </thead>\n",
       "  <tbody>\n",
       "  </tbody>\n",
       "</table>\n",
       "</div>"
      ],
      "text/plain": [
       "Empty DataFrame\n",
       "Columns: [DateTime_Intake, DateofBirth]\n",
       "Index: []"
      ]
     },
     "execution_count": 31,
     "metadata": {},
     "output_type": "execute_result"
    }
   ],
   "source": [
    "#create a dataframe containing the instances where date of intake is less than date of birth\n",
    "test_2 = df[['DateTime_Intake','DateofBirth']][df['DateTime_Intake'] < df['DateofBirth']]\n",
    "#print out the number of instances failing the test\n",
    "print(\"Number of rows failing the test: \", test_2.shape[0])\n",
    "#view the instances\n",
    "test_2.head(7)"
   ]
  },
  {
   "cell_type": "markdown",
   "metadata": {},
   "source": [
    " - **Test 3:** Check if age of intake of any animal is zero. This is indeed plausible if an animal is born in the shelter. However, this will be tested to ensure there are not an unexpected number of animals aged zero as this may imply some invalid data. "
   ]
  },
  {
   "cell_type": "code",
   "execution_count": 32,
   "metadata": {},
   "outputs": [
    {
     "name": "stdout",
     "output_type": "stream",
     "text": [
      "Number of rows failing the test:  5\n"
     ]
    },
    {
     "data": {
      "text/html": [
       "<div>\n",
       "<style scoped>\n",
       "    .dataframe tbody tr th:only-of-type {\n",
       "        vertical-align: middle;\n",
       "    }\n",
       "\n",
       "    .dataframe tbody tr th {\n",
       "        vertical-align: top;\n",
       "    }\n",
       "\n",
       "    .dataframe thead th {\n",
       "        text-align: right;\n",
       "    }\n",
       "</style>\n",
       "<table border=\"1\" class=\"dataframe\">\n",
       "  <thead>\n",
       "    <tr style=\"text-align: right;\">\n",
       "      <th></th>\n",
       "      <th>AnimalID</th>\n",
       "      <th>Name_Intake</th>\n",
       "      <th>DateTime_Intake</th>\n",
       "      <th>FoundLocation</th>\n",
       "      <th>IntakeType</th>\n",
       "      <th>IntakeCondition</th>\n",
       "      <th>AnimalType_Intake</th>\n",
       "      <th>SexuponIntake</th>\n",
       "      <th>AgeuponIntake</th>\n",
       "      <th>Breed_Intake</th>\n",
       "      <th>Color_Intake</th>\n",
       "      <th>DateTime_Outcome</th>\n",
       "      <th>DateofBirth</th>\n",
       "      <th>SexuponOutcome</th>\n",
       "      <th>AgeuponOutcome</th>\n",
       "      <th>binary_outcome</th>\n",
       "    </tr>\n",
       "  </thead>\n",
       "  <tbody>\n",
       "    <tr>\n",
       "      <td>180</td>\n",
       "      <td>A789433</td>\n",
       "      <td>NaN</td>\n",
       "      <td>2019-02-21 14:46:00</td>\n",
       "      <td>Marigold in Austin (TX)</td>\n",
       "      <td>Stray</td>\n",
       "      <td>Nursing</td>\n",
       "      <td>Cat</td>\n",
       "      <td>Unknown</td>\n",
       "      <td>0 years</td>\n",
       "      <td>Domestic Shorthair Mix</td>\n",
       "      <td>Black/White</td>\n",
       "      <td>2019-02-22 08:12:00</td>\n",
       "      <td>2019-02-21</td>\n",
       "      <td>Unknown</td>\n",
       "      <td>1 day</td>\n",
       "      <td>0</td>\n",
       "    </tr>\n",
       "    <tr>\n",
       "      <td>497</td>\n",
       "      <td>A740100</td>\n",
       "      <td>*Reagan</td>\n",
       "      <td>2016-12-11 11:37:00</td>\n",
       "      <td>Travis (TX)</td>\n",
       "      <td>Stray</td>\n",
       "      <td>Nursing</td>\n",
       "      <td>Dog</td>\n",
       "      <td>Intact Female</td>\n",
       "      <td>0 years</td>\n",
       "      <td>Chihuahua Shorthair Mix</td>\n",
       "      <td>Sable</td>\n",
       "      <td>2016-12-12 00:00:00</td>\n",
       "      <td>2016-12-11</td>\n",
       "      <td>Intact Female</td>\n",
       "      <td>1 day</td>\n",
       "      <td>0</td>\n",
       "    </tr>\n",
       "    <tr>\n",
       "      <td>668</td>\n",
       "      <td>A755172</td>\n",
       "      <td>NaN</td>\n",
       "      <td>2017-07-30 11:50:00</td>\n",
       "      <td>Austin (TX)</td>\n",
       "      <td>Owner Surrender</td>\n",
       "      <td>Normal</td>\n",
       "      <td>Dog</td>\n",
       "      <td>Intact Male</td>\n",
       "      <td>0 years</td>\n",
       "      <td>Chihuahua Shorthair Mix</td>\n",
       "      <td>White/Black</td>\n",
       "      <td>2017-07-30 16:51:00</td>\n",
       "      <td>2017-07-30</td>\n",
       "      <td>Intact Male</td>\n",
       "      <td>0 years</td>\n",
       "      <td>0</td>\n",
       "    </tr>\n",
       "    <tr>\n",
       "      <td>811</td>\n",
       "      <td>A752185</td>\n",
       "      <td>NaN</td>\n",
       "      <td>2017-06-19 14:04:00</td>\n",
       "      <td>13811 Lampting Dr in Travis (TX)</td>\n",
       "      <td>Stray</td>\n",
       "      <td>Normal</td>\n",
       "      <td>Cat</td>\n",
       "      <td>Intact Female</td>\n",
       "      <td>0 years</td>\n",
       "      <td>Domestic Shorthair Mix</td>\n",
       "      <td>Tortie</td>\n",
       "      <td>2017-08-12 15:00:00</td>\n",
       "      <td>2017-06-19</td>\n",
       "      <td>Spayed Female</td>\n",
       "      <td>1 month</td>\n",
       "      <td>0</td>\n",
       "    </tr>\n",
       "    <tr>\n",
       "      <td>842</td>\n",
       "      <td>A726492</td>\n",
       "      <td>Arlo</td>\n",
       "      <td>2016-05-11 12:50:00</td>\n",
       "      <td>7101 Ed Bluestein Blvd in Austin (TX)</td>\n",
       "      <td>Stray</td>\n",
       "      <td>Normal</td>\n",
       "      <td>Dog</td>\n",
       "      <td>Intact Male</td>\n",
       "      <td>0 years</td>\n",
       "      <td>Catahoula Mix</td>\n",
       "      <td>Brown Brindle</td>\n",
       "      <td>2016-07-06 18:26:00</td>\n",
       "      <td>2016-05-11</td>\n",
       "      <td>Neutered Male</td>\n",
       "      <td>1 month</td>\n",
       "      <td>0</td>\n",
       "    </tr>\n",
       "  </tbody>\n",
       "</table>\n",
       "</div>"
      ],
      "text/plain": [
       "    AnimalID Name_Intake     DateTime_Intake  \\\n",
       "180  A789433         NaN 2019-02-21 14:46:00   \n",
       "497  A740100     *Reagan 2016-12-11 11:37:00   \n",
       "668  A755172         NaN 2017-07-30 11:50:00   \n",
       "811  A752185         NaN 2017-06-19 14:04:00   \n",
       "842  A726492        Arlo 2016-05-11 12:50:00   \n",
       "\n",
       "                             FoundLocation       IntakeType IntakeCondition  \\\n",
       "180                Marigold in Austin (TX)            Stray         Nursing   \n",
       "497                            Travis (TX)            Stray         Nursing   \n",
       "668                            Austin (TX)  Owner Surrender          Normal   \n",
       "811       13811 Lampting Dr in Travis (TX)            Stray          Normal   \n",
       "842  7101 Ed Bluestein Blvd in Austin (TX)            Stray          Normal   \n",
       "\n",
       "    AnimalType_Intake  SexuponIntake AgeuponIntake             Breed_Intake  \\\n",
       "180               Cat        Unknown       0 years   Domestic Shorthair Mix   \n",
       "497               Dog  Intact Female       0 years  Chihuahua Shorthair Mix   \n",
       "668               Dog    Intact Male       0 years  Chihuahua Shorthair Mix   \n",
       "811               Cat  Intact Female       0 years   Domestic Shorthair Mix   \n",
       "842               Dog    Intact Male       0 years            Catahoula Mix   \n",
       "\n",
       "      Color_Intake    DateTime_Outcome DateofBirth SexuponOutcome  \\\n",
       "180    Black/White 2019-02-22 08:12:00  2019-02-21        Unknown   \n",
       "497          Sable 2016-12-12 00:00:00  2016-12-11  Intact Female   \n",
       "668    White/Black 2017-07-30 16:51:00  2017-07-30    Intact Male   \n",
       "811         Tortie 2017-08-12 15:00:00  2017-06-19  Spayed Female   \n",
       "842  Brown Brindle 2016-07-06 18:26:00  2016-05-11  Neutered Male   \n",
       "\n",
       "    AgeuponOutcome binary_outcome  \n",
       "180          1 day              0  \n",
       "497          1 day              0  \n",
       "668        0 years              0  \n",
       "811        1 month              0  \n",
       "842        1 month              0  "
      ]
     },
     "execution_count": 32,
     "metadata": {},
     "output_type": "execute_result"
    }
   ],
   "source": [
    "#create a dataframe containing the instances where age of intake is zero\n",
    "#I subtract date of birth from date of intake and convert this value to days\n",
    "age_intake_zero_check = (df['DateTime_Intake'] - df['DateofBirth']).dt.days\n",
    "test_3 = df[age_intake_zero_check == 0]\n",
    "#print out the number of intances failing the test\n",
    "print(\"Number of rows failing the test: \", test_3.shape[0])\n",
    "#view the instances\n",
    "test_3.head()"
   ]
  },
  {
   "cell_type": "markdown",
   "metadata": {},
   "source": [
    " - **Test 4:** Check if age of outcome of any animal is zero. This would imply that an animal left  the shelter on the day of their birth. This would need further investigation."
   ]
  },
  {
   "cell_type": "code",
   "execution_count": 33,
   "metadata": {},
   "outputs": [
    {
     "name": "stdout",
     "output_type": "stream",
     "text": [
      "Number of rows failing the test:  1\n"
     ]
    },
    {
     "data": {
      "text/html": [
       "<div>\n",
       "<style scoped>\n",
       "    .dataframe tbody tr th:only-of-type {\n",
       "        vertical-align: middle;\n",
       "    }\n",
       "\n",
       "    .dataframe tbody tr th {\n",
       "        vertical-align: top;\n",
       "    }\n",
       "\n",
       "    .dataframe thead th {\n",
       "        text-align: right;\n",
       "    }\n",
       "</style>\n",
       "<table border=\"1\" class=\"dataframe\">\n",
       "  <thead>\n",
       "    <tr style=\"text-align: right;\">\n",
       "      <th></th>\n",
       "      <th>AnimalID</th>\n",
       "      <th>Name_Intake</th>\n",
       "      <th>DateTime_Intake</th>\n",
       "      <th>FoundLocation</th>\n",
       "      <th>IntakeType</th>\n",
       "      <th>IntakeCondition</th>\n",
       "      <th>AnimalType_Intake</th>\n",
       "      <th>SexuponIntake</th>\n",
       "      <th>AgeuponIntake</th>\n",
       "      <th>Breed_Intake</th>\n",
       "      <th>Color_Intake</th>\n",
       "      <th>DateTime_Outcome</th>\n",
       "      <th>DateofBirth</th>\n",
       "      <th>SexuponOutcome</th>\n",
       "      <th>AgeuponOutcome</th>\n",
       "      <th>binary_outcome</th>\n",
       "    </tr>\n",
       "  </thead>\n",
       "  <tbody>\n",
       "    <tr>\n",
       "      <td>668</td>\n",
       "      <td>A755172</td>\n",
       "      <td>NaN</td>\n",
       "      <td>2017-07-30 11:50:00</td>\n",
       "      <td>Austin (TX)</td>\n",
       "      <td>Owner Surrender</td>\n",
       "      <td>Normal</td>\n",
       "      <td>Dog</td>\n",
       "      <td>Intact Male</td>\n",
       "      <td>0 years</td>\n",
       "      <td>Chihuahua Shorthair Mix</td>\n",
       "      <td>White/Black</td>\n",
       "      <td>2017-07-30 16:51:00</td>\n",
       "      <td>2017-07-30</td>\n",
       "      <td>Intact Male</td>\n",
       "      <td>0 years</td>\n",
       "      <td>0</td>\n",
       "    </tr>\n",
       "  </tbody>\n",
       "</table>\n",
       "</div>"
      ],
      "text/plain": [
       "    AnimalID Name_Intake     DateTime_Intake FoundLocation       IntakeType  \\\n",
       "668  A755172         NaN 2017-07-30 11:50:00   Austin (TX)  Owner Surrender   \n",
       "\n",
       "    IntakeCondition AnimalType_Intake SexuponIntake AgeuponIntake  \\\n",
       "668          Normal               Dog   Intact Male       0 years   \n",
       "\n",
       "                Breed_Intake Color_Intake    DateTime_Outcome DateofBirth  \\\n",
       "668  Chihuahua Shorthair Mix  White/Black 2017-07-30 16:51:00  2017-07-30   \n",
       "\n",
       "    SexuponOutcome AgeuponOutcome binary_outcome  \n",
       "668    Intact Male        0 years              0  "
      ]
     },
     "execution_count": 33,
     "metadata": {},
     "output_type": "execute_result"
    }
   ],
   "source": [
    "#create a dataframe containing the instances where age of outcome is zero\n",
    "#I subtract date of birth from date of intake and convert this value to days\n",
    "age_outcome_zero_check = (df['DateTime_Outcome'] - df['DateofBirth']).dt.days\n",
    "test_4 = df[age_outcome_zero_check == 0]\n",
    "#print out the number of instances failing the test\n",
    "print(\"Number of rows failing the test: \", test_4.shape[0])\n",
    "#view the instances\n",
    "test_4.head()"
   ]
  },
  {
   "cell_type": "markdown",
   "metadata": {},
   "source": [
    " - **Test 5:** Check if age of outcome is less than age of intake for any animal. This would imply that the animal decreased in age in the shelter which is impossible.\n",
    " \n",
    "In order to perform this test a function is created which converts the features *AgeUponIntake* and *AgeUponOutcome* into an age in days. This function uses regex to convert the unit of time to the appropriate number. We use 30 as the number of days in the month. Although not all months have exactly 30 days, the ages provided by the shelter are in an approximate format so this transformation is appropriate considering the animal shetler environment. "
   ]
  },
  {
   "cell_type": "code",
   "execution_count": 34,
   "metadata": {},
   "outputs": [],
   "source": [
    "#create function which takes a feature as an argument\n",
    "def transform_age_feature(column):\n",
    "    age_to_days_df = pd.DataFrame(\n",
    "        columns=[\"number\",\"units\"])\n",
    "\n",
    "    # split column into two columns using the whitespace as the delimeter\n",
    "    age_to_days_df[['number','units']] = column.str.split(\" \", expand=True)\n",
    "\n",
    "    # Regex is used to convert the unit to the corresponding number\n",
    "    age_to_days_df['units'] = age_to_days_df[\"units\"].replace(regex={r'years?' : 365, r'days?' : 1, r'months?' : 30, r'weeks?' : 7})\n",
    "\n",
    "    # convert the number and units to float types\n",
    "    age_to_days_df['number'] = age_to_days_df['number'].astype('float64')\n",
    "    age_to_days_df['units'] = age_to_days_df['units'].astype('float64')\n",
    "\n",
    "    # Multiply the number by the units to get the age in days\n",
    "    age_to_days_df['Age_days'] = age_to_days_df['number'] * age_to_days_df['units']\n",
    "    \n",
    "    #return the new feature\n",
    "    return age_to_days_df['Age_days']"
   ]
  },
  {
   "cell_type": "code",
   "execution_count": 35,
   "metadata": {},
   "outputs": [
    {
     "name": "stdout",
     "output_type": "stream",
     "text": [
      "Number of rows failing the test:  3\n"
     ]
    },
    {
     "data": {
      "text/html": [
       "<div>\n",
       "<style scoped>\n",
       "    .dataframe tbody tr th:only-of-type {\n",
       "        vertical-align: middle;\n",
       "    }\n",
       "\n",
       "    .dataframe tbody tr th {\n",
       "        vertical-align: top;\n",
       "    }\n",
       "\n",
       "    .dataframe thead th {\n",
       "        text-align: right;\n",
       "    }\n",
       "</style>\n",
       "<table border=\"1\" class=\"dataframe\">\n",
       "  <thead>\n",
       "    <tr style=\"text-align: right;\">\n",
       "      <th></th>\n",
       "      <th>AnimalID</th>\n",
       "      <th>Name_Intake</th>\n",
       "      <th>DateTime_Intake</th>\n",
       "      <th>FoundLocation</th>\n",
       "      <th>IntakeType</th>\n",
       "      <th>IntakeCondition</th>\n",
       "      <th>AnimalType_Intake</th>\n",
       "      <th>SexuponIntake</th>\n",
       "      <th>AgeuponIntake</th>\n",
       "      <th>Breed_Intake</th>\n",
       "      <th>Color_Intake</th>\n",
       "      <th>DateTime_Outcome</th>\n",
       "      <th>DateofBirth</th>\n",
       "      <th>SexuponOutcome</th>\n",
       "      <th>AgeuponOutcome</th>\n",
       "      <th>binary_outcome</th>\n",
       "    </tr>\n",
       "  </thead>\n",
       "  <tbody>\n",
       "    <tr>\n",
       "      <td>354</td>\n",
       "      <td>A773939</td>\n",
       "      <td>Blue</td>\n",
       "      <td>2019-11-29 14:47:00</td>\n",
       "      <td>Austin (TX)</td>\n",
       "      <td>Owner Surrender</td>\n",
       "      <td>Normal</td>\n",
       "      <td>Dog</td>\n",
       "      <td>Neutered Male</td>\n",
       "      <td>3 years</td>\n",
       "      <td>Pit Bull Mix</td>\n",
       "      <td>Blue/White</td>\n",
       "      <td>2018-09-09 17:08:00</td>\n",
       "      <td>2016-06-07</td>\n",
       "      <td>Neutered Male</td>\n",
       "      <td>2 years</td>\n",
       "      <td>0</td>\n",
       "    </tr>\n",
       "    <tr>\n",
       "      <td>443</td>\n",
       "      <td>A776553</td>\n",
       "      <td>Stormy</td>\n",
       "      <td>2018-10-13 12:30:00</td>\n",
       "      <td>East Stassney Lane And South Congress Avenue i...</td>\n",
       "      <td>Stray</td>\n",
       "      <td>Normal</td>\n",
       "      <td>Dog</td>\n",
       "      <td>Intact Female</td>\n",
       "      <td>10 months</td>\n",
       "      <td>American Pit Bull Terrier Mix</td>\n",
       "      <td>Blue/White</td>\n",
       "      <td>2018-07-15 17:13:00</td>\n",
       "      <td>2017-11-15</td>\n",
       "      <td>Intact Female</td>\n",
       "      <td>7 months</td>\n",
       "      <td>0</td>\n",
       "    </tr>\n",
       "    <tr>\n",
       "      <td>929</td>\n",
       "      <td>A663553</td>\n",
       "      <td>Teddy</td>\n",
       "      <td>2015-02-04 17:54:00</td>\n",
       "      <td>Austin (TX)</td>\n",
       "      <td>Owner Surrender</td>\n",
       "      <td>Normal</td>\n",
       "      <td>Cat</td>\n",
       "      <td>Neutered Male</td>\n",
       "      <td>1 year</td>\n",
       "      <td>Domestic Shorthair Mix</td>\n",
       "      <td>Brown Tabby/White</td>\n",
       "      <td>2013-11-30 17:07:00</td>\n",
       "      <td>2013-06-20</td>\n",
       "      <td>Neutered Male</td>\n",
       "      <td>5 months</td>\n",
       "      <td>0</td>\n",
       "    </tr>\n",
       "  </tbody>\n",
       "</table>\n",
       "</div>"
      ],
      "text/plain": [
       "    AnimalID Name_Intake     DateTime_Intake  \\\n",
       "354  A773939        Blue 2019-11-29 14:47:00   \n",
       "443  A776553      Stormy 2018-10-13 12:30:00   \n",
       "929  A663553       Teddy 2015-02-04 17:54:00   \n",
       "\n",
       "                                         FoundLocation       IntakeType  \\\n",
       "354                                        Austin (TX)  Owner Surrender   \n",
       "443  East Stassney Lane And South Congress Avenue i...            Stray   \n",
       "929                                        Austin (TX)  Owner Surrender   \n",
       "\n",
       "    IntakeCondition AnimalType_Intake  SexuponIntake AgeuponIntake  \\\n",
       "354          Normal               Dog  Neutered Male       3 years   \n",
       "443          Normal               Dog  Intact Female     10 months   \n",
       "929          Normal               Cat  Neutered Male        1 year   \n",
       "\n",
       "                      Breed_Intake       Color_Intake    DateTime_Outcome  \\\n",
       "354                   Pit Bull Mix         Blue/White 2018-09-09 17:08:00   \n",
       "443  American Pit Bull Terrier Mix         Blue/White 2018-07-15 17:13:00   \n",
       "929         Domestic Shorthair Mix  Brown Tabby/White 2013-11-30 17:07:00   \n",
       "\n",
       "    DateofBirth SexuponOutcome AgeuponOutcome binary_outcome  \n",
       "354  2016-06-07  Neutered Male        2 years              0  \n",
       "443  2017-11-15  Intact Female       7 months              0  \n",
       "929  2013-06-20  Neutered Male       5 months              0  "
      ]
     },
     "execution_count": 35,
     "metadata": {},
     "output_type": "execute_result"
    }
   ],
   "source": [
    "#subtract age of intake from age of outcome \n",
    "negative_age_difference_check = (transform_age_feature(df['AgeuponOutcome'])-transform_age_feature(df['AgeuponIntake']))\n",
    "#check if any instances get a negative value from this check\n",
    "test_5 = df[negative_age_difference_check <0]\n",
    "#print out the number of instances failing the test\n",
    "print(\"Number of rows failing the test: \", test_5.shape[0])\n",
    "test_5.head(7)"
   ]
  },
  {
   "cell_type": "markdown",
   "metadata": {},
   "source": [
    "**Running Assessment:**\n",
    "\n",
    "We can see that there are some failed instances in the tests above. These will be discussed in more detail in the Data Quality Report and investigated in the Data Quality Plan."
   ]
  },
  {
   "cell_type": "markdown",
   "metadata": {},
   "source": [
    "### Save cleaned/updated data frame to a new csv file"
   ]
  },
  {
   "cell_type": "markdown",
   "metadata": {},
   "source": [
    "We now save the cleaned data to a new csv file. "
   ]
  },
  {
   "cell_type": "code",
   "execution_count": 36,
   "metadata": {},
   "outputs": [],
   "source": [
    "df.to_csv('animalWelfare_19205514_Updated_part1.csv')"
   ]
  },
  {
   "cell_type": "markdown",
   "metadata": {},
   "source": [
    "### Tables of descriptive statistics"
   ]
  },
  {
   "cell_type": "markdown",
   "metadata": {},
   "source": [
    "In this section of the assignment we generate tables of descriptive statistics for each of the features. "
   ]
  },
  {
   "cell_type": "markdown",
   "metadata": {},
   "source": [
    "#### Read from the updated/cleaned csv file"
   ]
  },
  {
   "cell_type": "markdown",
   "metadata": {},
   "source": [
    "First we read from the cleaned csv file."
   ]
  },
  {
   "cell_type": "code",
   "execution_count": 37,
   "metadata": {},
   "outputs": [],
   "source": [
    "# Reading from a csv file, into a data frame\n",
    "df = pd.read_csv('animalWelfare_19205514_Updated_part1.csv')"
   ]
  },
  {
   "cell_type": "markdown",
   "metadata": {},
   "source": [
    "Next we check the datatypes again."
   ]
  },
  {
   "cell_type": "code",
   "execution_count": 38,
   "metadata": {},
   "outputs": [
    {
     "data": {
      "text/plain": [
       "Unnamed: 0            int64\n",
       "AnimalID             object\n",
       "Name_Intake          object\n",
       "DateTime_Intake      object\n",
       "FoundLocation        object\n",
       "IntakeType           object\n",
       "IntakeCondition      object\n",
       "AnimalType_Intake    object\n",
       "SexuponIntake        object\n",
       "AgeuponIntake        object\n",
       "Breed_Intake         object\n",
       "Color_Intake         object\n",
       "DateTime_Outcome     object\n",
       "DateofBirth          object\n",
       "SexuponOutcome       object\n",
       "AgeuponOutcome       object\n",
       "binary_outcome        int64\n",
       "dtype: object"
      ]
     },
     "execution_count": 38,
     "metadata": {},
     "output_type": "execute_result"
    }
   ],
   "source": [
    "#check the datatypes\n",
    "df.dtypes"
   ]
  },
  {
   "cell_type": "markdown",
   "metadata": {},
   "source": [
    "The datatypes have reverted back to their originals so in the cells below I re-run the code to convert them to the appropriate types. "
   ]
  },
  {
   "cell_type": "code",
   "execution_count": 39,
   "metadata": {},
   "outputs": [],
   "source": [
    "# create a list of datetime features\n",
    "datetime_columns = ['DateTime_Intake', 'DateTime_Outcome', 'DateofBirth']\n",
    "\n",
    "#convert all features in list to datatime64\n",
    "for column in datetime_columns: \n",
    "    df[column] = df[column].astype('datetime64')"
   ]
  },
  {
   "cell_type": "code",
   "execution_count": 40,
   "metadata": {},
   "outputs": [
    {
     "data": {
      "text/plain": [
       "Unnamed: 0                    int64\n",
       "AnimalID                     object\n",
       "Name_Intake                category\n",
       "DateTime_Intake      datetime64[ns]\n",
       "FoundLocation              category\n",
       "IntakeType                 category\n",
       "IntakeCondition            category\n",
       "AnimalType_Intake          category\n",
       "SexuponIntake              category\n",
       "AgeuponIntake              category\n",
       "Breed_Intake               category\n",
       "Color_Intake               category\n",
       "DateTime_Outcome     datetime64[ns]\n",
       "DateofBirth          datetime64[ns]\n",
       "SexuponOutcome             category\n",
       "AgeuponOutcome             category\n",
       "binary_outcome             category\n",
       "dtype: object"
      ]
     },
     "execution_count": 40,
     "metadata": {},
     "output_type": "execute_result"
    }
   ],
   "source": [
    "#Convert object columns to type 'category'\n",
    "\n",
    "object_columns = df.select_dtypes(['object']).columns\n",
    "for column in object_columns:\n",
    "    df[column] = df[column].astype('category')\n",
    "\n",
    "#convert binary outcome to category type\n",
    "df['binary_outcome'] = df['binary_outcome'].astype('category')\n",
    "\n",
    "#convert animal ID to an object type\n",
    "df['AnimalID'] = df['AnimalID'].astype('object')\n",
    "\n",
    "#check types have indeed changed\n",
    "df.dtypes"
   ]
  },
  {
   "cell_type": "markdown",
   "metadata": {},
   "source": [
    "The features are now converted back to their appropriate datatypes."
   ]
  },
  {
   "cell_type": "code",
   "execution_count": 41,
   "metadata": {},
   "outputs": [],
   "source": [
    "#delete the column 'Unnamed: 0' which has appeared in new csv file.\n",
    "#This is not part of the dataset and is not necessary.\n",
    "df = df.drop(['Unnamed: 0'], axis=1)"
   ]
  },
  {
   "cell_type": "markdown",
   "metadata": {},
   "source": [
    "### Descriptive statistics for continuous features\n",
    "\n",
    "At this stage in the assignment we are still visualising the data as it currently exists. As a result, there are no continuous feature to statistically analyse. If continuous features are implemented later on in the Data Quality Plan, a table of descriptive statistics will be generated then."
   ]
  },
  {
   "cell_type": "markdown",
   "metadata": {},
   "source": [
    "### Table of descriptive statistics for the categorical features"
   ]
  },
  {
   "cell_type": "markdown",
   "metadata": {},
   "source": [
    "We will now create a summary table for all categorical features."
   ]
  },
  {
   "cell_type": "code",
   "execution_count": 42,
   "metadata": {},
   "outputs": [
    {
     "data": {
      "text/html": [
       "<div>\n",
       "<style scoped>\n",
       "    .dataframe tbody tr th:only-of-type {\n",
       "        vertical-align: middle;\n",
       "    }\n",
       "\n",
       "    .dataframe tbody tr th {\n",
       "        vertical-align: top;\n",
       "    }\n",
       "\n",
       "    .dataframe thead th {\n",
       "        text-align: right;\n",
       "    }\n",
       "</style>\n",
       "<table border=\"1\" class=\"dataframe\">\n",
       "  <thead>\n",
       "    <tr style=\"text-align: right;\">\n",
       "      <th></th>\n",
       "      <th>count</th>\n",
       "      <th>unique</th>\n",
       "      <th>top</th>\n",
       "      <th>freq</th>\n",
       "    </tr>\n",
       "  </thead>\n",
       "  <tbody>\n",
       "    <tr>\n",
       "      <td>Name_Intake</td>\n",
       "      <td>694</td>\n",
       "      <td>603</td>\n",
       "      <td>Max</td>\n",
       "      <td>8</td>\n",
       "    </tr>\n",
       "    <tr>\n",
       "      <td>FoundLocation</td>\n",
       "      <td>1000</td>\n",
       "      <td>766</td>\n",
       "      <td>Austin (TX)</td>\n",
       "      <td>188</td>\n",
       "    </tr>\n",
       "    <tr>\n",
       "      <td>IntakeType</td>\n",
       "      <td>1000</td>\n",
       "      <td>5</td>\n",
       "      <td>Stray</td>\n",
       "      <td>708</td>\n",
       "    </tr>\n",
       "    <tr>\n",
       "      <td>IntakeCondition</td>\n",
       "      <td>1000</td>\n",
       "      <td>5</td>\n",
       "      <td>Normal</td>\n",
       "      <td>891</td>\n",
       "    </tr>\n",
       "    <tr>\n",
       "      <td>AnimalType_Intake</td>\n",
       "      <td>1000</td>\n",
       "      <td>4</td>\n",
       "      <td>Dog</td>\n",
       "      <td>563</td>\n",
       "    </tr>\n",
       "    <tr>\n",
       "      <td>SexuponIntake</td>\n",
       "      <td>1000</td>\n",
       "      <td>5</td>\n",
       "      <td>Intact Male</td>\n",
       "      <td>332</td>\n",
       "    </tr>\n",
       "    <tr>\n",
       "      <td>AgeuponIntake</td>\n",
       "      <td>1000</td>\n",
       "      <td>43</td>\n",
       "      <td>1 year</td>\n",
       "      <td>172</td>\n",
       "    </tr>\n",
       "    <tr>\n",
       "      <td>Breed_Intake</td>\n",
       "      <td>1000</td>\n",
       "      <td>211</td>\n",
       "      <td>Domestic Shorthair Mix</td>\n",
       "      <td>259</td>\n",
       "    </tr>\n",
       "    <tr>\n",
       "      <td>Color_Intake</td>\n",
       "      <td>1000</td>\n",
       "      <td>115</td>\n",
       "      <td>Black/White</td>\n",
       "      <td>106</td>\n",
       "    </tr>\n",
       "    <tr>\n",
       "      <td>SexuponOutcome</td>\n",
       "      <td>1000</td>\n",
       "      <td>5</td>\n",
       "      <td>Neutered Male</td>\n",
       "      <td>346</td>\n",
       "    </tr>\n",
       "    <tr>\n",
       "      <td>AgeuponOutcome</td>\n",
       "      <td>1000</td>\n",
       "      <td>42</td>\n",
       "      <td>1 year</td>\n",
       "      <td>170</td>\n",
       "    </tr>\n",
       "    <tr>\n",
       "      <td>binary_outcome</td>\n",
       "      <td>1000</td>\n",
       "      <td>2</td>\n",
       "      <td>0</td>\n",
       "      <td>920</td>\n",
       "    </tr>\n",
       "  </tbody>\n",
       "</table>\n",
       "</div>"
      ],
      "text/plain": [
       "                  count unique                     top freq\n",
       "Name_Intake         694    603                     Max    8\n",
       "FoundLocation      1000    766             Austin (TX)  188\n",
       "IntakeType         1000      5                   Stray  708\n",
       "IntakeCondition    1000      5                  Normal  891\n",
       "AnimalType_Intake  1000      4                     Dog  563\n",
       "SexuponIntake      1000      5             Intact Male  332\n",
       "AgeuponIntake      1000     43                  1 year  172\n",
       "Breed_Intake       1000    211  Domestic Shorthair Mix  259\n",
       "Color_Intake       1000    115             Black/White  106\n",
       "SexuponOutcome     1000      5           Neutered Male  346\n",
       "AgeuponOutcome     1000     42                  1 year  170\n",
       "binary_outcome     1000      2                       0  920"
      ]
     },
     "execution_count": 42,
     "metadata": {},
     "output_type": "execute_result"
    }
   ],
   "source": [
    "#create table for descriptive stats for categorical features\n",
    "\n",
    "category_cols = df.select_dtypes(['category']).columns\n",
    "df[category_cols].describe().T"
   ]
  },
  {
   "cell_type": "markdown",
   "metadata": {},
   "source": [
    "- It is useful to also visualise the percentage of missing values and the cardinality of all features. In the cell below I create a column for % missing value. I do not need to add a cardinality column as this information is already portrayed in the *unique* column.\n",
    "- A new dataframe is created which contains the percentage of missing values for each feature. "
   ]
  },
  {
   "cell_type": "code",
   "execution_count": 43,
   "metadata": {},
   "outputs": [],
   "source": [
    "#create missing column \n",
    "category_columns_perc_missing  = 100 * (df[category_cols].isnull().sum()/df.shape[0])\n",
    "\n",
    "# Store the values in a new dataframe\n",
    "category_columns_perc_missing = pd.DataFrame(category_columns_perc_missing, columns=['%missing'])"
   ]
  },
  {
   "cell_type": "markdown",
   "metadata": {},
   "source": [
    "We now create a table which contains the descriptive information for the categorical features implemented above. This table is concatenated with the table of missing values to give a final summary table for the categorical features. "
   ]
  },
  {
   "cell_type": "code",
   "execution_count": 44,
   "metadata": {},
   "outputs": [
    {
     "data": {
      "text/html": [
       "<div>\n",
       "<style scoped>\n",
       "    .dataframe tbody tr th:only-of-type {\n",
       "        vertical-align: middle;\n",
       "    }\n",
       "\n",
       "    .dataframe tbody tr th {\n",
       "        vertical-align: top;\n",
       "    }\n",
       "\n",
       "    .dataframe thead th {\n",
       "        text-align: right;\n",
       "    }\n",
       "</style>\n",
       "<table border=\"1\" class=\"dataframe\">\n",
       "  <thead>\n",
       "    <tr style=\"text-align: right;\">\n",
       "      <th></th>\n",
       "      <th>count</th>\n",
       "      <th>unique</th>\n",
       "      <th>top</th>\n",
       "      <th>freq</th>\n",
       "      <th>%missing</th>\n",
       "    </tr>\n",
       "  </thead>\n",
       "  <tbody>\n",
       "    <tr>\n",
       "      <td>Name_Intake</td>\n",
       "      <td>694</td>\n",
       "      <td>603</td>\n",
       "      <td>Max</td>\n",
       "      <td>8</td>\n",
       "      <td>30.6</td>\n",
       "    </tr>\n",
       "    <tr>\n",
       "      <td>FoundLocation</td>\n",
       "      <td>1000</td>\n",
       "      <td>766</td>\n",
       "      <td>Austin (TX)</td>\n",
       "      <td>188</td>\n",
       "      <td>0.0</td>\n",
       "    </tr>\n",
       "    <tr>\n",
       "      <td>IntakeType</td>\n",
       "      <td>1000</td>\n",
       "      <td>5</td>\n",
       "      <td>Stray</td>\n",
       "      <td>708</td>\n",
       "      <td>0.0</td>\n",
       "    </tr>\n",
       "    <tr>\n",
       "      <td>IntakeCondition</td>\n",
       "      <td>1000</td>\n",
       "      <td>5</td>\n",
       "      <td>Normal</td>\n",
       "      <td>891</td>\n",
       "      <td>0.0</td>\n",
       "    </tr>\n",
       "    <tr>\n",
       "      <td>AnimalType_Intake</td>\n",
       "      <td>1000</td>\n",
       "      <td>4</td>\n",
       "      <td>Dog</td>\n",
       "      <td>563</td>\n",
       "      <td>0.0</td>\n",
       "    </tr>\n",
       "    <tr>\n",
       "      <td>SexuponIntake</td>\n",
       "      <td>1000</td>\n",
       "      <td>5</td>\n",
       "      <td>Intact Male</td>\n",
       "      <td>332</td>\n",
       "      <td>0.0</td>\n",
       "    </tr>\n",
       "    <tr>\n",
       "      <td>AgeuponIntake</td>\n",
       "      <td>1000</td>\n",
       "      <td>43</td>\n",
       "      <td>1 year</td>\n",
       "      <td>172</td>\n",
       "      <td>0.0</td>\n",
       "    </tr>\n",
       "    <tr>\n",
       "      <td>Breed_Intake</td>\n",
       "      <td>1000</td>\n",
       "      <td>211</td>\n",
       "      <td>Domestic Shorthair Mix</td>\n",
       "      <td>259</td>\n",
       "      <td>0.0</td>\n",
       "    </tr>\n",
       "    <tr>\n",
       "      <td>Color_Intake</td>\n",
       "      <td>1000</td>\n",
       "      <td>115</td>\n",
       "      <td>Black/White</td>\n",
       "      <td>106</td>\n",
       "      <td>0.0</td>\n",
       "    </tr>\n",
       "    <tr>\n",
       "      <td>SexuponOutcome</td>\n",
       "      <td>1000</td>\n",
       "      <td>5</td>\n",
       "      <td>Neutered Male</td>\n",
       "      <td>346</td>\n",
       "      <td>0.0</td>\n",
       "    </tr>\n",
       "    <tr>\n",
       "      <td>AgeuponOutcome</td>\n",
       "      <td>1000</td>\n",
       "      <td>42</td>\n",
       "      <td>1 year</td>\n",
       "      <td>170</td>\n",
       "      <td>0.0</td>\n",
       "    </tr>\n",
       "    <tr>\n",
       "      <td>binary_outcome</td>\n",
       "      <td>1000</td>\n",
       "      <td>2</td>\n",
       "      <td>0</td>\n",
       "      <td>920</td>\n",
       "      <td>0.0</td>\n",
       "    </tr>\n",
       "  </tbody>\n",
       "</table>\n",
       "</div>"
      ],
      "text/plain": [
       "                  count unique                     top freq  %missing\n",
       "Name_Intake         694    603                     Max    8      30.6\n",
       "FoundLocation      1000    766             Austin (TX)  188       0.0\n",
       "IntakeType         1000      5                   Stray  708       0.0\n",
       "IntakeCondition    1000      5                  Normal  891       0.0\n",
       "AnimalType_Intake  1000      4                     Dog  563       0.0\n",
       "SexuponIntake      1000      5             Intact Male  332       0.0\n",
       "AgeuponIntake      1000     43                  1 year  172       0.0\n",
       "Breed_Intake       1000    211  Domestic Shorthair Mix  259       0.0\n",
       "Color_Intake       1000    115             Black/White  106       0.0\n",
       "SexuponOutcome     1000      5           Neutered Male  346       0.0\n",
       "AgeuponOutcome     1000     42                  1 year  170       0.0\n",
       "binary_outcome     1000      2                       0  920       0.0"
      ]
     },
     "execution_count": 44,
     "metadata": {},
     "output_type": "execute_result"
    }
   ],
   "source": [
    "# create category dataframe\n",
    "df_categorical_table = df[category_cols].describe().T\n",
    "\n",
    "# Put the columns together to prepare the final table for numeric_columns\n",
    "df_category_data_quality_report_table = pd.concat([df_categorical_table, category_columns_perc_missing], axis=1)\n",
    "\n",
    "df_category_data_quality_report_table"
   ]
  },
  {
   "cell_type": "markdown",
   "metadata": {},
   "source": [
    "#### Save the descriptive statistics for categorical features to csv for the Data Quality Report"
   ]
  },
  {
   "cell_type": "markdown",
   "metadata": {},
   "source": [
    "In the cell below we save this table to a csv file so that it can be included in the Data Quality Report. "
   ]
  },
  {
   "cell_type": "code",
   "execution_count": 45,
   "metadata": {},
   "outputs": [],
   "source": [
    "df_category_data_quality_report_table.to_csv(\"categoricalFeatureStatistics.csv\")"
   ]
  },
  {
   "cell_type": "markdown",
   "metadata": {},
   "source": [
    "### Table of descriptive statistics for the datetime features\n",
    "\n",
    "In the cell below I create a table of descriptive statistics for the datetime objects."
   ]
  },
  {
   "cell_type": "code",
   "execution_count": 46,
   "metadata": {
    "scrolled": true
   },
   "outputs": [
    {
     "data": {
      "text/html": [
       "<div>\n",
       "<style scoped>\n",
       "    .dataframe tbody tr th:only-of-type {\n",
       "        vertical-align: middle;\n",
       "    }\n",
       "\n",
       "    .dataframe tbody tr th {\n",
       "        vertical-align: top;\n",
       "    }\n",
       "\n",
       "    .dataframe thead th {\n",
       "        text-align: right;\n",
       "    }\n",
       "</style>\n",
       "<table border=\"1\" class=\"dataframe\">\n",
       "  <thead>\n",
       "    <tr style=\"text-align: right;\">\n",
       "      <th></th>\n",
       "      <th>count</th>\n",
       "      <th>unique</th>\n",
       "      <th>top</th>\n",
       "      <th>freq</th>\n",
       "      <th>first</th>\n",
       "      <th>last</th>\n",
       "    </tr>\n",
       "  </thead>\n",
       "  <tbody>\n",
       "    <tr>\n",
       "      <td>DateTime_Intake</td>\n",
       "      <td>1000</td>\n",
       "      <td>996</td>\n",
       "      <td>2018-05-20 15:04:00</td>\n",
       "      <td>2</td>\n",
       "      <td>2013-10-01 16:10:00</td>\n",
       "      <td>2020-01-26 12:05:00</td>\n",
       "    </tr>\n",
       "    <tr>\n",
       "      <td>DateTime_Outcome</td>\n",
       "      <td>1000</td>\n",
       "      <td>998</td>\n",
       "      <td>2018-05-20 18:32:00</td>\n",
       "      <td>2</td>\n",
       "      <td>2013-10-05 12:34:00</td>\n",
       "      <td>2020-02-03 17:45:00</td>\n",
       "    </tr>\n",
       "    <tr>\n",
       "      <td>DateofBirth</td>\n",
       "      <td>1000</td>\n",
       "      <td>872</td>\n",
       "      <td>2017-05-21 00:00:00</td>\n",
       "      <td>4</td>\n",
       "      <td>1997-06-11 00:00:00</td>\n",
       "      <td>2019-12-16 00:00:00</td>\n",
       "    </tr>\n",
       "  </tbody>\n",
       "</table>\n",
       "</div>"
      ],
      "text/plain": [
       "                 count unique                 top freq               first  \\\n",
       "DateTime_Intake   1000    996 2018-05-20 15:04:00    2 2013-10-01 16:10:00   \n",
       "DateTime_Outcome  1000    998 2018-05-20 18:32:00    2 2013-10-05 12:34:00   \n",
       "DateofBirth       1000    872 2017-05-21 00:00:00    4 1997-06-11 00:00:00   \n",
       "\n",
       "                                last  \n",
       "DateTime_Intake  2020-01-26 12:05:00  \n",
       "DateTime_Outcome 2020-02-03 17:45:00  \n",
       "DateofBirth      2019-12-16 00:00:00  "
      ]
     },
     "execution_count": 46,
     "metadata": {},
     "output_type": "execute_result"
    }
   ],
   "source": [
    "# create table of stats for datetime columns \n",
    "df[datetime_columns].describe().T"
   ]
  },
  {
   "cell_type": "markdown",
   "metadata": {},
   "source": [
    "**Running Assessment:**\n",
    "\n",
    "We can see that the table above is not as informative as the summary table for the categorical features. However, at this stage in the assignment we will analyse the data as it exists. This summary table gives us an idea of the range of dates entered, and that there are no highly anomalous dates entered. "
   ]
  },
  {
   "cell_type": "markdown",
   "metadata": {},
   "source": [
    "#### Save the descriptive statistics for datetime features to csv for the Data Quality Report"
   ]
  },
  {
   "cell_type": "markdown",
   "metadata": {},
   "source": [
    "The summary table for the datetime features is now saved to a csv file so that it can be included in the Data Quality Report. "
   ]
  },
  {
   "cell_type": "code",
   "execution_count": 47,
   "metadata": {},
   "outputs": [],
   "source": [
    "#save the data time summary table to csv\n",
    "date_time_data_quality_report_table = df[datetime_columns].describe().T\n",
    "date_time_data_quality_report_table.to_csv(\"datetimeFeatureStatistics.csv\")"
   ]
  },
  {
   "cell_type": "markdown",
   "metadata": {},
   "source": [
    "## Bar plots for categorical features"
   ]
  },
  {
   "cell_type": "markdown",
   "metadata": {},
   "source": [
    "- As dicussed above, at this stage in the assignment we do not have any continuous features to plot. As a result, we will now move on to plotting the categorical features.\n",
    "\n",
    "- We have already discussed how the categorical features *Name_Intake, FoundLocation, Breed_Intake* and *Color_Intake* have extremely high cardinalities. Box plots of these features will not be useful due to the high cardinalities. This issue will be addressed below. \n",
    "\n",
    "- First, we will create bar plots for all categorical features which have regular cardinalities. "
   ]
  },
  {
   "cell_type": "code",
   "execution_count": 48,
   "metadata": {},
   "outputs": [
    {
     "name": "stdout",
     "output_type": "stream",
     "text": [
      "Feature                              Unique Values\n",
      "-------                              --------------- \n",
      "\n",
      "Name_Intake                          604\n",
      "FoundLocation                        766\n",
      "IntakeType                           5\n",
      "IntakeCondition                      5\n",
      "AnimalType_Intake                    4\n",
      "SexuponIntake                        5\n",
      "AgeuponIntake                        43\n",
      "Breed_Intake                         211\n",
      "Color_Intake                         115\n",
      "SexuponOutcome                       5\n",
      "AgeuponOutcome                       42\n",
      "binary_outcome                       2\n"
     ]
    }
   ],
   "source": [
    "# visualise the cardinalities again so that I know which to plot initially\n",
    "category_columns = df.select_dtypes(['category']).columns\n",
    "cardinality_of_features = list(df[category_columns].columns.values)\n",
    "\n",
    "print('{0:35}  {1}'.format(\"Feature\", \"Unique Values\"))\n",
    "print('{0:35}  {1}'.format(\"-------\", \"--------------- \\n\"))\n",
    "\n",
    "for c in category_columns:\n",
    "    print('{0:35}  {1}'.format(c, str(len(df[c].unique()))))"
   ]
  },
  {
   "cell_type": "markdown",
   "metadata": {},
   "source": [
    "Next we will create a list of all features with regular cardinality. "
   ]
  },
  {
   "cell_type": "code",
   "execution_count": 49,
   "metadata": {},
   "outputs": [],
   "source": [
    "#create a list of categorical features with a regular cardinality\n",
    "categorical_with_low_cardinality = ['IntakeType', 'IntakeCondition', 'AnimalType_Intake',\n",
    "                            'SexuponIntake', 'AgeuponIntake', 'SexuponOutcome', \n",
    "                            'AgeuponOutcome', 'binary_outcome']"
   ]
  },
  {
   "cell_type": "code",
   "execution_count": 50,
   "metadata": {},
   "outputs": [
    {
     "data": {
      "image/png": "[encoded data removed]",
      "text/plain": [
       "<Figure size 864x720 with 1 Axes>"
      ]
     },
     "metadata": {
      "needs_background": "light"
     },
     "output_type": "display_data"
    },
    {
     "data": {
      "image/png": "[encoded data removed]",
      "text/plain": [
       "<Figure size 864x720 with 1 Axes>"
      ]
     },
     "metadata": {
      "needs_background": "light"
     },
     "output_type": "display_data"
    },
    {
     "data": {
      "image/png": "[encoded data removed]",
      "text/plain": [
       "<Figure size 864x720 with 1 Axes>"
      ]
     },
     "metadata": {
      "needs_background": "light"
     },
     "output_type": "display_data"
    },
    {
     "data": {
      "image/png": "[encoded data removed]",
      "text/plain": [
       "<Figure size 864x720 with 1 Axes>"
      ]
     },
     "metadata": {
      "needs_background": "light"
     },
     "output_type": "display_data"
    },
    {
     "data": {
      "image/png": "[encoded data removed]",
      "text/plain": [
       "<Figure size 864x720 with 1 Axes>"
      ]
     },
     "metadata": {
      "needs_background": "light"
     },
     "output_type": "display_data"
    },
    {
     "data": {
      "image/png": "[encoded data removed]",
      "text/plain": [
       "<Figure size 864x720 with 1 Axes>"
      ]
     },
     "metadata": {
      "needs_background": "light"
     },
     "output_type": "display_data"
    },
    {
     "data": {
      "image/png": "[encoded data removed]",
      "text/plain": [
       "<Figure size 864x720 with 1 Axes>"
      ]
     },
     "metadata": {
      "needs_background": "light"
     },
     "output_type": "display_data"
    },
    {
     "data": {
      "image/png": "[encoded data removed]",
      "text/plain": [
       "<Figure size 864x720 with 1 Axes>"
      ]
     },
     "metadata": {
      "needs_background": "light"
     },
     "output_type": "display_data"
    }
   ],
   "source": [
    "\n",
    "# Plot bar charts for all categorical features and save them in a single PDF file\n",
    "pp = PdfPages('AnimalWelfare_19205514_categorical_lowcardinality_barcharts.pdf')\n",
    "\n",
    "#plot bar plots for all features\n",
    "#dropna=Flase allows us to view the missing values\n",
    "for column in categorical_with_low_cardinality:\n",
    "    f = df[column].value_counts(dropna=False).plot(kind='bar', title=column, figsize=(12,10))\n",
    "    plt.ylabel('number of animals')\n",
    "    pp.savefig(f.get_figure())\n",
    "    plt.show()\n",
    "\n",
    "pp.close()"
   ]
  },
  {
   "cell_type": "markdown",
   "metadata": {},
   "source": [
    "### Categorical features with high cardinality\n",
    "\n",
    "We will now plot each of the high cardinality features separately. Based on the frequencies returned above when testing for irregular cardinalities and permitted values, we have decided a suitable number of values to include in the plots. At this stage in the assignment, these plots are to give an idea of the representation of the values in these features and to highlight the issue of the high cardinality which will be addressed in the Data Quality Plan."
   ]
  },
  {
   "cell_type": "markdown",
   "metadata": {},
   "source": [
    "#### Name_Intake: \n",
    "The top 18 most frequent names will be plotted. "
   ]
  },
  {
   "cell_type": "code",
   "execution_count": 51,
   "metadata": {},
   "outputs": [
    {
     "data": {
      "image/png": "[encoded data removed]",
      "text/plain": [
       "<Figure size 576x576 with 1 Axes>"
      ]
     },
     "metadata": {
      "needs_background": "light"
     },
     "output_type": "display_data"
    }
   ],
   "source": [
    "#plot top 18 most frequent as this makes sense based on the data above\n",
    "name_most_frequent_plot = df['Name_Intake'].value_counts()[:18].sort_values(ascending=False)\n",
    "name_most_frequent_plot.plot(kind='bar', title = \"Name_Intake\", figsize=(8,8))\n",
    "plt.ylabel('number of animals')\n",
    "#save to pdf\n",
    "plt.savefig('categorical_high_cardinality_NameIntake.pdf')"
   ]
  },
  {
   "cell_type": "markdown",
   "metadata": {},
   "source": [
    "#### Found Location: \n",
    "\n",
    "The top 14 most freuqent locations will be plotted. "
   ]
  },
  {
   "cell_type": "code",
   "execution_count": 52,
   "metadata": {},
   "outputs": [
    {
     "data": {
      "image/png": "[encoded data removed]",
      "text/plain": [
       "<Figure size 720x360 with 1 Axes>"
      ]
     },
     "metadata": {
      "needs_background": "light"
     },
     "output_type": "display_data"
    }
   ],
   "source": [
    "#plot 14 most frequent as this makes sense based on the data above.\n",
    "location_most_frequent_plot = df['FoundLocation'].value_counts()[:14].sort_values(ascending=False)\n",
    "location_most_frequent_plot.plot(kind='bar', title=\"FoundLocation\", figsize=(10,5))\n",
    "plt.ylabel('number of animals')\n",
    "#save to pdf\n",
    "plt.savefig('categorical_highcardinality_FoundLocation.pdf')"
   ]
  },
  {
   "cell_type": "markdown",
   "metadata": {},
   "source": [
    "#### Breed Intake: \n",
    "The top 15 most frequent values will be plotted. "
   ]
  },
  {
   "cell_type": "code",
   "execution_count": 53,
   "metadata": {},
   "outputs": [
    {
     "data": {
      "image/png": "[encoded data removed]",
      "text/plain": [
       "<Figure size 720x360 with 1 Axes>"
      ]
     },
     "metadata": {
      "needs_background": "light"
     },
     "output_type": "display_data"
    }
   ],
   "source": [
    "#plot top 15 most frequent as this makes sense based on the data above\n",
    "breed_most_frequent_plot = df['Breed_Intake'].value_counts()[:15].sort_values(ascending=False)\n",
    "breed_most_frequent_plot.plot(kind='bar', title=\"breed_Intake\", figsize=(10,5))\n",
    "plt.ylabel('number of animals')\n",
    "#save to pdf\n",
    "plt.savefig('categorical_highcardinality_Breed_Intake.pdf')"
   ]
  },
  {
   "cell_type": "markdown",
   "metadata": {},
   "source": [
    "#### Color Intake: \n",
    "The top 13 most frequent values will be plotted. "
   ]
  },
  {
   "cell_type": "code",
   "execution_count": 54,
   "metadata": {
    "scrolled": true
   },
   "outputs": [
    {
     "data": {
      "image/png": "[encoded data removed]",
      "text/plain": [
       "<Figure size 720x360 with 1 Axes>"
      ]
     },
     "metadata": {
      "needs_background": "light"
     },
     "output_type": "display_data"
    }
   ],
   "source": [
    "#plot top 13 most frequent as this makes sense based on the data above\n",
    "color_most_frequent_plot = df['Color_Intake'].value_counts()[:13].sort_values(ascending=False)\n",
    "color_most_frequent_plot.plot(kind='bar', title=\"color_Intake\", figsize=(10,5))\n",
    "plt.ylabel('number of animals')\n",
    "#save to pdf\n",
    "plt.savefig('categorical_high_cardinality_Color_Intake.pdf')"
   ]
  },
  {
   "cell_type": "markdown",
   "metadata": {},
   "source": [
    "#### Running Assesment: \n",
    " - **Cardinalities:** As already noted, the high cardinalities of some features are an issue. It is difficult to extract meaningful information from these cardinalities and they and may present problems for machine learning algorithms. \n",
    " - **Missing Values:** There are 306 missing values in the *Name_Intake* feature.\n",
    " - **Ambiguous values:** *Intake_Condition* and *AnimalType_Intake* have ambiguous values *Other*.\n",
    " \n",
    "### Initial Findings: \n",
    "\n",
    "Inital findings and detailed discussion for each feature can be found in the accompanying Data_Quality_Report.pdf file"
   ]
  },
  {
   "cell_type": "markdown",
   "metadata": {},
   "source": [
    "# (2) - Prepare a Data Quality Plan for the cleaned csv file. "
   ]
  },
  {
   "cell_type": "markdown",
   "metadata": {},
   "source": [
    "The initial list of issues as identified in the **Data_Quality_Report.pdf**:\n",
    "\n",
    "- 16 instances have failed logical integrity tests. \n",
    "- *Name_Intake* is missing 30.6% of values and has a high cardinality. \n",
    "- *Found_location* has an unusually high cardinality and inconsistent value format.\n",
    "- *AnimalType_Intake* has an ambiguous value \"Other\".\n",
    "- *Intake_Condition* has an ambiguous value \"Other\".\n",
    "- *AgeuponIntake* and *AgeuponOutcome* are not in a useful format.\n",
    "- *Breed_Intake* has an irregular cardinality.\n",
    "- *Color_Intake* has an irregular cardinality."
   ]
  },
  {
   "cell_type": "markdown",
   "metadata": {},
   "source": [
    "### Solutions to deal with the issues identified"
   ]
  },
  {
   "cell_type": "markdown",
   "metadata": {},
   "source": [
    "1. **Failed logical integrity tests.**\n",
    "All logical integrity test results should be investigated further to see if the data makes sense. It is recommended that values are corrected if it makes sense to do so. If not, these instances shall be dropped. \n",
    "2. **Missing name values**\n",
    "30.6% of names are missing. Imputing the values to the mode would change the central tendency too much. The percentage missing values is not high enough to immediately drop. Investigate the missing values further. If it makes sense to do so change all names to 'Yes' and all missing values to 'No'. This feature will then represent whether a name was provided or not.  \n",
    "3. **Found location**\n",
    "This feature should be split into two new features representing street and city. It is recommended that *FoundLocation* is replaced with the new city feature and that only the city is used for further analysis.\n",
    "4. **AnimalType_Intake**\n",
    "This feature has a value *Other* which is not providing much useful information. It should be investigated further and divided into more informative values if it makes sense to do so with the data. If not, this should be left as it is.\n",
    "5. **Intake Condition**\n",
    "This feature has a value *Other* which is not providing much useful information. It should be investigated further and imputed to a different value if it makes sense to do so based on the data. If not, this issue should be left as it is. \n",
    "6. **Format of age features**\n",
    "It is recommended that these features are transformed into days. Age should be measured in days rather than years to maintain accurracy. \n",
    "7. **Breed_Intake irregular cardinality**\n",
    "It is recommended that all values are divided into two values - 'Mixed Breed' and 'Pure Breed'. \n",
    "8. **Color Intake irregular cardinality**\n",
    "It is recommended that values are split into two values which will represent 'light' and 'dark' colours.\n"
   ]
  },
  {
   "cell_type": "markdown",
   "metadata": {},
   "source": [
    "### Apply solutions to obtain a new csv file."
   ]
  },
  {
   "cell_type": "markdown",
   "metadata": {},
   "source": [
    "1. **Failed logical integrity tests.**\n",
    "All logical integrity test results should be investigated further to see if the data makes sense. If the data does not make sense, it is recommended that values are changed if it makes sense to do so. If not, these instances shall be dropped. "
   ]
  },
  {
   "cell_type": "markdown",
   "metadata": {},
   "source": [
    " - **Test 1:** Check if the *'DateTime_Outcome'* is an earlier date than the *'DateTime_Intake'* for any of the animals. This would imply that the animal stayed a negative length of time in the shelter which is impossible.\n",
    "- We saw that in part 1 that 7 instances failed this test. \n",
    "- We will now investigate this result further by analysing the dates alongside the date of birth, age of intake and age of outcome to see if the data makes sense. "
   ]
  },
  {
   "cell_type": "code",
   "execution_count": 55,
   "metadata": {},
   "outputs": [
    {
     "data": {
      "text/html": [
       "<div>\n",
       "<style scoped>\n",
       "    .dataframe tbody tr th:only-of-type {\n",
       "        vertical-align: middle;\n",
       "    }\n",
       "\n",
       "    .dataframe tbody tr th {\n",
       "        vertical-align: top;\n",
       "    }\n",
       "\n",
       "    .dataframe thead th {\n",
       "        text-align: right;\n",
       "    }\n",
       "</style>\n",
       "<table border=\"1\" class=\"dataframe\">\n",
       "  <thead>\n",
       "    <tr style=\"text-align: right;\">\n",
       "      <th></th>\n",
       "      <th>DateTime_Outcome</th>\n",
       "      <th>DateTime_Intake</th>\n",
       "      <th>DateofBirth</th>\n",
       "      <th>AgeuponIntake</th>\n",
       "      <th>AgeuponOutcome</th>\n",
       "    </tr>\n",
       "  </thead>\n",
       "  <tbody>\n",
       "    <tr>\n",
       "      <td>150</td>\n",
       "      <td>2019-06-30 18:17:00</td>\n",
       "      <td>2019-07-01 16:20:00</td>\n",
       "      <td>2013-06-09</td>\n",
       "      <td>6 years</td>\n",
       "      <td>6 years</td>\n",
       "    </tr>\n",
       "    <tr>\n",
       "      <td>193</td>\n",
       "      <td>2016-09-21 12:28:00</td>\n",
       "      <td>2016-10-09 14:42:00</td>\n",
       "      <td>2015-09-03</td>\n",
       "      <td>1 year</td>\n",
       "      <td>1 year</td>\n",
       "    </tr>\n",
       "    <tr>\n",
       "      <td>286</td>\n",
       "      <td>2018-11-13 18:47:00</td>\n",
       "      <td>2018-12-09 11:36:00</td>\n",
       "      <td>2015-09-30</td>\n",
       "      <td>3 years</td>\n",
       "      <td>3 years</td>\n",
       "    </tr>\n",
       "    <tr>\n",
       "      <td>354</td>\n",
       "      <td>2018-09-09 17:08:00</td>\n",
       "      <td>2019-11-29 14:47:00</td>\n",
       "      <td>2016-06-07</td>\n",
       "      <td>3 years</td>\n",
       "      <td>2 years</td>\n",
       "    </tr>\n",
       "    <tr>\n",
       "      <td>443</td>\n",
       "      <td>2018-07-15 17:13:00</td>\n",
       "      <td>2018-10-13 12:30:00</td>\n",
       "      <td>2017-11-15</td>\n",
       "      <td>10 months</td>\n",
       "      <td>7 months</td>\n",
       "    </tr>\n",
       "    <tr>\n",
       "      <td>627</td>\n",
       "      <td>2019-07-03 18:36:00</td>\n",
       "      <td>2019-09-05 13:38:00</td>\n",
       "      <td>2016-04-18</td>\n",
       "      <td>3 years</td>\n",
       "      <td>3 years</td>\n",
       "    </tr>\n",
       "    <tr>\n",
       "      <td>929</td>\n",
       "      <td>2013-11-30 17:07:00</td>\n",
       "      <td>2015-02-04 17:54:00</td>\n",
       "      <td>2013-06-20</td>\n",
       "      <td>1 year</td>\n",
       "      <td>5 months</td>\n",
       "    </tr>\n",
       "  </tbody>\n",
       "</table>\n",
       "</div>"
      ],
      "text/plain": [
       "       DateTime_Outcome     DateTime_Intake DateofBirth AgeuponIntake  \\\n",
       "150 2019-06-30 18:17:00 2019-07-01 16:20:00  2013-06-09       6 years   \n",
       "193 2016-09-21 12:28:00 2016-10-09 14:42:00  2015-09-03        1 year   \n",
       "286 2018-11-13 18:47:00 2018-12-09 11:36:00  2015-09-30       3 years   \n",
       "354 2018-09-09 17:08:00 2019-11-29 14:47:00  2016-06-07       3 years   \n",
       "443 2018-07-15 17:13:00 2018-10-13 12:30:00  2017-11-15     10 months   \n",
       "627 2019-07-03 18:36:00 2019-09-05 13:38:00  2016-04-18       3 years   \n",
       "929 2013-11-30 17:07:00 2015-02-04 17:54:00  2013-06-20        1 year   \n",
       "\n",
       "    AgeuponOutcome  \n",
       "150        6 years  \n",
       "193         1 year  \n",
       "286        3 years  \n",
       "354        2 years  \n",
       "443       7 months  \n",
       "627        3 years  \n",
       "929       5 months  "
      ]
     },
     "execution_count": 55,
     "metadata": {},
     "output_type": "execute_result"
    }
   ],
   "source": [
    "#create a dataframe containing intstances which have date of outcome before date of intake\n",
    "test1_df = df[df['DateTime_Outcome'] < df['DateTime_Intake']]\n",
    "#show the relevant columns in this new dataframe\n",
    "test1_df[['DateTime_Outcome','DateTime_Intake','DateofBirth','AgeuponIntake','AgeuponOutcome']]"
   ]
  },
  {
   "cell_type": "markdown",
   "metadata": {},
   "source": [
    "We can see that the three features that failed test 5 are a subset of the features which fail test 1. The features which fail test 5 have an age of outcome which is less than the age of intake. We can see that there is a mix up in the dates and ages for these instances and as a result both tests will be investigated together. \n",
    "\n",
    "From analysing the data above it seems that the *DateTime_Intake* and *DateTime_Outcome* are switched. This is quite clear for indexes 354, 443 and 929 which are also the failing instances for test 5. Taking into account the inaccuracy of the ages provided in the dataset, we can see that the difference between the date of intake and date of outcome is appromxiately equal to the difference between their ages.\n",
    "\n",
    "It makes sense however, that the dates are also switched for the other four instances. This is because their length of stay in the shelter is short relative to the format of their age. As the ages in the dataset are an approximation, not enough time has passed for the ages to change while in the shelter. \n",
    "\n",
    "Thus we can safely assume that the *DateTime_Intake* and *DateTime_Outcome* are switched for these instaces. We can also assume that the *AgeuponIntake* and *AgeuponOutcome* are switched. We will now revert these switches below."
   ]
  },
  {
   "cell_type": "code",
   "execution_count": 56,
   "metadata": {},
   "outputs": [],
   "source": [
    "#rename each column with the name of the feature it is supposed to represent\n",
    "test1_df = test1_df.rename(columns = {'DateTime_Outcome':'DateTime_Intake', 'DateTime_Intake':'DateTime_Outcome', 'AgeuponIntake':'AgeuponOutcome', 'AgeuponOutcome':'AgeuponIntake'})"
   ]
  },
  {
   "cell_type": "markdown",
   "metadata": {},
   "source": [
    "In the cell below we update the dataframe based with the new values from the test1_df. The renamed columns will merge with the columns of the same name in our df."
   ]
  },
  {
   "cell_type": "code",
   "execution_count": 57,
   "metadata": {},
   "outputs": [],
   "source": [
    "#update our dataframe\n",
    "df.update(test1_df)"
   ]
  },
  {
   "cell_type": "markdown",
   "metadata": {},
   "source": [
    "In the cell below we will now run the test again to ensure that the invalid instances have been corrected. We expect that 0 rows will fail the test. "
   ]
  },
  {
   "cell_type": "code",
   "execution_count": 58,
   "metadata": {},
   "outputs": [
    {
     "name": "stdout",
     "output_type": "stream",
     "text": [
      "Number of rows failing the test:  0\n"
     ]
    },
    {
     "data": {
      "text/html": [
       "<div>\n",
       "<style scoped>\n",
       "    .dataframe tbody tr th:only-of-type {\n",
       "        vertical-align: middle;\n",
       "    }\n",
       "\n",
       "    .dataframe tbody tr th {\n",
       "        vertical-align: top;\n",
       "    }\n",
       "\n",
       "    .dataframe thead th {\n",
       "        text-align: right;\n",
       "    }\n",
       "</style>\n",
       "<table border=\"1\" class=\"dataframe\">\n",
       "  <thead>\n",
       "    <tr style=\"text-align: right;\">\n",
       "      <th></th>\n",
       "      <th>DateTime_Outcome</th>\n",
       "      <th>DateTime_Intake</th>\n",
       "    </tr>\n",
       "  </thead>\n",
       "  <tbody>\n",
       "  </tbody>\n",
       "</table>\n",
       "</div>"
      ],
      "text/plain": [
       "Empty DataFrame\n",
       "Columns: [DateTime_Outcome, DateTime_Intake]\n",
       "Index: []"
      ]
     },
     "execution_count": 58,
     "metadata": {},
     "output_type": "execute_result"
    }
   ],
   "source": [
    "#run test 1 again\n",
    "test_1 = df[['DateTime_Outcome','DateTime_Intake']][df['DateTime_Outcome'] < df['DateTime_Intake']]\n",
    "print(\"Number of rows failing the test: \", test_1.shape[0])\n",
    "test_1.head(7)"
   ]
  },
  {
   "cell_type": "markdown",
   "metadata": {},
   "source": [
    " - **Test 3:** Check if age of intake of any animal is zero. This is indeed plausible if an animal is born in the shelter. However, this will be tested to ensure there are not an unexpected number of animals aged zero as this may imply some invalid data. "
   ]
  },
  {
   "cell_type": "markdown",
   "metadata": {},
   "source": [
    "We saw that 5 instances failed this integrity test and had an age of entry of 0. In order to investigate further, the *DateofBirth* and *SexuponIntake* will be analysed for the failing instances. This will tell us if the data makes sense. "
   ]
  },
  {
   "cell_type": "code",
   "execution_count": 59,
   "metadata": {},
   "outputs": [
    {
     "data": {
      "text/html": [
       "<div>\n",
       "<style scoped>\n",
       "    .dataframe tbody tr th:only-of-type {\n",
       "        vertical-align: middle;\n",
       "    }\n",
       "\n",
       "    .dataframe tbody tr th {\n",
       "        vertical-align: top;\n",
       "    }\n",
       "\n",
       "    .dataframe thead th {\n",
       "        text-align: right;\n",
       "    }\n",
       "</style>\n",
       "<table border=\"1\" class=\"dataframe\">\n",
       "  <thead>\n",
       "    <tr style=\"text-align: right;\">\n",
       "      <th></th>\n",
       "      <th>SexuponIntake</th>\n",
       "      <th>DateTime_Intake</th>\n",
       "      <th>DateofBirth</th>\n",
       "    </tr>\n",
       "  </thead>\n",
       "  <tbody>\n",
       "    <tr>\n",
       "      <td>180</td>\n",
       "      <td>Unknown</td>\n",
       "      <td>2019-02-21 14:46:00</td>\n",
       "      <td>2019-02-21</td>\n",
       "    </tr>\n",
       "    <tr>\n",
       "      <td>497</td>\n",
       "      <td>Intact Female</td>\n",
       "      <td>2016-12-11 11:37:00</td>\n",
       "      <td>2016-12-11</td>\n",
       "    </tr>\n",
       "    <tr>\n",
       "      <td>668</td>\n",
       "      <td>Intact Male</td>\n",
       "      <td>2017-07-30 11:50:00</td>\n",
       "      <td>2017-07-30</td>\n",
       "    </tr>\n",
       "    <tr>\n",
       "      <td>811</td>\n",
       "      <td>Intact Female</td>\n",
       "      <td>2017-06-19 14:04:00</td>\n",
       "      <td>2017-06-19</td>\n",
       "    </tr>\n",
       "    <tr>\n",
       "      <td>842</td>\n",
       "      <td>Intact Male</td>\n",
       "      <td>2016-05-11 12:50:00</td>\n",
       "      <td>2016-05-11</td>\n",
       "    </tr>\n",
       "  </tbody>\n",
       "</table>\n",
       "</div>"
      ],
      "text/plain": [
       "     SexuponIntake     DateTime_Intake DateofBirth\n",
       "180        Unknown 2019-02-21 14:46:00  2019-02-21\n",
       "497  Intact Female 2016-12-11 11:37:00  2016-12-11\n",
       "668    Intact Male 2017-07-30 11:50:00  2017-07-30\n",
       "811  Intact Female 2017-06-19 14:04:00  2017-06-19\n",
       "842    Intact Male 2016-05-11 12:50:00  2016-05-11"
      ]
     },
     "execution_count": 59,
     "metadata": {},
     "output_type": "execute_result"
    }
   ],
   "source": [
    "#view the sexuponIntake and date of birth for the failing instances\n",
    "age_intake_zero_check = (df['DateTime_Intake'] - df['DateofBirth']).dt.days\n",
    "test_3 = df[age_intake_zero_check == 0]\n",
    "test_3[['SexuponIntake', 'DateTime_Intake','DateofBirth']]"
   ]
  },
  {
   "cell_type": "markdown",
   "metadata": {},
   "source": [
    "We can see in the table above that for all animals which have an age of intake of zero, the date of intake is the same as the date of birth. From this I take that these animals were born in the shelter. Furthermore, all of these instances are either an unknown sex or intact. As a newborn could not yet be spayed or neutered, this strengthens the case that they were born on this day. These instances will be left as is. "
   ]
  },
  {
   "cell_type": "markdown",
   "metadata": {},
   "source": [
    " - **Test 4:** Check if age of outcome of any animal is zero. This would imply that an animal left  the shelter on the day of their birth."
   ]
  },
  {
   "cell_type": "markdown",
   "metadata": {},
   "source": [
    "We saw above that one instance failed this logical integrity test. We will now investigate this result further by analysing the date of intake, date of outcome and binary outcome of this instance. "
   ]
  },
  {
   "cell_type": "code",
   "execution_count": 60,
   "metadata": {},
   "outputs": [
    {
     "data": {
      "text/html": [
       "<div>\n",
       "<style scoped>\n",
       "    .dataframe tbody tr th:only-of-type {\n",
       "        vertical-align: middle;\n",
       "    }\n",
       "\n",
       "    .dataframe tbody tr th {\n",
       "        vertical-align: top;\n",
       "    }\n",
       "\n",
       "    .dataframe thead th {\n",
       "        text-align: right;\n",
       "    }\n",
       "</style>\n",
       "<table border=\"1\" class=\"dataframe\">\n",
       "  <thead>\n",
       "    <tr style=\"text-align: right;\">\n",
       "      <th></th>\n",
       "      <th>DateTime_Intake</th>\n",
       "      <th>DateTime_Outcome</th>\n",
       "      <th>DateofBirth</th>\n",
       "      <th>binary_outcome</th>\n",
       "    </tr>\n",
       "  </thead>\n",
       "  <tbody>\n",
       "    <tr>\n",
       "      <td>668</td>\n",
       "      <td>2017-07-30 11:50:00</td>\n",
       "      <td>2017-07-30 16:51:00</td>\n",
       "      <td>2017-07-30</td>\n",
       "      <td>0</td>\n",
       "    </tr>\n",
       "  </tbody>\n",
       "</table>\n",
       "</div>"
      ],
      "text/plain": [
       "        DateTime_Intake    DateTime_Outcome DateofBirth binary_outcome\n",
       "668 2017-07-30 11:50:00 2017-07-30 16:51:00  2017-07-30              0"
      ]
     },
     "execution_count": 60,
     "metadata": {},
     "output_type": "execute_result"
    }
   ],
   "source": [
    "#create a dataframe containing the instances where age of outcome is zero\n",
    "#I subtract date of birth from date of intake and convert this value to days\n",
    "age_outcome_zero_check = (df['DateTime_Outcome'] - df['DateofBirth']).dt.days\n",
    "test_4 = df[age_outcome_zero_check == 0]\n",
    "test_4[['DateTime_Intake','DateTime_Outcome','DateofBirth', 'binary_outcome']]"
   ]
  },
  {
   "cell_type": "markdown",
   "metadata": {},
   "source": [
    "We can see that the animal seems to have left the shelter a few hours after entering. Furthermore the *binary_outcome* value of 0 tells us that the animal had a positive outcome and was either adopted or returned to their owner. It is assumed that an animal would not be adopted a few hours after being born. It must be assumed that the animal was returned to its owner after being born. This would be plausible if both the animal and its mother were in the shelter and both were returned to their owner together. Ideally we would need to speak to the domain expert to gain more information about whether this is invalid data. This instance will be left as it is. "
   ]
  },
  {
   "cell_type": "markdown",
   "metadata": {},
   "source": [
    " - **Test 5:** Check if age of outcome is less than age of intake for any animal. This would imply that the animal decreased in age in the shelter which is impossible. We saw that 3 instances had an age of outcome less than the age of intake. \n",
    " \n",
    "As dicussed in test 1, these instaces were a subset of test 1 and the issue has already been addressed. We will now run test 5 again to ensure that there are no failing instances. "
   ]
  },
  {
   "cell_type": "code",
   "execution_count": 61,
   "metadata": {},
   "outputs": [
    {
     "name": "stdout",
     "output_type": "stream",
     "text": [
      "Number of rows failing the test:  0\n"
     ]
    },
    {
     "data": {
      "text/html": [
       "<div>\n",
       "<style scoped>\n",
       "    .dataframe tbody tr th:only-of-type {\n",
       "        vertical-align: middle;\n",
       "    }\n",
       "\n",
       "    .dataframe tbody tr th {\n",
       "        vertical-align: top;\n",
       "    }\n",
       "\n",
       "    .dataframe thead th {\n",
       "        text-align: right;\n",
       "    }\n",
       "</style>\n",
       "<table border=\"1\" class=\"dataframe\">\n",
       "  <thead>\n",
       "    <tr style=\"text-align: right;\">\n",
       "      <th></th>\n",
       "      <th>AnimalID</th>\n",
       "      <th>Name_Intake</th>\n",
       "      <th>DateTime_Intake</th>\n",
       "      <th>FoundLocation</th>\n",
       "      <th>IntakeType</th>\n",
       "      <th>IntakeCondition</th>\n",
       "      <th>AnimalType_Intake</th>\n",
       "      <th>SexuponIntake</th>\n",
       "      <th>AgeuponIntake</th>\n",
       "      <th>Breed_Intake</th>\n",
       "      <th>Color_Intake</th>\n",
       "      <th>DateTime_Outcome</th>\n",
       "      <th>DateofBirth</th>\n",
       "      <th>SexuponOutcome</th>\n",
       "      <th>AgeuponOutcome</th>\n",
       "      <th>binary_outcome</th>\n",
       "    </tr>\n",
       "  </thead>\n",
       "  <tbody>\n",
       "  </tbody>\n",
       "</table>\n",
       "</div>"
      ],
      "text/plain": [
       "Empty DataFrame\n",
       "Columns: [AnimalID, Name_Intake, DateTime_Intake, FoundLocation, IntakeType, IntakeCondition, AnimalType_Intake, SexuponIntake, AgeuponIntake, Breed_Intake, Color_Intake, DateTime_Outcome, DateofBirth, SexuponOutcome, AgeuponOutcome, binary_outcome]\n",
       "Index: []"
      ]
     },
     "execution_count": 61,
     "metadata": {},
     "output_type": "execute_result"
    }
   ],
   "source": [
    "#run test 5 again\n",
    "negative_age_difference_check = (transform_age_feature(df['AgeuponOutcome'])-transform_age_feature(df['AgeuponIntake']))\n",
    "test_5 = df[negative_age_difference_check <0]\n",
    "#print out the number of rows failing the test\n",
    "print(\"Number of rows failing the test: \", test_5.shape[0])\n",
    "test_5.head(7)"
   ]
  },
  {
   "cell_type": "markdown",
   "metadata": {},
   "source": [
    "**2. Missing Name values**\n",
    "30.6% of the values for the *'Name_Intake'* feature are missing. This figure is too low to immediately drop the feature. However, this value is too high to impute the values to the mode which is 'Max'. I shall now investigate if there is any relationship between the missing name values, intake type, intake condition and binary outcome. "
   ]
  },
  {
   "cell_type": "code",
   "execution_count": 62,
   "metadata": {},
   "outputs": [
    {
     "data": {
      "text/html": [
       "<div>\n",
       "<style scoped>\n",
       "    .dataframe tbody tr th:only-of-type {\n",
       "        vertical-align: middle;\n",
       "    }\n",
       "\n",
       "    .dataframe tbody tr th {\n",
       "        vertical-align: top;\n",
       "    }\n",
       "\n",
       "    .dataframe thead th {\n",
       "        text-align: right;\n",
       "    }\n",
       "</style>\n",
       "<table border=\"1\" class=\"dataframe\">\n",
       "  <thead>\n",
       "    <tr style=\"text-align: right;\">\n",
       "      <th></th>\n",
       "      <th>Name_Intake</th>\n",
       "      <th>IntakeType</th>\n",
       "      <th>IntakeCondition</th>\n",
       "      <th>binary_outcome</th>\n",
       "    </tr>\n",
       "  </thead>\n",
       "  <tbody>\n",
       "    <tr>\n",
       "      <td>1</td>\n",
       "      <td>NaN</td>\n",
       "      <td>Stray</td>\n",
       "      <td>Other</td>\n",
       "      <td>0</td>\n",
       "    </tr>\n",
       "    <tr>\n",
       "      <td>11</td>\n",
       "      <td>NaN</td>\n",
       "      <td>Stray</td>\n",
       "      <td>Normal</td>\n",
       "      <td>0</td>\n",
       "    </tr>\n",
       "    <tr>\n",
       "      <td>15</td>\n",
       "      <td>NaN</td>\n",
       "      <td>Stray</td>\n",
       "      <td>Normal</td>\n",
       "      <td>0</td>\n",
       "    </tr>\n",
       "    <tr>\n",
       "      <td>16</td>\n",
       "      <td>NaN</td>\n",
       "      <td>Stray</td>\n",
       "      <td>Normal</td>\n",
       "      <td>0</td>\n",
       "    </tr>\n",
       "    <tr>\n",
       "      <td>17</td>\n",
       "      <td>NaN</td>\n",
       "      <td>Wildlife</td>\n",
       "      <td>Normal</td>\n",
       "      <td>1</td>\n",
       "    </tr>\n",
       "    <tr>\n",
       "      <td>26</td>\n",
       "      <td>NaN</td>\n",
       "      <td>Stray</td>\n",
       "      <td>Normal</td>\n",
       "      <td>0</td>\n",
       "    </tr>\n",
       "    <tr>\n",
       "      <td>29</td>\n",
       "      <td>NaN</td>\n",
       "      <td>Stray</td>\n",
       "      <td>Normal</td>\n",
       "      <td>1</td>\n",
       "    </tr>\n",
       "    <tr>\n",
       "      <td>30</td>\n",
       "      <td>NaN</td>\n",
       "      <td>Stray</td>\n",
       "      <td>Normal</td>\n",
       "      <td>0</td>\n",
       "    </tr>\n",
       "    <tr>\n",
       "      <td>34</td>\n",
       "      <td>NaN</td>\n",
       "      <td>Wildlife</td>\n",
       "      <td>Normal</td>\n",
       "      <td>1</td>\n",
       "    </tr>\n",
       "    <tr>\n",
       "      <td>38</td>\n",
       "      <td>NaN</td>\n",
       "      <td>Stray</td>\n",
       "      <td>Nursing</td>\n",
       "      <td>0</td>\n",
       "    </tr>\n",
       "    <tr>\n",
       "      <td>44</td>\n",
       "      <td>NaN</td>\n",
       "      <td>Stray</td>\n",
       "      <td>Normal</td>\n",
       "      <td>0</td>\n",
       "    </tr>\n",
       "    <tr>\n",
       "      <td>46</td>\n",
       "      <td>NaN</td>\n",
       "      <td>Stray</td>\n",
       "      <td>Normal</td>\n",
       "      <td>0</td>\n",
       "    </tr>\n",
       "    <tr>\n",
       "      <td>49</td>\n",
       "      <td>NaN</td>\n",
       "      <td>Stray</td>\n",
       "      <td>Normal</td>\n",
       "      <td>0</td>\n",
       "    </tr>\n",
       "    <tr>\n",
       "      <td>50</td>\n",
       "      <td>NaN</td>\n",
       "      <td>Stray</td>\n",
       "      <td>Normal</td>\n",
       "      <td>0</td>\n",
       "    </tr>\n",
       "    <tr>\n",
       "      <td>52</td>\n",
       "      <td>NaN</td>\n",
       "      <td>Wildlife</td>\n",
       "      <td>Sick</td>\n",
       "      <td>1</td>\n",
       "    </tr>\n",
       "    <tr>\n",
       "      <td>59</td>\n",
       "      <td>NaN</td>\n",
       "      <td>Stray</td>\n",
       "      <td>Normal</td>\n",
       "      <td>0</td>\n",
       "    </tr>\n",
       "    <tr>\n",
       "      <td>62</td>\n",
       "      <td>NaN</td>\n",
       "      <td>Stray</td>\n",
       "      <td>Sick</td>\n",
       "      <td>1</td>\n",
       "    </tr>\n",
       "    <tr>\n",
       "      <td>67</td>\n",
       "      <td>NaN</td>\n",
       "      <td>Stray</td>\n",
       "      <td>Normal</td>\n",
       "      <td>0</td>\n",
       "    </tr>\n",
       "    <tr>\n",
       "      <td>71</td>\n",
       "      <td>NaN</td>\n",
       "      <td>Public Assist</td>\n",
       "      <td>Normal</td>\n",
       "      <td>1</td>\n",
       "    </tr>\n",
       "    <tr>\n",
       "      <td>77</td>\n",
       "      <td>NaN</td>\n",
       "      <td>Stray</td>\n",
       "      <td>Normal</td>\n",
       "      <td>0</td>\n",
       "    </tr>\n",
       "  </tbody>\n",
       "</table>\n",
       "</div>"
      ],
      "text/plain": [
       "   Name_Intake     IntakeType IntakeCondition binary_outcome\n",
       "1          NaN          Stray           Other              0\n",
       "11         NaN          Stray          Normal              0\n",
       "15         NaN          Stray          Normal              0\n",
       "16         NaN          Stray          Normal              0\n",
       "17         NaN       Wildlife          Normal              1\n",
       "26         NaN          Stray          Normal              0\n",
       "29         NaN          Stray          Normal              1\n",
       "30         NaN          Stray          Normal              0\n",
       "34         NaN       Wildlife          Normal              1\n",
       "38         NaN          Stray         Nursing              0\n",
       "44         NaN          Stray          Normal              0\n",
       "46         NaN          Stray          Normal              0\n",
       "49         NaN          Stray          Normal              0\n",
       "50         NaN          Stray          Normal              0\n",
       "52         NaN       Wildlife            Sick              1\n",
       "59         NaN          Stray          Normal              0\n",
       "62         NaN          Stray            Sick              1\n",
       "67         NaN          Stray          Normal              0\n",
       "71         NaN  Public Assist          Normal              1\n",
       "77         NaN          Stray          Normal              0"
      ]
     },
     "execution_count": 62,
     "metadata": {},
     "output_type": "execute_result"
    }
   ],
   "source": [
    "#view the top 20 features with missing name values\n",
    "missing_name_investigation_df = df.loc[df['Name_Intake'].isnull()]\n",
    "#print out the following relevant columns\n",
    "missing_name_investigation_df[['Name_Intake', 'IntakeType', 'IntakeCondition', 'binary_outcome']].head(20)"
   ]
  },
  {
   "cell_type": "markdown",
   "metadata": {},
   "source": [
    " - We can see that in the cases where the animal has no name, the animal is either a stray of wildlife. This makes sense. We can see that there is no clear link between the condition and the lack of name, nor is there any pattern of outcome with the lack of name. It is assumed therefore, that the missing name values make sense and are not due to invalid data. \n",
    "\n",
    " - The figure 30.6% is too low to impute. If the values were imputed to the mode 'Max', the central tendancy would be skewed.\n",
    " \n",
    " - It is possible that the name of an animal has an impact on its outcome. That is, animals with names might be more likely to be adopted than animals with no names. For this reason, this feature shall not be dropped yet. However, as the cardinality is currently too high, we will replace all names with 'Yes' and all missing values with 'No'. This will allow us to investigate whether having a name or not affects the binary outcome. "
   ]
  },
  {
   "cell_type": "code",
   "execution_count": 63,
   "metadata": {},
   "outputs": [],
   "source": [
    "#replace missing values with 'No'\n",
    "df['Name_Intake'].fillna('No', inplace=True)"
   ]
  },
  {
   "cell_type": "code",
   "execution_count": 64,
   "metadata": {},
   "outputs": [],
   "source": [
    "#if the value is not 'No', change it to 'Yes'\n",
    "df['Name_Intake'][df.Name_Intake.str.contains('No')==0] = 'Yes'"
   ]
  },
  {
   "cell_type": "code",
   "execution_count": 65,
   "metadata": {},
   "outputs": [
    {
     "data": {
      "text/plain": [
       "array(['Yes', 'No'], dtype=object)"
      ]
     },
     "execution_count": 65,
     "metadata": {},
     "output_type": "execute_result"
    }
   ],
   "source": [
    "#check that there are two values - Yes and No\n",
    "df['Name_Intake'].unique()"
   ]
  },
  {
   "cell_type": "markdown",
   "metadata": {},
   "source": [
    "We can see that this feature now has two values. We now change the name of the feature to something more suitable.  "
   ]
  },
  {
   "cell_type": "code",
   "execution_count": 66,
   "metadata": {},
   "outputs": [],
   "source": [
    "#rename the Name_Intake column\n",
    "df = df.rename(columns = {'Name_Intake':'Name_Provided'})"
   ]
  },
  {
   "cell_type": "markdown",
   "metadata": {},
   "source": [
    "**3. Found_location has an unusually high cardinality of 766.**\n",
    "\n",
    "The found location has high cardinality of 766 and has inconsistent values. For example, the most frequent value is *'Austin (TX)'* and the majority of other values within the top 20 most frequent are streets in Austin such as *'7201 Levander Loop in Austin (TX)'*. These representations are inconsistent.\n",
    "\n",
    "A new dataframe shall be created in which this feature will be split into two new features - found street and found city. *FoundLocation* will be set equal to *FoundCity* in the new dataframe. In the cases where a street address is given, it is always in the format above with 'in' before the city name. As a result, the values shall be split with 'in' as the delimeter. "
   ]
  },
  {
   "cell_type": "code",
   "execution_count": 67,
   "metadata": {},
   "outputs": [],
   "source": [
    "#create new dataframe in which we will split the feature\n",
    "found_location_df = pd.DataFrame(\n",
    "    columns=[\"FoundStreet\",\"FoundCity\"])"
   ]
  },
  {
   "cell_type": "code",
   "execution_count": 68,
   "metadata": {},
   "outputs": [],
   "source": [
    "#create two new features for street and city\n",
    "found_location_df[['FoundStreet','FoundCity']] = df['FoundLocation'].str.split(\" in \",expand=True)"
   ]
  },
  {
   "cell_type": "code",
   "execution_count": 69,
   "metadata": {},
   "outputs": [
    {
     "data": {
      "text/plain": [
       "array(['Austin (TX)', 'Travis (TX)', None, 'Pflugerville (TX)',\n",
       "       'Webberville (TX)', 'Manor (TX)', 'Del Valle (TX)',\n",
       "       'Creedmoor (TX)', 'Leander (TX)', 'Cedar Park (TX)',\n",
       "       'Lakeway (TX)', 'Williamson (TX)', 'Lago Vista (TX)'], dtype=object)"
      ]
     },
     "execution_count": 69,
     "metadata": {},
     "output_type": "execute_result"
    }
   ],
   "source": [
    "#look at the unqiue values for new feature 'FoundCity'\n",
    "found_location_df['FoundCity'].unique()"
   ]
  },
  {
   "cell_type": "markdown",
   "metadata": {},
   "source": [
    "As we can see, a value within the new feature *'FoundCity'* is *'None'*. This is due to cases where no street name was given, so there was no 'in' to delimit the value at. To fix this in the cell below I fill in any empty values with the value from 'FoundStreet'."
   ]
  },
  {
   "cell_type": "code",
   "execution_count": 70,
   "metadata": {},
   "outputs": [],
   "source": [
    "# replace empty values with the value in 'FoundStreet' feature\n",
    "found_location_df['FoundCity'].fillna(found_location_df['FoundStreet'], inplace=True)"
   ]
  },
  {
   "cell_type": "code",
   "execution_count": 71,
   "metadata": {},
   "outputs": [],
   "source": [
    "#set foundlocation equal to found city\n",
    "df['FoundLocation']=found_location_df['FoundCity']"
   ]
  },
  {
   "cell_type": "markdown",
   "metadata": {},
   "source": [
    "The values above are the values that will be used in place of the 'FoundLocation' from now on. Below I will plot a barchart of these results, in order to compare to the barplot created in part 1 of this assignment, prior to fixing this issue. "
   ]
  },
  {
   "cell_type": "code",
   "execution_count": 72,
   "metadata": {},
   "outputs": [
    {
     "data": {
      "text/plain": [
       "Text(0, 0.5, 'number of animals')"
      ]
     },
     "execution_count": 72,
     "metadata": {},
     "output_type": "execute_result"
    },
    {
     "data": {
      "image/png": "[encoded data removed]",
      "text/plain": [
       "<Figure size 864x504 with 1 Axes>"
      ]
     },
     "metadata": {
      "needs_background": "light"
     },
     "output_type": "display_data"
    }
   ],
   "source": [
    "#plot found location\n",
    "location = df['FoundLocation'].value_counts().sort_values(ascending=False)\n",
    "location.plot(kind='bar', title=\"Found Location\", figsize=(12,7))\n",
    "plt.ylabel('number of animals')"
   ]
  },
  {
   "cell_type": "markdown",
   "metadata": {},
   "source": [
    "We can see from the above graph that the vast majority of animals are found in Austin. Another possible solution would have been to create two values based on whether the animal was found in Austin or not. However, the approach we have implemented gives a more detailed and accurate representation of the data. "
   ]
  },
  {
   "cell_type": "markdown",
   "metadata": {},
   "source": [
    "4. **Animal Type Intake**\n",
    "This feature has a value *Other* which is not providing much useful information. It should be investigated further and divided into more informative values if appropriate. \n",
    "\n",
    "We begin by visualising all of the instances which have a value *Other* for the feature *AnimalType_Intake*."
   ]
  },
  {
   "cell_type": "code",
   "execution_count": 73,
   "metadata": {},
   "outputs": [
    {
     "data": {
      "text/html": [
       "<div>\n",
       "<style scoped>\n",
       "    .dataframe tbody tr th:only-of-type {\n",
       "        vertical-align: middle;\n",
       "    }\n",
       "\n",
       "    .dataframe tbody tr th {\n",
       "        vertical-align: top;\n",
       "    }\n",
       "\n",
       "    .dataframe thead th {\n",
       "        text-align: right;\n",
       "    }\n",
       "</style>\n",
       "<table border=\"1\" class=\"dataframe\">\n",
       "  <thead>\n",
       "    <tr style=\"text-align: right;\">\n",
       "      <th></th>\n",
       "      <th>AnimalID</th>\n",
       "      <th>Name_Provided</th>\n",
       "      <th>DateTime_Intake</th>\n",
       "      <th>FoundLocation</th>\n",
       "      <th>IntakeType</th>\n",
       "      <th>IntakeCondition</th>\n",
       "      <th>AnimalType_Intake</th>\n",
       "      <th>SexuponIntake</th>\n",
       "      <th>AgeuponIntake</th>\n",
       "      <th>Breed_Intake</th>\n",
       "      <th>Color_Intake</th>\n",
       "      <th>DateTime_Outcome</th>\n",
       "      <th>DateofBirth</th>\n",
       "      <th>SexuponOutcome</th>\n",
       "      <th>AgeuponOutcome</th>\n",
       "      <th>binary_outcome</th>\n",
       "    </tr>\n",
       "  </thead>\n",
       "  <tbody>\n",
       "    <tr>\n",
       "      <td>17</td>\n",
       "      <td>A702088</td>\n",
       "      <td>No</td>\n",
       "      <td>2015-05-09 10:54:00</td>\n",
       "      <td>Austin (TX)</td>\n",
       "      <td>Wildlife</td>\n",
       "      <td>Normal</td>\n",
       "      <td>Other</td>\n",
       "      <td>Unknown</td>\n",
       "      <td>1 year</td>\n",
       "      <td>Raccoon</td>\n",
       "      <td>Gray/Black</td>\n",
       "      <td>2015-05-09 11:06:00</td>\n",
       "      <td>2014-05-09</td>\n",
       "      <td>Unknown</td>\n",
       "      <td>1 year</td>\n",
       "      <td>1</td>\n",
       "    </tr>\n",
       "    <tr>\n",
       "      <td>29</td>\n",
       "      <td>A768987</td>\n",
       "      <td>No</td>\n",
       "      <td>2018-03-28 16:09:00</td>\n",
       "      <td>Austin (TX)</td>\n",
       "      <td>Stray</td>\n",
       "      <td>Normal</td>\n",
       "      <td>Other</td>\n",
       "      <td>Unknown</td>\n",
       "      <td>2 years</td>\n",
       "      <td>Rabbit Sh Mix</td>\n",
       "      <td>White/Black</td>\n",
       "      <td>2018-04-16 18:29:00</td>\n",
       "      <td>2016-03-28</td>\n",
       "      <td>Unknown</td>\n",
       "      <td>2 years</td>\n",
       "      <td>1</td>\n",
       "    </tr>\n",
       "    <tr>\n",
       "      <td>34</td>\n",
       "      <td>A732284</td>\n",
       "      <td>No</td>\n",
       "      <td>2016-08-05 13:07:00</td>\n",
       "      <td>Austin (TX)</td>\n",
       "      <td>Wildlife</td>\n",
       "      <td>Normal</td>\n",
       "      <td>Other</td>\n",
       "      <td>Unknown</td>\n",
       "      <td>1 year</td>\n",
       "      <td>Bat</td>\n",
       "      <td>Black/Brown</td>\n",
       "      <td>2016-08-05 13:15:00</td>\n",
       "      <td>2015-08-05</td>\n",
       "      <td>Unknown</td>\n",
       "      <td>1 year</td>\n",
       "      <td>1</td>\n",
       "    </tr>\n",
       "    <tr>\n",
       "      <td>52</td>\n",
       "      <td>A783039</td>\n",
       "      <td>No</td>\n",
       "      <td>2018-10-24 15:07:00</td>\n",
       "      <td>Austin (TX)</td>\n",
       "      <td>Wildlife</td>\n",
       "      <td>Sick</td>\n",
       "      <td>Other</td>\n",
       "      <td>Unknown</td>\n",
       "      <td>2 years</td>\n",
       "      <td>Bat Mix</td>\n",
       "      <td>Black</td>\n",
       "      <td>2018-10-24 15:29:00</td>\n",
       "      <td>2016-10-24</td>\n",
       "      <td>Unknown</td>\n",
       "      <td>2 years</td>\n",
       "      <td>1</td>\n",
       "    </tr>\n",
       "    <tr>\n",
       "      <td>71</td>\n",
       "      <td>A793716</td>\n",
       "      <td>No</td>\n",
       "      <td>2019-04-28 23:23:00</td>\n",
       "      <td>Austin (TX)</td>\n",
       "      <td>Public Assist</td>\n",
       "      <td>Normal</td>\n",
       "      <td>Other</td>\n",
       "      <td>Unknown</td>\n",
       "      <td>1 year</td>\n",
       "      <td>Bat Mix</td>\n",
       "      <td>Brown</td>\n",
       "      <td>2019-04-29 08:55:00</td>\n",
       "      <td>2018-04-28</td>\n",
       "      <td>Unknown</td>\n",
       "      <td>1 year</td>\n",
       "      <td>1</td>\n",
       "    </tr>\n",
       "    <tr>\n",
       "      <td>79</td>\n",
       "      <td>A669526</td>\n",
       "      <td>No</td>\n",
       "      <td>2013-12-21 19:11:00</td>\n",
       "      <td>Travis (TX)</td>\n",
       "      <td>Wildlife</td>\n",
       "      <td>Normal</td>\n",
       "      <td>Other</td>\n",
       "      <td>Unknown</td>\n",
       "      <td>1 year</td>\n",
       "      <td>Bat Mix</td>\n",
       "      <td>Brown</td>\n",
       "      <td>2013-12-22 09:20:00</td>\n",
       "      <td>2012-12-21</td>\n",
       "      <td>Unknown</td>\n",
       "      <td>1 year</td>\n",
       "      <td>1</td>\n",
       "    </tr>\n",
       "    <tr>\n",
       "      <td>95</td>\n",
       "      <td>A679254</td>\n",
       "      <td>No</td>\n",
       "      <td>2014-05-18 09:48:00</td>\n",
       "      <td>Austin (TX)</td>\n",
       "      <td>Wildlife</td>\n",
       "      <td>Sick</td>\n",
       "      <td>Other</td>\n",
       "      <td>Unknown</td>\n",
       "      <td>1 year</td>\n",
       "      <td>Bat Mix</td>\n",
       "      <td>Brown</td>\n",
       "      <td>2014-05-18 10:38:00</td>\n",
       "      <td>2013-05-18</td>\n",
       "      <td>Unknown</td>\n",
       "      <td>1 year</td>\n",
       "      <td>1</td>\n",
       "    </tr>\n",
       "    <tr>\n",
       "      <td>101</td>\n",
       "      <td>A789835</td>\n",
       "      <td>No</td>\n",
       "      <td>2019-02-28 13:44:00</td>\n",
       "      <td>Austin (TX)</td>\n",
       "      <td>Stray</td>\n",
       "      <td>Normal</td>\n",
       "      <td>Other</td>\n",
       "      <td>Neutered Male</td>\n",
       "      <td>1 year</td>\n",
       "      <td>Ferret Mix</td>\n",
       "      <td>Tan</td>\n",
       "      <td>2019-03-04 12:06:00</td>\n",
       "      <td>2018-02-28</td>\n",
       "      <td>Neutered Male</td>\n",
       "      <td>1 year</td>\n",
       "      <td>0</td>\n",
       "    </tr>\n",
       "    <tr>\n",
       "      <td>113</td>\n",
       "      <td>A703428</td>\n",
       "      <td>Yes</td>\n",
       "      <td>2015-05-24 15:53:00</td>\n",
       "      <td>Del Valle (TX)</td>\n",
       "      <td>Stray</td>\n",
       "      <td>Normal</td>\n",
       "      <td>Other</td>\n",
       "      <td>Unknown</td>\n",
       "      <td>1 year</td>\n",
       "      <td>Rabbit Sh Mix</td>\n",
       "      <td>Brown</td>\n",
       "      <td>2015-06-07 11:06:00</td>\n",
       "      <td>2014-05-24</td>\n",
       "      <td>Unknown</td>\n",
       "      <td>1 year</td>\n",
       "      <td>0</td>\n",
       "    </tr>\n",
       "    <tr>\n",
       "      <td>122</td>\n",
       "      <td>A683379</td>\n",
       "      <td>No</td>\n",
       "      <td>2014-07-09 16:12:00</td>\n",
       "      <td>Austin (TX)</td>\n",
       "      <td>Stray</td>\n",
       "      <td>Normal</td>\n",
       "      <td>Other</td>\n",
       "      <td>Unknown</td>\n",
       "      <td>1 year</td>\n",
       "      <td>Hamster Mix</td>\n",
       "      <td>Gray/White</td>\n",
       "      <td>2014-07-11 11:10:00</td>\n",
       "      <td>2013-07-09</td>\n",
       "      <td>Unknown</td>\n",
       "      <td>1 year</td>\n",
       "      <td>0</td>\n",
       "    </tr>\n",
       "    <tr>\n",
       "      <td>133</td>\n",
       "      <td>A759914</td>\n",
       "      <td>No</td>\n",
       "      <td>2017-10-09 16:15:00</td>\n",
       "      <td>Austin (TX)</td>\n",
       "      <td>Wildlife</td>\n",
       "      <td>Sick</td>\n",
       "      <td>Other</td>\n",
       "      <td>Unknown</td>\n",
       "      <td>3 years</td>\n",
       "      <td>Raccoon Mix</td>\n",
       "      <td>Black/Gray</td>\n",
       "      <td>2017-10-10 08:47:00</td>\n",
       "      <td>2014-10-09</td>\n",
       "      <td>Unknown</td>\n",
       "      <td>3 years</td>\n",
       "      <td>1</td>\n",
       "    </tr>\n",
       "    <tr>\n",
       "      <td>134</td>\n",
       "      <td>A801002</td>\n",
       "      <td>No</td>\n",
       "      <td>2019-07-29 20:04:00</td>\n",
       "      <td>Austin (TX)</td>\n",
       "      <td>Public Assist</td>\n",
       "      <td>Normal</td>\n",
       "      <td>Other</td>\n",
       "      <td>Unknown</td>\n",
       "      <td>1 year</td>\n",
       "      <td>Bat</td>\n",
       "      <td>Brown</td>\n",
       "      <td>2019-07-30 10:09:00</td>\n",
       "      <td>2018-07-29</td>\n",
       "      <td>Unknown</td>\n",
       "      <td>1 year</td>\n",
       "      <td>1</td>\n",
       "    </tr>\n",
       "    <tr>\n",
       "      <td>167</td>\n",
       "      <td>A712339</td>\n",
       "      <td>No</td>\n",
       "      <td>2015-09-21 17:14:00</td>\n",
       "      <td>Austin (TX)</td>\n",
       "      <td>Wildlife</td>\n",
       "      <td>Normal</td>\n",
       "      <td>Other</td>\n",
       "      <td>Intact Male</td>\n",
       "      <td>6 months</td>\n",
       "      <td>Bat</td>\n",
       "      <td>Brown</td>\n",
       "      <td>2015-09-21 18:13:00</td>\n",
       "      <td>2015-03-21</td>\n",
       "      <td>Intact Male</td>\n",
       "      <td>6 months</td>\n",
       "      <td>1</td>\n",
       "    </tr>\n",
       "    <tr>\n",
       "      <td>188</td>\n",
       "      <td>A695888</td>\n",
       "      <td>No</td>\n",
       "      <td>2015-01-25 00:12:00</td>\n",
       "      <td>Austin (TX)</td>\n",
       "      <td>Wildlife</td>\n",
       "      <td>Normal</td>\n",
       "      <td>Other</td>\n",
       "      <td>Unknown</td>\n",
       "      <td>4 weeks</td>\n",
       "      <td>Bat</td>\n",
       "      <td>Brown/Black</td>\n",
       "      <td>2015-01-25 09:37:00</td>\n",
       "      <td>2014-12-25</td>\n",
       "      <td>Unknown</td>\n",
       "      <td>4 weeks</td>\n",
       "      <td>1</td>\n",
       "    </tr>\n",
       "    <tr>\n",
       "      <td>220</td>\n",
       "      <td>A810905</td>\n",
       "      <td>No</td>\n",
       "      <td>2019-12-22 14:31:00</td>\n",
       "      <td>Austin (TX)</td>\n",
       "      <td>Stray</td>\n",
       "      <td>Normal</td>\n",
       "      <td>Other</td>\n",
       "      <td>Unknown</td>\n",
       "      <td>1 year</td>\n",
       "      <td>Guinea Pig</td>\n",
       "      <td>Tricolor</td>\n",
       "      <td>2019-12-28 12:30:00</td>\n",
       "      <td>2018-12-22</td>\n",
       "      <td>Unknown</td>\n",
       "      <td>1 year</td>\n",
       "      <td>0</td>\n",
       "    </tr>\n",
       "    <tr>\n",
       "      <td>237</td>\n",
       "      <td>A764307</td>\n",
       "      <td>No</td>\n",
       "      <td>2017-12-27 15:22:00</td>\n",
       "      <td>Austin (TX)</td>\n",
       "      <td>Wildlife</td>\n",
       "      <td>Sick</td>\n",
       "      <td>Other</td>\n",
       "      <td>Unknown</td>\n",
       "      <td>1 year</td>\n",
       "      <td>Bat Mix</td>\n",
       "      <td>Brown</td>\n",
       "      <td>2017-12-27 15:40:00</td>\n",
       "      <td>2016-12-27</td>\n",
       "      <td>Unknown</td>\n",
       "      <td>1 year</td>\n",
       "      <td>1</td>\n",
       "    </tr>\n",
       "    <tr>\n",
       "      <td>248</td>\n",
       "      <td>A778824</td>\n",
       "      <td>No</td>\n",
       "      <td>2018-08-21 10:07:00</td>\n",
       "      <td>Austin (TX)</td>\n",
       "      <td>Wildlife</td>\n",
       "      <td>Sick</td>\n",
       "      <td>Other</td>\n",
       "      <td>Unknown</td>\n",
       "      <td>2 years</td>\n",
       "      <td>Raccoon Mix</td>\n",
       "      <td>Black/Gray</td>\n",
       "      <td>2018-08-22 08:47:00</td>\n",
       "      <td>2016-08-21</td>\n",
       "      <td>Unknown</td>\n",
       "      <td>2 years</td>\n",
       "      <td>1</td>\n",
       "    </tr>\n",
       "    <tr>\n",
       "      <td>267</td>\n",
       "      <td>A800104</td>\n",
       "      <td>No</td>\n",
       "      <td>2019-07-16 11:52:00</td>\n",
       "      <td>Austin (TX)</td>\n",
       "      <td>Public Assist</td>\n",
       "      <td>Normal</td>\n",
       "      <td>Other</td>\n",
       "      <td>Unknown</td>\n",
       "      <td>1 year</td>\n",
       "      <td>Cold Water</td>\n",
       "      <td>Black</td>\n",
       "      <td>2019-07-20 09:57:00</td>\n",
       "      <td>2018-07-16</td>\n",
       "      <td>Unknown</td>\n",
       "      <td>1 year</td>\n",
       "      <td>1</td>\n",
       "    </tr>\n",
       "    <tr>\n",
       "      <td>301</td>\n",
       "      <td>A701868</td>\n",
       "      <td>No</td>\n",
       "      <td>2015-05-05 14:55:00</td>\n",
       "      <td>Austin (TX)</td>\n",
       "      <td>Wildlife</td>\n",
       "      <td>Normal</td>\n",
       "      <td>Other</td>\n",
       "      <td>Unknown</td>\n",
       "      <td>5 days</td>\n",
       "      <td>Opossum</td>\n",
       "      <td>Gray</td>\n",
       "      <td>2015-05-05 15:34:00</td>\n",
       "      <td>2015-04-30</td>\n",
       "      <td>Unknown</td>\n",
       "      <td>5 days</td>\n",
       "      <td>1</td>\n",
       "    </tr>\n",
       "    <tr>\n",
       "      <td>350</td>\n",
       "      <td>A769623</td>\n",
       "      <td>Yes</td>\n",
       "      <td>2018-04-07 13:32:00</td>\n",
       "      <td>Travis (TX)</td>\n",
       "      <td>Stray</td>\n",
       "      <td>Normal</td>\n",
       "      <td>Other</td>\n",
       "      <td>Intact Male</td>\n",
       "      <td>1 year</td>\n",
       "      <td>Californian Mix</td>\n",
       "      <td>White/Black</td>\n",
       "      <td>2018-06-11 11:29:00</td>\n",
       "      <td>2017-04-07</td>\n",
       "      <td>Neutered Male</td>\n",
       "      <td>1 year</td>\n",
       "      <td>0</td>\n",
       "    </tr>\n",
       "    <tr>\n",
       "      <td>372</td>\n",
       "      <td>A767929</td>\n",
       "      <td>No</td>\n",
       "      <td>2018-03-09 15:33:00</td>\n",
       "      <td>Austin (TX)</td>\n",
       "      <td>Wildlife</td>\n",
       "      <td>Normal</td>\n",
       "      <td>Other</td>\n",
       "      <td>Unknown</td>\n",
       "      <td>1 year</td>\n",
       "      <td>Bat Mix</td>\n",
       "      <td>Brown</td>\n",
       "      <td>2018-03-11 10:06:00</td>\n",
       "      <td>2017-03-09</td>\n",
       "      <td>Unknown</td>\n",
       "      <td>1 year</td>\n",
       "      <td>1</td>\n",
       "    </tr>\n",
       "    <tr>\n",
       "      <td>420</td>\n",
       "      <td>A715143</td>\n",
       "      <td>No</td>\n",
       "      <td>2015-11-01 02:09:00</td>\n",
       "      <td>Austin (TX)</td>\n",
       "      <td>Wildlife</td>\n",
       "      <td>Normal</td>\n",
       "      <td>Other</td>\n",
       "      <td>Unknown</td>\n",
       "      <td>4 weeks</td>\n",
       "      <td>Bat</td>\n",
       "      <td>Brown/Black</td>\n",
       "      <td>2015-11-01 10:38:00</td>\n",
       "      <td>2015-10-01</td>\n",
       "      <td>Unknown</td>\n",
       "      <td>4 weeks</td>\n",
       "      <td>1</td>\n",
       "    </tr>\n",
       "    <tr>\n",
       "      <td>421</td>\n",
       "      <td>A745603</td>\n",
       "      <td>No</td>\n",
       "      <td>2017-03-20 21:49:00</td>\n",
       "      <td>Austin (TX)</td>\n",
       "      <td>Wildlife</td>\n",
       "      <td>Normal</td>\n",
       "      <td>Other</td>\n",
       "      <td>Unknown</td>\n",
       "      <td>1 year</td>\n",
       "      <td>Bat Mix</td>\n",
       "      <td>Brown</td>\n",
       "      <td>2017-03-21 07:48:00</td>\n",
       "      <td>2016-03-20</td>\n",
       "      <td>Unknown</td>\n",
       "      <td>1 year</td>\n",
       "      <td>1</td>\n",
       "    </tr>\n",
       "    <tr>\n",
       "      <td>429</td>\n",
       "      <td>A697125</td>\n",
       "      <td>No</td>\n",
       "      <td>2015-02-18 12:54:00</td>\n",
       "      <td>Travis (TX)</td>\n",
       "      <td>Public Assist</td>\n",
       "      <td>Normal</td>\n",
       "      <td>Other</td>\n",
       "      <td>Unknown</td>\n",
       "      <td>2 years</td>\n",
       "      <td>Bat Mix</td>\n",
       "      <td>Brown</td>\n",
       "      <td>2015-02-18 13:16:00</td>\n",
       "      <td>2013-02-18</td>\n",
       "      <td>Unknown</td>\n",
       "      <td>2 years</td>\n",
       "      <td>1</td>\n",
       "    </tr>\n",
       "    <tr>\n",
       "      <td>438</td>\n",
       "      <td>A718961</td>\n",
       "      <td>No</td>\n",
       "      <td>2016-01-10 11:23:00</td>\n",
       "      <td>Austin (TX)</td>\n",
       "      <td>Wildlife</td>\n",
       "      <td>Normal</td>\n",
       "      <td>Other</td>\n",
       "      <td>Unknown</td>\n",
       "      <td>1 year</td>\n",
       "      <td>Raccoon</td>\n",
       "      <td>Gray/Black</td>\n",
       "      <td>2016-01-10 18:06:00</td>\n",
       "      <td>2015-01-10</td>\n",
       "      <td>Unknown</td>\n",
       "      <td>1 year</td>\n",
       "      <td>1</td>\n",
       "    </tr>\n",
       "    <tr>\n",
       "      <td>460</td>\n",
       "      <td>A676970</td>\n",
       "      <td>No</td>\n",
       "      <td>2014-04-17 15:58:00</td>\n",
       "      <td>Austin (TX)</td>\n",
       "      <td>Wildlife</td>\n",
       "      <td>Sick</td>\n",
       "      <td>Other</td>\n",
       "      <td>Unknown</td>\n",
       "      <td>1 year</td>\n",
       "      <td>Skunk Mix</td>\n",
       "      <td>Black/White</td>\n",
       "      <td>2014-04-17 16:45:00</td>\n",
       "      <td>2013-04-17</td>\n",
       "      <td>Unknown</td>\n",
       "      <td>1 year</td>\n",
       "      <td>1</td>\n",
       "    </tr>\n",
       "    <tr>\n",
       "      <td>461</td>\n",
       "      <td>A767805</td>\n",
       "      <td>No</td>\n",
       "      <td>2018-03-06 20:45:00</td>\n",
       "      <td>Travis (TX)</td>\n",
       "      <td>Wildlife</td>\n",
       "      <td>Sick</td>\n",
       "      <td>Other</td>\n",
       "      <td>Unknown</td>\n",
       "      <td>2 years</td>\n",
       "      <td>Bat Mix</td>\n",
       "      <td>Black</td>\n",
       "      <td>2018-03-07 07:48:00</td>\n",
       "      <td>2016-03-06</td>\n",
       "      <td>Unknown</td>\n",
       "      <td>2 years</td>\n",
       "      <td>1</td>\n",
       "    </tr>\n",
       "    <tr>\n",
       "      <td>489</td>\n",
       "      <td>A747347</td>\n",
       "      <td>No</td>\n",
       "      <td>2017-04-18 13:02:00</td>\n",
       "      <td>Austin (TX)</td>\n",
       "      <td>Stray</td>\n",
       "      <td>Normal</td>\n",
       "      <td>Other</td>\n",
       "      <td>Neutered Male</td>\n",
       "      <td>1 year</td>\n",
       "      <td>Guinea Pig Mix</td>\n",
       "      <td>Calico</td>\n",
       "      <td>2017-04-22 11:15:00</td>\n",
       "      <td>2016-04-18</td>\n",
       "      <td>Neutered Male</td>\n",
       "      <td>1 year</td>\n",
       "      <td>0</td>\n",
       "    </tr>\n",
       "    <tr>\n",
       "      <td>494</td>\n",
       "      <td>A680029</td>\n",
       "      <td>No</td>\n",
       "      <td>2014-05-29 10:16:00</td>\n",
       "      <td>Austin (TX)</td>\n",
       "      <td>Wildlife</td>\n",
       "      <td>Injured</td>\n",
       "      <td>Other</td>\n",
       "      <td>Intact Male</td>\n",
       "      <td>1 year</td>\n",
       "      <td>Opossum</td>\n",
       "      <td>Gray/White</td>\n",
       "      <td>2014-05-29 10:53:00</td>\n",
       "      <td>2013-05-29</td>\n",
       "      <td>Intact Male</td>\n",
       "      <td>1 year</td>\n",
       "      <td>1</td>\n",
       "    </tr>\n",
       "    <tr>\n",
       "      <td>496</td>\n",
       "      <td>A737933</td>\n",
       "      <td>No</td>\n",
       "      <td>2016-11-07 09:32:00</td>\n",
       "      <td>Austin (TX)</td>\n",
       "      <td>Wildlife</td>\n",
       "      <td>Sick</td>\n",
       "      <td>Other</td>\n",
       "      <td>Unknown</td>\n",
       "      <td>1 year</td>\n",
       "      <td>Raccoon</td>\n",
       "      <td>Gray/Black</td>\n",
       "      <td>2016-11-07 09:46:00</td>\n",
       "      <td>2015-11-07</td>\n",
       "      <td>Unknown</td>\n",
       "      <td>1 year</td>\n",
       "      <td>1</td>\n",
       "    </tr>\n",
       "    <tr>\n",
       "      <td>498</td>\n",
       "      <td>A769895</td>\n",
       "      <td>No</td>\n",
       "      <td>2018-04-12 11:05:00</td>\n",
       "      <td>Austin (TX)</td>\n",
       "      <td>Stray</td>\n",
       "      <td>Normal</td>\n",
       "      <td>Other</td>\n",
       "      <td>Unknown</td>\n",
       "      <td>4 months</td>\n",
       "      <td>Rabbit Sh Mix</td>\n",
       "      <td>Black</td>\n",
       "      <td>2018-04-12 18:16:00</td>\n",
       "      <td>2017-11-12</td>\n",
       "      <td>Unknown</td>\n",
       "      <td>4 months</td>\n",
       "      <td>1</td>\n",
       "    </tr>\n",
       "    <tr>\n",
       "      <td>538</td>\n",
       "      <td>A728836</td>\n",
       "      <td>No</td>\n",
       "      <td>2016-06-09 11:29:00</td>\n",
       "      <td>Austin (TX)</td>\n",
       "      <td>Wildlife</td>\n",
       "      <td>Injured</td>\n",
       "      <td>Other</td>\n",
       "      <td>Unknown</td>\n",
       "      <td>2 years</td>\n",
       "      <td>Raccoon Mix</td>\n",
       "      <td>Gray/Black</td>\n",
       "      <td>2016-06-09 11:44:00</td>\n",
       "      <td>2014-06-09</td>\n",
       "      <td>Unknown</td>\n",
       "      <td>2 years</td>\n",
       "      <td>1</td>\n",
       "    </tr>\n",
       "    <tr>\n",
       "      <td>539</td>\n",
       "      <td>A713915</td>\n",
       "      <td>No</td>\n",
       "      <td>2015-10-15 08:47:00</td>\n",
       "      <td>Austin (TX)</td>\n",
       "      <td>Stray</td>\n",
       "      <td>Normal</td>\n",
       "      <td>Other</td>\n",
       "      <td>Unknown</td>\n",
       "      <td>1 year</td>\n",
       "      <td>Snake</td>\n",
       "      <td>Brown</td>\n",
       "      <td>2015-10-17 15:16:00</td>\n",
       "      <td>2014-10-15</td>\n",
       "      <td>Unknown</td>\n",
       "      <td>1 year</td>\n",
       "      <td>0</td>\n",
       "    </tr>\n",
       "    <tr>\n",
       "      <td>595</td>\n",
       "      <td>A728496</td>\n",
       "      <td>No</td>\n",
       "      <td>2016-06-04 22:37:00</td>\n",
       "      <td>Austin (TX)</td>\n",
       "      <td>Wildlife</td>\n",
       "      <td>Injured</td>\n",
       "      <td>Other</td>\n",
       "      <td>Unknown</td>\n",
       "      <td>1 year</td>\n",
       "      <td>Bat Mix</td>\n",
       "      <td>Brown</td>\n",
       "      <td>2016-06-05 10:02:00</td>\n",
       "      <td>2015-06-04</td>\n",
       "      <td>Unknown</td>\n",
       "      <td>1 year</td>\n",
       "      <td>1</td>\n",
       "    </tr>\n",
       "    <tr>\n",
       "      <td>597</td>\n",
       "      <td>A737294</td>\n",
       "      <td>Yes</td>\n",
       "      <td>2016-10-25 11:31:00</td>\n",
       "      <td>Travis (TX)</td>\n",
       "      <td>Owner Surrender</td>\n",
       "      <td>Normal</td>\n",
       "      <td>Other</td>\n",
       "      <td>Intact Female</td>\n",
       "      <td>1 year</td>\n",
       "      <td>Guinea Pig</td>\n",
       "      <td>Calico</td>\n",
       "      <td>2016-10-25 16:47:00</td>\n",
       "      <td>2015-04-25</td>\n",
       "      <td>Intact Female</td>\n",
       "      <td>1 year</td>\n",
       "      <td>0</td>\n",
       "    </tr>\n",
       "    <tr>\n",
       "      <td>636</td>\n",
       "      <td>A720191</td>\n",
       "      <td>Yes</td>\n",
       "      <td>2016-02-04 11:38:00</td>\n",
       "      <td>Austin (TX)</td>\n",
       "      <td>Stray</td>\n",
       "      <td>Normal</td>\n",
       "      <td>Other</td>\n",
       "      <td>Intact Male</td>\n",
       "      <td>2 years</td>\n",
       "      <td>Lop-Holland</td>\n",
       "      <td>White/Black</td>\n",
       "      <td>2016-02-04 18:31:00</td>\n",
       "      <td>2013-08-04</td>\n",
       "      <td>Intact Male</td>\n",
       "      <td>2 years</td>\n",
       "      <td>0</td>\n",
       "    </tr>\n",
       "    <tr>\n",
       "      <td>640</td>\n",
       "      <td>A772248</td>\n",
       "      <td>No</td>\n",
       "      <td>2018-05-16 15:20:00</td>\n",
       "      <td>Austin (TX)</td>\n",
       "      <td>Wildlife</td>\n",
       "      <td>Normal</td>\n",
       "      <td>Other</td>\n",
       "      <td>Unknown</td>\n",
       "      <td>2 years</td>\n",
       "      <td>Bat Mix</td>\n",
       "      <td>Brown</td>\n",
       "      <td>2018-05-17 11:10:00</td>\n",
       "      <td>2016-05-16</td>\n",
       "      <td>Unknown</td>\n",
       "      <td>2 years</td>\n",
       "      <td>1</td>\n",
       "    </tr>\n",
       "    <tr>\n",
       "      <td>649</td>\n",
       "      <td>A737981</td>\n",
       "      <td>No</td>\n",
       "      <td>2016-11-07 17:22:00</td>\n",
       "      <td>Austin (TX)</td>\n",
       "      <td>Wildlife</td>\n",
       "      <td>Normal</td>\n",
       "      <td>Other</td>\n",
       "      <td>Unknown</td>\n",
       "      <td>1 year</td>\n",
       "      <td>Skunk Mix</td>\n",
       "      <td>Black/White</td>\n",
       "      <td>2016-11-07 17:49:00</td>\n",
       "      <td>2015-11-07</td>\n",
       "      <td>Unknown</td>\n",
       "      <td>1 year</td>\n",
       "      <td>1</td>\n",
       "    </tr>\n",
       "    <tr>\n",
       "      <td>671</td>\n",
       "      <td>A787933</td>\n",
       "      <td>No</td>\n",
       "      <td>2019-01-22 19:51:00</td>\n",
       "      <td>Austin (TX)</td>\n",
       "      <td>Public Assist</td>\n",
       "      <td>Normal</td>\n",
       "      <td>Other</td>\n",
       "      <td>Unknown</td>\n",
       "      <td>1 year</td>\n",
       "      <td>Bat Mix</td>\n",
       "      <td>Brown</td>\n",
       "      <td>2019-01-23 11:23:00</td>\n",
       "      <td>2018-01-22</td>\n",
       "      <td>Unknown</td>\n",
       "      <td>1 year</td>\n",
       "      <td>1</td>\n",
       "    </tr>\n",
       "    <tr>\n",
       "      <td>680</td>\n",
       "      <td>A723234</td>\n",
       "      <td>No</td>\n",
       "      <td>2016-03-28 16:08:00</td>\n",
       "      <td>Austin (TX)</td>\n",
       "      <td>Wildlife</td>\n",
       "      <td>Sick</td>\n",
       "      <td>Other</td>\n",
       "      <td>Unknown</td>\n",
       "      <td>5 months</td>\n",
       "      <td>Bat</td>\n",
       "      <td>Brown</td>\n",
       "      <td>2016-03-30 10:15:00</td>\n",
       "      <td>2015-09-28</td>\n",
       "      <td>Unknown</td>\n",
       "      <td>6 months</td>\n",
       "      <td>1</td>\n",
       "    </tr>\n",
       "    <tr>\n",
       "      <td>702</td>\n",
       "      <td>A685544</td>\n",
       "      <td>No</td>\n",
       "      <td>2014-08-09 00:13:00</td>\n",
       "      <td>Austin (TX)</td>\n",
       "      <td>Wildlife</td>\n",
       "      <td>Normal</td>\n",
       "      <td>Other</td>\n",
       "      <td>Unknown</td>\n",
       "      <td>4 weeks</td>\n",
       "      <td>Bat</td>\n",
       "      <td>Brown/Black</td>\n",
       "      <td>2014-08-09 09:31:00</td>\n",
       "      <td>2014-07-09</td>\n",
       "      <td>Unknown</td>\n",
       "      <td>4 weeks</td>\n",
       "      <td>1</td>\n",
       "    </tr>\n",
       "    <tr>\n",
       "      <td>712</td>\n",
       "      <td>A804335</td>\n",
       "      <td>No</td>\n",
       "      <td>2019-09-13 13:09:00</td>\n",
       "      <td>Austin (TX)</td>\n",
       "      <td>Wildlife</td>\n",
       "      <td>Normal</td>\n",
       "      <td>Other</td>\n",
       "      <td>Unknown</td>\n",
       "      <td>1 year</td>\n",
       "      <td>Bat</td>\n",
       "      <td>Brown</td>\n",
       "      <td>2019-09-14 09:34:00</td>\n",
       "      <td>2018-09-13</td>\n",
       "      <td>Unknown</td>\n",
       "      <td>1 year</td>\n",
       "      <td>1</td>\n",
       "    </tr>\n",
       "    <tr>\n",
       "      <td>743</td>\n",
       "      <td>A782256</td>\n",
       "      <td>No</td>\n",
       "      <td>2018-10-12 14:21:00</td>\n",
       "      <td>Austin (TX)</td>\n",
       "      <td>Wildlife</td>\n",
       "      <td>Normal</td>\n",
       "      <td>Other</td>\n",
       "      <td>Unknown</td>\n",
       "      <td>2 years</td>\n",
       "      <td>Bat Mix</td>\n",
       "      <td>Brown</td>\n",
       "      <td>2018-10-12 15:03:00</td>\n",
       "      <td>2016-10-12</td>\n",
       "      <td>Unknown</td>\n",
       "      <td>2 years</td>\n",
       "      <td>1</td>\n",
       "    </tr>\n",
       "    <tr>\n",
       "      <td>788</td>\n",
       "      <td>A666419</td>\n",
       "      <td>No</td>\n",
       "      <td>2013-11-01 01:33:00</td>\n",
       "      <td>Austin (TX)</td>\n",
       "      <td>Wildlife</td>\n",
       "      <td>Normal</td>\n",
       "      <td>Other</td>\n",
       "      <td>Unknown</td>\n",
       "      <td>4 weeks</td>\n",
       "      <td>Bat</td>\n",
       "      <td>Brown/Black</td>\n",
       "      <td>2013-11-01 10:48:00</td>\n",
       "      <td>2013-10-01</td>\n",
       "      <td>Unknown</td>\n",
       "      <td>4 weeks</td>\n",
       "      <td>1</td>\n",
       "    </tr>\n",
       "    <tr>\n",
       "      <td>855</td>\n",
       "      <td>A728995</td>\n",
       "      <td>No</td>\n",
       "      <td>2016-06-12 12:30:00</td>\n",
       "      <td>Austin (TX)</td>\n",
       "      <td>Wildlife</td>\n",
       "      <td>Normal</td>\n",
       "      <td>Other</td>\n",
       "      <td>Unknown</td>\n",
       "      <td>4 weeks</td>\n",
       "      <td>Bat</td>\n",
       "      <td>Red</td>\n",
       "      <td>2016-06-12 12:48:00</td>\n",
       "      <td>2016-05-12</td>\n",
       "      <td>Unknown</td>\n",
       "      <td>4 weeks</td>\n",
       "      <td>1</td>\n",
       "    </tr>\n",
       "    <tr>\n",
       "      <td>898</td>\n",
       "      <td>A699252</td>\n",
       "      <td>No</td>\n",
       "      <td>2015-03-24 16:16:00</td>\n",
       "      <td>Austin (TX)</td>\n",
       "      <td>Wildlife</td>\n",
       "      <td>Normal</td>\n",
       "      <td>Other</td>\n",
       "      <td>Unknown</td>\n",
       "      <td>3 years</td>\n",
       "      <td>Bat Mix</td>\n",
       "      <td>Brown</td>\n",
       "      <td>2015-03-25 08:12:00</td>\n",
       "      <td>2012-03-24</td>\n",
       "      <td>Unknown</td>\n",
       "      <td>3 years</td>\n",
       "      <td>1</td>\n",
       "    </tr>\n",
       "    <tr>\n",
       "      <td>899</td>\n",
       "      <td>A743407</td>\n",
       "      <td>Yes</td>\n",
       "      <td>2017-02-09 18:10:00</td>\n",
       "      <td>Austin (TX)</td>\n",
       "      <td>Stray</td>\n",
       "      <td>Normal</td>\n",
       "      <td>Other</td>\n",
       "      <td>Intact Female</td>\n",
       "      <td>1 year</td>\n",
       "      <td>Rabbit Sh Mix</td>\n",
       "      <td>Sable</td>\n",
       "      <td>2017-04-01 13:54:00</td>\n",
       "      <td>2016-02-09</td>\n",
       "      <td>Spayed Female</td>\n",
       "      <td>1 year</td>\n",
       "      <td>0</td>\n",
       "    </tr>\n",
       "    <tr>\n",
       "      <td>916</td>\n",
       "      <td>A675191</td>\n",
       "      <td>No</td>\n",
       "      <td>2014-03-24 18:26:00</td>\n",
       "      <td>Austin (TX)</td>\n",
       "      <td>Wildlife</td>\n",
       "      <td>Injured</td>\n",
       "      <td>Other</td>\n",
       "      <td>Unknown</td>\n",
       "      <td>4 days</td>\n",
       "      <td>Opossum Mix</td>\n",
       "      <td>Pink</td>\n",
       "      <td>2014-03-24 18:51:00</td>\n",
       "      <td>2014-03-20</td>\n",
       "      <td>Unknown</td>\n",
       "      <td>4 days</td>\n",
       "      <td>1</td>\n",
       "    </tr>\n",
       "    <tr>\n",
       "      <td>934</td>\n",
       "      <td>A722850</td>\n",
       "      <td>No</td>\n",
       "      <td>2016-03-23 11:12:00</td>\n",
       "      <td>Austin (TX)</td>\n",
       "      <td>Wildlife</td>\n",
       "      <td>Normal</td>\n",
       "      <td>Other</td>\n",
       "      <td>Unknown</td>\n",
       "      <td>1 year</td>\n",
       "      <td>Bat Mix</td>\n",
       "      <td>Brown</td>\n",
       "      <td>2016-03-23 16:21:00</td>\n",
       "      <td>2015-03-23</td>\n",
       "      <td>Unknown</td>\n",
       "      <td>1 year</td>\n",
       "      <td>1</td>\n",
       "    </tr>\n",
       "    <tr>\n",
       "      <td>963</td>\n",
       "      <td>A718008</td>\n",
       "      <td>No</td>\n",
       "      <td>2015-12-19 13:20:00</td>\n",
       "      <td>Austin (TX)</td>\n",
       "      <td>Wildlife</td>\n",
       "      <td>Injured</td>\n",
       "      <td>Other</td>\n",
       "      <td>Unknown</td>\n",
       "      <td>2 years</td>\n",
       "      <td>Raccoon Mix</td>\n",
       "      <td>Black/White</td>\n",
       "      <td>2015-12-30 12:48:00</td>\n",
       "      <td>2013-12-19</td>\n",
       "      <td>Unknown</td>\n",
       "      <td>2 years</td>\n",
       "      <td>1</td>\n",
       "    </tr>\n",
       "    <tr>\n",
       "      <td>969</td>\n",
       "      <td>A723844</td>\n",
       "      <td>No</td>\n",
       "      <td>2016-04-07 18:42:00</td>\n",
       "      <td>Austin (TX)</td>\n",
       "      <td>Wildlife</td>\n",
       "      <td>Normal</td>\n",
       "      <td>Other</td>\n",
       "      <td>Unknown</td>\n",
       "      <td>4 weeks</td>\n",
       "      <td>Bat</td>\n",
       "      <td>Brown/Black</td>\n",
       "      <td>2016-04-08 09:50:00</td>\n",
       "      <td>2016-03-07</td>\n",
       "      <td>Unknown</td>\n",
       "      <td>4 weeks</td>\n",
       "      <td>1</td>\n",
       "    </tr>\n",
       "  </tbody>\n",
       "</table>\n",
       "</div>"
      ],
      "text/plain": [
       "    AnimalID Name_Provided     DateTime_Intake   FoundLocation  \\\n",
       "17   A702088            No 2015-05-09 10:54:00     Austin (TX)   \n",
       "29   A768987            No 2018-03-28 16:09:00     Austin (TX)   \n",
       "34   A732284            No 2016-08-05 13:07:00     Austin (TX)   \n",
       "52   A783039            No 2018-10-24 15:07:00     Austin (TX)   \n",
       "71   A793716            No 2019-04-28 23:23:00     Austin (TX)   \n",
       "79   A669526            No 2013-12-21 19:11:00     Travis (TX)   \n",
       "95   A679254            No 2014-05-18 09:48:00     Austin (TX)   \n",
       "101  A789835            No 2019-02-28 13:44:00     Austin (TX)   \n",
       "113  A703428           Yes 2015-05-24 15:53:00  Del Valle (TX)   \n",
       "122  A683379            No 2014-07-09 16:12:00     Austin (TX)   \n",
       "133  A759914            No 2017-10-09 16:15:00     Austin (TX)   \n",
       "134  A801002            No 2019-07-29 20:04:00     Austin (TX)   \n",
       "167  A712339            No 2015-09-21 17:14:00     Austin (TX)   \n",
       "188  A695888            No 2015-01-25 00:12:00     Austin (TX)   \n",
       "220  A810905            No 2019-12-22 14:31:00     Austin (TX)   \n",
       "237  A764307            No 2017-12-27 15:22:00     Austin (TX)   \n",
       "248  A778824            No 2018-08-21 10:07:00     Austin (TX)   \n",
       "267  A800104            No 2019-07-16 11:52:00     Austin (TX)   \n",
       "301  A701868            No 2015-05-05 14:55:00     Austin (TX)   \n",
       "350  A769623           Yes 2018-04-07 13:32:00     Travis (TX)   \n",
       "372  A767929            No 2018-03-09 15:33:00     Austin (TX)   \n",
       "420  A715143            No 2015-11-01 02:09:00     Austin (TX)   \n",
       "421  A745603            No 2017-03-20 21:49:00     Austin (TX)   \n",
       "429  A697125            No 2015-02-18 12:54:00     Travis (TX)   \n",
       "438  A718961            No 2016-01-10 11:23:00     Austin (TX)   \n",
       "460  A676970            No 2014-04-17 15:58:00     Austin (TX)   \n",
       "461  A767805            No 2018-03-06 20:45:00     Travis (TX)   \n",
       "489  A747347            No 2017-04-18 13:02:00     Austin (TX)   \n",
       "494  A680029            No 2014-05-29 10:16:00     Austin (TX)   \n",
       "496  A737933            No 2016-11-07 09:32:00     Austin (TX)   \n",
       "498  A769895            No 2018-04-12 11:05:00     Austin (TX)   \n",
       "538  A728836            No 2016-06-09 11:29:00     Austin (TX)   \n",
       "539  A713915            No 2015-10-15 08:47:00     Austin (TX)   \n",
       "595  A728496            No 2016-06-04 22:37:00     Austin (TX)   \n",
       "597  A737294           Yes 2016-10-25 11:31:00     Travis (TX)   \n",
       "636  A720191           Yes 2016-02-04 11:38:00     Austin (TX)   \n",
       "640  A772248            No 2018-05-16 15:20:00     Austin (TX)   \n",
       "649  A737981            No 2016-11-07 17:22:00     Austin (TX)   \n",
       "671  A787933            No 2019-01-22 19:51:00     Austin (TX)   \n",
       "680  A723234            No 2016-03-28 16:08:00     Austin (TX)   \n",
       "702  A685544            No 2014-08-09 00:13:00     Austin (TX)   \n",
       "712  A804335            No 2019-09-13 13:09:00     Austin (TX)   \n",
       "743  A782256            No 2018-10-12 14:21:00     Austin (TX)   \n",
       "788  A666419            No 2013-11-01 01:33:00     Austin (TX)   \n",
       "855  A728995            No 2016-06-12 12:30:00     Austin (TX)   \n",
       "898  A699252            No 2015-03-24 16:16:00     Austin (TX)   \n",
       "899  A743407           Yes 2017-02-09 18:10:00     Austin (TX)   \n",
       "916  A675191            No 2014-03-24 18:26:00     Austin (TX)   \n",
       "934  A722850            No 2016-03-23 11:12:00     Austin (TX)   \n",
       "963  A718008            No 2015-12-19 13:20:00     Austin (TX)   \n",
       "969  A723844            No 2016-04-07 18:42:00     Austin (TX)   \n",
       "\n",
       "          IntakeType IntakeCondition AnimalType_Intake  SexuponIntake  \\\n",
       "17          Wildlife          Normal             Other        Unknown   \n",
       "29             Stray          Normal             Other        Unknown   \n",
       "34          Wildlife          Normal             Other        Unknown   \n",
       "52          Wildlife            Sick             Other        Unknown   \n",
       "71     Public Assist          Normal             Other        Unknown   \n",
       "79          Wildlife          Normal             Other        Unknown   \n",
       "95          Wildlife            Sick             Other        Unknown   \n",
       "101            Stray          Normal             Other  Neutered Male   \n",
       "113            Stray          Normal             Other        Unknown   \n",
       "122            Stray          Normal             Other        Unknown   \n",
       "133         Wildlife            Sick             Other        Unknown   \n",
       "134    Public Assist          Normal             Other        Unknown   \n",
       "167         Wildlife          Normal             Other    Intact Male   \n",
       "188         Wildlife          Normal             Other        Unknown   \n",
       "220            Stray          Normal             Other        Unknown   \n",
       "237         Wildlife            Sick             Other        Unknown   \n",
       "248         Wildlife            Sick             Other        Unknown   \n",
       "267    Public Assist          Normal             Other        Unknown   \n",
       "301         Wildlife          Normal             Other        Unknown   \n",
       "350            Stray          Normal             Other    Intact Male   \n",
       "372         Wildlife          Normal             Other        Unknown   \n",
       "420         Wildlife          Normal             Other        Unknown   \n",
       "421         Wildlife          Normal             Other        Unknown   \n",
       "429    Public Assist          Normal             Other        Unknown   \n",
       "438         Wildlife          Normal             Other        Unknown   \n",
       "460         Wildlife            Sick             Other        Unknown   \n",
       "461         Wildlife            Sick             Other        Unknown   \n",
       "489            Stray          Normal             Other  Neutered Male   \n",
       "494         Wildlife         Injured             Other    Intact Male   \n",
       "496         Wildlife            Sick             Other        Unknown   \n",
       "498            Stray          Normal             Other        Unknown   \n",
       "538         Wildlife         Injured             Other        Unknown   \n",
       "539            Stray          Normal             Other        Unknown   \n",
       "595         Wildlife         Injured             Other        Unknown   \n",
       "597  Owner Surrender          Normal             Other  Intact Female   \n",
       "636            Stray          Normal             Other    Intact Male   \n",
       "640         Wildlife          Normal             Other        Unknown   \n",
       "649         Wildlife          Normal             Other        Unknown   \n",
       "671    Public Assist          Normal             Other        Unknown   \n",
       "680         Wildlife            Sick             Other        Unknown   \n",
       "702         Wildlife          Normal             Other        Unknown   \n",
       "712         Wildlife          Normal             Other        Unknown   \n",
       "743         Wildlife          Normal             Other        Unknown   \n",
       "788         Wildlife          Normal             Other        Unknown   \n",
       "855         Wildlife          Normal             Other        Unknown   \n",
       "898         Wildlife          Normal             Other        Unknown   \n",
       "899            Stray          Normal             Other  Intact Female   \n",
       "916         Wildlife         Injured             Other        Unknown   \n",
       "934         Wildlife          Normal             Other        Unknown   \n",
       "963         Wildlife         Injured             Other        Unknown   \n",
       "969         Wildlife          Normal             Other        Unknown   \n",
       "\n",
       "    AgeuponIntake     Breed_Intake Color_Intake    DateTime_Outcome  \\\n",
       "17         1 year          Raccoon   Gray/Black 2015-05-09 11:06:00   \n",
       "29        2 years    Rabbit Sh Mix  White/Black 2018-04-16 18:29:00   \n",
       "34         1 year              Bat  Black/Brown 2016-08-05 13:15:00   \n",
       "52        2 years          Bat Mix        Black 2018-10-24 15:29:00   \n",
       "71         1 year          Bat Mix        Brown 2019-04-29 08:55:00   \n",
       "79         1 year          Bat Mix        Brown 2013-12-22 09:20:00   \n",
       "95         1 year          Bat Mix        Brown 2014-05-18 10:38:00   \n",
       "101        1 year       Ferret Mix          Tan 2019-03-04 12:06:00   \n",
       "113        1 year    Rabbit Sh Mix        Brown 2015-06-07 11:06:00   \n",
       "122        1 year      Hamster Mix   Gray/White 2014-07-11 11:10:00   \n",
       "133       3 years      Raccoon Mix   Black/Gray 2017-10-10 08:47:00   \n",
       "134        1 year              Bat        Brown 2019-07-30 10:09:00   \n",
       "167      6 months              Bat        Brown 2015-09-21 18:13:00   \n",
       "188       4 weeks              Bat  Brown/Black 2015-01-25 09:37:00   \n",
       "220        1 year       Guinea Pig     Tricolor 2019-12-28 12:30:00   \n",
       "237        1 year          Bat Mix        Brown 2017-12-27 15:40:00   \n",
       "248       2 years      Raccoon Mix   Black/Gray 2018-08-22 08:47:00   \n",
       "267        1 year       Cold Water        Black 2019-07-20 09:57:00   \n",
       "301        5 days          Opossum         Gray 2015-05-05 15:34:00   \n",
       "350        1 year  Californian Mix  White/Black 2018-06-11 11:29:00   \n",
       "372        1 year          Bat Mix        Brown 2018-03-11 10:06:00   \n",
       "420       4 weeks              Bat  Brown/Black 2015-11-01 10:38:00   \n",
       "421        1 year          Bat Mix        Brown 2017-03-21 07:48:00   \n",
       "429       2 years          Bat Mix        Brown 2015-02-18 13:16:00   \n",
       "438        1 year          Raccoon   Gray/Black 2016-01-10 18:06:00   \n",
       "460        1 year        Skunk Mix  Black/White 2014-04-17 16:45:00   \n",
       "461       2 years          Bat Mix        Black 2018-03-07 07:48:00   \n",
       "489        1 year   Guinea Pig Mix       Calico 2017-04-22 11:15:00   \n",
       "494        1 year          Opossum   Gray/White 2014-05-29 10:53:00   \n",
       "496        1 year          Raccoon   Gray/Black 2016-11-07 09:46:00   \n",
       "498      4 months    Rabbit Sh Mix        Black 2018-04-12 18:16:00   \n",
       "538       2 years      Raccoon Mix   Gray/Black 2016-06-09 11:44:00   \n",
       "539        1 year            Snake        Brown 2015-10-17 15:16:00   \n",
       "595        1 year          Bat Mix        Brown 2016-06-05 10:02:00   \n",
       "597        1 year       Guinea Pig       Calico 2016-10-25 16:47:00   \n",
       "636       2 years      Lop-Holland  White/Black 2016-02-04 18:31:00   \n",
       "640       2 years          Bat Mix        Brown 2018-05-17 11:10:00   \n",
       "649        1 year        Skunk Mix  Black/White 2016-11-07 17:49:00   \n",
       "671        1 year          Bat Mix        Brown 2019-01-23 11:23:00   \n",
       "680      5 months              Bat        Brown 2016-03-30 10:15:00   \n",
       "702       4 weeks              Bat  Brown/Black 2014-08-09 09:31:00   \n",
       "712        1 year              Bat        Brown 2019-09-14 09:34:00   \n",
       "743       2 years          Bat Mix        Brown 2018-10-12 15:03:00   \n",
       "788       4 weeks              Bat  Brown/Black 2013-11-01 10:48:00   \n",
       "855       4 weeks              Bat          Red 2016-06-12 12:48:00   \n",
       "898       3 years          Bat Mix        Brown 2015-03-25 08:12:00   \n",
       "899        1 year    Rabbit Sh Mix        Sable 2017-04-01 13:54:00   \n",
       "916        4 days      Opossum Mix         Pink 2014-03-24 18:51:00   \n",
       "934        1 year          Bat Mix        Brown 2016-03-23 16:21:00   \n",
       "963       2 years      Raccoon Mix  Black/White 2015-12-30 12:48:00   \n",
       "969       4 weeks              Bat  Brown/Black 2016-04-08 09:50:00   \n",
       "\n",
       "    DateofBirth SexuponOutcome AgeuponOutcome binary_outcome  \n",
       "17   2014-05-09        Unknown         1 year              1  \n",
       "29   2016-03-28        Unknown        2 years              1  \n",
       "34   2015-08-05        Unknown         1 year              1  \n",
       "52   2016-10-24        Unknown        2 years              1  \n",
       "71   2018-04-28        Unknown         1 year              1  \n",
       "79   2012-12-21        Unknown         1 year              1  \n",
       "95   2013-05-18        Unknown         1 year              1  \n",
       "101  2018-02-28  Neutered Male         1 year              0  \n",
       "113  2014-05-24        Unknown         1 year              0  \n",
       "122  2013-07-09        Unknown         1 year              0  \n",
       "133  2014-10-09        Unknown        3 years              1  \n",
       "134  2018-07-29        Unknown         1 year              1  \n",
       "167  2015-03-21    Intact Male       6 months              1  \n",
       "188  2014-12-25        Unknown        4 weeks              1  \n",
       "220  2018-12-22        Unknown         1 year              0  \n",
       "237  2016-12-27        Unknown         1 year              1  \n",
       "248  2016-08-21        Unknown        2 years              1  \n",
       "267  2018-07-16        Unknown         1 year              1  \n",
       "301  2015-04-30        Unknown         5 days              1  \n",
       "350  2017-04-07  Neutered Male         1 year              0  \n",
       "372  2017-03-09        Unknown         1 year              1  \n",
       "420  2015-10-01        Unknown        4 weeks              1  \n",
       "421  2016-03-20        Unknown         1 year              1  \n",
       "429  2013-02-18        Unknown        2 years              1  \n",
       "438  2015-01-10        Unknown         1 year              1  \n",
       "460  2013-04-17        Unknown         1 year              1  \n",
       "461  2016-03-06        Unknown        2 years              1  \n",
       "489  2016-04-18  Neutered Male         1 year              0  \n",
       "494  2013-05-29    Intact Male         1 year              1  \n",
       "496  2015-11-07        Unknown         1 year              1  \n",
       "498  2017-11-12        Unknown       4 months              1  \n",
       "538  2014-06-09        Unknown        2 years              1  \n",
       "539  2014-10-15        Unknown         1 year              0  \n",
       "595  2015-06-04        Unknown         1 year              1  \n",
       "597  2015-04-25  Intact Female         1 year              0  \n",
       "636  2013-08-04    Intact Male        2 years              0  \n",
       "640  2016-05-16        Unknown        2 years              1  \n",
       "649  2015-11-07        Unknown         1 year              1  \n",
       "671  2018-01-22        Unknown         1 year              1  \n",
       "680  2015-09-28        Unknown       6 months              1  \n",
       "702  2014-07-09        Unknown        4 weeks              1  \n",
       "712  2018-09-13        Unknown         1 year              1  \n",
       "743  2016-10-12        Unknown        2 years              1  \n",
       "788  2013-10-01        Unknown        4 weeks              1  \n",
       "855  2016-05-12        Unknown        4 weeks              1  \n",
       "898  2012-03-24        Unknown        3 years              1  \n",
       "899  2016-02-09  Spayed Female         1 year              0  \n",
       "916  2014-03-20        Unknown         4 days              1  \n",
       "934  2015-03-23        Unknown         1 year              1  \n",
       "963  2013-12-19        Unknown        2 years              1  \n",
       "969  2016-03-07        Unknown        4 weeks              1  "
      ]
     },
     "execution_count": 73,
     "metadata": {},
     "output_type": "execute_result"
    }
   ],
   "source": [
    "#view all instances with value 'other'\n",
    "df[df['AnimalType_Intake'] == 'Other']"
   ]
  },
  {
   "cell_type": "markdown",
   "metadata": {},
   "source": [
    "We can see that there is a pattern in the feature *Breed_Intake* for these instances. To investigate further, we now look at the top 20 most frequent breeds within the group of instances with *AnimalType_Intake* as *Other*."
   ]
  },
  {
   "cell_type": "code",
   "execution_count": 74,
   "metadata": {},
   "outputs": [
    {
     "data": {
      "text/plain": [
       "Bat Mix            15\n",
       "Bat                11\n",
       "Rabbit Sh Mix       4\n",
       "Raccoon Mix         4\n",
       "Raccoon             3\n",
       "Guinea Pig          2\n",
       "Skunk Mix           2\n",
       "Opossum             2\n",
       "Cold Water          1\n",
       "Opossum Mix         1\n",
       "Californian Mix     1\n",
       "Hamster Mix         1\n",
       "Snake               1\n",
       "Ferret Mix          1\n",
       "Lop-Holland         1\n",
       "Guinea Pig Mix      1\n",
       "Name: Breed_Intake, dtype: int64"
      ]
     },
     "execution_count": 74,
     "metadata": {},
     "output_type": "execute_result"
    }
   ],
   "source": [
    "#view frequency of breed for the instances with AnimalType_Intake other\n",
    "df[df[\"AnimalType_Intake\"] == \"Other\"].Breed_Intake.value_counts()[:20]"
   ]
  },
  {
   "cell_type": "markdown",
   "metadata": {},
   "source": [
    "We can see that two most frequent values for *Breed_Intake* are *Bat* and *Bat Mix*. We therefore conclude that an additonal value should be added to this feature called *Bat* which will account for this large proportion of the *Other* type.\n",
    "\n",
    "In the cell below we create a new dataframe containing all instances with the string \"Bat\" in the *Breed_Intake* feature. We then set the feature *AnimalType_Intake* to \"Bat\" for all of these instances. Finally we update our dataframe with this new information. "
   ]
  },
  {
   "cell_type": "code",
   "execution_count": 75,
   "metadata": {},
   "outputs": [],
   "source": [
    "#create a new dataframe containing all instances containing \"Bat\" as the value for \"Breed Intake\"\n",
    "create_bat_value_df = df[df['Breed_Intake'].str.contains(\"Bat\")]\n",
    "#set the feature AnimalType_Intake to \"Bat\"\n",
    "create_bat_value_df['AnimalType_Intake']='Bat'\n",
    "#update our dataframe with this new information\n",
    "df.update(create_bat_value_df)"
   ]
  },
  {
   "cell_type": "markdown",
   "metadata": {},
   "source": [
    "In the cell below we view the unique values for the feature *AnimalType_Intake* to make sure that the new value \"Bat\" has been created."
   ]
  },
  {
   "cell_type": "code",
   "execution_count": 76,
   "metadata": {},
   "outputs": [
    {
     "data": {
      "text/plain": [
       "array(['Cat', 'Dog', 'Other', 'Bat', 'Bird'], dtype=object)"
      ]
     },
     "execution_count": 76,
     "metadata": {},
     "output_type": "execute_result"
    }
   ],
   "source": [
    "#view the unique values for this feature\n",
    "df['AnimalType_Intake'].unique()"
   ]
  },
  {
   "cell_type": "markdown",
   "metadata": {},
   "source": [
    "We can see that 'Bat' has now be added as a value to this feature. We note here that the creation of the above dataframe has reverted our 'category' datatypes back to objects. We now convert them back to their appropriate types below. "
   ]
  },
  {
   "cell_type": "code",
   "execution_count": 77,
   "metadata": {},
   "outputs": [],
   "source": [
    "#convert all objects to categories\n",
    "object_columns = df.select_dtypes(['object']).columns\n",
    "for column in object_columns:\n",
    "    df[column] = df[column].astype('category')\n",
    "\n",
    "#convert animal ID to an object type\n",
    "df['AnimalID'] = df['AnimalID'].astype('object')  "
   ]
  },
  {
   "cell_type": "code",
   "execution_count": 78,
   "metadata": {},
   "outputs": [
    {
     "data": {
      "text/plain": [
       "AnimalID                     object\n",
       "Name_Provided              category\n",
       "DateTime_Intake      datetime64[ns]\n",
       "FoundLocation              category\n",
       "IntakeType                 category\n",
       "IntakeCondition            category\n",
       "AnimalType_Intake          category\n",
       "SexuponIntake              category\n",
       "AgeuponIntake              category\n",
       "Breed_Intake               category\n",
       "Color_Intake               category\n",
       "DateTime_Outcome     datetime64[ns]\n",
       "DateofBirth          datetime64[ns]\n",
       "SexuponOutcome             category\n",
       "AgeuponOutcome             category\n",
       "binary_outcome             category\n",
       "dtype: object"
      ]
     },
     "execution_count": 78,
     "metadata": {},
     "output_type": "execute_result"
    }
   ],
   "source": [
    "df.dtypes"
   ]
  },
  {
   "cell_type": "markdown",
   "metadata": {},
   "source": [
    "**5. Intake Condition**\n",
    "This feature has a value *Other* which is not providing much useful information. It should be investigated further.\n",
    "\n",
    "We will begin by investigating the frequency of each of the values within this feature. "
   ]
  },
  {
   "cell_type": "code",
   "execution_count": 79,
   "metadata": {},
   "outputs": [
    {
     "data": {
      "text/plain": [
       "Normal     891\n",
       "Injured     47\n",
       "Sick        42\n",
       "Nursing     19\n",
       "Other        1\n",
       "Name: IntakeCondition, dtype: int64"
      ]
     },
     "execution_count": 79,
     "metadata": {},
     "output_type": "execute_result"
    }
   ],
   "source": [
    "#view frequencies of values for this features\n",
    "df['IntakeCondition'].value_counts().sort_values(ascending=False)"
   ]
  },
  {
   "cell_type": "markdown",
   "metadata": {},
   "source": [
    "We can see that the most frequent value is 891 and that there is only 1 feature with a value of *Other*. We will now look further into this instance."
   ]
  },
  {
   "cell_type": "code",
   "execution_count": 80,
   "metadata": {},
   "outputs": [
    {
     "data": {
      "text/html": [
       "<div>\n",
       "<style scoped>\n",
       "    .dataframe tbody tr th:only-of-type {\n",
       "        vertical-align: middle;\n",
       "    }\n",
       "\n",
       "    .dataframe tbody tr th {\n",
       "        vertical-align: top;\n",
       "    }\n",
       "\n",
       "    .dataframe thead th {\n",
       "        text-align: right;\n",
       "    }\n",
       "</style>\n",
       "<table border=\"1\" class=\"dataframe\">\n",
       "  <thead>\n",
       "    <tr style=\"text-align: right;\">\n",
       "      <th></th>\n",
       "      <th>AnimalID</th>\n",
       "      <th>Name_Provided</th>\n",
       "      <th>DateTime_Intake</th>\n",
       "      <th>FoundLocation</th>\n",
       "      <th>IntakeType</th>\n",
       "      <th>IntakeCondition</th>\n",
       "      <th>AnimalType_Intake</th>\n",
       "      <th>SexuponIntake</th>\n",
       "      <th>AgeuponIntake</th>\n",
       "      <th>Breed_Intake</th>\n",
       "      <th>Color_Intake</th>\n",
       "      <th>DateTime_Outcome</th>\n",
       "      <th>DateofBirth</th>\n",
       "      <th>SexuponOutcome</th>\n",
       "      <th>AgeuponOutcome</th>\n",
       "      <th>binary_outcome</th>\n",
       "    </tr>\n",
       "  </thead>\n",
       "  <tbody>\n",
       "    <tr>\n",
       "      <td>1</td>\n",
       "      <td>A685139</td>\n",
       "      <td>No</td>\n",
       "      <td>2014-08-03 11:23:00</td>\n",
       "      <td>Austin (TX)</td>\n",
       "      <td>Stray</td>\n",
       "      <td>Other</td>\n",
       "      <td>Dog</td>\n",
       "      <td>Intact Female</td>\n",
       "      <td>3 months</td>\n",
       "      <td>Cavalier Span Mix</td>\n",
       "      <td>White/Black</td>\n",
       "      <td>2014-08-07 18:09:00</td>\n",
       "      <td>2014-05-03</td>\n",
       "      <td>Spayed Female</td>\n",
       "      <td>3 months</td>\n",
       "      <td>0</td>\n",
       "    </tr>\n",
       "  </tbody>\n",
       "</table>\n",
       "</div>"
      ],
      "text/plain": [
       "  AnimalID Name_Provided     DateTime_Intake FoundLocation IntakeType  \\\n",
       "1  A685139            No 2014-08-03 11:23:00   Austin (TX)      Stray   \n",
       "\n",
       "  IntakeCondition AnimalType_Intake  SexuponIntake AgeuponIntake  \\\n",
       "1           Other               Dog  Intact Female      3 months   \n",
       "\n",
       "        Breed_Intake Color_Intake    DateTime_Outcome DateofBirth  \\\n",
       "1  Cavalier Span Mix  White/Black 2014-08-07 18:09:00  2014-05-03   \n",
       "\n",
       "  SexuponOutcome AgeuponOutcome binary_outcome  \n",
       "1  Spayed Female       3 months              0  "
      ]
     },
     "execution_count": 80,
     "metadata": {},
     "output_type": "execute_result"
    }
   ],
   "source": [
    "#view the instance with value Other\n",
    "intake_condition_value_other = df[df['IntakeCondition'] == 'Other']\n",
    "intake_condition_value_other"
   ]
  },
  {
   "cell_type": "markdown",
   "metadata": {},
   "source": [
    "We can see that the animal is a Dog who entered the shelter at three months of age and left with a positive outcome. Based on this outcome and on the frequency of the mode *Normal*, it will be assumed that this is an invalid value and that the animal was of normal health. Ideally I would like to speak to a domain expert to understand this condition type further. However, without further information it is recommended that this value be replaced with *Normal*."
   ]
  },
  {
   "cell_type": "code",
   "execution_count": 81,
   "metadata": {},
   "outputs": [],
   "source": [
    "#replace the value other with normal\n",
    "df['IntakeCondition'] = df.IntakeCondition.str.replace(r'(^.*Other.*$)', 'Normal')"
   ]
  },
  {
   "cell_type": "code",
   "execution_count": 82,
   "metadata": {},
   "outputs": [
    {
     "data": {
      "text/plain": [
       "Normal     892\n",
       "Injured     47\n",
       "Sick        42\n",
       "Nursing     19\n",
       "Name: IntakeCondition, dtype: int64"
      ]
     },
     "execution_count": 82,
     "metadata": {},
     "output_type": "execute_result"
    }
   ],
   "source": [
    "#view frequencies again to make sure other has been removed\n",
    "#the frequency of normal will have increased by one\n",
    "df['IntakeCondition'].value_counts().sort_values(ascending=False)"
   ]
  },
  {
   "cell_type": "markdown",
   "metadata": {},
   "source": [
    "We can see that there is now no 'Other' Value.\n",
    "\n",
    "We now convert IntakeCondition back to a category type. "
   ]
  },
  {
   "cell_type": "code",
   "execution_count": 83,
   "metadata": {},
   "outputs": [],
   "source": [
    "#convert Breed_Intake back to a category type\n",
    "df['IntakeCondition'] = df['IntakeCondition'].astype('category')"
   ]
  },
  {
   "cell_type": "markdown",
   "metadata": {},
   "source": [
    "**6. Format of age features**\n",
    "- *AgeuponIntake* and *AgeuponOutcome* are not in a useful format. they are currently represented as a number and a word, such as *'1 year'*, for example. These features will be transformed into a value representing the age in days.\n",
    "- One possible solution is to convert the given age features. However, we saw above when investigating the failed logical integrity tests that the age features provided with the dataset are approximations. As a result, we will subtract *DateofBirth* from *DateTime_Intake* to generate an age of intake in days. We will then subtract *DateofBirth* from *DateTime_Outcome* to generate an age of outcome in days. This will be more accurate than using *AgeuponIntake* and *AgeuponOutcome*."
   ]
  },
  {
   "cell_type": "code",
   "execution_count": 84,
   "metadata": {},
   "outputs": [],
   "source": [
    "#create a new dataframe\n",
    "convert_age_to_days_df = pd.DataFrame(\n",
    "     columns=['AgeIntake_days','AgeOutcome_days'])"
   ]
  },
  {
   "cell_type": "code",
   "execution_count": 85,
   "metadata": {},
   "outputs": [],
   "source": [
    "#generate new age of intake\n",
    "convert_age_to_days_df['AgeIntake_days']=(df['DateTime_Intake'] - df['DateofBirth']).dt.days\n",
    "#replace AgeuponIntake feature with this new age\n",
    "df['AgeuponIntake']=convert_age_to_days_df['AgeIntake_days']"
   ]
  },
  {
   "cell_type": "code",
   "execution_count": 86,
   "metadata": {},
   "outputs": [],
   "source": [
    "#generate new age of outcome\n",
    "convert_age_to_days_df['AgeOutcome_days']=(df['DateTime_Outcome'] - df['DateofBirth']).dt.days\n",
    "#replace AgeuponIntake feature with this new age\n",
    "df['AgeuponOutcome']=convert_age_to_days_df['AgeOutcome_days']"
   ]
  },
  {
   "cell_type": "markdown",
   "metadata": {},
   "source": [
    "**Descriptive statistics for age features**\n",
    "\n",
    "As we did not have these continous age features earlier in the assignment, we will now compute summary statsitics for these new features.\n"
   ]
  },
  {
   "cell_type": "code",
   "execution_count": 87,
   "metadata": {},
   "outputs": [
    {
     "data": {
      "text/html": [
       "<div>\n",
       "<style scoped>\n",
       "    .dataframe tbody tr th:only-of-type {\n",
       "        vertical-align: middle;\n",
       "    }\n",
       "\n",
       "    .dataframe tbody tr th {\n",
       "        vertical-align: top;\n",
       "    }\n",
       "\n",
       "    .dataframe thead th {\n",
       "        text-align: right;\n",
       "    }\n",
       "</style>\n",
       "<table border=\"1\" class=\"dataframe\">\n",
       "  <thead>\n",
       "    <tr style=\"text-align: right;\">\n",
       "      <th></th>\n",
       "      <th>count</th>\n",
       "      <th>mean</th>\n",
       "      <th>std</th>\n",
       "      <th>min</th>\n",
       "      <th>25%</th>\n",
       "      <th>50%</th>\n",
       "      <th>75%</th>\n",
       "      <th>max</th>\n",
       "    </tr>\n",
       "  </thead>\n",
       "  <tbody>\n",
       "    <tr>\n",
       "      <td>AgeuponIntake</td>\n",
       "      <td>1000.0</td>\n",
       "      <td>759.812</td>\n",
       "      <td>1116.589203</td>\n",
       "      <td>0.0</td>\n",
       "      <td>68.00</td>\n",
       "      <td>365.0</td>\n",
       "      <td>765.25</td>\n",
       "      <td>7305.0</td>\n",
       "    </tr>\n",
       "    <tr>\n",
       "      <td>AgeuponOutcome</td>\n",
       "      <td>1000.0</td>\n",
       "      <td>781.955</td>\n",
       "      <td>1124.826147</td>\n",
       "      <td>0.0</td>\n",
       "      <td>86.75</td>\n",
       "      <td>367.0</td>\n",
       "      <td>808.25</td>\n",
       "      <td>7306.0</td>\n",
       "    </tr>\n",
       "  </tbody>\n",
       "</table>\n",
       "</div>"
      ],
      "text/plain": [
       "                 count     mean          std  min    25%    50%     75%  \\\n",
       "AgeuponIntake   1000.0  759.812  1116.589203  0.0  68.00  365.0  765.25   \n",
       "AgeuponOutcome  1000.0  781.955  1124.826147  0.0  86.75  367.0  808.25   \n",
       "\n",
       "                   max  \n",
       "AgeuponIntake   7305.0  \n",
       "AgeuponOutcome  7306.0  "
      ]
     },
     "execution_count": 87,
     "metadata": {},
     "output_type": "execute_result"
    }
   ],
   "source": [
    "#create table of summary statsitics for the new age features.\n",
    "transformed_age_features = ['AgeuponIntake','AgeuponOutcome']\n",
    "df[transformed_age_features].describe().T"
   ]
  },
  {
   "cell_type": "markdown",
   "metadata": {},
   "source": [
    "In the cell below we further anaylse these new features to by investigating the range of values and the most frequent values. "
   ]
  },
  {
   "cell_type": "code",
   "execution_count": 88,
   "metadata": {},
   "outputs": [
    {
     "name": "stdout",
     "output_type": "stream",
     "text": [
      "AgeuponIntake\n",
      "----------\n",
      "\n",
      "Range AgeuponIntake is:  7305\n",
      "----------\n",
      "Value  Number of Instances\n",
      "365     101\n",
      "730      72\n",
      "731      39\n",
      "366      26\n",
      "61       25\n",
      "1096     24\n",
      "22       22\n",
      "1095     19\n",
      "31       18\n",
      "15       17\n",
      "30       16\n",
      "92       15\n",
      "76       14\n",
      "1461     13\n",
      "45       13\n",
      "Name: AgeuponIntake, dtype: int64 \n",
      "\n",
      "\n",
      "\n",
      "AgeuponOutcome\n",
      "----------\n",
      "\n",
      "Range AgeuponOutcome is:  7306\n",
      "----------\n",
      "Value  Number of Instances\n",
      "366    22\n",
      "731    17\n",
      "369    16\n",
      "15     15\n",
      "367    12\n",
      "22     11\n",
      "734    10\n",
      "365    10\n",
      "730    10\n",
      "61      9\n",
      "371     9\n",
      "65      9\n",
      "736     9\n",
      "68      9\n",
      "735     9\n",
      "Name: AgeuponOutcome, dtype: int64 \n",
      "\n",
      "\n",
      "\n"
     ]
    }
   ],
   "source": [
    "#loop through list of transformed age features\n",
    "for feature in transformed_age_features:\n",
    "    print(feature)\n",
    "    print(\"----------\\n\")\n",
    "    print(\"Range {} is: \".format(feature), (df[feature].max() - df[feature].min()))\n",
    "    print(\"----------\")\n",
    "    print('{0:.5}  {1}'.format(\"Value\", \"Number of Instances\"))\n",
    "    print(df[feature].value_counts().nlargest(15), \"\\n\\n\\n\")"
   ]
  },
  {
   "cell_type": "markdown",
   "metadata": {},
   "source": [
    "We can see that our initial observations of the *AgeuponIntake* and *AgeuponOutcome* are confirmed now that we have converted these features into continuous type. We can see that the min is 0. This is explained by the animals which are age 0 on the date they enter the shelter. We can see that the median is 365 days. This makes sense considering most of the ages of animals will be approximated by the staff in the shelter. It makes sense that most are approximated to '1 year'. The max is 7300 days which is roughly 20 years. There is a large gap between this value and the third quartile and this value could be seen as an outlier. We will now visualise this further in some graphs."
   ]
  },
  {
   "cell_type": "markdown",
   "metadata": {},
   "source": [
    "**Histograms**\n",
    "\n",
    "We will now create histograms for *'AgeIntake'* and *'AgeOutcome'*."
   ]
  },
  {
   "cell_type": "code",
   "execution_count": 89,
   "metadata": {},
   "outputs": [
    {
     "data": {
      "image/png": "[encoded data removed]",
      "text/plain": [
       "<Figure size 720x360 with 1 Axes>"
      ]
     },
     "metadata": {
      "needs_background": "light"
     },
     "output_type": "display_data"
    },
    {
     "data": {
      "image/png": "[encoded data removed]",
      "text/plain": [
       "<Figure size 720x360 with 1 Axes>"
      ]
     },
     "metadata": {
      "needs_background": "light"
     },
     "output_type": "display_data"
    }
   ],
   "source": [
    "#loop through list of transformed ages\n",
    "transformed_age_features = ['AgeuponIntake','AgeuponOutcome']\n",
    "for col in transformed_age_features:\n",
    "        f = df[col].plot(kind='hist', figsize=(10,5))\n",
    "        plt.title(col)\n",
    "        plt.ylabel('number of animals')\n",
    "        plt.show()    "
   ]
  },
  {
   "cell_type": "markdown",
   "metadata": {},
   "source": [
    "We can see in the histograms that both *AgeuponIntake* and *AgeuponOutcome* are exponential. This shows us that most of the animals are under 1000 days old while very few are at older ages of 7000 days."
   ]
  },
  {
   "cell_type": "markdown",
   "metadata": {},
   "source": [
    "**Box Plots**\n",
    "\n",
    "We will now create box plots for the two new age features. This will help us to further visualise any potential outliers."
   ]
  },
  {
   "cell_type": "code",
   "execution_count": 90,
   "metadata": {},
   "outputs": [
    {
     "data": {
      "image/png": "[encoded data removed]",
      "text/plain": [
       "<Figure size 720x360 with 1 Axes>"
      ]
     },
     "metadata": {
      "needs_background": "light"
     },
     "output_type": "display_data"
    },
    {
     "data": {
      "image/png": "[encoded data removed]",
      "text/plain": [
       "<Figure size 720x360 with 1 Axes>"
      ]
     },
     "metadata": {
      "needs_background": "light"
     },
     "output_type": "display_data"
    }
   ],
   "source": [
    "# Plot box plots for the new continuous features\n",
    "for col in transformed_age_features:\n",
    "    f = df[col].plot(kind='box', figsize=(10,5))\n",
    "    plt.show() "
   ]
  },
  {
   "cell_type": "markdown",
   "metadata": {},
   "source": [
    "We can see that there are many instances above the max value of the box plot. However, considering the environment of the animal shelter these outliers make sense. It makes sense that the majority of animals are younger and that much a smaller number will be of an older age.\n",
    "\n",
    "Based on the box plots above, we will now look at a sample of ten of the animals who have an age above 1500 days. "
   ]
  },
  {
   "cell_type": "code",
   "execution_count": 91,
   "metadata": {},
   "outputs": [
    {
     "data": {
      "text/html": [
       "<div>\n",
       "<style scoped>\n",
       "    .dataframe tbody tr th:only-of-type {\n",
       "        vertical-align: middle;\n",
       "    }\n",
       "\n",
       "    .dataframe tbody tr th {\n",
       "        vertical-align: top;\n",
       "    }\n",
       "\n",
       "    .dataframe thead th {\n",
       "        text-align: right;\n",
       "    }\n",
       "</style>\n",
       "<table border=\"1\" class=\"dataframe\">\n",
       "  <thead>\n",
       "    <tr style=\"text-align: right;\">\n",
       "      <th></th>\n",
       "      <th>AnimalID</th>\n",
       "      <th>Name_Provided</th>\n",
       "      <th>DateTime_Intake</th>\n",
       "      <th>FoundLocation</th>\n",
       "      <th>IntakeType</th>\n",
       "      <th>IntakeCondition</th>\n",
       "      <th>AnimalType_Intake</th>\n",
       "      <th>SexuponIntake</th>\n",
       "      <th>AgeuponIntake</th>\n",
       "      <th>Breed_Intake</th>\n",
       "      <th>Color_Intake</th>\n",
       "      <th>DateTime_Outcome</th>\n",
       "      <th>DateofBirth</th>\n",
       "      <th>SexuponOutcome</th>\n",
       "      <th>AgeuponOutcome</th>\n",
       "      <th>binary_outcome</th>\n",
       "    </tr>\n",
       "  </thead>\n",
       "  <tbody>\n",
       "    <tr>\n",
       "      <td>6</td>\n",
       "      <td>A623526</td>\n",
       "      <td>Yes</td>\n",
       "      <td>2019-11-15 13:25:00</td>\n",
       "      <td>Travis (TX)</td>\n",
       "      <td>Owner Surrender</td>\n",
       "      <td>Normal</td>\n",
       "      <td>Dog</td>\n",
       "      <td>Spayed Female</td>\n",
       "      <td>2874</td>\n",
       "      <td>Rottweiler/Labrador Retriever</td>\n",
       "      <td>Black/Tan</td>\n",
       "      <td>2019-11-27 11:52:00</td>\n",
       "      <td>2012-01-02</td>\n",
       "      <td>Spayed Female</td>\n",
       "      <td>2886</td>\n",
       "      <td>0</td>\n",
       "    </tr>\n",
       "    <tr>\n",
       "      <td>7</td>\n",
       "      <td>A684122</td>\n",
       "      <td>Yes</td>\n",
       "      <td>2014-07-19 16:45:00</td>\n",
       "      <td>Austin (TX)</td>\n",
       "      <td>Stray</td>\n",
       "      <td>Normal</td>\n",
       "      <td>Dog</td>\n",
       "      <td>Neutered Male</td>\n",
       "      <td>4383</td>\n",
       "      <td>Standard Schnauzer Mix</td>\n",
       "      <td>Gray</td>\n",
       "      <td>2014-07-20 13:38:00</td>\n",
       "      <td>2002-07-19</td>\n",
       "      <td>Neutered Male</td>\n",
       "      <td>4384</td>\n",
       "      <td>0</td>\n",
       "    </tr>\n",
       "    <tr>\n",
       "      <td>9</td>\n",
       "      <td>A658088</td>\n",
       "      <td>Yes</td>\n",
       "      <td>2016-05-19 18:17:00</td>\n",
       "      <td>Austin (TX)</td>\n",
       "      <td>Public Assist</td>\n",
       "      <td>Normal</td>\n",
       "      <td>Dog</td>\n",
       "      <td>Spayed Female</td>\n",
       "      <td>1565</td>\n",
       "      <td>Australian Shepherd Mix</td>\n",
       "      <td>Tricolor</td>\n",
       "      <td>2016-05-25 16:11:00</td>\n",
       "      <td>2012-02-05</td>\n",
       "      <td>Spayed Female</td>\n",
       "      <td>1571</td>\n",
       "      <td>0</td>\n",
       "    </tr>\n",
       "    <tr>\n",
       "      <td>21</td>\n",
       "      <td>A710320</td>\n",
       "      <td>Yes</td>\n",
       "      <td>2015-08-21 14:33:00</td>\n",
       "      <td>Austin (TX)</td>\n",
       "      <td>Public Assist</td>\n",
       "      <td>Normal</td>\n",
       "      <td>Dog</td>\n",
       "      <td>Spayed Female</td>\n",
       "      <td>2038</td>\n",
       "      <td>Pit Bull Mix</td>\n",
       "      <td>Blue/White</td>\n",
       "      <td>2015-09-01 16:36:00</td>\n",
       "      <td>2010-01-21</td>\n",
       "      <td>Spayed Female</td>\n",
       "      <td>2049</td>\n",
       "      <td>0</td>\n",
       "    </tr>\n",
       "    <tr>\n",
       "      <td>35</td>\n",
       "      <td>A688065</td>\n",
       "      <td>Yes</td>\n",
       "      <td>2014-09-14 11:15:00</td>\n",
       "      <td>Austin (TX)</td>\n",
       "      <td>Owner Surrender</td>\n",
       "      <td>Normal</td>\n",
       "      <td>Cat</td>\n",
       "      <td>Neutered Male</td>\n",
       "      <td>1826</td>\n",
       "      <td>Domestic Medium Hair Mix</td>\n",
       "      <td>Black/White</td>\n",
       "      <td>2014-11-07 13:35:00</td>\n",
       "      <td>2009-09-14</td>\n",
       "      <td>Neutered Male</td>\n",
       "      <td>1880</td>\n",
       "      <td>0</td>\n",
       "    </tr>\n",
       "    <tr>\n",
       "      <td>40</td>\n",
       "      <td>A518937</td>\n",
       "      <td>Yes</td>\n",
       "      <td>2015-11-12 11:21:00</td>\n",
       "      <td>Austin (TX)</td>\n",
       "      <td>Stray</td>\n",
       "      <td>Normal</td>\n",
       "      <td>Dog</td>\n",
       "      <td>Spayed Female</td>\n",
       "      <td>3380</td>\n",
       "      <td>Labrador Retriever Mix</td>\n",
       "      <td>Chocolate</td>\n",
       "      <td>2015-11-17 13:30:00</td>\n",
       "      <td>2006-08-11</td>\n",
       "      <td>Spayed Female</td>\n",
       "      <td>3385</td>\n",
       "      <td>0</td>\n",
       "    </tr>\n",
       "    <tr>\n",
       "      <td>56</td>\n",
       "      <td>A662171</td>\n",
       "      <td>Yes</td>\n",
       "      <td>2017-12-23 10:21:00</td>\n",
       "      <td>Pflugerville (TX)</td>\n",
       "      <td>Stray</td>\n",
       "      <td>Normal</td>\n",
       "      <td>Dog</td>\n",
       "      <td>Spayed Female</td>\n",
       "      <td>2151</td>\n",
       "      <td>Siberian Husky Mix</td>\n",
       "      <td>Black/White</td>\n",
       "      <td>2017-12-24 13:27:00</td>\n",
       "      <td>2012-02-02</td>\n",
       "      <td>Spayed Female</td>\n",
       "      <td>2152</td>\n",
       "      <td>0</td>\n",
       "    </tr>\n",
       "    <tr>\n",
       "      <td>57</td>\n",
       "      <td>A595670</td>\n",
       "      <td>Yes</td>\n",
       "      <td>2018-10-12 17:29:00</td>\n",
       "      <td>Austin (TX)</td>\n",
       "      <td>Stray</td>\n",
       "      <td>Normal</td>\n",
       "      <td>Dog</td>\n",
       "      <td>Neutered Male</td>\n",
       "      <td>3856</td>\n",
       "      <td>Jack Russell Terrier</td>\n",
       "      <td>White/Tricolor</td>\n",
       "      <td>2018-10-12 18:36:00</td>\n",
       "      <td>2008-03-22</td>\n",
       "      <td>Neutered Male</td>\n",
       "      <td>3856</td>\n",
       "      <td>0</td>\n",
       "    </tr>\n",
       "    <tr>\n",
       "      <td>72</td>\n",
       "      <td>A619664</td>\n",
       "      <td>Yes</td>\n",
       "      <td>2015-08-05 11:34:00</td>\n",
       "      <td>Austin (TX)</td>\n",
       "      <td>Stray</td>\n",
       "      <td>Normal</td>\n",
       "      <td>Dog</td>\n",
       "      <td>Spayed Female</td>\n",
       "      <td>5477</td>\n",
       "      <td>Chihuahua Shorthair Mix</td>\n",
       "      <td>White/Tan</td>\n",
       "      <td>2015-08-11 18:17:00</td>\n",
       "      <td>2000-08-06</td>\n",
       "      <td>Spayed Female</td>\n",
       "      <td>5483</td>\n",
       "      <td>0</td>\n",
       "    </tr>\n",
       "    <tr>\n",
       "      <td>73</td>\n",
       "      <td>A738623</td>\n",
       "      <td>Yes</td>\n",
       "      <td>2016-11-18 14:38:00</td>\n",
       "      <td>Travis (TX)</td>\n",
       "      <td>Stray</td>\n",
       "      <td>Normal</td>\n",
       "      <td>Dog</td>\n",
       "      <td>Spayed Female</td>\n",
       "      <td>3653</td>\n",
       "      <td>Australian Cattle Dog Mix</td>\n",
       "      <td>Black/Brown</td>\n",
       "      <td>2017-03-09 13:50:00</td>\n",
       "      <td>2006-11-18</td>\n",
       "      <td>Spayed Female</td>\n",
       "      <td>3764</td>\n",
       "      <td>0</td>\n",
       "    </tr>\n",
       "  </tbody>\n",
       "</table>\n",
       "</div>"
      ],
      "text/plain": [
       "   AnimalID Name_Provided     DateTime_Intake      FoundLocation  \\\n",
       "6   A623526           Yes 2019-11-15 13:25:00        Travis (TX)   \n",
       "7   A684122           Yes 2014-07-19 16:45:00        Austin (TX)   \n",
       "9   A658088           Yes 2016-05-19 18:17:00        Austin (TX)   \n",
       "21  A710320           Yes 2015-08-21 14:33:00        Austin (TX)   \n",
       "35  A688065           Yes 2014-09-14 11:15:00        Austin (TX)   \n",
       "40  A518937           Yes 2015-11-12 11:21:00        Austin (TX)   \n",
       "56  A662171           Yes 2017-12-23 10:21:00  Pflugerville (TX)   \n",
       "57  A595670           Yes 2018-10-12 17:29:00        Austin (TX)   \n",
       "72  A619664           Yes 2015-08-05 11:34:00        Austin (TX)   \n",
       "73  A738623           Yes 2016-11-18 14:38:00        Travis (TX)   \n",
       "\n",
       "         IntakeType IntakeCondition AnimalType_Intake  SexuponIntake  \\\n",
       "6   Owner Surrender          Normal               Dog  Spayed Female   \n",
       "7             Stray          Normal               Dog  Neutered Male   \n",
       "9     Public Assist          Normal               Dog  Spayed Female   \n",
       "21    Public Assist          Normal               Dog  Spayed Female   \n",
       "35  Owner Surrender          Normal               Cat  Neutered Male   \n",
       "40            Stray          Normal               Dog  Spayed Female   \n",
       "56            Stray          Normal               Dog  Spayed Female   \n",
       "57            Stray          Normal               Dog  Neutered Male   \n",
       "72            Stray          Normal               Dog  Spayed Female   \n",
       "73            Stray          Normal               Dog  Spayed Female   \n",
       "\n",
       "    AgeuponIntake                   Breed_Intake    Color_Intake  \\\n",
       "6            2874  Rottweiler/Labrador Retriever       Black/Tan   \n",
       "7            4383         Standard Schnauzer Mix            Gray   \n",
       "9            1565        Australian Shepherd Mix        Tricolor   \n",
       "21           2038                   Pit Bull Mix      Blue/White   \n",
       "35           1826       Domestic Medium Hair Mix     Black/White   \n",
       "40           3380         Labrador Retriever Mix       Chocolate   \n",
       "56           2151             Siberian Husky Mix     Black/White   \n",
       "57           3856           Jack Russell Terrier  White/Tricolor   \n",
       "72           5477        Chihuahua Shorthair Mix       White/Tan   \n",
       "73           3653      Australian Cattle Dog Mix     Black/Brown   \n",
       "\n",
       "      DateTime_Outcome DateofBirth SexuponOutcome  AgeuponOutcome  \\\n",
       "6  2019-11-27 11:52:00  2012-01-02  Spayed Female            2886   \n",
       "7  2014-07-20 13:38:00  2002-07-19  Neutered Male            4384   \n",
       "9  2016-05-25 16:11:00  2012-02-05  Spayed Female            1571   \n",
       "21 2015-09-01 16:36:00  2010-01-21  Spayed Female            2049   \n",
       "35 2014-11-07 13:35:00  2009-09-14  Neutered Male            1880   \n",
       "40 2015-11-17 13:30:00  2006-08-11  Spayed Female            3385   \n",
       "56 2017-12-24 13:27:00  2012-02-02  Spayed Female            2152   \n",
       "57 2018-10-12 18:36:00  2008-03-22  Neutered Male            3856   \n",
       "72 2015-08-11 18:17:00  2000-08-06  Spayed Female            5483   \n",
       "73 2017-03-09 13:50:00  2006-11-18  Spayed Female            3764   \n",
       "\n",
       "   binary_outcome  \n",
       "6               0  \n",
       "7               0  \n",
       "9               0  \n",
       "21              0  \n",
       "35              0  \n",
       "40              0  \n",
       "56              0  \n",
       "57              0  \n",
       "72              0  \n",
       "73              0  "
      ]
     },
     "execution_count": 91,
     "metadata": {},
     "output_type": "execute_result"
    }
   ],
   "source": [
    "#view 10 of the instances with ag age over 1500 days\n",
    "df[df['AgeuponIntake'] > 1500].head(10)"
   ]
  },
  {
   "cell_type": "markdown",
   "metadata": {},
   "source": [
    "We can see that the data makes sense. In this sample the animals are all dogs or cats and are all neutered/spayed. It is expected that dogs and cats of this age would be in the animal shelter. These outliers will be left as they are. "
   ]
  },
  {
   "cell_type": "markdown",
   "metadata": {},
   "source": [
    "7. **Breed_Intake has a high cardinality and contains overlapping values.**\n",
    "\n",
    "This feature has a cardinality of 211. We will now group these values into 'Mixed Breeds' and 'True Breeds'. This grouping is performed because it is assumed that mixed breeds will be adopted at a different rate than true breeds. \n",
    "\n",
    "\n",
    "Another possible solution to this issue would be to assume that the word 'Mix' is not relevant and to remove that from all values. However, that would not reduce the cardinality enough. Without consultation with a domain expert, we do not have enough information to make breed specific groupings. "
   ]
  },
  {
   "cell_type": "code",
   "execution_count": 92,
   "metadata": {},
   "outputs": [],
   "source": [
    "#use regex to replace any value containing the string 'Mix' with 'Mixed Breed'\n",
    "df['Breed_Intake'] = df.Breed_Intake.str.replace(r'(^.*Mix.*$)', 'Mixed Breed')\n",
    " \n",
    "#replace any string not containing the string 'Mix' with 'Pure Breed'\n",
    "df['Breed_Intake'][df.Breed_Intake.str.contains('Mix')==0] = 'Pure Breed'"
   ]
  },
  {
   "cell_type": "code",
   "execution_count": 93,
   "metadata": {},
   "outputs": [
    {
     "data": {
      "text/plain": [
       "2"
      ]
     },
     "execution_count": 93,
     "metadata": {},
     "output_type": "execute_result"
    }
   ],
   "source": [
    "#check that the number of unique values has reduced to 2\n",
    "df['Breed_Intake'].nunique()"
   ]
  },
  {
   "cell_type": "code",
   "execution_count": 94,
   "metadata": {},
   "outputs": [
    {
     "data": {
      "text/plain": [
       "array(['Mixed Breed', 'Pure Breed'], dtype=object)"
      ]
     },
     "execution_count": 94,
     "metadata": {},
     "output_type": "execute_result"
    }
   ],
   "source": [
    "#view the unique values\n",
    "df['Breed_Intake'].unique()"
   ]
  },
  {
   "cell_type": "markdown",
   "metadata": {},
   "source": [
    "We see that this feature now has two unique values. *Breed_Intake* will now have reverted to an object type. We now convert it back to a category type. "
   ]
  },
  {
   "cell_type": "code",
   "execution_count": 95,
   "metadata": {},
   "outputs": [],
   "source": [
    "#convert Breed_Intake back to a category type\n",
    "df['Breed_Intake'] = df['Breed_Intake'].astype('category')"
   ]
  },
  {
   "cell_type": "markdown",
   "metadata": {},
   "source": [
    "In the cell below we will now plot the grouped breed types. "
   ]
  },
  {
   "cell_type": "code",
   "execution_count": 96,
   "metadata": {},
   "outputs": [
    {
     "data": {
      "text/plain": [
       "Text(0, 0.5, 'number of animals')"
      ]
     },
     "execution_count": 96,
     "metadata": {},
     "output_type": "execute_result"
    },
    {
     "data": {
      "image/png": "[encoded data removed]",
      "text/plain": [
       "<Figure size 864x720 with 1 Axes>"
      ]
     },
     "metadata": {
      "needs_background": "light"
     },
     "output_type": "display_data"
    }
   ],
   "source": [
    "#plot the updated feature\n",
    "grouped_breeds = df['Breed_Intake'].value_counts().sort_values(ascending=False)\n",
    "grouped_breeds.plot(kind='bar', title=\"Breed Types\", figsize=(12,10))\n",
    "plt.ylabel('number of animals')"
   ]
  },
  {
   "cell_type": "markdown",
   "metadata": {},
   "source": [
    "We can see that we have now transformed the *Breed_Intake* feature into one with only two values. We can see that there are far more mixed breed animals than pure breed."
   ]
  },
  {
   "cell_type": "markdown",
   "metadata": {},
   "source": [
    "8. **Colour_Intake has a high cardinality and contains overlapping values.**\n",
    "\n",
    "We will now adrdress the issue of high cardinality in the *Color_Intake* feature. \n",
    "\n",
    "To overcome the high cardinality we will group the values based on whether the animal is dark or light coloured. The first step is to split the values at the delimeter \"/\". It is assumed that the color before the \"/\" is the dominant color. That is, we assume that a cat which is *'Black/White'* is majority black while a cat that is *'White/Black'* is majority white. Based on this assumption we then discard the second color after the \"/\" and group *'Black', 'Brown', 'Torbie', 'Tortie'* and *'Chocolate'* into the 'Dark' value. All other colors and coat patterns are grouped into 'Light'. Altough these colours might not be classified as 'light' colours, there is a clear distinction between them and the dark colours listed above.\n",
    "\n",
    "Another possible solution would be to separate the colours from the breed-specific coat patterns. However, given the quantity of animal types and breeds, it would not be possible to implement this accurately. Furthermore, the cardinality of the colors would probably still be too high. "
   ]
  },
  {
   "cell_type": "code",
   "execution_count": 97,
   "metadata": {},
   "outputs": [],
   "source": [
    "#create a new dataframe in which we will split the color feature into two features\n",
    "color_df = pd.DataFrame(columns=['firstcolor','secondcolor','Color_Intake'])"
   ]
  },
  {
   "cell_type": "code",
   "execution_count": 98,
   "metadata": {},
   "outputs": [],
   "source": [
    "#split the Color_Intake feature at the delimeter \"/\"\n",
    "color_df[['firstcolor','secondcolor']] = df['Color_Intake'].str.split(\"/\",expand=True)"
   ]
  },
  {
   "cell_type": "markdown",
   "metadata": {},
   "source": [
    "In the cell below we look at the unique values in the first column. These are the values we will use from now on."
   ]
  },
  {
   "cell_type": "code",
   "execution_count": 99,
   "metadata": {},
   "outputs": [
    {
     "data": {
      "text/plain": [
       "array(['Torbie', 'White', 'Black', 'Tan', 'Gray', 'Brown Brindle',\n",
       "       'Tricolor', 'Brown', 'Brown Tabby', 'Red', 'Blue', 'Orange Tabby',\n",
       "       'Gray Tabby', 'Chocolate', 'Tortie', 'Black Tabby', 'Calico',\n",
       "       'Blue Tabby', 'Cream', 'Yellow', 'Sable', 'Silver Tabby',\n",
       "       'Flame Point', 'Orange', 'Lynx Point', 'Blue Point', 'Cream Tabby',\n",
       "       'Silver', 'Blue Merle', 'Fawn', 'Buff', 'Brown Tiger',\n",
       "       'Seal Point', 'Blue Tick', 'Gold', 'Red Tick', 'Calico Point',\n",
       "       'Tortie Point', 'Lilac Point', 'Red Merle', 'Pink', 'Brown Merle'],\n",
       "      dtype=object)"
      ]
     },
     "execution_count": 99,
     "metadata": {},
     "output_type": "execute_result"
    }
   ],
   "source": [
    "#check the unique values\n",
    "color_df['firstcolor'].unique()"
   ]
  },
  {
   "cell_type": "code",
   "execution_count": 100,
   "metadata": {},
   "outputs": [],
   "source": [
    "#if the string contains any of the colors listed, replace with 'Dark'\n",
    "#otherwise replace with 'Light'\n",
    "color_df['firstcolor'] = np.where(color_df['firstcolor'].str.contains('Black|Brown|Torbie|Tortie|Chocolate', regex=True), \"Dark\", \"Light\")"
   ]
  },
  {
   "cell_type": "code",
   "execution_count": 101,
   "metadata": {},
   "outputs": [
    {
     "data": {
      "text/plain": [
       "2"
      ]
     },
     "execution_count": 101,
     "metadata": {},
     "output_type": "execute_result"
    }
   ],
   "source": [
    "#check that the number of values has reduced to 2\n",
    "color_df['firstcolor'].nunique()"
   ]
  },
  {
   "cell_type": "markdown",
   "metadata": {},
   "source": [
    "We see that this feature now has only two values. In the cell below we assign the feature *'Color_Intake'* in our dataset to the feature *'firstcolor'*."
   ]
  },
  {
   "cell_type": "code",
   "execution_count": 102,
   "metadata": {},
   "outputs": [],
   "source": [
    "#set color_intake equal to the firstcolour\n",
    "df['Color_Intake']=color_df['firstcolor']"
   ]
  },
  {
   "cell_type": "markdown",
   "metadata": {},
   "source": [
    "*Breed_Intake* will now have reverted to an object type. We now convert it back to a category type. "
   ]
  },
  {
   "cell_type": "code",
   "execution_count": 103,
   "metadata": {},
   "outputs": [],
   "source": [
    "#convert Color_Intake back to a category type\n",
    "df['Color_Intake'] = df['Color_Intake'].astype('category')"
   ]
  },
  {
   "cell_type": "markdown",
   "metadata": {},
   "source": [
    "In the cell below we will now plot the grouped colors."
   ]
  },
  {
   "cell_type": "code",
   "execution_count": 104,
   "metadata": {},
   "outputs": [
    {
     "data": {
      "text/plain": [
       "Text(0, 0.5, 'number of animals')"
      ]
     },
     "execution_count": 104,
     "metadata": {},
     "output_type": "execute_result"
    },
    {
     "data": {
      "image/png": "[encoded data removed]",
      "text/plain": [
       "<Figure size 864x720 with 1 Axes>"
      ]
     },
     "metadata": {
      "needs_background": "light"
     },
     "output_type": "display_data"
    }
   ],
   "source": [
    "grouped_color = df['Color_Intake'].value_counts().sort_values(ascending=False)\n",
    "grouped_color.plot(kind='bar', title=\"Color of Animal\", figsize=(12,10))\n",
    "plt.ylabel('number of animals')"
   ]
  },
  {
   "cell_type": "markdown",
   "metadata": {},
   "source": [
    "We can see that the majority of animals fall within the *Dark* coloured group."
   ]
  },
  {
   "cell_type": "markdown",
   "metadata": {},
   "source": [
    "### Summary of data Quality plan"
   ]
  },
  {
   "cell_type": "markdown",
   "metadata": {},
   "source": [
    "    \n",
    "| Feature                 | Data Quality Issue         | Handling Strategy         |\n",
    "|-------------------------|----------------------      |------------------------   |\n",
    "|AnimalID (object)                          |   Unique identifier not to be used as feature in data preparation|Keep to be able to link example to actual animal, but do not use for data preparation|\n",
    "Name_Intake (category)             |   Missing Values (30.6%)            | Change it so that it has two values - 'No' to represent a missing value and 'Yes' to show that a name was provided. |       \n",
    "DateTime_Intake (datetime64[ns])       | Some dates failed logical integrity tests. | Revert switched features for failing instances.|\n",
    "FoundLocation (category)             | High cardinality (766)   | Represent found location using only the city.| \n",
    "IntakeType (category)                 | None | Keep as is |   \n",
    "IntakeCondition (category)                | Ambiguous value 'Other' | Impute to mode. |\n",
    "AnimalType_Intake (category)    | Ambiguous value 'Other' | Further divide up this value by creating a \"Bat\" value. |\n",
    "SexuponIntake (category)                  | None | Keep as is|\n",
    "AgeuponIntake (category)                  | Not in a useful numeric format. Potential outliers | Convert into days. Leave potential outliers as they are. |\n",
    "Breed_Intake (category)                 | High cardinality  (211) | Divide all values into 'Mixed Breed' and 'Pure Breed'  | \n",
    "Color_Intake (category)                 | High cardinality  (115) | Divide all values into 'Dark' and 'Light'|\n",
    "DateTime_Outcome (datetime64[ns])             | Some dates failed logical integrity tests.  | Revert switched features for failing instances.|\n",
    "DateofBirth (datetime64[ns])             | None | Keep as is |\n",
    "SexuponOutcome (category)         | None | Keep as is|\n",
    "AgeuponOutcome (category)                  | Not in a useful numeric format. Potential outliers | Convert into days. Leave potential outliers as they are. |\n",
    "binary_outcome (category)         | None | Keep as is|"
   ]
  },
  {
   "cell_type": "markdown",
   "metadata": {},
   "source": [
    "### Save the new CSV file with a self explanatory name. "
   ]
  },
  {
   "cell_type": "markdown",
   "metadata": {},
   "source": [
    "Next we will generate a table of summary statistics for our cleaned features and will then save the cleaned dataset to a csv file."
   ]
  },
  {
   "cell_type": "code",
   "execution_count": 105,
   "metadata": {},
   "outputs": [
    {
     "data": {
      "text/html": [
       "<div>\n",
       "<style scoped>\n",
       "    .dataframe tbody tr th:only-of-type {\n",
       "        vertical-align: middle;\n",
       "    }\n",
       "\n",
       "    .dataframe tbody tr th {\n",
       "        vertical-align: top;\n",
       "    }\n",
       "\n",
       "    .dataframe thead th {\n",
       "        text-align: right;\n",
       "    }\n",
       "</style>\n",
       "<table border=\"1\" class=\"dataframe\">\n",
       "  <thead>\n",
       "    <tr style=\"text-align: right;\">\n",
       "      <th></th>\n",
       "      <th>count</th>\n",
       "      <th>unique</th>\n",
       "      <th>top</th>\n",
       "      <th>freq</th>\n",
       "    </tr>\n",
       "  </thead>\n",
       "  <tbody>\n",
       "    <tr>\n",
       "      <td>Name_Provided</td>\n",
       "      <td>1000</td>\n",
       "      <td>2</td>\n",
       "      <td>Yes</td>\n",
       "      <td>694</td>\n",
       "    </tr>\n",
       "    <tr>\n",
       "      <td>FoundLocation</td>\n",
       "      <td>1000</td>\n",
       "      <td>14</td>\n",
       "      <td>Austin (TX)</td>\n",
       "      <td>820</td>\n",
       "    </tr>\n",
       "    <tr>\n",
       "      <td>IntakeType</td>\n",
       "      <td>1000</td>\n",
       "      <td>5</td>\n",
       "      <td>Stray</td>\n",
       "      <td>708</td>\n",
       "    </tr>\n",
       "    <tr>\n",
       "      <td>IntakeCondition</td>\n",
       "      <td>1000</td>\n",
       "      <td>4</td>\n",
       "      <td>Normal</td>\n",
       "      <td>892</td>\n",
       "    </tr>\n",
       "    <tr>\n",
       "      <td>AnimalType_Intake</td>\n",
       "      <td>1000</td>\n",
       "      <td>5</td>\n",
       "      <td>Dog</td>\n",
       "      <td>563</td>\n",
       "    </tr>\n",
       "    <tr>\n",
       "      <td>SexuponIntake</td>\n",
       "      <td>1000</td>\n",
       "      <td>5</td>\n",
       "      <td>Intact Male</td>\n",
       "      <td>332</td>\n",
       "    </tr>\n",
       "    <tr>\n",
       "      <td>Breed_Intake</td>\n",
       "      <td>1000</td>\n",
       "      <td>2</td>\n",
       "      <td>Mixed Breed</td>\n",
       "      <td>760</td>\n",
       "    </tr>\n",
       "    <tr>\n",
       "      <td>Color_Intake</td>\n",
       "      <td>1000</td>\n",
       "      <td>2</td>\n",
       "      <td>Dark</td>\n",
       "      <td>533</td>\n",
       "    </tr>\n",
       "    <tr>\n",
       "      <td>SexuponOutcome</td>\n",
       "      <td>1000</td>\n",
       "      <td>5</td>\n",
       "      <td>Neutered Male</td>\n",
       "      <td>346</td>\n",
       "    </tr>\n",
       "    <tr>\n",
       "      <td>binary_outcome</td>\n",
       "      <td>1000</td>\n",
       "      <td>2</td>\n",
       "      <td>0</td>\n",
       "      <td>920</td>\n",
       "    </tr>\n",
       "  </tbody>\n",
       "</table>\n",
       "</div>"
      ],
      "text/plain": [
       "                  count unique            top freq\n",
       "Name_Provided      1000      2            Yes  694\n",
       "FoundLocation      1000     14    Austin (TX)  820\n",
       "IntakeType         1000      5          Stray  708\n",
       "IntakeCondition    1000      4         Normal  892\n",
       "AnimalType_Intake  1000      5            Dog  563\n",
       "SexuponIntake      1000      5    Intact Male  332\n",
       "Breed_Intake       1000      2    Mixed Breed  760\n",
       "Color_Intake       1000      2           Dark  533\n",
       "SexuponOutcome     1000      5  Neutered Male  346\n",
       "binary_outcome     1000      2              0  920"
      ]
     },
     "execution_count": 105,
     "metadata": {},
     "output_type": "execute_result"
    }
   ],
   "source": [
    "##create table of statistics for the categorical features\n",
    "category_cols = df.select_dtypes(['category']).columns\n",
    "df.select_dtypes(['category']).describe().T"
   ]
  },
  {
   "cell_type": "markdown",
   "metadata": {},
   "source": [
    "As before, we will add the missing values column."
   ]
  },
  {
   "cell_type": "code",
   "execution_count": 106,
   "metadata": {},
   "outputs": [],
   "source": [
    "#create missing column \n",
    "category_columns_perc_missing  = 100 * (df[category_cols].isnull().sum()/df.shape[0])\n",
    "\n",
    "# Store the values in a new dataframe\n",
    "category_columns_perc_missing = pd.DataFrame(category_columns_perc_missing, columns=['%missing'])"
   ]
  },
  {
   "cell_type": "code",
   "execution_count": 107,
   "metadata": {},
   "outputs": [
    {
     "data": {
      "text/html": [
       "<div>\n",
       "<style scoped>\n",
       "    .dataframe tbody tr th:only-of-type {\n",
       "        vertical-align: middle;\n",
       "    }\n",
       "\n",
       "    .dataframe tbody tr th {\n",
       "        vertical-align: top;\n",
       "    }\n",
       "\n",
       "    .dataframe thead th {\n",
       "        text-align: right;\n",
       "    }\n",
       "</style>\n",
       "<table border=\"1\" class=\"dataframe\">\n",
       "  <thead>\n",
       "    <tr style=\"text-align: right;\">\n",
       "      <th></th>\n",
       "      <th>count</th>\n",
       "      <th>unique</th>\n",
       "      <th>top</th>\n",
       "      <th>freq</th>\n",
       "      <th>%missing</th>\n",
       "    </tr>\n",
       "  </thead>\n",
       "  <tbody>\n",
       "    <tr>\n",
       "      <td>Name_Provided</td>\n",
       "      <td>1000</td>\n",
       "      <td>2</td>\n",
       "      <td>Yes</td>\n",
       "      <td>694</td>\n",
       "      <td>0.0</td>\n",
       "    </tr>\n",
       "    <tr>\n",
       "      <td>FoundLocation</td>\n",
       "      <td>1000</td>\n",
       "      <td>14</td>\n",
       "      <td>Austin (TX)</td>\n",
       "      <td>820</td>\n",
       "      <td>0.0</td>\n",
       "    </tr>\n",
       "    <tr>\n",
       "      <td>IntakeType</td>\n",
       "      <td>1000</td>\n",
       "      <td>5</td>\n",
       "      <td>Stray</td>\n",
       "      <td>708</td>\n",
       "      <td>0.0</td>\n",
       "    </tr>\n",
       "    <tr>\n",
       "      <td>IntakeCondition</td>\n",
       "      <td>1000</td>\n",
       "      <td>4</td>\n",
       "      <td>Normal</td>\n",
       "      <td>892</td>\n",
       "      <td>0.0</td>\n",
       "    </tr>\n",
       "    <tr>\n",
       "      <td>AnimalType_Intake</td>\n",
       "      <td>1000</td>\n",
       "      <td>5</td>\n",
       "      <td>Dog</td>\n",
       "      <td>563</td>\n",
       "      <td>0.0</td>\n",
       "    </tr>\n",
       "    <tr>\n",
       "      <td>SexuponIntake</td>\n",
       "      <td>1000</td>\n",
       "      <td>5</td>\n",
       "      <td>Intact Male</td>\n",
       "      <td>332</td>\n",
       "      <td>0.0</td>\n",
       "    </tr>\n",
       "    <tr>\n",
       "      <td>Breed_Intake</td>\n",
       "      <td>1000</td>\n",
       "      <td>2</td>\n",
       "      <td>Mixed Breed</td>\n",
       "      <td>760</td>\n",
       "      <td>0.0</td>\n",
       "    </tr>\n",
       "    <tr>\n",
       "      <td>Color_Intake</td>\n",
       "      <td>1000</td>\n",
       "      <td>2</td>\n",
       "      <td>Dark</td>\n",
       "      <td>533</td>\n",
       "      <td>0.0</td>\n",
       "    </tr>\n",
       "    <tr>\n",
       "      <td>SexuponOutcome</td>\n",
       "      <td>1000</td>\n",
       "      <td>5</td>\n",
       "      <td>Neutered Male</td>\n",
       "      <td>346</td>\n",
       "      <td>0.0</td>\n",
       "    </tr>\n",
       "    <tr>\n",
       "      <td>binary_outcome</td>\n",
       "      <td>1000</td>\n",
       "      <td>2</td>\n",
       "      <td>0</td>\n",
       "      <td>920</td>\n",
       "      <td>0.0</td>\n",
       "    </tr>\n",
       "  </tbody>\n",
       "</table>\n",
       "</div>"
      ],
      "text/plain": [
       "                  count unique            top freq  %missing\n",
       "Name_Provided      1000      2            Yes  694       0.0\n",
       "FoundLocation      1000     14    Austin (TX)  820       0.0\n",
       "IntakeType         1000      5          Stray  708       0.0\n",
       "IntakeCondition    1000      4         Normal  892       0.0\n",
       "AnimalType_Intake  1000      5            Dog  563       0.0\n",
       "SexuponIntake      1000      5    Intact Male  332       0.0\n",
       "Breed_Intake       1000      2    Mixed Breed  760       0.0\n",
       "Color_Intake       1000      2           Dark  533       0.0\n",
       "SexuponOutcome     1000      5  Neutered Male  346       0.0\n",
       "binary_outcome     1000      2              0  920       0.0"
      ]
     },
     "execution_count": 107,
     "metadata": {},
     "output_type": "execute_result"
    }
   ],
   "source": [
    "# create category dataframe\n",
    "df_categorical_table = df[category_cols].describe().T\n",
    "\n",
    "# cocatenate the columns together to create final table\n",
    "df_category_data_quality_plan_table = pd.concat([df_categorical_table, category_columns_perc_missing], axis=1)\n",
    "\n",
    "#visualise the final table of descriptive statistics\n",
    "df_category_data_quality_plan_table"
   ]
  },
  {
   "cell_type": "markdown",
   "metadata": {},
   "source": [
    "We will now create a table of summary statistics for the continuous features."
   ]
  },
  {
   "cell_type": "code",
   "execution_count": 108,
   "metadata": {},
   "outputs": [
    {
     "data": {
      "text/html": [
       "<div>\n",
       "<style scoped>\n",
       "    .dataframe tbody tr th:only-of-type {\n",
       "        vertical-align: middle;\n",
       "    }\n",
       "\n",
       "    .dataframe tbody tr th {\n",
       "        vertical-align: top;\n",
       "    }\n",
       "\n",
       "    .dataframe thead th {\n",
       "        text-align: right;\n",
       "    }\n",
       "</style>\n",
       "<table border=\"1\" class=\"dataframe\">\n",
       "  <thead>\n",
       "    <tr style=\"text-align: right;\">\n",
       "      <th></th>\n",
       "      <th>count</th>\n",
       "      <th>mean</th>\n",
       "      <th>std</th>\n",
       "      <th>min</th>\n",
       "      <th>25%</th>\n",
       "      <th>50%</th>\n",
       "      <th>75%</th>\n",
       "      <th>max</th>\n",
       "    </tr>\n",
       "  </thead>\n",
       "  <tbody>\n",
       "    <tr>\n",
       "      <td>AgeuponIntake</td>\n",
       "      <td>1000.0</td>\n",
       "      <td>759.812</td>\n",
       "      <td>1116.589203</td>\n",
       "      <td>0.0</td>\n",
       "      <td>68.00</td>\n",
       "      <td>365.0</td>\n",
       "      <td>765.25</td>\n",
       "      <td>7305.0</td>\n",
       "    </tr>\n",
       "    <tr>\n",
       "      <td>AgeuponOutcome</td>\n",
       "      <td>1000.0</td>\n",
       "      <td>781.955</td>\n",
       "      <td>1124.826147</td>\n",
       "      <td>0.0</td>\n",
       "      <td>86.75</td>\n",
       "      <td>367.0</td>\n",
       "      <td>808.25</td>\n",
       "      <td>7306.0</td>\n",
       "    </tr>\n",
       "  </tbody>\n",
       "</table>\n",
       "</div>"
      ],
      "text/plain": [
       "                 count     mean          std  min    25%    50%     75%  \\\n",
       "AgeuponIntake   1000.0  759.812  1116.589203  0.0  68.00  365.0  765.25   \n",
       "AgeuponOutcome  1000.0  781.955  1124.826147  0.0  86.75  367.0  808.25   \n",
       "\n",
       "                   max  \n",
       "AgeuponIntake   7305.0  \n",
       "AgeuponOutcome  7306.0  "
      ]
     },
     "execution_count": 108,
     "metadata": {},
     "output_type": "execute_result"
    }
   ],
   "source": [
    "#create table of statistics for the continuous features\n",
    "continuous_columns = df.select_dtypes(['int64']).columns\n",
    "df[continuous_columns].describe().T"
   ]
  },
  {
   "cell_type": "markdown",
   "metadata": {},
   "source": [
    "We will now save our cleaned dataframe to a csv file."
   ]
  },
  {
   "cell_type": "code",
   "execution_count": 109,
   "metadata": {},
   "outputs": [],
   "source": [
    "#write cleaned dataframe to a csv file\n",
    "df.to_csv('19205514_cleaned_in_dataQualityPlan.csv', index=False)"
   ]
  },
  {
   "cell_type": "markdown",
   "metadata": {},
   "source": [
    "# (3) - Exploring relationships between feature pairs "
   ]
  },
  {
   "cell_type": "markdown",
   "metadata": {},
   "source": [
    "In this section of the assignment I will plot pairwise feature interactions between a subset of features which I think may be indicative of the target outcome. \n",
    "\n",
    "The features that I will look at for pairwise feature interaction are the following continuous features:\n",
    "- Age upon intake\n",
    "- Age upon outcome\n",
    "\n",
    "I will look at the following categorical features: \n",
    "- Name\n",
    "- Found Location\n",
    "- Animal type\n",
    "- intake type\n",
    "- Intake condition\n",
    "- Breed upon intake\n",
    "- Color upon intake\n",
    "- Sex upon intake\n",
    "- Sex upon outcome\n",
    "- Binary outcome\n",
    "\n",
    "Note: \n",
    "- In order to explore the date of intake we will also extract the month, day and hour from it and compare these to the binary outcome.\n",
    "- We are omitting a scatter plot of AgeuponIntake and AgeuponOutcome. This will have a very high correlation but will provide no additional information. As a result, there are no continuous vs continuous scatter plots. \n"
   ]
  },
  {
   "cell_type": "markdown",
   "metadata": {},
   "source": [
    "### Categorical vs categorical stacked bar plots"
   ]
  },
  {
   "cell_type": "markdown",
   "metadata": {},
   "source": [
    "To begin with, all categorical features are plotted against the binary outcome as I assume at this stage that all features could be indicvative of the outcome. We will then explore any findings further. "
   ]
  },
  {
   "cell_type": "markdown",
   "metadata": {},
   "source": [
    "#### Categorical vs binary outcome"
   ]
  },
  {
   "cell_type": "code",
   "execution_count": 110,
   "metadata": {},
   "outputs": [],
   "source": [
    "#This code is adapted from sample solution provided\n",
    "\n",
    "# create function which takes a dataframe, two features and a title as arguments\n",
    "def plot_categ_against_outcome(data_f, col1, col2, title_of_graph):\n",
    "\n",
    "    values = pd.unique(data_f[col1].ravel())\n",
    "\n",
    "    # create percent column and initalise to 0\n",
    "    data_f['percent'] = 0\n",
    "\n",
    "    #print header\n",
    "    print(col1)\n",
    "    print(\"Index \\t Count\")\n",
    "\n",
    "    # loop through each value in the feature col1\n",
    "    for i in values:\n",
    "\n",
    "        count = data_f[data_f[col1] == i].count()[col2]\n",
    "        count_percentage = (1 / count) * 100\n",
    "\n",
    "        # print out index vs count\n",
    "        print(i, \"\\t\", count)\n",
    "\n",
    "        index_list = data_f[data_f[col1] == i].index.tolist()\n",
    "        for ind in index_list:\n",
    "            data_f.loc[ind, 'percent'] = count_percentage\n",
    "\n",
    "    group = data_f[['percent',col1,col2]].groupby([col1,col2]).sum()\n",
    "\n",
    "    #plot the results\n",
    "    my_plot = group.unstack().plot(kind='bar', stacked=True, title=title_of_graph, figsize=(15,7), grid=True)\n",
    "\n",
    "    # add legend\n",
    "    red_patch = mpatches.Patch(color='orange', label='percent, negative outcome')\n",
    "    blue_patch = mpatches.Patch(color='blue', label='percent, positive outcome')\n",
    "    my_plot.legend(handles=[red_patch, blue_patch], frameon = True)\n",
    "\n",
    "    # add gridlines to make the plots easier to visualise\n",
    "    plt.grid(b=True, which='major', color='#666666', linestyle='-')\n",
    "    plt.minorticks_on()\n",
    "    \n",
    "    plt.grid(b=True, which='minor', color='#999999', linestyle='-', alpha=0.2)\n",
    "\n",
    "    my_plot.set_xlabel(col1)\n",
    "    my_plot.set_ylabel(col2)\n",
    "    my_plot.set_ylim([0,100])"
   ]
  },
  {
   "cell_type": "code",
   "execution_count": 111,
   "metadata": {},
   "outputs": [
    {
     "name": "stdout",
     "output_type": "stream",
     "text": [
      "Breed_Intake\n",
      "Index \t Count\n",
      "Mixed Breed \t 760\n",
      "Pure Breed \t 240\n"
     ]
    },
    {
     "data": {
      "image/png": "[encoded data removed]",
      "text/plain": [
       "<Figure size 1080x504 with 1 Axes>"
      ]
     },
     "metadata": {
      "needs_background": "light"
     },
     "output_type": "display_data"
    }
   ],
   "source": [
    "#plot breed against binary outcome\n",
    "plot_categ_against_outcome(df,'Breed_Intake',\"binary_outcome\",\"Breed upon intake vs Outcome\")"
   ]
  },
  {
   "cell_type": "code",
   "execution_count": 112,
   "metadata": {},
   "outputs": [
    {
     "name": "stdout",
     "output_type": "stream",
     "text": [
      "Name_Provided\n",
      "Index \t Count\n",
      "Yes \t 694\n",
      "No \t 306\n"
     ]
    },
    {
     "data": {
      "image/png": "[encoded data removed]",
      "text/plain": [
       "<Figure size 1080x504 with 1 Axes>"
      ]
     },
     "metadata": {
      "needs_background": "light"
     },
     "output_type": "display_data"
    }
   ],
   "source": [
    "#plot name against binary outcome\n",
    "plot_categ_against_outcome(df,'Name_Provided',\"binary_outcome\",'Name vs Outcome')"
   ]
  },
  {
   "cell_type": "code",
   "execution_count": null,
   "metadata": {},
   "outputs": [
    {
     "name": "stdout",
     "output_type": "stream",
     "text": [
      "FoundLocation\n",
      "Index \t Count\n",
      "Austin (TX) \t 820\n"
     ]
    }
   ],
   "source": [
    "#plot found location against binary outcome\n",
    "plot_categ_against_outcome(df,'FoundLocation',\"binary_outcome\", \"Found location vs Outcome\")"
   ]
  },
  {
   "cell_type": "code",
   "execution_count": null,
   "metadata": {},
   "outputs": [],
   "source": [
    "#plot color against binary outcome\n",
    "plot_categ_against_outcome(df,'Color_Intake',\"binary_outcome\", \"Color vs Outcome\")"
   ]
  },
  {
   "cell_type": "code",
   "execution_count": null,
   "metadata": {},
   "outputs": [],
   "source": [
    "#plot intake type against binary outcome\n",
    "plot_categ_against_outcome(df,'IntakeType',\"binary_outcome\",\"IntakeType vs Outcome\")"
   ]
  },
  {
   "cell_type": "code",
   "execution_count": null,
   "metadata": {},
   "outputs": [],
   "source": [
    "#plot intake condition against binary outcome\n",
    "plot_categ_against_outcome(df,'IntakeCondition',\"binary_outcome\",\"IntakeCondition vs Outcome\")"
   ]
  },
  {
   "cell_type": "code",
   "execution_count": null,
   "metadata": {},
   "outputs": [],
   "source": [
    "#plot animal type against binary outcome\n",
    "plot_categ_against_outcome(df,'AnimalType_Intake',\"binary_outcome\",\"AnimalType vs Outcome\")"
   ]
  },
  {
   "cell_type": "code",
   "execution_count": null,
   "metadata": {},
   "outputs": [],
   "source": [
    "#plot sex upon intake against binary outcome\n",
    "plot_categ_against_outcome(df,'SexuponIntake',\"binary_outcome\",\"Sex upon intake vs Outcome\")"
   ]
  },
  {
   "cell_type": "code",
   "execution_count": null,
   "metadata": {},
   "outputs": [],
   "source": [
    "#plot sex upon outcome against binary outcome\n",
    "plot_categ_against_outcome(df,'SexuponOutcome',\"binary_outcome\",\"Sex upon Outcome vs Outcome\")"
   ]
  },
  {
   "cell_type": "markdown",
   "metadata": {},
   "source": [
    "In order to plot *DateTime_Intake* against the outcome we need to extract the month, weekday and hour from it. At this stage in the assignment we will create a new temporary dataframe in which to perform this extraction and explore this information."
   ]
  },
  {
   "cell_type": "code",
   "execution_count": null,
   "metadata": {},
   "outputs": [],
   "source": [
    "#create a new dataframe\n",
    "month_day_hour_df = pd.DataFrame(\n",
    "     columns=['DateTime_Intake','DateTime_Outcome', 'binary_outcome'])"
   ]
  },
  {
   "cell_type": "code",
   "execution_count": null,
   "metadata": {},
   "outputs": [],
   "source": [
    "#create three features in the new dataframe equal to the features in df\n",
    "month_day_hour_df['binary_outcome']=df['binary_outcome']\n",
    "month_day_hour_df['DateTime_Intake']=df['DateTime_Intake']\n",
    "month_day_hour_df['DateTime_Outcome']=df['DateTime_Outcome']"
   ]
  },
  {
   "cell_type": "code",
   "execution_count": null,
   "metadata": {},
   "outputs": [],
   "source": [
    "#extract the month, weekday name and hour\n",
    "month_day_hour_df['Intake_Month']=month_day_hour_df['DateTime_Intake'].dt.month\n",
    "month_day_hour_df['Intake_Weekday']=month_day_hour_df['DateTime_Intake'].dt.weekday_name\n",
    "month_day_hour_df['Intake_Hour']=month_day_hour_df['DateTime_Intake'].dt.hour"
   ]
  },
  {
   "cell_type": "code",
   "execution_count": null,
   "metadata": {},
   "outputs": [],
   "source": [
    "#plot month against outcome\n",
    "plot_categ_against_outcome(month_day_hour_df,'Intake_Month',\"binary_outcome\",\"Intake Month vs Outcome\")"
   ]
  },
  {
   "cell_type": "code",
   "execution_count": null,
   "metadata": {},
   "outputs": [],
   "source": [
    "#plot weekday against outcome\n",
    "plot_categ_against_outcome(month_day_hour_df,'Intake_Weekday',\"binary_outcome\",\"Intake weekday vs Outcome\")"
   ]
  },
  {
   "cell_type": "code",
   "execution_count": null,
   "metadata": {},
   "outputs": [],
   "source": [
    "#plot hours against outcome\n",
    "plot_categ_against_outcome(month_day_hour_df,'Intake_Hour',\"binary_outcome\", \"Intake hour vs Outcome\")"
   ]
  },
  {
   "cell_type": "markdown",
   "metadata": {},
   "source": [
    "The categorical features above were chosen to plot against the outcome as it was expected that all could have an impact on the outcome. We can see the following: \n",
    "- There is no correlation between breed and outcome and very little difference in the outcome between dark and light colored animals. I had expected that there would be more of a correlation between breed and outcome.\n",
    "- Animals are 20% more likely to have a negative outcome if they have no name.\n",
    "- We see that there are four locations slightly correlated with a negative outcome. However, we can assume that this is because these locations also have the largest number of animals associated with them.\n",
    "- *Intake_Type* is interesting. As expected, we see that all *Euthenasia Requests* have a negative outcome. However, we also see a very strong relationship between *Wildlife* and outcome. All wildlife have a negative outcome. \n",
    "- *Intake_Condition* tells us that sick and injured animals are 40% more likely to have a negative outcome. This is as expected.\n",
    "- Interestingly in *AnimalType_Intake* we can see that there is a strong correlation between *Bats* and a negative outcome. Similarly, animals of type *Other* have a 60% chance of a negative outcome. \n",
    "- In *SexuponIntake* and *SexuponOutcome* we can see that there is no clear difference in outcome between all values excluding *Unknown*. It seems that animals of *Unkown* type have approximately a 50% chance of a negative outcome. \n",
    "- There is no clear trend in the plot of month vs outcome initially. We can see that March has the highest likelihood of a negative outcome. This is possible due to it being shortly after Christmas, when people no longer want pets given as Christmas gifts. Although not very significant we can also see that there is a slightly more negative outcome in the summer months. I am assuming that this is because of animal breeding seasons, resulting in more strays entering the shelter.\n",
    "- In the weekdays we can see that Sunday, Monday, Tuesday and Wednesday have a slightly higher likelihood of a negative outcome. However, overall there is no clear trend. \n",
    "- Hour of intake is interesting. It seems that there is a much higher likelihood of a negative outcome if the animal is taken into the shelter during the night, with intake at 2am having a 100% likelihood of a negative outcome. However, on further investigation we can see that the number of animals being dropped in at these times is very low compared to the daylight hours. "
   ]
  },
  {
   "cell_type": "markdown",
   "metadata": {},
   "source": [
    "### Categorical vs categorical\n",
    "\n",
    "Based on the findings in the plots above, we will now plot some categorical features against eachother in order to explore further whether they are indicative of the target otucome. The features chosen to plot against eachother are based on what I assume will have interesting and informative findings."
   ]
  },
  {
   "cell_type": "code",
   "execution_count": null,
   "metadata": {},
   "outputs": [],
   "source": [
    "#This code is adapted from sample solution provided\n",
    "\n",
    "# create function which takes a dataframe and two features as arguments\n",
    "def plot_categ_against_categ(df_to_plot, column1, column2):\n",
    "    \n",
    "    f = pd.unique(df_to_plot[column1].ravel())\n",
    "    print(f)\n",
    "    # add new column and set values to zero\n",
    "    df_to_plot['percent'] = 0\n",
    "\n",
    "    #print header\n",
    "    print(column1)\n",
    "    print(\"Index \\t Count\")\n",
    "\n",
    "    # loop through each value in the first feature\n",
    "    for i in f:\n",
    "        count = df_to_plot[df_to_plot[column1] == i].count()[column2]\n",
    "        count_percentage = (1 / count) * 100\n",
    "\n",
    "        # print out index vs count\n",
    "        print(i, \"\\t\", count)\n",
    "\n",
    "        index_list = df_to_plot[df_to_plot[column1] == i].index.tolist()\n",
    "\n",
    "        for ind in index_list:\n",
    "            df_to_plot.loc[ind, 'percent'] = count_percentage\n",
    "\n",
    "    group = df_to_plot[['percent', column1, column2]].groupby([column1, column2]).sum()\n",
    "    \n",
    "    #plot the results\n",
    "    my_plot = group.unstack().plot(kind='bar',\n",
    "                                   stacked=True,\n",
    "                                   title=  column1 + \" vs \" + column2,\n",
    "                                   figsize=(15,5),\n",
    "                                   grid=True,\n",
    "                                   color=['#009900', 'red', \"orange\", \"black\", \"blue\", \"pink\"])\n",
    "\n",
    "\n",
    "    # add gridlines \n",
    "    plt.grid(b=True, which='major', color='#666666', linestyle='-')\n",
    "    plt.minorticks_on()\n",
    "    plt.grid(b=True, which='minor', color='#999999', linestyle='-', alpha=0.2)\n",
    "\n",
    "    my_plot.set_xlabel(column1)\n",
    "    my_plot.set_ylabel(column2)\n",
    "    my_plot.set_ylim([0,100])"
   ]
  },
  {
   "cell_type": "markdown",
   "metadata": {},
   "source": [
    "**Animal type vs color**"
   ]
  },
  {
   "cell_type": "code",
   "execution_count": null,
   "metadata": {},
   "outputs": [],
   "source": [
    "#plot animal type against color\n",
    "plot_categ_against_categ(df,'AnimalType_Intake','Color_Intake')"
   ]
  },
  {
   "cell_type": "markdown",
   "metadata": {},
   "source": [
    "We saw in the graphs above that dark animals were approximately 5% more likely to have a negative outcome than light animals. This graph here of animal type vs color helps us understand this finding better. We saw that bats have a 100% likelihood of a negative outcome. Here we can see that approximately 96% of bats are dark. Thus we can assume that the difference in outcome between light and dark animals is due to the bats having a value of *Dark*. "
   ]
  },
  {
   "cell_type": "markdown",
   "metadata": {},
   "source": [
    "**Intake type vs name**"
   ]
  },
  {
   "cell_type": "code",
   "execution_count": null,
   "metadata": {},
   "outputs": [],
   "source": [
    "#plot intake type against name\n",
    "plot_categ_against_categ(df,'IntakeType','Name_Provided')"
   ]
  },
  {
   "cell_type": "markdown",
   "metadata": {},
   "source": [
    "Wildlife, all of whom have a negative outcome as we saw above, have no name. Strays account for most of the other animals with no name. This makes sense.\n",
    "\n",
    "**Intake condition vs name**"
   ]
  },
  {
   "cell_type": "code",
   "execution_count": null,
   "metadata": {},
   "outputs": [],
   "source": [
    "#plot intake condition against name\n",
    "plot_categ_against_categ(df,'IntakeCondition','Name_Provided')"
   ]
  },
  {
   "cell_type": "markdown",
   "metadata": {},
   "source": [
    "We can see that there is no clear relationship between intake condition and name."
   ]
  },
  {
   "cell_type": "markdown",
   "metadata": {},
   "source": [
    "**Intake condition vs Intake type**"
   ]
  },
  {
   "cell_type": "code",
   "execution_count": null,
   "metadata": {},
   "outputs": [],
   "source": [
    "#plot intake condition against intake type\n",
    "plot_categ_against_categ(df,'IntakeCondition','IntakeType')"
   ]
  },
  {
   "cell_type": "markdown",
   "metadata": {},
   "source": [
    "We can see that apart from a small number with a value of normal, wildlife are all either sick or injured when entering the shelter. We saw earlier that all wildlife have a negative outcome and that sick/injured animals are 40% more likely to have a negative outcome. Thus it makes sense that this graph shows that wildlife are almost all sick/injured. "
   ]
  },
  {
   "cell_type": "markdown",
   "metadata": {},
   "source": [
    "**Animal type vs Intake type**"
   ]
  },
  {
   "cell_type": "code",
   "execution_count": null,
   "metadata": {},
   "outputs": [],
   "source": [
    "#plot animal type against intake type\n",
    "plot_categ_against_categ(df,'AnimalType_Intake','IntakeType')"
   ]
  },
  {
   "cell_type": "markdown",
   "metadata": {},
   "source": [
    "We can see when plotting animal type with intake type that the wildlife all fall into the bat and other values. Again, based on our findings above, this makes sense. "
   ]
  },
  {
   "cell_type": "code",
   "execution_count": null,
   "metadata": {},
   "outputs": [],
   "source": [
    "#plot animal intake type against intake condition\n",
    "plot_categ_against_categ(df,'AnimalType_Intake','IntakeCondition')"
   ]
  },
  {
   "cell_type": "markdown",
   "metadata": {},
   "source": [
    "The animal type vs intake condition plot also fits with our results from the graphs above. We saw that all birds had a positive outcome and here we can see that the majority of birds are of normal condition. *Bats* and *Other*, who had the worst outcome of all types, have the largest percentage of sick and injured animals. This makes sense. "
   ]
  },
  {
   "cell_type": "markdown",
   "metadata": {},
   "source": [
    "**Animal type vs Sex upon intake**\n",
    "\n",
    "As the sex upon intake and sex upon outcome had similar results above we only need to explore the sex upon intake here."
   ]
  },
  {
   "cell_type": "code",
   "execution_count": null,
   "metadata": {},
   "outputs": [],
   "source": [
    "#plot animal type against sex upon intake\n",
    "plot_categ_against_categ(df,'AnimalType_Intake','SexuponIntake')"
   ]
  },
  {
   "cell_type": "markdown",
   "metadata": {},
   "source": [
    "We saw above that animals with an unknown sex were 50% more likely to have a negative outcome. We also saw that *Bats* and *Other* are most likely to have a negative outcome of all animal types. It makes sense therefore, that approximately 95% of bats have unknown sex and that approximately 70% of *Other* have unknown sex. Interestingly, even though all birds survived, we can see that approximately 60% have unknown sex. I assume that these fall within the 50% of animals with unknown sex who have a positive outcome."
   ]
  },
  {
   "cell_type": "code",
   "execution_count": null,
   "metadata": {},
   "outputs": [],
   "source": [
    "#plot intake type against sex upon intake\n",
    "plot_categ_against_categ(df,'IntakeType','SexuponIntake')"
   ]
  },
  {
   "cell_type": "markdown",
   "metadata": {},
   "source": [
    "We can see here that the one euthenasia request was a neutered male. We can see that approximately 95% of wildlife have unknown sex. Again this fits in with our findings above. "
   ]
  },
  {
   "cell_type": "markdown",
   "metadata": {},
   "source": [
    "**Further categorical explorations**\n",
    "\n",
    "We have gained a lot of information about name, intake type, intake condition, animal type and sex from the graphs above. However, we have not extracted a lot of information about cats and dogs, the most frequent animals in the shelter. We will now explore the relationship between these two exclusively and some other features. "
   ]
  },
  {
   "cell_type": "markdown",
   "metadata": {},
   "source": [
    "We begin by plotting only *AnimalType_Intake* which is equal to *Cat*. We then explore the relationship between cats and name. This is plotted as it is assumed that people prefer to adopt cats and kittens with names. "
   ]
  },
  {
   "cell_type": "code",
   "execution_count": null,
   "metadata": {},
   "outputs": [],
   "source": [
    "#plot name against outcome for cats only\n",
    "plot_categ_against_outcome(df[df[\"AnimalType_Intake\"]==\"Cat\"], \"Name_Provided\", \"binary_outcome\",\"Cat and name vs outcome\")"
   ]
  },
  {
   "cell_type": "markdown",
   "metadata": {},
   "source": [
    "As explected, we can see there is a higher likelihood of a positive outcome when the cat has a name. Another widespread assumption is that darker cats are not as popular as light coloured cats. However, we saw above that the difference in outcome for darker animals was largely accounted for by the bats. As a result, we expect to see very little difference in outcome between dark and light cats. "
   ]
  },
  {
   "cell_type": "code",
   "execution_count": null,
   "metadata": {},
   "outputs": [],
   "source": [
    "#plot color against outcome for cats only\n",
    "plot_categ_against_outcome(df[df[\"AnimalType_Intake\"]==\"Cat\"], \"Color_Intake\", \"binary_outcome\", \"Color of cat vs outcome\")"
   ]
  },
  {
   "cell_type": "markdown",
   "metadata": {},
   "source": [
    "As expected, we see very little difference between the outcome for dark and light cats. We will now explore the relationship between sex upon intake and the outcome for cats."
   ]
  },
  {
   "cell_type": "code",
   "execution_count": null,
   "metadata": {},
   "outputs": [],
   "source": [
    "#plot sex upon intake against the outcome for cats only\n",
    "plot_categ_against_outcome(df[df[\"AnimalType_Intake\"]==\"Cat\"], \"SexuponIntake\", \"binary_outcome\", \"Color of cat vs outcome\")"
   ]
  },
  {
   "cell_type": "markdown",
   "metadata": {},
   "source": [
    "As expected, we see that cats who have an unknown sex are less likely to have a positive outcome than those whose sex is known."
   ]
  },
  {
   "cell_type": "markdown",
   "metadata": {},
   "source": [
    "Next we will explore dogs a little further in order to further understand the relationship between dogs and other features. Here we plot dogs against breed as it is widely assumed that pure breed dogs are more popular than mixed breed. "
   ]
  },
  {
   "cell_type": "code",
   "execution_count": null,
   "metadata": {},
   "outputs": [],
   "source": [
    "#plot breed against outcome for dogs only\n",
    "plot_categ_against_outcome(df[df[\"AnimalType_Intake\"]==\"Dog\"], \"Breed_Intake\", \"binary_outcome\", \"Breed of dog vs outcome\")"
   ]
  },
  {
   "cell_type": "markdown",
   "metadata": {},
   "source": [
    "We saw above that there was no clear difference in outcome between mixed and pure breeds overall so a large difference was not expected here with dogs. However, as expected we can see that mixed breed dogs are 5% more likely to have a negative outcome. "
   ]
  },
  {
   "cell_type": "markdown",
   "metadata": {},
   "source": [
    "### Continuous vs categorical scatter plot\n",
    "\n",
    "We will now plot age of intake against the binary outcome."
   ]
  },
  {
   "cell_type": "code",
   "execution_count": null,
   "metadata": {},
   "outputs": [],
   "source": [
    "#plot age upon intake against binary outcome\n",
    "plt.figure()\n",
    "flierprops = dict(marker='o', markerfacecolor='green', markersize=6,\n",
    "                  linestyle='none')\n",
    "df.boxplot(column=['AgeuponIntake'], by=['binary_outcome'], flierprops=flierprops, figsize=(10,7))"
   ]
  },
  {
   "cell_type": "markdown",
   "metadata": {},
   "source": [
    "We see that there is no clear difference between the ages for a negtative and positive outcome. We will now compare the distribution of ages upon intake when the binary outcome is negative to when the binary outcome is positive. \n",
    "\n",
    "**Negaitve outcome**"
   ]
  },
  {
   "cell_type": "code",
   "execution_count": null,
   "metadata": {},
   "outputs": [],
   "source": [
    "#set binary outcome to 1. This is a negative outcome.\n",
    "df[df['binary_outcome'] == 1][['AgeuponIntake']].plot(kind='hist',figsize=(7,7), bins=10, title=\"Negative outcome\")\n",
    "plt.grid(b=True, which='major', color='#666666', linestyle='-')\n",
    "plt.minorticks_on()\n",
    "plt.grid(b=True, which='minor', color='#999999', linestyle='-', alpha=0.2)"
   ]
  },
  {
   "cell_type": "markdown",
   "metadata": {},
   "source": [
    "**Positive outcome**"
   ]
  },
  {
   "cell_type": "code",
   "execution_count": null,
   "metadata": {},
   "outputs": [],
   "source": [
    "#set binary outcome to 0.This is a positive outcome\n",
    "df[df['binary_outcome'] == 0][['AgeuponIntake']].plot(kind='hist',figsize=(7,7), bins=10, title=\"Positive Outcome\")\n",
    "plt.grid(b=True, which='major', color='#666666', linestyle='-')\n",
    "plt.minorticks_on()\n",
    "plt.grid(b=True, which='minor', color='#999999', linestyle='-', alpha=0.2)"
   ]
  },
  {
   "cell_type": "markdown",
   "metadata": {},
   "source": [
    "- We can see that there is no clear difference between the trend of ages for a negative outcome and a positive outcome.\n",
    "- Both graphs show a very high frequency of young animals. This is most likely because the majority of animals in the shelter are of a young age. \n",
    "- The negative outcome has a slightly higher frequency of animals between 3000-4000 years old while the positive outcome shows a higher frequency of animals ages 1000-3000 days. \n",
    "- Overall, these graphs do not provide a lot of useful information.\n",
    "- It seems that age is not a good marker for predicting the binary outcome. \n",
    "\n",
    "**Age upon Outcome - negative outcome**\n",
    "\n",
    "We will now create the same graphs for AgeuponOutcome. We expect a similar result to the AgeuponIntake."
   ]
  },
  {
   "cell_type": "code",
   "execution_count": null,
   "metadata": {},
   "outputs": [],
   "source": [
    "#set binary outcome to 1.\n",
    "df[df['binary_outcome'] == 1][['AgeuponOutcome']].plot(kind='hist',figsize=(7,7), bins=10, title=\"Negative Outcome\")\n",
    "plt.grid(b=True, which='major', color='#666666', linestyle='-')\n",
    "plt.minorticks_on()\n",
    "plt.grid(b=True, which='minor', color='#999999', linestyle='-', alpha=0.2)"
   ]
  },
  {
   "cell_type": "markdown",
   "metadata": {},
   "source": [
    "**Positive outcome**"
   ]
  },
  {
   "cell_type": "code",
   "execution_count": null,
   "metadata": {},
   "outputs": [],
   "source": [
    "#set binary outcome to zero.\n",
    "df[df['binary_outcome'] == 0][['AgeuponOutcome']].plot(kind='hist',figsize=(7,7), bins=10, title=\"Positive Outcome\")\n",
    "plt.grid(b=True, which='major', color='#666666', linestyle='-')\n",
    "plt.minorticks_on()\n",
    "plt.grid(b=True, which='minor', color='#999999', linestyle='-', alpha=0.2)"
   ]
  },
  {
   "cell_type": "markdown",
   "metadata": {},
   "source": [
    "As expected, the graphs for age of outcome portray similar information to the age of intake discussed above. "
   ]
  },
  {
   "cell_type": "markdown",
   "metadata": {},
   "source": [
    "### Discuss your findings from the plots above. Do you find any features or feature combinations that are indicative of the target outcome? Explain in plain words (a short paragraph) the story of your findings so far."
   ]
  },
  {
   "cell_type": "markdown",
   "metadata": {},
   "source": [
    "We have discussed in detail the findings of our graphs throughout the above analysis. However, we will now summarise which features are indicative of the binary outcome.\n",
    "\n",
    "**Categorical features:**\n",
    "- Some of the findings were not as expected. No relationship was seen between breed and the binary outcome. Similarly, there was only a small difference between the binary outcome for dark and light coloured animals. Thus we conclude that these features are not likely predictors of the outcome. \n",
    "- We see a relationship between the name and the binary outcome with animals with no name being 20% more likely to have a negative outcome. Thus name is a likely predictor of outcome. \n",
    "- We saw a very strong relationship beteen *IntakeType* and outcome, most notably with the value *Wildlife*. 100% of animals with value *Wildlife* had a negative outcome. As a result, *IntakeType* is a likely predictor of outcome. \n",
    "- *IntakeCondition* showed that animals who are sick or injured are 40% more likely to have a negative outcome. This distinction is a likely predictor of outcome. \n",
    "- The graphs for animal type showed that animals with value *Bat* and *Other* had a higher likelihood of a negative outcome. This feature is likely a predictor of outcome. \n",
    "- We see that when the sex is unknown there is a 50% higher likelihood of a negative outcome. As we saw when plotting categorical features against eachother, this is most likely explained by wildlife having an unknown sex, as we already saw that wildlife have a negative outcome. Furthermore, when the sex is known, there is very little distinction in outcome between the different values. We can conclude that whether or not the sex is known is a likely predictor of outcome. \n",
    "- For 'DateTimeIntake' see no clear connection between the month, weekday or hour and the binary outcome. I had expected to see some differences here. These features are not a likely predictor of the outcome.\n",
    "\n",
    "In conclusion, the categorical features *Name_Provided*, *IntakeType*, *IntakeCondition*, *AnimalType_Intake*, *SexuponIntake* are likely predictors of the binary outcome. For some of these there is a strong case for creating a binary feature, for example whether the sex of the animal is known or not.\n",
    "\n",
    "**Continuous features:**\n",
    "- We saw no connection between the age and the outcome so we conclude that age is not a likely predictor of the outcome. This is perhaps due to the uneven distribution of ages in our dataset. This makes a case for creating a new feature which divides the ages into groups."
   ]
  },
  {
   "cell_type": "markdown",
   "metadata": {},
   "source": [
    "\n",
    "## (4) - Transform, extend or combine the existing features to create a few new features (at least 3) with the aim to better capture the problem domain and the target outcome."
   ]
  },
  {
   "cell_type": "markdown",
   "metadata": {},
   "source": [
    "Based on our findings throughout this assignment, we will now create some new features which will help with predicting the outcome of the animal."
   ]
  },
  {
   "cell_type": "markdown",
   "metadata": {},
   "source": [
    "**New feature 1**\n",
    "\n",
    "Upon initial exploration of the data it seemed that the feature *SexuponIntake* would be better represented as two features representing the sex and whether the animal was spayed/neutered. However, we saw in part 3 that the only connection between *SexuponIntake* and the binary outcome is whether or not the sex is known. \n",
    "\n",
    "Therefore we conclude that splitting the feature will not provide any additional information and that a new binary feature which states whether the sex is known or not will be useful."
   ]
  },
  {
   "cell_type": "code",
   "execution_count": null,
   "metadata": {},
   "outputs": [],
   "source": [
    "#create new feature equal to *SexuponIntake*\n",
    "df['SexKnown']=df['SexuponIntake']"
   ]
  },
  {
   "cell_type": "code",
   "execution_count": null,
   "metadata": {},
   "outputs": [],
   "source": [
    "#check the unique values of the new feature\n",
    "df['SexKnown'].unique()"
   ]
  },
  {
   "cell_type": "markdown",
   "metadata": {},
   "source": [
    "Next, if the value is unknown we replace it with 0"
   ]
  },
  {
   "cell_type": "code",
   "execution_count": null,
   "metadata": {},
   "outputs": [],
   "source": [
    "#replace the value unknown with 0\n",
    "df['SexKnown'] = df.SexKnown.str.replace(r'(^.*Unknown.*$)', '0')"
   ]
  },
  {
   "cell_type": "markdown",
   "metadata": {},
   "source": [
    "If the value is not 0, it implies the sex is known so we change it to 1."
   ]
  },
  {
   "cell_type": "code",
   "execution_count": null,
   "metadata": {},
   "outputs": [],
   "source": [
    "# if the value is not 0 set it to 1\n",
    "df['SexKnown'][df.SexKnown.str.contains('0')==0] = '1'"
   ]
  },
  {
   "cell_type": "markdown",
   "metadata": {},
   "source": [
    "We convert this new feature to a category type."
   ]
  },
  {
   "cell_type": "code",
   "execution_count": null,
   "metadata": {},
   "outputs": [],
   "source": [
    "#convert the new feature to category type\n",
    "df['SexKnown'] = df['SexKnown'].astype('category')"
   ]
  },
  {
   "cell_type": "markdown",
   "metadata": {},
   "source": [
    "Now we will plot this new feature."
   ]
  },
  {
   "cell_type": "code",
   "execution_count": null,
   "metadata": {},
   "outputs": [],
   "source": [
    "# plot the values of the new feature\n",
    "df[\"SexKnown\"].value_counts().plot(kind='bar', figsize=(12,10))"
   ]
  },
  {
   "cell_type": "markdown",
   "metadata": {},
   "source": [
    "Finally we will plot this new feature against the binary outcome."
   ]
  },
  {
   "cell_type": "code",
   "execution_count": null,
   "metadata": {},
   "outputs": [],
   "source": [
    "#plot the new feature against binary outcome\n",
    "plot_categ_against_outcome(df,'SexKnown',\"binary_outcome\",\"SexKnown vs Binary outcome\")"
   ]
  },
  {
   "cell_type": "markdown",
   "metadata": {},
   "source": [
    "We can see that animals who have an unknown sex are 50% more likely to have a negative outcome. "
   ]
  },
  {
   "cell_type": "markdown",
   "metadata": {},
   "source": [
    "**New feature 2**\n",
    "\n",
    "We saw above that *Dog* and *Cat* are the most frequent values for the feature *AnimalType_Intake* with 563 and 382 instances, respectively. We also saw that these features had the best outcome, with *Bat* and *Other* have a much higher likelihood of a negative outcome. We also saw that *Bird* has a 100% likelihood of a positive outcome however, given the low frequency of bird we will not consider it here for this new feature. \n",
    "\n",
    "Given the frequency of *Dog* and *Cat* and the likelihood of a positive outcome, a new binary feature which represents whether the animal is a dog/cat or not will be helpful. "
   ]
  },
  {
   "cell_type": "code",
   "execution_count": null,
   "metadata": {},
   "outputs": [],
   "source": [
    "#create new feature and set it equal to AnimalType_Intake\n",
    "df['CatOrDog']=df['AnimalType_Intake']"
   ]
  },
  {
   "cell_type": "markdown",
   "metadata": {},
   "source": [
    "We replace the word 'Cat' with a value of 1."
   ]
  },
  {
   "cell_type": "code",
   "execution_count": null,
   "metadata": {},
   "outputs": [],
   "source": [
    "#replace all occurrences of cat with 1\n",
    "df['CatOrDog'] = df.CatOrDog.str.replace(r'(^.*Cat.*$)', '1')"
   ]
  },
  {
   "cell_type": "markdown",
   "metadata": {},
   "source": [
    "We also replace the word 'Dog' with a value of 1."
   ]
  },
  {
   "cell_type": "code",
   "execution_count": null,
   "metadata": {},
   "outputs": [],
   "source": [
    "#replace all occurrences of dog with 1\n",
    "df['CatOrDog'] = df.CatOrDog.str.replace(r'(^.*Dog.*$)', '1')"
   ]
  },
  {
   "cell_type": "markdown",
   "metadata": {},
   "source": [
    "Next, if the value is not a 1 this means it is not a dog or a cat, so we replace it with 0."
   ]
  },
  {
   "cell_type": "code",
   "execution_count": null,
   "metadata": {},
   "outputs": [],
   "source": [
    "# if the value is not 1 replace with 0\n",
    "df['CatOrDog'][df.CatOrDog.str.contains('1')==0] = '0'"
   ]
  },
  {
   "cell_type": "markdown",
   "metadata": {},
   "source": [
    "We now convert this new feature to a category type."
   ]
  },
  {
   "cell_type": "code",
   "execution_count": null,
   "metadata": {},
   "outputs": [],
   "source": [
    "#convert new feature to category type\n",
    "df['CatOrDog'] = df['CatOrDog'].astype('category')"
   ]
  },
  {
   "cell_type": "code",
   "execution_count": null,
   "metadata": {},
   "outputs": [],
   "source": [
    "#plot the new feature\n",
    "df[\"CatOrDog\"].value_counts().plot(kind='bar', figsize=(12,10))"
   ]
  },
  {
   "cell_type": "markdown",
   "metadata": {},
   "source": [
    "Finally, we plot this feature against the binary outcome."
   ]
  },
  {
   "cell_type": "code",
   "execution_count": null,
   "metadata": {},
   "outputs": [],
   "source": [
    "#plot the new feature against the binary outcome\n",
    "plot_categ_against_outcome(df,'CatOrDog',\"binary_outcome\",\"Cat or Dog vs Binary outcome\")"
   ]
  },
  {
   "cell_type": "markdown",
   "metadata": {},
   "source": [
    "We can see that if the animal is a dog or a cat they are approximately 70% more likely to have a positive outcome. Therefore we can conclude that this new feature is a good indicator of the outcome."
   ]
  },
  {
   "cell_type": "markdown",
   "metadata": {},
   "source": [
    "**New feature 3**\n",
    "\n",
    "We saw in part 3 that the *AgeuponIntake* is not a likely predictor for the outcome. However, we also saw throughout the assignment that the distribution of ages is not even and that approximately 700 out of 1000 animals are aged below 1000 days. Therefore, although we can see that there is no relationship between increasing age and the outcome, it would be more useful to be able to group the ages in such a way that the frequency of younger animals is not affecting the investigaiton. \n",
    "\n",
    "As a result, for this new feature we will bin the ages. As we do not have an equal distribution of ages, we will bin the ages using equal-frequency binning. As described in the text book, this means that we can more accurately visualise the values which are more heavily populated within this feature. Each bin will have the same number of instances within it. Although binning can lose some information within the feature, it will allow us to more accurately explore the relationship between different ages and the outcome.  "
   ]
  },
  {
   "cell_type": "code",
   "execution_count": null,
   "metadata": {},
   "outputs": [],
   "source": [
    "# create ten bins of equal frequency\n",
    "df['AgeIntake_bins'] = pd.qcut(df.AgeuponIntake,10)"
   ]
  },
  {
   "cell_type": "code",
   "execution_count": null,
   "metadata": {},
   "outputs": [],
   "source": [
    "#plot the bins against the binary outcome\n",
    "plot_categ_against_outcome(df,'AgeIntake_bins',\"binary_outcome\",\"Age upon intake vs outcome\")"
   ]
  },
  {
   "cell_type": "markdown",
   "metadata": {},
   "source": [
    "Now that each bin has the same number of instances within it, we can see that there is not as much variation as expected between the different ages. However, we can see that animals between 212 and 730 days have the highest likelihood of a negative outcome."
   ]
  },
  {
   "cell_type": "markdown",
   "metadata": {},
   "source": [
    "**Feature 4**\n",
    "\n",
    "We saw above in part 3 that the only connection between *IntakeCondition* and outcome was seen for the values *Sick* and *Injured*. Animals with either of these values were 40% more likely to have a negative outcome than animals with the other values. Thus, I have concluded that it would be helpful to have a binary feature which describes whether an animal is sick or injured. "
   ]
  },
  {
   "cell_type": "code",
   "execution_count": null,
   "metadata": {},
   "outputs": [],
   "source": [
    "#create a new feature and set it equal to the feature IntakeCondition\n",
    "df['SickOrInjured']=df['IntakeCondition']"
   ]
  },
  {
   "cell_type": "code",
   "execution_count": null,
   "metadata": {},
   "outputs": [],
   "source": [
    "#view the unique values for this new features\n",
    "df['SickOrInjured'].unique()"
   ]
  },
  {
   "cell_type": "markdown",
   "metadata": {},
   "source": [
    "If the feature contains the words 'Sick' or 'Injured' we now convert them to a value of 1."
   ]
  },
  {
   "cell_type": "code",
   "execution_count": null,
   "metadata": {},
   "outputs": [],
   "source": [
    "#use regex to replace sick with 1\n",
    "df['SickOrInjured'] = df.SickOrInjured.str.replace(r'(^.*Sick.*$)', '1')"
   ]
  },
  {
   "cell_type": "code",
   "execution_count": null,
   "metadata": {},
   "outputs": [],
   "source": [
    "#use regex to replace injured with 1\n",
    "df['SickOrInjured'] = df.SickOrInjured.str.replace(r'(^.*Injured.*$)', '1')"
   ]
  },
  {
   "cell_type": "markdown",
   "metadata": {},
   "source": [
    "Next, if the value is not 1 it means the animal is not sick or injured so we set the value to 0."
   ]
  },
  {
   "cell_type": "code",
   "execution_count": null,
   "metadata": {},
   "outputs": [],
   "source": [
    "#replace a value of 1 with 0.\n",
    "df['SickOrInjured'][df.SickOrInjured.str.contains('1')==0] = '0'"
   ]
  },
  {
   "cell_type": "markdown",
   "metadata": {},
   "source": [
    "We now convert the new feature to a category type."
   ]
  },
  {
   "cell_type": "code",
   "execution_count": null,
   "metadata": {},
   "outputs": [],
   "source": [
    "#convert to category type.\n",
    "df['SickOrInjured'] = df['SickOrInjured'].astype('category')"
   ]
  },
  {
   "cell_type": "markdown",
   "metadata": {},
   "source": [
    "Next we plot the new feature."
   ]
  },
  {
   "cell_type": "code",
   "execution_count": null,
   "metadata": {},
   "outputs": [],
   "source": [
    "#plot feature\n",
    "df[\"SickOrInjured\"].value_counts().plot(kind='bar', figsize=(12,10))"
   ]
  },
  {
   "cell_type": "markdown",
   "metadata": {},
   "source": [
    "Finally, we plot the new feature against the binary outcome."
   ]
  },
  {
   "cell_type": "code",
   "execution_count": null,
   "metadata": {
    "scrolled": true
   },
   "outputs": [],
   "source": [
    "#plot new feature against the binary outcome\n",
    "plot_categ_against_outcome(df,'SickOrInjured',\"binary_outcome\",\"SickOrInjured vs Binary outcome\")"
   ]
  },
  {
   "cell_type": "markdown",
   "metadata": {},
   "source": [
    "We will now create a table of ddescriptive statistics which will include the new features we have just made. \n",
    "\n",
    "We will first create a table for the categorical features. "
   ]
  },
  {
   "cell_type": "code",
   "execution_count": null,
   "metadata": {},
   "outputs": [],
   "source": [
    "#create table of statistics for the categorical features\n",
    "df.select_dtypes(['category']).describe().T"
   ]
  },
  {
   "cell_type": "markdown",
   "metadata": {},
   "source": [
    "Although the table of descriptive statistics for the continuous features will have no changed we will conclude by displaying it below"
   ]
  },
  {
   "cell_type": "code",
   "execution_count": null,
   "metadata": {},
   "outputs": [],
   "source": [
    "#create table of statistics for the continuous features\n",
    "continuous_columns = df.select_dtypes(['int64']).columns\n",
    "df[continuous_columns].describe().T"
   ]
  },
  {
   "cell_type": "markdown",
   "metadata": {},
   "source": [
    "The dataframe with the new features is now saved to a csv file. "
   ]
  },
  {
   "cell_type": "code",
   "execution_count": null,
   "metadata": {},
   "outputs": [],
   "source": [
    "#write cleaned dataframe to a csv file\n",
    "df.to_csv('19205514_cleaned_new_features_added.csv', index=False)"
   ]
  },
  {
   "cell_type": "code",
   "execution_count": null,
   "metadata": {},
   "outputs": [],
   "source": []
  }
 ],
 "metadata": {
  "kernelspec": {
   "display_name": "Python 3",
   "language": "python",
   "name": "python3"
  },
  "language_info": {
   "codemirror_mode": {
    "name": "ipython",
    "version": 3
   },
   "file_extension": ".py",
   "mimetype": "text/x-python",
   "name": "python",
   "nbconvert_exporter": "python",
   "pygments_lexer": "ipython3",
   "version": "3.7.4"
  }
 },
 "nbformat": 4,
 "nbformat_minor": 2
}
