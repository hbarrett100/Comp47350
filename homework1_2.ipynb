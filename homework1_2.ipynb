{
 "cells": [
  {
   "cell_type": "code",
   "execution_count": 130,
   "metadata": {},
   "outputs": [],
   "source": [
    "\n",
    "#Import package pandas for data analysis\n",
    "import pandas as pd\n",
    "\n",
    "# Import package numpy for numeric computing\n",
    "import numpy as np\n",
    "\n",
    "# Import package matplotlib for visualisation/plotting\n",
    "import matplotlib.pyplot as plt\n",
    "\n",
    "#For showing plots directly in the notebook run the command below\n",
    "%matplotlib inline\n",
    "\n",
    "# For saving multiple plots into a single pdf file\n",
    "from matplotlib.backends.backend_pdf import PdfPages\n",
    "\n",
    "import seaborn as sns\n",
    "import matplotlib.patches as mpatches"
   ]
  },
  {
   "cell_type": "code",
   "execution_count": 2,
   "metadata": {},
   "outputs": [
    {
     "data": {
      "text/plain": [
       "(1000, 22)"
      ]
     },
     "execution_count": 2,
     "metadata": {},
     "output_type": "execute_result"
    }
   ],
   "source": [
    "# Reading from a csv file, into a data frame\n",
    "df = pd.read_csv('AnimalWelfareRisk-19205514.csv')\n",
    "\n",
    "# This checks how many rows and columns this dataframe has\n",
    "df.shape"
   ]
  },
  {
   "cell_type": "code",
   "execution_count": 3,
   "metadata": {},
   "outputs": [
    {
     "data": {
      "text/html": [
       "<div>\n",
       "<style scoped>\n",
       "    .dataframe tbody tr th:only-of-type {\n",
       "        vertical-align: middle;\n",
       "    }\n",
       "\n",
       "    .dataframe tbody tr th {\n",
       "        vertical-align: top;\n",
       "    }\n",
       "\n",
       "    .dataframe thead th {\n",
       "        text-align: right;\n",
       "    }\n",
       "</style>\n",
       "<table border=\"1\" class=\"dataframe\">\n",
       "  <thead>\n",
       "    <tr style=\"text-align: right;\">\n",
       "      <th></th>\n",
       "      <th>Animal ID</th>\n",
       "      <th>Name_Intake</th>\n",
       "      <th>DateTime_Intake</th>\n",
       "      <th>MonthYear_Intake</th>\n",
       "      <th>Found Location</th>\n",
       "      <th>Intake Type</th>\n",
       "      <th>Intake Condition</th>\n",
       "      <th>Animal Type_Intake</th>\n",
       "      <th>Sex upon Intake</th>\n",
       "      <th>Age upon Intake</th>\n",
       "      <th>...</th>\n",
       "      <th>Name_Outcome</th>\n",
       "      <th>DateTime_Outcome</th>\n",
       "      <th>MonthYear_Outcome</th>\n",
       "      <th>Date of Birth</th>\n",
       "      <th>Animal Type_Outcome</th>\n",
       "      <th>Sex upon Outcome</th>\n",
       "      <th>Age upon Outcome</th>\n",
       "      <th>Breed_Outcome</th>\n",
       "      <th>Color_Outcome</th>\n",
       "      <th>binary_outcome</th>\n",
       "    </tr>\n",
       "  </thead>\n",
       "  <tbody>\n",
       "    <tr>\n",
       "      <td>0</td>\n",
       "      <td>A687076</td>\n",
       "      <td>Katy</td>\n",
       "      <td>08/30/2014 05:55:00 PM</td>\n",
       "      <td>08/30/2014 05:55:00 PM</td>\n",
       "      <td>Acorn Oaks And Cooper in Austin (TX)</td>\n",
       "      <td>Stray</td>\n",
       "      <td>Normal</td>\n",
       "      <td>Cat</td>\n",
       "      <td>Intact Female</td>\n",
       "      <td>2 months</td>\n",
       "      <td>...</td>\n",
       "      <td>Katy</td>\n",
       "      <td>09/05/2014 14:33</td>\n",
       "      <td>09/05/2014 14:33</td>\n",
       "      <td>06/15/2014</td>\n",
       "      <td>Cat</td>\n",
       "      <td>Spayed Female</td>\n",
       "      <td>2 months</td>\n",
       "      <td>Domestic Shorthair Mix</td>\n",
       "      <td>Torbie</td>\n",
       "      <td>0</td>\n",
       "    </tr>\n",
       "    <tr>\n",
       "      <td>1</td>\n",
       "      <td>A685139</td>\n",
       "      <td>NaN</td>\n",
       "      <td>08/03/2014 11:23</td>\n",
       "      <td>08/03/2014 11:23</td>\n",
       "      <td>Pleasant Valley/Oltorf in Austin (TX)</td>\n",
       "      <td>Stray</td>\n",
       "      <td>Other</td>\n",
       "      <td>Dog</td>\n",
       "      <td>Intact Female</td>\n",
       "      <td>3 months</td>\n",
       "      <td>...</td>\n",
       "      <td>NaN</td>\n",
       "      <td>08/07/2014 18:09</td>\n",
       "      <td>08/07/2014 18:09</td>\n",
       "      <td>05/03/2014</td>\n",
       "      <td>Dog</td>\n",
       "      <td>Spayed Female</td>\n",
       "      <td>3 months</td>\n",
       "      <td>Cavalier Span Mix</td>\n",
       "      <td>White/Black</td>\n",
       "      <td>0</td>\n",
       "    </tr>\n",
       "    <tr>\n",
       "      <td>2</td>\n",
       "      <td>A741039</td>\n",
       "      <td>Dexter</td>\n",
       "      <td>12/27/2016 11:18:00 AM</td>\n",
       "      <td>12/27/2016 11:18:00 AM</td>\n",
       "      <td>12Th St And Airport Blvd in Austin (TX)</td>\n",
       "      <td>Stray</td>\n",
       "      <td>Normal</td>\n",
       "      <td>Dog</td>\n",
       "      <td>Intact Male</td>\n",
       "      <td>1 year</td>\n",
       "      <td>...</td>\n",
       "      <td>Dexter</td>\n",
       "      <td>01/01/2017 15:27</td>\n",
       "      <td>01/01/2017 15:27</td>\n",
       "      <td>12/27/2015</td>\n",
       "      <td>Dog</td>\n",
       "      <td>Intact Male</td>\n",
       "      <td>1 year</td>\n",
       "      <td>Jack Russell Terrier</td>\n",
       "      <td>Black/White</td>\n",
       "      <td>0</td>\n",
       "    </tr>\n",
       "    <tr>\n",
       "      <td>3</td>\n",
       "      <td>A759166</td>\n",
       "      <td>Archie</td>\n",
       "      <td>09/28/2017 11:03:00 AM</td>\n",
       "      <td>09/28/2017 11:03:00 AM</td>\n",
       "      <td>Brockman And Pompton in Austin (TX)</td>\n",
       "      <td>Stray</td>\n",
       "      <td>Normal</td>\n",
       "      <td>Cat</td>\n",
       "      <td>Intact Male</td>\n",
       "      <td>2 months</td>\n",
       "      <td>...</td>\n",
       "      <td>Archie</td>\n",
       "      <td>11/04/2017 18:11</td>\n",
       "      <td>11/04/2017 18:11</td>\n",
       "      <td>07/28/2017</td>\n",
       "      <td>Cat</td>\n",
       "      <td>Neutered Male</td>\n",
       "      <td>3 months</td>\n",
       "      <td>Domestic Shorthair</td>\n",
       "      <td>Black</td>\n",
       "      <td>0</td>\n",
       "    </tr>\n",
       "    <tr>\n",
       "      <td>4</td>\n",
       "      <td>A696479</td>\n",
       "      <td>Chocolate</td>\n",
       "      <td>02/05/2015 11:51</td>\n",
       "      <td>02/05/2015 11:51</td>\n",
       "      <td>3012 Guerrero Dr in Travis (TX)</td>\n",
       "      <td>Stray</td>\n",
       "      <td>Normal</td>\n",
       "      <td>Cat</td>\n",
       "      <td>Intact Male</td>\n",
       "      <td>1 year</td>\n",
       "      <td>...</td>\n",
       "      <td>Chocolate</td>\n",
       "      <td>02/15/2015 11:39:00 AM</td>\n",
       "      <td>02/15/2015 11:39:00 AM</td>\n",
       "      <td>02/05/2014</td>\n",
       "      <td>Cat</td>\n",
       "      <td>Neutered Male</td>\n",
       "      <td>1 year</td>\n",
       "      <td>Domestic Medium Hair Mix</td>\n",
       "      <td>Black</td>\n",
       "      <td>0</td>\n",
       "    </tr>\n",
       "  </tbody>\n",
       "</table>\n",
       "<p>5 rows × 22 columns</p>\n",
       "</div>"
      ],
      "text/plain": [
       "  Animal ID Name_Intake         DateTime_Intake        MonthYear_Intake  \\\n",
       "0   A687076        Katy  08/30/2014 05:55:00 PM  08/30/2014 05:55:00 PM   \n",
       "1   A685139         NaN        08/03/2014 11:23        08/03/2014 11:23   \n",
       "2   A741039      Dexter  12/27/2016 11:18:00 AM  12/27/2016 11:18:00 AM   \n",
       "3   A759166      Archie  09/28/2017 11:03:00 AM  09/28/2017 11:03:00 AM   \n",
       "4   A696479   Chocolate        02/05/2015 11:51        02/05/2015 11:51   \n",
       "\n",
       "                            Found Location Intake Type Intake Condition  \\\n",
       "0     Acorn Oaks And Cooper in Austin (TX)       Stray           Normal   \n",
       "1    Pleasant Valley/Oltorf in Austin (TX)       Stray            Other   \n",
       "2  12Th St And Airport Blvd in Austin (TX)       Stray           Normal   \n",
       "3      Brockman And Pompton in Austin (TX)       Stray           Normal   \n",
       "4          3012 Guerrero Dr in Travis (TX)       Stray           Normal   \n",
       "\n",
       "  Animal Type_Intake Sex upon Intake Age upon Intake  ... Name_Outcome  \\\n",
       "0                Cat   Intact Female        2 months  ...         Katy   \n",
       "1                Dog   Intact Female        3 months  ...          NaN   \n",
       "2                Dog     Intact Male          1 year  ...       Dexter   \n",
       "3                Cat     Intact Male        2 months  ...       Archie   \n",
       "4                Cat     Intact Male          1 year  ...    Chocolate   \n",
       "\n",
       "         DateTime_Outcome       MonthYear_Outcome Date of Birth  \\\n",
       "0        09/05/2014 14:33        09/05/2014 14:33    06/15/2014   \n",
       "1        08/07/2014 18:09        08/07/2014 18:09    05/03/2014   \n",
       "2        01/01/2017 15:27        01/01/2017 15:27    12/27/2015   \n",
       "3        11/04/2017 18:11        11/04/2017 18:11    07/28/2017   \n",
       "4  02/15/2015 11:39:00 AM  02/15/2015 11:39:00 AM    02/05/2014   \n",
       "\n",
       "  Animal Type_Outcome Sex upon Outcome Age upon Outcome  \\\n",
       "0                 Cat    Spayed Female         2 months   \n",
       "1                 Dog    Spayed Female         3 months   \n",
       "2                 Dog      Intact Male           1 year   \n",
       "3                 Cat    Neutered Male         3 months   \n",
       "4                 Cat    Neutered Male           1 year   \n",
       "\n",
       "              Breed_Outcome Color_Outcome binary_outcome  \n",
       "0    Domestic Shorthair Mix        Torbie              0  \n",
       "1         Cavalier Span Mix   White/Black              0  \n",
       "2      Jack Russell Terrier   Black/White              0  \n",
       "3        Domestic Shorthair         Black              0  \n",
       "4  Domestic Medium Hair Mix         Black              0  \n",
       "\n",
       "[5 rows x 22 columns]"
      ]
     },
     "execution_count": 3,
     "metadata": {},
     "output_type": "execute_result"
    }
   ],
   "source": [
    "# print first 5 rows\n",
    "df.head(5)"
   ]
  },
  {
   "cell_type": "code",
   "execution_count": 4,
   "metadata": {},
   "outputs": [
    {
     "data": {
      "text/html": [
       "<div>\n",
       "<style scoped>\n",
       "    .dataframe tbody tr th:only-of-type {\n",
       "        vertical-align: middle;\n",
       "    }\n",
       "\n",
       "    .dataframe tbody tr th {\n",
       "        vertical-align: top;\n",
       "    }\n",
       "\n",
       "    .dataframe thead th {\n",
       "        text-align: right;\n",
       "    }\n",
       "</style>\n",
       "<table border=\"1\" class=\"dataframe\">\n",
       "  <thead>\n",
       "    <tr style=\"text-align: right;\">\n",
       "      <th></th>\n",
       "      <th>Animal ID</th>\n",
       "      <th>Name_Intake</th>\n",
       "      <th>DateTime_Intake</th>\n",
       "      <th>MonthYear_Intake</th>\n",
       "      <th>Found Location</th>\n",
       "      <th>Intake Type</th>\n",
       "      <th>Intake Condition</th>\n",
       "      <th>Animal Type_Intake</th>\n",
       "      <th>Sex upon Intake</th>\n",
       "      <th>Age upon Intake</th>\n",
       "      <th>...</th>\n",
       "      <th>Name_Outcome</th>\n",
       "      <th>DateTime_Outcome</th>\n",
       "      <th>MonthYear_Outcome</th>\n",
       "      <th>Date of Birth</th>\n",
       "      <th>Animal Type_Outcome</th>\n",
       "      <th>Sex upon Outcome</th>\n",
       "      <th>Age upon Outcome</th>\n",
       "      <th>Breed_Outcome</th>\n",
       "      <th>Color_Outcome</th>\n",
       "      <th>binary_outcome</th>\n",
       "    </tr>\n",
       "  </thead>\n",
       "  <tbody>\n",
       "    <tr>\n",
       "      <td>995</td>\n",
       "      <td>A801041</td>\n",
       "      <td>*Polly</td>\n",
       "      <td>07/30/2019 01:22:00 PM</td>\n",
       "      <td>07/30/2019 01:22:00 PM</td>\n",
       "      <td>508 Howard Lane in Austin (TX)</td>\n",
       "      <td>Stray</td>\n",
       "      <td>Normal</td>\n",
       "      <td>Cat</td>\n",
       "      <td>Intact Female</td>\n",
       "      <td>4 weeks</td>\n",
       "      <td>...</td>\n",
       "      <td>*Polly</td>\n",
       "      <td>08/04/2019 13:03</td>\n",
       "      <td>08/04/2019 13:03</td>\n",
       "      <td>07/01/2019</td>\n",
       "      <td>Cat</td>\n",
       "      <td>Intact Female</td>\n",
       "      <td>4 weeks</td>\n",
       "      <td>Domestic Shorthair</td>\n",
       "      <td>Black</td>\n",
       "      <td>0</td>\n",
       "    </tr>\n",
       "    <tr>\n",
       "      <td>996</td>\n",
       "      <td>A795559</td>\n",
       "      <td>Precious</td>\n",
       "      <td>07/26/2019 11:04:00 AM</td>\n",
       "      <td>07/26/2019 11:04:00 AM</td>\n",
       "      <td>2450 Wickersham Ln in Austin (TX)</td>\n",
       "      <td>Stray</td>\n",
       "      <td>Normal</td>\n",
       "      <td>Dog</td>\n",
       "      <td>Intact Female</td>\n",
       "      <td>1 year</td>\n",
       "      <td>...</td>\n",
       "      <td>Precious</td>\n",
       "      <td>08/07/2019 06:54</td>\n",
       "      <td>08/07/2019 06:54</td>\n",
       "      <td>05/22/2018</td>\n",
       "      <td>Dog</td>\n",
       "      <td>Intact Female</td>\n",
       "      <td>1 year</td>\n",
       "      <td>Pit Bull</td>\n",
       "      <td>Black/White</td>\n",
       "      <td>0</td>\n",
       "    </tr>\n",
       "    <tr>\n",
       "      <td>997</td>\n",
       "      <td>A681271</td>\n",
       "      <td>NaN</td>\n",
       "      <td>06/14/2014 12:17:00 PM</td>\n",
       "      <td>06/14/2014 12:17:00 PM</td>\n",
       "      <td>7101 Appaloosa Ct in Travis (TX)</td>\n",
       "      <td>Stray</td>\n",
       "      <td>Normal</td>\n",
       "      <td>Cat</td>\n",
       "      <td>Intact Female</td>\n",
       "      <td>3 weeks</td>\n",
       "      <td>...</td>\n",
       "      <td>NaN</td>\n",
       "      <td>06/14/2014 04:16:00 PM</td>\n",
       "      <td>06/14/2014 04:16:00 PM</td>\n",
       "      <td>05/23/2014</td>\n",
       "      <td>Cat</td>\n",
       "      <td>Intact Female</td>\n",
       "      <td>3 weeks</td>\n",
       "      <td>Domestic Shorthair Mix</td>\n",
       "      <td>Cream Tabby</td>\n",
       "      <td>0</td>\n",
       "    </tr>\n",
       "    <tr>\n",
       "      <td>998</td>\n",
       "      <td>A718548</td>\n",
       "      <td>Bennett Ned</td>\n",
       "      <td>01/01/2016 23:40</td>\n",
       "      <td>01/01/2016 23:40</td>\n",
       "      <td>1425  Wells Branch in Austin (TX)</td>\n",
       "      <td>Stray</td>\n",
       "      <td>Normal</td>\n",
       "      <td>Dog</td>\n",
       "      <td>Neutered Male</td>\n",
       "      <td>3 years</td>\n",
       "      <td>...</td>\n",
       "      <td>Bennett Ned</td>\n",
       "      <td>03/19/2016 12:44:00 PM</td>\n",
       "      <td>03/19/2016 12:44:00 PM</td>\n",
       "      <td>01/01/2013</td>\n",
       "      <td>Dog</td>\n",
       "      <td>Neutered Male</td>\n",
       "      <td>3 years</td>\n",
       "      <td>Labrador Retriever Mix</td>\n",
       "      <td>Brown/White</td>\n",
       "      <td>0</td>\n",
       "    </tr>\n",
       "    <tr>\n",
       "      <td>999</td>\n",
       "      <td>A715118</td>\n",
       "      <td>*Archie</td>\n",
       "      <td>10/31/2015 03:16:00 PM</td>\n",
       "      <td>10/31/2015 03:16:00 PM</td>\n",
       "      <td>Manchaca And Slaughter in Austin (TX)</td>\n",
       "      <td>Stray</td>\n",
       "      <td>Normal</td>\n",
       "      <td>Cat</td>\n",
       "      <td>Intact Male</td>\n",
       "      <td>4 weeks</td>\n",
       "      <td>...</td>\n",
       "      <td>*Archie</td>\n",
       "      <td>11/02/2015 14:02</td>\n",
       "      <td>11/02/2015 14:02</td>\n",
       "      <td>09/28/2015</td>\n",
       "      <td>Cat</td>\n",
       "      <td>Intact Male</td>\n",
       "      <td>5 weeks</td>\n",
       "      <td>Domestic Shorthair Mix</td>\n",
       "      <td>Orange Tabby</td>\n",
       "      <td>0</td>\n",
       "    </tr>\n",
       "  </tbody>\n",
       "</table>\n",
       "<p>5 rows × 22 columns</p>\n",
       "</div>"
      ],
      "text/plain": [
       "    Animal ID  Name_Intake         DateTime_Intake        MonthYear_Intake  \\\n",
       "995   A801041       *Polly  07/30/2019 01:22:00 PM  07/30/2019 01:22:00 PM   \n",
       "996   A795559     Precious  07/26/2019 11:04:00 AM  07/26/2019 11:04:00 AM   \n",
       "997   A681271          NaN  06/14/2014 12:17:00 PM  06/14/2014 12:17:00 PM   \n",
       "998   A718548  Bennett Ned        01/01/2016 23:40        01/01/2016 23:40   \n",
       "999   A715118      *Archie  10/31/2015 03:16:00 PM  10/31/2015 03:16:00 PM   \n",
       "\n",
       "                            Found Location Intake Type Intake Condition  \\\n",
       "995         508 Howard Lane in Austin (TX)       Stray           Normal   \n",
       "996      2450 Wickersham Ln in Austin (TX)       Stray           Normal   \n",
       "997       7101 Appaloosa Ct in Travis (TX)       Stray           Normal   \n",
       "998      1425  Wells Branch in Austin (TX)       Stray           Normal   \n",
       "999  Manchaca And Slaughter in Austin (TX)       Stray           Normal   \n",
       "\n",
       "    Animal Type_Intake Sex upon Intake Age upon Intake  ... Name_Outcome  \\\n",
       "995                Cat   Intact Female         4 weeks  ...       *Polly   \n",
       "996                Dog   Intact Female          1 year  ...     Precious   \n",
       "997                Cat   Intact Female         3 weeks  ...          NaN   \n",
       "998                Dog   Neutered Male         3 years  ...  Bennett Ned   \n",
       "999                Cat     Intact Male         4 weeks  ...      *Archie   \n",
       "\n",
       "           DateTime_Outcome       MonthYear_Outcome Date of Birth  \\\n",
       "995        08/04/2019 13:03        08/04/2019 13:03    07/01/2019   \n",
       "996        08/07/2019 06:54        08/07/2019 06:54    05/22/2018   \n",
       "997  06/14/2014 04:16:00 PM  06/14/2014 04:16:00 PM    05/23/2014   \n",
       "998  03/19/2016 12:44:00 PM  03/19/2016 12:44:00 PM    01/01/2013   \n",
       "999        11/02/2015 14:02        11/02/2015 14:02    09/28/2015   \n",
       "\n",
       "    Animal Type_Outcome Sex upon Outcome Age upon Outcome  \\\n",
       "995                 Cat    Intact Female          4 weeks   \n",
       "996                 Dog    Intact Female           1 year   \n",
       "997                 Cat    Intact Female          3 weeks   \n",
       "998                 Dog    Neutered Male          3 years   \n",
       "999                 Cat      Intact Male          5 weeks   \n",
       "\n",
       "              Breed_Outcome Color_Outcome binary_outcome  \n",
       "995      Domestic Shorthair         Black              0  \n",
       "996                Pit Bull   Black/White              0  \n",
       "997  Domestic Shorthair Mix   Cream Tabby              0  \n",
       "998  Labrador Retriever Mix   Brown/White              0  \n",
       "999  Domestic Shorthair Mix  Orange Tabby              0  \n",
       "\n",
       "[5 rows x 22 columns]"
      ]
     },
     "execution_count": 4,
     "metadata": {},
     "output_type": "execute_result"
    }
   ],
   "source": [
    "#print last 5 rows\n",
    "df.tail(5)\n",
    "\n"
   ]
  },
  {
   "cell_type": "code",
   "execution_count": 5,
   "metadata": {},
   "outputs": [
    {
     "data": {
      "text/plain": [
       "Animal ID              object\n",
       "Name_Intake            object\n",
       "DateTime_Intake        object\n",
       "MonthYear_Intake       object\n",
       "Found Location         object\n",
       "Intake Type            object\n",
       "Intake Condition       object\n",
       "Animal Type_Intake     object\n",
       "Sex upon Intake        object\n",
       "Age upon Intake        object\n",
       "Breed_Intake           object\n",
       "Color_Intake           object\n",
       "Name_Outcome           object\n",
       "DateTime_Outcome       object\n",
       "MonthYear_Outcome      object\n",
       "Date of Birth          object\n",
       "Animal Type_Outcome    object\n",
       "Sex upon Outcome       object\n",
       "Age upon Outcome       object\n",
       "Breed_Outcome          object\n",
       "Color_Outcome          object\n",
       "binary_outcome          int64\n",
       "dtype: object"
      ]
     },
     "execution_count": 5,
     "metadata": {},
     "output_type": "execute_result"
    }
   ],
   "source": [
    "#show the datatype of each feature\n",
    "df.dtypes"
   ]
  },
  {
   "cell_type": "code",
   "execution_count": 6,
   "metadata": {},
   "outputs": [
    {
     "data": {
      "text/plain": [
       "Index(['AnimalID', 'Name_Intake', 'DateTime_Intake', 'MonthYear_Intake',\n",
       "       'FoundLocation', 'IntakeType', 'IntakeCondition', 'AnimalType_Intake',\n",
       "       'SexuponIntake', 'AgeuponIntake', 'Breed_Intake', 'Color_Intake',\n",
       "       'Name_Outcome', 'DateTime_Outcome', 'MonthYear_Outcome', 'DateofBirth',\n",
       "       'AnimalType_Outcome', 'SexuponOutcome', 'AgeuponOutcome',\n",
       "       'Breed_Outcome', 'Color_Outcome', 'binary_outcome'],\n",
       "      dtype='object')"
      ]
     },
     "execution_count": 6,
     "metadata": {},
     "output_type": "execute_result"
    }
   ],
   "source": [
    "#remove whitespace in or around feature names\n",
    "df.columns = df.columns.str.replace(' ', '')\n",
    "df.columns"
   ]
  },
  {
   "cell_type": "code",
   "execution_count": 7,
   "metadata": {},
   "outputs": [
    {
     "data": {
      "text/html": [
       "<div>\n",
       "<style scoped>\n",
       "    .dataframe tbody tr th:only-of-type {\n",
       "        vertical-align: middle;\n",
       "    }\n",
       "\n",
       "    .dataframe tbody tr th {\n",
       "        vertical-align: top;\n",
       "    }\n",
       "\n",
       "    .dataframe thead th {\n",
       "        text-align: right;\n",
       "    }\n",
       "</style>\n",
       "<table border=\"1\" class=\"dataframe\">\n",
       "  <thead>\n",
       "    <tr style=\"text-align: right;\">\n",
       "      <th></th>\n",
       "      <th>count</th>\n",
       "      <th>mean</th>\n",
       "      <th>std</th>\n",
       "      <th>min</th>\n",
       "      <th>25%</th>\n",
       "      <th>50%</th>\n",
       "      <th>75%</th>\n",
       "      <th>max</th>\n",
       "    </tr>\n",
       "  </thead>\n",
       "  <tbody>\n",
       "    <tr>\n",
       "      <td>binary_outcome</td>\n",
       "      <td>1000.0</td>\n",
       "      <td>0.08</td>\n",
       "      <td>0.271429</td>\n",
       "      <td>0.0</td>\n",
       "      <td>0.0</td>\n",
       "      <td>0.0</td>\n",
       "      <td>0.0</td>\n",
       "      <td>1.0</td>\n",
       "    </tr>\n",
       "  </tbody>\n",
       "</table>\n",
       "</div>"
      ],
      "text/plain": [
       "                 count  mean       std  min  25%  50%  75%  max\n",
       "binary_outcome  1000.0  0.08  0.271429  0.0  0.0  0.0  0.0  1.0"
      ]
     },
     "execution_count": 7,
     "metadata": {},
     "output_type": "execute_result"
    }
   ],
   "source": [
    "#explore data to learn which category the features should be in\n",
    "#descriptive stats for features which are currently continuous\n",
    "#transpose to keep table layout consistent\n",
    "df.describe().T\n"
   ]
  },
  {
   "cell_type": "code",
   "execution_count": 8,
   "metadata": {},
   "outputs": [
    {
     "data": {
      "text/plain": [
       "array([0, 1])"
      ]
     },
     "execution_count": 8,
     "metadata": {},
     "output_type": "execute_result"
    }
   ],
   "source": [
    "#check how many unique values there are for binary outcome\n",
    "df['binary_outcome'].unique()"
   ]
  },
  {
   "cell_type": "code",
   "execution_count": 9,
   "metadata": {},
   "outputs": [],
   "source": [
    "#convert binary outcome to category as there are only two possible values and it does not make\n",
    "#sense to compute summary statistics on it\n",
    "df['binary_outcome'] = df['binary_outcome'].astype('category')\n"
   ]
  },
  {
   "cell_type": "code",
   "execution_count": 10,
   "metadata": {},
   "outputs": [
    {
     "data": {
      "text/plain": [
       "AnimalID                      object\n",
       "Name_Intake                   object\n",
       "DateTime_Intake       datetime64[ns]\n",
       "MonthYear_Intake      datetime64[ns]\n",
       "FoundLocation                 object\n",
       "IntakeType                    object\n",
       "IntakeCondition               object\n",
       "AnimalType_Intake             object\n",
       "SexuponIntake                 object\n",
       "AgeuponIntake                 object\n",
       "Breed_Intake                  object\n",
       "Color_Intake                  object\n",
       "Name_Outcome                  object\n",
       "DateTime_Outcome      datetime64[ns]\n",
       "MonthYear_Outcome     datetime64[ns]\n",
       "DateofBirth           datetime64[ns]\n",
       "AnimalType_Outcome            object\n",
       "SexuponOutcome                object\n",
       "AgeuponOutcome                object\n",
       "Breed_Outcome                 object\n",
       "Color_Outcome                 object\n",
       "binary_outcome              category\n",
       "dtype: object"
      ]
     },
     "execution_count": 10,
     "metadata": {},
     "output_type": "execute_result"
    }
   ],
   "source": [
    "#convert all date features to datetime types\n",
    "date_columns = ['DateTime_Intake','MonthYear_Intake', 'DateTime_Outcome' ,'MonthYear_Outcome'\n",
    "               , 'DateofBirth']\n",
    "for column in date_columns: \n",
    "    df[column] = df[column].astype('datetime64')\n",
    "df.dtypes \n",
    "    "
   ]
  },
  {
   "cell_type": "code",
   "execution_count": 11,
   "metadata": {},
   "outputs": [
    {
     "data": {
      "text/plain": [
       "Index(['AnimalID', 'Name_Intake', 'FoundLocation', 'IntakeType',\n",
       "       'IntakeCondition', 'AnimalType_Intake', 'SexuponIntake',\n",
       "       'AgeuponIntake', 'Breed_Intake', 'Color_Intake', 'Name_Outcome',\n",
       "       'AnimalType_Outcome', 'SexuponOutcome', 'AgeuponOutcome',\n",
       "       'Breed_Outcome', 'Color_Outcome'],\n",
       "      dtype='object')"
      ]
     },
     "execution_count": 11,
     "metadata": {},
     "output_type": "execute_result"
    }
   ],
   "source": [
    "object_columns = df.select_dtypes(['object']).columns\n",
    "object_columns"
   ]
  },
  {
   "cell_type": "code",
   "execution_count": 12,
   "metadata": {},
   "outputs": [
    {
     "data": {
      "text/plain": [
       "AnimalID                    category\n",
       "Name_Intake                 category\n",
       "DateTime_Intake       datetime64[ns]\n",
       "MonthYear_Intake      datetime64[ns]\n",
       "FoundLocation               category\n",
       "IntakeType                  category\n",
       "IntakeCondition             category\n",
       "AnimalType_Intake           category\n",
       "SexuponIntake               category\n",
       "AgeuponIntake               category\n",
       "Breed_Intake                category\n",
       "Color_Intake                category\n",
       "Name_Outcome                category\n",
       "DateTime_Outcome      datetime64[ns]\n",
       "MonthYear_Outcome     datetime64[ns]\n",
       "DateofBirth           datetime64[ns]\n",
       "AnimalType_Outcome          category\n",
       "SexuponOutcome              category\n",
       "AgeuponOutcome              category\n",
       "Breed_Outcome               category\n",
       "Color_Outcome               category\n",
       "binary_outcome              category\n",
       "dtype: object"
      ]
     },
     "execution_count": 12,
     "metadata": {},
     "output_type": "execute_result"
    }
   ],
   "source": [
    "#Convert selected columns to type 'category'\n",
    "for column in object_columns:\n",
    "    df[column] = df[column].astype('category')\n",
    "df.dtypes "
   ]
  },
  {
   "cell_type": "code",
   "execution_count": 13,
   "metadata": {},
   "outputs": [
    {
     "data": {
      "text/plain": [
       "Index(['AnimalID', 'Name_Intake', 'FoundLocation', 'IntakeType',\n",
       "       'IntakeCondition', 'AnimalType_Intake', 'SexuponIntake',\n",
       "       'AgeuponIntake', 'Breed_Intake', 'Color_Intake', 'Name_Outcome',\n",
       "       'AnimalType_Outcome', 'SexuponOutcome', 'AgeuponOutcome',\n",
       "       'Breed_Outcome', 'Color_Outcome', 'binary_outcome'],\n",
       "      dtype='object')"
      ]
     },
     "execution_count": 13,
     "metadata": {},
     "output_type": "execute_result"
    }
   ],
   "source": [
    "#select all features which are now type 'category'\n",
    "category_columns = df.select_dtypes(['category']).columns\n",
    "category_columns"
   ]
  },
  {
   "cell_type": "code",
   "execution_count": 14,
   "metadata": {},
   "outputs": [
    {
     "data": {
      "text/html": [
       "<div>\n",
       "<style scoped>\n",
       "    .dataframe tbody tr th:only-of-type {\n",
       "        vertical-align: middle;\n",
       "    }\n",
       "\n",
       "    .dataframe tbody tr th {\n",
       "        vertical-align: top;\n",
       "    }\n",
       "\n",
       "    .dataframe thead th {\n",
       "        text-align: right;\n",
       "    }\n",
       "</style>\n",
       "<table border=\"1\" class=\"dataframe\">\n",
       "  <thead>\n",
       "    <tr style=\"text-align: right;\">\n",
       "      <th></th>\n",
       "      <th>count</th>\n",
       "      <th>unique</th>\n",
       "      <th>top</th>\n",
       "      <th>freq</th>\n",
       "    </tr>\n",
       "  </thead>\n",
       "  <tbody>\n",
       "    <tr>\n",
       "      <td>AnimalID</td>\n",
       "      <td>1000</td>\n",
       "      <td>1000</td>\n",
       "      <td>A812664</td>\n",
       "      <td>1</td>\n",
       "    </tr>\n",
       "    <tr>\n",
       "      <td>Name_Intake</td>\n",
       "      <td>694</td>\n",
       "      <td>603</td>\n",
       "      <td>Max</td>\n",
       "      <td>8</td>\n",
       "    </tr>\n",
       "    <tr>\n",
       "      <td>FoundLocation</td>\n",
       "      <td>1000</td>\n",
       "      <td>766</td>\n",
       "      <td>Austin (TX)</td>\n",
       "      <td>188</td>\n",
       "    </tr>\n",
       "    <tr>\n",
       "      <td>IntakeType</td>\n",
       "      <td>1000</td>\n",
       "      <td>5</td>\n",
       "      <td>Stray</td>\n",
       "      <td>708</td>\n",
       "    </tr>\n",
       "    <tr>\n",
       "      <td>IntakeCondition</td>\n",
       "      <td>1000</td>\n",
       "      <td>5</td>\n",
       "      <td>Normal</td>\n",
       "      <td>891</td>\n",
       "    </tr>\n",
       "    <tr>\n",
       "      <td>AnimalType_Intake</td>\n",
       "      <td>1000</td>\n",
       "      <td>4</td>\n",
       "      <td>Dog</td>\n",
       "      <td>563</td>\n",
       "    </tr>\n",
       "    <tr>\n",
       "      <td>SexuponIntake</td>\n",
       "      <td>1000</td>\n",
       "      <td>5</td>\n",
       "      <td>Intact Male</td>\n",
       "      <td>332</td>\n",
       "    </tr>\n",
       "    <tr>\n",
       "      <td>AgeuponIntake</td>\n",
       "      <td>1000</td>\n",
       "      <td>43</td>\n",
       "      <td>1 year</td>\n",
       "      <td>172</td>\n",
       "    </tr>\n",
       "    <tr>\n",
       "      <td>Breed_Intake</td>\n",
       "      <td>1000</td>\n",
       "      <td>211</td>\n",
       "      <td>Domestic Shorthair Mix</td>\n",
       "      <td>259</td>\n",
       "    </tr>\n",
       "    <tr>\n",
       "      <td>Color_Intake</td>\n",
       "      <td>1000</td>\n",
       "      <td>115</td>\n",
       "      <td>Black/White</td>\n",
       "      <td>106</td>\n",
       "    </tr>\n",
       "    <tr>\n",
       "      <td>Name_Outcome</td>\n",
       "      <td>694</td>\n",
       "      <td>603</td>\n",
       "      <td>Max</td>\n",
       "      <td>8</td>\n",
       "    </tr>\n",
       "    <tr>\n",
       "      <td>AnimalType_Outcome</td>\n",
       "      <td>1000</td>\n",
       "      <td>4</td>\n",
       "      <td>Dog</td>\n",
       "      <td>563</td>\n",
       "    </tr>\n",
       "    <tr>\n",
       "      <td>SexuponOutcome</td>\n",
       "      <td>1000</td>\n",
       "      <td>5</td>\n",
       "      <td>Neutered Male</td>\n",
       "      <td>346</td>\n",
       "    </tr>\n",
       "    <tr>\n",
       "      <td>AgeuponOutcome</td>\n",
       "      <td>1000</td>\n",
       "      <td>42</td>\n",
       "      <td>1 year</td>\n",
       "      <td>170</td>\n",
       "    </tr>\n",
       "    <tr>\n",
       "      <td>Breed_Outcome</td>\n",
       "      <td>1000</td>\n",
       "      <td>211</td>\n",
       "      <td>Domestic Shorthair Mix</td>\n",
       "      <td>259</td>\n",
       "    </tr>\n",
       "    <tr>\n",
       "      <td>Color_Outcome</td>\n",
       "      <td>1000</td>\n",
       "      <td>115</td>\n",
       "      <td>Black/White</td>\n",
       "      <td>106</td>\n",
       "    </tr>\n",
       "    <tr>\n",
       "      <td>binary_outcome</td>\n",
       "      <td>1000</td>\n",
       "      <td>2</td>\n",
       "      <td>0</td>\n",
       "      <td>920</td>\n",
       "    </tr>\n",
       "  </tbody>\n",
       "</table>\n",
       "</div>"
      ],
      "text/plain": [
       "                   count unique                     top freq\n",
       "AnimalID            1000   1000                 A812664    1\n",
       "Name_Intake          694    603                     Max    8\n",
       "FoundLocation       1000    766             Austin (TX)  188\n",
       "IntakeType          1000      5                   Stray  708\n",
       "IntakeCondition     1000      5                  Normal  891\n",
       "AnimalType_Intake   1000      4                     Dog  563\n",
       "SexuponIntake       1000      5             Intact Male  332\n",
       "AgeuponIntake       1000     43                  1 year  172\n",
       "Breed_Intake        1000    211  Domestic Shorthair Mix  259\n",
       "Color_Intake        1000    115             Black/White  106\n",
       "Name_Outcome         694    603                     Max    8\n",
       "AnimalType_Outcome  1000      4                     Dog  563\n",
       "SexuponOutcome      1000      5           Neutered Male  346\n",
       "AgeuponOutcome      1000     42                  1 year  170\n",
       "Breed_Outcome       1000    211  Domestic Shorthair Mix  259\n",
       "Color_Outcome       1000    115             Black/White  106\n",
       "binary_outcome      1000      2                       0  920"
      ]
     },
     "execution_count": 14,
     "metadata": {},
     "output_type": "execute_result"
    }
   ],
   "source": [
    "#look at descriptive stats for the object types to determine which type they should be\n",
    "df[category_columns].describe().T"
   ]
  },
  {
   "cell_type": "code",
   "execution_count": 15,
   "metadata": {},
   "outputs": [
    {
     "data": {
      "text/plain": [
       "1000"
      ]
     },
     "execution_count": 15,
     "metadata": {},
     "output_type": "execute_result"
    }
   ],
   "source": [
    "#from the descriptive table above I can see that feature 'ID' has 1000 unique values out of 1000 total values.\n",
    "#return the cardinality of the Animal ID feature\n",
    "len(df['AnimalID'].unique())"
   ]
  },
  {
   "cell_type": "code",
   "execution_count": 16,
   "metadata": {},
   "outputs": [
    {
     "data": {
      "text/plain": [
       "AnimalID                      object\n",
       "Name_Intake                 category\n",
       "DateTime_Intake       datetime64[ns]\n",
       "MonthYear_Intake      datetime64[ns]\n",
       "FoundLocation               category\n",
       "IntakeType                  category\n",
       "IntakeCondition             category\n",
       "AnimalType_Intake           category\n",
       "SexuponIntake               category\n",
       "AgeuponIntake               category\n",
       "Breed_Intake                category\n",
       "Color_Intake                category\n",
       "Name_Outcome                category\n",
       "DateTime_Outcome      datetime64[ns]\n",
       "MonthYear_Outcome     datetime64[ns]\n",
       "DateofBirth           datetime64[ns]\n",
       "AnimalType_Outcome          category\n",
       "SexuponOutcome              category\n",
       "AgeuponOutcome              category\n",
       "Breed_Outcome               category\n",
       "Color_Outcome               category\n",
       "binary_outcome              category\n",
       "dtype: object"
      ]
     },
     "execution_count": 16,
     "metadata": {},
     "output_type": "execute_result"
    }
   ],
   "source": [
    "#change 'Animal ID' to an object type so that it is not used in descriptive statistics.\n",
    "df['AnimalID'] = df['AnimalID'].astype('object')\n",
    "df.dtypes"
   ]
  },
  {
   "cell_type": "code",
   "execution_count": 17,
   "metadata": {},
   "outputs": [],
   "source": [
    "#'Age upon Intake' and 'Age upon Outcome' are composed of letters and numbers \n",
    "# It will be necessary to conduct descriptive stats on the age feature so instead of using \n",
    "#the 'AgeuponIntake' and 'AgeuponOutcome' features provided, I am subtracting 'DateTime_Intake' \n",
    "#from 'DateofBirth' and converting to days to generate a new age of intake. \n",
    "\n",
    "df['AgeIntake'] = (df['DateTime_Intake'] - df['DateofBirth']).dt.days"
   ]
  },
  {
   "cell_type": "code",
   "execution_count": 18,
   "metadata": {},
   "outputs": [
    {
     "data": {
      "text/plain": [
       "23"
      ]
     },
     "execution_count": 18,
     "metadata": {},
     "output_type": "execute_result"
    }
   ],
   "source": [
    "#check how many columns are in the dataframe after creating the new age at intake\n",
    "df.shape[1]"
   ]
  },
  {
   "cell_type": "code",
   "execution_count": 19,
   "metadata": {},
   "outputs": [
    {
     "data": {
      "text/plain": [
       "Index(['AnimalID', 'Name_Intake', 'DateTime_Intake', 'MonthYear_Intake',\n",
       "       'FoundLocation', 'IntakeType', 'IntakeCondition', 'AnimalType_Intake',\n",
       "       'SexuponIntake', 'AgeuponIntake', 'Breed_Intake', 'Color_Intake',\n",
       "       'Name_Outcome', 'DateTime_Outcome', 'MonthYear_Outcome', 'DateofBirth',\n",
       "       'AnimalType_Outcome', 'SexuponOutcome', 'AgeuponOutcome',\n",
       "       'Breed_Outcome', 'Color_Outcome', 'binary_outcome', 'AgeIntake'],\n",
       "      dtype='object')"
      ]
     },
     "execution_count": 19,
     "metadata": {},
     "output_type": "execute_result"
    }
   ],
   "source": [
    "#check name of new column is in list\n",
    "df.columns"
   ]
  },
  {
   "cell_type": "code",
   "execution_count": 20,
   "metadata": {},
   "outputs": [],
   "source": [
    "# I am subtracting 'DateTime_Outcome' from 'DateofBirth' and converting to days to generate a\n",
    "#new age of outcome\n",
    "\n",
    "df['AgeOutcome'] = (df['DateTime_Outcome'] - df['DateofBirth']).dt.days"
   ]
  },
  {
   "cell_type": "code",
   "execution_count": 21,
   "metadata": {},
   "outputs": [
    {
     "data": {
      "text/plain": [
       "24"
      ]
     },
     "execution_count": 21,
     "metadata": {},
     "output_type": "execute_result"
    }
   ],
   "source": [
    "#check how many columns are in the dataframe after creating the new age at outcome\n",
    "df.shape[1]"
   ]
  },
  {
   "cell_type": "code",
   "execution_count": 22,
   "metadata": {},
   "outputs": [
    {
     "data": {
      "text/plain": [
       "Index(['AnimalID', 'Name_Intake', 'DateTime_Intake', 'MonthYear_Intake',\n",
       "       'FoundLocation', 'IntakeType', 'IntakeCondition', 'AnimalType_Intake',\n",
       "       'SexuponIntake', 'AgeuponIntake', 'Breed_Intake', 'Color_Intake',\n",
       "       'Name_Outcome', 'DateTime_Outcome', 'MonthYear_Outcome', 'DateofBirth',\n",
       "       'AnimalType_Outcome', 'SexuponOutcome', 'AgeuponOutcome',\n",
       "       'Breed_Outcome', 'Color_Outcome', 'binary_outcome', 'AgeIntake',\n",
       "       'AgeOutcome'],\n",
       "      dtype='object')"
      ]
     },
     "execution_count": 22,
     "metadata": {},
     "output_type": "execute_result"
    }
   ],
   "source": [
    "#check name of new column is in list\n",
    "df.columns"
   ]
  },
  {
   "cell_type": "code",
   "execution_count": 23,
   "metadata": {},
   "outputs": [
    {
     "data": {
      "text/html": [
       "<div>\n",
       "<style scoped>\n",
       "    .dataframe tbody tr th:only-of-type {\n",
       "        vertical-align: middle;\n",
       "    }\n",
       "\n",
       "    .dataframe tbody tr th {\n",
       "        vertical-align: top;\n",
       "    }\n",
       "\n",
       "    .dataframe thead th {\n",
       "        text-align: right;\n",
       "    }\n",
       "</style>\n",
       "<table border=\"1\" class=\"dataframe\">\n",
       "  <thead>\n",
       "    <tr style=\"text-align: right;\">\n",
       "      <th></th>\n",
       "      <th>AnimalID</th>\n",
       "      <th>Name_Intake</th>\n",
       "      <th>DateTime_Intake</th>\n",
       "      <th>MonthYear_Intake</th>\n",
       "      <th>FoundLocation</th>\n",
       "      <th>IntakeType</th>\n",
       "      <th>IntakeCondition</th>\n",
       "      <th>AnimalType_Intake</th>\n",
       "      <th>SexuponIntake</th>\n",
       "      <th>AgeuponIntake</th>\n",
       "      <th>...</th>\n",
       "      <th>MonthYear_Outcome</th>\n",
       "      <th>DateofBirth</th>\n",
       "      <th>AnimalType_Outcome</th>\n",
       "      <th>SexuponOutcome</th>\n",
       "      <th>AgeuponOutcome</th>\n",
       "      <th>Breed_Outcome</th>\n",
       "      <th>Color_Outcome</th>\n",
       "      <th>binary_outcome</th>\n",
       "      <th>AgeIntake</th>\n",
       "      <th>AgeOutcome</th>\n",
       "    </tr>\n",
       "  </thead>\n",
       "  <tbody>\n",
       "    <tr>\n",
       "      <td>0</td>\n",
       "      <td>A687076</td>\n",
       "      <td>Katy</td>\n",
       "      <td>2014-08-30 17:55:00</td>\n",
       "      <td>2014-08-30 17:55:00</td>\n",
       "      <td>Acorn Oaks And Cooper in Austin (TX)</td>\n",
       "      <td>Stray</td>\n",
       "      <td>Normal</td>\n",
       "      <td>Cat</td>\n",
       "      <td>Intact Female</td>\n",
       "      <td>2 months</td>\n",
       "      <td>...</td>\n",
       "      <td>2014-09-05 14:33:00</td>\n",
       "      <td>2014-06-15</td>\n",
       "      <td>Cat</td>\n",
       "      <td>Spayed Female</td>\n",
       "      <td>2 months</td>\n",
       "      <td>Domestic Shorthair Mix</td>\n",
       "      <td>Torbie</td>\n",
       "      <td>0</td>\n",
       "      <td>76</td>\n",
       "      <td>82</td>\n",
       "    </tr>\n",
       "    <tr>\n",
       "      <td>1</td>\n",
       "      <td>A685139</td>\n",
       "      <td>NaN</td>\n",
       "      <td>2014-08-03 11:23:00</td>\n",
       "      <td>2014-08-03 11:23:00</td>\n",
       "      <td>Pleasant Valley/Oltorf in Austin (TX)</td>\n",
       "      <td>Stray</td>\n",
       "      <td>Other</td>\n",
       "      <td>Dog</td>\n",
       "      <td>Intact Female</td>\n",
       "      <td>3 months</td>\n",
       "      <td>...</td>\n",
       "      <td>2014-08-07 18:09:00</td>\n",
       "      <td>2014-05-03</td>\n",
       "      <td>Dog</td>\n",
       "      <td>Spayed Female</td>\n",
       "      <td>3 months</td>\n",
       "      <td>Cavalier Span Mix</td>\n",
       "      <td>White/Black</td>\n",
       "      <td>0</td>\n",
       "      <td>92</td>\n",
       "      <td>96</td>\n",
       "    </tr>\n",
       "    <tr>\n",
       "      <td>2</td>\n",
       "      <td>A741039</td>\n",
       "      <td>Dexter</td>\n",
       "      <td>2016-12-27 11:18:00</td>\n",
       "      <td>2016-12-27 11:18:00</td>\n",
       "      <td>12Th St And Airport Blvd in Austin (TX)</td>\n",
       "      <td>Stray</td>\n",
       "      <td>Normal</td>\n",
       "      <td>Dog</td>\n",
       "      <td>Intact Male</td>\n",
       "      <td>1 year</td>\n",
       "      <td>...</td>\n",
       "      <td>2017-01-01 15:27:00</td>\n",
       "      <td>2015-12-27</td>\n",
       "      <td>Dog</td>\n",
       "      <td>Intact Male</td>\n",
       "      <td>1 year</td>\n",
       "      <td>Jack Russell Terrier</td>\n",
       "      <td>Black/White</td>\n",
       "      <td>0</td>\n",
       "      <td>366</td>\n",
       "      <td>371</td>\n",
       "    </tr>\n",
       "    <tr>\n",
       "      <td>3</td>\n",
       "      <td>A759166</td>\n",
       "      <td>Archie</td>\n",
       "      <td>2017-09-28 11:03:00</td>\n",
       "      <td>2017-09-28 11:03:00</td>\n",
       "      <td>Brockman And Pompton in Austin (TX)</td>\n",
       "      <td>Stray</td>\n",
       "      <td>Normal</td>\n",
       "      <td>Cat</td>\n",
       "      <td>Intact Male</td>\n",
       "      <td>2 months</td>\n",
       "      <td>...</td>\n",
       "      <td>2017-11-04 18:11:00</td>\n",
       "      <td>2017-07-28</td>\n",
       "      <td>Cat</td>\n",
       "      <td>Neutered Male</td>\n",
       "      <td>3 months</td>\n",
       "      <td>Domestic Shorthair</td>\n",
       "      <td>Black</td>\n",
       "      <td>0</td>\n",
       "      <td>62</td>\n",
       "      <td>99</td>\n",
       "    </tr>\n",
       "    <tr>\n",
       "      <td>4</td>\n",
       "      <td>A696479</td>\n",
       "      <td>Chocolate</td>\n",
       "      <td>2015-02-05 11:51:00</td>\n",
       "      <td>2015-02-05 11:51:00</td>\n",
       "      <td>3012 Guerrero Dr in Travis (TX)</td>\n",
       "      <td>Stray</td>\n",
       "      <td>Normal</td>\n",
       "      <td>Cat</td>\n",
       "      <td>Intact Male</td>\n",
       "      <td>1 year</td>\n",
       "      <td>...</td>\n",
       "      <td>2015-02-15 11:39:00</td>\n",
       "      <td>2014-02-05</td>\n",
       "      <td>Cat</td>\n",
       "      <td>Neutered Male</td>\n",
       "      <td>1 year</td>\n",
       "      <td>Domestic Medium Hair Mix</td>\n",
       "      <td>Black</td>\n",
       "      <td>0</td>\n",
       "      <td>365</td>\n",
       "      <td>375</td>\n",
       "    </tr>\n",
       "  </tbody>\n",
       "</table>\n",
       "<p>5 rows × 24 columns</p>\n",
       "</div>"
      ],
      "text/plain": [
       "  AnimalID Name_Intake     DateTime_Intake    MonthYear_Intake  \\\n",
       "0  A687076        Katy 2014-08-30 17:55:00 2014-08-30 17:55:00   \n",
       "1  A685139         NaN 2014-08-03 11:23:00 2014-08-03 11:23:00   \n",
       "2  A741039      Dexter 2016-12-27 11:18:00 2016-12-27 11:18:00   \n",
       "3  A759166      Archie 2017-09-28 11:03:00 2017-09-28 11:03:00   \n",
       "4  A696479   Chocolate 2015-02-05 11:51:00 2015-02-05 11:51:00   \n",
       "\n",
       "                             FoundLocation IntakeType IntakeCondition  \\\n",
       "0     Acorn Oaks And Cooper in Austin (TX)      Stray          Normal   \n",
       "1    Pleasant Valley/Oltorf in Austin (TX)      Stray           Other   \n",
       "2  12Th St And Airport Blvd in Austin (TX)      Stray          Normal   \n",
       "3      Brockman And Pompton in Austin (TX)      Stray          Normal   \n",
       "4          3012 Guerrero Dr in Travis (TX)      Stray          Normal   \n",
       "\n",
       "  AnimalType_Intake  SexuponIntake AgeuponIntake  ...   MonthYear_Outcome  \\\n",
       "0               Cat  Intact Female      2 months  ... 2014-09-05 14:33:00   \n",
       "1               Dog  Intact Female      3 months  ... 2014-08-07 18:09:00   \n",
       "2               Dog    Intact Male        1 year  ... 2017-01-01 15:27:00   \n",
       "3               Cat    Intact Male      2 months  ... 2017-11-04 18:11:00   \n",
       "4               Cat    Intact Male        1 year  ... 2015-02-15 11:39:00   \n",
       "\n",
       "  DateofBirth AnimalType_Outcome SexuponOutcome AgeuponOutcome  \\\n",
       "0  2014-06-15                Cat  Spayed Female       2 months   \n",
       "1  2014-05-03                Dog  Spayed Female       3 months   \n",
       "2  2015-12-27                Dog    Intact Male         1 year   \n",
       "3  2017-07-28                Cat  Neutered Male       3 months   \n",
       "4  2014-02-05                Cat  Neutered Male         1 year   \n",
       "\n",
       "              Breed_Outcome Color_Outcome binary_outcome AgeIntake AgeOutcome  \n",
       "0    Domestic Shorthair Mix        Torbie              0        76         82  \n",
       "1         Cavalier Span Mix   White/Black              0        92         96  \n",
       "2      Jack Russell Terrier   Black/White              0       366        371  \n",
       "3        Domestic Shorthair         Black              0        62         99  \n",
       "4  Domestic Medium Hair Mix         Black              0       365        375  \n",
       "\n",
       "[5 rows x 24 columns]"
      ]
     },
     "execution_count": 23,
     "metadata": {},
     "output_type": "execute_result"
    }
   ],
   "source": [
    "df.head()"
   ]
  },
  {
   "cell_type": "code",
   "execution_count": 24,
   "metadata": {},
   "outputs": [
    {
     "data": {
      "text/plain": [
       "22"
      ]
     },
     "execution_count": 24,
     "metadata": {},
     "output_type": "execute_result"
    }
   ],
   "source": [
    "# remove original 'AgeuponIntake' and 'AgeuponOutcome' columns\n",
    "\n",
    "df = df.drop('AgeuponIntake', 1)\n",
    "df = df.drop('AgeuponOutcome', 1)\n",
    "df.shape[1]\n"
   ]
  },
  {
   "cell_type": "code",
   "execution_count": 25,
   "metadata": {},
   "outputs": [
    {
     "data": {
      "text/plain": [
       "Index(['AnimalID', 'Name_Intake', 'DateTime_Intake', 'MonthYear_Intake',\n",
       "       'FoundLocation', 'IntakeType', 'IntakeCondition', 'AnimalType_Intake',\n",
       "       'SexuponIntake', 'Breed_Intake', 'Color_Intake', 'Name_Outcome',\n",
       "       'DateTime_Outcome', 'MonthYear_Outcome', 'DateofBirth',\n",
       "       'AnimalType_Outcome', 'SexuponOutcome', 'Breed_Outcome',\n",
       "       'Color_Outcome', 'binary_outcome', 'AgeIntake', 'AgeOutcome'],\n",
       "      dtype='object')"
      ]
     },
     "execution_count": 25,
     "metadata": {},
     "output_type": "execute_result"
    }
   ],
   "source": [
    "df.columns"
   ]
  },
  {
   "cell_type": "code",
   "execution_count": 26,
   "metadata": {},
   "outputs": [
    {
     "data": {
      "text/plain": [
       "AnimalID                      object\n",
       "Name_Intake                 category\n",
       "DateTime_Intake       datetime64[ns]\n",
       "MonthYear_Intake      datetime64[ns]\n",
       "FoundLocation               category\n",
       "IntakeType                  category\n",
       "IntakeCondition             category\n",
       "AnimalType_Intake           category\n",
       "SexuponIntake               category\n",
       "Breed_Intake                category\n",
       "Color_Intake                category\n",
       "Name_Outcome                category\n",
       "DateTime_Outcome      datetime64[ns]\n",
       "MonthYear_Outcome     datetime64[ns]\n",
       "DateofBirth           datetime64[ns]\n",
       "AnimalType_Outcome          category\n",
       "SexuponOutcome              category\n",
       "Breed_Outcome               category\n",
       "Color_Outcome               category\n",
       "binary_outcome              category\n",
       "AgeIntake                      int64\n",
       "AgeOutcome                     int64\n",
       "dtype: object"
      ]
     },
     "execution_count": 26,
     "metadata": {},
     "output_type": "execute_result"
    }
   ],
   "source": [
    "#check that datatype of new columns are 'int64'\n",
    "df.dtypes"
   ]
  },
  {
   "cell_type": "code",
   "execution_count": 27,
   "metadata": {},
   "outputs": [
    {
     "name": "stdout",
     "output_type": "stream",
     "text": [
      "Number of duplicate (excluding first) rows in the table is:  0\n",
      "Number of duplicate rows (including first) in the table is: 0\n"
     ]
    }
   ],
   "source": [
    "print('Number of duplicate (excluding first) rows in the table is: ', df.duplicated().sum())\n",
    "print('Number of duplicate rows (including first) in the table is:', df[df.duplicated(keep=False)].shape[0])"
   ]
  },
  {
   "cell_type": "code",
   "execution_count": 28,
   "metadata": {},
   "outputs": [
    {
     "name": "stdout",
     "output_type": "stream",
     "text": [
      "Number of duplicate (excluding first) columns in the table is:  AnimalID              False\n",
      "Name_Intake           False\n",
      "DateTime_Intake       False\n",
      "MonthYear_Intake       True\n",
      "FoundLocation         False\n",
      "IntakeType            False\n",
      "IntakeCondition       False\n",
      "AnimalType_Intake     False\n",
      "SexuponIntake         False\n",
      "Breed_Intake          False\n",
      "Color_Intake          False\n",
      "Name_Outcome           True\n",
      "DateTime_Outcome      False\n",
      "MonthYear_Outcome      True\n",
      "DateofBirth           False\n",
      "AnimalType_Outcome     True\n",
      "SexuponOutcome        False\n",
      "Breed_Outcome          True\n",
      "Color_Outcome          True\n",
      "binary_outcome        False\n",
      "AgeIntake             False\n",
      "AgeOutcome            False\n",
      "dtype: bool\n",
      "Number of duplicate (including first) columns in the table is:  12\n"
     ]
    }
   ],
   "source": [
    "#check if there are any duplicate columns\n",
    "#.duplicate returns a Boolean Value so True will be returned if the column is a duplicate\n",
    "\n",
    "dfT = df.T\n",
    "print(\"Number of duplicate (excluding first) columns in the table is: \", dfT.duplicated())\n",
    "print(\"Number of duplicate (including first) columns in the table is: \",  dfT[dfT.duplicated(keep=False)].shape[0])"
   ]
  },
  {
   "cell_type": "code",
   "execution_count": 29,
   "metadata": {},
   "outputs": [],
   "source": [
    "#this cell removes the duplicate columns \n",
    "\n",
    "df = df.drop(['MonthYear_Intake', 'Name_Outcome', 'MonthYear_Outcome', 'AnimalType_Outcome',\n",
    "        'Breed_Outcome', 'Color_Outcome'], axis=1)"
   ]
  },
  {
   "cell_type": "code",
   "execution_count": 30,
   "metadata": {},
   "outputs": [
    {
     "data": {
      "text/plain": [
       "16"
      ]
     },
     "execution_count": 30,
     "metadata": {},
     "output_type": "execute_result"
    }
   ],
   "source": [
    "df.shape[1]"
   ]
  },
  {
   "cell_type": "code",
   "execution_count": 31,
   "metadata": {},
   "outputs": [
    {
     "name": "stdout",
     "output_type": "stream",
     "text": [
      "Number of duplicate (excluding first) columns in the table is:  AnimalID             False\n",
      "Name_Intake          False\n",
      "DateTime_Intake      False\n",
      "FoundLocation        False\n",
      "IntakeType           False\n",
      "IntakeCondition      False\n",
      "AnimalType_Intake    False\n",
      "SexuponIntake        False\n",
      "Breed_Intake         False\n",
      "Color_Intake         False\n",
      "DateTime_Outcome     False\n",
      "DateofBirth          False\n",
      "SexuponOutcome       False\n",
      "binary_outcome       False\n",
      "AgeIntake            False\n",
      "AgeOutcome           False\n",
      "dtype: bool\n",
      "Number of duplicate (including first) columns in the table is:  0\n"
     ]
    }
   ],
   "source": [
    "#check that there are now no dupicate columns\n",
    "dfT = df.T\n",
    "print(\"Number of duplicate (excluding first) columns in the table is: \", dfT.duplicated())\n",
    "print(\"Number of duplicate (including first) columns in the table is: \",  dfT[dfT.duplicated(keep=False)].shape[0])"
   ]
  },
  {
   "cell_type": "code",
   "execution_count": 32,
   "metadata": {},
   "outputs": [
    {
     "name": "stdout",
     "output_type": "stream",
     "text": [
      "Feature, UniqueValues\n",
      "AnimalID,1000\n",
      "Name_Intake,604\n",
      "DateTime_Intake,996\n",
      "FoundLocation,766\n",
      "IntakeType,5\n",
      "IntakeCondition,5\n",
      "AnimalType_Intake,4\n",
      "SexuponIntake,5\n",
      "Breed_Intake,211\n",
      "Color_Intake,115\n",
      "DateTime_Outcome,998\n",
      "DateofBirth,872\n",
      "SexuponOutcome,5\n",
      "binary_outcome,2\n",
      "AgeIntake,325\n",
      "AgeOutcome,496\n"
     ]
    }
   ],
   "source": [
    "#check how many unique values each feature has so that we can tell \n",
    "#if there are any constant columns. All values are greater than 1 so there \n",
    "#are no constant columns\n",
    "\n",
    "print(\"Feature, UniqueValues\") \n",
    "for column in df.columns:\n",
    "    print(column + \",\" + str(len(df[column].unique())))"
   ]
  },
  {
   "cell_type": "markdown",
   "metadata": {},
   "source": [
    "In the cell below I do a further check to ensure that there are no constant columns in the continuous data"
   ]
  },
  {
   "cell_type": "code",
   "execution_count": 33,
   "metadata": {},
   "outputs": [
    {
     "data": {
      "text/html": [
       "<div>\n",
       "<style scoped>\n",
       "    .dataframe tbody tr th:only-of-type {\n",
       "        vertical-align: middle;\n",
       "    }\n",
       "\n",
       "    .dataframe tbody tr th {\n",
       "        vertical-align: top;\n",
       "    }\n",
       "\n",
       "    .dataframe thead th {\n",
       "        text-align: right;\n",
       "    }\n",
       "</style>\n",
       "<table border=\"1\" class=\"dataframe\">\n",
       "  <thead>\n",
       "    <tr style=\"text-align: right;\">\n",
       "      <th></th>\n",
       "      <th>count</th>\n",
       "      <th>mean</th>\n",
       "      <th>std</th>\n",
       "      <th>min</th>\n",
       "      <th>25%</th>\n",
       "      <th>50%</th>\n",
       "      <th>75%</th>\n",
       "      <th>max</th>\n",
       "    </tr>\n",
       "  </thead>\n",
       "  <tbody>\n",
       "    <tr>\n",
       "      <td>AgeIntake</td>\n",
       "      <td>1000.0</td>\n",
       "      <td>760.888</td>\n",
       "      <td>1116.548005</td>\n",
       "      <td>0.0</td>\n",
       "      <td>68.00</td>\n",
       "      <td>365.0</td>\n",
       "      <td>765.25</td>\n",
       "      <td>7305.0</td>\n",
       "    </tr>\n",
       "    <tr>\n",
       "      <td>AgeOutcome</td>\n",
       "      <td>1000.0</td>\n",
       "      <td>780.879</td>\n",
       "      <td>1124.887214</td>\n",
       "      <td>0.0</td>\n",
       "      <td>86.75</td>\n",
       "      <td>367.0</td>\n",
       "      <td>808.25</td>\n",
       "      <td>7306.0</td>\n",
       "    </tr>\n",
       "  </tbody>\n",
       "</table>\n",
       "</div>"
      ],
      "text/plain": [
       "             count     mean          std  min    25%    50%     75%     max\n",
       "AgeIntake   1000.0  760.888  1116.548005  0.0  68.00  365.0  765.25  7305.0\n",
       "AgeOutcome  1000.0  780.879  1124.887214  0.0  86.75  367.0  808.25  7306.0"
      ]
     },
     "execution_count": 33,
     "metadata": {},
     "output_type": "execute_result"
    }
   ],
   "source": [
    "# Select columns containing continuous data\n",
    "# in my dataset the only continuous columns are are of intake and age of outcome\n",
    "continuous_columns = df[['AgeIntake', 'AgeOutcome']].columns\n",
    "\n",
    "# Print table\n",
    "df[continuous_columns].describe().T"
   ]
  },
  {
   "cell_type": "markdown",
   "metadata": {},
   "source": [
    "None of the continuous features in the table above have a value of zero for std. This implies that these features do not contain a single contstant value in all of the rows. Thus, there are no constant values among the continuous faetures. "
   ]
  },
  {
   "cell_type": "code",
   "execution_count": 34,
   "metadata": {},
   "outputs": [
    {
     "data": {
      "text/html": [
       "<div>\n",
       "<style scoped>\n",
       "    .dataframe tbody tr th:only-of-type {\n",
       "        vertical-align: middle;\n",
       "    }\n",
       "\n",
       "    .dataframe tbody tr th {\n",
       "        vertical-align: top;\n",
       "    }\n",
       "\n",
       "    .dataframe thead th {\n",
       "        text-align: right;\n",
       "    }\n",
       "</style>\n",
       "<table border=\"1\" class=\"dataframe\">\n",
       "  <thead>\n",
       "    <tr style=\"text-align: right;\">\n",
       "      <th></th>\n",
       "      <th>AnimalID</th>\n",
       "      <th>Name_Intake</th>\n",
       "      <th>DateTime_Intake</th>\n",
       "      <th>FoundLocation</th>\n",
       "      <th>IntakeType</th>\n",
       "      <th>IntakeCondition</th>\n",
       "      <th>AnimalType_Intake</th>\n",
       "      <th>SexuponIntake</th>\n",
       "      <th>Breed_Intake</th>\n",
       "      <th>Color_Intake</th>\n",
       "      <th>DateTime_Outcome</th>\n",
       "      <th>DateofBirth</th>\n",
       "      <th>SexuponOutcome</th>\n",
       "      <th>binary_outcome</th>\n",
       "      <th>AgeIntake</th>\n",
       "      <th>AgeOutcome</th>\n",
       "    </tr>\n",
       "  </thead>\n",
       "  <tbody>\n",
       "    <tr>\n",
       "      <td>0</td>\n",
       "      <td>A687076</td>\n",
       "      <td>Katy</td>\n",
       "      <td>2014-08-30 17:55:00</td>\n",
       "      <td>Acorn Oaks And Cooper in Austin (TX)</td>\n",
       "      <td>Stray</td>\n",
       "      <td>Normal</td>\n",
       "      <td>Cat</td>\n",
       "      <td>Intact Female</td>\n",
       "      <td>Domestic Shorthair Mix</td>\n",
       "      <td>Torbie</td>\n",
       "      <td>2014-09-05 14:33:00</td>\n",
       "      <td>2014-06-15</td>\n",
       "      <td>Spayed Female</td>\n",
       "      <td>0</td>\n",
       "      <td>76</td>\n",
       "      <td>82</td>\n",
       "    </tr>\n",
       "    <tr>\n",
       "      <td>1</td>\n",
       "      <td>A685139</td>\n",
       "      <td>NaN</td>\n",
       "      <td>2014-08-03 11:23:00</td>\n",
       "      <td>Pleasant Valley/Oltorf in Austin (TX)</td>\n",
       "      <td>Stray</td>\n",
       "      <td>Other</td>\n",
       "      <td>Dog</td>\n",
       "      <td>Intact Female</td>\n",
       "      <td>Cavalier Span Mix</td>\n",
       "      <td>White/Black</td>\n",
       "      <td>2014-08-07 18:09:00</td>\n",
       "      <td>2014-05-03</td>\n",
       "      <td>Spayed Female</td>\n",
       "      <td>0</td>\n",
       "      <td>92</td>\n",
       "      <td>96</td>\n",
       "    </tr>\n",
       "    <tr>\n",
       "      <td>2</td>\n",
       "      <td>A741039</td>\n",
       "      <td>Dexter</td>\n",
       "      <td>2016-12-27 11:18:00</td>\n",
       "      <td>12Th St And Airport Blvd in Austin (TX)</td>\n",
       "      <td>Stray</td>\n",
       "      <td>Normal</td>\n",
       "      <td>Dog</td>\n",
       "      <td>Intact Male</td>\n",
       "      <td>Jack Russell Terrier</td>\n",
       "      <td>Black/White</td>\n",
       "      <td>2017-01-01 15:27:00</td>\n",
       "      <td>2015-12-27</td>\n",
       "      <td>Intact Male</td>\n",
       "      <td>0</td>\n",
       "      <td>366</td>\n",
       "      <td>371</td>\n",
       "    </tr>\n",
       "    <tr>\n",
       "      <td>3</td>\n",
       "      <td>A759166</td>\n",
       "      <td>Archie</td>\n",
       "      <td>2017-09-28 11:03:00</td>\n",
       "      <td>Brockman And Pompton in Austin (TX)</td>\n",
       "      <td>Stray</td>\n",
       "      <td>Normal</td>\n",
       "      <td>Cat</td>\n",
       "      <td>Intact Male</td>\n",
       "      <td>Domestic Shorthair</td>\n",
       "      <td>Black</td>\n",
       "      <td>2017-11-04 18:11:00</td>\n",
       "      <td>2017-07-28</td>\n",
       "      <td>Neutered Male</td>\n",
       "      <td>0</td>\n",
       "      <td>62</td>\n",
       "      <td>99</td>\n",
       "    </tr>\n",
       "    <tr>\n",
       "      <td>4</td>\n",
       "      <td>A696479</td>\n",
       "      <td>Chocolate</td>\n",
       "      <td>2015-02-05 11:51:00</td>\n",
       "      <td>3012 Guerrero Dr in Travis (TX)</td>\n",
       "      <td>Stray</td>\n",
       "      <td>Normal</td>\n",
       "      <td>Cat</td>\n",
       "      <td>Intact Male</td>\n",
       "      <td>Domestic Medium Hair Mix</td>\n",
       "      <td>Black</td>\n",
       "      <td>2015-02-15 11:39:00</td>\n",
       "      <td>2014-02-05</td>\n",
       "      <td>Neutered Male</td>\n",
       "      <td>0</td>\n",
       "      <td>365</td>\n",
       "      <td>375</td>\n",
       "    </tr>\n",
       "    <tr>\n",
       "      <td>5</td>\n",
       "      <td>A712448</td>\n",
       "      <td>*Bettie</td>\n",
       "      <td>2015-09-23 12:41:00</td>\n",
       "      <td>Manor (TX)</td>\n",
       "      <td>Owner Surrender</td>\n",
       "      <td>Normal</td>\n",
       "      <td>Dog</td>\n",
       "      <td>Intact Female</td>\n",
       "      <td>Chihuahua Shorthair Mix</td>\n",
       "      <td>Tan/White</td>\n",
       "      <td>2015-09-27 19:30:00</td>\n",
       "      <td>2012-09-23</td>\n",
       "      <td>Spayed Female</td>\n",
       "      <td>0</td>\n",
       "      <td>1095</td>\n",
       "      <td>1099</td>\n",
       "    </tr>\n",
       "    <tr>\n",
       "      <td>6</td>\n",
       "      <td>A623526</td>\n",
       "      <td>Kali</td>\n",
       "      <td>2019-11-15 13:25:00</td>\n",
       "      <td>Travis (TX)</td>\n",
       "      <td>Owner Surrender</td>\n",
       "      <td>Normal</td>\n",
       "      <td>Dog</td>\n",
       "      <td>Spayed Female</td>\n",
       "      <td>Rottweiler/Labrador Retriever</td>\n",
       "      <td>Black/Tan</td>\n",
       "      <td>2019-11-27 11:52:00</td>\n",
       "      <td>2012-01-02</td>\n",
       "      <td>Spayed Female</td>\n",
       "      <td>0</td>\n",
       "      <td>2874</td>\n",
       "      <td>2886</td>\n",
       "    </tr>\n",
       "    <tr>\n",
       "      <td>7</td>\n",
       "      <td>A684122</td>\n",
       "      <td>Mitch</td>\n",
       "      <td>2014-07-19 16:45:00</td>\n",
       "      <td>7107 Brodie Ln in Austin (TX)</td>\n",
       "      <td>Stray</td>\n",
       "      <td>Normal</td>\n",
       "      <td>Dog</td>\n",
       "      <td>Neutered Male</td>\n",
       "      <td>Standard Schnauzer Mix</td>\n",
       "      <td>Gray</td>\n",
       "      <td>2014-07-20 13:38:00</td>\n",
       "      <td>2002-07-19</td>\n",
       "      <td>Neutered Male</td>\n",
       "      <td>0</td>\n",
       "      <td>4383</td>\n",
       "      <td>4384</td>\n",
       "    </tr>\n",
       "    <tr>\n",
       "      <td>8</td>\n",
       "      <td>A749100</td>\n",
       "      <td>*Ajax</td>\n",
       "      <td>2017-05-11 11:26:00</td>\n",
       "      <td>Mcneil And Blackfoot Trail in Austin (TX)</td>\n",
       "      <td>Stray</td>\n",
       "      <td>Normal</td>\n",
       "      <td>Dog</td>\n",
       "      <td>Intact Male</td>\n",
       "      <td>Boxer Mix</td>\n",
       "      <td>Brown Brindle/White</td>\n",
       "      <td>2017-05-19 16:00:00</td>\n",
       "      <td>2015-05-11</td>\n",
       "      <td>Neutered Male</td>\n",
       "      <td>0</td>\n",
       "      <td>731</td>\n",
       "      <td>739</td>\n",
       "    </tr>\n",
       "    <tr>\n",
       "      <td>9</td>\n",
       "      <td>A658088</td>\n",
       "      <td>Zoe</td>\n",
       "      <td>2016-05-19 18:17:00</td>\n",
       "      <td>Austin (TX)</td>\n",
       "      <td>Public Assist</td>\n",
       "      <td>Normal</td>\n",
       "      <td>Dog</td>\n",
       "      <td>Spayed Female</td>\n",
       "      <td>Australian Shepherd Mix</td>\n",
       "      <td>Tricolor</td>\n",
       "      <td>2016-05-25 16:11:00</td>\n",
       "      <td>2012-02-05</td>\n",
       "      <td>Spayed Female</td>\n",
       "      <td>0</td>\n",
       "      <td>1565</td>\n",
       "      <td>1571</td>\n",
       "    </tr>\n",
       "  </tbody>\n",
       "</table>\n",
       "</div>"
      ],
      "text/plain": [
       "  AnimalID Name_Intake     DateTime_Intake  \\\n",
       "0  A687076        Katy 2014-08-30 17:55:00   \n",
       "1  A685139         NaN 2014-08-03 11:23:00   \n",
       "2  A741039      Dexter 2016-12-27 11:18:00   \n",
       "3  A759166      Archie 2017-09-28 11:03:00   \n",
       "4  A696479   Chocolate 2015-02-05 11:51:00   \n",
       "5  A712448     *Bettie 2015-09-23 12:41:00   \n",
       "6  A623526        Kali 2019-11-15 13:25:00   \n",
       "7  A684122       Mitch 2014-07-19 16:45:00   \n",
       "8  A749100       *Ajax 2017-05-11 11:26:00   \n",
       "9  A658088         Zoe 2016-05-19 18:17:00   \n",
       "\n",
       "                               FoundLocation       IntakeType IntakeCondition  \\\n",
       "0       Acorn Oaks And Cooper in Austin (TX)            Stray          Normal   \n",
       "1      Pleasant Valley/Oltorf in Austin (TX)            Stray           Other   \n",
       "2    12Th St And Airport Blvd in Austin (TX)            Stray          Normal   \n",
       "3        Brockman And Pompton in Austin (TX)            Stray          Normal   \n",
       "4            3012 Guerrero Dr in Travis (TX)            Stray          Normal   \n",
       "5                                 Manor (TX)  Owner Surrender          Normal   \n",
       "6                                Travis (TX)  Owner Surrender          Normal   \n",
       "7              7107 Brodie Ln in Austin (TX)            Stray          Normal   \n",
       "8  Mcneil And Blackfoot Trail in Austin (TX)            Stray          Normal   \n",
       "9                                Austin (TX)    Public Assist          Normal   \n",
       "\n",
       "  AnimalType_Intake  SexuponIntake                   Breed_Intake  \\\n",
       "0               Cat  Intact Female         Domestic Shorthair Mix   \n",
       "1               Dog  Intact Female              Cavalier Span Mix   \n",
       "2               Dog    Intact Male           Jack Russell Terrier   \n",
       "3               Cat    Intact Male             Domestic Shorthair   \n",
       "4               Cat    Intact Male       Domestic Medium Hair Mix   \n",
       "5               Dog  Intact Female        Chihuahua Shorthair Mix   \n",
       "6               Dog  Spayed Female  Rottweiler/Labrador Retriever   \n",
       "7               Dog  Neutered Male         Standard Schnauzer Mix   \n",
       "8               Dog    Intact Male                      Boxer Mix   \n",
       "9               Dog  Spayed Female        Australian Shepherd Mix   \n",
       "\n",
       "          Color_Intake    DateTime_Outcome DateofBirth SexuponOutcome  \\\n",
       "0               Torbie 2014-09-05 14:33:00  2014-06-15  Spayed Female   \n",
       "1          White/Black 2014-08-07 18:09:00  2014-05-03  Spayed Female   \n",
       "2          Black/White 2017-01-01 15:27:00  2015-12-27    Intact Male   \n",
       "3                Black 2017-11-04 18:11:00  2017-07-28  Neutered Male   \n",
       "4                Black 2015-02-15 11:39:00  2014-02-05  Neutered Male   \n",
       "5            Tan/White 2015-09-27 19:30:00  2012-09-23  Spayed Female   \n",
       "6            Black/Tan 2019-11-27 11:52:00  2012-01-02  Spayed Female   \n",
       "7                 Gray 2014-07-20 13:38:00  2002-07-19  Neutered Male   \n",
       "8  Brown Brindle/White 2017-05-19 16:00:00  2015-05-11  Neutered Male   \n",
       "9             Tricolor 2016-05-25 16:11:00  2012-02-05  Spayed Female   \n",
       "\n",
       "  binary_outcome  AgeIntake  AgeOutcome  \n",
       "0              0         76          82  \n",
       "1              0         92          96  \n",
       "2              0        366         371  \n",
       "3              0         62          99  \n",
       "4              0        365         375  \n",
       "5              0       1095        1099  \n",
       "6              0       2874        2886  \n",
       "7              0       4383        4384  \n",
       "8              0        731         739  \n",
       "9              0       1565        1571  "
      ]
     },
     "execution_count": 34,
     "metadata": {},
     "output_type": "execute_result"
    }
   ],
   "source": [
    "df.head(10)"
   ]
  },
  {
   "cell_type": "code",
   "execution_count": 35,
   "metadata": {},
   "outputs": [],
   "source": [
    "df.to_csv('animalWelfare_19205514_Updated.csv')"
   ]
  },
  {
   "cell_type": "markdown",
   "metadata": {},
   "source": [
    "## PART 2"
   ]
  },
  {
   "cell_type": "markdown",
   "metadata": {},
   "source": [
    "in this section I create descriptive stats tables for continuous and categorical features. I add in columns for percentahe missing. I dont add cardinality as thats same as unique\n",
    "\n",
    "plots\n",
    "\n",
    "discussion of findings"
   ]
  },
  {
   "cell_type": "code",
   "execution_count": 36,
   "metadata": {},
   "outputs": [],
   "source": [
    "# Reading from a csv file, into a data frame\n",
    "df = pd.read_csv('animalWelfare_19205514_Updated.csv')"
   ]
  },
  {
   "cell_type": "code",
   "execution_count": 37,
   "metadata": {},
   "outputs": [
    {
     "data": {
      "text/plain": [
       "Unnamed: 0            int64\n",
       "AnimalID             object\n",
       "Name_Intake          object\n",
       "DateTime_Intake      object\n",
       "FoundLocation        object\n",
       "IntakeType           object\n",
       "IntakeCondition      object\n",
       "AnimalType_Intake    object\n",
       "SexuponIntake        object\n",
       "Breed_Intake         object\n",
       "Color_Intake         object\n",
       "DateTime_Outcome     object\n",
       "DateofBirth          object\n",
       "SexuponOutcome       object\n",
       "binary_outcome        int64\n",
       "AgeIntake             int64\n",
       "AgeOutcome            int64\n",
       "dtype: object"
      ]
     },
     "execution_count": 37,
     "metadata": {},
     "output_type": "execute_result"
    }
   ],
   "source": [
    "df.dtypes"
   ]
  },
  {
   "cell_type": "markdown",
   "metadata": {},
   "source": [
    "The datatypes have reverted back to their originals so in the cells below I re-run the code to convert them to the appropriate types. "
   ]
  },
  {
   "cell_type": "code",
   "execution_count": 38,
   "metadata": {},
   "outputs": [],
   "source": [
    "datetime_columns = ['DateTime_Intake', 'DateTime_Outcome', 'DateofBirth']"
   ]
  },
  {
   "cell_type": "code",
   "execution_count": 39,
   "metadata": {},
   "outputs": [],
   "source": [
    "for column in datetime_columns: \n",
    "    df[column] = df[column].astype('datetime64')"
   ]
  },
  {
   "cell_type": "code",
   "execution_count": 40,
   "metadata": {},
   "outputs": [
    {
     "data": {
      "text/plain": [
       "Unnamed: 0                    int64\n",
       "AnimalID                     object\n",
       "Name_Intake                category\n",
       "DateTime_Intake      datetime64[ns]\n",
       "FoundLocation              category\n",
       "IntakeType                 category\n",
       "IntakeCondition            category\n",
       "AnimalType_Intake          category\n",
       "SexuponIntake              category\n",
       "Breed_Intake               category\n",
       "Color_Intake               category\n",
       "DateTime_Outcome     datetime64[ns]\n",
       "DateofBirth          datetime64[ns]\n",
       "SexuponOutcome             category\n",
       "binary_outcome             category\n",
       "AgeIntake                     int64\n",
       "AgeOutcome                    int64\n",
       "dtype: object"
      ]
     },
     "execution_count": 40,
     "metadata": {},
     "output_type": "execute_result"
    }
   ],
   "source": [
    "#Convert object columns to type 'category'\n",
    "\n",
    "object_columns = df.select_dtypes(['object']).columns\n",
    "for column in object_columns:\n",
    "    df[column] = df[column].astype('category')\n",
    "\n",
    "#convert binary outcome to category type\n",
    "df['binary_outcome'] = df['binary_outcome'].astype('category')\n",
    "\n",
    "#convert animal ID to an object type\n",
    "df['AnimalID'] = df['AnimalID'].astype('object')\n",
    "\n",
    "#check types have indeed changed\n",
    "df.dtypes"
   ]
  },
  {
   "cell_type": "code",
   "execution_count": 41,
   "metadata": {},
   "outputs": [],
   "source": [
    "#delete the column 'Unnamed: 0' which has appeared in new csv file\n",
    "df = df.drop(['Unnamed: 0'], axis=1)"
   ]
  },
  {
   "cell_type": "markdown",
   "metadata": {},
   "source": [
    "### Below is a table of descriptive stats for the continuous features. "
   ]
  },
  {
   "cell_type": "code",
   "execution_count": 42,
   "metadata": {},
   "outputs": [
    {
     "data": {
      "text/html": [
       "<div>\n",
       "<style scoped>\n",
       "    .dataframe tbody tr th:only-of-type {\n",
       "        vertical-align: middle;\n",
       "    }\n",
       "\n",
       "    .dataframe tbody tr th {\n",
       "        vertical-align: top;\n",
       "    }\n",
       "\n",
       "    .dataframe thead th {\n",
       "        text-align: right;\n",
       "    }\n",
       "</style>\n",
       "<table border=\"1\" class=\"dataframe\">\n",
       "  <thead>\n",
       "    <tr style=\"text-align: right;\">\n",
       "      <th></th>\n",
       "      <th>count</th>\n",
       "      <th>mean</th>\n",
       "      <th>std</th>\n",
       "      <th>min</th>\n",
       "      <th>25%</th>\n",
       "      <th>50%</th>\n",
       "      <th>75%</th>\n",
       "      <th>max</th>\n",
       "    </tr>\n",
       "  </thead>\n",
       "  <tbody>\n",
       "    <tr>\n",
       "      <td>AgeIntake</td>\n",
       "      <td>1000.0</td>\n",
       "      <td>760.888</td>\n",
       "      <td>1116.548005</td>\n",
       "      <td>0.0</td>\n",
       "      <td>68.00</td>\n",
       "      <td>365.0</td>\n",
       "      <td>765.25</td>\n",
       "      <td>7305.0</td>\n",
       "    </tr>\n",
       "    <tr>\n",
       "      <td>AgeOutcome</td>\n",
       "      <td>1000.0</td>\n",
       "      <td>780.879</td>\n",
       "      <td>1124.887214</td>\n",
       "      <td>0.0</td>\n",
       "      <td>86.75</td>\n",
       "      <td>367.0</td>\n",
       "      <td>808.25</td>\n",
       "      <td>7306.0</td>\n",
       "    </tr>\n",
       "  </tbody>\n",
       "</table>\n",
       "</div>"
      ],
      "text/plain": [
       "             count     mean          std  min    25%    50%     75%     max\n",
       "AgeIntake   1000.0  760.888  1116.548005  0.0  68.00  365.0  765.25  7305.0\n",
       "AgeOutcome  1000.0  780.879  1124.887214  0.0  86.75  367.0  808.25  7306.0"
      ]
     },
     "execution_count": 42,
     "metadata": {},
     "output_type": "execute_result"
    }
   ],
   "source": [
    "# create table of summary stats table for continuous features\n",
    "# in my dataset, the continious features are AgeIntake and AgeOutcome\n",
    "num_columns = ['AgeIntake', 'AgeOutcome']\n",
    "df[num_columns].describe().T\n"
   ]
  },
  {
   "cell_type": "markdown",
   "metadata": {},
   "source": [
    "In the cells below I create columns for the % missing values and for the for each of the continuous features. I create new dataframes for both the % missing and the cardinality columns and then concatentate these dataframes to a dataframe containing the continuous features. % missing is important to include in order to see if we are missing much information. Cardinality tells us the number of ditstinct values present for a feature. It is important to check whether a feature has irregular caridnality, as this would be issue to address in the data quality plan. "
   ]
  },
  {
   "cell_type": "code",
   "execution_count": 43,
   "metadata": {},
   "outputs": [
    {
     "data": {
      "text/html": [
       "<div>\n",
       "<style scoped>\n",
       "    .dataframe tbody tr th:only-of-type {\n",
       "        vertical-align: middle;\n",
       "    }\n",
       "\n",
       "    .dataframe tbody tr th {\n",
       "        vertical-align: top;\n",
       "    }\n",
       "\n",
       "    .dataframe thead th {\n",
       "        text-align: right;\n",
       "    }\n",
       "</style>\n",
       "<table border=\"1\" class=\"dataframe\">\n",
       "  <thead>\n",
       "    <tr style=\"text-align: right;\">\n",
       "      <th></th>\n",
       "      <th>%missing</th>\n",
       "    </tr>\n",
       "  </thead>\n",
       "  <tbody>\n",
       "    <tr>\n",
       "      <td>AgeIntake</td>\n",
       "      <td>0.0</td>\n",
       "    </tr>\n",
       "    <tr>\n",
       "      <td>AgeOutcome</td>\n",
       "      <td>0.0</td>\n",
       "    </tr>\n",
       "  </tbody>\n",
       "</table>\n",
       "</div>"
      ],
      "text/plain": [
       "            %missing\n",
       "AgeIntake        0.0\n",
       "AgeOutcome       0.0"
      ]
     },
     "execution_count": 43,
     "metadata": {},
     "output_type": "execute_result"
    }
   ],
   "source": [
    "# df.isnull().sum() gives the number of null rows within a feature.\n",
    "# df.shape[0] specifies that we are concerned with rows\n",
    "\n",
    "# Prepare %missing column\n",
    "num_columns_missing  = 100 * (df[num_columns].isnull().sum()/df.shape[0])\n",
    "# store the % missing values in a dataframe\n",
    "df_num_missing = pd.DataFrame(num_columns_missing, columns=['%missing'])\n",
    "df_num_missing"
   ]
  },
  {
   "cell_type": "code",
   "execution_count": 44,
   "metadata": {},
   "outputs": [
    {
     "data": {
      "text/html": [
       "<div>\n",
       "<style scoped>\n",
       "    .dataframe tbody tr th:only-of-type {\n",
       "        vertical-align: middle;\n",
       "    }\n",
       "\n",
       "    .dataframe tbody tr th {\n",
       "        vertical-align: top;\n",
       "    }\n",
       "\n",
       "    .dataframe thead th {\n",
       "        text-align: right;\n",
       "    }\n",
       "</style>\n",
       "<table border=\"1\" class=\"dataframe\">\n",
       "  <thead>\n",
       "    <tr style=\"text-align: right;\">\n",
       "      <th></th>\n",
       "      <th>cardinality</th>\n",
       "    </tr>\n",
       "  </thead>\n",
       "  <tbody>\n",
       "    <tr>\n",
       "      <td>AgeIntake</td>\n",
       "      <td>325</td>\n",
       "    </tr>\n",
       "    <tr>\n",
       "      <td>AgeOutcome</td>\n",
       "      <td>496</td>\n",
       "    </tr>\n",
       "  </tbody>\n",
       "</table>\n",
       "</div>"
      ],
      "text/plain": [
       "            cardinality\n",
       "AgeIntake           325\n",
       "AgeOutcome          496"
      ]
     },
     "execution_count": 44,
     "metadata": {},
     "output_type": "execute_result"
    }
   ],
   "source": [
    "# Add cardinality column\n",
    "# nunique() gives the number of unique values per feature\n",
    "num_columns_card = df[num_columns].nunique()\n",
    "# store the values in a dataframe\n",
    "df_numeric_card = pd.DataFrame(num_columns_card, columns=['cardinality'])\n",
    "df_numeric_card"
   ]
  },
  {
   "cell_type": "code",
   "execution_count": 45,
   "metadata": {},
   "outputs": [
    {
     "data": {
      "text/html": [
       "<div>\n",
       "<style scoped>\n",
       "    .dataframe tbody tr th:only-of-type {\n",
       "        vertical-align: middle;\n",
       "    }\n",
       "\n",
       "    .dataframe tbody tr th {\n",
       "        vertical-align: top;\n",
       "    }\n",
       "\n",
       "    .dataframe thead th {\n",
       "        text-align: right;\n",
       "    }\n",
       "</style>\n",
       "<table border=\"1\" class=\"dataframe\">\n",
       "  <thead>\n",
       "    <tr style=\"text-align: right;\">\n",
       "      <th></th>\n",
       "      <th>count</th>\n",
       "      <th>mean</th>\n",
       "      <th>std</th>\n",
       "      <th>min</th>\n",
       "      <th>25%</th>\n",
       "      <th>50%</th>\n",
       "      <th>75%</th>\n",
       "      <th>max</th>\n",
       "      <th>%missing</th>\n",
       "      <th>cardinality</th>\n",
       "    </tr>\n",
       "  </thead>\n",
       "  <tbody>\n",
       "    <tr>\n",
       "      <td>AgeIntake</td>\n",
       "      <td>1000.0</td>\n",
       "      <td>760.888</td>\n",
       "      <td>1116.548005</td>\n",
       "      <td>0.0</td>\n",
       "      <td>68.00</td>\n",
       "      <td>365.0</td>\n",
       "      <td>765.25</td>\n",
       "      <td>7305.0</td>\n",
       "      <td>0.0</td>\n",
       "      <td>325</td>\n",
       "    </tr>\n",
       "    <tr>\n",
       "      <td>AgeOutcome</td>\n",
       "      <td>1000.0</td>\n",
       "      <td>780.879</td>\n",
       "      <td>1124.887214</td>\n",
       "      <td>0.0</td>\n",
       "      <td>86.75</td>\n",
       "      <td>367.0</td>\n",
       "      <td>808.25</td>\n",
       "      <td>7306.0</td>\n",
       "      <td>0.0</td>\n",
       "      <td>496</td>\n",
       "    </tr>\n",
       "  </tbody>\n",
       "</table>\n",
       "</div>"
      ],
      "text/plain": [
       "             count     mean          std  min    25%    50%     75%     max  \\\n",
       "AgeIntake   1000.0  760.888  1116.548005  0.0  68.00  365.0  765.25  7305.0   \n",
       "AgeOutcome  1000.0  780.879  1124.887214  0.0  86.75  367.0  808.25  7306.0   \n",
       "\n",
       "            %missing  cardinality  \n",
       "AgeIntake        0.0          325  \n",
       "AgeOutcome       0.0          496  "
      ]
     },
     "execution_count": 45,
     "metadata": {},
     "output_type": "execute_result"
    }
   ],
   "source": [
    "# Add missing values column\n",
    "df_table_numeric = df[num_columns].describe().T\n",
    "\n",
    "# Put the columns together to prepare the final table for numeric_columns\n",
    "#axis 1 specifies that we are creating a column\n",
    "\n",
    "df_num_columns_data_quality_report_table = pd.concat([df_table_numeric, df_num_missing, df_numeric_card], axis=1)\n",
    "df_num_columns_data_quality_report_table"
   ]
  },
  {
   "cell_type": "markdown",
   "metadata": {},
   "source": [
    "As you can see, there are no missing values for the continuous features. The cardinality is as to be expected for a continuous feature. "
   ]
  },
  {
   "cell_type": "markdown",
   "metadata": {},
   "source": [
    "### Below is a table of descriptive stats for the categorical features. "
   ]
  },
  {
   "cell_type": "code",
   "execution_count": 46,
   "metadata": {},
   "outputs": [
    {
     "data": {
      "text/html": [
       "<div>\n",
       "<style scoped>\n",
       "    .dataframe tbody tr th:only-of-type {\n",
       "        vertical-align: middle;\n",
       "    }\n",
       "\n",
       "    .dataframe tbody tr th {\n",
       "        vertical-align: top;\n",
       "    }\n",
       "\n",
       "    .dataframe thead th {\n",
       "        text-align: right;\n",
       "    }\n",
       "</style>\n",
       "<table border=\"1\" class=\"dataframe\">\n",
       "  <thead>\n",
       "    <tr style=\"text-align: right;\">\n",
       "      <th></th>\n",
       "      <th>count</th>\n",
       "      <th>unique</th>\n",
       "      <th>top</th>\n",
       "      <th>freq</th>\n",
       "    </tr>\n",
       "  </thead>\n",
       "  <tbody>\n",
       "    <tr>\n",
       "      <td>Name_Intake</td>\n",
       "      <td>694</td>\n",
       "      <td>603</td>\n",
       "      <td>Max</td>\n",
       "      <td>8</td>\n",
       "    </tr>\n",
       "    <tr>\n",
       "      <td>FoundLocation</td>\n",
       "      <td>1000</td>\n",
       "      <td>766</td>\n",
       "      <td>Austin (TX)</td>\n",
       "      <td>188</td>\n",
       "    </tr>\n",
       "    <tr>\n",
       "      <td>IntakeType</td>\n",
       "      <td>1000</td>\n",
       "      <td>5</td>\n",
       "      <td>Stray</td>\n",
       "      <td>708</td>\n",
       "    </tr>\n",
       "    <tr>\n",
       "      <td>IntakeCondition</td>\n",
       "      <td>1000</td>\n",
       "      <td>5</td>\n",
       "      <td>Normal</td>\n",
       "      <td>891</td>\n",
       "    </tr>\n",
       "    <tr>\n",
       "      <td>AnimalType_Intake</td>\n",
       "      <td>1000</td>\n",
       "      <td>4</td>\n",
       "      <td>Dog</td>\n",
       "      <td>563</td>\n",
       "    </tr>\n",
       "    <tr>\n",
       "      <td>SexuponIntake</td>\n",
       "      <td>1000</td>\n",
       "      <td>5</td>\n",
       "      <td>Intact Male</td>\n",
       "      <td>332</td>\n",
       "    </tr>\n",
       "    <tr>\n",
       "      <td>Breed_Intake</td>\n",
       "      <td>1000</td>\n",
       "      <td>211</td>\n",
       "      <td>Domestic Shorthair Mix</td>\n",
       "      <td>259</td>\n",
       "    </tr>\n",
       "    <tr>\n",
       "      <td>Color_Intake</td>\n",
       "      <td>1000</td>\n",
       "      <td>115</td>\n",
       "      <td>Black/White</td>\n",
       "      <td>106</td>\n",
       "    </tr>\n",
       "    <tr>\n",
       "      <td>SexuponOutcome</td>\n",
       "      <td>1000</td>\n",
       "      <td>5</td>\n",
       "      <td>Neutered Male</td>\n",
       "      <td>346</td>\n",
       "    </tr>\n",
       "    <tr>\n",
       "      <td>binary_outcome</td>\n",
       "      <td>1000</td>\n",
       "      <td>2</td>\n",
       "      <td>0</td>\n",
       "      <td>920</td>\n",
       "    </tr>\n",
       "  </tbody>\n",
       "</table>\n",
       "</div>"
      ],
      "text/plain": [
       "                  count unique                     top freq\n",
       "Name_Intake         694    603                     Max    8\n",
       "FoundLocation      1000    766             Austin (TX)  188\n",
       "IntakeType         1000      5                   Stray  708\n",
       "IntakeCondition    1000      5                  Normal  891\n",
       "AnimalType_Intake  1000      4                     Dog  563\n",
       "SexuponIntake      1000      5             Intact Male  332\n",
       "Breed_Intake       1000    211  Domestic Shorthair Mix  259\n",
       "Color_Intake       1000    115             Black/White  106\n",
       "SexuponOutcome     1000      5           Neutered Male  346\n",
       "binary_outcome     1000      2                       0  920"
      ]
     },
     "execution_count": 46,
     "metadata": {},
     "output_type": "execute_result"
    }
   ],
   "source": [
    "#create table for descriptive stats for categorical features\n",
    "\n",
    "category_cols = df.select_dtypes(['category']).columns\n",
    "\n",
    "df[category_cols].describe().T"
   ]
  },
  {
   "cell_type": "markdown",
   "metadata": {},
   "source": [
    "In the cell below I create a column for % missing value as I did for continuous features above. For categorical features I do not need to add a cardinality column as this information is already portrayed in the 'unique' column"
   ]
  },
  {
   "cell_type": "code",
   "execution_count": 47,
   "metadata": {},
   "outputs": [
    {
     "data": {
      "text/html": [
       "<div>\n",
       "<style scoped>\n",
       "    .dataframe tbody tr th:only-of-type {\n",
       "        vertical-align: middle;\n",
       "    }\n",
       "\n",
       "    .dataframe tbody tr th {\n",
       "        vertical-align: top;\n",
       "    }\n",
       "\n",
       "    .dataframe thead th {\n",
       "        text-align: right;\n",
       "    }\n",
       "</style>\n",
       "<table border=\"1\" class=\"dataframe\">\n",
       "  <thead>\n",
       "    <tr style=\"text-align: right;\">\n",
       "      <th></th>\n",
       "      <th>%missing</th>\n",
       "    </tr>\n",
       "  </thead>\n",
       "  <tbody>\n",
       "    <tr>\n",
       "      <td>Name_Intake</td>\n",
       "      <td>30.6</td>\n",
       "    </tr>\n",
       "    <tr>\n",
       "      <td>FoundLocation</td>\n",
       "      <td>0.0</td>\n",
       "    </tr>\n",
       "    <tr>\n",
       "      <td>IntakeType</td>\n",
       "      <td>0.0</td>\n",
       "    </tr>\n",
       "    <tr>\n",
       "      <td>IntakeCondition</td>\n",
       "      <td>0.0</td>\n",
       "    </tr>\n",
       "    <tr>\n",
       "      <td>AnimalType_Intake</td>\n",
       "      <td>0.0</td>\n",
       "    </tr>\n",
       "    <tr>\n",
       "      <td>SexuponIntake</td>\n",
       "      <td>0.0</td>\n",
       "    </tr>\n",
       "    <tr>\n",
       "      <td>Breed_Intake</td>\n",
       "      <td>0.0</td>\n",
       "    </tr>\n",
       "    <tr>\n",
       "      <td>Color_Intake</td>\n",
       "      <td>0.0</td>\n",
       "    </tr>\n",
       "    <tr>\n",
       "      <td>SexuponOutcome</td>\n",
       "      <td>0.0</td>\n",
       "    </tr>\n",
       "    <tr>\n",
       "      <td>binary_outcome</td>\n",
       "      <td>0.0</td>\n",
       "    </tr>\n",
       "  </tbody>\n",
       "</table>\n",
       "</div>"
      ],
      "text/plain": [
       "                   %missing\n",
       "Name_Intake            30.6\n",
       "FoundLocation           0.0\n",
       "IntakeType              0.0\n",
       "IntakeCondition         0.0\n",
       "AnimalType_Intake       0.0\n",
       "SexuponIntake           0.0\n",
       "Breed_Intake            0.0\n",
       "Color_Intake            0.0\n",
       "SexuponOutcome          0.0\n",
       "binary_outcome          0.0"
      ]
     },
     "execution_count": 47,
     "metadata": {},
     "output_type": "execute_result"
    }
   ],
   "source": [
    "#create missing column \n",
    "category_columns_perc_missing  = 100 * (df[category_cols].isnull().sum()/df.shape[0])\n",
    "\n",
    "# Store the values in a new dataframe\n",
    "df_category_perc_missing = pd.DataFrame(category_columns_perc_missing, columns=['%missing'])\n",
    "df_category_perc_missing"
   ]
  },
  {
   "cell_type": "code",
   "execution_count": 48,
   "metadata": {},
   "outputs": [
    {
     "data": {
      "text/html": [
       "<div>\n",
       "<style scoped>\n",
       "    .dataframe tbody tr th:only-of-type {\n",
       "        vertical-align: middle;\n",
       "    }\n",
       "\n",
       "    .dataframe tbody tr th {\n",
       "        vertical-align: top;\n",
       "    }\n",
       "\n",
       "    .dataframe thead th {\n",
       "        text-align: right;\n",
       "    }\n",
       "</style>\n",
       "<table border=\"1\" class=\"dataframe\">\n",
       "  <thead>\n",
       "    <tr style=\"text-align: right;\">\n",
       "      <th></th>\n",
       "      <th>count</th>\n",
       "      <th>unique</th>\n",
       "      <th>top</th>\n",
       "      <th>freq</th>\n",
       "      <th>%missing</th>\n",
       "    </tr>\n",
       "  </thead>\n",
       "  <tbody>\n",
       "    <tr>\n",
       "      <td>Name_Intake</td>\n",
       "      <td>694</td>\n",
       "      <td>603</td>\n",
       "      <td>Max</td>\n",
       "      <td>8</td>\n",
       "      <td>30.6</td>\n",
       "    </tr>\n",
       "    <tr>\n",
       "      <td>FoundLocation</td>\n",
       "      <td>1000</td>\n",
       "      <td>766</td>\n",
       "      <td>Austin (TX)</td>\n",
       "      <td>188</td>\n",
       "      <td>0.0</td>\n",
       "    </tr>\n",
       "    <tr>\n",
       "      <td>IntakeType</td>\n",
       "      <td>1000</td>\n",
       "      <td>5</td>\n",
       "      <td>Stray</td>\n",
       "      <td>708</td>\n",
       "      <td>0.0</td>\n",
       "    </tr>\n",
       "    <tr>\n",
       "      <td>IntakeCondition</td>\n",
       "      <td>1000</td>\n",
       "      <td>5</td>\n",
       "      <td>Normal</td>\n",
       "      <td>891</td>\n",
       "      <td>0.0</td>\n",
       "    </tr>\n",
       "    <tr>\n",
       "      <td>AnimalType_Intake</td>\n",
       "      <td>1000</td>\n",
       "      <td>4</td>\n",
       "      <td>Dog</td>\n",
       "      <td>563</td>\n",
       "      <td>0.0</td>\n",
       "    </tr>\n",
       "    <tr>\n",
       "      <td>SexuponIntake</td>\n",
       "      <td>1000</td>\n",
       "      <td>5</td>\n",
       "      <td>Intact Male</td>\n",
       "      <td>332</td>\n",
       "      <td>0.0</td>\n",
       "    </tr>\n",
       "    <tr>\n",
       "      <td>Breed_Intake</td>\n",
       "      <td>1000</td>\n",
       "      <td>211</td>\n",
       "      <td>Domestic Shorthair Mix</td>\n",
       "      <td>259</td>\n",
       "      <td>0.0</td>\n",
       "    </tr>\n",
       "    <tr>\n",
       "      <td>Color_Intake</td>\n",
       "      <td>1000</td>\n",
       "      <td>115</td>\n",
       "      <td>Black/White</td>\n",
       "      <td>106</td>\n",
       "      <td>0.0</td>\n",
       "    </tr>\n",
       "    <tr>\n",
       "      <td>SexuponOutcome</td>\n",
       "      <td>1000</td>\n",
       "      <td>5</td>\n",
       "      <td>Neutered Male</td>\n",
       "      <td>346</td>\n",
       "      <td>0.0</td>\n",
       "    </tr>\n",
       "    <tr>\n",
       "      <td>binary_outcome</td>\n",
       "      <td>1000</td>\n",
       "      <td>2</td>\n",
       "      <td>0</td>\n",
       "      <td>920</td>\n",
       "      <td>0.0</td>\n",
       "    </tr>\n",
       "  </tbody>\n",
       "</table>\n",
       "</div>"
      ],
      "text/plain": [
       "                  count unique                     top freq  %missing\n",
       "Name_Intake         694    603                     Max    8      30.6\n",
       "FoundLocation      1000    766             Austin (TX)  188       0.0\n",
       "IntakeType         1000      5                   Stray  708       0.0\n",
       "IntakeCondition    1000      5                  Normal  891       0.0\n",
       "AnimalType_Intake  1000      4                     Dog  563       0.0\n",
       "SexuponIntake      1000      5             Intact Male  332       0.0\n",
       "Breed_Intake       1000    211  Domestic Shorthair Mix  259       0.0\n",
       "Color_Intake       1000    115             Black/White  106       0.0\n",
       "SexuponOutcome     1000      5           Neutered Male  346       0.0\n",
       "binary_outcome     1000      2                       0  920       0.0"
      ]
     },
     "execution_count": 48,
     "metadata": {},
     "output_type": "execute_result"
    }
   ],
   "source": [
    "# create cateogpry dataframe\n",
    "df_table_categ = df[category_cols].describe().T\n",
    "\n",
    "# Put the columns together to prepare the final table for numeric_columns\n",
    "df_category_columns_data_quality_report_table = pd.concat([df_table_categ, df_category_perc_missing], axis=1)\n",
    "\n",
    "df_category_columns_data_quality_report_table"
   ]
  },
  {
   "cell_type": "code",
   "execution_count": 49,
   "metadata": {},
   "outputs": [
    {
     "data": {
      "text/html": [
       "<div>\n",
       "<style scoped>\n",
       "    .dataframe tbody tr th:only-of-type {\n",
       "        vertical-align: middle;\n",
       "    }\n",
       "\n",
       "    .dataframe tbody tr th {\n",
       "        vertical-align: top;\n",
       "    }\n",
       "\n",
       "    .dataframe thead th {\n",
       "        text-align: right;\n",
       "    }\n",
       "</style>\n",
       "<table border=\"1\" class=\"dataframe\">\n",
       "  <thead>\n",
       "    <tr style=\"text-align: right;\">\n",
       "      <th></th>\n",
       "      <th>count</th>\n",
       "      <th>unique</th>\n",
       "      <th>top</th>\n",
       "      <th>freq</th>\n",
       "      <th>first</th>\n",
       "      <th>last</th>\n",
       "    </tr>\n",
       "  </thead>\n",
       "  <tbody>\n",
       "    <tr>\n",
       "      <td>DateTime_Intake</td>\n",
       "      <td>1000</td>\n",
       "      <td>996</td>\n",
       "      <td>2018-05-20 15:04:00</td>\n",
       "      <td>2</td>\n",
       "      <td>2013-10-01 16:10:00</td>\n",
       "      <td>2020-01-26 12:05:00</td>\n",
       "    </tr>\n",
       "    <tr>\n",
       "      <td>DateTime_Outcome</td>\n",
       "      <td>1000</td>\n",
       "      <td>998</td>\n",
       "      <td>2018-05-20 18:32:00</td>\n",
       "      <td>2</td>\n",
       "      <td>2013-10-05 12:34:00</td>\n",
       "      <td>2020-02-03 17:45:00</td>\n",
       "    </tr>\n",
       "    <tr>\n",
       "      <td>DateofBirth</td>\n",
       "      <td>1000</td>\n",
       "      <td>872</td>\n",
       "      <td>2017-05-21 00:00:00</td>\n",
       "      <td>4</td>\n",
       "      <td>1997-06-11 00:00:00</td>\n",
       "      <td>2019-12-16 00:00:00</td>\n",
       "    </tr>\n",
       "  </tbody>\n",
       "</table>\n",
       "</div>"
      ],
      "text/plain": [
       "                 count unique                 top freq               first  \\\n",
       "DateTime_Intake   1000    996 2018-05-20 15:04:00    2 2013-10-01 16:10:00   \n",
       "DateTime_Outcome  1000    998 2018-05-20 18:32:00    2 2013-10-05 12:34:00   \n",
       "DateofBirth       1000    872 2017-05-21 00:00:00    4 1997-06-11 00:00:00   \n",
       "\n",
       "                                last  \n",
       "DateTime_Intake  2020-01-26 12:05:00  \n",
       "DateTime_Outcome 2020-02-03 17:45:00  \n",
       "DateofBirth      2019-12-16 00:00:00  "
      ]
     },
     "execution_count": 49,
     "metadata": {},
     "output_type": "execute_result"
    }
   ],
   "source": [
    "#create table of descirptive stats for the datetime objects to see if there\n",
    "# is any useful information \n",
    "df[datetime_columns].describe().T"
   ]
  },
  {
   "cell_type": "markdown",
   "metadata": {},
   "source": [
    "## histograms for continuous features"
   ]
  },
  {
   "cell_type": "code",
   "execution_count": 50,
   "metadata": {},
   "outputs": [
    {
     "data": {
      "text/plain": [
       "<Figure size 432x288 with 0 Axes>"
      ]
     },
     "metadata": {},
     "output_type": "display_data"
    },
    {
     "data": {
      "image/png": "[encoded data removed]",
      "text/plain": [
       "<Figure size 1440x720 with 2 Axes>"
      ]
     },
     "metadata": {
      "needs_background": "light"
     },
     "output_type": "display_data"
    }
   ],
   "source": [
    "#plot histograms for all continuous features\n",
    "\n",
    "#http://pandas.pydata.org/pandas-docs/stable/visualization.html\n",
    "# We can plot the histogram of all numeric features at the same time.\n",
    "plt.figure()\n",
    "df.hist(figsize=(20, 10), xrot = 45) #xrot rotates labels\n",
    "# We can save the plot into a file as shown below.\n",
    "plt.savefig('AnimalWelfare_19205514_continuous_hist.png')"
   ]
  },
  {
   "cell_type": "markdown",
   "metadata": {},
   "source": [
    "## box plots for continuous features"
   ]
  },
  {
   "cell_type": "code",
   "execution_count": 51,
   "metadata": {},
   "outputs": [
    {
     "data": {
      "image/png": "[encoded data removed]",
      "text/plain": [
       "<Figure size 2160x2160 with 16 Axes>"
      ]
     },
     "metadata": {
      "needs_background": "light"
     },
     "output_type": "display_data"
    }
   ],
   "source": [
    "df[num_columns].plot(kind='box', subplots=True, figsize=(30,30), layout=(4,4), sharex=False, sharey=False)\n",
    "plt.savefig('AnimalWelfare_19205514_continuous_boxplots.pdf')"
   ]
  },
  {
   "cell_type": "markdown",
   "metadata": {},
   "source": [
    "## Bar plots for categorical features"
   ]
  },
  {
   "cell_type": "code",
   "execution_count": 52,
   "metadata": {},
   "outputs": [
    {
     "data": {
      "image/png": "[encoded data removed]",
      "text/plain": [
       "<Figure size 360x360 with 1 Axes>"
      ]
     },
     "metadata": {
      "needs_background": "light"
     },
     "output_type": "display_data"
    },
    {
     "data": {
      "image/png": "[encoded data removed]",
      "text/plain": [
       "<Figure size 360x360 with 1 Axes>"
      ]
     },
     "metadata": {
      "needs_background": "light"
     },
     "output_type": "display_data"
    },
    {
     "data": {
      "image/png": "[encoded data removed]",
      "text/plain": [
       "<Figure size 360x360 with 1 Axes>"
      ]
     },
     "metadata": {
      "needs_background": "light"
     },
     "output_type": "display_data"
    },
    {
     "data": {
      "image/png": "[encoded data removed]",
      "text/plain": [
       "<Figure size 360x360 with 1 Axes>"
      ]
     },
     "metadata": {
      "needs_background": "light"
     },
     "output_type": "display_data"
    },
    {
     "data": {
      "image/png": "[encoded data removed]",
      "text/plain": [
       "<Figure size 360x360 with 1 Axes>"
      ]
     },
     "metadata": {
      "needs_background": "light"
     },
     "output_type": "display_data"
    },
    {
     "data": {
      "image/png": "[encoded data removed]",
      "text/plain": [
       "<Figure size 360x360 with 1 Axes>"
      ]
     },
     "metadata": {
      "needs_background": "light"
     },
     "output_type": "display_data"
    },
    {
     "data": {
      "image/png": "[encoded data removed]",
      "text/plain": [
       "<Figure size 360x360 with 1 Axes>"
      ]
     },
     "metadata": {
      "needs_background": "light"
     },
     "output_type": "display_data"
    },
    {
     "data": {
      "image/png": "[encoded data removed]",
      "text/plain": [
       "<Figure size 360x360 with 1 Axes>"
      ]
     },
     "metadata": {
      "needs_background": "light"
     },
     "output_type": "display_data"
    },
    {
     "data": {
      "image/png": "[encoded data removed]",
      "text/plain": [
       "<Figure size 360x360 with 1 Axes>"
      ]
     },
     "metadata": {
      "needs_background": "light"
     },
     "output_type": "display_data"
    },
    {
     "data": {
      "image/png": "[encoded data removed]",
      "text/plain": [
       "<Figure size 360x360 with 1 Axes>"
      ]
     },
     "metadata": {
      "needs_background": "light"
     },
     "output_type": "display_data"
    }
   ],
   "source": [
    "category_columns = df.select_dtypes(['category']).columns\n",
    "# Plot bar charts for all categorical features and save them in a single PDF file\n",
    "pp = PdfPages('AnimalWelfare_19205515_categorical_barcharts.pdf')\n",
    "\n",
    "# We can set the parameters for .value_counts() to not drop the na. This allows us to see missing data in our \n",
    "# categorical features.\n",
    "\n",
    "#dropna = false makes sure not leaving out missing values\n",
    "for column in category_columns:\n",
    "    f = df[column].value_counts(dropna=False).plot(kind='bar', title=column, figsize=(5,5))\n",
    "    pp.savefig(f.get_figure())\n",
    "    plt.show()\n",
    "\n",
    "pp.close()"
   ]
  },
  {
   "cell_type": "markdown",
   "metadata": {},
   "source": [
    "# Q2 - Data Quality Plan"
   ]
  },
  {
   "cell_type": "markdown",
   "metadata": {},
   "source": [
    "The initial list of issues as identified in the **Data_Quality_Report_Initial_Findings.pdf**:\n",
    "\n",
    "NB rename the pdf to what mine is called!\n",
    "\n",
    "- Name_Intake is missing 30.6% of values.\n",
    "- Found_location has an unusually high cardinality.\n",
    "- Age_intake feature has minimum age of zero.\n",
    "- Age_intake feature has many potential outliers.\n",
    "- Age_OutCome feature has minimum age of zero.\n",
    "- Age_OutCome feature has many potential outliers.\n",
    "\n",
    "\n",
    "__In addition to the above problems, below I will perform further investigation into the dates to check for any additional issues.__"
   ]
  },
  {
   "cell_type": "code",
   "execution_count": 53,
   "metadata": {},
   "outputs": [],
   "source": [
    "# read csv file \n"
   ]
  },
  {
   "cell_type": "code",
   "execution_count": 54,
   "metadata": {},
   "outputs": [
    {
     "data": {
      "text/plain": [
       "count    1000.000000\n",
       "mean       19.641000\n",
       "std        86.221867\n",
       "min      -446.000000\n",
       "25%         1.000000\n",
       "50%         5.000000\n",
       "75%        15.000000\n",
       "max      1828.000000\n",
       "dtype: float64"
      ]
     },
     "execution_count": 54,
     "metadata": {},
     "output_type": "execute_result"
    }
   ],
   "source": [
    "# Here I substract the DateTime_Intake from DateTime_Outcome to ensure \n",
    "# there are no erroneous values for the length of time that an animal\n",
    "# stayed in the shelter. \n",
    "\n",
    "length_stay = (df['DateTime_Outcome'] - df['DateTime_Intake']).dt.days\n",
    "length_stay.describe().T"
   ]
  },
  {
   "cell_type": "markdown",
   "metadata": {},
   "source": [
    "We can see that the minimum legnth of stay is a negative value. This will need to be investgated further. "
   ]
  },
  {
   "cell_type": "markdown",
   "metadata": {},
   "source": [
    "### Additional issues found: \n",
    "\n",
    "As we can see, there is an additional issue to add to the orginal list of issues above. \n",
    "\n",
    "- Minimum length of stay is a negative value of -446. "
   ]
  },
  {
   "cell_type": "markdown",
   "metadata": {},
   "source": [
    "## Table summarising solutions to deal with all issues found"
   ]
  },
  {
   "cell_type": "code",
   "execution_count": null,
   "metadata": {},
   "outputs": [],
   "source": [
    "    \n",
    "| Feature                 | Data Quality Issue         | Handling Strategy         |\n",
    "|-------------------------|----------------------      |------------------------   |\n",
    "|AnimalID (object)                          |   Unique identifier not to be used as feature in data preparation|Keep to be able to link example to actual animal, but do not use for data preparation|\n",
    "Name_Intake (category)             |   Missing Values (30.6%)            | A feature is usually dropped if 60% of values are missing. This feature is missing 30.6% but I have decided that it is not an important feature for the binary outcome. This feature will be dropped.|       \n",
    "DateTime_Intake (datetime64[ns])       | Negative value for min length of stay (-446.0) | Investigate cause and decide what to do with this feature; If the number of instances is low these instances may be dropped. Otherwise, it will be deicded the most appropriate level to impute the instances to.|\n",
    "FoundLocation (category)             | High cardinality (766)   | This is a very high cardinality for a categorical feature. Will investigate whether the one level is represented in many different formats, producing a higher cardinality. I will investigate but wil leave as is and investigate further later on whether this is affecting the binary outcome.| \n",
    "IntakeType (category)                 | None | Keep as is|   \n",
    "IntakeCondition (category)                | None | Keep as is|\n",
    "AnimalType_Intake (category)    | None | Keep as is|\n",
    "SexuponIntake (category)                  | None | Keep as is|\n",
    "Breed_Intake (category)                 | None |  Keep as is  |   \n",
    "DateTime_Outcome (datetime64[ns])             |  Negative value for min length of stay (-446.0) | Investigate cause and decide what to do with this feature; If the number of instances is low these instances may be dropped. Otherwise, it will be deicded the most appropriate level to impute the instances to.|\n",
    "DateofBirth (datetime64[ns])             | None | Keep as is |\n",
    "SexuponOutcome (category)         | None | Keep as is|\n",
    "binary_outcome (category)         | None | Keep as is|\n",
    "AgeIntakeInDays (int64) | Minumum zero, Potential outliers |Leave as is; the minimum age of zero is most likely due to animals being born in the shelter. Although many instances are seen as potential outliers in the descriptive stats table and boxplots, these are accurate representations of the age feature.|\n",
    "AgeOutcomeInDays (int64) |Minimum zero, Potential outliers |Leave as is; the minimum age of zero is most likely due to animals being born in the shelter. Although many instances are seen as potential outliers in the descriptive stats table and boxplots, these are accurate representations of the age feature.|"
   ]
  },
  {
   "cell_type": "markdown",
   "metadata": {},
   "source": [
    "__1. Name_Intake is missing 30.6% of values.__\n",
    "\n",
    "Normally a feature would be dropped if it is missing 60% of values or more. However, as name of animal is not an important feature in determining the binary outcome, this feature will be dropped."
   ]
  },
  {
   "cell_type": "code",
   "execution_count": 55,
   "metadata": {},
   "outputs": [],
   "source": [
    "# drop Name_Intake feature\n",
    "df = df.drop(['Name_Intake'], axis=1)"
   ]
  },
  {
   "cell_type": "markdown",
   "metadata": {},
   "source": [
    "__2. Found_location has an unusually high cardinality of 766.__\n",
    "\n",
    "This is a very high cardinality for a categorical feature. For now I will leave as is as I think that the found location might be an important piece of information regariding the binary outcome. However, I will now investigate in order to try and better understand why there is such a high cardinality. \n"
   ]
  },
  {
   "cell_type": "code",
   "execution_count": 56,
   "metadata": {},
   "outputs": [
    {
     "data": {
      "text/plain": [
       "count            1000\n",
       "unique            766\n",
       "top       Austin (TX)\n",
       "freq              188\n",
       "Name: FoundLocation, dtype: object"
      ]
     },
     "execution_count": 56,
     "metadata": {},
     "output_type": "execute_result"
    }
   ],
   "source": [
    "# look at the descriptive statistics for this feature/\n",
    "df['FoundLocation'].describe().T"
   ]
  },
  {
   "cell_type": "code",
   "execution_count": 57,
   "metadata": {},
   "outputs": [
    {
     "data": {
      "text/plain": [
       "count            1000\n",
       "unique            766\n",
       "top       austin (tx)\n",
       "freq              188\n",
       "Name: FoundLocation, dtype: object"
      ]
     },
     "execution_count": 57,
     "metadata": {},
     "output_type": "execute_result"
    }
   ],
   "source": [
    "# it is possible that the found location has an unusually high cardinality\n",
    "#due to the same location being entered in a different format\n",
    "# To investigate this I will convert all instances to lower case\n",
    "# This will tell me whether differences in the use of capitals are creating\n",
    "# an unually high cardinality\n",
    "\n",
    "df['FoundLocation'].str.lower().describe().T"
   ]
  },
  {
   "cell_type": "markdown",
   "metadata": {},
   "source": [
    "We can see that the cardinality has not changed after converting all instances to lower case. This shows that differences in capital letters are not causing the high figure. This does not rule out the possibility that the found locations are being spelled differently. However, given the large number of unique values to investigate, this feature will be left as is. "
   ]
  },
  {
   "cell_type": "markdown",
   "metadata": {},
   "source": [
    "__3.Age_intake feature has minimum age of zero.__\n",
    "\n",
    "The AgeIntake has a minimum value of zero. This value does not go as far as the 25% which has a value of 68. I assume that the zero age is due to animals being born in the shelter. I will investigate these values further now. "
   ]
  },
  {
   "cell_type": "code",
   "execution_count": 64,
   "metadata": {},
   "outputs": [
    {
     "data": {
      "text/html": [
       "<div>\n",
       "<style scoped>\n",
       "    .dataframe tbody tr th:only-of-type {\n",
       "        vertical-align: middle;\n",
       "    }\n",
       "\n",
       "    .dataframe tbody tr th {\n",
       "        vertical-align: top;\n",
       "    }\n",
       "\n",
       "    .dataframe thead th {\n",
       "        text-align: right;\n",
       "    }\n",
       "</style>\n",
       "<table border=\"1\" class=\"dataframe\">\n",
       "  <thead>\n",
       "    <tr style=\"text-align: right;\">\n",
       "      <th></th>\n",
       "      <th>AnimalID</th>\n",
       "      <th>DateTime_Intake</th>\n",
       "      <th>FoundLocation</th>\n",
       "      <th>IntakeType</th>\n",
       "      <th>IntakeCondition</th>\n",
       "      <th>AnimalType_Intake</th>\n",
       "      <th>SexuponIntake</th>\n",
       "      <th>Breed_Intake</th>\n",
       "      <th>Color_Intake</th>\n",
       "      <th>DateTime_Outcome</th>\n",
       "      <th>DateofBirth</th>\n",
       "      <th>SexuponOutcome</th>\n",
       "      <th>binary_outcome</th>\n",
       "      <th>AgeIntake</th>\n",
       "      <th>AgeOutcome</th>\n",
       "    </tr>\n",
       "  </thead>\n",
       "  <tbody>\n",
       "    <tr>\n",
       "      <td>180</td>\n",
       "      <td>A789433</td>\n",
       "      <td>2019-02-21 14:46:00</td>\n",
       "      <td>Marigold in Austin (TX)</td>\n",
       "      <td>Stray</td>\n",
       "      <td>Nursing</td>\n",
       "      <td>Cat</td>\n",
       "      <td>Unknown</td>\n",
       "      <td>Domestic Shorthair Mix</td>\n",
       "      <td>Black/White</td>\n",
       "      <td>2019-02-22 08:12:00</td>\n",
       "      <td>2019-02-21</td>\n",
       "      <td>Unknown</td>\n",
       "      <td>0</td>\n",
       "      <td>0</td>\n",
       "      <td>1</td>\n",
       "    </tr>\n",
       "    <tr>\n",
       "      <td>497</td>\n",
       "      <td>A740100</td>\n",
       "      <td>2016-12-11 11:37:00</td>\n",
       "      <td>Travis (TX)</td>\n",
       "      <td>Stray</td>\n",
       "      <td>Nursing</td>\n",
       "      <td>Dog</td>\n",
       "      <td>Intact Female</td>\n",
       "      <td>Chihuahua Shorthair Mix</td>\n",
       "      <td>Sable</td>\n",
       "      <td>2016-12-12 00:00:00</td>\n",
       "      <td>2016-12-11</td>\n",
       "      <td>Intact Female</td>\n",
       "      <td>0</td>\n",
       "      <td>0</td>\n",
       "      <td>1</td>\n",
       "    </tr>\n",
       "    <tr>\n",
       "      <td>668</td>\n",
       "      <td>A755172</td>\n",
       "      <td>2017-07-30 11:50:00</td>\n",
       "      <td>Austin (TX)</td>\n",
       "      <td>Owner Surrender</td>\n",
       "      <td>Normal</td>\n",
       "      <td>Dog</td>\n",
       "      <td>Intact Male</td>\n",
       "      <td>Chihuahua Shorthair Mix</td>\n",
       "      <td>White/Black</td>\n",
       "      <td>2017-07-30 16:51:00</td>\n",
       "      <td>2017-07-30</td>\n",
       "      <td>Intact Male</td>\n",
       "      <td>0</td>\n",
       "      <td>0</td>\n",
       "      <td>0</td>\n",
       "    </tr>\n",
       "    <tr>\n",
       "      <td>811</td>\n",
       "      <td>A752185</td>\n",
       "      <td>2017-06-19 14:04:00</td>\n",
       "      <td>13811 Lampting Dr in Travis (TX)</td>\n",
       "      <td>Stray</td>\n",
       "      <td>Normal</td>\n",
       "      <td>Cat</td>\n",
       "      <td>Intact Female</td>\n",
       "      <td>Domestic Shorthair Mix</td>\n",
       "      <td>Tortie</td>\n",
       "      <td>2017-08-12 15:00:00</td>\n",
       "      <td>2017-06-19</td>\n",
       "      <td>Spayed Female</td>\n",
       "      <td>0</td>\n",
       "      <td>0</td>\n",
       "      <td>54</td>\n",
       "    </tr>\n",
       "    <tr>\n",
       "      <td>842</td>\n",
       "      <td>A726492</td>\n",
       "      <td>2016-05-11 12:50:00</td>\n",
       "      <td>7101 Ed Bluestein Blvd in Austin (TX)</td>\n",
       "      <td>Stray</td>\n",
       "      <td>Normal</td>\n",
       "      <td>Dog</td>\n",
       "      <td>Intact Male</td>\n",
       "      <td>Catahoula Mix</td>\n",
       "      <td>Brown Brindle</td>\n",
       "      <td>2016-07-06 18:26:00</td>\n",
       "      <td>2016-05-11</td>\n",
       "      <td>Neutered Male</td>\n",
       "      <td>0</td>\n",
       "      <td>0</td>\n",
       "      <td>56</td>\n",
       "    </tr>\n",
       "  </tbody>\n",
       "</table>\n",
       "</div>"
      ],
      "text/plain": [
       "    AnimalID     DateTime_Intake                          FoundLocation  \\\n",
       "180  A789433 2019-02-21 14:46:00                Marigold in Austin (TX)   \n",
       "497  A740100 2016-12-11 11:37:00                            Travis (TX)   \n",
       "668  A755172 2017-07-30 11:50:00                            Austin (TX)   \n",
       "811  A752185 2017-06-19 14:04:00       13811 Lampting Dr in Travis (TX)   \n",
       "842  A726492 2016-05-11 12:50:00  7101 Ed Bluestein Blvd in Austin (TX)   \n",
       "\n",
       "          IntakeType IntakeCondition AnimalType_Intake  SexuponIntake  \\\n",
       "180            Stray         Nursing               Cat        Unknown   \n",
       "497            Stray         Nursing               Dog  Intact Female   \n",
       "668  Owner Surrender          Normal               Dog    Intact Male   \n",
       "811            Stray          Normal               Cat  Intact Female   \n",
       "842            Stray          Normal               Dog    Intact Male   \n",
       "\n",
       "                Breed_Intake   Color_Intake    DateTime_Outcome DateofBirth  \\\n",
       "180   Domestic Shorthair Mix    Black/White 2019-02-22 08:12:00  2019-02-21   \n",
       "497  Chihuahua Shorthair Mix          Sable 2016-12-12 00:00:00  2016-12-11   \n",
       "668  Chihuahua Shorthair Mix    White/Black 2017-07-30 16:51:00  2017-07-30   \n",
       "811   Domestic Shorthair Mix         Tortie 2017-08-12 15:00:00  2017-06-19   \n",
       "842            Catahoula Mix  Brown Brindle 2016-07-06 18:26:00  2016-05-11   \n",
       "\n",
       "    SexuponOutcome binary_outcome  AgeIntake  AgeOutcome  \n",
       "180        Unknown              0          0           1  \n",
       "497  Intact Female              0          0           1  \n",
       "668    Intact Male              0          0           0  \n",
       "811  Spayed Female              0          0          54  \n",
       "842  Neutered Male              0          0          56  "
      ]
     },
     "execution_count": 64,
     "metadata": {},
     "output_type": "execute_result"
    }
   ],
   "source": [
    "#view all instances which have an age of intake equal to zero\n",
    "df.loc[df['AgeIntake'] == 0]"
   ]
  },
  {
   "cell_type": "code",
   "execution_count": 89,
   "metadata": {},
   "outputs": [
    {
     "data": {
      "text/html": [
       "<div>\n",
       "<style scoped>\n",
       "    .dataframe tbody tr th:only-of-type {\n",
       "        vertical-align: middle;\n",
       "    }\n",
       "\n",
       "    .dataframe tbody tr th {\n",
       "        vertical-align: top;\n",
       "    }\n",
       "\n",
       "    .dataframe thead th {\n",
       "        text-align: right;\n",
       "    }\n",
       "</style>\n",
       "<table border=\"1\" class=\"dataframe\">\n",
       "  <thead>\n",
       "    <tr style=\"text-align: right;\">\n",
       "      <th></th>\n",
       "      <th>AgeIntake</th>\n",
       "      <th>SexuponIntake</th>\n",
       "    </tr>\n",
       "  </thead>\n",
       "  <tbody>\n",
       "    <tr>\n",
       "      <td>180</td>\n",
       "      <td>0</td>\n",
       "      <td>Unknown</td>\n",
       "    </tr>\n",
       "    <tr>\n",
       "      <td>497</td>\n",
       "      <td>0</td>\n",
       "      <td>Intact Female</td>\n",
       "    </tr>\n",
       "    <tr>\n",
       "      <td>668</td>\n",
       "      <td>0</td>\n",
       "      <td>Intact Male</td>\n",
       "    </tr>\n",
       "    <tr>\n",
       "      <td>811</td>\n",
       "      <td>0</td>\n",
       "      <td>Intact Female</td>\n",
       "    </tr>\n",
       "    <tr>\n",
       "      <td>842</td>\n",
       "      <td>0</td>\n",
       "      <td>Intact Male</td>\n",
       "    </tr>\n",
       "  </tbody>\n",
       "</table>\n",
       "</div>"
      ],
      "text/plain": [
       "     AgeIntake  SexuponIntake\n",
       "180          0        Unknown\n",
       "497          0  Intact Female\n",
       "668          0    Intact Male\n",
       "811          0  Intact Female\n",
       "842          0    Intact Male"
      ]
     },
     "execution_count": 89,
     "metadata": {},
     "output_type": "execute_result"
    }
   ],
   "source": [
    "# check what the sex is when the age is zero\n",
    "temp_intake_df = df[df['AgeIntake'] == 0]\n",
    "temp_intake_df[['AgeIntake', 'SexuponIntake']]"
   ]
  },
  {
   "cell_type": "code",
   "execution_count": 90,
   "metadata": {},
   "outputs": [
    {
     "data": {
      "text/html": [
       "<div>\n",
       "<style scoped>\n",
       "    .dataframe tbody tr th:only-of-type {\n",
       "        vertical-align: middle;\n",
       "    }\n",
       "\n",
       "    .dataframe tbody tr th {\n",
       "        vertical-align: top;\n",
       "    }\n",
       "\n",
       "    .dataframe thead th {\n",
       "        text-align: right;\n",
       "    }\n",
       "</style>\n",
       "<table border=\"1\" class=\"dataframe\">\n",
       "  <thead>\n",
       "    <tr style=\"text-align: right;\">\n",
       "      <th></th>\n",
       "      <th>AgeIntake</th>\n",
       "      <th>DateTime_Intake</th>\n",
       "      <th>DateofBirth</th>\n",
       "    </tr>\n",
       "  </thead>\n",
       "  <tbody>\n",
       "    <tr>\n",
       "      <td>180</td>\n",
       "      <td>0</td>\n",
       "      <td>2019-02-21 14:46:00</td>\n",
       "      <td>2019-02-21</td>\n",
       "    </tr>\n",
       "    <tr>\n",
       "      <td>497</td>\n",
       "      <td>0</td>\n",
       "      <td>2016-12-11 11:37:00</td>\n",
       "      <td>2016-12-11</td>\n",
       "    </tr>\n",
       "    <tr>\n",
       "      <td>668</td>\n",
       "      <td>0</td>\n",
       "      <td>2017-07-30 11:50:00</td>\n",
       "      <td>2017-07-30</td>\n",
       "    </tr>\n",
       "    <tr>\n",
       "      <td>811</td>\n",
       "      <td>0</td>\n",
       "      <td>2017-06-19 14:04:00</td>\n",
       "      <td>2017-06-19</td>\n",
       "    </tr>\n",
       "    <tr>\n",
       "      <td>842</td>\n",
       "      <td>0</td>\n",
       "      <td>2016-05-11 12:50:00</td>\n",
       "      <td>2016-05-11</td>\n",
       "    </tr>\n",
       "  </tbody>\n",
       "</table>\n",
       "</div>"
      ],
      "text/plain": [
       "     AgeIntake     DateTime_Intake DateofBirth\n",
       "180          0 2019-02-21 14:46:00  2019-02-21\n",
       "497          0 2016-12-11 11:37:00  2016-12-11\n",
       "668          0 2017-07-30 11:50:00  2017-07-30\n",
       "811          0 2017-06-19 14:04:00  2017-06-19\n",
       "842          0 2016-05-11 12:50:00  2016-05-11"
      ]
     },
     "execution_count": 90,
     "metadata": {},
     "output_type": "execute_result"
    }
   ],
   "source": [
    "#check what the date of birth and date of intake are when age is zero\n",
    "temp_df[['AgeIntake', 'DateTime_Intake', 'DateofBirth']]"
   ]
  },
  {
   "cell_type": "markdown",
   "metadata": {},
   "source": [
    "We can see in the table above that for all animals which have an age of intake of zero, the date of intake is the same as the date of birth. From this I take that these animals were born in the shelter. Furthermore, all of these instances are either an unknown sex or intact. As a newborn could not yet be splayed or neutered, this strengthens the case that they were born on this day. These instances will be left as is. "
   ]
  },
  {
   "cell_type": "markdown",
   "metadata": {},
   "source": [
    "__4.Age_intake feature has many potential outliers.__\n",
    "\n",
    "As seen in the box plots, this feature has many potential outliers which are greater than the max cut off point. I have decided to leave these values as they are as I think they are an accurate representation of the age range in the animal shelter."
   ]
  },
  {
   "cell_type": "code",
   "execution_count": 117,
   "metadata": {},
   "outputs": [
    {
     "data": {
      "text/html": [
       "<div>\n",
       "<style scoped>\n",
       "    .dataframe tbody tr th:only-of-type {\n",
       "        vertical-align: middle;\n",
       "    }\n",
       "\n",
       "    .dataframe tbody tr th {\n",
       "        vertical-align: top;\n",
       "    }\n",
       "\n",
       "    .dataframe thead th {\n",
       "        text-align: right;\n",
       "    }\n",
       "</style>\n",
       "<table border=\"1\" class=\"dataframe\">\n",
       "  <thead>\n",
       "    <tr style=\"text-align: right;\">\n",
       "      <th></th>\n",
       "      <th>AgeIntake</th>\n",
       "      <th>AnimalType_Intake</th>\n",
       "      <th>IntakeCondition</th>\n",
       "      <th>SexuponIntake</th>\n",
       "      <th>binary_outcome</th>\n",
       "    </tr>\n",
       "  </thead>\n",
       "  <tbody>\n",
       "    <tr>\n",
       "      <td>238</td>\n",
       "      <td>7305</td>\n",
       "      <td>Cat</td>\n",
       "      <td>Injured</td>\n",
       "      <td>Unknown</td>\n",
       "      <td>1</td>\n",
       "    </tr>\n",
       "    <tr>\n",
       "      <td>102</td>\n",
       "      <td>6939</td>\n",
       "      <td>Dog</td>\n",
       "      <td>Normal</td>\n",
       "      <td>Intact Male</td>\n",
       "      <td>0</td>\n",
       "    </tr>\n",
       "    <tr>\n",
       "      <td>783</td>\n",
       "      <td>6573</td>\n",
       "      <td>Dog</td>\n",
       "      <td>Normal</td>\n",
       "      <td>Spayed Female</td>\n",
       "      <td>0</td>\n",
       "    </tr>\n",
       "    <tr>\n",
       "      <td>442</td>\n",
       "      <td>6443</td>\n",
       "      <td>Dog</td>\n",
       "      <td>Normal</td>\n",
       "      <td>Spayed Female</td>\n",
       "      <td>0</td>\n",
       "    </tr>\n",
       "    <tr>\n",
       "      <td>255</td>\n",
       "      <td>6209</td>\n",
       "      <td>Cat</td>\n",
       "      <td>Normal</td>\n",
       "      <td>Neutered Male</td>\n",
       "      <td>0</td>\n",
       "    </tr>\n",
       "  </tbody>\n",
       "</table>\n",
       "</div>"
      ],
      "text/plain": [
       "     AgeIntake AnimalType_Intake IntakeCondition  SexuponIntake binary_outcome\n",
       "238       7305               Cat         Injured        Unknown              1\n",
       "102       6939               Dog          Normal    Intact Male              0\n",
       "783       6573               Dog          Normal  Spayed Female              0\n",
       "442       6443               Dog          Normal  Spayed Female              0\n",
       "255       6209               Cat          Normal  Neutered Male              0"
      ]
     },
     "execution_count": 117,
     "metadata": {},
     "output_type": "execute_result"
    }
   ],
   "source": [
    "#sort information by Age of Intake to see if there is any additional information\n",
    "df.sort_values(by='AgeIntake', axis=0, ascending=False, inplace=False, kind='quicksort', na_position='last')[['AgeIntake','AnimalType_Intake','IntakeCondition', 'SexuponIntake', 'binary_outcome']].head(5)"
   ]
  },
  {
   "cell_type": "markdown",
   "metadata": {},
   "source": [
    "We can see from the above table that there is no clear pattern in the other features when sorted by the age of intake. I cannot be sure whether the large values for age are valid or not. However, I am making the assumption that they are valid and to be sure I will leave them as is. "
   ]
  },
  {
   "cell_type": "markdown",
   "metadata": {},
   "source": [
    "__5.Age_OutCome feature has minimum age of zero.__\n",
    "\n",
    "The AgeOutCome has a minimum value of zero. This value does not go as far as the 25% which has a value of 86.75. I assume that the zero age is due to animals being adopted, returned to owners or dying on the day of their birth. I will investigate these values now. "
   ]
  },
  {
   "cell_type": "code",
   "execution_count": 70,
   "metadata": {},
   "outputs": [
    {
     "data": {
      "text/html": [
       "<div>\n",
       "<style scoped>\n",
       "    .dataframe tbody tr th:only-of-type {\n",
       "        vertical-align: middle;\n",
       "    }\n",
       "\n",
       "    .dataframe tbody tr th {\n",
       "        vertical-align: top;\n",
       "    }\n",
       "\n",
       "    .dataframe thead th {\n",
       "        text-align: right;\n",
       "    }\n",
       "</style>\n",
       "<table border=\"1\" class=\"dataframe\">\n",
       "  <thead>\n",
       "    <tr style=\"text-align: right;\">\n",
       "      <th></th>\n",
       "      <th>AnimalID</th>\n",
       "      <th>DateTime_Intake</th>\n",
       "      <th>FoundLocation</th>\n",
       "      <th>IntakeType</th>\n",
       "      <th>IntakeCondition</th>\n",
       "      <th>AnimalType_Intake</th>\n",
       "      <th>SexuponIntake</th>\n",
       "      <th>Breed_Intake</th>\n",
       "      <th>Color_Intake</th>\n",
       "      <th>DateTime_Outcome</th>\n",
       "      <th>DateofBirth</th>\n",
       "      <th>SexuponOutcome</th>\n",
       "      <th>binary_outcome</th>\n",
       "      <th>AgeIntake</th>\n",
       "      <th>AgeOutcome</th>\n",
       "    </tr>\n",
       "  </thead>\n",
       "  <tbody>\n",
       "    <tr>\n",
       "      <td>668</td>\n",
       "      <td>A755172</td>\n",
       "      <td>2017-07-30 11:50:00</td>\n",
       "      <td>Austin (TX)</td>\n",
       "      <td>Owner Surrender</td>\n",
       "      <td>Normal</td>\n",
       "      <td>Dog</td>\n",
       "      <td>Intact Male</td>\n",
       "      <td>Chihuahua Shorthair Mix</td>\n",
       "      <td>White/Black</td>\n",
       "      <td>2017-07-30 16:51:00</td>\n",
       "      <td>2017-07-30</td>\n",
       "      <td>Intact Male</td>\n",
       "      <td>0</td>\n",
       "      <td>0</td>\n",
       "      <td>0</td>\n",
       "    </tr>\n",
       "  </tbody>\n",
       "</table>\n",
       "</div>"
      ],
      "text/plain": [
       "    AnimalID     DateTime_Intake FoundLocation       IntakeType  \\\n",
       "668  A755172 2017-07-30 11:50:00   Austin (TX)  Owner Surrender   \n",
       "\n",
       "    IntakeCondition AnimalType_Intake SexuponIntake             Breed_Intake  \\\n",
       "668          Normal               Dog   Intact Male  Chihuahua Shorthair Mix   \n",
       "\n",
       "    Color_Intake    DateTime_Outcome DateofBirth SexuponOutcome  \\\n",
       "668  White/Black 2017-07-30 16:51:00  2017-07-30    Intact Male   \n",
       "\n",
       "    binary_outcome  AgeIntake  AgeOutcome  \n",
       "668              0          0           0  "
      ]
     },
     "execution_count": 70,
     "metadata": {},
     "output_type": "execute_result"
    }
   ],
   "source": [
    "#view all instances which have an age of outcome equal to zero\n",
    "df.loc[df['AgeOutcome'] == 0]"
   ]
  },
  {
   "cell_type": "code",
   "execution_count": 91,
   "metadata": {},
   "outputs": [],
   "source": [
    "# check what the sex is when the age is zero\n",
    "temp_outcome_df = df[df['AgeOutcome'] == 0]\n"
   ]
  },
  {
   "cell_type": "code",
   "execution_count": 94,
   "metadata": {},
   "outputs": [
    {
     "data": {
      "text/html": [
       "<div>\n",
       "<style scoped>\n",
       "    .dataframe tbody tr th:only-of-type {\n",
       "        vertical-align: middle;\n",
       "    }\n",
       "\n",
       "    .dataframe tbody tr th {\n",
       "        vertical-align: top;\n",
       "    }\n",
       "\n",
       "    .dataframe thead th {\n",
       "        text-align: right;\n",
       "    }\n",
       "</style>\n",
       "<table border=\"1\" class=\"dataframe\">\n",
       "  <thead>\n",
       "    <tr style=\"text-align: right;\">\n",
       "      <th></th>\n",
       "      <th>AgeOutcome</th>\n",
       "      <th>DateTime_Intake</th>\n",
       "      <th>DateTime_Outcome</th>\n",
       "      <th>DateofBirth</th>\n",
       "    </tr>\n",
       "  </thead>\n",
       "  <tbody>\n",
       "    <tr>\n",
       "      <td>668</td>\n",
       "      <td>0</td>\n",
       "      <td>2017-07-30 11:50:00</td>\n",
       "      <td>2017-07-30 16:51:00</td>\n",
       "      <td>2017-07-30</td>\n",
       "    </tr>\n",
       "  </tbody>\n",
       "</table>\n",
       "</div>"
      ],
      "text/plain": [
       "     AgeOutcome     DateTime_Intake    DateTime_Outcome DateofBirth\n",
       "668           0 2017-07-30 11:50:00 2017-07-30 16:51:00  2017-07-30"
      ]
     },
     "execution_count": 94,
     "metadata": {},
     "output_type": "execute_result"
    }
   ],
   "source": [
    "#check what the date of birth and date of outcome are when age is zero\n",
    "temp_outcome_df[['AgeOutcome', 'DateTime_Intake', \n",
    "                 'DateTime_Outcome','DateofBirth']]"
   ]
  },
  {
   "cell_type": "markdown",
   "metadata": {},
   "source": [
    "We can see that the date of birth and date of outcome are the same for the instance which has an outcome age of zero. "
   ]
  },
  {
   "cell_type": "code",
   "execution_count": 93,
   "metadata": {},
   "outputs": [
    {
     "data": {
      "text/html": [
       "<div>\n",
       "<style scoped>\n",
       "    .dataframe tbody tr th:only-of-type {\n",
       "        vertical-align: middle;\n",
       "    }\n",
       "\n",
       "    .dataframe tbody tr th {\n",
       "        vertical-align: top;\n",
       "    }\n",
       "\n",
       "    .dataframe thead th {\n",
       "        text-align: right;\n",
       "    }\n",
       "</style>\n",
       "<table border=\"1\" class=\"dataframe\">\n",
       "  <thead>\n",
       "    <tr style=\"text-align: right;\">\n",
       "      <th></th>\n",
       "      <th>AgeOutcome</th>\n",
       "      <th>IntakeType</th>\n",
       "    </tr>\n",
       "  </thead>\n",
       "  <tbody>\n",
       "    <tr>\n",
       "      <td>668</td>\n",
       "      <td>0</td>\n",
       "      <td>Owner Surrender</td>\n",
       "    </tr>\n",
       "  </tbody>\n",
       "</table>\n",
       "</div>"
      ],
      "text/plain": [
       "     AgeOutcome       IntakeType\n",
       "668           0  Owner Surrender"
      ]
     },
     "execution_count": 93,
     "metadata": {},
     "output_type": "execute_result"
    }
   ],
   "source": [
    "temp_outcome_df[['AgeOutcome', 'IntakeType']]"
   ]
  },
  {
   "cell_type": "code",
   "execution_count": 95,
   "metadata": {},
   "outputs": [
    {
     "data": {
      "text/html": [
       "<div>\n",
       "<style scoped>\n",
       "    .dataframe tbody tr th:only-of-type {\n",
       "        vertical-align: middle;\n",
       "    }\n",
       "\n",
       "    .dataframe tbody tr th {\n",
       "        vertical-align: top;\n",
       "    }\n",
       "\n",
       "    .dataframe thead th {\n",
       "        text-align: right;\n",
       "    }\n",
       "</style>\n",
       "<table border=\"1\" class=\"dataframe\">\n",
       "  <thead>\n",
       "    <tr style=\"text-align: right;\">\n",
       "      <th></th>\n",
       "      <th>AgeOutcome</th>\n",
       "      <th>binary_outcome</th>\n",
       "    </tr>\n",
       "  </thead>\n",
       "  <tbody>\n",
       "    <tr>\n",
       "      <td>668</td>\n",
       "      <td>0</td>\n",
       "      <td>0</td>\n",
       "    </tr>\n",
       "  </tbody>\n",
       "</table>\n",
       "</div>"
      ],
      "text/plain": [
       "     AgeOutcome binary_outcome\n",
       "668           0              0"
      ]
     },
     "execution_count": 95,
     "metadata": {},
     "output_type": "execute_result"
    }
   ],
   "source": [
    "temp_outcome_df[['AgeOutcome', 'binary_outcome']]"
   ]
  },
  {
   "cell_type": "markdown",
   "metadata": {},
   "source": [
    "We can see from the information above that this animal was brought in by an owner on the same day of their birth. The information also says that the animal left the shelter on the same day. We can see that the binary outcome for this animal is positive. However, it is unlikely that a newborn animal will be adopted on the the day that they were born. It is also unlikely that they will be returned to the same owner who surrendured them on that day. \n",
    "\n",
    "As a result, I will drop this instance as it most likely has some errors.\n",
    "\n",
    "# decide what to do with this one!"
   ]
  },
  {
   "cell_type": "code",
   "execution_count": 96,
   "metadata": {},
   "outputs": [],
   "source": [
    "#drop this instance\n",
    "# df = df.drop(temp_outcome_df.index)"
   ]
  },
  {
   "cell_type": "code",
   "execution_count": 99,
   "metadata": {},
   "outputs": [
    {
     "data": {
      "text/html": [
       "<div>\n",
       "<style scoped>\n",
       "    .dataframe tbody tr th:only-of-type {\n",
       "        vertical-align: middle;\n",
       "    }\n",
       "\n",
       "    .dataframe tbody tr th {\n",
       "        vertical-align: top;\n",
       "    }\n",
       "\n",
       "    .dataframe thead th {\n",
       "        text-align: right;\n",
       "    }\n",
       "</style>\n",
       "<table border=\"1\" class=\"dataframe\">\n",
       "  <thead>\n",
       "    <tr style=\"text-align: right;\">\n",
       "      <th></th>\n",
       "      <th>AnimalID</th>\n",
       "      <th>DateTime_Intake</th>\n",
       "      <th>FoundLocation</th>\n",
       "      <th>IntakeType</th>\n",
       "      <th>IntakeCondition</th>\n",
       "      <th>AnimalType_Intake</th>\n",
       "      <th>SexuponIntake</th>\n",
       "      <th>Breed_Intake</th>\n",
       "      <th>Color_Intake</th>\n",
       "      <th>DateTime_Outcome</th>\n",
       "      <th>DateofBirth</th>\n",
       "      <th>SexuponOutcome</th>\n",
       "      <th>binary_outcome</th>\n",
       "      <th>AgeIntake</th>\n",
       "      <th>AgeOutcome</th>\n",
       "    </tr>\n",
       "  </thead>\n",
       "  <tbody>\n",
       "  </tbody>\n",
       "</table>\n",
       "</div>"
      ],
      "text/plain": [
       "Empty DataFrame\n",
       "Columns: [AnimalID, DateTime_Intake, FoundLocation, IntakeType, IntakeCondition, AnimalType_Intake, SexuponIntake, Breed_Intake, Color_Intake, DateTime_Outcome, DateofBirth, SexuponOutcome, binary_outcome, AgeIntake, AgeOutcome]\n",
       "Index: []"
      ]
     },
     "execution_count": 99,
     "metadata": {},
     "output_type": "execute_result"
    }
   ],
   "source": [
    "#check the instance was indeed dropped\n",
    "# df.loc[df['AgeOutcome'] == 0]"
   ]
  },
  {
   "cell_type": "markdown",
   "metadata": {},
   "source": [
    "__6. Age_OutCome feature has many potential outliers.__\n",
    "\n",
    "As seen in the box plots, this feature has many potential outliers which are greater than the max cut off point. I have decided to leave these values as they are as I think they are an accurate representation of the age range in the animal shelter."
   ]
  },
  {
   "cell_type": "code",
   "execution_count": 118,
   "metadata": {},
   "outputs": [
    {
     "data": {
      "text/html": [
       "<div>\n",
       "<style scoped>\n",
       "    .dataframe tbody tr th:only-of-type {\n",
       "        vertical-align: middle;\n",
       "    }\n",
       "\n",
       "    .dataframe tbody tr th {\n",
       "        vertical-align: top;\n",
       "    }\n",
       "\n",
       "    .dataframe thead th {\n",
       "        text-align: right;\n",
       "    }\n",
       "</style>\n",
       "<table border=\"1\" class=\"dataframe\">\n",
       "  <thead>\n",
       "    <tr style=\"text-align: right;\">\n",
       "      <th></th>\n",
       "      <th>AgeOutcome</th>\n",
       "      <th>AnimalType_Intake</th>\n",
       "      <th>IntakeCondition</th>\n",
       "      <th>SexuponIntake</th>\n",
       "      <th>binary_outcome</th>\n",
       "    </tr>\n",
       "  </thead>\n",
       "  <tbody>\n",
       "    <tr>\n",
       "      <td>238</td>\n",
       "      <td>7306</td>\n",
       "      <td>Cat</td>\n",
       "      <td>Injured</td>\n",
       "      <td>Unknown</td>\n",
       "      <td>1</td>\n",
       "    </tr>\n",
       "    <tr>\n",
       "      <td>102</td>\n",
       "      <td>6940</td>\n",
       "      <td>Dog</td>\n",
       "      <td>Normal</td>\n",
       "      <td>Intact Male</td>\n",
       "      <td>0</td>\n",
       "    </tr>\n",
       "    <tr>\n",
       "      <td>783</td>\n",
       "      <td>6589</td>\n",
       "      <td>Dog</td>\n",
       "      <td>Normal</td>\n",
       "      <td>Spayed Female</td>\n",
       "      <td>0</td>\n",
       "    </tr>\n",
       "    <tr>\n",
       "      <td>442</td>\n",
       "      <td>6443</td>\n",
       "      <td>Dog</td>\n",
       "      <td>Normal</td>\n",
       "      <td>Spayed Female</td>\n",
       "      <td>0</td>\n",
       "    </tr>\n",
       "    <tr>\n",
       "      <td>128</td>\n",
       "      <td>6284</td>\n",
       "      <td>Dog</td>\n",
       "      <td>Sick</td>\n",
       "      <td>Spayed Female</td>\n",
       "      <td>0</td>\n",
       "    </tr>\n",
       "  </tbody>\n",
       "</table>\n",
       "</div>"
      ],
      "text/plain": [
       "     AgeOutcome AnimalType_Intake IntakeCondition  SexuponIntake  \\\n",
       "238        7306               Cat         Injured        Unknown   \n",
       "102        6940               Dog          Normal    Intact Male   \n",
       "783        6589               Dog          Normal  Spayed Female   \n",
       "442        6443               Dog          Normal  Spayed Female   \n",
       "128        6284               Dog            Sick  Spayed Female   \n",
       "\n",
       "    binary_outcome  \n",
       "238              1  \n",
       "102              0  \n",
       "783              0  \n",
       "442              0  \n",
       "128              0  "
      ]
     },
     "execution_count": 118,
     "metadata": {},
     "output_type": "execute_result"
    }
   ],
   "source": [
    "#sort information by Age of Intake to see if there is any additional information\n",
    "df.sort_values(by='AgeOutcome', axis=0, ascending=False, inplace=False, kind='quicksort', na_position='last')[['AgeOutcome','AnimalType_Intake','IntakeCondition', 'SexuponIntake', 'binary_outcome']].head(5)"
   ]
  },
  {
   "cell_type": "markdown",
   "metadata": {},
   "source": [
    "We can see from the above table that there is no clear pattern in the other features when sorted by the age of intake. I cannot be sure whether the large values for age are valid or not. However, I am making the assumption that they are valid and to be sure I will leave them as is. "
   ]
  },
  {
   "cell_type": "markdown",
   "metadata": {},
   "source": [
    "__7.Minimum length of stay is a negative value of -446.__\n",
    "\n",
    "We saw above that when I further explored the date of entry and date of outcome, I found that the minimum length of stay of an animal was a negative value. This will be investigated further now. "
   ]
  },
  {
   "cell_type": "code",
   "execution_count": 102,
   "metadata": {},
   "outputs": [
    {
     "data": {
      "text/plain": [
       "count     999.000000\n",
       "mean       19.660661\n",
       "std        86.262811\n",
       "min      -446.000000\n",
       "25%         1.000000\n",
       "50%         5.000000\n",
       "75%        15.000000\n",
       "max      1828.000000\n",
       "dtype: float64"
      ]
     },
     "execution_count": 102,
     "metadata": {},
     "output_type": "execute_result"
    }
   ],
   "source": [
    "# view descriptive stats of length of stay\n",
    "length_stay = (df['DateTime_Outcome'] - df['DateTime_Intake']).dt.days\n",
    "length_stay.describe().T"
   ]
  },
  {
   "cell_type": "code",
   "execution_count": 105,
   "metadata": {},
   "outputs": [
    {
     "data": {
      "text/html": [
       "<div>\n",
       "<style scoped>\n",
       "    .dataframe tbody tr th:only-of-type {\n",
       "        vertical-align: middle;\n",
       "    }\n",
       "\n",
       "    .dataframe tbody tr th {\n",
       "        vertical-align: top;\n",
       "    }\n",
       "\n",
       "    .dataframe thead th {\n",
       "        text-align: right;\n",
       "    }\n",
       "</style>\n",
       "<table border=\"1\" class=\"dataframe\">\n",
       "  <thead>\n",
       "    <tr style=\"text-align: right;\">\n",
       "      <th></th>\n",
       "      <th>AnimalID</th>\n",
       "      <th>DateTime_Intake</th>\n",
       "      <th>FoundLocation</th>\n",
       "      <th>IntakeType</th>\n",
       "      <th>IntakeCondition</th>\n",
       "      <th>AnimalType_Intake</th>\n",
       "      <th>SexuponIntake</th>\n",
       "      <th>Breed_Intake</th>\n",
       "      <th>Color_Intake</th>\n",
       "      <th>DateTime_Outcome</th>\n",
       "      <th>DateofBirth</th>\n",
       "      <th>SexuponOutcome</th>\n",
       "      <th>binary_outcome</th>\n",
       "      <th>AgeIntake</th>\n",
       "      <th>AgeOutcome</th>\n",
       "    </tr>\n",
       "  </thead>\n",
       "  <tbody>\n",
       "    <tr>\n",
       "      <td>150</td>\n",
       "      <td>A797116</td>\n",
       "      <td>2019-07-01 16:20:00</td>\n",
       "      <td>Outside Jurisdiction</td>\n",
       "      <td>Owner Surrender</td>\n",
       "      <td>Normal</td>\n",
       "      <td>Dog</td>\n",
       "      <td>Spayed Female</td>\n",
       "      <td>Australian Cattle Dog/Labrador Retriever</td>\n",
       "      <td>Black/White</td>\n",
       "      <td>2019-06-30 18:17:00</td>\n",
       "      <td>2013-06-09</td>\n",
       "      <td>Spayed Female</td>\n",
       "      <td>0</td>\n",
       "      <td>2213</td>\n",
       "      <td>2212</td>\n",
       "    </tr>\n",
       "    <tr>\n",
       "      <td>193</td>\n",
       "      <td>A734218</td>\n",
       "      <td>2016-10-09 14:42:00</td>\n",
       "      <td>1515 Wickersham Lane in Austin (TX)</td>\n",
       "      <td>Owner Surrender</td>\n",
       "      <td>Normal</td>\n",
       "      <td>Dog</td>\n",
       "      <td>Neutered Male</td>\n",
       "      <td>Australian Shepherd/Labrador Retriever</td>\n",
       "      <td>Chocolate/White</td>\n",
       "      <td>2016-09-21 12:28:00</td>\n",
       "      <td>2015-09-03</td>\n",
       "      <td>Neutered Male</td>\n",
       "      <td>0</td>\n",
       "      <td>402</td>\n",
       "      <td>384</td>\n",
       "    </tr>\n",
       "    <tr>\n",
       "      <td>286</td>\n",
       "      <td>A781019</td>\n",
       "      <td>2018-12-09 11:36:00</td>\n",
       "      <td>3803 Carmel in Austin (TX)</td>\n",
       "      <td>Public Assist</td>\n",
       "      <td>Normal</td>\n",
       "      <td>Dog</td>\n",
       "      <td>Spayed Female</td>\n",
       "      <td>Staffordshire Mix</td>\n",
       "      <td>White/Black</td>\n",
       "      <td>2018-11-13 18:47:00</td>\n",
       "      <td>2015-09-30</td>\n",
       "      <td>Spayed Female</td>\n",
       "      <td>0</td>\n",
       "      <td>1166</td>\n",
       "      <td>1140</td>\n",
       "    </tr>\n",
       "    <tr>\n",
       "      <td>354</td>\n",
       "      <td>A773939</td>\n",
       "      <td>2019-11-29 14:47:00</td>\n",
       "      <td>Austin (TX)</td>\n",
       "      <td>Owner Surrender</td>\n",
       "      <td>Normal</td>\n",
       "      <td>Dog</td>\n",
       "      <td>Neutered Male</td>\n",
       "      <td>Pit Bull Mix</td>\n",
       "      <td>Blue/White</td>\n",
       "      <td>2018-09-09 17:08:00</td>\n",
       "      <td>2016-06-07</td>\n",
       "      <td>Neutered Male</td>\n",
       "      <td>0</td>\n",
       "      <td>1270</td>\n",
       "      <td>824</td>\n",
       "    </tr>\n",
       "    <tr>\n",
       "      <td>443</td>\n",
       "      <td>A776553</td>\n",
       "      <td>2018-10-13 12:30:00</td>\n",
       "      <td>East Stassney Lane And South Congress Avenue i...</td>\n",
       "      <td>Stray</td>\n",
       "      <td>Normal</td>\n",
       "      <td>Dog</td>\n",
       "      <td>Intact Female</td>\n",
       "      <td>American Pit Bull Terrier Mix</td>\n",
       "      <td>Blue/White</td>\n",
       "      <td>2018-07-15 17:13:00</td>\n",
       "      <td>2017-11-15</td>\n",
       "      <td>Intact Female</td>\n",
       "      <td>0</td>\n",
       "      <td>332</td>\n",
       "      <td>242</td>\n",
       "    </tr>\n",
       "    <tr>\n",
       "      <td>627</td>\n",
       "      <td>A770352</td>\n",
       "      <td>2019-09-05 13:38:00</td>\n",
       "      <td>6407 Cooper Lane in Austin (TX)</td>\n",
       "      <td>Stray</td>\n",
       "      <td>Normal</td>\n",
       "      <td>Dog</td>\n",
       "      <td>Neutered Male</td>\n",
       "      <td>Pit Bull Mix</td>\n",
       "      <td>Black/White</td>\n",
       "      <td>2019-07-03 18:36:00</td>\n",
       "      <td>2016-04-18</td>\n",
       "      <td>Neutered Male</td>\n",
       "      <td>1</td>\n",
       "      <td>1235</td>\n",
       "      <td>1171</td>\n",
       "    </tr>\n",
       "    <tr>\n",
       "      <td>929</td>\n",
       "      <td>A663553</td>\n",
       "      <td>2015-02-04 17:54:00</td>\n",
       "      <td>Austin (TX)</td>\n",
       "      <td>Owner Surrender</td>\n",
       "      <td>Normal</td>\n",
       "      <td>Cat</td>\n",
       "      <td>Neutered Male</td>\n",
       "      <td>Domestic Shorthair Mix</td>\n",
       "      <td>Brown Tabby/White</td>\n",
       "      <td>2013-11-30 17:07:00</td>\n",
       "      <td>2013-06-20</td>\n",
       "      <td>Neutered Male</td>\n",
       "      <td>0</td>\n",
       "      <td>594</td>\n",
       "      <td>163</td>\n",
       "    </tr>\n",
       "  </tbody>\n",
       "</table>\n",
       "</div>"
      ],
      "text/plain": [
       "    AnimalID     DateTime_Intake  \\\n",
       "150  A797116 2019-07-01 16:20:00   \n",
       "193  A734218 2016-10-09 14:42:00   \n",
       "286  A781019 2018-12-09 11:36:00   \n",
       "354  A773939 2019-11-29 14:47:00   \n",
       "443  A776553 2018-10-13 12:30:00   \n",
       "627  A770352 2019-09-05 13:38:00   \n",
       "929  A663553 2015-02-04 17:54:00   \n",
       "\n",
       "                                         FoundLocation       IntakeType  \\\n",
       "150                               Outside Jurisdiction  Owner Surrender   \n",
       "193                1515 Wickersham Lane in Austin (TX)  Owner Surrender   \n",
       "286                         3803 Carmel in Austin (TX)    Public Assist   \n",
       "354                                        Austin (TX)  Owner Surrender   \n",
       "443  East Stassney Lane And South Congress Avenue i...            Stray   \n",
       "627                    6407 Cooper Lane in Austin (TX)            Stray   \n",
       "929                                        Austin (TX)  Owner Surrender   \n",
       "\n",
       "    IntakeCondition AnimalType_Intake  SexuponIntake  \\\n",
       "150          Normal               Dog  Spayed Female   \n",
       "193          Normal               Dog  Neutered Male   \n",
       "286          Normal               Dog  Spayed Female   \n",
       "354          Normal               Dog  Neutered Male   \n",
       "443          Normal               Dog  Intact Female   \n",
       "627          Normal               Dog  Neutered Male   \n",
       "929          Normal               Cat  Neutered Male   \n",
       "\n",
       "                                 Breed_Intake       Color_Intake  \\\n",
       "150  Australian Cattle Dog/Labrador Retriever        Black/White   \n",
       "193    Australian Shepherd/Labrador Retriever    Chocolate/White   \n",
       "286                         Staffordshire Mix        White/Black   \n",
       "354                              Pit Bull Mix         Blue/White   \n",
       "443             American Pit Bull Terrier Mix         Blue/White   \n",
       "627                              Pit Bull Mix        Black/White   \n",
       "929                    Domestic Shorthair Mix  Brown Tabby/White   \n",
       "\n",
       "       DateTime_Outcome DateofBirth SexuponOutcome binary_outcome  AgeIntake  \\\n",
       "150 2019-06-30 18:17:00  2013-06-09  Spayed Female              0       2213   \n",
       "193 2016-09-21 12:28:00  2015-09-03  Neutered Male              0        402   \n",
       "286 2018-11-13 18:47:00  2015-09-30  Spayed Female              0       1166   \n",
       "354 2018-09-09 17:08:00  2016-06-07  Neutered Male              0       1270   \n",
       "443 2018-07-15 17:13:00  2017-11-15  Intact Female              0        332   \n",
       "627 2019-07-03 18:36:00  2016-04-18  Neutered Male              1       1235   \n",
       "929 2013-11-30 17:07:00  2013-06-20  Neutered Male              0        594   \n",
       "\n",
       "     AgeOutcome  \n",
       "150        2212  \n",
       "193         384  \n",
       "286        1140  \n",
       "354         824  \n",
       "443         242  \n",
       "627        1171  \n",
       "929         163  "
      ]
     },
     "execution_count": 105,
     "metadata": {},
     "output_type": "execute_result"
    }
   ],
   "source": [
    "negative_length_stay = df[length_stay < 0]\n",
    "negative_length_stay"
   ]
  },
  {
   "cell_type": "code",
   "execution_count": 110,
   "metadata": {},
   "outputs": [
    {
     "data": {
      "text/html": [
       "<div>\n",
       "<style scoped>\n",
       "    .dataframe tbody tr th:only-of-type {\n",
       "        vertical-align: middle;\n",
       "    }\n",
       "\n",
       "    .dataframe tbody tr th {\n",
       "        vertical-align: top;\n",
       "    }\n",
       "\n",
       "    .dataframe thead th {\n",
       "        text-align: right;\n",
       "    }\n",
       "</style>\n",
       "<table border=\"1\" class=\"dataframe\">\n",
       "  <thead>\n",
       "    <tr style=\"text-align: right;\">\n",
       "      <th></th>\n",
       "      <th>DateTime_Intake</th>\n",
       "      <th>DateTime_Outcome</th>\n",
       "      <th>DateofBirth</th>\n",
       "    </tr>\n",
       "  </thead>\n",
       "  <tbody>\n",
       "    <tr>\n",
       "      <td>150</td>\n",
       "      <td>2019-07-01 16:20:00</td>\n",
       "      <td>2019-06-30 18:17:00</td>\n",
       "      <td>2013-06-09</td>\n",
       "    </tr>\n",
       "    <tr>\n",
       "      <td>193</td>\n",
       "      <td>2016-10-09 14:42:00</td>\n",
       "      <td>2016-09-21 12:28:00</td>\n",
       "      <td>2015-09-03</td>\n",
       "    </tr>\n",
       "    <tr>\n",
       "      <td>286</td>\n",
       "      <td>2018-12-09 11:36:00</td>\n",
       "      <td>2018-11-13 18:47:00</td>\n",
       "      <td>2015-09-30</td>\n",
       "    </tr>\n",
       "    <tr>\n",
       "      <td>354</td>\n",
       "      <td>2019-11-29 14:47:00</td>\n",
       "      <td>2018-09-09 17:08:00</td>\n",
       "      <td>2016-06-07</td>\n",
       "    </tr>\n",
       "    <tr>\n",
       "      <td>443</td>\n",
       "      <td>2018-10-13 12:30:00</td>\n",
       "      <td>2018-07-15 17:13:00</td>\n",
       "      <td>2017-11-15</td>\n",
       "    </tr>\n",
       "    <tr>\n",
       "      <td>627</td>\n",
       "      <td>2019-09-05 13:38:00</td>\n",
       "      <td>2019-07-03 18:36:00</td>\n",
       "      <td>2016-04-18</td>\n",
       "    </tr>\n",
       "    <tr>\n",
       "      <td>929</td>\n",
       "      <td>2015-02-04 17:54:00</td>\n",
       "      <td>2013-11-30 17:07:00</td>\n",
       "      <td>2013-06-20</td>\n",
       "    </tr>\n",
       "  </tbody>\n",
       "</table>\n",
       "</div>"
      ],
      "text/plain": [
       "        DateTime_Intake    DateTime_Outcome DateofBirth\n",
       "150 2019-07-01 16:20:00 2019-06-30 18:17:00  2013-06-09\n",
       "193 2016-10-09 14:42:00 2016-09-21 12:28:00  2015-09-03\n",
       "286 2018-12-09 11:36:00 2018-11-13 18:47:00  2015-09-30\n",
       "354 2019-11-29 14:47:00 2018-09-09 17:08:00  2016-06-07\n",
       "443 2018-10-13 12:30:00 2018-07-15 17:13:00  2017-11-15\n",
       "627 2019-09-05 13:38:00 2019-07-03 18:36:00  2016-04-18\n",
       "929 2015-02-04 17:54:00 2013-11-30 17:07:00  2013-06-20"
      ]
     },
     "execution_count": 110,
     "metadata": {},
     "output_type": "execute_result"
    }
   ],
   "source": [
    "# view the date of intake and date of outcome for all instances\n",
    "# which have a negative length of stay in the shelter\n",
    "# date of birth is also included to see if there are any errors\n",
    "negative_length_stay[['DateTime_Intake', 'DateTime_Outcome', 'DateofBirth']]"
   ]
  },
  {
   "cell_type": "markdown",
   "metadata": {},
   "source": [
    "We can see from the table above that for all instances which have a negative length of stay in the shelter, the DateTime_Outcome is an earlier date than the DateTime_Intake. \n",
    "\n",
    "I am making the assumption here that either the date of intake or date of outcome was incorrectly entered. One possible solution is for me to calculate the median length of stay of all animals and impute this value to these seven instances. However, as this information is derived from two existing features, it is not as straight forward as replacing existing values of a feature. Furthermore, the number of rows affected is very low out of the total 1000 instances. As a result, I have decided to drop these instances. "
   ]
  },
  {
   "cell_type": "code",
   "execution_count": 111,
   "metadata": {},
   "outputs": [],
   "source": [
    "df = df.drop(negative_length_stay.index)"
   ]
  },
  {
   "cell_type": "code",
   "execution_count": 114,
   "metadata": {},
   "outputs": [
    {
     "name": "stderr",
     "output_type": "stream",
     "text": [
      "/Users/hannahbarrett/opt/anaconda3/lib/python3.7/site-packages/ipykernel_launcher.py:3: UserWarning: Boolean Series key will be reindexed to match DataFrame index.\n",
      "  This is separate from the ipykernel package so we can avoid doing imports until\n"
     ]
    },
    {
     "data": {
      "text/html": [
       "<div>\n",
       "<style scoped>\n",
       "    .dataframe tbody tr th:only-of-type {\n",
       "        vertical-align: middle;\n",
       "    }\n",
       "\n",
       "    .dataframe tbody tr th {\n",
       "        vertical-align: top;\n",
       "    }\n",
       "\n",
       "    .dataframe thead th {\n",
       "        text-align: right;\n",
       "    }\n",
       "</style>\n",
       "<table border=\"1\" class=\"dataframe\">\n",
       "  <thead>\n",
       "    <tr style=\"text-align: right;\">\n",
       "      <th></th>\n",
       "      <th>AnimalID</th>\n",
       "      <th>DateTime_Intake</th>\n",
       "      <th>FoundLocation</th>\n",
       "      <th>IntakeType</th>\n",
       "      <th>IntakeCondition</th>\n",
       "      <th>AnimalType_Intake</th>\n",
       "      <th>SexuponIntake</th>\n",
       "      <th>Breed_Intake</th>\n",
       "      <th>Color_Intake</th>\n",
       "      <th>DateTime_Outcome</th>\n",
       "      <th>DateofBirth</th>\n",
       "      <th>SexuponOutcome</th>\n",
       "      <th>binary_outcome</th>\n",
       "      <th>AgeIntake</th>\n",
       "      <th>AgeOutcome</th>\n",
       "    </tr>\n",
       "  </thead>\n",
       "  <tbody>\n",
       "  </tbody>\n",
       "</table>\n",
       "</div>"
      ],
      "text/plain": [
       "Empty DataFrame\n",
       "Columns: [AnimalID, DateTime_Intake, FoundLocation, IntakeType, IntakeCondition, AnimalType_Intake, SexuponIntake, Breed_Intake, Color_Intake, DateTime_Outcome, DateofBirth, SexuponOutcome, binary_outcome, AgeIntake, AgeOutcome]\n",
       "Index: []"
      ]
     },
     "execution_count": 114,
     "metadata": {},
     "output_type": "execute_result"
    }
   ],
   "source": [
    "#ensure these instances were indeed dropped\n",
    "# df[df['length_stay'] < 0]\n",
    "df[length_stay < 0]"
   ]
  },
  {
   "cell_type": "markdown",
   "metadata": {},
   "source": [
    "## Cleaned data results\n"
   ]
  },
  {
   "cell_type": "markdown",
   "metadata": {},
   "source": [
    "### Descriptive stats for the cleaned continuous data"
   ]
  },
  {
   "cell_type": "code",
   "execution_count": 120,
   "metadata": {},
   "outputs": [
    {
     "data": {
      "text/html": [
       "<div>\n",
       "<style scoped>\n",
       "    .dataframe tbody tr th:only-of-type {\n",
       "        vertical-align: middle;\n",
       "    }\n",
       "\n",
       "    .dataframe tbody tr th {\n",
       "        vertical-align: top;\n",
       "    }\n",
       "\n",
       "    .dataframe thead th {\n",
       "        text-align: right;\n",
       "    }\n",
       "</style>\n",
       "<table border=\"1\" class=\"dataframe\">\n",
       "  <thead>\n",
       "    <tr style=\"text-align: right;\">\n",
       "      <th></th>\n",
       "      <th>count</th>\n",
       "      <th>mean</th>\n",
       "      <th>std</th>\n",
       "      <th>min</th>\n",
       "      <th>25%</th>\n",
       "      <th>50%</th>\n",
       "      <th>75%</th>\n",
       "      <th>max</th>\n",
       "    </tr>\n",
       "  </thead>\n",
       "  <tbody>\n",
       "    <tr>\n",
       "      <td>AgeIntake</td>\n",
       "      <td>992.0</td>\n",
       "      <td>759.754032</td>\n",
       "      <td>1119.389349</td>\n",
       "      <td>0.0</td>\n",
       "      <td>67.5</td>\n",
       "      <td>365.0</td>\n",
       "      <td>756.25</td>\n",
       "      <td>7305.0</td>\n",
       "    </tr>\n",
       "    <tr>\n",
       "      <td>AgeOutcome</td>\n",
       "      <td>992.0</td>\n",
       "      <td>780.990927</td>\n",
       "      <td>1127.732820</td>\n",
       "      <td>1.0</td>\n",
       "      <td>86.0</td>\n",
       "      <td>367.0</td>\n",
       "      <td>794.25</td>\n",
       "      <td>7306.0</td>\n",
       "    </tr>\n",
       "  </tbody>\n",
       "</table>\n",
       "</div>"
      ],
      "text/plain": [
       "            count        mean          std  min   25%    50%     75%     max\n",
       "AgeIntake   992.0  759.754032  1119.389349  0.0  67.5  365.0  756.25  7305.0\n",
       "AgeOutcome  992.0  780.990927  1127.732820  1.0  86.0  367.0  794.25  7306.0"
      ]
     },
     "execution_count": 120,
     "metadata": {},
     "output_type": "execute_result"
    }
   ],
   "source": [
    "df.select_dtypes(['int64']).describe().T\n",
    "\n",
    "# NB have a think about deleting the age of outcome of 0!!!!!"
   ]
  },
  {
   "cell_type": "markdown",
   "metadata": {},
   "source": [
    "### Descriptive stats for the cleaned categorical data"
   ]
  },
  {
   "cell_type": "code",
   "execution_count": 121,
   "metadata": {},
   "outputs": [
    {
     "data": {
      "text/html": [
       "<div>\n",
       "<style scoped>\n",
       "    .dataframe tbody tr th:only-of-type {\n",
       "        vertical-align: middle;\n",
       "    }\n",
       "\n",
       "    .dataframe tbody tr th {\n",
       "        vertical-align: top;\n",
       "    }\n",
       "\n",
       "    .dataframe thead th {\n",
       "        text-align: right;\n",
       "    }\n",
       "</style>\n",
       "<table border=\"1\" class=\"dataframe\">\n",
       "  <thead>\n",
       "    <tr style=\"text-align: right;\">\n",
       "      <th></th>\n",
       "      <th>count</th>\n",
       "      <th>unique</th>\n",
       "      <th>top</th>\n",
       "      <th>freq</th>\n",
       "    </tr>\n",
       "  </thead>\n",
       "  <tbody>\n",
       "    <tr>\n",
       "      <td>FoundLocation</td>\n",
       "      <td>992</td>\n",
       "      <td>762</td>\n",
       "      <td>Austin (TX)</td>\n",
       "      <td>185</td>\n",
       "    </tr>\n",
       "    <tr>\n",
       "      <td>IntakeType</td>\n",
       "      <td>992</td>\n",
       "      <td>5</td>\n",
       "      <td>Stray</td>\n",
       "      <td>706</td>\n",
       "    </tr>\n",
       "    <tr>\n",
       "      <td>IntakeCondition</td>\n",
       "      <td>992</td>\n",
       "      <td>5</td>\n",
       "      <td>Normal</td>\n",
       "      <td>883</td>\n",
       "    </tr>\n",
       "    <tr>\n",
       "      <td>AnimalType_Intake</td>\n",
       "      <td>992</td>\n",
       "      <td>4</td>\n",
       "      <td>Dog</td>\n",
       "      <td>556</td>\n",
       "    </tr>\n",
       "    <tr>\n",
       "      <td>SexuponIntake</td>\n",
       "      <td>992</td>\n",
       "      <td>5</td>\n",
       "      <td>Intact Male</td>\n",
       "      <td>331</td>\n",
       "    </tr>\n",
       "    <tr>\n",
       "      <td>Breed_Intake</td>\n",
       "      <td>992</td>\n",
       "      <td>210</td>\n",
       "      <td>Domestic Shorthair Mix</td>\n",
       "      <td>258</td>\n",
       "    </tr>\n",
       "    <tr>\n",
       "      <td>Color_Intake</td>\n",
       "      <td>992</td>\n",
       "      <td>115</td>\n",
       "      <td>Black/White</td>\n",
       "      <td>104</td>\n",
       "    </tr>\n",
       "    <tr>\n",
       "      <td>SexuponOutcome</td>\n",
       "      <td>992</td>\n",
       "      <td>5</td>\n",
       "      <td>Neutered Male</td>\n",
       "      <td>342</td>\n",
       "    </tr>\n",
       "    <tr>\n",
       "      <td>binary_outcome</td>\n",
       "      <td>992</td>\n",
       "      <td>2</td>\n",
       "      <td>0</td>\n",
       "      <td>913</td>\n",
       "    </tr>\n",
       "  </tbody>\n",
       "</table>\n",
       "</div>"
      ],
      "text/plain": [
       "                  count unique                     top freq\n",
       "FoundLocation       992    762             Austin (TX)  185\n",
       "IntakeType          992      5                   Stray  706\n",
       "IntakeCondition     992      5                  Normal  883\n",
       "AnimalType_Intake   992      4                     Dog  556\n",
       "SexuponIntake       992      5             Intact Male  331\n",
       "Breed_Intake        992    210  Domestic Shorthair Mix  258\n",
       "Color_Intake        992    115             Black/White  104\n",
       "SexuponOutcome      992      5           Neutered Male  342\n",
       "binary_outcome      992      2                       0  913"
      ]
     },
     "execution_count": 121,
     "metadata": {},
     "output_type": "execute_result"
    }
   ],
   "source": [
    "df.select_dtypes(['category']).describe().T"
   ]
  },
  {
   "cell_type": "markdown",
   "metadata": {},
   "source": [
    "# q3. Exploring relationships between pairs\n",
    "\n",
    "\n",
    "Write list of the features I am going to plot\n",
    "\n",
    "\n",
    "Categorical: \n",
    "- IntakeType\n",
    "- IntakeCondition \n",
    "- AnimalTypeIntake\n",
    "- SexUponIntake\n",
    "- BreedIntake\n",
    "- binary_outcome\n",
    "\n",
    "- plot breed intake against colour intake\n"
   ]
  },
  {
   "cell_type": "markdown",
   "metadata": {},
   "source": [
    "### Correlations for the continuous features\n",
    "\n",
    "NB: add length of stay now???"
   ]
  },
  {
   "cell_type": "code",
   "execution_count": 126,
   "metadata": {},
   "outputs": [
    {
     "data": {
      "text/plain": [
       "(array([0.5, 1.5]), <a list of 2 Text xticklabel objects>)"
      ]
     },
     "execution_count": 126,
     "metadata": {},
     "output_type": "execute_result"
    },
    {
     "data": {
      "image/png": "[encoded data removed]",
      "text/plain": [
       "<Figure size 792x648 with 2 Axes>"
      ]
     },
     "metadata": {},
     "output_type": "display_data"
    }
   ],
   "source": [
    "# Correlation matrix using code found on https://stanford.edu/~mwaskom/software/seaborn/examples/many_pairwise_correlations.html\n",
    "sns.set(style=\"white\")\n",
    "\n",
    "# Select columns containing continuous data\n",
    "continuous_columns = df[['AgeIntake', 'AgeOutcome']].columns\n",
    "\n",
    "# Calculate correlation of all pairs of continuous features\n",
    "corr = df[continuous_columns].corr()\n",
    "\n",
    "# Generate a mask for the upper triangle\n",
    "mask = np.zeros_like(corr, dtype=np.bool)\n",
    "mask[np.triu_indices_from(mask)] = True\n",
    "\n",
    "# Set up the matplotlib figure\n",
    "f, ax = plt.subplots(figsize=(11, 9))\n",
    "\n",
    "# Generate a custom colormap - blue and red\n",
    "cmap = sns.diverging_palette(220, 10, as_cmap=True)\n",
    "\n",
    "# Draw the heatmap with the mask and correct aspect ratio\n",
    "sns.heatmap(corr, annot=True, mask=mask, cmap=cmap, vmax=1, vmin=-1,\n",
    "            square=True, xticklabels=True, yticklabels=True,\n",
    "            linewidths=.5, cbar_kws={\"shrink\": .5}, ax=ax)\n",
    "plt.yticks(rotation = 0)\n",
    "plt.xticks(rotation = 45)"
   ]
  },
  {
   "cell_type": "markdown",
   "metadata": {},
   "source": [
    "Below is a scatter plot for ageoutcome and age of intake as they have shown to have a very high correlation in the above plot"
   ]
  },
  {
   "cell_type": "code",
   "execution_count": 127,
   "metadata": {},
   "outputs": [
    {
     "name": "stderr",
     "output_type": "stream",
     "text": [
      "'c' argument looks like a single numeric RGB or RGBA sequence, which should be avoided as value-mapping will have precedence in case its length matches with 'x' & 'y'.  Please use a 2-D array with a single row if you really want to specify the same RGB or RGBA value for all points.\n"
     ]
    },
    {
     "data": {
      "text/plain": [
       "<matplotlib.axes._subplots.AxesSubplot at 0x122800250>"
      ]
     },
     "execution_count": 127,
     "metadata": {},
     "output_type": "execute_result"
    },
    {
     "data": {
      "image/png": "[encoded data removed]",
      "text/plain": [
       "<Figure size 432x288 with 1 Axes>"
      ]
     },
     "metadata": {},
     "output_type": "display_data"
    }
   ],
   "source": [
    "df.plot(kind='scatter', x='AgeIntake', y='AgeOutcome')"
   ]
  },
  {
   "cell_type": "markdown",
   "metadata": {},
   "source": [
    "The graph above is linear showing a high correlation between age of intake and age of outcome."
   ]
  },
  {
   "cell_type": "code",
   "execution_count": 133,
   "metadata": {},
   "outputs": [
    {
     "data": {
      "text/plain": [
       "(0, 100)"
      ]
     },
     "execution_count": 133,
     "metadata": {},
     "output_type": "execute_result"
    },
    {
     "data": {
      "image/png": "[encoded data removed]",
      "text/plain": [
       "<Figure size 1080x504 with 1 Axes>"
      ]
     },
     "metadata": {
      "needs_background": "light"
     },
     "output_type": "display_data"
    }
   ],
   "source": [
    "#Using code from the module lab\n",
    "intake_types = pd.unique(df.IntakeType.ravel())\n",
    "\n",
    "df['percent'] = 0\n",
    "\n",
    "for i in intake_types:\n",
    "    count = 1 / df[df.IntakeType == i].count()['binary_outcome']\n",
    "    index_list = df[df['IntakeType'] == i].index.tolist()\n",
    "    for ind in index_list:\n",
    "        df.loc[ind, 'percent'] = count * 100\n",
    "        \n",
    "group = df[['percent','IntakeType','binary_outcome']].groupby(['IntakeType','binary_outcome']).sum()\n",
    "\n",
    "my_plot = group.unstack().plot(kind='bar', stacked=True, title=\"Binary Outcome based on IntakeType\", figsize=(15,7))\n",
    "\n",
    "red_patch = mpatches.Patch(color='orange', label='Binary Outcome 0')\n",
    "blue_patch = mpatches.Patch(color='blue', label='Binary_Outcome 1')\n",
    "my_plot.legend(handles=[red_patch, blue_patch], frameon = True)\n",
    "\n",
    "my_plot.set_xlabel(\"Intake_Type\")\n",
    "my_plot.set_ylabel(\"Binary Outcome\")\n",
    "my_plot.set_ylim([0,100])"
   ]
  },
  {
   "cell_type": "markdown",
   "metadata": {},
   "source": [
    "Intake condition: "
   ]
  },
  {
   "cell_type": "code",
   "execution_count": 132,
   "metadata": {},
   "outputs": [
    {
     "data": {
      "text/plain": [
       "(0, 100)"
      ]
     },
     "execution_count": 132,
     "metadata": {},
     "output_type": "execute_result"
    },
    {
     "data": {
      "image/png": "[encoded data removed]",
      "text/plain": [
       "<Figure size 1080x504 with 1 Axes>"
      ]
     },
     "metadata": {
      "needs_background": "light"
     },
     "output_type": "display_data"
    }
   ],
   "source": [
    "#Using code from the module lab\n",
    "intake_conditions = pd.unique(df.IntakeCondition.ravel())\n",
    "\n",
    "df['percent'] = 0\n",
    "\n",
    "for i in intake_conditions:\n",
    "    count = 1 / df[df.IntakeCondition == i].count()['binary_outcome']\n",
    "    index_list = df[df['IntakeCondition'] == i].index.tolist()\n",
    "    for ind in index_list:\n",
    "        df.loc[ind, 'percent'] = count * 100\n",
    "        \n",
    "group = df[['percent','IntakeCondition','binary_outcome']].groupby(['IntakeCondition','binary_outcome']).sum()\n",
    "\n",
    "my_plot = group.unstack().plot(kind='bar', stacked=True, title=\"Binary Outcome based on Intake Condition\", figsize=(15,7))\n",
    "\n",
    "red_patch = mpatches.Patch(color='red', label='Binary Outcome 0')\n",
    "blue_patch = mpatches.Patch(color='blue', label='Binary_Outcome 1')\n",
    "my_plot.legend(handles=[red_patch, blue_patch], frameon = True)\n",
    "\n",
    "my_plot.set_xlabel(\"Intake Condition\")\n",
    "my_plot.set_ylabel(\"Binary Outcome\")\n",
    "my_plot.set_ylim([0,100])"
   ]
  },
  {
   "cell_type": "code",
   "execution_count": null,
   "metadata": {},
   "outputs": [],
   "source": []
  }
 ],
 "metadata": {
  "kernelspec": {
   "display_name": "Python 3",
   "language": "python",
   "name": "python3"
  },
  "language_info": {
   "codemirror_mode": {
    "name": "ipython",
    "version": 3
   },
   "file_extension": ".py",
   "mimetype": "text/x-python",
   "name": "python",
   "nbconvert_exporter": "python",
   "pygments_lexer": "ipython3",
   "version": "3.7.4"
  }
 },
 "nbformat": 4,
 "nbformat_minor": 2
}
