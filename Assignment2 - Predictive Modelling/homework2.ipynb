{
 "cells": [
  {
   "cell_type": "markdown",
   "metadata": {},
   "source": [
    "# Homework2"
   ]
  },
  {
   "cell_type": "markdown",
   "metadata": {},
   "source": [
    "## Introduction\n",
    "\n",
    "- This notebook will apply the cleaned dataset from homework 1 and use it to create 3 different models to predict whether an applicant for credit will repay their credit within 2 years.\n",
    "    - The value 0 indicates that an animal will have a positive outcome (adopted/returned to owner).\n",
    "    - The value 1 indicates that an animal will have a negative outcome (death).\n",
    "- Each model will be a supervised learning model and the output will be a binary classification. \n",
    "- For each applicant a number of features will be given (independent variables) and the target, risk performance (dependent variable), will be predicted.\n",
    "\n",
    "This homework will be broken down into 5 main parts:\n",
    "1. Review the dataset from homework one and decide on which features to use to build our model\n",
    "2. Create a Linear Regression model and analyse\n",
    "3. Create a Logistical Regression model and analyse\n",
    "4. Create a Random Forest model and analyse\n",
    "5. Try to optimize each model\n",
    "\n",
    "We will begin by importing the packages needed for this assignment. "
   ]
  },
  {
   "cell_type": "code",
   "execution_count": 1,
   "metadata": {},
   "outputs": [],
   "source": [
    "import pandas as pd\n",
    "import numpy as np\n",
    "import seaborn as sns\n",
    "import matplotlib.pyplot as plt\n",
    "import matplotlib.patches as mpatches\n",
    "\n",
    "from patsy import dmatrices\n",
    "\n",
    "from sklearn.linear_model import LinearRegression\n",
    "from sklearn.linear_model import LogisticRegression\n",
    "from sklearn.tree import DecisionTreeClassifier\n",
    "from sklearn.ensemble import RandomForestClassifier\n",
    "from sklearn.model_selection import train_test_split\n",
    "from sklearn import metrics\n",
    "from sklearn.model_selection import cross_validate\n",
    "from sklearn.model_selection import cross_val_score\n",
    "from sklearn.tree import export_graphviz\n",
    "\n",
    "import graphviz\n",
    "from graphviz import Source\n",
    "\n",
    "# ignore warnings\n",
    "import warnings\n",
    "warnings.filterwarnings('ignore')"
   ]
  },
  {
   "cell_type": "markdown",
   "metadata": {},
   "source": [
    "## 1) Data Understanding and Prep\n",
    "\n",
    "The original dataset was cleaned in homework 1 and will now be imported as a starting point for this homework. There are some points to note before proceeding: \n",
    "\n",
    "- The cleaned dataset will be a starting point however, some additional cleaning steps will be performed before proceeding with homework2. \n",
    "- The data quality report for the cleaned dataset has been provided as a reference. \n",
    "- A summary of the data quality plan is seen below. \n",
    "- Based on the findings in homework1, four additional features were added. These are: \n",
    "    - 'SexKnown' which indicates whether the sex of an animal is known or not. \n",
    "    - 'CatOrDog' which indicates whether an animal is either a cat or a dog or not. \n",
    "    - 'AgeIntake_bins which grouped the ages of animals upon intake into four equal frequency bins.\n",
    "    - 'SickOrInjured' which indicates whether an animal was sick/injured or not. "
   ]
  },
  {
   "cell_type": "markdown",
   "metadata": {},
   "source": [
    "## Insert data quality plan table here!"
   ]
  },
  {
   "cell_type": "markdown",
   "metadata": {},
   "source": [
    "We will begin by importing the cleaned dataset from homework 1. "
   ]
  },
  {
   "cell_type": "code",
   "execution_count": 2,
   "metadata": {},
   "outputs": [],
   "source": [
    "# read in the cleaned csv\n",
    "df = pd.read_csv(\"19205514_cleaned_new_features_added.csv\")"
   ]
  },
  {
   "cell_type": "markdown",
   "metadata": {},
   "source": [
    "#### Data integrity checks\n",
    "\n",
    "Before going any further we will now perform some data integrity checks on the dataset which we have just imported. \n",
    "\n",
    "We will now begin by taking a look at the shape of the dataset and first five lines. "
   ]
  },
  {
   "cell_type": "code",
   "execution_count": 3,
   "metadata": {},
   "outputs": [
    {
     "data": {
      "text/plain": [
       "(1000, 23)"
      ]
     },
     "execution_count": 3,
     "metadata": {},
     "output_type": "execute_result"
    }
   ],
   "source": [
    "#look at the shape of the dataset\n",
    "df.shape"
   ]
  },
  {
   "cell_type": "code",
   "execution_count": 4,
   "metadata": {},
   "outputs": [
    {
     "data": {
      "text/html": [
       "<div>\n",
       "<style scoped>\n",
       "    .dataframe tbody tr th:only-of-type {\n",
       "        vertical-align: middle;\n",
       "    }\n",
       "\n",
       "    .dataframe tbody tr th {\n",
       "        vertical-align: top;\n",
       "    }\n",
       "\n",
       "    .dataframe thead th {\n",
       "        text-align: right;\n",
       "    }\n",
       "</style>\n",
       "<table border=\"1\" class=\"dataframe\">\n",
       "  <thead>\n",
       "    <tr style=\"text-align: right;\">\n",
       "      <th></th>\n",
       "      <th>AnimalID</th>\n",
       "      <th>Name_Provided</th>\n",
       "      <th>DateTime_Intake</th>\n",
       "      <th>FoundLocation</th>\n",
       "      <th>IntakeType</th>\n",
       "      <th>IntakeCondition</th>\n",
       "      <th>AnimalType_Intake</th>\n",
       "      <th>SexuponIntake</th>\n",
       "      <th>AgeuponIntake</th>\n",
       "      <th>Breed_Intake</th>\n",
       "      <th>...</th>\n",
       "      <th>SexuponOutcome</th>\n",
       "      <th>AgeuponOutcome</th>\n",
       "      <th>binary_outcome</th>\n",
       "      <th>ColorOriginal</th>\n",
       "      <th>BreedOriginal</th>\n",
       "      <th>percent</th>\n",
       "      <th>SexKnown</th>\n",
       "      <th>CatOrDog</th>\n",
       "      <th>AgeIntake_bins</th>\n",
       "      <th>SickOrInjured</th>\n",
       "    </tr>\n",
       "  </thead>\n",
       "  <tbody>\n",
       "    <tr>\n",
       "      <td>0</td>\n",
       "      <td>A687076</td>\n",
       "      <td>Yes</td>\n",
       "      <td>2014-08-30 17:55:00</td>\n",
       "      <td>Austin (TX)</td>\n",
       "      <td>Stray</td>\n",
       "      <td>Normal</td>\n",
       "      <td>Cat</td>\n",
       "      <td>Intact Female</td>\n",
       "      <td>76</td>\n",
       "      <td>Mixed Breed</td>\n",
       "      <td>...</td>\n",
       "      <td>Spayed Female</td>\n",
       "      <td>82</td>\n",
       "      <td>0</td>\n",
       "      <td>Torbie</td>\n",
       "      <td>Domestic Shorthair Mix</td>\n",
       "      <td>0.109769</td>\n",
       "      <td>1</td>\n",
       "      <td>1</td>\n",
       "      <td>(55.8, 92.0]</td>\n",
       "      <td>0</td>\n",
       "    </tr>\n",
       "    <tr>\n",
       "      <td>1</td>\n",
       "      <td>A685139</td>\n",
       "      <td>No</td>\n",
       "      <td>2014-08-03 11:23:00</td>\n",
       "      <td>Austin (TX)</td>\n",
       "      <td>Stray</td>\n",
       "      <td>Other</td>\n",
       "      <td>Dog</td>\n",
       "      <td>Intact Female</td>\n",
       "      <td>92</td>\n",
       "      <td>Mixed Breed</td>\n",
       "      <td>...</td>\n",
       "      <td>Spayed Female</td>\n",
       "      <td>96</td>\n",
       "      <td>0</td>\n",
       "      <td>White/Black</td>\n",
       "      <td>Cavalier Span Mix</td>\n",
       "      <td>0.109769</td>\n",
       "      <td>1</td>\n",
       "      <td>1</td>\n",
       "      <td>(55.8, 92.0]</td>\n",
       "      <td>0</td>\n",
       "    </tr>\n",
       "    <tr>\n",
       "      <td>2</td>\n",
       "      <td>A741039</td>\n",
       "      <td>Yes</td>\n",
       "      <td>2016-12-27 11:18:00</td>\n",
       "      <td>Austin (TX)</td>\n",
       "      <td>Stray</td>\n",
       "      <td>Normal</td>\n",
       "      <td>Dog</td>\n",
       "      <td>Intact Male</td>\n",
       "      <td>366</td>\n",
       "      <td>Pure Breed</td>\n",
       "      <td>...</td>\n",
       "      <td>Intact Male</td>\n",
       "      <td>371</td>\n",
       "      <td>0</td>\n",
       "      <td>Black/White</td>\n",
       "      <td>Jack Russell Terrier</td>\n",
       "      <td>0.109769</td>\n",
       "      <td>1</td>\n",
       "      <td>1</td>\n",
       "      <td>(365.0, 427.6]</td>\n",
       "      <td>0</td>\n",
       "    </tr>\n",
       "    <tr>\n",
       "      <td>3</td>\n",
       "      <td>A759166</td>\n",
       "      <td>Yes</td>\n",
       "      <td>2017-09-28 11:03:00</td>\n",
       "      <td>Austin (TX)</td>\n",
       "      <td>Stray</td>\n",
       "      <td>Normal</td>\n",
       "      <td>Cat</td>\n",
       "      <td>Intact Male</td>\n",
       "      <td>62</td>\n",
       "      <td>Pure Breed</td>\n",
       "      <td>...</td>\n",
       "      <td>Neutered Male</td>\n",
       "      <td>99</td>\n",
       "      <td>0</td>\n",
       "      <td>Black</td>\n",
       "      <td>Domestic Shorthair</td>\n",
       "      <td>0.109769</td>\n",
       "      <td>1</td>\n",
       "      <td>1</td>\n",
       "      <td>(55.8, 92.0]</td>\n",
       "      <td>0</td>\n",
       "    </tr>\n",
       "    <tr>\n",
       "      <td>4</td>\n",
       "      <td>A696479</td>\n",
       "      <td>Yes</td>\n",
       "      <td>2015-02-05 11:51:00</td>\n",
       "      <td>Travis (TX)</td>\n",
       "      <td>Stray</td>\n",
       "      <td>Normal</td>\n",
       "      <td>Cat</td>\n",
       "      <td>Intact Male</td>\n",
       "      <td>365</td>\n",
       "      <td>Mixed Breed</td>\n",
       "      <td>...</td>\n",
       "      <td>Neutered Male</td>\n",
       "      <td>375</td>\n",
       "      <td>0</td>\n",
       "      <td>Black</td>\n",
       "      <td>Domestic Medium Hair Mix</td>\n",
       "      <td>0.109769</td>\n",
       "      <td>1</td>\n",
       "      <td>1</td>\n",
       "      <td>(212.0, 365.0]</td>\n",
       "      <td>0</td>\n",
       "    </tr>\n",
       "  </tbody>\n",
       "</table>\n",
       "<p>5 rows × 23 columns</p>\n",
       "</div>"
      ],
      "text/plain": [
       "  AnimalID Name_Provided      DateTime_Intake FoundLocation IntakeType  \\\n",
       "0  A687076           Yes  2014-08-30 17:55:00   Austin (TX)      Stray   \n",
       "1  A685139            No  2014-08-03 11:23:00   Austin (TX)      Stray   \n",
       "2  A741039           Yes  2016-12-27 11:18:00   Austin (TX)      Stray   \n",
       "3  A759166           Yes  2017-09-28 11:03:00   Austin (TX)      Stray   \n",
       "4  A696479           Yes  2015-02-05 11:51:00   Travis (TX)      Stray   \n",
       "\n",
       "  IntakeCondition AnimalType_Intake  SexuponIntake  AgeuponIntake  \\\n",
       "0          Normal               Cat  Intact Female             76   \n",
       "1           Other               Dog  Intact Female             92   \n",
       "2          Normal               Dog    Intact Male            366   \n",
       "3          Normal               Cat    Intact Male             62   \n",
       "4          Normal               Cat    Intact Male            365   \n",
       "\n",
       "  Breed_Intake  ... SexuponOutcome AgeuponOutcome binary_outcome  \\\n",
       "0  Mixed Breed  ...  Spayed Female             82              0   \n",
       "1  Mixed Breed  ...  Spayed Female             96              0   \n",
       "2   Pure Breed  ...    Intact Male            371              0   \n",
       "3   Pure Breed  ...  Neutered Male             99              0   \n",
       "4  Mixed Breed  ...  Neutered Male            375              0   \n",
       "\n",
       "  ColorOriginal             BreedOriginal   percent SexKnown CatOrDog  \\\n",
       "0        Torbie    Domestic Shorthair Mix  0.109769        1        1   \n",
       "1   White/Black         Cavalier Span Mix  0.109769        1        1   \n",
       "2   Black/White      Jack Russell Terrier  0.109769        1        1   \n",
       "3         Black        Domestic Shorthair  0.109769        1        1   \n",
       "4         Black  Domestic Medium Hair Mix  0.109769        1        1   \n",
       "\n",
       "   AgeIntake_bins  SickOrInjured  \n",
       "0    (55.8, 92.0]              0  \n",
       "1    (55.8, 92.0]              0  \n",
       "2  (365.0, 427.6]              0  \n",
       "3    (55.8, 92.0]              0  \n",
       "4  (212.0, 365.0]              0  \n",
       "\n",
       "[5 rows x 23 columns]"
      ]
     },
     "execution_count": 4,
     "metadata": {},
     "output_type": "execute_result"
    }
   ],
   "source": [
    "df.head(5)"
   ]
  },
  {
   "cell_type": "markdown",
   "metadata": {},
   "source": [
    "We can see that the feature 'percent' is still in the dataset. This was generating while implementing bar plots in homework1 and should not be part of the dataset. We will now drop this feature. "
   ]
  },
  {
   "cell_type": "code",
   "execution_count": 5,
   "metadata": {},
   "outputs": [],
   "source": [
    "#drop the feature 'percent'\n",
    "df = df.drop(\"percent\", 1)"
   ]
  },
  {
   "cell_type": "markdown",
   "metadata": {},
   "source": [
    "Next, in order to conduct some integrity tests, we will look at the datatypes of our features after importing the csv. "
   ]
  },
  {
   "cell_type": "code",
   "execution_count": 6,
   "metadata": {},
   "outputs": [
    {
     "data": {
      "text/plain": [
       "AnimalID             object\n",
       "Name_Provided        object\n",
       "DateTime_Intake      object\n",
       "FoundLocation        object\n",
       "IntakeType           object\n",
       "IntakeCondition      object\n",
       "AnimalType_Intake    object\n",
       "SexuponIntake        object\n",
       "AgeuponIntake         int64\n",
       "Breed_Intake         object\n",
       "Color_Intake         object\n",
       "DateTime_Outcome     object\n",
       "DateofBirth          object\n",
       "SexuponOutcome       object\n",
       "AgeuponOutcome        int64\n",
       "binary_outcome        int64\n",
       "ColorOriginal        object\n",
       "BreedOriginal        object\n",
       "SexKnown              int64\n",
       "CatOrDog              int64\n",
       "AgeIntake_bins       object\n",
       "SickOrInjured         int64\n",
       "dtype: object"
      ]
     },
     "execution_count": 6,
     "metadata": {},
     "output_type": "execute_result"
    }
   ],
   "source": [
    "df.dtypes"
   ]
  },
  {
   "cell_type": "markdown",
   "metadata": {},
   "source": [
    "We can see that the datatpyes of some features have reverted back to type \"object\". We will now convert these features back to their appropriate types. \n",
    "\n",
    "Although the target feature *binary_outcome* is a categorical feature, will need to be an int when creating scatter plots in the next section, so we can leave it as it is at this stage. "
   ]
  },
  {
   "cell_type": "code",
   "execution_count": 7,
   "metadata": {},
   "outputs": [],
   "source": [
    "#convert all objects to categories\n",
    "object_columns = df.select_dtypes(['object']).columns\n",
    "for column in object_columns:\n",
    "    df[column] = df[column].astype('category')\n",
    "\n",
    "#convert animal ID to an object type\n",
    "df['AnimalID'] = df['AnimalID'].astype('object')  \n",
    "\n",
    "#convert the new features 'SexKnown','CatOrDog' and 'SickOrInjured' back to category type as this \n",
    "#is how they were implemented in homework1.\n",
    "new_features = ['SexKnown','CatOrDog', 'SickOrInjured']\n",
    "for column in new_features:\n",
    "    df[column] = df[column].astype('category')\n",
    "    \n",
    "#convert all date features to datetime types\n",
    "date_columns = ['DateTime_Intake', 'DateTime_Outcome', 'DateofBirth']\n",
    "for column in date_columns: \n",
    "    df[column] = df[column].astype('datetime64[ns]')\n",
    "    \n",
    "#convert binary outcome to category type\n",
    "# df['binary_outcome'] = df['binary_outcome'].astype('category') "
   ]
  },
  {
   "cell_type": "markdown",
   "metadata": {},
   "source": [
    "We are now ready to perform some data integrity tests. "
   ]
  },
  {
   "cell_type": "markdown",
   "metadata": {},
   "source": [
    "Test 1: Check if the 'DateTime_Outcome' is an earlier date than the 'DateTime_Intake' for any of the animals. This would imply that the animal stayed a negative length of time in the shelter which is impossible."
   ]
  },
  {
   "cell_type": "code",
   "execution_count": 8,
   "metadata": {},
   "outputs": [
    {
     "name": "stdout",
     "output_type": "stream",
     "text": [
      "Number of rows failing the test:  0\n"
     ]
    },
    {
     "data": {
      "text/html": [
       "<div>\n",
       "<style scoped>\n",
       "    .dataframe tbody tr th:only-of-type {\n",
       "        vertical-align: middle;\n",
       "    }\n",
       "\n",
       "    .dataframe tbody tr th {\n",
       "        vertical-align: top;\n",
       "    }\n",
       "\n",
       "    .dataframe thead th {\n",
       "        text-align: right;\n",
       "    }\n",
       "</style>\n",
       "<table border=\"1\" class=\"dataframe\">\n",
       "  <thead>\n",
       "    <tr style=\"text-align: right;\">\n",
       "      <th></th>\n",
       "      <th>DateTime_Outcome</th>\n",
       "      <th>DateTime_Intake</th>\n",
       "    </tr>\n",
       "  </thead>\n",
       "  <tbody>\n",
       "  </tbody>\n",
       "</table>\n",
       "</div>"
      ],
      "text/plain": [
       "Empty DataFrame\n",
       "Columns: [DateTime_Outcome, DateTime_Intake]\n",
       "Index: []"
      ]
     },
     "execution_count": 8,
     "metadata": {},
     "output_type": "execute_result"
    }
   ],
   "source": [
    "#create a dataframe containing the instances where date of outcome is less than date of intake\n",
    "test_1 = df[['DateTime_Outcome','DateTime_Intake']][df['DateTime_Outcome'] < df['DateTime_Intake']]\n",
    "#print out the number of instances failing the test\n",
    "print(\"Number of rows failing the test: \", test_1.shape[0])\n",
    "#view the instances\n",
    "test_1.head()"
   ]
  },
  {
   "cell_type": "markdown",
   "metadata": {},
   "source": [
    " - **Test 2:** Check if the *'DateTime_Intake'* for any animal is before their *'DateofBirth'*. This would imply that the animal entered the shelter before they were born which is impossible."
   ]
  },
  {
   "cell_type": "code",
   "execution_count": 9,
   "metadata": {},
   "outputs": [
    {
     "name": "stdout",
     "output_type": "stream",
     "text": [
      "Number of rows failing the test:  0\n"
     ]
    },
    {
     "data": {
      "text/html": [
       "<div>\n",
       "<style scoped>\n",
       "    .dataframe tbody tr th:only-of-type {\n",
       "        vertical-align: middle;\n",
       "    }\n",
       "\n",
       "    .dataframe tbody tr th {\n",
       "        vertical-align: top;\n",
       "    }\n",
       "\n",
       "    .dataframe thead th {\n",
       "        text-align: right;\n",
       "    }\n",
       "</style>\n",
       "<table border=\"1\" class=\"dataframe\">\n",
       "  <thead>\n",
       "    <tr style=\"text-align: right;\">\n",
       "      <th></th>\n",
       "      <th>DateTime_Intake</th>\n",
       "      <th>DateofBirth</th>\n",
       "    </tr>\n",
       "  </thead>\n",
       "  <tbody>\n",
       "  </tbody>\n",
       "</table>\n",
       "</div>"
      ],
      "text/plain": [
       "Empty DataFrame\n",
       "Columns: [DateTime_Intake, DateofBirth]\n",
       "Index: []"
      ]
     },
     "execution_count": 9,
     "metadata": {},
     "output_type": "execute_result"
    }
   ],
   "source": [
    "#create a dataframe containing the instances where date of intake is less than date of birth\n",
    "test_2 = df[['DateTime_Intake','DateofBirth']][df['DateTime_Intake'] < df['DateofBirth']]\n",
    "#print out the number of instances failing the test\n",
    "print(\"Number of rows failing the test: \", test_2.shape[0])\n",
    "#view the instances\n",
    "test_2.head()"
   ]
  },
  {
   "cell_type": "markdown",
   "metadata": {},
   "source": [
    " - **Test 3:** Check if age of outcome is less than age of intake for any animal. This would imply that the animal decreased in age in the shelter which is impossible."
   ]
  },
  {
   "cell_type": "code",
   "execution_count": 10,
   "metadata": {},
   "outputs": [
    {
     "name": "stdout",
     "output_type": "stream",
     "text": [
      "Number of rows failing the test:  0\n"
     ]
    },
    {
     "data": {
      "text/html": [
       "<div>\n",
       "<style scoped>\n",
       "    .dataframe tbody tr th:only-of-type {\n",
       "        vertical-align: middle;\n",
       "    }\n",
       "\n",
       "    .dataframe tbody tr th {\n",
       "        vertical-align: top;\n",
       "    }\n",
       "\n",
       "    .dataframe thead th {\n",
       "        text-align: right;\n",
       "    }\n",
       "</style>\n",
       "<table border=\"1\" class=\"dataframe\">\n",
       "  <thead>\n",
       "    <tr style=\"text-align: right;\">\n",
       "      <th></th>\n",
       "      <th>AgeuponIntake</th>\n",
       "      <th>AgeuponOutcome</th>\n",
       "    </tr>\n",
       "  </thead>\n",
       "  <tbody>\n",
       "  </tbody>\n",
       "</table>\n",
       "</div>"
      ],
      "text/plain": [
       "Empty DataFrame\n",
       "Columns: [AgeuponIntake, AgeuponOutcome]\n",
       "Index: []"
      ]
     },
     "execution_count": 10,
     "metadata": {},
     "output_type": "execute_result"
    }
   ],
   "source": [
    "#create a dataframe containing the instances where date of intake is less than date of birth\n",
    "test_3 = df[['AgeuponIntake','AgeuponOutcome']][df['AgeuponOutcome'] < df['AgeuponIntake']]\n",
    "#print out the number of instances failing the test\n",
    "print(\"Number of rows failing the test: \", test_3.shape[0])\n",
    "#view the instances\n",
    "test_3.head()"
   ]
  },
  {
   "cell_type": "markdown",
   "metadata": {},
   "source": [
    "We can see that there are no instances with failing logical integrity tests. We can now process with further cleaning steps. "
   ]
  },
  {
   "cell_type": "markdown",
   "metadata": {},
   "source": [
    "### Further cleaning steps\n",
    "\n",
    "Upon reivew of homework 1, we will now perform some additional cleaning steps which need to be carried out before proceeding with the steps involved in homework 2. These are: \n",
    "\n",
    "- Breed_Intake high cardinality\n",
    "- Colour_Intake high cardinality\n",
    "- DateTime features\n",
    "- Length of stay\n",
    "- Remove AnimalID"
   ]
  },
  {
   "cell_type": "markdown",
   "metadata": {},
   "source": [
    "**Breed_Intake high cardinality**:\n",
    "Firstly, upon review of homework 1 I have decided that a more suitable grouping of the breed values could have been performed in order to overcome the issue of high cardinality. We have preserved the original values for *Breed_Intake* from homework1 in a feature called *BreedOriginal*. We will now perform a cleaning step in order to reduce the cardinality."
   ]
  },
  {
   "cell_type": "code",
   "execution_count": 11,
   "metadata": {},
   "outputs": [
    {
     "data": {
      "text/plain": [
       "Domestic Shorthair Mix       259\n",
       "Chihuahua Shorthair Mix       77\n",
       "Labrador Retriever Mix        56\n",
       "Pit Bull Mix                  52\n",
       "Domestic Shorthair            43\n",
       "Domestic Medium Hair Mix      26\n",
       "German Shepherd Mix           20\n",
       "Siamese Mix                   16\n",
       "Boxer Mix                     15\n",
       "Bat Mix                       15\n",
       "Pit Bull                      13\n",
       "Miniature Poodle Mix          11\n",
       "Bat                           11\n",
       "Domestic Longhair Mix         11\n",
       "Border Collie Mix             11\n",
       "Chihuahua Shorthair            9\n",
       "German Shepherd                8\n",
       "Australian Shepherd Mix        8\n",
       "Australian Cattle Dog Mix      8\n",
       "Rottweiler Mix                 7\n",
       "Name: BreedOriginal, dtype: int64"
      ]
     },
     "execution_count": 11,
     "metadata": {},
     "output_type": "execute_result"
    }
   ],
   "source": [
    "#look at the values \n",
    "df['BreedOriginal'].value_counts()[:20]"
   ]
  },
  {
   "cell_type": "markdown",
   "metadata": {},
   "source": [
    "We can see that there is a lot of overlap between with some breeds having the word \"Mix\" appended to the name. Our first step will be to remove the word \"mix\" and thus combine similar breeds. For example, 'Pit Bull' will be combined with 'Pit Bull Mix'."
   ]
  },
  {
   "cell_type": "code",
   "execution_count": 12,
   "metadata": {},
   "outputs": [],
   "source": [
    "df['BreedOriginal'] = df['BreedOriginal'].str.replace(r' Mix', '')"
   ]
  },
  {
   "cell_type": "markdown",
   "metadata": {},
   "source": [
    "As dogs and cats are the most frequent animal type, we will now analyse the different breeds for these. Firstly, we will look at the breeds of dogs and will perform some cleaning in order to reduce the number of different breeds. We will group any dog breeds with a value count of 10 or less into one value called \"Other Dog breeds\". To do this, we first need to create a feature which represents the value counts of the different breeds. "
   ]
  },
  {
   "cell_type": "code",
   "execution_count": 13,
   "metadata": {},
   "outputs": [],
   "source": [
    "#create feature to represent value counts\n",
    "df['Breed_Counts'] = df['BreedOriginal'].map(df['BreedOriginal'].value_counts())"
   ]
  },
  {
   "cell_type": "code",
   "execution_count": 14,
   "metadata": {},
   "outputs": [],
   "source": [
    "#dog breeds with value count less than or equal to 10\n",
    "dog_breed_low_value_counts = df[df[\"AnimalType_Intake\"] == \"Dog\"][df['Breed_Counts']<=10]"
   ]
  },
  {
   "cell_type": "code",
   "execution_count": 15,
   "metadata": {},
   "outputs": [],
   "source": [
    "#these are in group \"Other dog breeds\"\n",
    "dog_breed_low_value_counts['BreedOriginal'] = 'Other Dog Breeds'"
   ]
  },
  {
   "cell_type": "code",
   "execution_count": 16,
   "metadata": {},
   "outputs": [],
   "source": [
    "#update the df with this variable\n",
    "df.update(dog_breed_low_value_counts)"
   ]
  },
  {
   "cell_type": "markdown",
   "metadata": {},
   "source": [
    "We will now repeat the above steps for cats. As we did with Dogs, we will now group cat breeds with a value count less than or equal to 10 into a value called \"Other Cat breeds\"."
   ]
  },
  {
   "cell_type": "code",
   "execution_count": 17,
   "metadata": {},
   "outputs": [],
   "source": [
    "#cat breeds with value count less than or equal to 10\n",
    "cat_breed_low_value_counts = df[df[\"AnimalType_Intake\"] == \"Cat\"][df['Breed_Counts']<=10]"
   ]
  },
  {
   "cell_type": "code",
   "execution_count": 18,
   "metadata": {},
   "outputs": [],
   "source": [
    "#these are in group \"Other dog breeds\"\n",
    "cat_breed_low_value_counts['BreedOriginal'] = 'Other Cat Breeds'"
   ]
  },
  {
   "cell_type": "code",
   "execution_count": 19,
   "metadata": {},
   "outputs": [],
   "source": [
    "#update the df with this variable\n",
    "df.update(cat_breed_low_value_counts)"
   ]
  },
  {
   "cell_type": "code",
   "execution_count": 20,
   "metadata": {},
   "outputs": [
    {
     "data": {
      "text/plain": [
       "Bat            26\n",
       "Raccoon         7\n",
       "Rabbit Sh       4\n",
       "Guinea Pig      3\n",
       "Chicken         3\n",
       "Opossum         3\n",
       "Skunk           2\n",
       "Duck            1\n",
       "Hamster         1\n",
       "Snake           1\n",
       "Ferret          1\n",
       "Lop-Holland     1\n",
       "Cold Water      1\n",
       "Californian     1\n",
       "Waxwing         1\n",
       "Name: BreedOriginal, dtype: int64"
      ]
     },
     "execution_count": 20,
     "metadata": {},
     "output_type": "execute_result"
    }
   ],
   "source": [
    "#look at the breeds of cats\n",
    "df['BreedOriginal'][df['AnimalType_Intake']!='Cat'][df['AnimalType_Intake']!='Dog'].value_counts()[:20]"
   ]
  },
  {
   "cell_type": "markdown",
   "metadata": {},
   "source": [
    "We will now group all other animals into a value called \"Other Animal Breeds\". This is done because cats and dogs are the most frequent animal type and also because other animals are not divided into meaningful breeds in the same way that cats and dogs are. "
   ]
  },
  {
   "cell_type": "code",
   "execution_count": 21,
   "metadata": {},
   "outputs": [],
   "source": [
    "#create variable all animals other than cats and dogs\n",
    "breeds_other_than_cat_or_dog = df[df['AnimalType_Intake']!='Cat'][df['AnimalType_Intake']!='Dog']"
   ]
  },
  {
   "cell_type": "code",
   "execution_count": 22,
   "metadata": {},
   "outputs": [],
   "source": [
    "# group them into the one value\n",
    "breeds_other_than_cat_or_dog['BreedOriginal'] = \"Other Animal Breeds\""
   ]
  },
  {
   "cell_type": "code",
   "execution_count": 23,
   "metadata": {},
   "outputs": [],
   "source": [
    "#update the df\n",
    "df.update(breeds_other_than_cat_or_dog)"
   ]
  },
  {
   "cell_type": "code",
   "execution_count": 24,
   "metadata": {},
   "outputs": [
    {
     "data": {
      "text/plain": [
       "Domestic Shorthair      302\n",
       "Other Dog Breeds        279\n",
       "Chihuahua Shorthair      86\n",
       "Pit Bull                 65\n",
       "Labrador Retriever       63\n",
       "Other Animal Breeds      56\n",
       "Domestic Medium Hair     31\n",
       "German Shepherd          28\n",
       "Siamese                  18\n",
       "Other Cat Breeds         18\n",
       "Boxer                    16\n",
       "Border Collie            13\n",
       "Miniature Poodle         13\n",
       "Domestic Longhair        12\n",
       "Name: BreedOriginal, dtype: int64"
      ]
     },
     "execution_count": 24,
     "metadata": {},
     "output_type": "execute_result"
    }
   ],
   "source": [
    "#view the final values \n",
    "df['BreedOriginal'].value_counts()"
   ]
  },
  {
   "cell_type": "markdown",
   "metadata": {},
   "source": [
    "Now that our we have reduced the cardinality of the breeds, we can replace *Breed_Intake with *BreedOriginal* as *Breed_Intake* is the feature we will work with throughout this assignment. We can remove the temporary features *BreedOriginal* and *Breed_Counts*. "
   ]
  },
  {
   "cell_type": "code",
   "execution_count": 25,
   "metadata": {},
   "outputs": [],
   "source": [
    "df['Breed_Intake']= df['BreedOriginal']"
   ]
  },
  {
   "cell_type": "code",
   "execution_count": 26,
   "metadata": {},
   "outputs": [],
   "source": [
    "df = df.drop(['BreedOriginal', 'Breed_Counts'],1)"
   ]
  },
  {
   "cell_type": "markdown",
   "metadata": {},
   "source": [
    "**Color_Intake high cardinality**:\n",
    "Secondly, it was also found upon review of homework1 that the grouping I performed into 'Light' and 'Dark' could be improved. As with the breeds, we have gone back and created a temporary feature which preserves the orginial values within this feature. We will now use this temporary feature to perform some cleaning and reduce the high cardinality. "
   ]
  },
  {
   "cell_type": "code",
   "execution_count": 27,
   "metadata": {},
   "outputs": [],
   "source": [
    "#create a new dataframe in which we will split the color feature into two features\n",
    "color_df = pd.DataFrame(columns=['firstcolor','secondcolor','ColorOriginal'])"
   ]
  },
  {
   "cell_type": "code",
   "execution_count": 28,
   "metadata": {},
   "outputs": [],
   "source": [
    "#split the Color_Intake feature at the delimeter \"/\"\n",
    "color_df[['firstcolor','secondcolor']] = df['ColorOriginal'].str.split(\"/\",expand=True)"
   ]
  },
  {
   "cell_type": "code",
   "execution_count": 29,
   "metadata": {},
   "outputs": [
    {
     "data": {
      "text/plain": [
       "array(['Torbie', 'White', 'Black', 'Tan', 'Gray', 'Brown Brindle',\n",
       "       'Tricolor', 'Brown', 'Brown Tabby', 'Red', 'Blue', 'Orange Tabby',\n",
       "       'Gray Tabby', 'Chocolate', 'Tortie', 'Black Tabby', 'Calico',\n",
       "       'Blue Tabby', 'Cream', 'Yellow', 'Sable', 'Silver Tabby',\n",
       "       'Flame Point', 'Orange', 'Lynx Point', 'Blue Point', 'Cream Tabby',\n",
       "       'Silver', 'Blue Merle', 'Fawn', 'Buff', 'Brown Tiger',\n",
       "       'Seal Point', 'Blue Tick', 'Gold', 'Red Tick', 'Calico Point',\n",
       "       'Tortie Point', 'Lilac Point', 'Red Merle', 'Pink', 'Brown Merle'],\n",
       "      dtype=object)"
      ]
     },
     "execution_count": 29,
     "metadata": {},
     "output_type": "execute_result"
    }
   ],
   "source": [
    "#check the unique values\n",
    "color_df['firstcolor'].unique()"
   ]
  },
  {
   "cell_type": "code",
   "execution_count": 30,
   "metadata": {},
   "outputs": [],
   "source": [
    "color_df['firstcolor'][color_df.firstcolor.str.contains('Tabby|Tortie|Torbie|Point|Calico|Merle|Tick')] = 'Mixed Pattern'"
   ]
  },
  {
   "cell_type": "code",
   "execution_count": 31,
   "metadata": {},
   "outputs": [],
   "source": [
    "color_df['firstcolor'][color_df.firstcolor.str.contains('Yellow|Cream|Gold|Fawn|Buff')] = 'Light Shades'"
   ]
  },
  {
   "cell_type": "code",
   "execution_count": 32,
   "metadata": {},
   "outputs": [],
   "source": [
    "color_df['firstcolor'][color_df.firstcolor.str.contains('Brown|Chocolate|Sable|Tan')] = 'Brown Shades'"
   ]
  },
  {
   "cell_type": "code",
   "execution_count": 33,
   "metadata": {},
   "outputs": [],
   "source": [
    "color_df['firstcolor'][color_df.firstcolor.str.contains('Silver|Gray')] = 'Grey'"
   ]
  },
  {
   "cell_type": "code",
   "execution_count": 34,
   "metadata": {},
   "outputs": [],
   "source": [
    "color_df['firstcolor'][color_df.firstcolor.str.contains('Mixed Pattern|White|Black|Light colours|Grey|Brown')==0] = 'Other'"
   ]
  },
  {
   "cell_type": "code",
   "execution_count": 35,
   "metadata": {},
   "outputs": [],
   "source": [
    "df['ColorOriginal']=color_df['firstcolor']"
   ]
  },
  {
   "cell_type": "code",
   "execution_count": 36,
   "metadata": {},
   "outputs": [],
   "source": [
    "df['Color_Intake']=df['ColorOriginal']"
   ]
  },
  {
   "cell_type": "code",
   "execution_count": 37,
   "metadata": {},
   "outputs": [],
   "source": [
    "df = df.drop(['ColorOriginal'],1)"
   ]
  },
  {
   "cell_type": "code",
   "execution_count": 38,
   "metadata": {},
   "outputs": [
    {
     "data": {
      "text/html": [
       "<div>\n",
       "<style scoped>\n",
       "    .dataframe tbody tr th:only-of-type {\n",
       "        vertical-align: middle;\n",
       "    }\n",
       "\n",
       "    .dataframe tbody tr th {\n",
       "        vertical-align: top;\n",
       "    }\n",
       "\n",
       "    .dataframe thead th {\n",
       "        text-align: right;\n",
       "    }\n",
       "</style>\n",
       "<table border=\"1\" class=\"dataframe\">\n",
       "  <thead>\n",
       "    <tr style=\"text-align: right;\">\n",
       "      <th></th>\n",
       "      <th>AnimalID</th>\n",
       "      <th>Name_Provided</th>\n",
       "      <th>DateTime_Intake</th>\n",
       "      <th>FoundLocation</th>\n",
       "      <th>IntakeType</th>\n",
       "      <th>IntakeCondition</th>\n",
       "      <th>AnimalType_Intake</th>\n",
       "      <th>SexuponIntake</th>\n",
       "      <th>AgeuponIntake</th>\n",
       "      <th>Breed_Intake</th>\n",
       "      <th>Color_Intake</th>\n",
       "      <th>DateTime_Outcome</th>\n",
       "      <th>DateofBirth</th>\n",
       "      <th>SexuponOutcome</th>\n",
       "      <th>AgeuponOutcome</th>\n",
       "      <th>binary_outcome</th>\n",
       "      <th>SexKnown</th>\n",
       "      <th>CatOrDog</th>\n",
       "      <th>AgeIntake_bins</th>\n",
       "      <th>SickOrInjured</th>\n",
       "    </tr>\n",
       "  </thead>\n",
       "  <tbody>\n",
       "    <tr>\n",
       "      <td>0</td>\n",
       "      <td>A687076</td>\n",
       "      <td>Yes</td>\n",
       "      <td>2014-08-30 17:55:00</td>\n",
       "      <td>Austin (TX)</td>\n",
       "      <td>Stray</td>\n",
       "      <td>Normal</td>\n",
       "      <td>Cat</td>\n",
       "      <td>Intact Female</td>\n",
       "      <td>76.0</td>\n",
       "      <td>Domestic Shorthair</td>\n",
       "      <td>Mixed Pattern</td>\n",
       "      <td>2014-09-05 14:33:00</td>\n",
       "      <td>2014-06-15</td>\n",
       "      <td>Spayed Female</td>\n",
       "      <td>82.0</td>\n",
       "      <td>0.0</td>\n",
       "      <td>1</td>\n",
       "      <td>1</td>\n",
       "      <td>(55.8, 92.0]</td>\n",
       "      <td>0</td>\n",
       "    </tr>\n",
       "    <tr>\n",
       "      <td>1</td>\n",
       "      <td>A685139</td>\n",
       "      <td>No</td>\n",
       "      <td>2014-08-03 11:23:00</td>\n",
       "      <td>Austin (TX)</td>\n",
       "      <td>Stray</td>\n",
       "      <td>Other</td>\n",
       "      <td>Dog</td>\n",
       "      <td>Intact Female</td>\n",
       "      <td>92.0</td>\n",
       "      <td>Other Dog Breeds</td>\n",
       "      <td>White</td>\n",
       "      <td>2014-08-07 18:09:00</td>\n",
       "      <td>2014-05-03</td>\n",
       "      <td>Spayed Female</td>\n",
       "      <td>96.0</td>\n",
       "      <td>0.0</td>\n",
       "      <td>1</td>\n",
       "      <td>1</td>\n",
       "      <td>(55.8, 92.0]</td>\n",
       "      <td>0</td>\n",
       "    </tr>\n",
       "    <tr>\n",
       "      <td>2</td>\n",
       "      <td>A741039</td>\n",
       "      <td>Yes</td>\n",
       "      <td>2016-12-27 11:18:00</td>\n",
       "      <td>Austin (TX)</td>\n",
       "      <td>Stray</td>\n",
       "      <td>Normal</td>\n",
       "      <td>Dog</td>\n",
       "      <td>Intact Male</td>\n",
       "      <td>366.0</td>\n",
       "      <td>Other Dog Breeds</td>\n",
       "      <td>Black</td>\n",
       "      <td>2017-01-01 15:27:00</td>\n",
       "      <td>2015-12-27</td>\n",
       "      <td>Intact Male</td>\n",
       "      <td>371.0</td>\n",
       "      <td>0.0</td>\n",
       "      <td>1</td>\n",
       "      <td>1</td>\n",
       "      <td>(365.0, 427.6]</td>\n",
       "      <td>0</td>\n",
       "    </tr>\n",
       "    <tr>\n",
       "      <td>3</td>\n",
       "      <td>A759166</td>\n",
       "      <td>Yes</td>\n",
       "      <td>2017-09-28 11:03:00</td>\n",
       "      <td>Austin (TX)</td>\n",
       "      <td>Stray</td>\n",
       "      <td>Normal</td>\n",
       "      <td>Cat</td>\n",
       "      <td>Intact Male</td>\n",
       "      <td>62.0</td>\n",
       "      <td>Domestic Shorthair</td>\n",
       "      <td>Black</td>\n",
       "      <td>2017-11-04 18:11:00</td>\n",
       "      <td>2017-07-28</td>\n",
       "      <td>Neutered Male</td>\n",
       "      <td>99.0</td>\n",
       "      <td>0.0</td>\n",
       "      <td>1</td>\n",
       "      <td>1</td>\n",
       "      <td>(55.8, 92.0]</td>\n",
       "      <td>0</td>\n",
       "    </tr>\n",
       "    <tr>\n",
       "      <td>4</td>\n",
       "      <td>A696479</td>\n",
       "      <td>Yes</td>\n",
       "      <td>2015-02-05 11:51:00</td>\n",
       "      <td>Travis (TX)</td>\n",
       "      <td>Stray</td>\n",
       "      <td>Normal</td>\n",
       "      <td>Cat</td>\n",
       "      <td>Intact Male</td>\n",
       "      <td>365.0</td>\n",
       "      <td>Domestic Medium Hair</td>\n",
       "      <td>Black</td>\n",
       "      <td>2015-02-15 11:39:00</td>\n",
       "      <td>2014-02-05</td>\n",
       "      <td>Neutered Male</td>\n",
       "      <td>375.0</td>\n",
       "      <td>0.0</td>\n",
       "      <td>1</td>\n",
       "      <td>1</td>\n",
       "      <td>(212.0, 365.0]</td>\n",
       "      <td>0</td>\n",
       "    </tr>\n",
       "  </tbody>\n",
       "</table>\n",
       "</div>"
      ],
      "text/plain": [
       "  AnimalID Name_Provided     DateTime_Intake FoundLocation IntakeType  \\\n",
       "0  A687076           Yes 2014-08-30 17:55:00   Austin (TX)      Stray   \n",
       "1  A685139            No 2014-08-03 11:23:00   Austin (TX)      Stray   \n",
       "2  A741039           Yes 2016-12-27 11:18:00   Austin (TX)      Stray   \n",
       "3  A759166           Yes 2017-09-28 11:03:00   Austin (TX)      Stray   \n",
       "4  A696479           Yes 2015-02-05 11:51:00   Travis (TX)      Stray   \n",
       "\n",
       "  IntakeCondition AnimalType_Intake  SexuponIntake  AgeuponIntake  \\\n",
       "0          Normal               Cat  Intact Female           76.0   \n",
       "1           Other               Dog  Intact Female           92.0   \n",
       "2          Normal               Dog    Intact Male          366.0   \n",
       "3          Normal               Cat    Intact Male           62.0   \n",
       "4          Normal               Cat    Intact Male          365.0   \n",
       "\n",
       "           Breed_Intake   Color_Intake    DateTime_Outcome DateofBirth  \\\n",
       "0    Domestic Shorthair  Mixed Pattern 2014-09-05 14:33:00  2014-06-15   \n",
       "1      Other Dog Breeds          White 2014-08-07 18:09:00  2014-05-03   \n",
       "2      Other Dog Breeds          Black 2017-01-01 15:27:00  2015-12-27   \n",
       "3    Domestic Shorthair          Black 2017-11-04 18:11:00  2017-07-28   \n",
       "4  Domestic Medium Hair          Black 2015-02-15 11:39:00  2014-02-05   \n",
       "\n",
       "  SexuponOutcome  AgeuponOutcome  binary_outcome SexKnown CatOrDog  \\\n",
       "0  Spayed Female            82.0             0.0        1        1   \n",
       "1  Spayed Female            96.0             0.0        1        1   \n",
       "2    Intact Male           371.0             0.0        1        1   \n",
       "3  Neutered Male            99.0             0.0        1        1   \n",
       "4  Neutered Male           375.0             0.0        1        1   \n",
       "\n",
       "   AgeIntake_bins SickOrInjured  \n",
       "0    (55.8, 92.0]             0  \n",
       "1    (55.8, 92.0]             0  \n",
       "2  (365.0, 427.6]             0  \n",
       "3    (55.8, 92.0]             0  \n",
       "4  (212.0, 365.0]             0  "
      ]
     },
     "execution_count": 38,
     "metadata": {},
     "output_type": "execute_result"
    }
   ],
   "source": [
    "df.head(5)"
   ]
  },
  {
   "cell_type": "markdown",
   "metadata": {},
   "source": [
    "Next, for the features *DateTime_Intake* and *DateTime_Outcome* some data integrity issues were dealt with in homework 1. Furthermore, in homework 1, some analysis was done of the month, day and hours of intake in a temporary dataframe, however, it was not deemed necessary at the time to split these features into categorical features representing the year, month and day. Before proceeding with predictive modelling we will now carry out this step. This step will make it easier to work with the high cardinality of the datetime features and it will convert them to a format which is easier to compare to the binary outcome and to work with for predictive modelling. "
   ]
  },
  {
   "cell_type": "markdown",
   "metadata": {},
   "source": [
    "We begin this step by converting the feature *DateTime_Intake* into year, month and day features. "
   ]
  },
  {
   "cell_type": "code",
   "execution_count": 39,
   "metadata": {},
   "outputs": [],
   "source": [
    "#extract the year, month and day from 'DateTime_Intake'\n",
    "df['Intake_Year']=df['DateTime_Intake'].dt.year\n",
    "df['Intake_Month']=df['DateTime_Intake'].dt.month\n",
    "df['Intake_Day']=df['DateTime_Intake'].dt.day_name()"
   ]
  },
  {
   "cell_type": "markdown",
   "metadata": {},
   "source": [
    "We will also look at the hour of intake as we believe this could be interesting. "
   ]
  },
  {
   "cell_type": "code",
   "execution_count": 40,
   "metadata": {},
   "outputs": [],
   "source": [
    "df['Intake_Hour']=df['DateTime_Intake'].dt.hour\n",
    "df['Intake_Hour_bins']=pd.cut(df['Intake_Hour'],bins=[0,6,12,18,24], labels=['Early_Morning','Late_Morning','Afternoon','Evening/Night'])"
   ]
  },
  {
   "cell_type": "code",
   "execution_count": 41,
   "metadata": {},
   "outputs": [
    {
     "data": {
      "text/plain": [
       "Afternoon        579\n",
       "Late_Morning     382\n",
       "Evening/Night     27\n",
       "Early_Morning      8\n",
       "Name: Intake_Hour_bins, dtype: int64"
      ]
     },
     "execution_count": 41,
     "metadata": {},
     "output_type": "execute_result"
    }
   ],
   "source": [
    "df['Intake_Hour_bins'].value_counts()"
   ]
  },
  {
   "cell_type": "markdown",
   "metadata": {},
   "source": [
    "We will now convert *DateTime_Outcome* into year, month and day features. "
   ]
  },
  {
   "cell_type": "code",
   "execution_count": 42,
   "metadata": {},
   "outputs": [],
   "source": [
    "#extract the year, month and day from 'DateTime_Outcome'\n",
    "df['Outcome_Year']=df['DateTime_Outcome'].dt.year\n",
    "df['Outcome_Month']=df['DateTime_Outcome'].dt.month\n",
    "df['Outcome_Day']=df['DateTime_Outcome'].dt.day_name()\n",
    "# df['Outcome_Hour']=df['DateTime_Outcome'].dt.hour"
   ]
  },
  {
   "cell_type": "markdown",
   "metadata": {},
   "source": [
    "We will now convert these new features to type 'category'."
   ]
  },
  {
   "cell_type": "code",
   "execution_count": 43,
   "metadata": {},
   "outputs": [],
   "source": [
    "#convert new features to category type\n",
    "new_date_features = ['Intake_Year','Intake_Month', 'Intake_Day', 'Intake_Hour', 'Intake_Hour_bins', 'Outcome_Year', 'Outcome_Month', 'Outcome_Day']\n",
    "for column in new_date_features: \n",
    "    df[column] = df[column].astype('category')\n",
    "\n",
    "#convert all objects to categories\n",
    "object_columns = df.select_dtypes(['object']).columns\n",
    "for column in object_columns:\n",
    "    df[column] = df[column].astype('category')"
   ]
  },
  {
   "cell_type": "code",
   "execution_count": 44,
   "metadata": {},
   "outputs": [
    {
     "data": {
      "text/plain": [
       "AnimalID                   category\n",
       "Name_Provided              category\n",
       "DateTime_Intake      datetime64[ns]\n",
       "FoundLocation              category\n",
       "IntakeType                 category\n",
       "IntakeCondition            category\n",
       "AnimalType_Intake          category\n",
       "SexuponIntake              category\n",
       "AgeuponIntake               float64\n",
       "Breed_Intake               category\n",
       "Color_Intake               category\n",
       "DateTime_Outcome     datetime64[ns]\n",
       "DateofBirth          datetime64[ns]\n",
       "SexuponOutcome             category\n",
       "AgeuponOutcome              float64\n",
       "binary_outcome              float64\n",
       "SexKnown                   category\n",
       "CatOrDog                   category\n",
       "AgeIntake_bins             category\n",
       "SickOrInjured              category\n",
       "Intake_Year                category\n",
       "Intake_Month               category\n",
       "Intake_Day                 category\n",
       "Intake_Hour                category\n",
       "Intake_Hour_bins           category\n",
       "Outcome_Year               category\n",
       "Outcome_Month              category\n",
       "Outcome_Day                category\n",
       "dtype: object"
      ]
     },
     "execution_count": 44,
     "metadata": {},
     "output_type": "execute_result"
    }
   ],
   "source": [
    "df.dtypes"
   ]
  },
  {
   "cell_type": "markdown",
   "metadata": {},
   "source": [
    "The features *DateTime_Intake* and *DateTime_Outcome* were of type datetime64. The new year, month and day features extracted from these have a much lower cardinality and are in a format that is much more useful for predictive modelling. \n"
   ]
  },
  {
   "cell_type": "markdown",
   "metadata": {},
   "source": [
    "Finally, in homework 1 we did indeed explore the length of stay of animals in the shelter when carrying out data integrity tests. However, we did not make a new feature to represent this information and investigate its relationship with the binary outcome. As a result, we will do that now by subtracting the date of intake from the date of outcome. "
   ]
  },
  {
   "cell_type": "code",
   "execution_count": 45,
   "metadata": {},
   "outputs": [],
   "source": [
    "#create new feature length of stay\n",
    "df['LengthOfStay'] = (df['DateTime_Outcome'] - df['DateTime_Intake']).dt.days"
   ]
  },
  {
   "cell_type": "markdown",
   "metadata": {},
   "source": [
    "We will plot this new feature against the binary outcome shortly.\n",
    "\n",
    "We can now drop the original features *DateTime_Intake* and *DateTime_Outcome* as we have extracted all important information and no information will be lost. "
   ]
  },
  {
   "cell_type": "code",
   "execution_count": 46,
   "metadata": {},
   "outputs": [],
   "source": [
    "#drop the features 'DateTime_Intake' and'DateTime_Outcome'\n",
    "df = df.drop('DateTime_Intake', 1)\n",
    "df = df.drop('DateTime_Outcome', 1)"
   ]
  },
  {
   "cell_type": "markdown",
   "metadata": {},
   "source": [
    "The next step in our further cleaning is to drop the feature 'AnimalID'as this is only needed for reference purposes and is not helpful in predictive modelling. "
   ]
  },
  {
   "cell_type": "code",
   "execution_count": 47,
   "metadata": {},
   "outputs": [],
   "source": [
    "#drop 'AnimalID'\n",
    "df = df.drop('AnimalID', 1)"
   ]
  },
  {
   "cell_type": "markdown",
   "metadata": {},
   "source": [
    "Missing values were dealt with in homework1. However, we will now check to ensure that there are currently no missing values in our dataset. "
   ]
  },
  {
   "cell_type": "code",
   "execution_count": 48,
   "metadata": {},
   "outputs": [
    {
     "data": {
      "text/plain": [
       "Name_Provided        0\n",
       "FoundLocation        0\n",
       "IntakeType           0\n",
       "IntakeCondition      0\n",
       "AnimalType_Intake    0\n",
       "SexuponIntake        0\n",
       "AgeuponIntake        0\n",
       "Breed_Intake         0\n",
       "Color_Intake         0\n",
       "DateofBirth          0\n",
       "SexuponOutcome       0\n",
       "AgeuponOutcome       0\n",
       "binary_outcome       0\n",
       "SexKnown             0\n",
       "CatOrDog             0\n",
       "AgeIntake_bins       0\n",
       "SickOrInjured        0\n",
       "Intake_Year          0\n",
       "Intake_Month         0\n",
       "Intake_Day           0\n",
       "Intake_Hour          0\n",
       "Intake_Hour_bins     4\n",
       "Outcome_Year         0\n",
       "Outcome_Month        0\n",
       "Outcome_Day          0\n",
       "LengthOfStay         0\n",
       "dtype: int64"
      ]
     },
     "execution_count": 48,
     "metadata": {},
     "output_type": "execute_result"
    }
   ],
   "source": [
    "df.isna().sum()"
   ]
  },
  {
   "cell_type": "markdown",
   "metadata": {},
   "source": [
    "We can see that there are no missing values. We will now check the datatypes again before proceeding with plots."
   ]
  },
  {
   "cell_type": "code",
   "execution_count": 49,
   "metadata": {},
   "outputs": [
    {
     "data": {
      "text/plain": [
       "Name_Provided              category\n",
       "FoundLocation              category\n",
       "IntakeType                 category\n",
       "IntakeCondition            category\n",
       "AnimalType_Intake          category\n",
       "SexuponIntake              category\n",
       "AgeuponIntake               float64\n",
       "Breed_Intake               category\n",
       "Color_Intake               category\n",
       "DateofBirth          datetime64[ns]\n",
       "SexuponOutcome             category\n",
       "AgeuponOutcome              float64\n",
       "binary_outcome              float64\n",
       "SexKnown                   category\n",
       "CatOrDog                   category\n",
       "AgeIntake_bins             category\n",
       "SickOrInjured              category\n",
       "Intake_Year                category\n",
       "Intake_Month               category\n",
       "Intake_Day                 category\n",
       "Intake_Hour                category\n",
       "Intake_Hour_bins           category\n",
       "Outcome_Year               category\n",
       "Outcome_Month              category\n",
       "Outcome_Day                category\n",
       "LengthOfStay                  int64\n",
       "dtype: object"
      ]
     },
     "execution_count": 49,
     "metadata": {},
     "output_type": "execute_result"
    }
   ],
   "source": [
    "df.dtypes"
   ]
  },
  {
   "cell_type": "markdown",
   "metadata": {},
   "source": [
    "We will now setup our categorical and continuous features. These will be needed for plotting and for the creation of dummies later. "
   ]
  },
  {
   "cell_type": "code",
   "execution_count": 50,
   "metadata": {},
   "outputs": [],
   "source": [
    "categorical_features = df.select_dtypes(['category']).columns\n",
    "continuous_features = ['AgeuponIntake', 'AgeuponOutcome', 'LengthOfStay']\n",
    "date_features = ['DateofBirth']"
   ]
  },
  {
   "cell_type": "markdown",
   "metadata": {},
   "source": [
    "### (1.1) Randomly shuffle the rows of your dataset and split the dataset into two datasets: 70% training and 30% test. Keep the test set aside. "
   ]
  },
  {
   "cell_type": "markdown",
   "metadata": {},
   "source": [
    "Before proceeding with splitting the dataset we weill first take a look at the ratio of different levels of the target categorical feature. "
   ]
  },
  {
   "cell_type": "code",
   "execution_count": 51,
   "metadata": {},
   "outputs": [
    {
     "data": {
      "text/plain": [
       "0.0    920\n",
       "1.0     80\n",
       "Name: binary_outcome, dtype: int64"
      ]
     },
     "execution_count": 51,
     "metadata": {},
     "output_type": "execute_result"
    }
   ],
   "source": [
    "df['binary_outcome'].value_counts()"
   ]
  },
  {
   "cell_type": "markdown",
   "metadata": {},
   "source": [
    "Sklearn train_test_split randomly shuffles and samples the dataset as per the test size given as a parameter. This random sampling is often a good choice in order to avoid introducing bias. However, as explained in section 3.6.3 of the course text book 'Fundamentals of Machine Learning for Predictive Data Analytics', since only small proportion of the instances in our dataset are of class 1, there is a chance if we use random sampling these instances will be omitted or underrepresented. \n",
    "\n",
    "For this reason, we will use stratified sampling instead of random sampling. This will ensure that the relative frequencies of the two levels of our target feature *binary_outcome* are maintained in the sampled dataset. "
   ]
  },
  {
   "cell_type": "markdown",
   "metadata": {},
   "source": [
    "**The dataset will now be split into two separate datasets - 70% training and 30% test using stratified sampling**\n",
    "- We set the target feature \"y\" to be \"binary_outcome\"\n",
    "- We feature \"x\" to be all remaining features in the dataset. The feature \"binary_outcome\" will be excluded."
   ]
  },
  {
   "cell_type": "code",
   "execution_count": 52,
   "metadata": {},
   "outputs": [],
   "source": [
    "y = df.binary_outcome\n",
    "# y = pd.DataFrame(df[\"binary_outcome\"])\n",
    "X = df.drop([\"binary_outcome\"],1)"
   ]
  },
  {
   "cell_type": "markdown",
   "metadata": {},
   "source": [
    "We will now split the dataset. The parameter 'test-size' will determine the size of the training and test datasets. We will set this to 0.3 in order to split into 70% training and 30% test. The parameter 'random_state' sets a seed to the train_test_split random generator. We will set this parameter to 1 to ensure that the train/test split is the same each time this code is executed.  "
   ]
  },
  {
   "cell_type": "code",
   "execution_count": 53,
   "metadata": {},
   "outputs": [
    {
     "name": "stdout",
     "output_type": "stream",
     "text": [
      "original range is:  1000\n",
      "training range (70%):\t rows 0 to 700\n",
      "test range (30%): \t rows 700 to 1000\n",
      "\n",
      "Target feature binary_outcome total dataset counts:\n",
      "\n",
      " 0.0    920\n",
      "1.0     80\n",
      "Name: binary_outcome, dtype: int64\n",
      "\n",
      "Training data binary_outcome counts:\n",
      " 0.0    644\n",
      "1.0     56\n",
      "Name: binary_outcome, dtype: int64\n",
      "\n",
      "Test data binary_outcome counts:\n",
      " 0.0    276\n",
      "1.0     24\n",
      "Name: binary_outcome, dtype: int64\n"
     ]
    }
   ],
   "source": [
    "# This code was provided in lab 7.\n",
    "# Split the dataset into two datasets: 70% training and 30% test\n",
    "X_train, X_test, y_train, y_test = train_test_split(X, y, test_size=0.3,random_state=1, stratify=y)\n",
    "\n",
    "print(\"original range is: \",df.shape[0])\n",
    "print(\"training range (70%):\\t rows 0 to\", round(X_train.shape[0]))\n",
    "print(\"test range (30%): \\t rows\", round(X_train.shape[0]), \"to\", round(X_train.shape[0]) + X_test.shape[0])\n",
    "\n",
    "print(\"\\nTarget feature binary_outcome total dataset counts:\\n\\n\", y.value_counts())\n",
    "print(\"\\nTraining data binary_outcome counts:\\n\", y_train.value_counts())\n",
    "print(\"\\nTest data binary_outcome counts:\\n\", y_test.value_counts())"
   ]
  },
  {
   "cell_type": "markdown",
   "metadata": {},
   "source": [
    "We can see from the output printed above that class 1 accounts for 8% of the instances in the full dataset and in the training and test splits. Thus, the train/test samples have a distribution representative of the full sample for class 0 and class 1 of the target feature *binary_outcome*. We are now ready to plot the features. "
   ]
  },
  {
   "cell_type": "markdown",
   "metadata": {},
   "source": [
    "#### (1.2) On the training set - For each continuous feature, plot its interaction with the target feature. Discuss what you observe from these plots. Choose a subset of continuous features you find promising (if any)."
   ]
  },
  {
   "cell_type": "markdown",
   "metadata": {},
   "source": [
    "- All plots will be generated using on the training subset created above - X_train, y_train. The testing subset will be left aside.\n",
    "- We will use the lists of categorical features, continuous features and date_time features created above. "
   ]
  },
  {
   "cell_type": "markdown",
   "metadata": {},
   "source": [
    "#### 1.2.1 Plot correlations between the continous features."
   ]
  },
  {
   "cell_type": "code",
   "execution_count": 54,
   "metadata": {},
   "outputs": [
    {
     "data": {
      "text/plain": [
       "(array([0.5, 1.5, 2.5]), <a list of 3 Text xticklabel objects>)"
      ]
     },
     "execution_count": 54,
     "metadata": {},
     "output_type": "execute_result"
    },
    {
     "data": {
      "image/png": "[encoded data removed]",
      "text/plain": [
       "<Figure size 1440x1440 with 2 Axes>"
      ]
     },
     "metadata": {},
     "output_type": "display_data"
    }
   ],
   "source": [
    "# Correlation matrix using code found on https://stanford.edu/~mwaskom/software/seaborn/examples/many_pairwise_correlations.html\n",
    "sns.set(style=\"white\")\n",
    "\n",
    "# Calculate correlation of all pairs of continuous features\n",
    "corr = X_train[continuous_features].corr()\n",
    "\n",
    "# Generate a mask for the upper triangle\n",
    "mask = np.zeros_like(corr, dtype=np.bool)\n",
    "mask[np.triu_indices_from(mask)] = True\n",
    "\n",
    "# Set up the matplotlib figure\n",
    "f, ax = plt.subplots(figsize=(20, 20))\n",
    "\n",
    "# Generate a custom colormap - blue and red\n",
    "cmap = sns.diverging_palette(220, 10, as_cmap=True)\n",
    "\n",
    "# Draw the heatmap with the mask and correct aspect ratio\n",
    "sns.heatmap(corr, annot=True, mask=mask, cmap=cmap, vmax=1, vmin=-1,\n",
    "            square=True, xticklabels=True, yticklabels=True,\n",
    "            linewidths=.5, cbar_kws={\"shrink\": .5}, ax=ax)\n",
    "plt.yticks(rotation = 0)\n",
    "plt.xticks(rotation = 90)"
   ]
  },
  {
   "cell_type": "markdown",
   "metadata": {},
   "source": [
    "We can see the following in the above correlation matrix: \n",
    "-  *AgeUponIntake* and *AgeUponOutcome* have an extremely high correlation of 1. This is an expected and indicates that only one of these features would need to be kept. \n",
    "-  Both *AgeUponIntake* and *AgeUponOutcome* are very weakly correlated with length of stay, with values of 0.059 and 0.15, respectively. "
   ]
  },
  {
   "cell_type": "markdown",
   "metadata": {},
   "source": [
    "#### 1.2.2 Plot correlation between continous features and target feature. "
   ]
  },
  {
   "cell_type": "markdown",
   "metadata": {},
   "source": [
    "- We will now loop over both continuous features and plot them against the target *binary_outcome*. \n",
    "- We will discuss our findings from these plots and choose a subset (if any) of the feature(s) which seem promising. \n",
    "- As we left the target feature as type int64 earlier, we do not need to convert it now for these scatter plots. "
   ]
  },
  {
   "cell_type": "code",
   "execution_count": 55,
   "metadata": {},
   "outputs": [
    {
     "name": "stderr",
     "output_type": "stream",
     "text": [
      "'c' argument looks like a single numeric RGB or RGBA sequence, which should be avoided as value-mapping will have precedence in case its length matches with 'x' & 'y'.  Please use a 2-D array with a single row if you really want to specify the same RGB or RGBA value for all points.\n",
      "'c' argument looks like a single numeric RGB or RGBA sequence, which should be avoided as value-mapping will have precedence in case its length matches with 'x' & 'y'.  Please use a 2-D array with a single row if you really want to specify the same RGB or RGBA value for all points.\n",
      "'c' argument looks like a single numeric RGB or RGBA sequence, which should be avoided as value-mapping will have precedence in case its length matches with 'x' & 'y'.  Please use a 2-D array with a single row if you really want to specify the same RGB or RGBA value for all points.\n"
     ]
    },
    {
     "data": {
      "text/html": [
       "<div>\n",
       "<style scoped>\n",
       "    .dataframe tbody tr th:only-of-type {\n",
       "        vertical-align: middle;\n",
       "    }\n",
       "\n",
       "    .dataframe tbody tr th {\n",
       "        vertical-align: top;\n",
       "    }\n",
       "\n",
       "    .dataframe thead th {\n",
       "        text-align: right;\n",
       "    }\n",
       "</style>\n",
       "<table border=\"1\" class=\"dataframe\">\n",
       "  <thead>\n",
       "    <tr style=\"text-align: right;\">\n",
       "      <th></th>\n",
       "      <th>binary_outcome</th>\n",
       "    </tr>\n",
       "  </thead>\n",
       "  <tbody>\n",
       "    <tr>\n",
       "      <td>AgeuponIntake</td>\n",
       "      <td>0.059184</td>\n",
       "    </tr>\n",
       "    <tr>\n",
       "      <td>AgeuponOutcome</td>\n",
       "      <td>0.054104</td>\n",
       "    </tr>\n",
       "    <tr>\n",
       "      <td>LengthOfStay</td>\n",
       "      <td>-0.051748</td>\n",
       "    </tr>\n",
       "  </tbody>\n",
       "</table>\n",
       "</div>"
      ],
      "text/plain": [
       "                binary_outcome\n",
       "AgeuponIntake         0.059184\n",
       "AgeuponOutcome        0.054104\n",
       "LengthOfStay         -0.051748"
      ]
     },
     "execution_count": 55,
     "metadata": {},
     "output_type": "execute_result"
    },
    {
     "data": {
      "image/png": "[encoded data removed]",
      "text/plain": [
       "<Figure size 432x288 with 1 Axes>"
      ]
     },
     "metadata": {},
     "output_type": "display_data"
    },
    {
     "data": {
      "image/png": "[encoded data removed]",
      "text/plain": [
       "<Figure size 432x288 with 1 Axes>"
      ]
     },
     "metadata": {},
     "output_type": "display_data"
    },
    {
     "data": {
      "image/png": "[encoded data removed]",
      "text/plain": [
       "<Figure size 432x288 with 1 Axes>"
      ]
     },
     "metadata": {},
     "output_type": "display_data"
    }
   ],
   "source": [
    "# dict to hold correlation values \n",
    "corr_dict = {}\n",
    "\n",
    "# plot pairwise interaction between all continuous features and target\n",
    "for column in X_train[continuous_features]:\n",
    "    # create temp df to merge column and target\n",
    "    df_temp = pd.concat([X_train[column], y_train], axis=1)\n",
    "    # store correlation in variable\n",
    "    correlation = df_temp[[column, \"binary_outcome\"]].corr().values[0,1]\n",
    "    # plot the column and tartget feature\n",
    "    df_temp.plot(kind='scatter', x=column, y=\"binary_outcome\", label=\"%.3f\" % correlation)\n",
    "    # add correlation to dict\n",
    "    corr_dict[column] = correlation\n",
    "\n",
    "# dataframe holding sorted correlation values to aid in interpreting results\n",
    "corr_df = pd.DataFrame.from_dict(corr_dict, orient='index', columns=['binary_outcome']).sort_values('binary_outcome', ascending=False)\n",
    "corr_df"
   ]
  },
  {
   "cell_type": "markdown",
   "metadata": {},
   "source": [
    "#### 1.2.2 Interpretation of the results\n",
    "\n",
    "- We can see that there is no clearly defined correlation between either feature and the target feature.\n",
    "- The result is surprising as it was expected that the age of an animal would have an effect on its outcome. \n",
    "- However, this result is perhaps explained by the large range of ages and the variety of animals which the ages represent. \n",
    "- The sorted correlation dataframes above the plots give an even clearer indication of the results. We can see that the correlation between *AgeUponIntake* and the target feature is 0.059 while the correlation between *AgeUponOutcome* and the target feature is 0.054.\n",
    "- It must be noted however, that as described in section 3.6.1 of the FMLPD course textbook, continuous features that cover very different ranges should be normalised. As we are dealing with the ages of many different species of animals, normalisation would cause these two continous features to fall within a specified range while maintaining the relative differences between the values for the feature. In other words, adding a normalisation step would better represent the different between an old dog and an old racoon, for example. \n",
    "- At this stage in the assignment however, we are choosing the leave the ages at their absolute values. Later in the assignment we will have the option to implement normalisation and make a comparision.\n",
    "- The correlation between *lengthOfStay* and the outcome is -0.052. This feature will be dropped as these results show that it is likely not an indicator of the binary outcome. \n",
    "- As a result, at this stage we will drop these two features as they do not look like good predictors of the target outcome. "
   ]
  },
  {
   "cell_type": "markdown",
   "metadata": {},
   "source": [
    "## TODO Investigating whether to normalise ages........."
   ]
  },
  {
   "cell_type": "code",
   "execution_count": 56,
   "metadata": {},
   "outputs": [],
   "source": [
    "# dict to hold correlation values \n",
    "# corr_dict = {}\n",
    "\n",
    "# # plot pairwise interaction between all continuous features and target\n",
    "# for column in X_train[X_train[\"AnimalType_Intake\"]==\"Cat\"][continuous_features]:\n",
    "#     # create temp df to merge column and target\n",
    "#     df_temp = pd.concat([X_train[X_train[\"AnimalType_Intake\"]==\"Cat\"][column], y_train], axis=1)\n",
    "#     # store correlation in variable\n",
    "#     correlation = df_temp[[column, \"binary_outcome\"]].corr().values[0,1]\n",
    "#     # plot the column and tartget feature\n",
    "#     df_temp.plot(kind='scatter', x=column, y=\"binary_outcome\", label=\"%.3f\" % correlation)\n",
    "#     # add correlation to dict\n",
    "#     corr_dict[column] = correlation\n",
    "\n",
    "# # dataframe holding sorted correlation values to aid in interpreting results\n",
    "# corr_df = pd.DataFrame.from_dict(corr_dict, orient='index', columns=['binary_outcome']).sort_values('binary_outcome', ascending=False)\n",
    "# corr_df"
   ]
  },
  {
   "cell_type": "markdown",
   "metadata": {},
   "source": [
    "For now we will label the two continuous features as ```low_correlation_continuous_features``` and will remove them after analysing the categorical features. "
   ]
  },
  {
   "cell_type": "code",
   "execution_count": 57,
   "metadata": {},
   "outputs": [],
   "source": [
    "low_correlation_continuous_features = ['AgeuponIntake', 'AgeuponOutcome', 'LengthOfStay']"
   ]
  },
  {
   "cell_type": "markdown",
   "metadata": {},
   "source": [
    "#### 1.2.3 Plot interaction between categorical features and target feature.\n",
    "\n",
    "- We will now plot a pairwise interaction between each categorical feature and the target feature. \n",
    "- We will discuss which features seem to be better at predicting the target feature and will choose a subset of features we find promising.\n",
    "- As with the plots of continuous features above, only the training dataset will be used. \n",
    "- To create these plots we will work with the variable *categorical_features* created above. \n",
    "- We will begin by converting the target feature to a categorical type as this is required for these plots. "
   ]
  },
  {
   "cell_type": "code",
   "execution_count": 58,
   "metadata": {},
   "outputs": [],
   "source": [
    "# for the comparison we will convert the target back to categorical\n",
    "y_train = y_train.astype(\"category\")"
   ]
  },
  {
   "cell_type": "code",
   "execution_count": 59,
   "metadata": {},
   "outputs": [
    {
     "name": "stdout",
     "output_type": "stream",
     "text": [
      "\n",
      " Name_Provided\n",
      "Index \t Count\n",
      "No \t 212\n",
      "Yes \t 488\n",
      "\n",
      " FoundLocation\n",
      "Index \t Count\n",
      "Austin (TX) \t 575\n",
      "Travis (TX) \t 63\n",
      "Other \t 5\n",
      "Outside Jurisdiction \t 6\n",
      "Manor (TX) \t 15\n",
      "Pflugerville (TX) \t 13\n",
      "Del Valle (TX) \t 23\n",
      "\n",
      " IntakeType\n",
      "Index \t Count\n",
      "Stray \t 495\n",
      "Owner Surrender \t 133\n",
      "Public Assist \t 48\n",
      "Wildlife \t 23\n",
      "Euthanasia Request \t 1\n",
      "\n",
      " IntakeCondition\n",
      "Index \t Count\n",
      "Normal \t 622\n",
      "Injured \t 33\n",
      "Sick \t 30\n",
      "Other \t 1\n",
      "Nursing \t 14\n",
      "\n",
      " AnimalType_Intake\n",
      "Index \t Count\n",
      "Cat \t 269\n",
      "Dog \t 393\n",
      "Bat \t 17\n",
      "Other \t 16\n",
      "Bird \t 5\n",
      "\n",
      " SexuponIntake\n",
      "Index \t Count\n",
      "Intact Female \t 219\n",
      "Neutered Male \t 99\n",
      "Intact Male \t 236\n",
      "Spayed Female \t 86\n",
      "Unknown \t 60\n",
      "\n",
      " Breed_Intake\n",
      "Index \t Count\n",
      "Domestic Shorthair \t 217\n",
      "Domestic Longhair \t 9\n",
      "Pit Bull \t 49\n",
      "Other Dog Breeds \t 187\n",
      "Labrador Retriever \t 45\n",
      "Other Animal Breeds \t 38\n",
      "Border Collie \t 8\n",
      "Miniature Poodle \t 10\n",
      "Chihuahua Shorthair \t 60\n",
      "Other Cat Breeds \t 12\n",
      "Domestic Medium Hair \t 22\n",
      "German Shepherd \t 22\n",
      "Boxer \t 12\n",
      "Siamese \t 9\n",
      "\n",
      " Color_Intake\n",
      "Index \t Count\n",
      "Mixed Pattern \t 167\n",
      "White \t 84\n",
      "Brown Shades \t 165\n",
      "Black \t 171\n",
      "Other \t 101\n",
      "Grey \t 12\n",
      "\n",
      " SexuponOutcome\n",
      "Index \t Count\n",
      "Intact Female \t 79\n",
      "Spayed Female \t 226\n",
      "Neutered Male \t 254\n",
      "Intact Male \t 81\n",
      "Unknown \t 60\n",
      "\n",
      " SexKnown\n",
      "Index \t Count\n",
      "1 \t 640\n",
      "0 \t 60\n",
      "\n",
      " CatOrDog\n",
      "Index \t Count\n",
      "1 \t 662\n",
      "0 \t 38\n",
      "\n",
      " AgeIntake_bins\n",
      "Index \t Count\n",
      "(26.9, 55.8] \t 71\n",
      "(-0.001, 26.9] \t 67\n",
      "(730.0, 1096.0] \t 79\n",
      "(55.8, 92.0] \t 78\n",
      "(1096.0, 2191.0] \t 54\n",
      "(2191.0, 7305.0] \t 72\n",
      "(365.0, 427.6] \t 22\n",
      "(92.0, 212.0] \t 69\n",
      "(212.0, 365.0] \t 118\n",
      "(427.6, 730.0] \t 70\n",
      "\n",
      " SickOrInjured\n",
      "Index \t Count\n",
      "0 \t 637\n",
      "1 \t 63\n",
      "\n",
      " Intake_Year\n",
      "Index \t Count\n",
      "2019 \t 125\n",
      "2018 \t 113\n",
      "2014 \t 106\n",
      "2015 \t 124\n",
      "2017 \t 91\n",
      "2016 \t 106\n",
      "2013 \t 28\n",
      "2020 \t 7\n",
      "\n",
      " Intake_Month\n",
      "Index \t Count\n",
      "11 \t 63\n",
      "5 \t 68\n",
      "4 \t 58\n",
      "9 \t 73\n",
      "7 \t 64\n",
      "8 \t 50\n",
      "6 \t 62\n",
      "3 \t 52\n",
      "2 \t 39\n",
      "12 \t 61\n",
      "10 \t 69\n",
      "1 \t 41\n",
      "\n",
      " Intake_Day\n",
      "Index \t Count\n",
      "Wednesday \t 100\n",
      "Tuesday \t 103\n",
      "Thursday \t 98\n",
      "Monday \t 98\n",
      "Friday \t 98\n",
      "Saturday \t 103\n",
      "Sunday \t 100\n",
      "\n",
      " Intake_Hour\n",
      "Index \t Count\n",
      "11 \t 110\n",
      "17 \t 63\n",
      "12 \t 101\n",
      "13 \t 89\n",
      "14 \t 64\n",
      "2 \t 1\n",
      "18 \t 46\n",
      "16 \t 61\n",
      "15 \t 69\n",
      "8 \t 6\n",
      "10 \t 35\n",
      "9 \t 17\n",
      "7 \t 12\n",
      "21 \t 4\n",
      "6 \t 3\n",
      "0 \t 4\n",
      "20 \t 1\n",
      "1 \t 3\n",
      "19 \t 4\n",
      "23 \t 3\n",
      "22 \t 4\n",
      "\n",
      " Intake_Hour_bins\n",
      "Index \t Count\n",
      "Late_Morning \t 281\n",
      "Afternoon \t 392\n",
      "Early_Morning \t 7\n",
      "Evening/Night \t 16\n",
      "nan \t 0\n",
      "\n",
      " Outcome_Year\n",
      "Index \t Count\n",
      "2019 \t 128\n",
      "2018 \t 112\n",
      "2014 \t 104\n",
      "2015 \t 122\n",
      "2017 \t 96\n",
      "2016 \t 108\n",
      "2020 \t 9\n",
      "2013 \t 21\n",
      "\n",
      " Outcome_Month\n",
      "Index \t Count\n",
      "11 \t 74\n",
      "6 \t 52\n",
      "4 \t 50\n",
      "10 \t 53\n",
      "9 \t 71\n",
      "7 \t 62\n",
      "8 \t 55\n",
      "5 \t 66\n",
      "2 \t 41\n",
      "3 \t 55\n",
      "1 \t 50\n",
      "12 \t 71\n",
      "\n",
      " Outcome_Day\n",
      "Index \t Count\n",
      "Saturday \t 116\n",
      "Wednesday \t 98\n",
      "Tuesday \t 103\n",
      "Friday \t 88\n",
      "Monday \t 96\n",
      "Sunday \t 117\n",
      "Thursday \t 82\n"
     ]
    },
    {
     "data": {
      "image/png": "[encoded data removed]",
      "text/plain": [
       "<Figure size 1080x504 with 1 Axes>"
      ]
     },
     "metadata": {},
     "output_type": "display_data"
    },
    {
     "data": {
      "image/png": "[encoded data removed]",
      "text/plain": [
       "<Figure size 1080x504 with 1 Axes>"
      ]
     },
     "metadata": {},
     "output_type": "display_data"
    },
    {
     "data": {
      "image/png": "[encoded data removed]",
      "text/plain": [
       "<Figure size 1080x504 with 1 Axes>"
      ]
     },
     "metadata": {},
     "output_type": "display_data"
    },
    {
     "data": {
      "image/png": "[encoded data removed]",
      "text/plain": [
       "<Figure size 1080x504 with 1 Axes>"
      ]
     },
     "metadata": {},
     "output_type": "display_data"
    },
    {
     "data": {
      "image/png": "[encoded data removed]",
      "text/plain": [
       "<Figure size 1080x504 with 1 Axes>"
      ]
     },
     "metadata": {},
     "output_type": "display_data"
    },
    {
     "data": {
      "image/png": "[encoded data removed]",
      "text/plain": [
       "<Figure size 1080x504 with 1 Axes>"
      ]
     },
     "metadata": {},
     "output_type": "display_data"
    },
    {
     "data": {
      "image/png": "[encoded data removed]",
      "text/plain": [
       "<Figure size 1080x504 with 1 Axes>"
      ]
     },
     "metadata": {},
     "output_type": "display_data"
    },
    {
     "data": {
      "image/png": "[encoded data removed]",
      "text/plain": [
       "<Figure size 1080x504 with 1 Axes>"
      ]
     },
     "metadata": {},
     "output_type": "display_data"
    },
    {
     "data": {
      "image/png": "[encoded data removed]",
      "text/plain": [
       "<Figure size 1080x504 with 1 Axes>"
      ]
     },
     "metadata": {},
     "output_type": "display_data"
    },
    {
     "data": {
      "image/png": "[encoded data removed]",
      "text/plain": [
       "<Figure size 1080x504 with 1 Axes>"
      ]
     },
     "metadata": {},
     "output_type": "display_data"
    },
    {
     "data": {
      "image/png": "[encoded data removed]",
      "text/plain": [
       "<Figure size 1080x504 with 1 Axes>"
      ]
     },
     "metadata": {},
     "output_type": "display_data"
    },
    {
     "data": {
      "image/png": "[encoded data removed]",
      "text/plain": [
       "<Figure size 1080x504 with 1 Axes>"
      ]
     },
     "metadata": {},
     "output_type": "display_data"
    },
    {
     "data": {
      "image/png": "[encoded data removed]",
      "text/plain": [
       "<Figure size 1080x504 with 1 Axes>"
      ]
     },
     "metadata": {},
     "output_type": "display_data"
    },
    {
     "data": {
      "image/png": "[encoded data removed]",
      "text/plain": [
       "<Figure size 1080x504 with 1 Axes>"
      ]
     },
     "metadata": {},
     "output_type": "display_data"
    },
    {
     "data": {
      "image/png": "[encoded data removed]",
      "text/plain": [
       "<Figure size 1080x504 with 1 Axes>"
      ]
     },
     "metadata": {},
     "output_type": "display_data"
    },
    {
     "data": {
      "image/png": "[encoded data removed]",
      "text/plain": [
       "<Figure size 1080x504 with 1 Axes>"
      ]
     },
     "metadata": {},
     "output_type": "display_data"
    },
    {
     "data": {
      "image/png": "[encoded data removed]",
      "text/plain": [
       "<Figure size 1080x504 with 1 Axes>"
      ]
     },
     "metadata": {},
     "output_type": "display_data"
    },
    {
     "data": {
      "image/png": "[encoded data removed]",
      "text/plain": [
       "<Figure size 1080x504 with 1 Axes>"
      ]
     },
     "metadata": {},
     "output_type": "display_data"
    },
    {
     "data": {
      "image/png": "[encoded data removed]",
      "text/plain": [
       "<Figure size 1080x504 with 1 Axes>"
      ]
     },
     "metadata": {},
     "output_type": "display_data"
    },
    {
     "data": {
      "image/png": "[encoded data removed]",
      "text/plain": [
       "<Figure size 1080x504 with 1 Axes>"
      ]
     },
     "metadata": {},
     "output_type": "display_data"
    },
    {
     "data": {
      "image/png": "[encoded data removed]",
      "text/plain": [
       "<Figure size 1080x504 with 1 Axes>"
      ]
     },
     "metadata": {},
     "output_type": "display_data"
    }
   ],
   "source": [
    "# X_train[categorical_features].columns\n",
    "\n",
    "# we will create temp dataframe for these plots, mergeing X_train and y_train\n",
    "df_temp= pd.concat([X_train, y_train], axis=1)\n",
    "\n",
    "\n",
    "# for each categorical feature create a stacked bar plot\n",
    "for categorical_feature in categorical_features:\n",
    "    # Using code from the module lab\n",
    "\n",
    "    values = pd.unique(df_temp[categorical_feature].ravel())\n",
    "\n",
    "    # create percent column and initalise to 0\n",
    "    df_temp['percent'] = 0\n",
    "\n",
    "    #print header\n",
    "    print(\"\\n\", categorical_feature)\n",
    "    print(\"Index \\t Count\")\n",
    "\n",
    "    # loop through each value in the feature col1\n",
    "    for i in values:\n",
    "\n",
    "        count = df_temp[df_temp[categorical_feature] == i].count()['binary_outcome']\n",
    "        count_percentage = (1 / count) * 100\n",
    "\n",
    "        # print out index vs count\n",
    "        print(i, \"\\t\", count)\n",
    "\n",
    "        index_list = df_temp[df_temp[categorical_feature] == i].index.tolist()\n",
    "        for ind in index_list:\n",
    "            df_temp.loc[ind, 'percent'] = count_percentage\n",
    "\n",
    "    group = df_temp[['percent',categorical_feature,'binary_outcome']].groupby([categorical_feature,'binary_outcome']).sum()\n",
    "\n",
    "    #plot the results\n",
    "    my_plot = group.unstack().plot(kind='bar', stacked=True, title=f\"Binary Outcome vs {categorical_feature}\", figsize=(15,7), grid=True)\n",
    "\n",
    "    # add legend\n",
    "    red_patch = mpatches.Patch(color='orange', label='Class 1')\n",
    "    blue_patch = mpatches.Patch(color='blue', label='Class 0')\n",
    "    my_plot.legend(handles=[red_patch, blue_patch], frameon = True)\n",
    "\n",
    "    # add gridlines to make the plots easier to visualise\n",
    "    plt.grid(b=True, which='major', color='#666666', linestyle='-')\n",
    "    plt.minorticks_on()\n",
    "    \n",
    "    plt.grid(b=True, which='minor', color='#999999', linestyle='-', alpha=0.2)\n",
    "\n",
    "    my_plot.set_xlabel(categorical_feature)\n",
    "    my_plot.set_ylabel(\"%risk\")\n",
    "    my_plot.set_ylim([0,100])\n",
    "    \n",
    "# drop 'percent' that was used only for stacked bar plot\n",
    "df_temp = df_temp.drop(\"percent\", 1)"
   ]
  },
  {
   "cell_type": "markdown",
   "metadata": {},
   "source": [
    "#### 1.2.4 Interpretation of the results\n",
    "\n",
    "As we have a lot of categorical features, we will only give a brief discussion of each. \n",
    "\n",
    "- **Name_Provided**: We can see that animals with no name are 20% more likely to have a negative outcome. When looking at the absolute values we can see that in this training dataset 211 animals had no name and 489 animals had a name. \n",
    "\n",
    "- **FoundLocation**: We can see that if an animal is found in Austin, Del Valle, Pflugerville or Travis, they are 5-10% more likely to have a negative outcome than if found at the other locations. In fact, we see no negaitve outcome at any other locations. Upon examination of the counts however, we can see that this is most likely due to the cities mentioned having a much larger representation. \n",
    "\n",
    "- **Intake_Type**: We can see here that intake type has some interesting findings. As expected, all euthenasia requests result in a negative outcome. Interestingly, all animals with intake type *Wildlife* also have a negative outcome. Although the absolute value of animals with value *Wildlife* is lower than *Stray* and *Owner Surrender*, the value is not too low to be deemed promising. \n",
    "\n",
    "- **IntakeCondition**: Here we can see that if an animal is sick or injured, they are 40-50% more likely to have a negative outcome. Although when looking at the absolute values, we can see that the sick or injured animals only make up approximately 10% of the total, the graphs show that this feature still seems like a strong predictor.\n",
    "\n",
    "- **AnimalType_Intake**: We see in this plot that animals of type *Bat* or *Other* are 100% and 45% more likely to have a negative outcome, respecitvely, than animals of type *Bird, Cat* or *Dog*. On further inspection of the value counts however, we can see that there are only 5 birds. Thus, it seems that animals of type *Cat* and *Dog* are most likely to have a positive outcome. \n",
    "\n",
    "- **SexUponIntake** and **SexUponOutcome**: In the graphs for both *SexUponIntake* and *SexUponOutcome* we can see that animals with a value of *Unknown* are 55% more likely to have a negative outcome. However, it also seems likely that the most predictive aspect of this feature is whether or not the sex is known. As discussed above, a new feature *SexKnown* has been created to capture this information. \n",
    "\n",
    "- **Breed_Intake**: We can see that breeds of other animals are more likely to have a negative outcome. This is unsurprising after analysing the *AnimalType_Intake* plot and seeing that cats and dogs are most likely to have a positive outcome. We also learn from this graph that *Pit Bull* and *Poodle* dogs are 10% and 12% more likely to have a negative outcome that most other dog breeds, respectively. Similarly, we can see that 22% of *Siamese* cats have a negative outcome. Surprisingly, there are no strong relationships between other dog breeds or any cat breeds and the binary outcome. It is possible that this is due to the difficultly of grouping the different values within this feature. Many different breed which had a low cardinality have been grouped into \"Other\" values. \n",
    "\n",
    "- **Color_Intake**: We can see that there are no strinkingly strong relationships between a color and the binary outcome. We can see however, that *Brown* has the worst outcome followed by *Grey/Silver* while *White* and *MixedPattern* animals are more likely to be adopted or returned to their owner. Most of these findings are unsurprising given our understanding of popular pet colours. \n",
    "\n",
    "**new features created in homework1**:\n",
    "- **SexKnown**: We can see that if the sex of the animal is not known, there is a 50% higher likelihood of a negative outcome.\n",
    "- **CatOrDog**: Observing this plot we can see that if an animal is not a cat or a dog they are 80% more likely to have a negative outcome. \n",
    "- **AgeIntake_bins**: We can see that there is no clear pattern between the age of intake bins and the binary outcome. It was expected that older animals would be more likely to have a negative outcome due to both a higher likelihood of death and a lower likelihood of being adopted. However, we can see that the greatest likelihood of a negative outcome is actually seen in the bin representing an age of 365-427 days. The likelihood of a negative outcome then decreases as the ages increase. \n",
    "- **SickOrInjured**: We can see from the plot that if an animal is sick or injured when entering the shelter, they are 35% more likely to have a negative outcome. \n",
    "\n",
    "**Year, Month, Day, and hour features**:\n",
    "\n",
    "- **Intake_Year** and **Outcome_Year**: Observing the plots for these we see no clear relationship between the year and the binary outcome.\n",
    "- **Intake_Month**: Similarly, observing the plots for both month of intake see no clear trend. We can see that for *Intake_Month*, March has the highest likelihood of a negative outcome. This is possibly due to it being shortly after Christmas, when people no longer want pets given as Christmas gifts. We can also see a slightly higher likelihood of a negative outcome in June and August. It could be assumed that this is because of animal breeding seasons, resulting in more strays entering the shelter. However, the likelihood of a negative outcome in May and July is lower and does not fit with this assumption. Overall there is no clear pattern. \n",
    "- **Outcome_Month**: For Outcome_Month, we can see again that March shows the highest likelihood of a negative outcome. However, overall there appears to be no strong relationship with the binary outcome. \n",
    "- **Intake_Day** and **Outcome_Day** In the plots for these we see some variation in the relationship with the binary outcome however, there is no clear trend. \n",
    "- **Intake_Hour** is interesting. It seems that there is a much higher likelihood of a negative outcome if the animal is taken into the shelter during the night, with intake at 2am having a 100% likelihood of a negative outcome. On further investigation we can see that the number of animals being dropped in at these times is very low compared to the daylight hours. However, after doing some research into the Austin Animal center, I have learned that the opening hours are 11am-7pm. This information increases the relevance of the results seen during the night, as it is expected that the animals will not have as good an outcome if found or left at the shelter outside opening hours. \n",
    "- **Intake_Hour_bins** As expected, the information in *Intake_Hour* is well represented in this feature. We can see that an animal that enters the shelter in the early morning (0-6am) has a 30% likelihood of being in class 1 and an animal entering the shelter in the evening/night (6pm-midnight) has a 20% likelihood of being in class 1. These findings are in comparison to the other two values which show a 5-10% likelihood of the animal being in class 1."
   ]
  },
  {
   "cell_type": "markdown",
   "metadata": {},
   "source": [
    "**PLOT DATE OF BIRTH HERE!**"
   ]
  },
  {
   "cell_type": "code",
   "execution_count": 60,
   "metadata": {},
   "outputs": [],
   "source": [
    "# # dict to hold correlation values \n",
    "# corr_dict = {}\n",
    "\n",
    "# # plot pairwise interaction between all continuous features and target\n",
    "# # create temp df to merge column and target\n",
    "# df_temp = pd.concat([X_train['DateofBirth'], y_train], axis=1)\n",
    "# print(\"dftemp is: \", df_temp)\n",
    "# # store correlation in variable\n",
    "# correlation = df_temp[['DateofBirth', \"binary_outcome\"]].corr().values[0,1]\n",
    "# # plot the column and tartget feature\n",
    "# df_temp.plot(kind='scatter', x=column, y=\"binary_outcome\", label=\"%.3f\" % correlation)\n",
    "# # add correlation to dict\n",
    "# corr_dict[column] = correlation\n",
    "\n",
    "# # dataframe holding sorted correlation values to aid in interpreting results\n",
    "# corr_df = pd.DataFrame.from_dict(corr_dict, orient='index', columns=['binary_outcome']).sort_values('binary_outcome', ascending=False)\n",
    "# corr_df"
   ]
  },
  {
   "cell_type": "code",
   "execution_count": 61,
   "metadata": {},
   "outputs": [],
   "source": [
    "low_information_gain_date_features = ['DateofBirth']"
   ]
  },
  {
   "cell_type": "markdown",
   "metadata": {},
   "source": [
    "#### 1.2.5 Summary and drop features\n",
    "\n",
    "From continuous vs target feature plots (1.2.1) we saw that neither of the two features *AgeUponIntake* or *AgeUponOutcome* showed a high correlation with the target feature. These features will be dropped. \n",
    " \n",
    "From categorical vs target feature (1.2.3) we saw that the following features did not show a clear relationship with the target feature and can be removed for now: \n",
    "\n",
    "    - FoundLocation\n",
    "    - Intake_Year\n",
    "    - Outcome_Year\n",
    "    - Intake_Month\n",
    "    - Outcome_Month\n",
    "    - Intake_Day\n",
    "    - Outcome_day\n",
    "    - Intake_Hour\n",
    "    - AgeIntake_bins\n",
    "\n",
    "In addition, there are some categorical features which can be better represented by the new features created at the end of assignment 1. \n",
    "- Firstly, the only finding in *SexUponIntake* and *SexUponOutcome* which seems significant is whether or not the sex of the animal is known or not. \n",
    "    - We can see in *SexUponIntake* that animals with an unknown sex have a 45% likelihood of a negative outcome. \n",
    "    - Similary, in *SexUponOutcome* we can see that animals have a 50% likelihood of a negative outcome. \n",
    "    - As a result, it would seem that the features *SexUponIntake* and *SexUponOutcome* can be replaced with the feature *SexKnown*. However, upon further analysis we can see that whether or not an animal is neutered in the shelter in an important factor. Looking at the absolute values for *SexUponIntake* we can that there are 236 neutered males and 99 intact males. We can see there there is no clear variation between the outcome of neutered and intact males. However, in *SexUponOutcome* we can that the number of intact males has dropped to 81, presumably because many males got neutered while in the shelter. Despite the drop in the number of intact males, we can see a higher likelihood of a negative outcome - approximately 10% higher than at intake. As a result, we can assume that other values are important in these feature, not just whether or not the sex is know. \n",
    "    - Therefore, we will keep the oringinal two features and drop the new feature *SexKnown*. \n",
    "- Based on the discussion of *AnimalType_Intake* above, it is likely that the new feature *CatOrDog* can represent the relevant information in this feature. \n",
    "- Similary, based on the above findings and discussion regarding *IntakeCondition*, it is likely that the new feature *SickOrInjured* can provide the relevant information.\n",
    "\n",
    "As a result, in addition to the features listed above, it appears that the following features can be removed: \n",
    "\n",
    "    - SexKnown\n",
    "    - AnimalType_Intake\n",
    "    - IntakeCondition\n",
    "\n",
    "We will leave all other categorical features in for now. "
   ]
  },
  {
   "cell_type": "markdown",
   "metadata": {},
   "source": [
    "We have seen above that the feature *Intake_Hour* looks promising. However, as this feature has a high cardinality, we will now group it into bins. This will reduce the number of dummy features created later on. After grouping the values of this feature into bins, we will then compare it again to the binary outcome before making any decisions. "
   ]
  },
  {
   "cell_type": "markdown",
   "metadata": {},
   "source": [
    "We will now create a list of the low information categorical features listed above. "
   ]
  },
  {
   "cell_type": "code",
   "execution_count": 62,
   "metadata": {},
   "outputs": [],
   "source": [
    "low_information_gain_categorical_features = ['FoundLocation','Intake_Year', 'Outcome_Year', 'Intake_Month','Outcome_Month', 'SexKnown', 'AnimalType_Intake', 'IntakeCondition', 'AgeIntake_bins',  'Intake_Day', 'Outcome_Day', 'Intake_Hour']"
   ]
  },
  {
   "cell_type": "markdown",
   "metadata": {},
   "source": [
    "We will now drop the low impact categorical features listed above. \n",
    "\n",
    "- Before dropping we will duplicate the original dataframe *df* and label the duplicate as *df_version1*\n",
    "- We will drop features from the duplicate *df_version1* only.\n",
    "- This will allow us to revert to the original dataset later if we decide to compare the performance of the reduced dataset *df_version1* with the original dataset *df*.\n"
   ]
  },
  {
   "cell_type": "code",
   "execution_count": 63,
   "metadata": {},
   "outputs": [
    {
     "name": "stdout",
     "output_type": "stream",
     "text": [
      "\n",
      "Remaining columns: Index(['Name_Provided', 'IntakeType', 'SexuponIntake', 'Breed_Intake',\n",
      "       'Color_Intake', 'SexuponOutcome', 'binary_outcome', 'CatOrDog',\n",
      "       'SickOrInjured', 'Intake_Hour_bins'],\n",
      "      dtype='object')\n",
      "\n",
      "New shape: (1000, 10)\n"
     ]
    }
   ],
   "source": [
    "low_value_features = list(set(low_correlation_continuous_features + low_information_gain_categorical_features + low_information_gain_date_features))\n",
    "# before dropping make copy of original\n",
    "df_version1 = df.copy()\n",
    "# drop low value features\n",
    "df_version1.drop(low_value_features, 1, inplace=True)\n",
    "print('\\nRemaining columns:', df_version1.columns)\n",
    "print('\\nNew shape:', df_version1.shape)"
   ]
  },
  {
   "cell_type": "markdown",
   "metadata": {},
   "source": [
    "### 1.3 Prepare the dataset for modelling\n",
    "\n",
    "Now we have picked our descriptive features for the whole dataset, we will now carry out a number of additional steps in order to prepare the dataset for modelling: \n",
    "- Convert the categorical variables into dummies variables so that they can be used for modelling.\n",
    "- Remove the redundant dummies which contain no additional information.\n",
    "- Set up up the train test split again based on the dataset with the dummies included.\n",
    "\n",
    "We will now go through these steps in more detail. "
   ]
  },
  {
   "cell_type": "markdown",
   "metadata": {},
   "source": [
    "Firstly, as described in section 7.4.3 of the course textbook 'Fundamentals of Machine Learning for Predictive Data Analytics', the most common approach to handling categorical features in regression models is to use a transformation that converts a single cateogrical feature into a number of continuous features that can encode the levels of the categorical feature. The levels of the categorical feature are encoded by setting the value of the new continuous feature which corresponds to the level of the categorical feature to 1, and the other continious features to 0. This is known as *dummy encoding* and is the approoach we will now take. \n",
    "\n",
    "The downside of this approach however, is that it creates a lot of new features in the dataset. In other words, as we will see in the linear regression steps below, it creates many new weights for which optimal values must be found. For this reason we carry out the second step above - remove the redundant dummies which contain no additional information. For example, we can assume that a zero in all new features implies that the original cateogrical feature had the first value. We will add the parameter *drop_first = True* in the code below in order to execute this step. "
   ]
  },
  {
   "cell_type": "code",
   "execution_count": 64,
   "metadata": {},
   "outputs": [],
   "source": [
    "# set up dummies features\n",
    "df_version1 = pd.get_dummies(df_version1, drop_first=True)"
   ]
  },
  {
   "cell_type": "code",
   "execution_count": 65,
   "metadata": {},
   "outputs": [
    {
     "data": {
      "text/html": [
       "<div>\n",
       "<style scoped>\n",
       "    .dataframe tbody tr th:only-of-type {\n",
       "        vertical-align: middle;\n",
       "    }\n",
       "\n",
       "    .dataframe tbody tr th {\n",
       "        vertical-align: top;\n",
       "    }\n",
       "\n",
       "    .dataframe thead th {\n",
       "        text-align: right;\n",
       "    }\n",
       "</style>\n",
       "<table border=\"1\" class=\"dataframe\">\n",
       "  <thead>\n",
       "    <tr style=\"text-align: right;\">\n",
       "      <th></th>\n",
       "      <th>binary_outcome</th>\n",
       "      <th>Name_Provided_Yes</th>\n",
       "      <th>IntakeType_Owner Surrender</th>\n",
       "      <th>IntakeType_Public Assist</th>\n",
       "      <th>IntakeType_Stray</th>\n",
       "      <th>IntakeType_Wildlife</th>\n",
       "      <th>SexuponIntake_Intact Male</th>\n",
       "      <th>SexuponIntake_Neutered Male</th>\n",
       "      <th>SexuponIntake_Spayed Female</th>\n",
       "      <th>SexuponIntake_Unknown</th>\n",
       "      <th>...</th>\n",
       "      <th>Color_Intake_White</th>\n",
       "      <th>SexuponOutcome_Intact Male</th>\n",
       "      <th>SexuponOutcome_Neutered Male</th>\n",
       "      <th>SexuponOutcome_Spayed Female</th>\n",
       "      <th>SexuponOutcome_Unknown</th>\n",
       "      <th>CatOrDog_1</th>\n",
       "      <th>SickOrInjured_1</th>\n",
       "      <th>Intake_Hour_bins_Late_Morning</th>\n",
       "      <th>Intake_Hour_bins_Afternoon</th>\n",
       "      <th>Intake_Hour_bins_Evening/Night</th>\n",
       "    </tr>\n",
       "  </thead>\n",
       "  <tbody>\n",
       "    <tr>\n",
       "      <td>0</td>\n",
       "      <td>0.0</td>\n",
       "      <td>1</td>\n",
       "      <td>0</td>\n",
       "      <td>0</td>\n",
       "      <td>1</td>\n",
       "      <td>0</td>\n",
       "      <td>0</td>\n",
       "      <td>0</td>\n",
       "      <td>0</td>\n",
       "      <td>0</td>\n",
       "      <td>...</td>\n",
       "      <td>0</td>\n",
       "      <td>0</td>\n",
       "      <td>0</td>\n",
       "      <td>1</td>\n",
       "      <td>0</td>\n",
       "      <td>1</td>\n",
       "      <td>0</td>\n",
       "      <td>0</td>\n",
       "      <td>1</td>\n",
       "      <td>0</td>\n",
       "    </tr>\n",
       "    <tr>\n",
       "      <td>1</td>\n",
       "      <td>0.0</td>\n",
       "      <td>0</td>\n",
       "      <td>0</td>\n",
       "      <td>0</td>\n",
       "      <td>1</td>\n",
       "      <td>0</td>\n",
       "      <td>0</td>\n",
       "      <td>0</td>\n",
       "      <td>0</td>\n",
       "      <td>0</td>\n",
       "      <td>...</td>\n",
       "      <td>1</td>\n",
       "      <td>0</td>\n",
       "      <td>0</td>\n",
       "      <td>1</td>\n",
       "      <td>0</td>\n",
       "      <td>1</td>\n",
       "      <td>0</td>\n",
       "      <td>1</td>\n",
       "      <td>0</td>\n",
       "      <td>0</td>\n",
       "    </tr>\n",
       "    <tr>\n",
       "      <td>2</td>\n",
       "      <td>0.0</td>\n",
       "      <td>1</td>\n",
       "      <td>0</td>\n",
       "      <td>0</td>\n",
       "      <td>1</td>\n",
       "      <td>0</td>\n",
       "      <td>1</td>\n",
       "      <td>0</td>\n",
       "      <td>0</td>\n",
       "      <td>0</td>\n",
       "      <td>...</td>\n",
       "      <td>0</td>\n",
       "      <td>1</td>\n",
       "      <td>0</td>\n",
       "      <td>0</td>\n",
       "      <td>0</td>\n",
       "      <td>1</td>\n",
       "      <td>0</td>\n",
       "      <td>1</td>\n",
       "      <td>0</td>\n",
       "      <td>0</td>\n",
       "    </tr>\n",
       "    <tr>\n",
       "      <td>3</td>\n",
       "      <td>0.0</td>\n",
       "      <td>1</td>\n",
       "      <td>0</td>\n",
       "      <td>0</td>\n",
       "      <td>1</td>\n",
       "      <td>0</td>\n",
       "      <td>1</td>\n",
       "      <td>0</td>\n",
       "      <td>0</td>\n",
       "      <td>0</td>\n",
       "      <td>...</td>\n",
       "      <td>0</td>\n",
       "      <td>0</td>\n",
       "      <td>1</td>\n",
       "      <td>0</td>\n",
       "      <td>0</td>\n",
       "      <td>1</td>\n",
       "      <td>0</td>\n",
       "      <td>1</td>\n",
       "      <td>0</td>\n",
       "      <td>0</td>\n",
       "    </tr>\n",
       "    <tr>\n",
       "      <td>4</td>\n",
       "      <td>0.0</td>\n",
       "      <td>1</td>\n",
       "      <td>0</td>\n",
       "      <td>0</td>\n",
       "      <td>1</td>\n",
       "      <td>0</td>\n",
       "      <td>1</td>\n",
       "      <td>0</td>\n",
       "      <td>0</td>\n",
       "      <td>0</td>\n",
       "      <td>...</td>\n",
       "      <td>0</td>\n",
       "      <td>0</td>\n",
       "      <td>1</td>\n",
       "      <td>0</td>\n",
       "      <td>0</td>\n",
       "      <td>1</td>\n",
       "      <td>0</td>\n",
       "      <td>1</td>\n",
       "      <td>0</td>\n",
       "      <td>0</td>\n",
       "    </tr>\n",
       "  </tbody>\n",
       "</table>\n",
       "<p>5 rows × 37 columns</p>\n",
       "</div>"
      ],
      "text/plain": [
       "   binary_outcome  Name_Provided_Yes  IntakeType_Owner Surrender  \\\n",
       "0             0.0                  1                           0   \n",
       "1             0.0                  0                           0   \n",
       "2             0.0                  1                           0   \n",
       "3             0.0                  1                           0   \n",
       "4             0.0                  1                           0   \n",
       "\n",
       "   IntakeType_Public Assist  IntakeType_Stray  IntakeType_Wildlife  \\\n",
       "0                         0                 1                    0   \n",
       "1                         0                 1                    0   \n",
       "2                         0                 1                    0   \n",
       "3                         0                 1                    0   \n",
       "4                         0                 1                    0   \n",
       "\n",
       "   SexuponIntake_Intact Male  SexuponIntake_Neutered Male  \\\n",
       "0                          0                            0   \n",
       "1                          0                            0   \n",
       "2                          1                            0   \n",
       "3                          1                            0   \n",
       "4                          1                            0   \n",
       "\n",
       "   SexuponIntake_Spayed Female  SexuponIntake_Unknown  ...  \\\n",
       "0                            0                      0  ...   \n",
       "1                            0                      0  ...   \n",
       "2                            0                      0  ...   \n",
       "3                            0                      0  ...   \n",
       "4                            0                      0  ...   \n",
       "\n",
       "   Color_Intake_White  SexuponOutcome_Intact Male  \\\n",
       "0                   0                           0   \n",
       "1                   1                           0   \n",
       "2                   0                           1   \n",
       "3                   0                           0   \n",
       "4                   0                           0   \n",
       "\n",
       "   SexuponOutcome_Neutered Male  SexuponOutcome_Spayed Female  \\\n",
       "0                             0                             1   \n",
       "1                             0                             1   \n",
       "2                             0                             0   \n",
       "3                             1                             0   \n",
       "4                             1                             0   \n",
       "\n",
       "   SexuponOutcome_Unknown  CatOrDog_1  SickOrInjured_1  \\\n",
       "0                       0           1                0   \n",
       "1                       0           1                0   \n",
       "2                       0           1                0   \n",
       "3                       0           1                0   \n",
       "4                       0           1                0   \n",
       "\n",
       "   Intake_Hour_bins_Late_Morning  Intake_Hour_bins_Afternoon  \\\n",
       "0                              0                           1   \n",
       "1                              1                           0   \n",
       "2                              1                           0   \n",
       "3                              1                           0   \n",
       "4                              1                           0   \n",
       "\n",
       "   Intake_Hour_bins_Evening/Night  \n",
       "0                               0  \n",
       "1                               0  \n",
       "2                               0  \n",
       "3                               0  \n",
       "4                               0  \n",
       "\n",
       "[5 rows x 37 columns]"
      ]
     },
     "execution_count": 65,
     "metadata": {},
     "output_type": "execute_result"
    }
   ],
   "source": [
    "df_version1.head()"
   ]
  },
  {
   "cell_type": "markdown",
   "metadata": {},
   "source": [
    "**The features are:**\n",
    "\n",
    "As we are not keeping any of our continuous features for now, our features are comprised only of the uint types generated when making dummies above."
   ]
  },
  {
   "cell_type": "code",
   "execution_count": 66,
   "metadata": {},
   "outputs": [
    {
     "data": {
      "text/plain": [
       "['Name_Provided_Yes',\n",
       " 'IntakeType_Owner Surrender',\n",
       " 'IntakeType_Public Assist',\n",
       " 'IntakeType_Stray',\n",
       " 'IntakeType_Wildlife',\n",
       " 'SexuponIntake_Intact Male',\n",
       " 'SexuponIntake_Neutered Male',\n",
       " 'SexuponIntake_Spayed Female',\n",
       " 'SexuponIntake_Unknown',\n",
       " 'Breed_Intake_Boxer',\n",
       " 'Breed_Intake_Chihuahua Shorthair',\n",
       " 'Breed_Intake_Domestic Longhair',\n",
       " 'Breed_Intake_Domestic Medium Hair',\n",
       " 'Breed_Intake_Domestic Shorthair',\n",
       " 'Breed_Intake_German Shepherd',\n",
       " 'Breed_Intake_Labrador Retriever',\n",
       " 'Breed_Intake_Miniature Poodle',\n",
       " 'Breed_Intake_Other Animal Breeds',\n",
       " 'Breed_Intake_Other Cat Breeds',\n",
       " 'Breed_Intake_Other Dog Breeds',\n",
       " 'Breed_Intake_Pit Bull',\n",
       " 'Breed_Intake_Siamese',\n",
       " 'Color_Intake_Brown Shades',\n",
       " 'Color_Intake_Grey',\n",
       " 'Color_Intake_Mixed Pattern',\n",
       " 'Color_Intake_Other',\n",
       " 'Color_Intake_White',\n",
       " 'SexuponOutcome_Intact Male',\n",
       " 'SexuponOutcome_Neutered Male',\n",
       " 'SexuponOutcome_Spayed Female',\n",
       " 'SexuponOutcome_Unknown',\n",
       " 'CatOrDog_1',\n",
       " 'SickOrInjured_1',\n",
       " 'Intake_Hour_bins_Late_Morning',\n",
       " 'Intake_Hour_bins_Afternoon',\n",
       " 'Intake_Hour_bins_Evening/Night']"
      ]
     },
     "execution_count": 66,
     "metadata": {},
     "output_type": "execute_result"
    }
   ],
   "source": [
    "#put all features together into a variable\n",
    "features = df_version1.select_dtypes(include=['uint8']).columns.tolist()\n",
    "features"
   ]
  },
  {
   "cell_type": "markdown",
   "metadata": {},
   "source": [
    "### Train/test split\n",
    "- We will now split the dataset into train/test subsets using the dummy values created above\n",
    "- As explained in section 1.1 above, we will use stratified sampling. \n",
    "- The target *binary_outcome* is stored in dataframe \"y\"\n",
    "- The remaining features are stored in dataframe \"X\"\n",
    "- Both are split into training and test subsets"
   ]
  },
  {
   "cell_type": "code",
   "execution_count": 67,
   "metadata": {},
   "outputs": [],
   "source": [
    "# y = pd.DataFrame(df[\"binary_outcome\"])\n",
    "y = df_version1['binary_outcome']\n",
    "X = df_version1.drop([\"binary_outcome\"],1)"
   ]
  },
  {
   "cell_type": "code",
   "execution_count": 68,
   "metadata": {},
   "outputs": [
    {
     "name": "stdout",
     "output_type": "stream",
     "text": [
      "original range is:  1000\n",
      "training range (70%):\t rows 0 to 700\n",
      "test range (30%): \t rows 700 to 1000\n",
      "\n",
      "Target feature ShoeSponsor total dataset counts:\n",
      "\n",
      " 0.0    920\n",
      "1.0     80\n",
      "Name: binary_outcome, dtype: int64\n",
      "\n",
      "Training data ShoeSponsor counts:\n",
      " 0.0    644\n",
      "1.0     56\n",
      "Name: binary_outcome, dtype: int64\n",
      "\n",
      "Test data ShoeSponsor counts:\n",
      " 0.0    276\n",
      "1.0     24\n",
      "Name: binary_outcome, dtype: int64\n"
     ]
    }
   ],
   "source": [
    "# Split the dataset into two datasets: 70% training and 30% test\n",
    "X_train, X_test, y_train, y_test = train_test_split(X, y, test_size=0.3,random_state=1, stratify=y)\n",
    "\n",
    "print(\"original range is: \",df_version1.shape[0])\n",
    "print(\"training range (70%):\\t rows 0 to\", round(X_train.shape[0]))\n",
    "print(\"test range (30%): \\t rows\", round(X_train.shape[0]), \"to\", round(X_train.shape[0]) + X_test.shape[0])\n",
    "\n",
    "print(\"\\nTarget feature ShoeSponsor total dataset counts:\\n\\n\", y.value_counts())\n",
    "print(\"\\nTraining data ShoeSponsor counts:\\n\", y_train.value_counts())\n",
    "print(\"\\nTest data ShoeSponsor counts:\\n\", y_test.value_counts())"
   ]
  },
  {
   "cell_type": "markdown",
   "metadata": {},
   "source": [
    "We will now look at the first five lines of the training and test subsets. "
   ]
  },
  {
   "cell_type": "code",
   "execution_count": 69,
   "metadata": {},
   "outputs": [
    {
     "name": "stdout",
     "output_type": "stream",
     "text": [
      "\n",
      "Descriptive features in X_train:\n",
      "      Name_Provided_Yes  IntakeType_Owner Surrender  IntakeType_Public Assist  \\\n",
      "400                  0                           0                         0   \n",
      "55                   1                           0                         0   \n",
      "777                  0                           0                         0   \n",
      "329                  1                           1                         0   \n",
      "196                  1                           1                         0   \n",
      "\n",
      "     IntakeType_Stray  IntakeType_Wildlife  SexuponIntake_Intact Male  \\\n",
      "400                 1                    0                          0   \n",
      "55                  1                    0                          0   \n",
      "777                 1                    0                          0   \n",
      "329                 0                    0                          0   \n",
      "196                 0                    0                          0   \n",
      "\n",
      "     SexuponIntake_Neutered Male  SexuponIntake_Spayed Female  \\\n",
      "400                            0                            0   \n",
      "55                             0                            0   \n",
      "777                            0                            0   \n",
      "329                            1                            0   \n",
      "196                            1                            0   \n",
      "\n",
      "     SexuponIntake_Unknown  Breed_Intake_Boxer  ...  Color_Intake_White  \\\n",
      "400                      0                   0  ...                   0   \n",
      "55                       0                   0  ...                   0   \n",
      "777                      0                   0  ...                   0   \n",
      "329                      0                   0  ...                   1   \n",
      "196                      0                   0  ...                   0   \n",
      "\n",
      "     SexuponOutcome_Intact Male  SexuponOutcome_Neutered Male  \\\n",
      "400                           0                             0   \n",
      "55                            0                             0   \n",
      "777                           0                             0   \n",
      "329                           0                             1   \n",
      "196                           0                             1   \n",
      "\n",
      "     SexuponOutcome_Spayed Female  SexuponOutcome_Unknown  CatOrDog_1  \\\n",
      "400                             0                       0           1   \n",
      "55                              1                       0           1   \n",
      "777                             0                       0           1   \n",
      "329                             0                       0           1   \n",
      "196                             0                       0           1   \n",
      "\n",
      "     SickOrInjured_1  Intake_Hour_bins_Late_Morning  \\\n",
      "400                0                              1   \n",
      "55                 0                              0   \n",
      "777                0                              1   \n",
      "329                0                              0   \n",
      "196                0                              0   \n",
      "\n",
      "     Intake_Hour_bins_Afternoon  Intake_Hour_bins_Evening/Night  \n",
      "400                           0                               0  \n",
      "55                            1                               0  \n",
      "777                           0                               0  \n",
      "329                           1                               0  \n",
      "196                           1                               0  \n",
      "\n",
      "[5 rows x 36 columns]\n",
      "\n",
      "Target feature in y_train:\n",
      " 400    0.0\n",
      "55     0.0\n",
      "777    0.0\n",
      "329    0.0\n",
      "196    0.0\n",
      "Name: binary_outcome, dtype: float64\n",
      "\n",
      "Descriptive features in X_test:\n",
      "      Name_Provided_Yes  IntakeType_Owner Surrender  IntakeType_Public Assist  \\\n",
      "15                   0                           0                         0   \n",
      "315                  1                           0                         0   \n",
      "228                  0                           0                         0   \n",
      "779                  1                           0                         0   \n",
      "512                  1                           1                         0   \n",
      "\n",
      "     IntakeType_Stray  IntakeType_Wildlife  SexuponIntake_Intact Male  \\\n",
      "15                  1                    0                          1   \n",
      "315                 1                    0                          1   \n",
      "228                 1                    0                          0   \n",
      "779                 1                    0                          0   \n",
      "512                 0                    0                          0   \n",
      "\n",
      "     SexuponIntake_Neutered Male  SexuponIntake_Spayed Female  \\\n",
      "15                             0                            0   \n",
      "315                            0                            0   \n",
      "228                            0                            0   \n",
      "779                            0                            0   \n",
      "512                            0                            1   \n",
      "\n",
      "     SexuponIntake_Unknown  Breed_Intake_Boxer  ...  Color_Intake_White  \\\n",
      "15                       0                   0  ...                   0   \n",
      "315                      0                   0  ...                   0   \n",
      "228                      0                   0  ...                   1   \n",
      "779                      0                   0  ...                   1   \n",
      "512                      0                   0  ...                   0   \n",
      "\n",
      "     SexuponOutcome_Intact Male  SexuponOutcome_Neutered Male  \\\n",
      "15                            1                             0   \n",
      "315                           0                             1   \n",
      "228                           0                             0   \n",
      "779                           0                             0   \n",
      "512                           0                             0   \n",
      "\n",
      "     SexuponOutcome_Spayed Female  SexuponOutcome_Unknown  CatOrDog_1  \\\n",
      "15                              0                       0           1   \n",
      "315                             0                       0           1   \n",
      "228                             0                       0           1   \n",
      "779                             1                       0           1   \n",
      "512                             1                       0           1   \n",
      "\n",
      "     SickOrInjured_1  Intake_Hour_bins_Late_Morning  \\\n",
      "15                 0                              0   \n",
      "315                0                              0   \n",
      "228                0                              0   \n",
      "779                0                              0   \n",
      "512                0                              0   \n",
      "\n",
      "     Intake_Hour_bins_Afternoon  Intake_Hour_bins_Evening/Night  \n",
      "15                            1                               0  \n",
      "315                           1                               0  \n",
      "228                           1                               0  \n",
      "779                           1                               0  \n",
      "512                           1                               0  \n",
      "\n",
      "[5 rows x 36 columns]\n",
      "\n",
      "Target feature in y_test:\n",
      " 15     0.0\n",
      "315    0.0\n",
      "228    0.0\n",
      "779    0.0\n",
      "512    0.0\n",
      "Name: binary_outcome, dtype: float64\n"
     ]
    }
   ],
   "source": [
    "print(\"\\nDescriptive features in X_train:\\n\", X_train.head(5))\n",
    "print(\"\\nTarget feature in y_train:\\n\", y_train.head(5))\n",
    "print(\"\\nDescriptive features in X_test:\\n\", X_test.head(5))\n",
    "print(\"\\nTarget feature in y_test:\\n\", y_test.head(5))"
   ]
  },
  {
   "cell_type": "markdown",
   "metadata": {},
   "source": [
    "#### Reset the indexes of the training and test splits\n",
    "- We can see from the output above that the indexes are no longer consecutive for any of the dataframes. \n",
    "- We will now deal with that next as it will have an effect when we merge the dataframes later in the assignment."
   ]
  },
  {
   "cell_type": "code",
   "execution_count": 70,
   "metadata": {},
   "outputs": [
    {
     "data": {
      "text/html": [
       "<div>\n",
       "<style scoped>\n",
       "    .dataframe tbody tr th:only-of-type {\n",
       "        vertical-align: middle;\n",
       "    }\n",
       "\n",
       "    .dataframe tbody tr th {\n",
       "        vertical-align: top;\n",
       "    }\n",
       "\n",
       "    .dataframe thead th {\n",
       "        text-align: right;\n",
       "    }\n",
       "</style>\n",
       "<table border=\"1\" class=\"dataframe\">\n",
       "  <thead>\n",
       "    <tr style=\"text-align: right;\">\n",
       "      <th></th>\n",
       "      <th>Name_Provided_Yes</th>\n",
       "      <th>IntakeType_Owner Surrender</th>\n",
       "      <th>IntakeType_Public Assist</th>\n",
       "      <th>IntakeType_Stray</th>\n",
       "      <th>IntakeType_Wildlife</th>\n",
       "      <th>SexuponIntake_Intact Male</th>\n",
       "      <th>SexuponIntake_Neutered Male</th>\n",
       "      <th>SexuponIntake_Spayed Female</th>\n",
       "      <th>SexuponIntake_Unknown</th>\n",
       "      <th>Breed_Intake_Boxer</th>\n",
       "      <th>...</th>\n",
       "      <th>Color_Intake_White</th>\n",
       "      <th>SexuponOutcome_Intact Male</th>\n",
       "      <th>SexuponOutcome_Neutered Male</th>\n",
       "      <th>SexuponOutcome_Spayed Female</th>\n",
       "      <th>SexuponOutcome_Unknown</th>\n",
       "      <th>CatOrDog_1</th>\n",
       "      <th>SickOrInjured_1</th>\n",
       "      <th>Intake_Hour_bins_Late_Morning</th>\n",
       "      <th>Intake_Hour_bins_Afternoon</th>\n",
       "      <th>Intake_Hour_bins_Evening/Night</th>\n",
       "    </tr>\n",
       "  </thead>\n",
       "  <tbody>\n",
       "    <tr>\n",
       "      <td>0</td>\n",
       "      <td>0</td>\n",
       "      <td>0</td>\n",
       "      <td>0</td>\n",
       "      <td>1</td>\n",
       "      <td>0</td>\n",
       "      <td>0</td>\n",
       "      <td>0</td>\n",
       "      <td>0</td>\n",
       "      <td>0</td>\n",
       "      <td>0</td>\n",
       "      <td>...</td>\n",
       "      <td>0</td>\n",
       "      <td>0</td>\n",
       "      <td>0</td>\n",
       "      <td>0</td>\n",
       "      <td>0</td>\n",
       "      <td>1</td>\n",
       "      <td>0</td>\n",
       "      <td>1</td>\n",
       "      <td>0</td>\n",
       "      <td>0</td>\n",
       "    </tr>\n",
       "    <tr>\n",
       "      <td>1</td>\n",
       "      <td>1</td>\n",
       "      <td>0</td>\n",
       "      <td>0</td>\n",
       "      <td>1</td>\n",
       "      <td>0</td>\n",
       "      <td>0</td>\n",
       "      <td>0</td>\n",
       "      <td>0</td>\n",
       "      <td>0</td>\n",
       "      <td>0</td>\n",
       "      <td>...</td>\n",
       "      <td>0</td>\n",
       "      <td>0</td>\n",
       "      <td>0</td>\n",
       "      <td>1</td>\n",
       "      <td>0</td>\n",
       "      <td>1</td>\n",
       "      <td>0</td>\n",
       "      <td>0</td>\n",
       "      <td>1</td>\n",
       "      <td>0</td>\n",
       "    </tr>\n",
       "    <tr>\n",
       "      <td>2</td>\n",
       "      <td>0</td>\n",
       "      <td>0</td>\n",
       "      <td>0</td>\n",
       "      <td>1</td>\n",
       "      <td>0</td>\n",
       "      <td>0</td>\n",
       "      <td>0</td>\n",
       "      <td>0</td>\n",
       "      <td>0</td>\n",
       "      <td>0</td>\n",
       "      <td>...</td>\n",
       "      <td>0</td>\n",
       "      <td>0</td>\n",
       "      <td>0</td>\n",
       "      <td>0</td>\n",
       "      <td>0</td>\n",
       "      <td>1</td>\n",
       "      <td>0</td>\n",
       "      <td>1</td>\n",
       "      <td>0</td>\n",
       "      <td>0</td>\n",
       "    </tr>\n",
       "    <tr>\n",
       "      <td>3</td>\n",
       "      <td>1</td>\n",
       "      <td>1</td>\n",
       "      <td>0</td>\n",
       "      <td>0</td>\n",
       "      <td>0</td>\n",
       "      <td>0</td>\n",
       "      <td>1</td>\n",
       "      <td>0</td>\n",
       "      <td>0</td>\n",
       "      <td>0</td>\n",
       "      <td>...</td>\n",
       "      <td>1</td>\n",
       "      <td>0</td>\n",
       "      <td>1</td>\n",
       "      <td>0</td>\n",
       "      <td>0</td>\n",
       "      <td>1</td>\n",
       "      <td>0</td>\n",
       "      <td>0</td>\n",
       "      <td>1</td>\n",
       "      <td>0</td>\n",
       "    </tr>\n",
       "    <tr>\n",
       "      <td>4</td>\n",
       "      <td>1</td>\n",
       "      <td>1</td>\n",
       "      <td>0</td>\n",
       "      <td>0</td>\n",
       "      <td>0</td>\n",
       "      <td>0</td>\n",
       "      <td>1</td>\n",
       "      <td>0</td>\n",
       "      <td>0</td>\n",
       "      <td>0</td>\n",
       "      <td>...</td>\n",
       "      <td>0</td>\n",
       "      <td>0</td>\n",
       "      <td>1</td>\n",
       "      <td>0</td>\n",
       "      <td>0</td>\n",
       "      <td>1</td>\n",
       "      <td>0</td>\n",
       "      <td>0</td>\n",
       "      <td>1</td>\n",
       "      <td>0</td>\n",
       "    </tr>\n",
       "  </tbody>\n",
       "</table>\n",
       "<p>5 rows × 36 columns</p>\n",
       "</div>"
      ],
      "text/plain": [
       "   Name_Provided_Yes  IntakeType_Owner Surrender  IntakeType_Public Assist  \\\n",
       "0                  0                           0                         0   \n",
       "1                  1                           0                         0   \n",
       "2                  0                           0                         0   \n",
       "3                  1                           1                         0   \n",
       "4                  1                           1                         0   \n",
       "\n",
       "   IntakeType_Stray  IntakeType_Wildlife  SexuponIntake_Intact Male  \\\n",
       "0                 1                    0                          0   \n",
       "1                 1                    0                          0   \n",
       "2                 1                    0                          0   \n",
       "3                 0                    0                          0   \n",
       "4                 0                    0                          0   \n",
       "\n",
       "   SexuponIntake_Neutered Male  SexuponIntake_Spayed Female  \\\n",
       "0                            0                            0   \n",
       "1                            0                            0   \n",
       "2                            0                            0   \n",
       "3                            1                            0   \n",
       "4                            1                            0   \n",
       "\n",
       "   SexuponIntake_Unknown  Breed_Intake_Boxer  ...  Color_Intake_White  \\\n",
       "0                      0                   0  ...                   0   \n",
       "1                      0                   0  ...                   0   \n",
       "2                      0                   0  ...                   0   \n",
       "3                      0                   0  ...                   1   \n",
       "4                      0                   0  ...                   0   \n",
       "\n",
       "   SexuponOutcome_Intact Male  SexuponOutcome_Neutered Male  \\\n",
       "0                           0                             0   \n",
       "1                           0                             0   \n",
       "2                           0                             0   \n",
       "3                           0                             1   \n",
       "4                           0                             1   \n",
       "\n",
       "   SexuponOutcome_Spayed Female  SexuponOutcome_Unknown  CatOrDog_1  \\\n",
       "0                             0                       0           1   \n",
       "1                             1                       0           1   \n",
       "2                             0                       0           1   \n",
       "3                             0                       0           1   \n",
       "4                             0                       0           1   \n",
       "\n",
       "   SickOrInjured_1  Intake_Hour_bins_Late_Morning  Intake_Hour_bins_Afternoon  \\\n",
       "0                0                              1                           0   \n",
       "1                0                              0                           1   \n",
       "2                0                              1                           0   \n",
       "3                0                              0                           1   \n",
       "4                0                              0                           1   \n",
       "\n",
       "   Intake_Hour_bins_Evening/Night  \n",
       "0                               0  \n",
       "1                               0  \n",
       "2                               0  \n",
       "3                               0  \n",
       "4                               0  \n",
       "\n",
       "[5 rows x 36 columns]"
      ]
     },
     "execution_count": 70,
     "metadata": {},
     "output_type": "execute_result"
    }
   ],
   "source": [
    "# need to reset the index to allow contatenation with predicted values otherwise not joining on same index...\n",
    "X_train.reset_index(drop=True, inplace=True)\n",
    "y_train.reset_index(drop=True, inplace=True)\n",
    "X_test.reset_index(drop=True, inplace=True)\n",
    "y_test.reset_index(drop=True, inplace=True)\n",
    "X_train.head(5)"
   ]
  },
  {
   "cell_type": "markdown",
   "metadata": {},
   "source": [
    "We are now ready to model the datasets."
   ]
  },
  {
   "cell_type": "markdown",
   "metadata": {},
   "source": [
    "## 2) Linear Regression\n",
    "\n",
    "#### 2.1) On the training set, train a linear regression model to predict the target feature, using only the descriptive features selected in exercise (1) above."
   ]
  },
  {
   "cell_type": "code",
   "execution_count": 71,
   "metadata": {},
   "outputs": [],
   "source": [
    "# Train aka fit, a model using all continuous and categorical features.\n",
    "multiple_linreg = LinearRegression().fit(X_train, y_train)"
   ]
  },
  {
   "cell_type": "markdown",
   "metadata": {},
   "source": [
    "#### (2.2) Print the coefficients learned by the model and discuss their role in the model.\n"
   ]
  },
  {
   "cell_type": "code",
   "execution_count": 72,
   "metadata": {},
   "outputs": [
    {
     "name": "stdout",
     "output_type": "stream",
     "text": [
      "\n",
      "Features are: \n",
      " Index(['Name_Provided_Yes', 'IntakeType_Owner Surrender',\n",
      "       'IntakeType_Public Assist', 'IntakeType_Stray', 'IntakeType_Wildlife',\n",
      "       'SexuponIntake_Intact Male', 'SexuponIntake_Neutered Male',\n",
      "       'SexuponIntake_Spayed Female', 'SexuponIntake_Unknown',\n",
      "       'Breed_Intake_Boxer', 'Breed_Intake_Chihuahua Shorthair',\n",
      "       'Breed_Intake_Domestic Longhair', 'Breed_Intake_Domestic Medium Hair',\n",
      "       'Breed_Intake_Domestic Shorthair', 'Breed_Intake_German Shepherd',\n",
      "       'Breed_Intake_Labrador Retriever', 'Breed_Intake_Miniature Poodle',\n",
      "       'Breed_Intake_Other Animal Breeds', 'Breed_Intake_Other Cat Breeds',\n",
      "       'Breed_Intake_Other Dog Breeds', 'Breed_Intake_Pit Bull',\n",
      "       'Breed_Intake_Siamese', 'Color_Intake_Brown Shades',\n",
      "       'Color_Intake_Grey', 'Color_Intake_Mixed Pattern', 'Color_Intake_Other',\n",
      "       'Color_Intake_White', 'SexuponOutcome_Intact Male',\n",
      "       'SexuponOutcome_Neutered Male', 'SexuponOutcome_Spayed Female',\n",
      "       'SexuponOutcome_Unknown', 'CatOrDog_1', 'SickOrInjured_1',\n",
      "       'Intake_Hour_bins_Late_Morning', 'Intake_Hour_bins_Afternoon',\n",
      "       'Intake_Hour_bins_Evening/Night'],\n",
      "      dtype='object')\n",
      "\n",
      "Coeficients are: \n",
      " [-7.22330409e-02 -9.16145411e-01 -8.89642193e-01 -9.73267442e-01\n",
      " -3.90379445e-01  8.51190525e+11  8.51190525e+11 -2.17457012e-02\n",
      "  1.98008754e+11 -5.63653741e-02 -1.34399433e-02 -1.04904207e-01\n",
      " -3.07537205e-02 -5.85787041e-02 -9.14325350e-02 -4.20435512e-02\n",
      "  8.17091366e-03  4.95744597e+11 -6.55186913e-02 -1.79210794e-02\n",
      "  2.58597052e-02  6.52552416e-02 -6.56058749e-03 -7.46057203e-02\n",
      " -1.57601247e-02 -2.76746426e-02 -3.18454208e-02 -8.51190525e+11\n",
      " -8.51190525e+11 -3.28974910e-02 -1.98008754e+11  4.95744597e+11\n",
      "  2.36398243e-01 -1.93108491e-04 -7.37327257e-03 -3.82845646e-02]\n",
      "\n",
      "Intercept is: \n",
      " -495744597164.5291\n",
      "\n",
      "Features and coeficients: \n",
      " [('Name_Provided_Yes', -0.07223304085312292), ('IntakeType_Owner Surrender', -0.916145410860707), ('IntakeType_Public Assist', -0.8896421927790268), ('IntakeType_Stray', -0.9732674417945281), ('IntakeType_Wildlife', -0.390379445142505), ('SexuponIntake_Intact Male', 851190525226.2593), ('SexuponIntake_Neutered Male', 851190525226.2745), ('SexuponIntake_Spayed Female', -0.021745701229984253), ('SexuponIntake_Unknown', 198008753827.01105), ('Breed_Intake_Boxer', -0.056365374093748324), ('Breed_Intake_Chihuahua Shorthair', -0.0134399432560733), ('Breed_Intake_Domestic Longhair', -0.10490420745544514), ('Breed_Intake_Domestic Medium Hair', -0.030753720519352833), ('Breed_Intake_Domestic Shorthair', -0.058578704088978806), ('Breed_Intake_German Shepherd', -0.09143253497986181), ('Breed_Intake_Labrador Retriever', -0.04204355124585902), ('Breed_Intake_Miniature Poodle', 0.008170913663977004), ('Breed_Intake_Other Animal Breeds', 495744597165.7863), ('Breed_Intake_Other Cat Breeds', -0.06551869126621788), ('Breed_Intake_Other Dog Breeds', -0.01792107939016502), ('Breed_Intake_Pit Bull', 0.025859705212774295), ('Breed_Intake_Siamese', 0.06525524164426698), ('Color_Intake_Brown Shades', -0.006560587494923465), ('Color_Intake_Grey', -0.07460572025198006), ('Color_Intake_Mixed Pattern', -0.015760124742688394), ('Color_Intake_Other', -0.027674642572668506), ('Color_Intake_White', -0.0318454207702768), ('SexuponOutcome_Intact Male', -851190525226.209), ('SexuponOutcome_Neutered Male', -851190525226.3029), ('SexuponOutcome_Spayed Female', -0.03289749102108326), ('SexuponOutcome_Unknown', -198008753826.94394), ('CatOrDog_1', 495744597165.6322), ('SickOrInjured_1', 0.2363982425597712), ('Intake_Hour_bins_Late_Morning', -0.00019310849088923125), ('Intake_Hour_bins_Afternoon', -0.007373272571924751), ('Intake_Hour_bins_Evening/Night', -0.03828456462231072)]\n"
     ]
    }
   ],
   "source": [
    "#Print out the weights that have been learned for each feature.\n",
    "print(\"\\nFeatures are: \\n\", X_train.columns)\n",
    "print(\"\\nCoeficients are: \\n\", multiple_linreg.coef_)\n",
    "print(\"\\nIntercept is: \\n\", multiple_linreg.intercept_)\n",
    "print(\"\\nFeatures and coeficients: \\n\", list(zip(X_train.columns, multiple_linreg.coef_)))"
   ]
  },
  {
   "cell_type": "markdown",
   "metadata": {},
   "source": [
    "#### Discussion: \n",
    "\n",
    "Before discussing the weights printout out above, we will first introduce linear regression. \n",
    "\n",
    "- Linear regression is a supervised machine learning method which is used to make predictions based on linear relationship between the target (dependent variable) and any number of independent variables (also known as predictors).\n",
    "- It finds the line of best fit that describes the relationship between the target and predictors. \n",
    "- The linear regression formula takes the following form:\n",
    "    - $target\\_feature = w_0 + w_1 * feature_1 + w_2*feature_2 + ...+ w_n*feature_n $\n",
    "    \n",
    "- In the formula, w_0, w_1 etc are known as the **model coefficients**. \n",
    "- To create the predictive model using linear regression, these coefficients must be \"learned\". \n",
    "- As seen in the image below, this is usually done using the **least squares criterion**. In other words, we find the line of best fit that describes the relationship between the target and predictors which minimises the **sum of squared residuals** (also known as sum of squared errors).\n",
    "<br><img src=\"linear_regression.png\" style=\"width: 300px;\"/> <br>\n",
    "Source: https://github.com/justmarkham/DAT4/blob/master/notebooks/08_linear_regression.ipynb\n",
    "\n",
    "- We will now understand the image above: \n",
    "    - The **black** dots are the observed values of x and y.\n",
    "    - The **blue line** is the least squares line. \n",
    "    - The **red lines** are the residuals. These are the distances between the observed values and the least squares line.\n",
    "    \n",
    "- Linear regression is a regression task, which means that it predicts a numeric target feature. Thus, the output from the formula above is a continuous value that can be less than 0 and higher than 1.\n",
    "- It is important to note one of the downfalls of linear regression is that it is sensitive to outliers. \n",
    "\n",
    "**Discussing the coefficients learned by the model:**\n",
    "- We can see above that the intercept is 1.15(this is w_0). This is the value of y when x is zero. In other words it is where the model intercepts the x axis. \n",
    "- If all other coefficients were zero, the model result would be 1.15\n",
    "- We can see the coefficients for each feature above. They are zipped together in a single list for ease of visualisation and interpretation.\n",
    "- All of our features are categorical features which are dummy coded. Thus, care needs to be taken when interpreting the coefficients. The first value of each feature (which we have dropped) is the reference and each dummy is compared to the reference.\n",
    "- For example, we see that Name_Provided_Yes decreases by 0.074%. This makes sense as we saw in our barplot above that animals with no name are more likely to be in class 1.\n",
    "\n",
    "**Classification problem**\n",
    "- We are trying to solve a classification problem and thus it is important to note that the output from a linear regression model is not suited to this type of problem.\n",
    "- The output we get from linear regression is not a probability. As a result, we will need to perform a thresholding step in order to convert the output into a binary classification. \n",
    "- The threshold will be as follows: \n",
    "    - Any values >= 0.5 will be cast to 1\n",
    "    - Any values <0.5 will be cast to 0"
   ]
  },
  {
   "cell_type": "markdown",
   "metadata": {},
   "source": [
    "#### 2.4 Printing 100 predicted target features and evaluate the prediction\n",
    "- Here we will print the predicted target feature value for the first 100 training examples. \n",
    "- As discussed above, we will now threshold the predicted target feature value given by the linear regression model at 0.5. This will give us the predicted class. "
   ]
  },
  {
   "cell_type": "code",
   "execution_count": 73,
   "metadata": {},
   "outputs": [
    {
     "name": "stdout",
     "output_type": "stream",
     "text": [
      "\n",
      "Predictions with multiple linear regression: \n",
      "\n",
      "    binary_outcome  Predicted\n",
      "0              0.0        0.0\n",
      "1              0.0        0.0\n",
      "2              0.0        0.0\n",
      "3              0.0        0.0\n",
      "4              0.0        0.0\n",
      "5              1.0        0.0\n",
      "6              0.0        0.0\n",
      "7              0.0        0.0\n",
      "8              0.0        0.0\n",
      "9              0.0        0.0\n",
      "10             0.0        0.0\n",
      "11             0.0        0.0\n",
      "12             0.0        0.0\n",
      "13             0.0        0.0\n",
      "14             0.0        0.0\n",
      "15             0.0        0.0\n",
      "16             1.0        1.0\n",
      "17             0.0        0.0\n",
      "18             0.0        0.0\n",
      "19             0.0        0.0\n"
     ]
    }
   ],
   "source": [
    "# calculate the prediction and threshold the value. If >= 0.5 its true\n",
    "multiple_linreg_predictions_train = (multiple_linreg.predict(X_train) >= 0.5) * 1.0\n",
    "\n",
    "print(\"\\nPredictions with multiple linear regression: \\n\")\n",
    "actual_vs_predicted_multiplelinreg = pd.concat([y_train, pd.DataFrame(multiple_linreg_predictions_train, columns=['Predicted'])], axis=1)\n",
    "print(actual_vs_predicted_multiplelinreg.head(20))"
   ]
  },
  {
   "cell_type": "markdown",
   "metadata": {},
   "source": [
    "#### 2.5 Evaluation metrics based on training data\n",
    "- We will now print the classification evaluation measures computed on the training set. These are:\n",
    "    - Accuracy\n",
    "    - Precision\n",
    "    - Confusion Matrix\n",
    "    - Recall\n",
    "    - F1\n",
    "- We will then discuss our findings."
   ]
  },
  {
   "cell_type": "code",
   "execution_count": 74,
   "metadata": {},
   "outputs": [
    {
     "name": "stdout",
     "output_type": "stream",
     "text": [
      "==================== Train Data =======================\n",
      "Accuracy:  0.9528571428571428\n",
      "Confusion matrix: \n",
      " [[643   1]\n",
      " [ 32  24]]\n",
      "Classification report:\n",
      "                precision    recall  f1-score   support\n",
      "\n",
      "         0.0       0.95      1.00      0.97       644\n",
      "         1.0       0.96      0.43      0.59        56\n",
      "\n",
      "    accuracy                           0.95       700\n",
      "   macro avg       0.96      0.71      0.78       700\n",
      "weighted avg       0.95      0.95      0.94       700\n",
      "\n",
      "======================================================\n"
     ]
    }
   ],
   "source": [
    "#print evaluation measures\n",
    "print(\"==================== Train Data =======================\")\n",
    "print(\"Accuracy: \", metrics.accuracy_score(y_train, multiple_linreg_predictions_train))\n",
    "print(\"Confusion matrix: \\n\", metrics.confusion_matrix(y_train, multiple_linreg_predictions_train))\n",
    "print(\"Classification report:\\n \", metrics.classification_report(y_train, multiple_linreg_predictions_train))\n",
    "print(\"======================================================\")"
   ]
  },
  {
   "cell_type": "markdown",
   "metadata": {},
   "source": [
    "#### Interpretation of results\n",
    "\n",
    "We will now explain what each of the measures above means and will discuss our results. \n",
    "\n",
    "- **Accuracy** tell us how often the model is correct. \n",
    "    - We have an accuracy of 95%\n",
    "- **Confusion Matrix** tells us the following:\n",
    "    - [0][0] TRUE NEGATIVE - The number predicted 0 that was actually 0\n",
    "    - [0][1] FALSE POSITIVE - The number predicted 1 that is actually 0\n",
    "    - [1][0] FALSE NEGATIVE - The number predicted 0 that is actually 1\n",
    "    - [1][1] TRUE POSITIVE - The number predicted 1 that is actually 1\n",
    "    - We can see that we have 32 false negatives.\n",
    "- **Precision** tells us the following\"\n",
    "    - What percentage of the predicted positive values are actually positive\n",
    "    - How good the model is at predicting the positive class\n",
    "    - It is the number of values which were correctly predicted positive over the total number of positive values\n",
    "    - Our precision negative is 0.95\n",
    "    - Our precision positive is 0.96\n",
    "- **Recall** tells us what % of the positive values we succesfully predicted.\n",
    "    - It is the number of values which were correctly predicted positive over the total number of positive values. \n",
    "    - Our recall negative is 1.00\n",
    "    - Our recall positive is 0.43. This low result is due to the large number of false negatives mentioned above. \n",
    "- **F1 Score** is a weighted average of precision and recall. \n",
    "    - Our F1 score negative is 0.97.\n",
    "    - Our F1 score positive is 0.59.\n",
    "    \n",
    "**Summary**\n",
    "- Some of the results are quite good. However, the positive recall is quite low.\n",
    "- We can see that the model is better at predicting the negative class. \n",
    "- The makes sense as the model has more negative data to learn from as it is the majority class. "
   ]
  },
  {
   "cell_type": "markdown",
   "metadata": {},
   "source": [
    "#### 2.6 Evaluate the model using the hold-out (30% examples) test set\n",
    "- The results from the test data will be compared the results from the training data.\n",
    "- In addition they will be compared to the results from a cross-validated model (i.e. a new model trained and evaluated using cross-validation on the full dataset)."
   ]
  },
  {
   "cell_type": "code",
   "execution_count": 75,
   "metadata": {},
   "outputs": [
    {
     "name": "stdout",
     "output_type": "stream",
     "text": [
      "\n",
      "Predictions with multiple linear regression: \n",
      "\n",
      "    binary_outcome  Predicted\n",
      "0              0.0        0.0\n",
      "1              0.0        0.0\n",
      "2              0.0        0.0\n",
      "3              0.0        0.0\n",
      "4              0.0        0.0\n",
      "5              0.0        0.0\n",
      "6              0.0        0.0\n",
      "7              1.0        0.0\n",
      "8              1.0        1.0\n",
      "9              0.0        0.0\n",
      "10             0.0        0.0\n",
      "11             0.0        0.0\n",
      "12             0.0        0.0\n",
      "13             0.0        0.0\n",
      "14             0.0        0.0\n",
      "15             0.0        0.0\n",
      "16             0.0        0.0\n",
      "17             0.0        0.0\n",
      "18             0.0        0.0\n",
      "19             0.0        0.0\n"
     ]
    }
   ],
   "source": [
    "# calculate the prediction and threshold the value. If >= 0.5 its true\n",
    "multiple_linreg_predictions_test = (multiple_linreg.predict(X_test) >= 0.5) * 1.0\n",
    "\n",
    "print(\"\\nPredictions with multiple linear regression: \\n\")\n",
    "actual_vs_predicted_multiplelinreg = pd.concat([y_test, pd.DataFrame(multiple_linreg_predictions_test, columns=['Predicted'])], axis=1)\n",
    "print(actual_vs_predicted_multiplelinreg.head(20))"
   ]
  },
  {
   "cell_type": "markdown",
   "metadata": {},
   "source": [
    "##### Evaluation metrics based on test data"
   ]
  },
  {
   "cell_type": "code",
   "execution_count": 76,
   "metadata": {
    "scrolled": true
   },
   "outputs": [
    {
     "name": "stdout",
     "output_type": "stream",
     "text": [
      "==================== Test Data =======================\n",
      "Accuracy:  0.9566666666666667\n",
      "Confusion matrix: \n",
      " [[276   0]\n",
      " [ 13  11]]\n",
      "Classification report - Test data:\n",
      "                precision    recall  f1-score   support\n",
      "\n",
      "         0.0       0.96      1.00      0.98       276\n",
      "         1.0       1.00      0.46      0.63        24\n",
      "\n",
      "    accuracy                           0.96       300\n",
      "   macro avg       0.98      0.73      0.80       300\n",
      "weighted avg       0.96      0.96      0.95       300\n",
      "\n",
      "\n",
      "==================== Train Data ======================\n",
      "Accuracy:  0.9528571428571428\n",
      "Confusion matrix: \n",
      " [[643   1]\n",
      " [ 32  24]]\n",
      "\n",
      "Classification report: - Training data\n",
      "                precision    recall  f1-score   support\n",
      "\n",
      "         0.0       0.95      1.00      0.97       644\n",
      "         1.0       0.96      0.43      0.59        56\n",
      "\n",
      "    accuracy                           0.95       700\n",
      "   macro avg       0.96      0.71      0.78       700\n",
      "weighted avg       0.95      0.95      0.94       700\n",
      "\n"
     ]
    }
   ],
   "source": [
    "# print evaluation metrics.\n",
    "print(\"==================== Test Data =======================\")\n",
    "print(\"Accuracy: \", metrics.accuracy_score(y_test, multiple_linreg_predictions_test))\n",
    "print(\"Confusion matrix: \\n\", metrics.confusion_matrix(y_test, multiple_linreg_predictions_test))\n",
    "print(\"Classification report - Test data:\\n \", metrics.classification_report(y_test, multiple_linreg_predictions_test))\n",
    "print(\"\\n==================== Train Data ======================\")\n",
    "print(\"Accuracy: \", metrics.accuracy_score(y_train, multiple_linreg_predictions_train))\n",
    "print(\"Confusion matrix: \\n\", metrics.confusion_matrix(y_train, multiple_linreg_predictions_train))\n",
    "print(\"\\nClassification report: - Training data\\n \", metrics.classification_report(y_train, multiple_linreg_predictions_train))"
   ]
  },
  {
   "cell_type": "markdown",
   "metadata": {},
   "source": [
    "#### Interpretation of results and comparison with training set\n",
    "\n",
    "We will now compare the test and training results.\n",
    "- **Accuracy:** \n",
    "    - The accuracy of the test data is marginally higher than the training data with a value of 95.66% compared to 95.25%. \n",
    "- **Precision:** \n",
    "    - The precision score for predicting the negative class has increased from 95% to 96%.\n",
    "    - The precision score for predicting the positive class has increased from 96% to 100%\n",
    "- **Recall:**\n",
    "    - The recall score for predicting the negative class is the same at 100%\n",
    "    - The recall score for predicting the positive class has increased from 43% t0 46%.\n",
    "- **F1:**\n",
    "    - The f1 score for predicting the negative class has increased from 97% to 98%.\n",
    "    - The f1 score for predicting the positive class has increased from 59% to 63%.\n",
    "\n",
    "**Summary**\n",
    "- We are pleased with these results as we are now testing the predictive model on data that has not been seen before. This is a good sign that the model is generalising to new data. \n",
    "- We will now explore this even further using cross validation. "
   ]
  },
  {
   "cell_type": "markdown",
   "metadata": {},
   "source": [
    "#### 2.7 Cross-validation\n",
    "\n",
    "- We will now perform cross-validation on the linear regression model. \n",
    "- Using cross validation we do repeated train/test splits and average the error on the test datasets. Thus, it can result in a less biased result than a simple train/test split. \n",
    "- To perform cross-validation we will randomly split the dataset into 10 equal partitions. We will then use one partition as the test set and the union of all other partitions as the training set. We will evaluate the results of the test set. We will then repeat these steps using a different partition as the test set for each iteration. Finally, we will take the average of all results. \n",
    "\n",
    "We will begin by creating a function to perform cross-validation as this is not provided by Scikit-Learn."
   ]
  },
  {
   "cell_type": "code",
   "execution_count": 77,
   "metadata": {},
   "outputs": [],
   "source": [
    "#this code is from the sample solution provided\n",
    "def cross_val_LinReg(X, y, cv=3, scoring='accuracy'):\n",
    "    \"\"\"Functions to carry out cross validation on the linear regression model\n",
    "    Default number of validations is 3. The randon state will be updated \n",
    "    at each iteration to allow our results to be repeated\"\"\"\n",
    "    \n",
    "    # store results\n",
    "    results = []\n",
    "    # evaluate cv times and append to results\n",
    "    for i in range(cv):\n",
    "        # set up train test split\n",
    "        X_train, X_test, y_train, y_test = train_test_split(X, y, random_state=i , test_size=0.3)\n",
    "        # generate model\n",
    "        multiple_linreg = LinearRegression().fit(X_train, y_train)\n",
    "        # threshold\n",
    "        multiple_linreg_predictions = (multiple_linreg.predict(X_test) >= 0.5) * 1.0\n",
    "        # calc score\n",
    "        if scoring=='accuracy':\n",
    "            score = metrics.accuracy_score(y_test, multiple_linreg_predictions)\n",
    "        elif scoring=='precision':\n",
    "            score = metrics.precision_score(y_test, multiple_linreg_predictions)\n",
    "        elif scoring=='f1':\n",
    "            score = metrics.f1_score(y_test, multiple_linreg_predictions)\n",
    "        elif scoring=='recall':\n",
    "            score = metrics.recall_score(y_test, multiple_linreg_predictions)\n",
    "        # append to results\n",
    "        results.append(score)\n",
    "    return results"
   ]
  },
  {
   "cell_type": "markdown",
   "metadata": {},
   "source": [
    "We will now create an additional function which will perform 100 fold cross validation and store results in a dataframe. This will done in order simplify further analysis the dataset, looking at accuracy, precision, recall, f1."
   ]
  },
  {
   "cell_type": "code",
   "execution_count": 78,
   "metadata": {},
   "outputs": [],
   "source": [
    "#this code is from the sample solution provided\n",
    "def cross_val_LinReg_DF(X,y):\n",
    "    \"\"\"Function to perform cross validation and store results \n",
    "    in dataframe. Cross validation looks at accuracy, precision, \n",
    "    recall, f1. Returns a dataframe with results\"\"\"\n",
    "\n",
    "    linRegResults = {}\n",
    "    # metrics to test against\n",
    "    test_metrics = ['accuracy','precision','recall', 'f1']\n",
    "    \n",
    "    for metric in test_metrics:\n",
    "        # generate test results\n",
    "        result = cross_val_LinReg(X, y, cv=10, scoring=metric)\n",
    "        length = len(result)\n",
    "        # store result in dict\n",
    "        linRegResults[metric] = sum(result)/length\n",
    "\n",
    "    # create dataframe with results\n",
    "    LinRegDF = pd.DataFrame.from_dict(linRegResults, orient='index', columns=['Linear_Regression'])\n",
    "    \n",
    "    return LinRegDF"
   ]
  },
  {
   "cell_type": "code",
   "execution_count": 79,
   "metadata": {},
   "outputs": [
    {
     "name": "stdout",
     "output_type": "stream",
     "text": [
      "Mean results from 100 fold cross validation are:\n"
     ]
    },
    {
     "data": {
      "text/html": [
       "<div>\n",
       "<style scoped>\n",
       "    .dataframe tbody tr th:only-of-type {\n",
       "        vertical-align: middle;\n",
       "    }\n",
       "\n",
       "    .dataframe tbody tr th {\n",
       "        vertical-align: top;\n",
       "    }\n",
       "\n",
       "    .dataframe thead th {\n",
       "        text-align: right;\n",
       "    }\n",
       "</style>\n",
       "<table border=\"1\" class=\"dataframe\">\n",
       "  <thead>\n",
       "    <tr style=\"text-align: right;\">\n",
       "      <th></th>\n",
       "      <th>Linear_Regression</th>\n",
       "    </tr>\n",
       "  </thead>\n",
       "  <tbody>\n",
       "    <tr>\n",
       "      <td>accuracy</td>\n",
       "      <td>0.950333</td>\n",
       "    </tr>\n",
       "    <tr>\n",
       "      <td>precision</td>\n",
       "      <td>0.939904</td>\n",
       "    </tr>\n",
       "    <tr>\n",
       "      <td>recall</td>\n",
       "      <td>0.461117</td>\n",
       "    </tr>\n",
       "    <tr>\n",
       "      <td>f1</td>\n",
       "      <td>0.590939</td>\n",
       "    </tr>\n",
       "  </tbody>\n",
       "</table>\n",
       "</div>"
      ],
      "text/plain": [
       "           Linear_Regression\n",
       "accuracy            0.950333\n",
       "precision           0.939904\n",
       "recall              0.461117\n",
       "f1                  0.590939"
      ]
     },
     "execution_count": 79,
     "metadata": {},
     "output_type": "execute_result"
    }
   ],
   "source": [
    "linRegDF = cross_val_LinReg_DF(X,y)\n",
    "print(f\"Mean results from 100 fold cross validation are:\")\n",
    "linRegDF"
   ]
  },
  {
   "cell_type": "markdown",
   "metadata": {},
   "source": [
    "As we can see, the results are marginally lower than we saw above for the test sample. For example, recall for the test sample was 0.46 in comparison to 0.43 seen here. This is due to the fact that we have taken the mean of 100 sets of results. "
   ]
  },
  {
   "cell_type": "markdown",
   "metadata": {},
   "source": [
    "## (3) Logistic Regression   "
   ]
  },
  {
   "cell_type": "markdown",
   "metadata": {},
   "source": [
    "#### 3.1 Train a logistic regression model using only the descriptive features selected from part 1 above.\n",
    "\n",
    "We will now use the same feature set selected above to perform a logistic regression. We then be able to compare the results to the linear regression performed above. "
   ]
  },
  {
   "cell_type": "code",
   "execution_count": 80,
   "metadata": {},
   "outputs": [],
   "source": [
    "# Train aka fit, a model using all continuous and categorical features.\n",
    "multiple_logisticreg = LogisticRegression().fit(X_train, y_train)"
   ]
  },
  {
   "cell_type": "code",
   "execution_count": 81,
   "metadata": {},
   "outputs": [
    {
     "name": "stdout",
     "output_type": "stream",
     "text": [
      "\n",
      "Features are: \n",
      " Index(['Name_Provided_Yes', 'IntakeType_Owner Surrender',\n",
      "       'IntakeType_Public Assist', 'IntakeType_Stray', 'IntakeType_Wildlife',\n",
      "       'SexuponIntake_Intact Male', 'SexuponIntake_Neutered Male',\n",
      "       'SexuponIntake_Spayed Female', 'SexuponIntake_Unknown',\n",
      "       'Breed_Intake_Boxer', 'Breed_Intake_Chihuahua Shorthair',\n",
      "       'Breed_Intake_Domestic Longhair', 'Breed_Intake_Domestic Medium Hair',\n",
      "       'Breed_Intake_Domestic Shorthair', 'Breed_Intake_German Shepherd',\n",
      "       'Breed_Intake_Labrador Retriever', 'Breed_Intake_Miniature Poodle',\n",
      "       'Breed_Intake_Other Animal Breeds', 'Breed_Intake_Other Cat Breeds',\n",
      "       'Breed_Intake_Other Dog Breeds', 'Breed_Intake_Pit Bull',\n",
      "       'Breed_Intake_Siamese', 'Color_Intake_Brown Shades',\n",
      "       'Color_Intake_Grey', 'Color_Intake_Mixed Pattern', 'Color_Intake_Other',\n",
      "       'Color_Intake_White', 'SexuponOutcome_Intact Male',\n",
      "       'SexuponOutcome_Neutered Male', 'SexuponOutcome_Spayed Female',\n",
      "       'SexuponOutcome_Unknown', 'CatOrDog_1', 'SickOrInjured_1',\n",
      "       'Intake_Hour_bins_Late_Morning', 'Intake_Hour_bins_Afternoon',\n",
      "       'Intake_Hour_bins_Evening/Night'],\n",
      "      dtype='object')\n",
      "\n",
      "Coeficients are: \n",
      " [-1.66323619e+00 -3.29695756e-01 -7.19640414e-02 -1.82280934e+00\n",
      "  1.26099616e+00 -5.49003402e-01  5.21388061e-01 -3.95180485e-01\n",
      "  3.97504135e-01 -2.62134705e-01  1.17302485e-02 -3.34193414e-01\n",
      "  2.56654102e-01 -6.06105125e-01 -5.98796518e-01 -3.05999715e-01\n",
      "  1.32897336e-01  5.30828332e-01 -3.05438323e-01  7.02797648e-02\n",
      "  9.14653439e-01  5.00193384e-01  1.75398579e-01 -5.19854920e-01\n",
      " -1.11397824e-01 -3.22348753e-01 -4.41529662e-01  9.37293567e-01\n",
      " -9.64908908e-01 -1.08052682e+00  3.97504135e-01 -6.44368585e-01\n",
      "  2.47167710e+00  4.63925981e-04  3.05274064e-02 -3.43808629e-01]\n",
      "\n",
      "Intercept is: \n",
      " [-0.11354025]\n",
      "\n",
      "Features and coeficients: \n",
      " [('Name_Provided_Yes', -1.6632361932716968), ('IntakeType_Owner Surrender', -0.3296957561088087), ('IntakeType_Public Assist', -0.07196404136482239), ('IntakeType_Stray', -1.8228093399102565), ('IntakeType_Wildlife', 1.2609961564536645), ('SexuponIntake_Intact Male', -0.5490034023400409), ('SexuponIntake_Neutered Male', 0.521388061258258), ('SexuponIntake_Spayed Female', -0.3951804845294807), ('SexuponIntake_Unknown', 0.3975041345084826), ('Breed_Intake_Boxer', -0.2621347046878509), ('Breed_Intake_Chihuahua Shorthair', 0.011730248451031941), ('Breed_Intake_Domestic Longhair', -0.3341934144983282), ('Breed_Intake_Domestic Medium Hair', 0.25665410216014445), ('Breed_Intake_Domestic Shorthair', -0.6061051252000541), ('Breed_Intake_German Shepherd', -0.5987965177484017), ('Breed_Intake_Labrador Retriever', -0.30599971536033665), ('Breed_Intake_Miniature Poodle', 0.1328973362644485), ('Breed_Intake_Other Animal Breeds', 0.5308283320950181), ('Breed_Intake_Other Cat Breeds', -0.30543832285878314), ('Breed_Intake_Other Dog Breeds', 0.07027976484540395), ('Breed_Intake_Pit Bull', 0.9146534388045798), ('Breed_Intake_Siamese', 0.500193384272941), ('Color_Intake_Brown Shades', 0.1753985787156355), ('Color_Intake_Grey', -0.519854919882644), ('Color_Intake_Mixed Pattern', -0.11139782393793925), ('Color_Intake_Other', -0.3223487533620027), ('Color_Intake_White', -0.44152966173693237), ('SexuponOutcome_Intact Male', 0.9372935672757946), ('SexuponOutcome_Neutered Male', -0.9649089083575827), ('SexuponOutcome_Spayed Female', -1.0805268169926678), ('SexuponOutcome_Unknown', 0.3975041345084826), ('CatOrDog_1', -0.6443685847633056), ('SickOrInjured_1', 2.4716770964727712), ('Intake_Hour_bins_Late_Morning', 0.0004639259805437352), ('Intake_Hour_bins_Afternoon', 0.030527406387145826), ('Intake_Hour_bins_Evening/Night', -0.3438086285924342)]\n"
     ]
    }
   ],
   "source": [
    "# Print the weights learned for each feature.\n",
    "print(\"\\nFeatures are: \\n\", X_train.columns)\n",
    "print(\"\\nCoeficients are: \\n\", multiple_logisticreg.coef_[0])\n",
    "print(\"\\nIntercept is: \\n\", multiple_logisticreg.intercept_)\n",
    "print(\"\\nFeatures and coeficients: \\n\", list(zip(X_train.columns, multiple_logisticreg.coef_[0])))"
   ]
  },
  {
   "cell_type": "markdown",
   "metadata": {},
   "source": [
    "#### Interpretation of results\n",
    "\n",
    "Before discussing the coefficients printed above, we will first briefly introduce logistic regression. \n",
    "\n",
    "- As with linear regression, in logistic regression we find the line of best fit. \n",
    "- However, we have seen above that the output of linear regression in a continious value and is not a probability. Instead, we manually thresholded the value in order to convert it into a binary classification.\n",
    "- In logistic regression however, the output is a probability between 0 and 1.\n",
    "- Briefly, the logistic function involves the following steps: \n",
    "    - The line of best fit is found\n",
    "    - The equation of the line is passed through a function called the sigmoid function.\n",
    "    - The sigmoid function outputs a probability between 0 and 1.\n",
    "    - The model then applies a threshold to the probability. Values < 0.5 are cast to 0 and values >= 0.5 are cast to 1. The threshold can be manually adjusted. \n",
    "    \n",
    "- The formula for the logistic regression function is: \n",
    "$probability(target=1|descriptive\\_features)=logistic(w_0 + w_1 * feature_1 + w_2*feature_2 + ...+ w_n*feature_n)$ <br>\n",
    "where $logistic(x)$ is defined as: $logistic(x) = \\frac{e ^ x}{1 + e ^ x} = \\frac{1}{1+e^{-x}}$\n",
    "\n",
    "**Discussing the coefficients learned by the model:**\n",
    "- We can see above that the intercept is -0.128(this is w_0). This is the value of y when x is zero. In other words it is where the model intercepts the x axis. \n",
    "- If all other coefficients were zero, the model result would be -0.128.\n",
    "- We can see the coefficients for each feature above. They are zipped together in a single list for ease of visualisation and interpretation.\n",
    "- As explained above when discussing the coefficients learned for linear regression, the value of each dummy is in relation to the reference value for that feature.  \n",
    "- The effect of each of these value 'x' is the same as for linear regression. When the value 'x' is fed into the logistic function we will see the difference between the two methods. \n",
    "- We mentioned above that linear regression is sensitive to outliers. Logistic regression on the other hand is good at dealing with outliers.\n",
    "\n",
    "## TODO more info on logistic regression outliers. Add an image"
   ]
  },
  {
   "cell_type": "markdown",
   "metadata": {},
   "source": [
    "#### 3.4 Printing 100 predicted target features and evaluate the prediction\n",
    "- We will now print the predicted target feature value for the first 100 training samples. "
   ]
  },
  {
   "cell_type": "code",
   "execution_count": 82,
   "metadata": {},
   "outputs": [
    {
     "name": "stdout",
     "output_type": "stream",
     "text": [
      "\n",
      "Predictions with multiple linear regression: \n",
      "\n",
      "    binary_outcome  Predicted\n",
      "0              0.0        0.0\n",
      "1              0.0        0.0\n",
      "2              0.0        0.0\n",
      "3              0.0        0.0\n",
      "4              0.0        0.0\n",
      "..             ...        ...\n",
      "95             0.0        0.0\n",
      "96             0.0        0.0\n",
      "97             1.0        0.0\n",
      "98             0.0        1.0\n",
      "99             0.0        0.0\n",
      "\n",
      "[100 rows x 2 columns]\n"
     ]
    }
   ],
   "source": [
    "# calculate the prediction and threshold the value. If >= 0.5 its true\n",
    "multiple_logisticreg_predictions_train = multiple_logisticreg.predict(X_train)\n",
    "\n",
    "print(\"\\nPredictions with multiple linear regression: \\n\")\n",
    "actual_vs_predicted_multiplelogisticreg = pd.concat([y_train, pd.DataFrame(multiple_logisticreg_predictions_train, columns=['Predicted'])], axis=1)\n",
    "print(actual_vs_predicted_multiplelogisticreg.head(100))"
   ]
  },
  {
   "cell_type": "markdown",
   "metadata": {},
   "source": [
    "#### 3.5 Evaluation metrics based on training data\n",
    "- We will print the classification evaluation measures computed on the training set (e.g. Accuracy, Confusion matrix, Precision, Recall, F1)\n",
    "- We will discuss finding based on these measures"
   ]
  },
  {
   "cell_type": "code",
   "execution_count": 83,
   "metadata": {},
   "outputs": [
    {
     "name": "stdout",
     "output_type": "stream",
     "text": [
      "==================== Train Data =======================\n",
      "Accuracy:  0.9614285714285714\n",
      "Confusion matrix: \n",
      " [[640   4]\n",
      " [ 23  33]]\n",
      "Classification report:\n",
      "                precision    recall  f1-score   support\n",
      "\n",
      "         0.0       0.97      0.99      0.98       644\n",
      "         1.0       0.89      0.59      0.71        56\n",
      "\n",
      "    accuracy                           0.96       700\n",
      "   macro avg       0.93      0.79      0.84       700\n",
      "weighted avg       0.96      0.96      0.96       700\n",
      "\n",
      "======================================================\n"
     ]
    }
   ],
   "source": [
    "# Some more evaluation metrics.\n",
    "print(\"==================== Train Data =======================\")\n",
    "print(\"Accuracy: \", metrics.accuracy_score(y_train, multiple_logisticreg_predictions_train))\n",
    "print(\"Confusion matrix: \\n\", metrics.confusion_matrix(y_train, multiple_logisticreg_predictions_train))\n",
    "print(\"Classification report:\\n \", metrics.classification_report(y_train, multiple_logisticreg_predictions_train))\n",
    "print(\"======================================================\")"
   ]
  },
  {
   "cell_type": "markdown",
   "metadata": {},
   "source": [
    "#### Interpretation of results\n",
    "\n",
    "- As before, the **Confusion Matrix** tells us the following:\n",
    "    - [0][0] TRUE NEGATIVE - The number predicted 0 that was actually 0\n",
    "    - [0][1] FALSE POSITIVE - The number predicted 1 that is actually 0\n",
    "    - [1][0] FALSE NEGATIVE - The number predicted 0 that is actually 1\n",
    "    - [1][1] TRUE POSITIVE - The number predicted 1 that is actually 1\n",
    "    - We can see that we have 23 false negatives and 3 false positives.\n",
    "- **Accuracy:** \n",
    "    - We have an accuracy of 96%\n",
    "- **Precision:**\n",
    "    - Precision negative is 0.97\n",
    "    - Precision positive is 0.93\n",
    "- **Recall:**\n",
    "    - Recall negative is 1.00\n",
    "    - Recall positive is 0.54\n",
    "- **F1 score:**\n",
    "    - F1 negative is 0.98\n",
    "    - F1 positive is 0.68\n",
    "\n",
    "Summary: \n",
    "- Given the results we acheived for our linear regression, these results seem reasonable.\n",
    "- The accuracy is in line with the 95% acheived for linear regression.\n",
    "- We can see that logistic regression has better scores for recall and f1 for the positive class than seen in linear regression."
   ]
  },
  {
   "cell_type": "markdown",
   "metadata": {},
   "source": [
    "#### 3.6 Evaluate the model using the hold-out (30% examples) test set\n",
    "- We will now evaluate the model using the test set. \n",
    "- We will compare the results of the test set against the training set. \n",
    "- We will then compare the results to the results from a cross-validated model (i.e., a new model trained and evaluated using cross-validation on the full dataset)"
   ]
  },
  {
   "cell_type": "markdown",
   "metadata": {},
   "source": [
    "We will begin by printing the actual binary_outcome vs the predicted values based on the test data. "
   ]
  },
  {
   "cell_type": "code",
   "execution_count": 84,
   "metadata": {},
   "outputs": [
    {
     "name": "stdout",
     "output_type": "stream",
     "text": [
      "\n",
      "Predictions with multiple linear regression: \n",
      "\n",
      "    binary_outcome  Predicted\n",
      "0              0.0        0.0\n",
      "1              0.0        0.0\n",
      "2              0.0        0.0\n",
      "3              0.0        0.0\n",
      "4              0.0        0.0\n",
      "5              0.0        0.0\n",
      "6              0.0        0.0\n",
      "7              1.0        1.0\n",
      "8              1.0        1.0\n",
      "9              0.0        0.0\n",
      "10             0.0        0.0\n",
      "11             0.0        0.0\n",
      "12             0.0        0.0\n",
      "13             0.0        0.0\n",
      "14             0.0        0.0\n",
      "15             0.0        0.0\n",
      "16             0.0        0.0\n",
      "17             0.0        0.0\n",
      "18             0.0        0.0\n",
      "19             0.0        0.0\n"
     ]
    }
   ],
   "source": [
    "# calculate the prediction and threshold the value. If >= 0.5 its true\n",
    "multiple_logisticreg_predictions_test = multiple_logisticreg.predict(X_test)\n",
    "\n",
    "print(\"\\nPredictions with multiple linear regression: \\n\")\n",
    "actual_vs_predicted_multiplelogisticreg = pd.concat([y_test, pd.DataFrame(multiple_logisticreg_predictions_test, columns=['Predicted'])], axis=1)\n",
    "print(actual_vs_predicted_multiplelogisticreg.head(20))"
   ]
  },
  {
   "cell_type": "code",
   "execution_count": 85,
   "metadata": {},
   "outputs": [
    {
     "name": "stdout",
     "output_type": "stream",
     "text": [
      "==================== Test Data =======================\n",
      "Accuracy:  0.96\n",
      "Confusion matrix: \n",
      " [[273   3]\n",
      " [  9  15]]\n",
      "Classification report:\n",
      "                precision    recall  f1-score   support\n",
      "\n",
      "         0.0       0.97      0.99      0.98       276\n",
      "         1.0       0.83      0.62      0.71        24\n",
      "\n",
      "    accuracy                           0.96       300\n",
      "   macro avg       0.90      0.81      0.85       300\n",
      "weighted avg       0.96      0.96      0.96       300\n",
      "\n",
      "==================== Train Data =======================\n",
      "Accuracy:  0.9614285714285714\n",
      "Confusion matrix: \n",
      " [[640   4]\n",
      " [ 23  33]]\n",
      "Classification report:\n",
      "                precision    recall  f1-score   support\n",
      "\n",
      "         0.0       0.97      0.99      0.98       644\n",
      "         1.0       0.89      0.59      0.71        56\n",
      "\n",
      "    accuracy                           0.96       700\n",
      "   macro avg       0.93      0.79      0.84       700\n",
      "weighted avg       0.96      0.96      0.96       700\n",
      "\n",
      "======================================================\n"
     ]
    }
   ],
   "source": [
    "# Some more evaluation metrics.\n",
    "print(\"==================== Test Data =======================\")\n",
    "print(\"Accuracy: \", metrics.accuracy_score(y_test, multiple_logisticreg_predictions_test))\n",
    "print(\"Confusion matrix: \\n\", metrics.confusion_matrix(y_test, multiple_logisticreg_predictions_test))\n",
    "print(\"Classification report:\\n \", metrics.classification_report(y_test, multiple_logisticreg_predictions_test))\n",
    "print(\"==================== Train Data =======================\")\n",
    "print(\"Accuracy: \", metrics.accuracy_score(y_train, multiple_logisticreg_predictions_train))\n",
    "print(\"Confusion matrix: \\n\", metrics.confusion_matrix(y_train, multiple_logisticreg_predictions_train))\n",
    "print(\"Classification report:\\n \", metrics.classification_report(y_train, multiple_logisticreg_predictions_train))\n",
    "print(\"======================================================\")"
   ]
  },
  {
   "cell_type": "markdown",
   "metadata": {},
   "source": [
    "#### Interpretation of results and comparison with training set\n",
    "\n",
    "We will now compare the test and training results.\n",
    "- **Accuracy:** \n",
    "    - The accuracy of the test data very similar to the training set at 96%.\n",
    "- **Precision:** \n",
    "    - The precision score for predicting the negative class has stayed at 97%.\n",
    "    - The precision score for predicting the positive class has decreased from 92% to 83%. \n",
    "- **Recall:**\n",
    "    - The recall score for predicting the negative class has decreased from 100% to 99%.\n",
    "    - The recall score for predicting the positive class has increased from 59% to 62%.\n",
    "- **F1:**\n",
    "    - The f1 score for predicting the negative class has remained the same at 98%.\n",
    "    - The f1 score for predicting the positive class has decreased from 72% to 71%.\n",
    "\n",
    "**Summary**\n",
    "- We can see that the results of the test set for logistic regression have not improved from the training set to the same extent that we saw in linear regression.\n",
    "- The precision for predicting the positive class has dropped. However, this is normal as we are testing the model on data it has not seen before. \n",
    "- The recall for the positive class has increased which is good. This shows that the model is generalising well to new data. \n",
    "- We will now investigate further with cross-validation. "
   ]
  },
  {
   "cell_type": "markdown",
   "metadata": {},
   "source": [
    "#### 3.7 Cross validation\n",
    "\n",
    "- We will now perform cross-validation, as explained above in section 2.7.\n",
    "- The first step we will take when performing cross-validation is to create a function which will perform 10 fold cross validation. This function will store the results into a dataframe. This step is taken in order to make it easier for us to evaluate the model by looking at accuracy, precision, recall, f1.\n",
    "- Unlike for linear regression, Scikit-Learn has a built in function called cross_val_score() which we will use to calculate the results of the cross-validation. "
   ]
  },
  {
   "cell_type": "markdown",
   "metadata": {},
   "source": [
    "## TODO look at stdev also"
   ]
  },
  {
   "cell_type": "code",
   "execution_count": 86,
   "metadata": {},
   "outputs": [],
   "source": [
    "#method is from sample solution provided\n",
    "def cross_val_LogReg_DF(X,y):\n",
    "    \"\"\"Function to perform cross validation and store results \n",
    "    in dataframe. Cross validation looks at accuracy, precision, \n",
    "    recall, f1. Returns a dataframe with results\"\"\"\n",
    "\n",
    "    logRegResults = {}\n",
    "    # metrics to test against\n",
    "    test_metrics = ['accuracy','precision','recall', 'f1']\n",
    "\n",
    "    for metric in test_metrics:\n",
    "        # generate test results\n",
    "        result = cross_val_score(LogisticRegression(), X, y, scoring=metric, cv=10)\n",
    "        # store result in dict\n",
    "        logRegResults[metric] = result.mean()\n",
    "\n",
    "    # create dataframe with results\n",
    "    LogRegDF = pd.DataFrame.from_dict(logRegResults, orient='index', columns=['Logistic_Regression'])\n",
    "    \n",
    "    return LogRegDF"
   ]
  },
  {
   "cell_type": "markdown",
   "metadata": {},
   "source": [
    "In the cell below we will now call the function defined above and summarise the results. "
   ]
  },
  {
   "cell_type": "code",
   "execution_count": 87,
   "metadata": {},
   "outputs": [
    {
     "name": "stdout",
     "output_type": "stream",
     "text": [
      "Mean results from 10 fold cross validation are:\n"
     ]
    },
    {
     "data": {
      "text/html": [
       "<div>\n",
       "<style scoped>\n",
       "    .dataframe tbody tr th:only-of-type {\n",
       "        vertical-align: middle;\n",
       "    }\n",
       "\n",
       "    .dataframe tbody tr th {\n",
       "        vertical-align: top;\n",
       "    }\n",
       "\n",
       "    .dataframe thead th {\n",
       "        text-align: right;\n",
       "    }\n",
       "</style>\n",
       "<table border=\"1\" class=\"dataframe\">\n",
       "  <thead>\n",
       "    <tr style=\"text-align: right;\">\n",
       "      <th></th>\n",
       "      <th>Logistic_Regression</th>\n",
       "    </tr>\n",
       "  </thead>\n",
       "  <tbody>\n",
       "    <tr>\n",
       "      <td>accuracy</td>\n",
       "      <td>0.958000</td>\n",
       "    </tr>\n",
       "    <tr>\n",
       "      <td>precision</td>\n",
       "      <td>0.893333</td>\n",
       "    </tr>\n",
       "    <tr>\n",
       "      <td>recall</td>\n",
       "      <td>0.550000</td>\n",
       "    </tr>\n",
       "    <tr>\n",
       "      <td>f1</td>\n",
       "      <td>0.668157</td>\n",
       "    </tr>\n",
       "  </tbody>\n",
       "</table>\n",
       "</div>"
      ],
      "text/plain": [
       "           Logistic_Regression\n",
       "accuracy              0.958000\n",
       "precision             0.893333\n",
       "recall                0.550000\n",
       "f1                    0.668157"
      ]
     },
     "execution_count": 87,
     "metadata": {},
     "output_type": "execute_result"
    }
   ],
   "source": [
    "logRegDF = cross_val_LogReg_DF(X,y)\n",
    "print(f\"Mean results from 10 fold cross validation are:\")\n",
    "logRegDF"
   ]
  },
  {
   "cell_type": "markdown",
   "metadata": {},
   "source": [
    "These results are in line with the results seen for cross-validation in section 2.7. We can see that the results for recall and f1 are lower than seen in the test set. The results for precision however, are higher at 92% compared to 83% in the test set. The accuracy is very similar at 95%. These results make sense given that we have taken the mean of 10 sets of results. "
   ]
  },
  {
   "cell_type": "markdown",
   "metadata": {},
   "source": [
    "## (4) Random Forest Model"
   ]
  },
  {
   "cell_type": "markdown",
   "metadata": {},
   "source": [
    "- We will now train a random forest model on our data.\n",
    "- As we are working on a classification problem, we will use classification trees. \n",
    "- We use the RandomForestClassifier() function. \n",
    "- The random state will be set to 1 to allow the results to be repeated. This means that any ties between features will be split in the same way each time we run the code, thus giving us the same tree each time."
   ]
  },
  {
   "cell_type": "code",
   "execution_count": 88,
   "metadata": {},
   "outputs": [
    {
     "data": {
      "text/plain": [
       "RandomForestClassifier(bootstrap=True, class_weight=None, criterion='gini',\n",
       "                       max_depth=None, max_features='auto', max_leaf_nodes=None,\n",
       "                       min_impurity_decrease=0.0, min_impurity_split=None,\n",
       "                       min_samples_leaf=1, min_samples_split=2,\n",
       "                       min_weight_fraction_leaf=0.0, n_estimators=100,\n",
       "                       n_jobs=None, oob_score=True, random_state=1, verbose=0,\n",
       "                       warm_start=False)"
      ]
     },
     "execution_count": 88,
     "metadata": {},
     "output_type": "execute_result"
    }
   ],
   "source": [
    "# Train RF with 100 trees\n",
    "rfc = RandomForestClassifier(n_estimators=100, max_features='auto', oob_score=True, random_state=1)\n",
    "rfc.fit(X_train, y_train)"
   ]
  },
  {
   "cell_type": "markdown",
   "metadata": {},
   "source": [
    "### 4.1 Train a random forest model using only the descriptive features selected from part 1 above.\n",
    "- A random forest model will now be trained on our test data.\n",
    "- A random forest is an ensemble of decision trees.\n",
    "- **Decision Tree:**\n",
    "    - A decision tree is a chart that shows probabilities. It is a set of if-then-else rules computed from the training data and then used to classify the test data. \n",
    "    - It begins at the top of the tree and splits the features based on the information gain. As default, Scikit-Learn measures this using the Gini index.\n",
    "        - As described at https://github.com/justmarkham/DAT4/blob/master/notebooks/15_decision_trees.ipynb, the gini index is a measure of total variance across classes in a region.\n",
    "        - A dataset containing only one class will have 0 Gini impurity. \n",
    "        - The idea when building a decision tree is to choose the feature with the least Gini impurity as the root node. \n",
    "     - Thus, the tree will always split on the feature that gives the highest information gain. The feature with the highest information gain (lowest Gini impurity) will sit at the root of each decision tree.\n",
    "    - We keep repeating this process until a stopping criteria is met (such as a **maximum depth of the tree** or the **minimum number of samples in the leaf**).\n",
    "    - The farthest branch on the tree represents the end result.\n",
    "- **Random Forest:**\n",
    "    - A random forest is made up of a number of decision trees. \n",
    "    - The output of the random forest is based on the majority output of all combined decision trees. \n"
   ]
  },
  {
   "cell_type": "markdown",
   "metadata": {},
   "source": [
    "####  4.2.1  Train Decision tree\n",
    "We will train 2 decision trees, with the same data.\n",
    "- One with max_depth=4 and the other max_depth=10\n",
    "- Max depth determines how deep a decision tree can go before it must stop splitting. "
   ]
  },
  {
   "cell_type": "code",
   "execution_count": 89,
   "metadata": {},
   "outputs": [
    {
     "name": "stdout",
     "output_type": "stream",
     "text": [
      "Max depth 4: \n",
      " DecisionTreeClassifier(class_weight=None, criterion='gini', max_depth=4,\n",
      "                       max_features=None, max_leaf_nodes=None,\n",
      "                       min_impurity_decrease=0.0, min_impurity_split=None,\n",
      "                       min_samples_leaf=1, min_samples_split=2,\n",
      "                       min_weight_fraction_leaf=0.0, presort=False,\n",
      "                       random_state=1, splitter='best')\n",
      "Max depth 10: \n",
      " DecisionTreeClassifier(class_weight=None, criterion='gini', max_depth=10,\n",
      "                       max_features=None, max_leaf_nodes=None,\n",
      "                       min_impurity_decrease=0.0, min_impurity_split=None,\n",
      "                       min_samples_leaf=1, min_samples_split=2,\n",
      "                       min_weight_fraction_leaf=0.0, presort=False,\n",
      "                       random_state=1, splitter='best')\n"
     ]
    }
   ],
   "source": [
    "dtc4 = DecisionTreeClassifier(max_depth=4, random_state=1)\n",
    "dtc10 = DecisionTreeClassifier(max_depth=10, random_state=1)\n",
    "dtc4.fit(X_train, y_train)\n",
    "dtc10.fit(X_train, y_train)\n",
    "print(\"Max depth 4: \\n\",dtc4)\n",
    "print(\"Max depth 10: \\n\",dtc10)"
   ]
  },
  {
   "cell_type": "markdown",
   "metadata": {},
   "source": [
    "####  4.2.2  Display Decision tree\n",
    "We will create graph of each tree and store as an image"
   ]
  },
  {
   "cell_type": "code",
   "execution_count": 90,
   "metadata": {},
   "outputs": [],
   "source": [
    "# create a Graphviz png\n",
    "with open(\"DecisionTree4.dot\", 'w') as f1:\n",
    "    f1 = export_graphviz(dtc4, out_file=f1, feature_names=X_train.columns)\n",
    "with open(\"DecisionTree10.dot\", 'w') as f2:\n",
    "    f2 = export_graphviz(dtc10, out_file=f2, feature_names=X_train.columns)\n",
    "!dot -Tpng DecisionTree4.dot -o DecisionTree4.png\n",
    "!dot -Tpng DecisionTree10.dot -o DecisionTree10.png"
   ]
  },
  {
   "cell_type": "markdown",
   "metadata": {},
   "source": [
    "<img src=\"DecisionTree4.png\">"
   ]
  },
  {
   "cell_type": "markdown",
   "metadata": {},
   "source": [
    "<img src=\"DecisionTree10.png\">"
   ]
  },
  {
   "cell_type": "code",
   "execution_count": 91,
   "metadata": {},
   "outputs": [
    {
     "data": {
      "text/html": [
       "<div>\n",
       "<style scoped>\n",
       "    .dataframe tbody tr th:only-of-type {\n",
       "        vertical-align: middle;\n",
       "    }\n",
       "\n",
       "    .dataframe tbody tr th {\n",
       "        vertical-align: top;\n",
       "    }\n",
       "\n",
       "    .dataframe thead th {\n",
       "        text-align: right;\n",
       "    }\n",
       "</style>\n",
       "<table border=\"1\" class=\"dataframe\">\n",
       "  <thead>\n",
       "    <tr style=\"text-align: right;\">\n",
       "      <th></th>\n",
       "      <th>feature</th>\n",
       "      <th>importance</th>\n",
       "    </tr>\n",
       "  </thead>\n",
       "  <tbody>\n",
       "    <tr>\n",
       "      <td>4</td>\n",
       "      <td>IntakeType_Wildlife</td>\n",
       "      <td>0.134086</td>\n",
       "    </tr>\n",
       "    <tr>\n",
       "      <td>32</td>\n",
       "      <td>SickOrInjured_1</td>\n",
       "      <td>0.123591</td>\n",
       "    </tr>\n",
       "    <tr>\n",
       "      <td>17</td>\n",
       "      <td>Breed_Intake_Other Animal Breeds</td>\n",
       "      <td>0.084027</td>\n",
       "    </tr>\n",
       "    <tr>\n",
       "      <td>31</td>\n",
       "      <td>CatOrDog_1</td>\n",
       "      <td>0.082568</td>\n",
       "    </tr>\n",
       "    <tr>\n",
       "      <td>30</td>\n",
       "      <td>SexuponOutcome_Unknown</td>\n",
       "      <td>0.068871</td>\n",
       "    </tr>\n",
       "    <tr>\n",
       "      <td>0</td>\n",
       "      <td>Name_Provided_Yes</td>\n",
       "      <td>0.053216</td>\n",
       "    </tr>\n",
       "    <tr>\n",
       "      <td>3</td>\n",
       "      <td>IntakeType_Stray</td>\n",
       "      <td>0.048188</td>\n",
       "    </tr>\n",
       "    <tr>\n",
       "      <td>8</td>\n",
       "      <td>SexuponIntake_Unknown</td>\n",
       "      <td>0.039789</td>\n",
       "    </tr>\n",
       "    <tr>\n",
       "      <td>1</td>\n",
       "      <td>IntakeType_Owner Surrender</td>\n",
       "      <td>0.029569</td>\n",
       "    </tr>\n",
       "    <tr>\n",
       "      <td>22</td>\n",
       "      <td>Color_Intake_Brown Shades</td>\n",
       "      <td>0.028786</td>\n",
       "    </tr>\n",
       "    <tr>\n",
       "      <td>27</td>\n",
       "      <td>SexuponOutcome_Intact Male</td>\n",
       "      <td>0.024510</td>\n",
       "    </tr>\n",
       "    <tr>\n",
       "      <td>24</td>\n",
       "      <td>Color_Intake_Mixed Pattern</td>\n",
       "      <td>0.023026</td>\n",
       "    </tr>\n",
       "    <tr>\n",
       "      <td>33</td>\n",
       "      <td>Intake_Hour_bins_Late_Morning</td>\n",
       "      <td>0.022098</td>\n",
       "    </tr>\n",
       "    <tr>\n",
       "      <td>34</td>\n",
       "      <td>Intake_Hour_bins_Afternoon</td>\n",
       "      <td>0.019523</td>\n",
       "    </tr>\n",
       "    <tr>\n",
       "      <td>19</td>\n",
       "      <td>Breed_Intake_Other Dog Breeds</td>\n",
       "      <td>0.019378</td>\n",
       "    </tr>\n",
       "    <tr>\n",
       "      <td>25</td>\n",
       "      <td>Color_Intake_Other</td>\n",
       "      <td>0.019293</td>\n",
       "    </tr>\n",
       "    <tr>\n",
       "      <td>20</td>\n",
       "      <td>Breed_Intake_Pit Bull</td>\n",
       "      <td>0.018688</td>\n",
       "    </tr>\n",
       "    <tr>\n",
       "      <td>13</td>\n",
       "      <td>Breed_Intake_Domestic Shorthair</td>\n",
       "      <td>0.018278</td>\n",
       "    </tr>\n",
       "    <tr>\n",
       "      <td>2</td>\n",
       "      <td>IntakeType_Public Assist</td>\n",
       "      <td>0.016964</td>\n",
       "    </tr>\n",
       "    <tr>\n",
       "      <td>28</td>\n",
       "      <td>SexuponOutcome_Neutered Male</td>\n",
       "      <td>0.015946</td>\n",
       "    </tr>\n",
       "    <tr>\n",
       "      <td>26</td>\n",
       "      <td>Color_Intake_White</td>\n",
       "      <td>0.015188</td>\n",
       "    </tr>\n",
       "    <tr>\n",
       "      <td>29</td>\n",
       "      <td>SexuponOutcome_Spayed Female</td>\n",
       "      <td>0.013976</td>\n",
       "    </tr>\n",
       "    <tr>\n",
       "      <td>5</td>\n",
       "      <td>SexuponIntake_Intact Male</td>\n",
       "      <td>0.013768</td>\n",
       "    </tr>\n",
       "    <tr>\n",
       "      <td>6</td>\n",
       "      <td>SexuponIntake_Neutered Male</td>\n",
       "      <td>0.013707</td>\n",
       "    </tr>\n",
       "    <tr>\n",
       "      <td>10</td>\n",
       "      <td>Breed_Intake_Chihuahua Shorthair</td>\n",
       "      <td>0.008468</td>\n",
       "    </tr>\n",
       "    <tr>\n",
       "      <td>21</td>\n",
       "      <td>Breed_Intake_Siamese</td>\n",
       "      <td>0.008172</td>\n",
       "    </tr>\n",
       "    <tr>\n",
       "      <td>7</td>\n",
       "      <td>SexuponIntake_Spayed Female</td>\n",
       "      <td>0.006159</td>\n",
       "    </tr>\n",
       "    <tr>\n",
       "      <td>15</td>\n",
       "      <td>Breed_Intake_Labrador Retriever</td>\n",
       "      <td>0.005885</td>\n",
       "    </tr>\n",
       "    <tr>\n",
       "      <td>12</td>\n",
       "      <td>Breed_Intake_Domestic Medium Hair</td>\n",
       "      <td>0.005449</td>\n",
       "    </tr>\n",
       "    <tr>\n",
       "      <td>35</td>\n",
       "      <td>Intake_Hour_bins_Evening/Night</td>\n",
       "      <td>0.005429</td>\n",
       "    </tr>\n",
       "    <tr>\n",
       "      <td>23</td>\n",
       "      <td>Color_Intake_Grey</td>\n",
       "      <td>0.005016</td>\n",
       "    </tr>\n",
       "    <tr>\n",
       "      <td>16</td>\n",
       "      <td>Breed_Intake_Miniature Poodle</td>\n",
       "      <td>0.004519</td>\n",
       "    </tr>\n",
       "    <tr>\n",
       "      <td>14</td>\n",
       "      <td>Breed_Intake_German Shepherd</td>\n",
       "      <td>0.001481</td>\n",
       "    </tr>\n",
       "    <tr>\n",
       "      <td>18</td>\n",
       "      <td>Breed_Intake_Other Cat Breeds</td>\n",
       "      <td>0.000979</td>\n",
       "    </tr>\n",
       "    <tr>\n",
       "      <td>11</td>\n",
       "      <td>Breed_Intake_Domestic Longhair</td>\n",
       "      <td>0.000784</td>\n",
       "    </tr>\n",
       "    <tr>\n",
       "      <td>9</td>\n",
       "      <td>Breed_Intake_Boxer</td>\n",
       "      <td>0.000626</td>\n",
       "    </tr>\n",
       "  </tbody>\n",
       "</table>\n",
       "</div>"
      ],
      "text/plain": [
       "                              feature  importance\n",
       "4                 IntakeType_Wildlife    0.134086\n",
       "32                    SickOrInjured_1    0.123591\n",
       "17   Breed_Intake_Other Animal Breeds    0.084027\n",
       "31                         CatOrDog_1    0.082568\n",
       "30             SexuponOutcome_Unknown    0.068871\n",
       "0                   Name_Provided_Yes    0.053216\n",
       "3                    IntakeType_Stray    0.048188\n",
       "8               SexuponIntake_Unknown    0.039789\n",
       "1          IntakeType_Owner Surrender    0.029569\n",
       "22          Color_Intake_Brown Shades    0.028786\n",
       "27         SexuponOutcome_Intact Male    0.024510\n",
       "24         Color_Intake_Mixed Pattern    0.023026\n",
       "33      Intake_Hour_bins_Late_Morning    0.022098\n",
       "34         Intake_Hour_bins_Afternoon    0.019523\n",
       "19      Breed_Intake_Other Dog Breeds    0.019378\n",
       "25                 Color_Intake_Other    0.019293\n",
       "20              Breed_Intake_Pit Bull    0.018688\n",
       "13    Breed_Intake_Domestic Shorthair    0.018278\n",
       "2            IntakeType_Public Assist    0.016964\n",
       "28       SexuponOutcome_Neutered Male    0.015946\n",
       "26                 Color_Intake_White    0.015188\n",
       "29       SexuponOutcome_Spayed Female    0.013976\n",
       "5           SexuponIntake_Intact Male    0.013768\n",
       "6         SexuponIntake_Neutered Male    0.013707\n",
       "10   Breed_Intake_Chihuahua Shorthair    0.008468\n",
       "21               Breed_Intake_Siamese    0.008172\n",
       "7         SexuponIntake_Spayed Female    0.006159\n",
       "15    Breed_Intake_Labrador Retriever    0.005885\n",
       "12  Breed_Intake_Domestic Medium Hair    0.005449\n",
       "35     Intake_Hour_bins_Evening/Night    0.005429\n",
       "23                  Color_Intake_Grey    0.005016\n",
       "16      Breed_Intake_Miniature Poodle    0.004519\n",
       "14       Breed_Intake_German Shepherd    0.001481\n",
       "18      Breed_Intake_Other Cat Breeds    0.000979\n",
       "11     Breed_Intake_Domestic Longhair    0.000784\n",
       "9                  Breed_Intake_Boxer    0.000626"
      ]
     },
     "execution_count": 91,
     "metadata": {},
     "output_type": "execute_result"
    }
   ],
   "source": [
    "importance = pd.DataFrame({'feature': X_train.columns, 'importance':rfc.feature_importances_})\n",
    "importance.sort_values('importance', ascending=False)"
   ]
  },
  {
   "cell_type": "markdown",
   "metadata": {},
   "source": [
    "### 4.4 Printing 100 predicted target features and evaluate the prediction \n",
    "- Here we will print the predicted target feature value for the first 100 training examples. "
   ]
  },
  {
   "cell_type": "code",
   "execution_count": 92,
   "metadata": {},
   "outputs": [
    {
     "data": {
      "text/html": [
       "<div>\n",
       "<style scoped>\n",
       "    .dataframe tbody tr th:only-of-type {\n",
       "        vertical-align: middle;\n",
       "    }\n",
       "\n",
       "    .dataframe tbody tr th {\n",
       "        vertical-align: top;\n",
       "    }\n",
       "\n",
       "    .dataframe thead th {\n",
       "        text-align: right;\n",
       "    }\n",
       "</style>\n",
       "<table border=\"1\" class=\"dataframe\">\n",
       "  <thead>\n",
       "    <tr style=\"text-align: right;\">\n",
       "      <th></th>\n",
       "      <th>ActualClass</th>\n",
       "      <th>PredictedClass</th>\n",
       "    </tr>\n",
       "  </thead>\n",
       "  <tbody>\n",
       "    <tr>\n",
       "      <td>0</td>\n",
       "      <td>0.0</td>\n",
       "      <td>0.0</td>\n",
       "    </tr>\n",
       "    <tr>\n",
       "      <td>1</td>\n",
       "      <td>0.0</td>\n",
       "      <td>0.0</td>\n",
       "    </tr>\n",
       "    <tr>\n",
       "      <td>2</td>\n",
       "      <td>0.0</td>\n",
       "      <td>0.0</td>\n",
       "    </tr>\n",
       "    <tr>\n",
       "      <td>3</td>\n",
       "      <td>0.0</td>\n",
       "      <td>0.0</td>\n",
       "    </tr>\n",
       "    <tr>\n",
       "      <td>4</td>\n",
       "      <td>0.0</td>\n",
       "      <td>0.0</td>\n",
       "    </tr>\n",
       "    <tr>\n",
       "      <td>...</td>\n",
       "      <td>...</td>\n",
       "      <td>...</td>\n",
       "    </tr>\n",
       "    <tr>\n",
       "      <td>95</td>\n",
       "      <td>0.0</td>\n",
       "      <td>0.0</td>\n",
       "    </tr>\n",
       "    <tr>\n",
       "      <td>96</td>\n",
       "      <td>0.0</td>\n",
       "      <td>0.0</td>\n",
       "    </tr>\n",
       "    <tr>\n",
       "      <td>97</td>\n",
       "      <td>1.0</td>\n",
       "      <td>0.0</td>\n",
       "    </tr>\n",
       "    <tr>\n",
       "      <td>98</td>\n",
       "      <td>0.0</td>\n",
       "      <td>0.0</td>\n",
       "    </tr>\n",
       "    <tr>\n",
       "      <td>99</td>\n",
       "      <td>0.0</td>\n",
       "      <td>0.0</td>\n",
       "    </tr>\n",
       "  </tbody>\n",
       "</table>\n",
       "<p>100 rows × 2 columns</p>\n",
       "</div>"
      ],
      "text/plain": [
       "    ActualClass  PredictedClass\n",
       "0           0.0             0.0\n",
       "1           0.0             0.0\n",
       "2           0.0             0.0\n",
       "3           0.0             0.0\n",
       "4           0.0             0.0\n",
       "..          ...             ...\n",
       "95          0.0             0.0\n",
       "96          0.0             0.0\n",
       "97          1.0             0.0\n",
       "98          0.0             0.0\n",
       "99          0.0             0.0\n",
       "\n",
       "[100 rows x 2 columns]"
      ]
     },
     "execution_count": 92,
     "metadata": {},
     "output_type": "execute_result"
    }
   ],
   "source": [
    "# Predicted class labels for all examples, \n",
    "# using the trained model, on in-sample data (same sample used for training and test)\n",
    "rfc_predictions_train = rfc.predict(X_train)\n",
    "df_true_vs_rfc_predicted = pd.DataFrame({'ActualClass': y_train, 'PredictedClass': rfc_predictions_train})\n",
    "df_true_vs_rfc_predicted.head(100)"
   ]
  },
  {
   "cell_type": "markdown",
   "metadata": {},
   "source": [
    "### 4.5 Evaluation metrics based on training data\n",
    "- We will print the classification evaluation measures computed on the training set (e.g. Accuracy, Confusion matrix, Precision, Recall, F1)\n",
    "- We will discuss finding based on these measures"
   ]
  },
  {
   "cell_type": "code",
   "execution_count": 93,
   "metadata": {},
   "outputs": [
    {
     "name": "stdout",
     "output_type": "stream",
     "text": [
      "==================== Train Data =======================\n",
      "Accuracy:  0.9885714285714285\n",
      "Confusion matrix: \n",
      " [[644   0]\n",
      " [  8  48]]\n",
      "Classification report:\n",
      "                precision    recall  f1-score   support\n",
      "\n",
      "         0.0       0.99      1.00      0.99       644\n",
      "         1.0       1.00      0.86      0.92        56\n",
      "\n",
      "    accuracy                           0.99       700\n",
      "   macro avg       0.99      0.93      0.96       700\n",
      "weighted avg       0.99      0.99      0.99       700\n",
      "\n"
     ]
    }
   ],
   "source": [
    "print(\"==================== Train Data =======================\")\n",
    "print(\"Accuracy: \", metrics.accuracy_score(y_train, rfc_predictions_train))\n",
    "print(\"Confusion matrix: \\n\", metrics.confusion_matrix(y_train, rfc_predictions_train))\n",
    "print(\"Classification report:\\n \", metrics.classification_report(y_train, rfc_predictions_train))"
   ]
  },
  {
   "cell_type": "markdown",
   "metadata": {},
   "source": [
    "### 4.6 Evaluate the model using the hold-out (30% examples) test set\n",
    "- These results from the test data will be compared the results from the training data.\n",
    "- In addition they will be compared to the results from a cross-validated model (i.e., a new model trained and evaluated using cross-validation on the full dataset)."
   ]
  },
  {
   "cell_type": "code",
   "execution_count": 94,
   "metadata": {},
   "outputs": [
    {
     "data": {
      "text/html": [
       "<div>\n",
       "<style scoped>\n",
       "    .dataframe tbody tr th:only-of-type {\n",
       "        vertical-align: middle;\n",
       "    }\n",
       "\n",
       "    .dataframe tbody tr th {\n",
       "        vertical-align: top;\n",
       "    }\n",
       "\n",
       "    .dataframe thead th {\n",
       "        text-align: right;\n",
       "    }\n",
       "</style>\n",
       "<table border=\"1\" class=\"dataframe\">\n",
       "  <thead>\n",
       "    <tr style=\"text-align: right;\">\n",
       "      <th></th>\n",
       "      <th>ActualClass</th>\n",
       "      <th>PredictedClass</th>\n",
       "    </tr>\n",
       "  </thead>\n",
       "  <tbody>\n",
       "    <tr>\n",
       "      <td>0</td>\n",
       "      <td>0.0</td>\n",
       "      <td>0.0</td>\n",
       "    </tr>\n",
       "    <tr>\n",
       "      <td>1</td>\n",
       "      <td>0.0</td>\n",
       "      <td>0.0</td>\n",
       "    </tr>\n",
       "    <tr>\n",
       "      <td>2</td>\n",
       "      <td>0.0</td>\n",
       "      <td>0.0</td>\n",
       "    </tr>\n",
       "    <tr>\n",
       "      <td>3</td>\n",
       "      <td>0.0</td>\n",
       "      <td>0.0</td>\n",
       "    </tr>\n",
       "    <tr>\n",
       "      <td>4</td>\n",
       "      <td>0.0</td>\n",
       "      <td>0.0</td>\n",
       "    </tr>\n",
       "    <tr>\n",
       "      <td>5</td>\n",
       "      <td>0.0</td>\n",
       "      <td>0.0</td>\n",
       "    </tr>\n",
       "    <tr>\n",
       "      <td>6</td>\n",
       "      <td>0.0</td>\n",
       "      <td>0.0</td>\n",
       "    </tr>\n",
       "    <tr>\n",
       "      <td>7</td>\n",
       "      <td>1.0</td>\n",
       "      <td>0.0</td>\n",
       "    </tr>\n",
       "    <tr>\n",
       "      <td>8</td>\n",
       "      <td>1.0</td>\n",
       "      <td>1.0</td>\n",
       "    </tr>\n",
       "    <tr>\n",
       "      <td>9</td>\n",
       "      <td>0.0</td>\n",
       "      <td>0.0</td>\n",
       "    </tr>\n",
       "    <tr>\n",
       "      <td>10</td>\n",
       "      <td>0.0</td>\n",
       "      <td>0.0</td>\n",
       "    </tr>\n",
       "    <tr>\n",
       "      <td>11</td>\n",
       "      <td>0.0</td>\n",
       "      <td>0.0</td>\n",
       "    </tr>\n",
       "    <tr>\n",
       "      <td>12</td>\n",
       "      <td>0.0</td>\n",
       "      <td>0.0</td>\n",
       "    </tr>\n",
       "    <tr>\n",
       "      <td>13</td>\n",
       "      <td>0.0</td>\n",
       "      <td>0.0</td>\n",
       "    </tr>\n",
       "    <tr>\n",
       "      <td>14</td>\n",
       "      <td>0.0</td>\n",
       "      <td>0.0</td>\n",
       "    </tr>\n",
       "    <tr>\n",
       "      <td>15</td>\n",
       "      <td>0.0</td>\n",
       "      <td>0.0</td>\n",
       "    </tr>\n",
       "    <tr>\n",
       "      <td>16</td>\n",
       "      <td>0.0</td>\n",
       "      <td>0.0</td>\n",
       "    </tr>\n",
       "    <tr>\n",
       "      <td>17</td>\n",
       "      <td>0.0</td>\n",
       "      <td>0.0</td>\n",
       "    </tr>\n",
       "    <tr>\n",
       "      <td>18</td>\n",
       "      <td>0.0</td>\n",
       "      <td>0.0</td>\n",
       "    </tr>\n",
       "    <tr>\n",
       "      <td>19</td>\n",
       "      <td>0.0</td>\n",
       "      <td>0.0</td>\n",
       "    </tr>\n",
       "  </tbody>\n",
       "</table>\n",
       "</div>"
      ],
      "text/plain": [
       "    ActualClass  PredictedClass\n",
       "0           0.0             0.0\n",
       "1           0.0             0.0\n",
       "2           0.0             0.0\n",
       "3           0.0             0.0\n",
       "4           0.0             0.0\n",
       "5           0.0             0.0\n",
       "6           0.0             0.0\n",
       "7           1.0             0.0\n",
       "8           1.0             1.0\n",
       "9           0.0             0.0\n",
       "10          0.0             0.0\n",
       "11          0.0             0.0\n",
       "12          0.0             0.0\n",
       "13          0.0             0.0\n",
       "14          0.0             0.0\n",
       "15          0.0             0.0\n",
       "16          0.0             0.0\n",
       "17          0.0             0.0\n",
       "18          0.0             0.0\n",
       "19          0.0             0.0"
      ]
     },
     "execution_count": 94,
     "metadata": {},
     "output_type": "execute_result"
    }
   ],
   "source": [
    "# Predicted class labels for all examples, \n",
    "# using the trained model, on in-sample data (same sample used for training and test)\n",
    "rfc_predictions_test = rfc.predict(X_test)\n",
    "df_true_vs_rfc_predicted_test = pd.DataFrame({'ActualClass': y_test, 'PredictedClass': rfc_predictions_test})\n",
    "df_true_vs_rfc_predicted_test.head(20)"
   ]
  },
  {
   "cell_type": "code",
   "execution_count": 95,
   "metadata": {},
   "outputs": [
    {
     "name": "stdout",
     "output_type": "stream",
     "text": [
      "==================== Test Data =======================\n",
      "Accuracy:  0.9566666666666667\n",
      "Confusion matrix: \n",
      " [[274   2]\n",
      " [ 11  13]]\n",
      "Classification report:\n",
      "                precision    recall  f1-score   support\n",
      "\n",
      "         0.0       0.96      0.99      0.98       276\n",
      "         1.0       0.87      0.54      0.67        24\n",
      "\n",
      "    accuracy                           0.96       300\n",
      "   macro avg       0.91      0.77      0.82       300\n",
      "weighted avg       0.95      0.96      0.95       300\n",
      "\n",
      "==================== Train Data =======================\n",
      "Accuracy:  0.9885714285714285\n",
      "Confusion matrix: \n",
      " [[644   0]\n",
      " [  8  48]]\n",
      "Classification report:\n",
      "                precision    recall  f1-score   support\n",
      "\n",
      "         0.0       0.99      1.00      0.99       644\n",
      "         1.0       1.00      0.86      0.92        56\n",
      "\n",
      "    accuracy                           0.99       700\n",
      "   macro avg       0.99      0.93      0.96       700\n",
      "weighted avg       0.99      0.99      0.99       700\n",
      "\n",
      "======================================================\n"
     ]
    }
   ],
   "source": [
    "print(\"==================== Test Data =======================\")\n",
    "print(\"Accuracy: \", metrics.accuracy_score(y_test, rfc_predictions_test))\n",
    "print(\"Confusion matrix: \\n\", metrics.confusion_matrix(y_test, rfc_predictions_test))\n",
    "print(\"Classification report:\\n \", metrics.classification_report(y_test, rfc_predictions_test))\n",
    "print(\"==================== Train Data =======================\")\n",
    "print(\"Accuracy: \", metrics.accuracy_score(y_train, rfc_predictions_train))\n",
    "print(\"Confusion matrix: \\n\", metrics.confusion_matrix(y_train, rfc_predictions_train))\n",
    "print(\"Classification report:\\n \", metrics.classification_report(y_train, rfc_predictions_train))\n",
    "print(\"======================================================\")"
   ]
  },
  {
   "cell_type": "markdown",
   "metadata": {},
   "source": [
    "### 4.7 Cross validation\n",
    "- We will preform cross validation and store the results in a dictionary for later use"
   ]
  },
  {
   "cell_type": "code",
   "execution_count": 96,
   "metadata": {},
   "outputs": [],
   "source": [
    "def cross_val_RandomForest_DF(X,y, depth=None, estimators=100):\n",
    "    \"\"\"Function to perform cross validation and store results \n",
    "    in dataframe. Cross validation looks at accuracy, precision, \n",
    "    recall, f1. Returns a dataframe with results\"\"\"\n",
    "\n",
    "    # store results in dict\n",
    "    RandomForestResults = {}\n",
    "    # metrics to test against\n",
    "    test_metrics = ['accuracy','precision','recall', 'f1']\n",
    "\n",
    "    for metric in test_metrics:\n",
    "        # generate test results\n",
    "        result = cross_val_score(RandomForestClassifier(n_estimators=estimators, max_features='auto', oob_score=True, random_state=1, max_depth=depth), X, y, scoring=metric, cv=10)\n",
    "        # store result in dict\n",
    "        RandomForestResults[metric] = result.mean()\n",
    "    \n",
    "    # create dataframe with results\n",
    "    RandomForestDF = pd.DataFrame.from_dict(RandomForestResults, orient='index', columns=['Random_Forests'])\n",
    "\n",
    "    return RandomForestDF"
   ]
  },
  {
   "cell_type": "code",
   "execution_count": 97,
   "metadata": {},
   "outputs": [
    {
     "name": "stdout",
     "output_type": "stream",
     "text": [
      "Mean results from 10 fold cross validation are:\n"
     ]
    },
    {
     "data": {
      "text/html": [
       "<div>\n",
       "<style scoped>\n",
       "    .dataframe tbody tr th:only-of-type {\n",
       "        vertical-align: middle;\n",
       "    }\n",
       "\n",
       "    .dataframe tbody tr th {\n",
       "        vertical-align: top;\n",
       "    }\n",
       "\n",
       "    .dataframe thead th {\n",
       "        text-align: right;\n",
       "    }\n",
       "</style>\n",
       "<table border=\"1\" class=\"dataframe\">\n",
       "  <thead>\n",
       "    <tr style=\"text-align: right;\">\n",
       "      <th></th>\n",
       "      <th>Random_Forests</th>\n",
       "    </tr>\n",
       "  </thead>\n",
       "  <tbody>\n",
       "    <tr>\n",
       "      <td>accuracy</td>\n",
       "      <td>0.952000</td>\n",
       "    </tr>\n",
       "    <tr>\n",
       "      <td>precision</td>\n",
       "      <td>0.846905</td>\n",
       "    </tr>\n",
       "    <tr>\n",
       "      <td>recall</td>\n",
       "      <td>0.525000</td>\n",
       "    </tr>\n",
       "    <tr>\n",
       "      <td>f1</td>\n",
       "      <td>0.621984</td>\n",
       "    </tr>\n",
       "  </tbody>\n",
       "</table>\n",
       "</div>"
      ],
      "text/plain": [
       "           Random_Forests\n",
       "accuracy         0.952000\n",
       "precision        0.846905\n",
       "recall           0.525000\n",
       "f1               0.621984"
      ]
     },
     "execution_count": 97,
     "metadata": {},
     "output_type": "execute_result"
    }
   ],
   "source": [
    "RandomForestDF = cross_val_RandomForest_DF(X,y)\n",
    "print(f\"Mean results from 10 fold cross validation are:\")\n",
    "RandomForestDF"
   ]
  },
  {
   "cell_type": "code",
   "execution_count": null,
   "metadata": {},
   "outputs": [],
   "source": []
  }
 ],
 "metadata": {
  "kernelspec": {
   "display_name": "Python 3",
   "language": "python",
   "name": "python3"
  },
  "language_info": {
   "codemirror_mode": {
    "name": "ipython",
    "version": 3
   },
   "file_extension": ".py",
   "mimetype": "text/x-python",
   "name": "python",
   "nbconvert_exporter": "python",
   "pygments_lexer": "ipython3",
   "version": "3.7.4"
  }
 },
 "nbformat": 4,
 "nbformat_minor": 2
}
