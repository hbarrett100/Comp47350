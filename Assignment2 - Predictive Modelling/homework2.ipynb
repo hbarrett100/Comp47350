{
 "cells": [
  {
   "cell_type": "markdown",
   "metadata": {},
   "source": [
    "# Homework2"
   ]
  },
  {
   "cell_type": "markdown",
   "metadata": {},
   "source": [
    "## Introduction\n",
    "\n",
    "- This notebook will apply the cleaned dataset from homework 1 and use it to create 3 different models to predict whether an applicant for credit will repay their credit within 2 years.\n",
    "    - The value 0 indicates that an animal will have a positive outcome (adopted/returned to owner).\n",
    "    - The value 1 indicates that an animal will have a negative outcome (death).\n",
    "- Each model will be a supervised learning model and the output will be a binary classification. \n",
    "- For each applicant a number of features will be given (independent variables) and the target, risk performance (dependent variable), will be predicted.\n",
    "\n",
    "This homework will be broken down into 4 main parts:\n",
    "1. Review the dataset from homework one and decide on which features to use to build our model\n",
    "2. Create a Linear Regression model and analyse\n",
    "3. Create a Logistical Regression model and analyse\n",
    "4. Create a Random Forest model and analyse\n",
    "5. Try to optimize each model\n",
    "\n",
    "We will begin by importing the packages needed for this assignment. "
   ]
  },
  {
   "cell_type": "code",
   "execution_count": 1,
   "metadata": {},
   "outputs": [],
   "source": [
    "import pandas as pd\n",
    "import numpy as np\n",
    "import seaborn as sns\n",
    "import matplotlib.pyplot as plt\n",
    "import matplotlib.patches as mpatches\n",
    "\n",
    "from patsy import dmatrices\n",
    "\n",
    "from sklearn.linear_model import LinearRegression\n",
    "from sklearn.linear_model import LogisticRegression\n",
    "from sklearn.tree import DecisionTreeClassifier\n",
    "from sklearn.ensemble import RandomForestClassifier\n",
    "from sklearn.model_selection import train_test_split\n",
    "from sklearn import metrics\n",
    "from sklearn.model_selection import cross_validate\n",
    "from sklearn.model_selection import cross_val_score\n",
    "from sklearn.tree import export_graphviz\n",
    "\n",
    "# import graphviz\n",
    "# from graphviz import Source\n",
    "\n",
    "# ignore warnings\n",
    "import warnings\n",
    "warnings.filterwarnings('ignore')"
   ]
  },
  {
   "cell_type": "markdown",
   "metadata": {},
   "source": [
    "## 1) Data Understanding and Prep\n",
    "\n",
    "The original dataset was cleaned in homework 1 and will now be imported as a starting point for this homework. There are some points to note before proceeding: \n",
    "\n",
    "- The cleaned dataset will be a starting point however, some additional cleaning steps will be performed before proceeding with homework2. \n",
    "- The data quality report for the cleaned dataset has been provided as a reference. \n",
    "- A summary of the data quality plan is seen below. \n",
    "- Based on the findings in homework1, four additional features were added. These are: \n",
    "    - 'SexKnown' which indicates whether the sex of an animal is known or not. \n",
    "    - 'CatOrDog' which indicates whether an animal is either a cat or a dog or not. \n",
    "    - 'AgeIntake_bins which grouped the ages of animals upon intake into four equal frequency bins.\n",
    "    - 'SickOrInjured' which indicates whether an animal was sick/injured or not. "
   ]
  },
  {
   "cell_type": "markdown",
   "metadata": {},
   "source": [
    "## Insert data quality plan table here!"
   ]
  },
  {
   "cell_type": "markdown",
   "metadata": {},
   "source": [
    "We will begin by importing the cleaned dataset from homework 1. "
   ]
  },
  {
   "cell_type": "code",
   "execution_count": 2,
   "metadata": {},
   "outputs": [],
   "source": [
    "# read in the cleaned csv\n",
    "df = pd.read_csv(\"19205514_cleaned_new_features_added.csv\")"
   ]
  },
  {
   "cell_type": "markdown",
   "metadata": {},
   "source": [
    "We will now look at the first five lines of this dataset. "
   ]
  },
  {
   "cell_type": "code",
   "execution_count": 3,
   "metadata": {},
   "outputs": [
    {
     "data": {
      "text/html": [
       "<div>\n",
       "<style scoped>\n",
       "    .dataframe tbody tr th:only-of-type {\n",
       "        vertical-align: middle;\n",
       "    }\n",
       "\n",
       "    .dataframe tbody tr th {\n",
       "        vertical-align: top;\n",
       "    }\n",
       "\n",
       "    .dataframe thead th {\n",
       "        text-align: right;\n",
       "    }\n",
       "</style>\n",
       "<table border=\"1\" class=\"dataframe\">\n",
       "  <thead>\n",
       "    <tr style=\"text-align: right;\">\n",
       "      <th></th>\n",
       "      <th>AnimalID</th>\n",
       "      <th>Name_Provided</th>\n",
       "      <th>DateTime_Intake</th>\n",
       "      <th>FoundLocation</th>\n",
       "      <th>IntakeType</th>\n",
       "      <th>IntakeCondition</th>\n",
       "      <th>AnimalType_Intake</th>\n",
       "      <th>SexuponIntake</th>\n",
       "      <th>AgeuponIntake</th>\n",
       "      <th>Breed_Intake</th>\n",
       "      <th>...</th>\n",
       "      <th>DateTime_Outcome</th>\n",
       "      <th>DateofBirth</th>\n",
       "      <th>SexuponOutcome</th>\n",
       "      <th>AgeuponOutcome</th>\n",
       "      <th>binary_outcome</th>\n",
       "      <th>percent</th>\n",
       "      <th>SexKnown</th>\n",
       "      <th>CatOrDog</th>\n",
       "      <th>AgeIntake_bins</th>\n",
       "      <th>SickOrInjured</th>\n",
       "    </tr>\n",
       "  </thead>\n",
       "  <tbody>\n",
       "    <tr>\n",
       "      <th>0</th>\n",
       "      <td>A687076</td>\n",
       "      <td>Yes</td>\n",
       "      <td>2014-08-30 17:55:00</td>\n",
       "      <td>Austin (TX)</td>\n",
       "      <td>Stray</td>\n",
       "      <td>Normal</td>\n",
       "      <td>Cat</td>\n",
       "      <td>Intact Female</td>\n",
       "      <td>76</td>\n",
       "      <td>Domestic Shorthair</td>\n",
       "      <td>...</td>\n",
       "      <td>2014-09-05 14:33:00</td>\n",
       "      <td>2014-06-15 00:00:00</td>\n",
       "      <td>Spayed Female</td>\n",
       "      <td>82</td>\n",
       "      <td>0</td>\n",
       "      <td>0.109769</td>\n",
       "      <td>1</td>\n",
       "      <td>1</td>\n",
       "      <td>(55.8, 92.0]</td>\n",
       "      <td>0</td>\n",
       "    </tr>\n",
       "    <tr>\n",
       "      <th>1</th>\n",
       "      <td>A685139</td>\n",
       "      <td>No</td>\n",
       "      <td>2014-08-03 11:23:00</td>\n",
       "      <td>Austin (TX)</td>\n",
       "      <td>Stray</td>\n",
       "      <td>Other</td>\n",
       "      <td>Dog</td>\n",
       "      <td>Intact Female</td>\n",
       "      <td>92</td>\n",
       "      <td>Other Dog Breeds</td>\n",
       "      <td>...</td>\n",
       "      <td>2014-08-07 18:09:00</td>\n",
       "      <td>2014-05-03 00:00:00</td>\n",
       "      <td>Spayed Female</td>\n",
       "      <td>96</td>\n",
       "      <td>0</td>\n",
       "      <td>0.109769</td>\n",
       "      <td>1</td>\n",
       "      <td>1</td>\n",
       "      <td>(55.8, 92.0]</td>\n",
       "      <td>0</td>\n",
       "    </tr>\n",
       "    <tr>\n",
       "      <th>2</th>\n",
       "      <td>A741039</td>\n",
       "      <td>Yes</td>\n",
       "      <td>2016-12-27 11:18:00</td>\n",
       "      <td>Austin (TX)</td>\n",
       "      <td>Stray</td>\n",
       "      <td>Normal</td>\n",
       "      <td>Dog</td>\n",
       "      <td>Intact Male</td>\n",
       "      <td>366</td>\n",
       "      <td>Other Dog Breeds</td>\n",
       "      <td>...</td>\n",
       "      <td>2017-01-01 15:27:00</td>\n",
       "      <td>2015-12-27 00:00:00</td>\n",
       "      <td>Intact Male</td>\n",
       "      <td>371</td>\n",
       "      <td>0</td>\n",
       "      <td>0.109769</td>\n",
       "      <td>1</td>\n",
       "      <td>1</td>\n",
       "      <td>(365.0, 427.6]</td>\n",
       "      <td>0</td>\n",
       "    </tr>\n",
       "    <tr>\n",
       "      <th>3</th>\n",
       "      <td>A759166</td>\n",
       "      <td>Yes</td>\n",
       "      <td>2017-09-28 11:03:00</td>\n",
       "      <td>Austin (TX)</td>\n",
       "      <td>Stray</td>\n",
       "      <td>Normal</td>\n",
       "      <td>Cat</td>\n",
       "      <td>Intact Male</td>\n",
       "      <td>62</td>\n",
       "      <td>Domestic Shorthair</td>\n",
       "      <td>...</td>\n",
       "      <td>2017-11-04 18:11:00</td>\n",
       "      <td>2017-07-28 00:00:00</td>\n",
       "      <td>Neutered Male</td>\n",
       "      <td>99</td>\n",
       "      <td>0</td>\n",
       "      <td>0.109769</td>\n",
       "      <td>1</td>\n",
       "      <td>1</td>\n",
       "      <td>(55.8, 92.0]</td>\n",
       "      <td>0</td>\n",
       "    </tr>\n",
       "    <tr>\n",
       "      <th>4</th>\n",
       "      <td>A696479</td>\n",
       "      <td>Yes</td>\n",
       "      <td>2015-02-05 11:51:00</td>\n",
       "      <td>Travis (TX)</td>\n",
       "      <td>Stray</td>\n",
       "      <td>Normal</td>\n",
       "      <td>Cat</td>\n",
       "      <td>Intact Male</td>\n",
       "      <td>365</td>\n",
       "      <td>Domestic Medium Hair</td>\n",
       "      <td>...</td>\n",
       "      <td>2015-02-15 11:39:00</td>\n",
       "      <td>2014-02-05 00:00:00</td>\n",
       "      <td>Neutered Male</td>\n",
       "      <td>375</td>\n",
       "      <td>0</td>\n",
       "      <td>0.109769</td>\n",
       "      <td>1</td>\n",
       "      <td>1</td>\n",
       "      <td>(212.0, 365.0]</td>\n",
       "      <td>0</td>\n",
       "    </tr>\n",
       "  </tbody>\n",
       "</table>\n",
       "<p>5 rows × 21 columns</p>\n",
       "</div>"
      ],
      "text/plain": [
       "  AnimalID Name_Provided      DateTime_Intake FoundLocation IntakeType  \\\n",
       "0  A687076           Yes  2014-08-30 17:55:00   Austin (TX)      Stray   \n",
       "1  A685139            No  2014-08-03 11:23:00   Austin (TX)      Stray   \n",
       "2  A741039           Yes  2016-12-27 11:18:00   Austin (TX)      Stray   \n",
       "3  A759166           Yes  2017-09-28 11:03:00   Austin (TX)      Stray   \n",
       "4  A696479           Yes  2015-02-05 11:51:00   Travis (TX)      Stray   \n",
       "\n",
       "  IntakeCondition AnimalType_Intake  SexuponIntake  AgeuponIntake  \\\n",
       "0          Normal               Cat  Intact Female             76   \n",
       "1           Other               Dog  Intact Female             92   \n",
       "2          Normal               Dog    Intact Male            366   \n",
       "3          Normal               Cat    Intact Male             62   \n",
       "4          Normal               Cat    Intact Male            365   \n",
       "\n",
       "           Breed_Intake  ...     DateTime_Outcome          DateofBirth  \\\n",
       "0    Domestic Shorthair  ...  2014-09-05 14:33:00  2014-06-15 00:00:00   \n",
       "1      Other Dog Breeds  ...  2014-08-07 18:09:00  2014-05-03 00:00:00   \n",
       "2      Other Dog Breeds  ...  2017-01-01 15:27:00  2015-12-27 00:00:00   \n",
       "3    Domestic Shorthair  ...  2017-11-04 18:11:00  2017-07-28 00:00:00   \n",
       "4  Domestic Medium Hair  ...  2015-02-15 11:39:00  2014-02-05 00:00:00   \n",
       "\n",
       "  SexuponOutcome AgeuponOutcome  binary_outcome   percent  SexKnown  CatOrDog  \\\n",
       "0  Spayed Female             82               0  0.109769         1         1   \n",
       "1  Spayed Female             96               0  0.109769         1         1   \n",
       "2    Intact Male            371               0  0.109769         1         1   \n",
       "3  Neutered Male             99               0  0.109769         1         1   \n",
       "4  Neutered Male            375               0  0.109769         1         1   \n",
       "\n",
       "   AgeIntake_bins SickOrInjured  \n",
       "0    (55.8, 92.0]             0  \n",
       "1    (55.8, 92.0]             0  \n",
       "2  (365.0, 427.6]             0  \n",
       "3    (55.8, 92.0]             0  \n",
       "4  (212.0, 365.0]             0  \n",
       "\n",
       "[5 rows x 21 columns]"
      ]
     },
     "execution_count": 3,
     "metadata": {},
     "output_type": "execute_result"
    }
   ],
   "source": [
    "df.head(5)"
   ]
  },
  {
   "cell_type": "code",
   "execution_count": 4,
   "metadata": {},
   "outputs": [
    {
     "data": {
      "text/plain": [
       "(1000, 21)"
      ]
     },
     "execution_count": 4,
     "metadata": {},
     "output_type": "execute_result"
    }
   ],
   "source": [
    "#look at the shape of the dataset\n",
    "df.shape"
   ]
  },
  {
   "cell_type": "markdown",
   "metadata": {},
   "source": [
    "We will now look at the datatypes of our features after importing the csv. "
   ]
  },
  {
   "cell_type": "code",
   "execution_count": 5,
   "metadata": {},
   "outputs": [
    {
     "data": {
      "text/plain": [
       "AnimalID              object\n",
       "Name_Provided         object\n",
       "DateTime_Intake       object\n",
       "FoundLocation         object\n",
       "IntakeType            object\n",
       "IntakeCondition       object\n",
       "AnimalType_Intake     object\n",
       "SexuponIntake         object\n",
       "AgeuponIntake          int64\n",
       "Breed_Intake          object\n",
       "Color_Intake          object\n",
       "DateTime_Outcome      object\n",
       "DateofBirth           object\n",
       "SexuponOutcome        object\n",
       "AgeuponOutcome         int64\n",
       "binary_outcome         int64\n",
       "percent              float64\n",
       "SexKnown               int64\n",
       "CatOrDog               int64\n",
       "AgeIntake_bins        object\n",
       "SickOrInjured          int64\n",
       "dtype: object"
      ]
     },
     "execution_count": 5,
     "metadata": {},
     "output_type": "execute_result"
    }
   ],
   "source": [
    "df.dtypes"
   ]
  },
  {
   "cell_type": "markdown",
   "metadata": {},
   "source": [
    "We can see that the datatpyes of some features have reverted back to type \"object\". We will now convert these features back to their appropriate types. "
   ]
  },
  {
   "cell_type": "code",
   "execution_count": 6,
   "metadata": {},
   "outputs": [],
   "source": [
    "#convert all objects to categories\n",
    "object_columns = df.select_dtypes(['object']).columns\n",
    "for column in object_columns:\n",
    "    df[column] = df[column].astype('category')\n",
    "\n",
    "#convert animal ID to an object type\n",
    "df['AnimalID'] = df['AnimalID'].astype('object')  \n",
    "\n",
    "#convert the new features 'SexKnown','CatOrDog' and 'SickOrInjured' back to category type as this \n",
    "#is how they were implemented in homework1.\n",
    "new_features = ['SexKnown','CatOrDog', 'SickOrInjured']\n",
    "for column in new_features:\n",
    "    df[column] = df[column].astype('category')\n",
    "    \n",
    "#convert all date features to datetime types\n",
    "date_columns = ['DateTime_Intake', 'DateTime_Outcome', 'DateofBirth']\n",
    "for column in date_columns: \n",
    "    df[column] = df[column].astype('datetime64')"
   ]
  },
  {
   "cell_type": "markdown",
   "metadata": {},
   "source": [
    "We will now remove the feature 'percent'. This was generating while implementing bar plots in homework1 and should not be part of the dataset. "
   ]
  },
  {
   "cell_type": "code",
   "execution_count": 8,
   "metadata": {},
   "outputs": [],
   "source": [
    "#drop the feature 'percent'\n",
    "df = df.drop(\"percent\", 1)"
   ]
  },
  {
   "cell_type": "markdown",
   "metadata": {},
   "source": [
    "### Further cleaning steps\n",
    "\n",
    "As mentioned above, before going any further there is another cleaning step required. In homework1 the features *DateTime_Intake* and *DateTime_Outcome* were explored. It was found that there were some data integrity issues and these were dealt with in homework1. However, it was not deemed necessary at the time to split these features into categorical features representing the year, month and day. Before proceeding with predictive modelling we will now carry out this step. This step will make it easier to work with the high cardinality of the datetime features and it will convert them to a format which is easier to work with for predictive modelling. \n",
    "\n",
    "It is necessary to note that some investigation was done into the month and day of intakei in a temporary dataframe in homework1 and no clear relationship was seen with the binary outcome. However, at this stage in homework2 it is necessary to explore these features further before deciding which ones we will use for predictive modelling. "
   ]
  },
  {
   "cell_type": "markdown",
   "metadata": {},
   "source": [
    "We begin this step by converting the feature *DateTime_Intake* into year, month and day features. "
   ]
  },
  {
   "cell_type": "code",
   "execution_count": 9,
   "metadata": {},
   "outputs": [],
   "source": [
    "#extract the year, month and day from 'DateTime_Intake'\n",
    "df['Intake_Year']=df['DateTime_Intake'].dt.year\n",
    "df['Intake_Month']=df['DateTime_Intake'].dt.month\n",
    "df['Intake_Day']=df['DateTime_Intake'].dt.day"
   ]
  },
  {
   "cell_type": "markdown",
   "metadata": {},
   "source": [
    "We will now convert *DateTime_Intake* into year, month and day features. "
   ]
  },
  {
   "cell_type": "code",
   "execution_count": 10,
   "metadata": {},
   "outputs": [],
   "source": [
    "#extract the year, month and day from 'DateTime_Outcome'\n",
    "df['Outcome_Year']=df['DateTime_Outcome'].dt.year\n",
    "df['Outcome_Month']=df['DateTime_Outcome'].dt.month\n",
    "df['Outcome_Day']=df['DateTime_Outcome'].dt.day"
   ]
  },
  {
   "cell_type": "markdown",
   "metadata": {},
   "source": [
    "We will now convert these new features to type 'category'."
   ]
  },
  {
   "cell_type": "code",
   "execution_count": 11,
   "metadata": {},
   "outputs": [],
   "source": [
    "#convert new features to category type\n",
    "new_date_features = ['Intake_Year','Intake_Month', 'Intake_Day', 'Outcome_Year', 'Outcome_Month', 'Outcome_Day']\n",
    "for column in new_date_features: \n",
    "    df[column] = df[column].astype('category')"
   ]
  },
  {
   "cell_type": "code",
   "execution_count": 12,
   "metadata": {},
   "outputs": [
    {
     "data": {
      "text/plain": [
       "AnimalID                     object\n",
       "Name_Provided              category\n",
       "DateTime_Intake      datetime64[ns]\n",
       "FoundLocation              category\n",
       "IntakeType                 category\n",
       "IntakeCondition            category\n",
       "AnimalType_Intake          category\n",
       "SexuponIntake              category\n",
       "AgeuponIntake                 int64\n",
       "Breed_Intake               category\n",
       "Color_Intake               category\n",
       "DateTime_Outcome     datetime64[ns]\n",
       "DateofBirth          datetime64[ns]\n",
       "SexuponOutcome             category\n",
       "AgeuponOutcome                int64\n",
       "binary_outcome                int64\n",
       "SexKnown                   category\n",
       "CatOrDog                   category\n",
       "AgeIntake_bins             category\n",
       "SickOrInjured              category\n",
       "Intake_Year                category\n",
       "Intake_Month               category\n",
       "Intake_Day                 category\n",
       "Outcome_Year               category\n",
       "Outcome_Month              category\n",
       "Outcome_Day                category\n",
       "dtype: object"
      ]
     },
     "execution_count": 12,
     "metadata": {},
     "output_type": "execute_result"
    }
   ],
   "source": [
    "df.dtypes"
   ]
  },
  {
   "cell_type": "markdown",
   "metadata": {},
   "source": [
    "The features *DateTime_Intake* and *DateTime_Outcome* were of type datetime64. The new year, month and day features extracted from these have a much lower cardinality and are in a format that is much more useful for predictive modelling. \n",
    "\n",
    "We can now drop the original features *DateTime_Intake* and *DateTime_Outcome* as we have extracted all important information and no information will be lost. "
   ]
  },
  {
   "cell_type": "code",
   "execution_count": 13,
   "metadata": {},
   "outputs": [],
   "source": [
    "#drop the features 'DateTime_Intake' and'DateTime_Outcome'\n",
    "df = df.drop('DateTime_Intake', 1)\n",
    "df = df.drop('DateTime_Outcome', 1)"
   ]
  },
  {
   "cell_type": "markdown",
   "metadata": {},
   "source": [
    "Furthermore, the feature *DateofBirth* was used to calculate the features *AgeuponIntake* and *AgeuponOutcome*. This feature will not be needed for predictive modelling as the information we need is represented by the age features. As a result, we will now drop this feature. "
   ]
  },
  {
   "cell_type": "code",
   "execution_count": 16,
   "metadata": {},
   "outputs": [],
   "source": [
    "#drop 'DateofBirth'\n",
    "df = df.drop('DateofBirth', 1)"
   ]
  },
  {
   "cell_type": "markdown",
   "metadata": {},
   "source": [
    "Missing values were dealt with in homework1. However, we will now check to ensure that there are currently no missing values in our dataset. "
   ]
  },
  {
   "cell_type": "code",
   "execution_count": 17,
   "metadata": {},
   "outputs": [
    {
     "data": {
      "text/plain": [
       "AnimalID             0\n",
       "Name_Provided        0\n",
       "FoundLocation        0\n",
       "IntakeType           0\n",
       "IntakeCondition      0\n",
       "AnimalType_Intake    0\n",
       "SexuponIntake        0\n",
       "AgeuponIntake        0\n",
       "Breed_Intake         0\n",
       "Color_Intake         0\n",
       "SexuponOutcome       0\n",
       "AgeuponOutcome       0\n",
       "binary_outcome       0\n",
       "SexKnown             0\n",
       "CatOrDog             0\n",
       "AgeIntake_bins       0\n",
       "SickOrInjured        0\n",
       "Intake_Year          0\n",
       "Intake_Month         0\n",
       "Intake_Day           0\n",
       "Outcome_Year         0\n",
       "Outcome_Month        0\n",
       "Outcome_Day          0\n",
       "dtype: int64"
      ]
     },
     "execution_count": 17,
     "metadata": {},
     "output_type": "execute_result"
    }
   ],
   "source": [
    "df.isna().sum()"
   ]
  },
  {
   "cell_type": "markdown",
   "metadata": {},
   "source": [
    "We can see that there are no missing values. We will now check the datatypes again before proceeding with plots."
   ]
  },
  {
   "cell_type": "code",
   "execution_count": 18,
   "metadata": {},
   "outputs": [
    {
     "data": {
      "text/plain": [
       "AnimalID               object\n",
       "Name_Provided        category\n",
       "FoundLocation        category\n",
       "IntakeType           category\n",
       "IntakeCondition      category\n",
       "AnimalType_Intake    category\n",
       "SexuponIntake        category\n",
       "AgeuponIntake           int64\n",
       "Breed_Intake         category\n",
       "Color_Intake         category\n",
       "SexuponOutcome       category\n",
       "AgeuponOutcome          int64\n",
       "binary_outcome          int64\n",
       "SexKnown             category\n",
       "CatOrDog             category\n",
       "AgeIntake_bins       category\n",
       "SickOrInjured        category\n",
       "Intake_Year          category\n",
       "Intake_Month         category\n",
       "Intake_Day           category\n",
       "Outcome_Year         category\n",
       "Outcome_Month        category\n",
       "Outcome_Day          category\n",
       "dtype: object"
      ]
     },
     "execution_count": 18,
     "metadata": {},
     "output_type": "execute_result"
    }
   ],
   "source": [
    "df.dtypes"
   ]
  },
  {
   "cell_type": "markdown",
   "metadata": {},
   "source": [
    "## Setup continuous and categorical types for plotting later? "
   ]
  },
  {
   "cell_type": "markdown",
   "metadata": {},
   "source": [
    "### (1.1) Randomly shuffle the rows of your dataset and split the dataset into two datasets: 70% training and 30% test. Keep the test set aside. "
   ]
  },
  {
   "cell_type": "markdown",
   "metadata": {},
   "source": [
    "Sklearn train_test_split randomly shuffles the dataset. However, we will implement an additional shuffling step beforehand as specified in the requirements. "
   ]
  },
  {
   "cell_type": "code",
   "execution_count": 19,
   "metadata": {},
   "outputs": [
    {
     "data": {
      "text/html": [
       "<div>\n",
       "<style scoped>\n",
       "    .dataframe tbody tr th:only-of-type {\n",
       "        vertical-align: middle;\n",
       "    }\n",
       "\n",
       "    .dataframe tbody tr th {\n",
       "        vertical-align: top;\n",
       "    }\n",
       "\n",
       "    .dataframe thead th {\n",
       "        text-align: right;\n",
       "    }\n",
       "</style>\n",
       "<table border=\"1\" class=\"dataframe\">\n",
       "  <thead>\n",
       "    <tr style=\"text-align: right;\">\n",
       "      <th></th>\n",
       "      <th>AnimalID</th>\n",
       "      <th>Name_Provided</th>\n",
       "      <th>FoundLocation</th>\n",
       "      <th>IntakeType</th>\n",
       "      <th>IntakeCondition</th>\n",
       "      <th>AnimalType_Intake</th>\n",
       "      <th>SexuponIntake</th>\n",
       "      <th>AgeuponIntake</th>\n",
       "      <th>Breed_Intake</th>\n",
       "      <th>Color_Intake</th>\n",
       "      <th>...</th>\n",
       "      <th>SexKnown</th>\n",
       "      <th>CatOrDog</th>\n",
       "      <th>AgeIntake_bins</th>\n",
       "      <th>SickOrInjured</th>\n",
       "      <th>Intake_Year</th>\n",
       "      <th>Intake_Month</th>\n",
       "      <th>Intake_Day</th>\n",
       "      <th>Outcome_Year</th>\n",
       "      <th>Outcome_Month</th>\n",
       "      <th>Outcome_Day</th>\n",
       "    </tr>\n",
       "  </thead>\n",
       "  <tbody>\n",
       "    <tr>\n",
       "      <th>0</th>\n",
       "      <td>A687076</td>\n",
       "      <td>Yes</td>\n",
       "      <td>Austin (TX)</td>\n",
       "      <td>Stray</td>\n",
       "      <td>Normal</td>\n",
       "      <td>Cat</td>\n",
       "      <td>Intact Female</td>\n",
       "      <td>76</td>\n",
       "      <td>Domestic Shorthair</td>\n",
       "      <td>Mixed Pattern</td>\n",
       "      <td>...</td>\n",
       "      <td>1</td>\n",
       "      <td>1</td>\n",
       "      <td>(55.8, 92.0]</td>\n",
       "      <td>0</td>\n",
       "      <td>2014</td>\n",
       "      <td>8</td>\n",
       "      <td>30</td>\n",
       "      <td>2014</td>\n",
       "      <td>9</td>\n",
       "      <td>5</td>\n",
       "    </tr>\n",
       "    <tr>\n",
       "      <th>1</th>\n",
       "      <td>A685139</td>\n",
       "      <td>No</td>\n",
       "      <td>Austin (TX)</td>\n",
       "      <td>Stray</td>\n",
       "      <td>Other</td>\n",
       "      <td>Dog</td>\n",
       "      <td>Intact Female</td>\n",
       "      <td>92</td>\n",
       "      <td>Other Dog Breeds</td>\n",
       "      <td>White</td>\n",
       "      <td>...</td>\n",
       "      <td>1</td>\n",
       "      <td>1</td>\n",
       "      <td>(55.8, 92.0]</td>\n",
       "      <td>0</td>\n",
       "      <td>2014</td>\n",
       "      <td>8</td>\n",
       "      <td>3</td>\n",
       "      <td>2014</td>\n",
       "      <td>8</td>\n",
       "      <td>7</td>\n",
       "    </tr>\n",
       "    <tr>\n",
       "      <th>2</th>\n",
       "      <td>A741039</td>\n",
       "      <td>Yes</td>\n",
       "      <td>Austin (TX)</td>\n",
       "      <td>Stray</td>\n",
       "      <td>Normal</td>\n",
       "      <td>Dog</td>\n",
       "      <td>Intact Male</td>\n",
       "      <td>366</td>\n",
       "      <td>Other Dog Breeds</td>\n",
       "      <td>Black</td>\n",
       "      <td>...</td>\n",
       "      <td>1</td>\n",
       "      <td>1</td>\n",
       "      <td>(365.0, 427.6]</td>\n",
       "      <td>0</td>\n",
       "      <td>2016</td>\n",
       "      <td>12</td>\n",
       "      <td>27</td>\n",
       "      <td>2017</td>\n",
       "      <td>1</td>\n",
       "      <td>1</td>\n",
       "    </tr>\n",
       "    <tr>\n",
       "      <th>3</th>\n",
       "      <td>A759166</td>\n",
       "      <td>Yes</td>\n",
       "      <td>Austin (TX)</td>\n",
       "      <td>Stray</td>\n",
       "      <td>Normal</td>\n",
       "      <td>Cat</td>\n",
       "      <td>Intact Male</td>\n",
       "      <td>62</td>\n",
       "      <td>Domestic Shorthair</td>\n",
       "      <td>Black</td>\n",
       "      <td>...</td>\n",
       "      <td>1</td>\n",
       "      <td>1</td>\n",
       "      <td>(55.8, 92.0]</td>\n",
       "      <td>0</td>\n",
       "      <td>2017</td>\n",
       "      <td>9</td>\n",
       "      <td>28</td>\n",
       "      <td>2017</td>\n",
       "      <td>11</td>\n",
       "      <td>4</td>\n",
       "    </tr>\n",
       "    <tr>\n",
       "      <th>4</th>\n",
       "      <td>A696479</td>\n",
       "      <td>Yes</td>\n",
       "      <td>Travis (TX)</td>\n",
       "      <td>Stray</td>\n",
       "      <td>Normal</td>\n",
       "      <td>Cat</td>\n",
       "      <td>Intact Male</td>\n",
       "      <td>365</td>\n",
       "      <td>Domestic Medium Hair</td>\n",
       "      <td>Black</td>\n",
       "      <td>...</td>\n",
       "      <td>1</td>\n",
       "      <td>1</td>\n",
       "      <td>(212.0, 365.0]</td>\n",
       "      <td>0</td>\n",
       "      <td>2015</td>\n",
       "      <td>2</td>\n",
       "      <td>5</td>\n",
       "      <td>2015</td>\n",
       "      <td>2</td>\n",
       "      <td>15</td>\n",
       "    </tr>\n",
       "  </tbody>\n",
       "</table>\n",
       "<p>5 rows × 23 columns</p>\n",
       "</div>"
      ],
      "text/plain": [
       "  AnimalID Name_Provided FoundLocation IntakeType IntakeCondition  \\\n",
       "0  A687076           Yes   Austin (TX)      Stray          Normal   \n",
       "1  A685139            No   Austin (TX)      Stray           Other   \n",
       "2  A741039           Yes   Austin (TX)      Stray          Normal   \n",
       "3  A759166           Yes   Austin (TX)      Stray          Normal   \n",
       "4  A696479           Yes   Travis (TX)      Stray          Normal   \n",
       "\n",
       "  AnimalType_Intake  SexuponIntake  AgeuponIntake          Breed_Intake  \\\n",
       "0               Cat  Intact Female             76    Domestic Shorthair   \n",
       "1               Dog  Intact Female             92      Other Dog Breeds   \n",
       "2               Dog    Intact Male            366      Other Dog Breeds   \n",
       "3               Cat    Intact Male             62    Domestic Shorthair   \n",
       "4               Cat    Intact Male            365  Domestic Medium Hair   \n",
       "\n",
       "    Color_Intake  ... SexKnown  CatOrDog  AgeIntake_bins SickOrInjured  \\\n",
       "0  Mixed Pattern  ...        1         1    (55.8, 92.0]             0   \n",
       "1          White  ...        1         1    (55.8, 92.0]             0   \n",
       "2          Black  ...        1         1  (365.0, 427.6]             0   \n",
       "3          Black  ...        1         1    (55.8, 92.0]             0   \n",
       "4          Black  ...        1         1  (212.0, 365.0]             0   \n",
       "\n",
       "  Intake_Year Intake_Month Intake_Day Outcome_Year Outcome_Month Outcome_Day  \n",
       "0        2014            8         30         2014             9           5  \n",
       "1        2014            8          3         2014             8           7  \n",
       "2        2016           12         27         2017             1           1  \n",
       "3        2017            9         28         2017            11           4  \n",
       "4        2015            2          5         2015             2          15  \n",
       "\n",
       "[5 rows x 23 columns]"
      ]
     },
     "execution_count": 19,
     "metadata": {},
     "output_type": "execute_result"
    }
   ],
   "source": [
    "# randomly generate a sequence based on the dataframe index. Set this to be the new index.\n",
    "df.set_index(np.random.permutation(df.index))\n",
    "# sort the resulting random index\n",
    "df.sort_index(inplace=True)\n",
    "#Look at the first five rows of the randomly shuffled dataset\n",
    "df.head(5)"
   ]
  },
  {
   "cell_type": "markdown",
   "metadata": {},
   "source": [
    "**The dataset will now be split into two separate datasets - 70% training and 30% test.**\n",
    "- We set the target feature \"y\" to be \"binary_outcome\"\n",
    "- We feature \"x\" to be all remaining features in the dataset. The feature \"binary_outcome\" will be excluded."
   ]
  },
  {
   "cell_type": "code",
   "execution_count": 20,
   "metadata": {},
   "outputs": [],
   "source": [
    "y = pd.DataFrame(df[\"binary_outcome\"])\n",
    "X = df.drop([\"binary_outcome\"],1)"
   ]
  },
  {
   "cell_type": "markdown",
   "metadata": {},
   "source": [
    "We will now split the dataset. The parameter 'test-size' will determine the size of the training and test datasets. We will set this to 0.3 in order to split into 70% training and 30% test. The parameter 'random_state' sets a seed to the train_test_split random generator. We will set this parameter to 1 to ensure that the train/test split is the same each time this code is executed.  "
   ]
  },
  {
   "cell_type": "code",
   "execution_count": 21,
   "metadata": {},
   "outputs": [
    {
     "name": "stdout",
     "output_type": "stream",
     "text": [
      "original range is:  1000\n",
      "training range (70%):\t rows 0 to 700\n",
      "test range (30%): \t rows 700 to 1000\n"
     ]
    }
   ],
   "source": [
    "# Split the dataset into two datasets: 70% training and 30% test\n",
    "X_train, X_test, y_train, y_test = train_test_split(X, y, test_size=0.3,random_state=1)\n",
    "\n",
    "print(\"original range is: \",df.shape[0])\n",
    "print(\"training range (70%):\\t rows 0 to\", round(X_train.shape[0]))\n",
    "print(\"test range (30%): \\t rows\", round(X_train.shape[0]), \"to\", round(X_train.shape[0]) + X_test.shape[0])"
   ]
  },
  {
   "cell_type": "code",
   "execution_count": null,
   "metadata": {},
   "outputs": [],
   "source": [
    "We are now ready to plot the features. "
   ]
  },
  {
   "cell_type": "markdown",
   "metadata": {},
   "source": [
    "#### (1.2) On the training set - For each continuous feature, plot its interaction with the target feature (a plot for each pair of continuous feature and target feature). Discuss what you observe from these plots, e.g., which continuous features seem to be better at predicting the target feature? Choose a subset of continuous features you find promising (if any). Justify your choices."
   ]
  },
  {
   "cell_type": "code",
   "execution_count": null,
   "metadata": {},
   "outputs": [],
   "source": []
  }
 ],
 "metadata": {
  "kernelspec": {
   "display_name": "Python 3",
   "language": "python",
   "name": "python3"
  },
  "language_info": {
   "codemirror_mode": {
    "name": "ipython",
    "version": 3
   },
   "file_extension": ".py",
   "mimetype": "text/x-python",
   "name": "python",
   "nbconvert_exporter": "python",
   "pygments_lexer": "ipython3",
   "version": "3.7.6"
  }
 },
 "nbformat": 4,
 "nbformat_minor": 2
}
